{
 "cells": [
  {
   "cell_type": "markdown",
   "id": "distributed-guard",
   "metadata": {},
   "source": [
    "# Classification: Maximize Precision - Hotels\n",
    "---\n",
    "Libraries:"
   ]
  },
  {
   "cell_type": "code",
   "execution_count": 1,
   "id": "sticky-david",
   "metadata": {},
   "outputs": [],
   "source": [
    "import pandas as pd\n",
    "import numpy as np\n",
    "import spacy\n",
    "\n",
    "from sklearn.metrics import classification_report\n",
    "from sklearn.feature_extraction.text import TfidfVectorizer\n",
    "\n",
    "import joblib\n",
    "\n",
    "import matplotlib.pyplot as plt\n",
    "import seaborn as sns\n",
    "\n",
    "from sklearn.metrics import plot_confusion_matrix\n",
    "from sklearn.metrics import confusion_matrix"
   ]
  },
  {
   "cell_type": "markdown",
   "id": "composite-juvenile",
   "metadata": {},
   "source": [
    "Functions:"
   ]
  },
  {
   "cell_type": "code",
   "execution_count": 2,
   "id": "artistic-hierarchy",
   "metadata": {},
   "outputs": [],
   "source": [
    "# Function For Text Normalization\n",
    "def clean_text(data):\n",
    "    urls = r'http\\S+'\n",
    "    non_unicode_char = r'\\W'\n",
    "    numbers = r'[0-9_]'\n",
    "    fix_whitespace = r'\\s+'\n",
    "    single_whitespace = ' '\n",
    "    \n",
    "    data = (data.replace([urls], single_whitespace, regex=True)\n",
    "                    .replace([non_unicode_char, numbers], single_whitespace, regex=True)\n",
    "                    .replace(fix_whitespace, single_whitespace, regex=True))\n",
    "    data = data.apply(lambda s: s.lower() if type(s) == str else s)\n",
    "    return data\n",
    "\n",
    "# NLP Functions\n",
    "nlp_el = spacy.load('el_core_news_md')\n",
    "nlp_en = spacy.load('en_core_web_sm')\n",
    "STOPWORDS = set(list(spacy.lang.en.STOP_WORDS) + list(spacy.lang.el.STOP_WORDS))\n",
    "\n",
    "def remove_stopwords(row):\n",
    "    row = [str(token) for token in nlp_el(row)]\n",
    "    return [w for w in row if w not in STOPWORDS]\n",
    "\n",
    "def tokenize_lemmatize(row):\n",
    "    return [str(token.lemma_) for token in nlp_el(row)]\n"
   ]
  },
  {
   "cell_type": "markdown",
   "id": "statistical-seeking",
   "metadata": {},
   "source": [
    "Load Dataset:"
   ]
  },
  {
   "cell_type": "code",
   "execution_count": 3,
   "id": "abandoned-ceramic",
   "metadata": {},
   "outputs": [
    {
     "data": {
      "text/html": [
       "<div>\n",
       "<style scoped>\n",
       "    .dataframe tbody tr th:only-of-type {\n",
       "        vertical-align: middle;\n",
       "    }\n",
       "\n",
       "    .dataframe tbody tr th {\n",
       "        vertical-align: top;\n",
       "    }\n",
       "\n",
       "    .dataframe thead th {\n",
       "        text-align: right;\n",
       "    }\n",
       "</style>\n",
       "<table border=\"1\" class=\"dataframe\">\n",
       "  <thead>\n",
       "    <tr style=\"text-align: right;\">\n",
       "      <th></th>\n",
       "      <th>screen_name</th>\n",
       "      <th>name</th>\n",
       "      <th>description</th>\n",
       "      <th>statuses_count</th>\n",
       "      <th>friends_count</th>\n",
       "      <th>followers_count</th>\n",
       "      <th>recent_100_statuses</th>\n",
       "      <th>hotel</th>\n",
       "    </tr>\n",
       "  </thead>\n",
       "  <tbody>\n",
       "    <tr>\n",
       "      <th>0</th>\n",
       "      <td>SophiaSuites</td>\n",
       "      <td>Sophia Collection Santorini</td>\n",
       "      <td>Luxury Suites, hotels and villas Santorini com...</td>\n",
       "      <td>513</td>\n",
       "      <td>41</td>\n",
       "      <td>127</td>\n",
       "      <td>\"The tans will fade but the memories will las...</td>\n",
       "      <td>1</td>\n",
       "    </tr>\n",
       "    <tr>\n",
       "      <th>1</th>\n",
       "      <td>AnthiMariaApart</td>\n",
       "      <td>AnthiMariaApartments</td>\n",
       "      <td>Anthi Maria Beach Apartments is a self-caterin...</td>\n",
       "      <td>102</td>\n",
       "      <td>25</td>\n",
       "      <td>110</td>\n",
       "      <td>Our fantastic New and Improved abc online web...</td>\n",
       "      <td>1</td>\n",
       "    </tr>\n",
       "    <tr>\n",
       "      <th>2</th>\n",
       "      <td>wEndowproject</td>\n",
       "      <td>wEndow project</td>\n",
       "      <td>WEndow Escape Resort &amp; Villas | Tailor-made Ad...</td>\n",
       "      <td>350</td>\n",
       "      <td>344</td>\n",
       "      <td>103</td>\n",
       "      <td>https://t.co/DHuXrG8G6o For those who still d...</td>\n",
       "      <td>1</td>\n",
       "    </tr>\n",
       "    <tr>\n",
       "      <th>3</th>\n",
       "      <td>paphotels</td>\n",
       "      <td>paphotels</td>\n",
       "      <td>The best of Greek hospitality! Follow us, visi...</td>\n",
       "      <td>975</td>\n",
       "      <td>1182</td>\n",
       "      <td>475</td>\n",
       "      <td>@AlbertBourla 💯💯💯💯💯 Happy Easter !!!🐣 @paphot...</td>\n",
       "      <td>1</td>\n",
       "    </tr>\n",
       "    <tr>\n",
       "      <th>4</th>\n",
       "      <td>medpalace</td>\n",
       "      <td>Mediterranean Palace</td>\n",
       "      <td>A cozy 5 star hotel in the city center with an...</td>\n",
       "      <td>269</td>\n",
       "      <td>543</td>\n",
       "      <td>381</td>\n",
       "      <td>https://t.co/WPCR6KSnw2 New era!\\nNew Brand! ...</td>\n",
       "      <td>1</td>\n",
       "    </tr>\n",
       "  </tbody>\n",
       "</table>\n",
       "</div>"
      ],
      "text/plain": [
       "       screen_name                         name  \\\n",
       "0     SophiaSuites  Sophia Collection Santorini   \n",
       "1  AnthiMariaApart         AnthiMariaApartments   \n",
       "2    wEndowproject               wEndow project   \n",
       "3        paphotels                    paphotels   \n",
       "4        medpalace         Mediterranean Palace   \n",
       "\n",
       "                                         description  statuses_count  \\\n",
       "0  Luxury Suites, hotels and villas Santorini com...             513   \n",
       "1  Anthi Maria Beach Apartments is a self-caterin...             102   \n",
       "2  WEndow Escape Resort & Villas | Tailor-made Ad...             350   \n",
       "3  The best of Greek hospitality! Follow us, visi...             975   \n",
       "4  A cozy 5 star hotel in the city center with an...             269   \n",
       "\n",
       "   friends_count  followers_count  \\\n",
       "0             41              127   \n",
       "1             25              110   \n",
       "2            344              103   \n",
       "3           1182              475   \n",
       "4            543              381   \n",
       "\n",
       "                                 recent_100_statuses  hotel  \n",
       "0   \"The tans will fade but the memories will las...      1  \n",
       "1   Our fantastic New and Improved abc online web...      1  \n",
       "2   https://t.co/DHuXrG8G6o For those who still d...      1  \n",
       "3   @AlbertBourla 💯💯💯💯💯 Happy Easter !!!🐣 @paphot...      1  \n",
       "4   https://t.co/WPCR6KSnw2 New era!\\nNew Brand! ...      1  "
      ]
     },
     "execution_count": 3,
     "metadata": {},
     "output_type": "execute_result"
    }
   ],
   "source": [
    "validation_set = pd.read_csv('../../../../datasets/Hotels/classification/hotels-validation-set.csv')\n",
    "validation_set = validation_set.replace(np.nan, '')\n",
    "validation_set.head()"
   ]
  },
  {
   "cell_type": "code",
   "execution_count": 5,
   "id": "foster-needle",
   "metadata": {},
   "outputs": [
    {
     "ename": "NameError",
     "evalue": "name 'validation_set' is not defined",
     "output_type": "error",
     "traceback": [
      "\u001b[0;31m---------------------------------------------------------------------------\u001b[0m",
      "\u001b[0;31mNameError\u001b[0m                                 Traceback (most recent call last)",
      "\u001b[0;32m<ipython-input-5-1232aa76c0c1>\u001b[0m in \u001b[0;36m<module>\u001b[0;34m\u001b[0m\n\u001b[1;32m      1\u001b[0m \u001b[0;31m# Variable to Hold predicted labels\u001b[0m\u001b[0;34m\u001b[0m\u001b[0;34m\u001b[0m\u001b[0;34m\u001b[0m\u001b[0m\n\u001b[1;32m      2\u001b[0m \u001b[0mpredictions\u001b[0m \u001b[0;34m=\u001b[0m \u001b[0mpd\u001b[0m\u001b[0;34m.\u001b[0m\u001b[0mDataFrame\u001b[0m\u001b[0;34m(\u001b[0m\u001b[0;34m)\u001b[0m\u001b[0;34m\u001b[0m\u001b[0;34m\u001b[0m\u001b[0m\n\u001b[0;32m----> 3\u001b[0;31m \u001b[0mpredictions\u001b[0m\u001b[0;34m[\u001b[0m\u001b[0;34m'screen_name'\u001b[0m\u001b[0;34m]\u001b[0m \u001b[0;34m=\u001b[0m \u001b[0mvalidation_set\u001b[0m\u001b[0;34m[\u001b[0m\u001b[0;34m'screen_name'\u001b[0m\u001b[0;34m]\u001b[0m\u001b[0;34m\u001b[0m\u001b[0;34m\u001b[0m\u001b[0m\n\u001b[0m\u001b[1;32m      4\u001b[0m \u001b[0mpredictions\u001b[0m\u001b[0;34m[\u001b[0m\u001b[0;34m'true_label'\u001b[0m\u001b[0;34m]\u001b[0m \u001b[0;34m=\u001b[0m \u001b[0mvalidation_set\u001b[0m\u001b[0;34m[\u001b[0m\u001b[0;34m'hotel'\u001b[0m\u001b[0;34m]\u001b[0m\u001b[0;34m\u001b[0m\u001b[0;34m\u001b[0m\u001b[0m\n",
      "\u001b[0;31mNameError\u001b[0m: name 'validation_set' is not defined"
     ]
    }
   ],
   "source": [
    "# Variable to Hold predicted labels \n",
    "predictions = pd.DataFrame()\n",
    "predictions['screen_name'] = validation_set['screen_name']\n",
    "predictions['true_label'] = validation_set['hotel']"
   ]
  },
  {
   "cell_type": "markdown",
   "id": "excited-lotus",
   "metadata": {},
   "source": [
    "# Case 1: Lower threshold\n",
    "---"
   ]
  },
  {
   "cell_type": "code",
   "execution_count": 5,
   "id": "regional-castle",
   "metadata": {},
   "outputs": [],
   "source": [
    "def get_text_data_hotel_nd(df):\n",
    "    df['textdata'] = clean_text(df['name'] + ' ' + df['description'])\n",
    "    df['textdata'] = df['textdata'].apply(lambda row: tokenize_lemmatize(row))\n",
    "    df['textdata'] = df['textdata'].apply(lambda row: ' '.join(row))\n",
    "    df['textdata'] = df['textdata'].apply(lambda row: remove_stopwords(row))\n",
    "    df['textdata'] = df['textdata'].apply(lambda row: ' '.join(row))\n",
    "    \n",
    "    return df.textdata\n",
    "\n",
    "# Load the model\n",
    "model_nd = joblib.load('../classifiers/classifier_hotel_nd.sav')\n",
    "\n",
    "\n",
    "predicted_proba = model_nd.predict_proba(validation_set)"
   ]
  },
  {
   "cell_type": "code",
   "execution_count": 6,
   "id": "waiting-shore",
   "metadata": {},
   "outputs": [],
   "source": [
    "def get_labels(predicted_proba, threshold):\n",
    "    labels = []\n",
    "    for proba in predicted_proba[:,1]:\n",
    "        if proba > threshold:\n",
    "            labels.append(1)\n",
    "        else:\n",
    "            labels.append(0)\n",
    "    return labels\n",
    "\n",
    "\n",
    "labels_50 = get_labels(predicted_proba,0.50)\n",
    "labels_40 = get_labels(predicted_proba,0.40)"
   ]
  },
  {
   "cell_type": "code",
   "execution_count": 7,
   "id": "criminal-rhythm",
   "metadata": {},
   "outputs": [],
   "source": [
    "from sklearn.metrics import precision_score, recall_score\n",
    "\n",
    "y_true = validation_set.hotel\n",
    "\n",
    "y_pred = labels_50\n",
    "prec_50, rec_50 = precision_score(y_true, y_pred, pos_label=1).round(2), recall_score(y_true, y_pred, pos_label=1).round(2)\n",
    "\n",
    "y_pred = labels_40\n",
    "prec_40, rec_40 = precision_score(y_true, y_pred, pos_label=1).round(2), recall_score(y_true, y_pred, pos_label=1).round(2)\n",
    "\n",
    "y_pred = labels_50\n",
    "prec_50_others, rec_50_others = precision_score(y_true, y_pred, pos_label=0).round(2), recall_score(y_true, y_pred, pos_label=0).round(2)\n",
    "\n",
    "y_pred = labels_40\n",
    "prec_40_others, rec_40_others = precision_score(y_true, y_pred, pos_label=0).round(2), recall_score(y_true, y_pred, pos_label=0).round(2)"
   ]
  },
  {
   "cell_type": "code",
   "execution_count": 8,
   "id": "governmental-membership",
   "metadata": {},
   "outputs": [
    {
     "name": "stdout",
     "output_type": "stream",
     "text": [
      "---- Metrics for Class Others ----\n",
      "Threshold= 0.50 --> Precision= 0.86, Recall=1.0\n",
      "Threshold= 0.40 --> Precision= 0.89, Recall=1.0\n"
     ]
    },
    {
     "data": {
      "image/png": "[encoded data removed]",
      "text/plain": [
       "<Figure size 540x360 with 1 Axes>"
      ]
     },
     "metadata": {
      "needs_background": "light"
     },
     "output_type": "display_data"
    }
   ],
   "source": [
    "fig, ax = plt.subplots(figsize=[7.5,5])\n",
    "plot = sns.scatterplot(x=validation_set.index, y = predicted_proba[:,1], hue=validation_set.hotel)\n",
    "plot.axhline(0.5, ls='--', c='green', label='1')\n",
    "plot.axhline(0.40, ls='--', c='blue', label='2')\n",
    "\n",
    "labels = [f'Threshold= 0.50 --> Precision= {prec_50}, Recall={rec_50}',\n",
    "          f'Threshold= 0.40 --> Precision= {prec_40}, Recall={rec_40}', \n",
    "          \"Others\", \n",
    "          \"Hotels\"]\n",
    "handles, _ = ax.get_legend_handles_labels()\n",
    "\n",
    "# Slice list to remove first handle\n",
    "plt.legend(handles = handles, labels = labels, bbox_to_anchor=(1.1,0.90), loc=2, borderaxespad=0., fontsize='x-large')\n",
    "\n",
    "\n",
    "print('---- Metrics for Class Others ----')\n",
    "print(f'Threshold= 0.50 --> Precision= {prec_50_others}, Recall={rec_50_others}')\n",
    "print(f'Threshold= 0.40 --> Precision= {prec_40_others}, Recall={rec_40_others}')"
   ]
  },
  {
   "cell_type": "markdown",
   "id": "pharmaceutical-computer",
   "metadata": {},
   "source": [
    "# Train using class weights"
   ]
  },
  {
   "cell_type": "code",
   "execution_count": 4,
   "id": "retired-recruitment",
   "metadata": {},
   "outputs": [],
   "source": [
    "import pandas as pd\n",
    "import numpy as np\n",
    "import matplotlib.pyplot as plt\n",
    "import spacy\n",
    "import json\n",
    "import tweepy\n",
    "import time\n",
    "\n",
    "from tqdm.notebook import tqdm\n",
    "from sklearn.feature_extraction.text import TfidfVectorizer\n",
    "from sklearn.feature_extraction.text import CountVectorizer\n",
    "from sklearn.model_selection import cross_validate\n",
    "from sklearn.preprocessing import FunctionTransformer\n",
    "\n",
    "from sklearn import svm\n",
    "from sklearn.neighbors import KNeighborsClassifier\n",
    "from sklearn.linear_model import LogisticRegression\n",
    "\n",
    "from sklearn.model_selection import GridSearchCV\n",
    "from sklearn.pipeline import Pipeline\n",
    "\n",
    "import joblib\n",
    "\n",
    "from sklearn.metrics import precision_score, recall_score\n",
    "\n",
    "# Function For Text Normalization\n",
    "def clean_text(data):\n",
    "    urls = r'http\\S+'\n",
    "    non_unicode_char = r'\\W'\n",
    "    numbers = r'[0-9_]'\n",
    "    fix_whitespace = r'\\s+'\n",
    "    single_whitespace = ' '\n",
    "    \n",
    "    data = (data.replace([urls], single_whitespace, regex=True)\n",
    "                    .replace([non_unicode_char, numbers], single_whitespace, regex=True)\n",
    "                    .replace(fix_whitespace, single_whitespace, regex=True))\n",
    "    data = data.apply(lambda s: s.lower() if type(s) == str else s)\n",
    "    return data\n",
    "\n",
    "nlp_el = spacy.load('el_core_news_md')\n",
    "nlp_en = spacy.load('en_core_web_sm')\n",
    "STOPWORDS = set(list(spacy.lang.en.STOP_WORDS) + list(spacy.lang.el.STOP_WORDS))\n",
    "\n",
    "def remove_stopwords(row):\n",
    "    row = [str(token) for token in nlp_el(row)]\n",
    "    return [w for w in row if w not in STOPWORDS]\n",
    "\n",
    "def tokenize_lemmatize(row):\n",
    "    return [str(token.lemma_) for token in nlp_el(row)]\n",
    "\n",
    "def tokenize_lemmatize_en(row):\n",
    "    return [str(token.lemma_) for token in nlp_en(row)]"
   ]
  },
  {
   "cell_type": "code",
   "execution_count": 5,
   "id": "split-image",
   "metadata": {},
   "outputs": [],
   "source": [
    "# Read Training Set\n",
    "training_set = pd.read_csv('../../../../datasets/Hotels/classification/hotels-training-set.csv', \n",
    "                           usecols=['screen_name', 'name', 'description', 'hotel'])\n",
    "training_set = training_set.replace(np.nan, '')"
   ]
  },
  {
   "cell_type": "code",
   "execution_count": 6,
   "id": "welsh-genre",
   "metadata": {},
   "outputs": [],
   "source": [
    "def get_text_data_hotel_nd(df):\n",
    "    df = df.copy()\n",
    "    df['textdata'] = clean_text(df['name'] + ' ' + df['description'])\n",
    "    df['textdata'] = df['textdata'].apply(lambda row: tokenize_lemmatize(row))\n",
    "    df['textdata'] = df['textdata'].apply(lambda row: ' '.join(row))\n",
    "    df['textdata'] = df['textdata'].apply(lambda row: tokenize_lemmatize_en(row))\n",
    "    df['textdata'] = df['textdata'].apply(lambda row: ' '.join(row))\n",
    "    df['textdata'] = df['textdata'].apply(lambda row: remove_stopwords(row))\n",
    "    df['textdata'] = df['textdata'].apply(lambda row: ' '.join(row))\n",
    "    \n",
    "    return df.textdata\n",
    "\n",
    "\n",
    "get_text = FunctionTransformer(get_text_data_hotel_nd)"
   ]
  },
  {
   "cell_type": "code",
   "execution_count": 7,
   "id": "approximate-thomas",
   "metadata": {},
   "outputs": [
    {
     "data": {
      "application/vnd.jupyter.widget-view+json": {
       "model_id": "e715413cdbab4157adf7b9e852062e61",
       "version_major": 2,
       "version_minor": 0
      },
      "text/plain": [
       "  0%|          | 0/100 [00:00<?, ?it/s]"
      ]
     },
     "metadata": {},
     "output_type": "display_data"
    },
    {
     "name": "stdout",
     "output_type": "stream",
     "text": [
      "(0.5, 1.0, {0: 0.0, 1: 1.0})\n",
      "(0.5, 1.0, {0: 0.01, 1: 0.99})\n",
      "(0.5, 1.0, {0: 0.02, 1: 0.98})\n",
      "(0.5, 1.0, {0: 0.03, 1: 0.97})\n",
      "(0.5, 1.0, {0: 0.04, 1: 0.96})\n",
      "(0.5, 1.0, {0: 0.05, 1: 0.95})\n",
      "(0.5, 1.0, {0: 0.06, 1: 0.94})\n",
      "(0.5, 1.0, {0: 0.07, 1: 0.93})\n",
      "(0.5, 1.0, {0: 0.08, 1: 0.92})\n",
      "(0.5, 1.0, {0: 0.09, 1: 0.91})\n",
      "(0.5, 1.0, {0: 0.1, 1: 0.9})\n",
      "(0.5, 1.0, {0: 0.11, 1: 0.89})\n",
      "(0.5, 1.0, {0: 0.12, 1: 0.88})\n",
      "(0.5, 1.0, {0: 0.13, 1: 0.87})\n",
      "(0.5, 1.0, {0: 0.14, 1: 0.86})\n",
      "(0.5, 1.0, {0: 0.15, 1: 0.85})\n",
      "(0.5, 1.0, {0: 0.16, 1: 0.84})\n",
      "(0.5, 1.0, {0: 0.17, 1: 0.83})\n",
      "(0.5, 1.0, {0: 0.18, 1: 0.82})\n",
      "(0.5, 1.0, {0: 0.19, 1: 0.81})\n",
      "(0.5, 1.0, {0: 0.2, 1: 0.8})\n",
      "(0.5, 1.0, {0: 0.21, 1: 0.79})\n",
      "(0.5, 1.0, {0: 0.22, 1: 0.78})\n",
      "(0.5, 1.0, {0: 0.23, 1: 0.77})\n",
      "(0.5, 1.0, {0: 0.24, 1: 0.76})\n",
      "(0.5, 1.0, {0: 0.25, 1: 0.75})\n",
      "(0.5, 1.0, {0: 0.26, 1: 0.74})\n",
      "(0.5, 1.0, {0: 0.27, 1: 0.73})\n",
      "(0.5, 1.0, {0: 0.28, 1: 0.72})\n",
      "(0.5, 1.0, {0: 0.29, 1: 0.71})\n",
      "(0.5, 1.0, {0: 0.3, 1: 0.7})\n",
      "(0.5, 1.0, {0: 0.31, 1: 0.69})\n",
      "(0.5, 1.0, {0: 0.32, 1: 0.68})\n",
      "(0.5, 1.0, {0: 0.33, 1: 0.67})\n",
      "(0.5, 1.0, {0: 0.34, 1: 0.66})\n",
      "(0.5, 1.0, {0: 0.35, 1: 0.65})\n",
      "(0.5, 1.0, {0: 0.36, 1: 0.64})\n",
      "(0.5, 1.0, {0: 0.37, 1: 0.63})\n",
      "(0.5, 1.0, {0: 0.38, 1: 0.62})\n",
      "(0.5, 1.0, {0: 0.39, 1: 0.61})\n",
      "(0.5, 1.0, {0: 0.4, 1: 0.6})\n",
      "(0.5, 1.0, {0: 0.41, 1: 0.59})\n",
      "(0.5, 1.0, {0: 0.42, 1: 0.58})\n",
      "(0.5, 1.0, {0: 0.43, 1: 0.57})\n",
      "(0.5026, 1.0, {0: 0.44, 1: 0.56})\n",
      "(0.5052, 1.0, {0: 0.45, 1: 0.55})\n",
      "(0.5156, 1.0, {0: 0.46, 1: 0.54})\n",
      "(0.5266, 1.0, {0: 0.47, 1: 0.53})\n",
      "(0.5351, 1.0, {0: 0.48, 1: 0.52})\n",
      "(0.5765, 1.0, {0: 0.49, 1: 0.51})\n",
      "(0.8817, 0.7528, {0: 0.5, 1: 0.5})\n",
      "(1.0, 0.4302, {0: 0.51, 1: 0.49})\n",
      "(1.0, 0.3999, {0: 0.52, 1: 0.48})\n",
      "(1.0, 0.3402, {0: 0.53, 1: 0.47})\n",
      "(1.0, 0.2903, {0: 0.54, 1: 0.46})\n",
      "(1.0, 0.2499, {0: 0.55, 1: 0.45})\n",
      "(1.0, 0.2299, {0: 0.56, 1: 0.44})\n",
      "(1.0, 0.21, {0: 0.57, 1: 0.43})\n",
      "(1.0, 0.1898, {0: 0.58, 1: 0.42})\n",
      "(1.0, 0.1598, {0: 0.59, 1: 0.41})\n",
      "(1.0, 0.15, {0: 0.6, 1: 0.4})\n",
      "(1.0, 0.1399, {0: 0.61, 1: 0.39})\n",
      "(1.0, 0.1399, {0: 0.62, 1: 0.38})\n",
      "(1.0, 0.1298, {0: 0.63, 1: 0.37})\n",
      "(1.0, 0.1001, {0: 0.64, 1: 0.36})\n",
      "(1.0, 0.0903, {0: 0.65, 1: 0.35})\n",
      "(1.0, 0.0802, {0: 0.66, 1: 0.34})\n",
      "(1.0, 0.0802, {0: 0.67, 1: 0.33})\n",
      "(1.0, 0.0802, {0: 0.68, 1: 0.32})\n",
      "(1.0, 0.0802, {0: 0.69, 1: 0.31})\n",
      "(1.0, 0.0802, {0: 0.7, 1: 0.3})\n",
      "(1.0, 0.0701, {0: 0.71, 1: 0.29})\n",
      "(1.0, 0.0701, {0: 0.72, 1: 0.28})\n",
      "(1.0, 0.0297, {0: 0.73, 1: 0.27})\n",
      "(1.0, 0.0101, {0: 0.74, 1: 0.26})\n",
      "(1.0, 0.0, {0: 0.75, 1: 0.25})\n",
      "(1.0, 0.0, {0: 0.76, 1: 0.24})\n",
      "(1.0, 0.0, {0: 0.77, 1: 0.23})\n",
      "(1.0, 0.0, {0: 0.78, 1: 0.22})\n",
      "(1.0, 0.0, {0: 0.79, 1: 0.21})\n",
      "(1.0, 0.0, {0: 0.8, 1: 0.2})\n",
      "(1.0, 0.0, {0: 0.81, 1: 0.19})\n",
      "(1.0, 0.0, {0: 0.82, 1: 0.18})\n",
      "(1.0, 0.0, {0: 0.83, 1: 0.17})\n",
      "(1.0, 0.0, {0: 0.84, 1: 0.16})\n",
      "(1.0, 0.0, {0: 0.85, 1: 0.15})\n",
      "(1.0, 0.0, {0: 0.86, 1: 0.14})\n",
      "(1.0, 0.0, {0: 0.87, 1: 0.13})\n",
      "(1.0, 0.0, {0: 0.88, 1: 0.12})\n",
      "(1.0, 0.0, {0: 0.89, 1: 0.11})\n",
      "(1.0, 0.0, {0: 0.9, 1: 0.1})\n",
      "(1.0, 0.0, {0: 0.91, 1: 0.09})\n",
      "(1.0, 0.0, {0: 0.92, 1: 0.08})\n",
      "(1.0, 0.0, {0: 0.93, 1: 0.07})\n",
      "(1.0, 0.0, {0: 0.94, 1: 0.06})\n",
      "(1.0, 0.0, {0: 0.95, 1: 0.05})\n",
      "(1.0, 0.0, {0: 0.96, 1: 0.04})\n",
      "(1.0, 0.0, {0: 0.97, 1: 0.03})\n",
      "(1.0, 0.0, {0: 0.98, 1: 0.02})\n",
      "(1.0, 0.0, {0: 0.99, 1: 0.01})\n"
     ]
    }
   ],
   "source": [
    "weights = np.linspace(0.,0.99,100)\n",
    "weights = [weight.round(4) for weight in weights]\n",
    "params = [{0:x, 1:(1.0-x).round(4)} for x in weights]\n",
    "\n",
    "X = training_set\n",
    "y = training_set['hotel']\n",
    "\n",
    "def score_fun_rec(estimator, X_test, y_true):\n",
    "    y_pred = estimator.predict(X_test)\n",
    "    return recall_score(y_true, y_pred, pos_label=1, zero_division=1)\n",
    "                        \n",
    "def score_fun_pre(estimator, X_test, y_true):\n",
    "    y_pred = estimator.predict(X_test)\n",
    "    return precision_score(y_true, y_pred, pos_label=1, zero_division=1)                       \n",
    "                        \n",
    "\n",
    "precisions = []\n",
    "recalls = []\n",
    "ws = []\n",
    "for param in tqdm(params):\n",
    "    pipeline = Pipeline([\n",
    "        ('selector', get_text),\n",
    "        ('tfidf', TfidfVectorizer(max_df=0.5, max_features=2000, min_df=1)),\n",
    "        ('svm', svm.SVC(kernel='rbf', C=1, probability=True, class_weight=param))\n",
    "        ])\n",
    "    cv_score= cross_validate(pipeline, X, y, cv=3, scoring={'recall':score_fun_rec, 'precision':score_fun_pre})\n",
    "    prec = cv_score['test_precision'].mean().round(4)\n",
    "    reca = cv_score['test_recall'].mean().round(4)\n",
    "    \n",
    "    precisions.append(prec)\n",
    "    recalls.append(reca)\n",
    "    ws.append(param[1])\n",
    "    print((prec,reca, param))"
   ]
  },
  {
   "cell_type": "code",
   "execution_count": 9,
   "id": "employed-radio",
   "metadata": {},
   "outputs": [
    {
     "data": {
      "text/plain": [
       "<AxesSubplot:>"
      ]
     },
     "execution_count": 9,
     "metadata": {},
     "output_type": "execute_result"
    },
    {
     "data": {
      "image/png": "[encoded data removed]",
      "text/plain": [
       "<Figure size 432x288 with 1 Axes>"
      ]
     },
     "metadata": {
      "needs_background": "light"
     },
     "output_type": "display_data"
    }
   ],
   "source": [
    "sns.lineplot(x=ws[40:60], y=precisions[40:60], marker = 'o', label='Precision Scores')\n",
    "sns.lineplot(x=ws[40:60], y=recalls[40:60], marker = 'X', label='Recall Scores')"
   ]
  },
  {
   "cell_type": "code",
   "execution_count": 10,
   "id": "correct-henry",
   "metadata": {},
   "outputs": [],
   "source": [
    "X = training_set\n",
    "y = training_set['hotel']\n",
    "\n",
    "pipeline = Pipeline([\n",
    "        ('selector', get_text),\n",
    "        ('tfidf', TfidfVectorizer(max_df=0.5, max_features=2000, min_df=1)),\n",
    "        ('svm', svm.SVC(kernel='rbf', C=1, probability=True, class_weight={0:1-0.51, 1:0.51}))\n",
    "        ]).fit(X,y)"
   ]
  },
  {
   "cell_type": "code",
   "execution_count": 11,
   "id": "provincial-revolution",
   "metadata": {},
   "outputs": [],
   "source": [
    "y_pred = pipeline.predict(validation_set)"
   ]
  },
  {
   "cell_type": "code",
   "execution_count": 12,
   "id": "changing-sauce",
   "metadata": {},
   "outputs": [
    {
     "name": "stdout",
     "output_type": "stream",
     "text": [
      "              precision    recall  f1-score   support\n",
      "\n",
      "   Not-Hotel       0.93      1.00      0.96        25\n",
      "       Hotel       1.00      0.92      0.96        25\n",
      "\n",
      "    accuracy                           0.96        50\n",
      "   macro avg       0.96      0.96      0.96        50\n",
      "weighted avg       0.96      0.96      0.96        50\n",
      "\n"
     ]
    },
    {
     "data": {
      "text/plain": [
       "<sklearn.metrics._plot.confusion_matrix.ConfusionMatrixDisplay at 0x7fe6cdc203d0>"
      ]
     },
     "execution_count": 12,
     "metadata": {},
     "output_type": "execute_result"
    },
    {
     "data": {
      "image/png": "[encoded data removed]",
      "text/plain": [
       "<Figure size 432x288 with 2 Axes>"
      ]
     },
     "metadata": {
      "needs_background": "light"
     },
     "output_type": "display_data"
    }
   ],
   "source": [
    "target_names = ['Not-Hotel', 'Hotel']\n",
    "predicted_labels = pipeline.predict(validation_set)\n",
    "print(classification_report(y_true = validation_set.hotel, y_pred=predicted_labels, target_names=target_names))\n",
    "plot_confusion_matrix(pipeline, validation_set, validation_set.hotel, display_labels=target_names, xticks_rotation=45, cmap=plt.cm.Blues)"
   ]
  },
  {
   "cell_type": "code",
   "execution_count": null,
   "id": "sophisticated-pillow",
   "metadata": {},
   "outputs": [],
   "source": []
  },
  {
   "cell_type": "code",
   "execution_count": null,
   "id": "italian-calendar",
   "metadata": {},
   "outputs": [],
   "source": []
  }
 ],
 "metadata": {
  "kernelspec": {
   "display_name": "Python 3",
   "language": "python",
   "name": "python3"
  },
  "language_info": {
   "codemirror_mode": {
    "name": "ipython",
    "version": 3
   },
   "file_extension": ".py",
   "mimetype": "text/x-python",
   "name": "python",
   "nbconvert_exporter": "python",
   "pygments_lexer": "ipython3",
   "version": "3.8.5"
  }
 },
 "nbformat": 4,
 "nbformat_minor": 5
}
