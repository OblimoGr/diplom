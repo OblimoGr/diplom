{
 "cells": [
  {
   "cell_type": "markdown",
   "id": "conceptual-brother",
   "metadata": {},
   "source": [
    "# Classification Experiment: Combining Classifiers\n",
    "---\n",
    "This Notebook, includes a series of experiments, on using a node's Social Information for classification."
   ]
  },
  {
   "cell_type": "markdown",
   "id": "peripheral-slope",
   "metadata": {},
   "source": [
    "Libraries:"
   ]
  },
  {
   "cell_type": "code",
   "execution_count": 1,
   "id": "nearby-reggae",
   "metadata": {},
   "outputs": [],
   "source": [
    "import pandas as pd\n",
    "import numpy as np\n",
    "import matplotlib.pyplot as plt\n",
    "import spacy\n",
    "import json\n",
    "import tweepy\n",
    "import time\n",
    "\n",
    "from tqdm.notebook import tqdm\n",
    "from sklearn.feature_extraction.text import TfidfVectorizer\n",
    "from sklearn.feature_extraction.text import CountVectorizer\n",
    "from sklearn.model_selection import cross_validate\n",
    "from sklearn.preprocessing import FunctionTransformer\n",
    "from sklearn.pipeline import FeatureUnion\n",
    "\n",
    "from sklearn import svm\n",
    "from sklearn.neighbors import KNeighborsClassifier\n",
    "from sklearn.linear_model import LogisticRegression\n",
    "\n",
    "from sklearn.model_selection import GridSearchCV\n",
    "from sklearn.pipeline import Pipeline\n",
    "\n",
    "import joblib\n",
    "import time \n",
    "\n",
    "import seaborn as sns\n",
    "\n",
    "from sklearn.ensemble import VotingClassifier\n",
    "from sklearn.model_selection import cross_val_score\n",
    "from sklearn.metrics import classification_report\n",
    "from sklearn.metrics import plot_confusion_matrix\n",
    "from sklearn.metrics import confusion_matrix\n",
    "\n",
    "from sklearn.metrics import accuracy_score"
   ]
  },
  {
   "cell_type": "markdown",
   "id": "velvet-particular",
   "metadata": {},
   "source": [
    "Twitter API Authentication:"
   ]
  },
  {
   "cell_type": "code",
   "execution_count": 2,
   "id": "average-petersburg",
   "metadata": {},
   "outputs": [],
   "source": [
    "twitter_credentials = []\n",
    "with open('../../../../twitter_credentials.json', 'r') as f:\n",
    "    twitter_credentials = json.load(f)\n",
    "\n",
    "auth = tweepy.OAuthHandler(twitter_credentials['consumer_key'], twitter_credentials['consumer_secret'])\n",
    "auth.set_access_token(twitter_credentials['access_token_key'],twitter_credentials['access_token_secret'])\n",
    "API = tweepy.API(auth, wait_on_rate_limit=True, wait_on_rate_limit_notify=True, timeout=60*5)"
   ]
  },
  {
   "cell_type": "code",
   "execution_count": 3,
   "id": "phantom-henry",
   "metadata": {},
   "outputs": [],
   "source": [
    "# Function For Text Normalization\n",
    "def clean_text(data):\n",
    "    urls = r'http\\S+'\n",
    "    non_unicode_char = r'\\W'\n",
    "    numbers = r'[0-9_]'\n",
    "    fix_whitespace = r'\\s+'\n",
    "    single_whitespace = ' '\n",
    "    \n",
    "    data = (data.replace([urls], single_whitespace, regex=True)\n",
    "                    .replace([non_unicode_char, numbers], single_whitespace, regex=True)\n",
    "                    .replace(fix_whitespace, single_whitespace, regex=True))\n",
    "    data = data.apply(lambda s: s.lower() if type(s) == str else s)\n",
    "    return data\n",
    "\n",
    "nlp_el = spacy.load('el_core_news_md')\n",
    "nlp_en = spacy.load('en_core_web_sm')\n",
    "STOPWORDS = set(list(spacy.lang.en.STOP_WORDS) + list(spacy.lang.el.STOP_WORDS))\n",
    "\n",
    "def remove_stopwords(row):\n",
    "    row = [str(token) for token in nlp_el(row)]\n",
    "    return [w for w in row if w not in STOPWORDS]\n",
    "\n",
    "def tokenize_lemmatize(row):\n",
    "    return [str(token.lemma_) for token in nlp_el(row)]\n",
    "\n",
    "def tokenize_lemmatize_en(row):\n",
    "    return [str(token.lemma_) for token in nlp_el(row)]"
   ]
  },
  {
   "cell_type": "markdown",
   "id": "designing-twenty",
   "metadata": {},
   "source": [
    "# Dataset\n",
    "---"
   ]
  },
  {
   "cell_type": "code",
   "execution_count": 4,
   "id": "premier-flash",
   "metadata": {},
   "outputs": [],
   "source": [
    "training_set = pd.read_csv('../../../../datasets/Hotels/classification/hotels-training-set-enhanced.csv')\n",
    "training_set = training_set.replace(np.nan, '')\n",
    "\n",
    "validation_set = pd.read_csv('../../../../datasets/Hotels/classification/hotels-validation-set-enhanced.csv')\n",
    "validation_set = validation_set.replace(np.nan, '')"
   ]
  },
  {
   "cell_type": "markdown",
   "id": "behind-designation",
   "metadata": {},
   "source": [
    "# Classifiers"
   ]
  },
  {
   "cell_type": "markdown",
   "id": "blind-annual",
   "metadata": {},
   "source": [
    "## Name Description"
   ]
  },
  {
   "cell_type": "code",
   "execution_count": 5,
   "id": "devoted-isaac",
   "metadata": {},
   "outputs": [],
   "source": [
    "def get_text_data_hotel_nd(df):\n",
    "    df['textdata'] = clean_text(df['name'] + ' ' + df['description'])\n",
    "    df['textdata'] = df['textdata'].apply(lambda row: tokenize_lemmatize(row))\n",
    "    df['textdata'] = df['textdata'].apply(lambda row: ' '.join(row))\n",
    "    df['textdata'] = df['textdata'].apply(lambda row: tokenize_lemmatize_en(row))\n",
    "    df['textdata'] = df['textdata'].apply(lambda row: ' '.join(row))\n",
    "    df['textdata'] = df['textdata'].apply(lambda row: remove_stopwords(row))\n",
    "    df['textdata'] = df['textdata'].apply(lambda row: ' '.join(row))\n",
    "    \n",
    "    return df.textdata\n",
    "\n",
    "\n",
    "get_text = FunctionTransformer(get_text_data_hotel_nd)\n",
    "\n",
    "pipeline_nd = Pipeline([\n",
    "    ('selector', get_text),\n",
    "    ('tfidf', TfidfVectorizer(max_df=0.5, max_features=1000, min_df=1)),\n",
    "    ('svm', svm.SVC(kernel='rbf', C=1, probability=True))\n",
    "])"
   ]
  },
  {
   "cell_type": "markdown",
   "id": "generic-person",
   "metadata": {},
   "source": [
    "## Statuses"
   ]
  },
  {
   "cell_type": "code",
   "execution_count": 6,
   "id": "afraid-decision",
   "metadata": {},
   "outputs": [],
   "source": [
    "def get_text_data_hotel_t(df):\n",
    "    df['textdata'] = clean_text(df['recent_100_statuses'])\n",
    "    df['textdata'] = df['textdata'].apply(lambda row: tokenize_lemmatize(row))\n",
    "    df['textdata'] = df['textdata'].apply(lambda row: ' '.join(row))\n",
    "    df['textdata'] = df['textdata'].apply(lambda row: tokenize_lemmatize_en(row))\n",
    "    df['textdata'] = df['textdata'].apply(lambda row: ' '.join(row))\n",
    "    df['textdata'] = df['textdata'].apply(lambda row: remove_stopwords(row))\n",
    "    df['textdata'] = df['textdata'].apply(lambda row: ' '.join(row))\n",
    "    \n",
    "    return df.textdata\n",
    "\n",
    "\n",
    "get_text_t = FunctionTransformer(get_text_data_hotel_t)\n",
    "\n",
    "pipeline_t = Pipeline([\n",
    "    ('selector_t', get_text_t),\n",
    "    ('tfidf', TfidfVectorizer(max_df=0.75, max_features=None, min_df=5)),\n",
    "    ('svm', svm.SVC(kernel='rbf', C=1, probability=True))\n",
    "])"
   ]
  },
  {
   "cell_type": "markdown",
   "id": "employed-address",
   "metadata": {},
   "source": [
    "## Friends"
   ]
  },
  {
   "cell_type": "code",
   "execution_count": 7,
   "id": "absolute-affiliate",
   "metadata": {},
   "outputs": [],
   "source": [
    "# Function to select the data\n",
    "def get_data_hotel_fr(df):\n",
    "    data = df['friends_hotel_count_1000'].to_numpy()\n",
    "    return data.reshape(-1,1)\n",
    "\n",
    "\n",
    "get_data = FunctionTransformer(get_data_hotel_fr)\n",
    "\n",
    "# The pipeline\n",
    "pipeline_fr = Pipeline([\n",
    "    ('selector', get_data),\n",
    "    ('svm', svm.SVC(C=0.1, kernel='sigmoid', probability=True))\n",
    "])\n"
   ]
  },
  {
   "cell_type": "markdown",
   "id": "characteristic-hearing",
   "metadata": {},
   "source": [
    "## Followers"
   ]
  },
  {
   "cell_type": "code",
   "execution_count": 8,
   "id": "israeli-traffic",
   "metadata": {},
   "outputs": [],
   "source": [
    "# Function to select the data\n",
    "def get_data_hotel_fo(df):\n",
    "    data = df['followers_hotel_count_1000'].to_numpy()\n",
    "    return data.reshape(-1,1)\n",
    "\n",
    "\n",
    "get_data_fo = FunctionTransformer(get_data_hotel_fo)\n",
    "\n",
    "# The pipeline\n",
    "pipeline_fo = Pipeline([\n",
    "    ('selector', get_data_fo),\n",
    "    ('svm', svm.SVC(C=0.1, kernel='linear', probability=True))\n",
    "])\n"
   ]
  },
  {
   "cell_type": "code",
   "execution_count": 9,
   "id": "satellite-drill",
   "metadata": {},
   "outputs": [],
   "source": [
    "predictions = pd.DataFrame()\n",
    "predictions['screen_name'] = validation_set['screen_name']\n",
    "predictions['true_label'] = validation_set['hotel']"
   ]
  },
  {
   "cell_type": "markdown",
   "id": "formal-laptop",
   "metadata": {},
   "source": [
    "# Voting Classifier \"Soft\""
   ]
  },
  {
   "cell_type": "code",
   "execution_count": 10,
   "id": "growing-palace",
   "metadata": {},
   "outputs": [],
   "source": [
    "target_names = ['Not-Hotel', 'Hotel']"
   ]
  },
  {
   "cell_type": "code",
   "execution_count": 13,
   "id": "steady-homeless",
   "metadata": {},
   "outputs": [
    {
     "name": "stdout",
     "output_type": "stream",
     "text": [
      "Fitting 5 folds for each of 7 candidates, totalling 35 fits\n",
      " Best Params: {'voting__weights': [1, 1, 0.1, 0.1]}.\n",
      " Score: 0.9199999999999999\n",
      "              precision    recall  f1-score   support\n",
      "\n",
      "   Not-Hotel       0.93      1.00      0.96        25\n",
      "       Hotel       1.00      0.92      0.96        25\n",
      "\n",
      "    accuracy                           0.96        50\n",
      "   macro avg       0.96      0.96      0.96        50\n",
      "weighted avg       0.96      0.96      0.96        50\n",
      "\n"
     ]
    },
    {
     "data": {
      "image/png": "[encoded data removed]",
      "text/plain": [
       "<Figure size 432x288 with 2 Axes>"
      ]
     },
     "metadata": {
      "needs_background": "light"
     },
     "output_type": "display_data"
    }
   ],
   "source": [
    "clf = VotingClassifier(estimators=[('nd', pipeline_nd), \n",
    "                                   ('t', pipeline_t), \n",
    "                                   ('fr', pipeline_fr), \n",
    "                                   ('fo', pipeline_fo)], \n",
    "                       voting='soft'\n",
    "                      )\n",
    "\n",
    "pipe = Pipeline([('voting', clf)])\n",
    "\n",
    "\n",
    "parameters = {'voting__weights':[[10, 10, 5, 5],\n",
    "                                 [5, 3, 1, 1],\n",
    "                                 [2, 1, 0.1, 0.1],\n",
    "                                 [1, 1, 0.1, 0.1],\n",
    "                                 [1,1,1,1],\n",
    "                                 [5,3,0.1,0.1],\n",
    "                                 [3,5,0.1,0.1]]}\n",
    "\n",
    "grid = GridSearchCV(pipe, parameters, n_jobs = 4, verbose=1)\n",
    "grid.fit(training_set, training_set.hotel)\n",
    "\n",
    "print(f' Best Params: {grid.best_params_}.\\n Score: {grid.best_score_}')\n",
    "\n",
    "\n",
    "plot_confusion_matrix(grid.best_estimator_, \n",
    "                      validation_set, \n",
    "                      validation_set.hotel, \n",
    "                      display_labels=target_names, \n",
    "                      xticks_rotation=45, \n",
    "                      cmap=plt.cm.Blues)\n",
    "\n",
    "y_pred=grid.best_estimator_.predict(validation_set)\n",
    "\n",
    "print(classification_report(y_true = validation_set.hotel, \n",
    "                            y_pred=y_pred, \n",
    "                            target_names=target_names))\n",
    "\n",
    "\n",
    "predictions['voting_soft_weights'] = y_pred"
   ]
  },
  {
   "cell_type": "markdown",
   "id": "virgin-methodology",
   "metadata": {},
   "source": [
    "## Varying Weights"
   ]
  },
  {
   "cell_type": "code",
   "execution_count": 14,
   "id": "olympic-reflection",
   "metadata": {},
   "outputs": [],
   "source": [
    "pipeline_nd.fit(training_set, training_set.hotel)\n",
    "nd_proba = pipeline_nd.predict_proba(validation_set).round(4)"
   ]
  },
  {
   "cell_type": "code",
   "execution_count": 15,
   "id": "passive-function",
   "metadata": {},
   "outputs": [],
   "source": [
    "pipeline_t.fit(training_set, training_set.hotel)\n",
    "tme_proba = pipeline_t.predict_proba(validation_set).round(4)"
   ]
  },
  {
   "cell_type": "code",
   "execution_count": 16,
   "id": "improved-terrorist",
   "metadata": {},
   "outputs": [],
   "source": [
    "pipeline_fr.fit(training_set, training_set.hotel)\n",
    "fr_proba = pipeline_fr.predict_proba(validation_set).round(4)"
   ]
  },
  {
   "cell_type": "code",
   "execution_count": 17,
   "id": "prerequisite-circulation",
   "metadata": {},
   "outputs": [],
   "source": [
    "pipeline_fo.fit(training_set, training_set.hotel)\n",
    "fo_proba = pipeline_fo.predict_proba(validation_set).round(4)"
   ]
  },
  {
   "cell_type": "code",
   "execution_count": 18,
   "id": "outdoor-divide",
   "metadata": {},
   "outputs": [
    {
     "name": "stdout",
     "output_type": "stream",
     "text": [
      "0.0 1.0\n",
      "0.0255 0.9745\n",
      "0.2402 0.7598\n",
      "0.0297 0.9703\n"
     ]
    }
   ],
   "source": [
    "print(nd_proba.min(), nd_proba.max())\n",
    "print(tme_proba.min(), tme_proba.max())\n",
    "print(fr_proba.min(), fr_proba.max())\n",
    "print(fo_proba.min(), fo_proba.max())"
   ]
  },
  {
   "cell_type": "code",
   "execution_count": 19,
   "id": "elegant-presence",
   "metadata": {},
   "outputs": [],
   "source": [
    "a = [1 for i in range(len(validation_set))]\n",
    "b = [1 for i in range(len(validation_set))]\n",
    "c = [0.5 for i in range(len(validation_set))]\n",
    "d = [0.5 for i in range(len(validation_set))]\n",
    "\n",
    "for i, description in enumerate(validation_set['description']):\n",
    "    if description == '':\n",
    "        a[i] = 0.5\n",
    "    if validation_set.iloc[i]['statuses_count'] == 0:\n",
    "        b[i] = 0\n",
    "    if validation_set.iloc[i]['friends_count'] == 0:\n",
    "        c[i] = 0\n",
    "    if validation_set.iloc[i]['followers_count'] == 0:\n",
    "        d[i] = 0\n",
    "        "
   ]
  },
  {
   "cell_type": "code",
   "execution_count": 20,
   "id": "living-february",
   "metadata": {},
   "outputs": [
    {
     "name": "stdout",
     "output_type": "stream",
     "text": [
      "              precision    recall  f1-score   support\n",
      "\n",
      "   Not-Hotel       0.93      1.00      0.96        25\n",
      "       Hotel       1.00      0.92      0.96        25\n",
      "\n",
      "    accuracy                           0.96        50\n",
      "   macro avg       0.96      0.96      0.96        50\n",
      "weighted avg       0.96      0.96      0.96        50\n",
      "\n"
     ]
    }
   ],
   "source": [
    "proba = [0 for i in range(len(validation_set))]\n",
    "for i in range(len(validation_set)):\n",
    "    proba[i] = (a[i]*nd_proba[i] + b[i]*tme_proba[i] + c[i]*fr_proba[i] + d[i]*fo_proba[i]) / (a[i]+b[i]+c[i]+d[i])\n",
    "\n",
    "\n",
    "    \n",
    "print(classification_report(y_true = validation_set.hotel, \n",
    "                            y_pred=np.argmax(proba, axis=1), \n",
    "                            target_names=target_names))"
   ]
  },
  {
   "cell_type": "code",
   "execution_count": 21,
   "id": "contemporary-residence",
   "metadata": {},
   "outputs": [
    {
     "data": {
      "text/plain": [
       "[Text(0.5, 0, 'Not-Hotel'), Text(1.5, 0, 'Hotel')]"
      ]
     },
     "execution_count": 21,
     "metadata": {},
     "output_type": "execute_result"
    },
    {
     "data": {
      "image/png": "[encoded data removed]",
      "text/plain": [
       "<Figure size 432x288 with 2 Axes>"
      ]
     },
     "metadata": {},
     "output_type": "display_data"
    }
   ],
   "source": [
    "df_cm = pd.DataFrame(confusion_matrix(y_true = validation_set.hotel, \n",
    "                            y_pred=np.argmax(proba, axis=1)), range(2), range(2))\n",
    "#plt.figure(figsize=(10,7))\n",
    "sns.set(font_scale=1) # for label size\n",
    "mtrx = sns.heatmap(df_cm, annot=True, annot_kws={\"size\": 12},\n",
    "           cmap=plt.cm.Blues,\n",
    "           xticklabels=target_names, \n",
    "            yticklabels=target_names) # font size\n",
    "\n",
    "loc, labels = plt.xticks()\n",
    "mtrx.set_xticklabels(labels, rotation=45)"
   ]
  },
  {
   "cell_type": "code",
   "execution_count": 22,
   "id": "affecting-lyric",
   "metadata": {},
   "outputs": [],
   "source": [
    "y_pred=np.argmax(proba, axis=1)\n",
    "predictions['y_pred'] = y_pred"
   ]
  },
  {
   "cell_type": "code",
   "execution_count": 23,
   "id": "extraordinary-literature",
   "metadata": {},
   "outputs": [
    {
     "data": {
      "text/html": [
       "<div>\n",
       "<style scoped>\n",
       "    .dataframe tbody tr th:only-of-type {\n",
       "        vertical-align: middle;\n",
       "    }\n",
       "\n",
       "    .dataframe tbody tr th {\n",
       "        vertical-align: top;\n",
       "    }\n",
       "\n",
       "    .dataframe thead th {\n",
       "        text-align: right;\n",
       "    }\n",
       "</style>\n",
       "<table border=\"1\" class=\"dataframe\">\n",
       "  <thead>\n",
       "    <tr style=\"text-align: right;\">\n",
       "      <th></th>\n",
       "      <th>screen_name</th>\n",
       "      <th>true_label</th>\n",
       "      <th>voting_soft_weights</th>\n",
       "      <th>y_pred</th>\n",
       "    </tr>\n",
       "  </thead>\n",
       "  <tbody>\n",
       "    <tr>\n",
       "      <th>13</th>\n",
       "      <td>alikescamping</td>\n",
       "      <td>1</td>\n",
       "      <td>0</td>\n",
       "      <td>0</td>\n",
       "    </tr>\n",
       "    <tr>\n",
       "      <th>32</th>\n",
       "      <td>MedRoyalHotel</td>\n",
       "      <td>1</td>\n",
       "      <td>0</td>\n",
       "      <td>0</td>\n",
       "    </tr>\n",
       "  </tbody>\n",
       "</table>\n",
       "</div>"
      ],
      "text/plain": [
       "      screen_name  true_label  voting_soft_weights  y_pred\n",
       "13  alikescamping           1                    0       0\n",
       "32  MedRoyalHotel           1                    0       0"
      ]
     },
     "execution_count": 23,
     "metadata": {},
     "output_type": "execute_result"
    }
   ],
   "source": [
    "predictions[predictions['true_label'] != predictions['y_pred']]"
   ]
  },
  {
   "cell_type": "code",
   "execution_count": 24,
   "id": "collect-framework",
   "metadata": {},
   "outputs": [
    {
     "data": {
      "text/plain": [
       "screen_name                   alikescamping\n",
       "name                                      a\n",
       "description                                \n",
       "statuses_count                            0\n",
       "friends_count                            11\n",
       "followers_count                          27\n",
       "recent_100_statuses                        \n",
       "hotel                                     1\n",
       "friends_hotel_count_1000                  1\n",
       "followers_hotel_count_1000                3\n",
       "mention_hotel_count                       0\n",
       "textdata                                   \n",
       "Name: 13, dtype: object"
      ]
     },
     "execution_count": 24,
     "metadata": {},
     "output_type": "execute_result"
    }
   ],
   "source": [
    "validation_set.iloc[13]"
   ]
  },
  {
   "cell_type": "code",
   "execution_count": null,
   "id": "employed-twist",
   "metadata": {},
   "outputs": [],
   "source": []
  }
 ],
 "metadata": {
  "kernelspec": {
   "display_name": "Python 3",
   "language": "python",
   "name": "python3"
  },
  "language_info": {
   "codemirror_mode": {
    "name": "ipython",
    "version": 3
   },
   "file_extension": ".py",
   "mimetype": "text/x-python",
   "name": "python",
   "nbconvert_exporter": "python",
   "pygments_lexer": "ipython3",
   "version": "3.8.5"
  }
 },
 "nbformat": 4,
 "nbformat_minor": 5
}
