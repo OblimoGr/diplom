{
 "cells": [
  {
   "cell_type": "markdown",
   "id": "higher-concert",
   "metadata": {},
   "source": [
    "# Classification: Hotels\n",
    "---\n",
    "Libraries:"
   ]
  },
  {
   "cell_type": "code",
   "execution_count": 1,
   "id": "wired-seven",
   "metadata": {},
   "outputs": [],
   "source": [
    "import pandas as pd\n",
    "import numpy as np\n",
    "import spacy\n",
    "\n",
    "from sklearn.metrics import classification_report\n",
    "from sklearn.feature_extraction.text import TfidfVectorizer\n",
    "\n",
    "import joblib\n",
    "from sklearn.manifold import TSNE\n",
    "\n",
    "import matplotlib.pyplot as plt\n",
    "import seaborn as sns\n",
    "\n",
    "from sklearn.metrics import plot_confusion_matrix\n",
    "from sklearn.metrics import confusion_matrix"
   ]
  },
  {
   "cell_type": "markdown",
   "id": "excited-thunder",
   "metadata": {},
   "source": [
    "Functions:"
   ]
  },
  {
   "cell_type": "code",
   "execution_count": 2,
   "id": "portuguese-plumbing",
   "metadata": {},
   "outputs": [],
   "source": [
    "# Function For Text Normalization\n",
    "def clean_text(data):\n",
    "    urls = r'http\\S+'\n",
    "    non_unicode_char = r'\\W'\n",
    "    numbers = r'[0-9_]'\n",
    "    fix_whitespace = r'\\s+'\n",
    "    single_whitespace = ' '\n",
    "    \n",
    "    data = (data.replace([urls], single_whitespace, regex=True)\n",
    "                    .replace([non_unicode_char, numbers], single_whitespace, regex=True)\n",
    "                    .replace(fix_whitespace, single_whitespace, regex=True))\n",
    "    data = data.apply(lambda s: s.lower() if type(s) == str else s)\n",
    "    return data\n",
    "\n",
    "# NLP Functions\n",
    "nlp_el = spacy.load('el_core_news_md')\n",
    "nlp_en = spacy.load('en_core_web_sm')\n",
    "STOPWORDS = set(list(spacy.lang.en.STOP_WORDS) + list(spacy.lang.el.STOP_WORDS))\n",
    "\n",
    "def remove_stopwords(row):\n",
    "    row = [str(token) for token in nlp_el(row)]\n",
    "    return [w for w in row if w not in STOPWORDS]\n",
    "\n",
    "def tokenize_lemmatize(row):\n",
    "    return [str(token.lemma_) for token in nlp_el(row)]\n",
    "\n",
    "def tokenize_lemmatize_en(row):\n",
    "    return [str(token.lemma_) for token in nlp_en(row)]"
   ]
  },
  {
   "cell_type": "markdown",
   "id": "sound-terminology",
   "metadata": {},
   "source": [
    "Load Dataset:"
   ]
  },
  {
   "cell_type": "code",
   "execution_count": 3,
   "id": "aware-first",
   "metadata": {},
   "outputs": [
    {
     "data": {
      "text/html": [
       "<div>\n",
       "<style scoped>\n",
       "    .dataframe tbody tr th:only-of-type {\n",
       "        vertical-align: middle;\n",
       "    }\n",
       "\n",
       "    .dataframe tbody tr th {\n",
       "        vertical-align: top;\n",
       "    }\n",
       "\n",
       "    .dataframe thead th {\n",
       "        text-align: right;\n",
       "    }\n",
       "</style>\n",
       "<table border=\"1\" class=\"dataframe\">\n",
       "  <thead>\n",
       "    <tr style=\"text-align: right;\">\n",
       "      <th></th>\n",
       "      <th>screen_name</th>\n",
       "      <th>name</th>\n",
       "      <th>description</th>\n",
       "      <th>statuses_count</th>\n",
       "      <th>friends_count</th>\n",
       "      <th>followers_count</th>\n",
       "      <th>recent_100_statuses</th>\n",
       "      <th>hotel</th>\n",
       "      <th>friends_hotel_count_1000</th>\n",
       "      <th>followers_hotel_count_1000</th>\n",
       "      <th>mention_hotel_count</th>\n",
       "    </tr>\n",
       "  </thead>\n",
       "  <tbody>\n",
       "    <tr>\n",
       "      <th>0</th>\n",
       "      <td>SophiaSuites</td>\n",
       "      <td>Sophia Collection Santorini</td>\n",
       "      <td>Luxury Suites, hotels and villas Santorini com...</td>\n",
       "      <td>513</td>\n",
       "      <td>41</td>\n",
       "      <td>127</td>\n",
       "      <td>\"The tans will fade but the memories will las...</td>\n",
       "      <td>1</td>\n",
       "      <td>4</td>\n",
       "      <td>15</td>\n",
       "      <td>0</td>\n",
       "    </tr>\n",
       "    <tr>\n",
       "      <th>1</th>\n",
       "      <td>AnthiMariaApart</td>\n",
       "      <td>AnthiMariaApartments</td>\n",
       "      <td>Anthi Maria Beach Apartments is a self-caterin...</td>\n",
       "      <td>102</td>\n",
       "      <td>25</td>\n",
       "      <td>110</td>\n",
       "      <td>Our fantastic New and Improved abc online web...</td>\n",
       "      <td>1</td>\n",
       "      <td>5</td>\n",
       "      <td>12</td>\n",
       "      <td>0</td>\n",
       "    </tr>\n",
       "    <tr>\n",
       "      <th>2</th>\n",
       "      <td>wEndowproject</td>\n",
       "      <td>wEndow project</td>\n",
       "      <td>WEndow Escape Resort &amp; Villas | Tailor-made Ad...</td>\n",
       "      <td>350</td>\n",
       "      <td>344</td>\n",
       "      <td>103</td>\n",
       "      <td>https://t.co/DHuXrG8G6o For those who still d...</td>\n",
       "      <td>1</td>\n",
       "      <td>33</td>\n",
       "      <td>14</td>\n",
       "      <td>0</td>\n",
       "    </tr>\n",
       "    <tr>\n",
       "      <th>3</th>\n",
       "      <td>paphotels</td>\n",
       "      <td>paphotels</td>\n",
       "      <td>The best of Greek hospitality! Follow us, visi...</td>\n",
       "      <td>975</td>\n",
       "      <td>1182</td>\n",
       "      <td>475</td>\n",
       "      <td>@AlbertBourla 💯💯💯💯💯 Happy Easter !!!🐣 @paphot...</td>\n",
       "      <td>1</td>\n",
       "      <td>67</td>\n",
       "      <td>58</td>\n",
       "      <td>0</td>\n",
       "    </tr>\n",
       "    <tr>\n",
       "      <th>4</th>\n",
       "      <td>medpalace</td>\n",
       "      <td>Mediterranean Palace</td>\n",
       "      <td>A cozy 5 star hotel in the city center with an...</td>\n",
       "      <td>269</td>\n",
       "      <td>543</td>\n",
       "      <td>381</td>\n",
       "      <td>https://t.co/WPCR6KSnw2 New era!\\nNew Brand! ...</td>\n",
       "      <td>1</td>\n",
       "      <td>49</td>\n",
       "      <td>23</td>\n",
       "      <td>1</td>\n",
       "    </tr>\n",
       "  </tbody>\n",
       "</table>\n",
       "</div>"
      ],
      "text/plain": [
       "       screen_name                         name  \\\n",
       "0     SophiaSuites  Sophia Collection Santorini   \n",
       "1  AnthiMariaApart         AnthiMariaApartments   \n",
       "2    wEndowproject               wEndow project   \n",
       "3        paphotels                    paphotels   \n",
       "4        medpalace         Mediterranean Palace   \n",
       "\n",
       "                                         description  statuses_count  \\\n",
       "0  Luxury Suites, hotels and villas Santorini com...             513   \n",
       "1  Anthi Maria Beach Apartments is a self-caterin...             102   \n",
       "2  WEndow Escape Resort & Villas | Tailor-made Ad...             350   \n",
       "3  The best of Greek hospitality! Follow us, visi...             975   \n",
       "4  A cozy 5 star hotel in the city center with an...             269   \n",
       "\n",
       "   friends_count  followers_count  \\\n",
       "0             41              127   \n",
       "1             25              110   \n",
       "2            344              103   \n",
       "3           1182              475   \n",
       "4            543              381   \n",
       "\n",
       "                                 recent_100_statuses  hotel  \\\n",
       "0   \"The tans will fade but the memories will las...      1   \n",
       "1   Our fantastic New and Improved abc online web...      1   \n",
       "2   https://t.co/DHuXrG8G6o For those who still d...      1   \n",
       "3   @AlbertBourla 💯💯💯💯💯 Happy Easter !!!🐣 @paphot...      1   \n",
       "4   https://t.co/WPCR6KSnw2 New era!\\nNew Brand! ...      1   \n",
       "\n",
       "   friends_hotel_count_1000  followers_hotel_count_1000  mention_hotel_count  \n",
       "0                         4                          15                    0  \n",
       "1                         5                          12                    0  \n",
       "2                        33                          14                    0  \n",
       "3                        67                          58                    0  \n",
       "4                        49                          23                    1  "
      ]
     },
     "execution_count": 3,
     "metadata": {},
     "output_type": "execute_result"
    }
   ],
   "source": [
    "validation_set = pd.read_csv('../../../datasets/Hotels/classification/hotels-validation-set-enhanced.csv')\n",
    "validation_set = validation_set.replace(np.nan, '')\n",
    "validation_set.head()"
   ]
  },
  {
   "cell_type": "code",
   "execution_count": 4,
   "id": "careful-multiple",
   "metadata": {},
   "outputs": [],
   "source": [
    "# Variable to Hold predicted labels \n",
    "predictions = pd.DataFrame()\n",
    "predictions['screen_name'] = validation_set['screen_name']\n",
    "predictions['true_label'] = validation_set['hotel']"
   ]
  },
  {
   "cell_type": "markdown",
   "id": "composed-intranet",
   "metadata": {},
   "source": [
    "# Case 1: Name and Description of a Node\n",
    "---"
   ]
  },
  {
   "cell_type": "code",
   "execution_count": 5,
   "id": "processed-compression",
   "metadata": {},
   "outputs": [
    {
     "name": "stdout",
     "output_type": "stream",
     "text": [
      "              precision    recall  f1-score   support\n",
      "\n",
      "   Not-Hotel       0.86      1.00      0.93        25\n",
      "       Hotel       1.00      0.84      0.91        25\n",
      "\n",
      "    accuracy                           0.92        50\n",
      "   macro avg       0.93      0.92      0.92        50\n",
      "weighted avg       0.93      0.92      0.92        50\n",
      "\n"
     ]
    },
    {
     "data": {
      "text/plain": [
       "<sklearn.metrics._plot.confusion_matrix.ConfusionMatrixDisplay at 0x7ff051853250>"
      ]
     },
     "execution_count": 5,
     "metadata": {},
     "output_type": "execute_result"
    },
    {
     "data": {
      "image/png": "[encoded data removed]",
      "text/plain": [
       "<Figure size 432x288 with 2 Axes>"
      ]
     },
     "metadata": {
      "needs_background": "light"
     },
     "output_type": "display_data"
    }
   ],
   "source": [
    "def get_text_data_hotel_nd(df):\n",
    "    df['textdata'] = clean_text(df['name'] + ' ' + df['description'])\n",
    "    df['textdata'] = df['textdata'].apply(lambda row: tokenize_lemmatize(row))\n",
    "    df['textdata'] = df['textdata'].apply(lambda row: ' '.join(row))\n",
    "    df['textdata'] = df['textdata'].apply(lambda row: tokenize_lemmatize_en(row))\n",
    "    df['textdata'] = df['textdata'].apply(lambda row: ' '.join(row))\n",
    "    df['textdata'] = df['textdata'].apply(lambda row: remove_stopwords(row))\n",
    "    df['textdata'] = df['textdata'].apply(lambda row: ' '.join(row))\n",
    "    \n",
    "    return df.textdata\n",
    "\n",
    "# Load the model\n",
    "model_nd = joblib.load('classifiers/classifier_hotel_nd.sav')\n",
    "\n",
    "target_names = ['Not-Hotel', 'Hotel']\n",
    "predicted_labels = model_nd.predict(validation_set)\n",
    "print(classification_report(y_true = validation_set.hotel, y_pred=predicted_labels, target_names=target_names))\n",
    "plot_confusion_matrix(model_nd, validation_set, validation_set.hotel, display_labels=target_names, xticks_rotation=45, cmap=plt.cm.Blues)"
   ]
  },
  {
   "cell_type": "code",
   "execution_count": 6,
   "id": "ordinary-september",
   "metadata": {},
   "outputs": [],
   "source": [
    "predictions['nd'] = predicted_labels"
   ]
  },
  {
   "cell_type": "markdown",
   "id": "adjusted-marshall",
   "metadata": {},
   "source": [
    "# Case 2: Recent 100 Tweets of a Node\n",
    "---"
   ]
  },
  {
   "cell_type": "markdown",
   "id": "patent-brass",
   "metadata": {},
   "source": [
    "## Only Tweets"
   ]
  },
  {
   "cell_type": "code",
   "execution_count": 8,
   "id": "beautiful-error",
   "metadata": {},
   "outputs": [
    {
     "name": "stdout",
     "output_type": "stream",
     "text": [
      "              precision    recall  f1-score   support\n",
      "\n",
      "   Not-Hotel       0.96      0.96      0.96        25\n",
      "       Hotel       0.96      0.96      0.96        25\n",
      "\n",
      "    accuracy                           0.96        50\n",
      "   macro avg       0.96      0.96      0.96        50\n",
      "weighted avg       0.96      0.96      0.96        50\n",
      "\n"
     ]
    },
    {
     "data": {
      "image/png": "[encoded data removed]",
      "text/plain": [
       "<Figure size 432x288 with 2 Axes>"
      ]
     },
     "metadata": {
      "needs_background": "light"
     },
     "output_type": "display_data"
    }
   ],
   "source": [
    "def get_text_data_hotel_t(df):\n",
    "    df['textdata'] = clean_text(df['recent_100_statuses'])\n",
    "    df['textdata'] = df['textdata'].apply(lambda row: tokenize_lemmatize(row))\n",
    "    df['textdata'] = df['textdata'].apply(lambda row: ' '.join(row))\n",
    "    df['textdata'] = df['textdata'].apply(lambda row: tokenize_lemmatize_en(row))\n",
    "    df['textdata'] = df['textdata'].apply(lambda row: ' '.join(row))\n",
    "    df['textdata'] = df['textdata'].apply(lambda row: remove_stopwords(row))\n",
    "    df['textdata'] = df['textdata'].apply(lambda row: ' '.join(row))\n",
    "    \n",
    "    return df.textdata\n",
    "\n",
    "\n",
    "# Load the model\n",
    "model_t = joblib.load('classifiers/classifier_hotel_t.sav')\n",
    "\n",
    "target_names = ['Not-Hotel', 'Hotel']\n",
    "predicted_labels = model_t.predict(validation_set)\n",
    "print(classification_report(y_true = validation_set.hotel, y_pred=predicted_labels, target_names=target_names))\n",
    "plot_confusion_matrix(model_t, validation_set, validation_set.hotel, display_labels=target_names, xticks_rotation=45, cmap=plt.cm.Blues)\n",
    "\n",
    "predictions['t'] = predicted_labels"
   ]
  },
  {
   "cell_type": "markdown",
   "id": "hindu-child",
   "metadata": {},
   "source": [
    "## Name, Description and Tweets"
   ]
  },
  {
   "cell_type": "code",
   "execution_count": 6,
   "id": "filled-ensemble",
   "metadata": {},
   "outputs": [
    {
     "name": "stdout",
     "output_type": "stream",
     "text": [
      "              precision    recall  f1-score   support\n",
      "\n",
      "   Not-Hotel       0.96      0.96      0.96        25\n",
      "       Hotel       0.96      0.96      0.96        25\n",
      "\n",
      "    accuracy                           0.96        50\n",
      "   macro avg       0.96      0.96      0.96        50\n",
      "weighted avg       0.96      0.96      0.96        50\n",
      "\n"
     ]
    },
    {
     "data": {
      "image/png": "[encoded data removed]",
      "text/plain": [
       "<Figure size 432x288 with 2 Axes>"
      ]
     },
     "metadata": {
      "needs_background": "light"
     },
     "output_type": "display_data"
    }
   ],
   "source": [
    "def get_text_data_hotel_ndt(df):\n",
    "    df['textdata'] = clean_text(df['name'] + ' ' + df['description'] + ' ' + df['recent_100_statuses'])\n",
    "    df['textdata'] = df['textdata'].apply(lambda row: tokenize_lemmatize(row))\n",
    "    df['textdata'] = df['textdata'].apply(lambda row: ' '.join(row))\n",
    "    df['textdata'] = df['textdata'].apply(lambda row: remove_stopwords(row))\n",
    "    df['textdata'] = df['textdata'].apply(lambda row: ' '.join(row))\n",
    "    return df.textdata\n",
    "\n",
    "# Load the model\n",
    "model_ndt = joblib.load('classifiers/classifier_hotel_ndt.sav')\n",
    "\n",
    "target_names = ['Not-Hotel', 'Hotel']\n",
    "predicted_labels = model_ndt.predict(validation_set)\n",
    "print(classification_report(y_true = validation_set.hotel, y_pred=predicted_labels, target_names=target_names))\n",
    "plot_confusion_matrix(model_ndt, validation_set, validation_set.hotel, display_labels=target_names, xticks_rotation=45, cmap=plt.cm.Blues)\n",
    "\n",
    "predictions['ndt'] = predicted_labels"
   ]
  },
  {
   "cell_type": "markdown",
   "id": "married-restoration",
   "metadata": {},
   "source": [
    "# Case 3: Parliament Member Friends Count"
   ]
  },
  {
   "cell_type": "markdown",
   "id": "sharing-harmony",
   "metadata": {},
   "source": [
    "## Only Counts"
   ]
  },
  {
   "cell_type": "code",
   "execution_count": 9,
   "id": "private-formula",
   "metadata": {},
   "outputs": [
    {
     "name": "stdout",
     "output_type": "stream",
     "text": [
      "              precision    recall  f1-score   support\n",
      "\n",
      "   Not-Hotel       0.57      0.68      0.62        25\n",
      "       Hotel       0.60      0.48      0.53        25\n",
      "\n",
      "    accuracy                           0.58        50\n",
      "   macro avg       0.58      0.58      0.58        50\n",
      "weighted avg       0.58      0.58      0.58        50\n",
      "\n"
     ]
    },
    {
     "data": {
      "image/png": "[encoded data removed]",
      "text/plain": [
       "<Figure size 432x288 with 2 Axes>"
      ]
     },
     "metadata": {
      "needs_background": "light"
     },
     "output_type": "display_data"
    }
   ],
   "source": [
    "# Function to select the data\n",
    "def get_data_hotel_fr(df):\n",
    "    data = df['friends_hotel_count_1000'].to_numpy()\n",
    "    return data.reshape(-1,1)\n",
    "\n",
    "# Load the model\n",
    "model_fr = joblib.load('classifiers/classifier_hotel_fr.sav')\n",
    "\n",
    "target_names = ['Not-Hotel', 'Hotel']\n",
    "predicted_labels = model_fr.predict(validation_set)\n",
    "print(classification_report(y_true = validation_set.hotel, y_pred=predicted_labels, target_names=target_names))\n",
    "plot_confusion_matrix(model_fr, validation_set, validation_set.hotel, display_labels=target_names, xticks_rotation=45, cmap=plt.cm.Blues)\n",
    "\n",
    "predictions['fr'] = predicted_labels"
   ]
  },
  {
   "cell_type": "markdown",
   "id": "genetic-halifax",
   "metadata": {},
   "source": [
    "## Name Description Tweets Counts"
   ]
  },
  {
   "cell_type": "code",
   "execution_count": 11,
   "id": "sunset-target",
   "metadata": {},
   "outputs": [
    {
     "name": "stdout",
     "output_type": "stream",
     "text": [
      "              precision    recall  f1-score   support\n",
      "\n",
      "   Not-Hotel       0.86      0.96      0.91        25\n",
      "       Hotel       0.95      0.84      0.89        25\n",
      "\n",
      "    accuracy                           0.90        50\n",
      "   macro avg       0.91      0.90      0.90        50\n",
      "weighted avg       0.91      0.90      0.90        50\n",
      "\n"
     ]
    },
    {
     "data": {
      "image/png": "[encoded data removed]",
      "text/plain": [
       "<Figure size 432x288 with 2 Axes>"
      ]
     },
     "metadata": {
      "needs_background": "light"
     },
     "output_type": "display_data"
    }
   ],
   "source": [
    "def get_hotel_text_data_(df):\n",
    "    df = df.copy()\n",
    "    df['textdata'] = clean_text(df['name']+ ' ' + df['description'] + ' ' + df['recent_100_statuses'])\n",
    "    df['textdata'] = df['textdata'].apply(lambda row: remove_stopwords(row))\n",
    "    df['textdata'] = df['textdata'].apply(lambda row: ' '.join(row))\n",
    "    return df.textdata\n",
    "\n",
    "\n",
    "def get_hotel_numeric_data_(df):\n",
    "    data = df['friends_hotel_count_1000'].to_numpy()\n",
    "    return data.reshape(-1,1)\n",
    "\n",
    "\n",
    "# Load the model\n",
    "model_ndtfr = joblib.load('classifiers/classifier_hotel_ndtfr.sav')\n",
    "\n",
    "target_names = ['Not-Hotel', 'Hotel']\n",
    "predicted_labels = model_ndtfr.predict(validation_set)\n",
    "print(classification_report(y_true = validation_set.hotel, y_pred=predicted_labels, target_names=target_names))\n",
    "plot_confusion_matrix(model_ndtfr, validation_set, validation_set.hotel, display_labels=target_names, xticks_rotation=45, cmap=plt.cm.Blues)\n",
    "\n",
    "predictions['ndtfr'] = predicted_labels"
   ]
  },
  {
   "cell_type": "markdown",
   "id": "egyptian-healthcare",
   "metadata": {},
   "source": [
    "# Case 4: Parliament Member Followers Count"
   ]
  },
  {
   "cell_type": "markdown",
   "id": "pointed-trinidad",
   "metadata": {},
   "source": [
    "## Only Counts"
   ]
  },
  {
   "cell_type": "code",
   "execution_count": 12,
   "id": "informational-mexican",
   "metadata": {},
   "outputs": [
    {
     "name": "stdout",
     "output_type": "stream",
     "text": [
      "              precision    recall  f1-score   support\n",
      "\n",
      "   Not-Hotel       0.55      0.84      0.67        25\n",
      "       Hotel       0.67      0.32      0.43        25\n",
      "\n",
      "    accuracy                           0.58        50\n",
      "   macro avg       0.61      0.58      0.55        50\n",
      "weighted avg       0.61      0.58      0.55        50\n",
      "\n"
     ]
    },
    {
     "data": {
      "image/png": "[encoded data removed]",
      "text/plain": [
       "<Figure size 432x288 with 2 Axes>"
      ]
     },
     "metadata": {
      "needs_background": "light"
     },
     "output_type": "display_data"
    }
   ],
   "source": [
    "# Function to select the data\n",
    "def get_data_hotel_fo(df):\n",
    "    data = df['followers_hotel_count_1000'].to_numpy()\n",
    "    return data.reshape(-1,1)\n",
    "\n",
    "# Load the model\n",
    "model_fo = joblib.load('classifiers/classifier_hotel_fo.sav')\n",
    "\n",
    "target_names = ['Not-Hotel', 'Hotel']\n",
    "predicted_labels = model_fo.predict(validation_set)\n",
    "print(classification_report(y_true = validation_set.hotel, y_pred=predicted_labels, target_names=target_names))\n",
    "plot_confusion_matrix(model_fo, validation_set, validation_set.hotel, display_labels=target_names, xticks_rotation=45, cmap=plt.cm.Blues)\n",
    "\n",
    "predictions['fo'] = predicted_labels"
   ]
  },
  {
   "cell_type": "markdown",
   "id": "similar-designation",
   "metadata": {},
   "source": [
    "## Friends and Followers Parliament member Counts"
   ]
  },
  {
   "cell_type": "code",
   "execution_count": 13,
   "id": "facial-portland",
   "metadata": {},
   "outputs": [
    {
     "name": "stdout",
     "output_type": "stream",
     "text": [
      "              precision    recall  f1-score   support\n",
      "\n",
      "   Not-Hotel       0.58      0.72      0.64        25\n",
      "       Hotel       0.63      0.48      0.55        25\n",
      "\n",
      "    accuracy                           0.60        50\n",
      "   macro avg       0.61      0.60      0.59        50\n",
      "weighted avg       0.61      0.60      0.59        50\n",
      "\n"
     ]
    },
    {
     "data": {
      "image/png": "[encoded data removed]",
      "text/plain": [
       "<Figure size 432x288 with 2 Axes>"
      ]
     },
     "metadata": {
      "needs_background": "light"
     },
     "output_type": "display_data"
    }
   ],
   "source": [
    "# Function to select the data\n",
    "def get_data_(df):\n",
    "    data = df[['friends_hotel_count_1000', 'followers_hotel_count_1000']].to_numpy()\n",
    "    return data\n",
    "\n",
    "# Load the model\n",
    "model_frfo = joblib.load('classifiers/classifier_hotel_frfo.sav')\n",
    "\n",
    "target_names = ['Not-Hotel', 'Hotel']\n",
    "predicted_labels = model_frfo.predict(validation_set)\n",
    "print(classification_report(y_true = validation_set.hotel, y_pred=predicted_labels, target_names=target_names))\n",
    "plot_confusion_matrix(model_frfo, validation_set, validation_set.hotel, display_labels=target_names, xticks_rotation=45, cmap=plt.cm.Blues)\n",
    "\n",
    "predictions['frfo'] = predicted_labels"
   ]
  },
  {
   "cell_type": "markdown",
   "id": "bacterial-population",
   "metadata": {},
   "source": [
    "## Name Description Tweets Counts"
   ]
  },
  {
   "cell_type": "code",
   "execution_count": 14,
   "id": "exact-nightmare",
   "metadata": {},
   "outputs": [
    {
     "name": "stdout",
     "output_type": "stream",
     "text": [
      "              precision    recall  f1-score   support\n",
      "\n",
      "   Not-Hotel       0.89      1.00      0.94        25\n",
      "       Hotel       1.00      0.88      0.94        25\n",
      "\n",
      "    accuracy                           0.94        50\n",
      "   macro avg       0.95      0.94      0.94        50\n",
      "weighted avg       0.95      0.94      0.94        50\n",
      "\n"
     ]
    },
    {
     "data": {
      "image/png": "[encoded data removed]",
      "text/plain": [
       "<Figure size 432x288 with 2 Axes>"
      ]
     },
     "metadata": {
      "needs_background": "light"
     },
     "output_type": "display_data"
    }
   ],
   "source": [
    "def get_text_data_(df):\n",
    "    df = df.copy()\n",
    "    df['textdata'] = clean_text(df['name']+ ' ' + df['description'] + ' ' + df['recent_100_statuses'])\n",
    "    df['textdata'] = df['textdata'].apply(lambda row: tokenize_lemmatize(row))\n",
    "    df['textdata'] = df['textdata'].apply(lambda row: ' '.join(row))\n",
    "    df['textdata'] = df['textdata'].apply(lambda row: tokenize_lemmatize_en(row))\n",
    "    df['textdata'] = df['textdata'].apply(lambda row: ' '.join(row))\n",
    "    df['textdata'] = df['textdata'].apply(lambda row: remove_stopwords(row))\n",
    "    df['textdata'] = df['textdata'].apply(lambda row: ' '.join(row))\n",
    "    return df.textdata\n",
    "\n",
    "\n",
    "def get_numeric_data_(df):\n",
    "    data = df[['friends_hotel_count_1000', 'followers_hotel_count_1000']].to_numpy()\n",
    "    return data\n",
    "\n",
    "\n",
    "# Load the model\n",
    "model_ndtfrfo = joblib.load('classifiers/classifier_hotel_ndtfrfo.sav')\n",
    "\n",
    "target_names = ['Not-Hotel', 'Hotel']\n",
    "predicted_labels = model_ndtfrfo.predict(validation_set)\n",
    "print(classification_report(y_true = validation_set.hotel, y_pred=predicted_labels, target_names=target_names))\n",
    "plot_confusion_matrix(model_ndtfrfo, validation_set, validation_set.hotel, display_labels=target_names, xticks_rotation=45, cmap=plt.cm.Blues)\n",
    "\n",
    "predictions['ndtfrfo'] = predicted_labels"
   ]
  },
  {
   "cell_type": "markdown",
   "id": "alone-dairy",
   "metadata": {},
   "source": [
    "# Case 4: Parliament Member Mentions Count"
   ]
  },
  {
   "cell_type": "markdown",
   "id": "coral-little",
   "metadata": {},
   "source": [
    "## Only Counts"
   ]
  },
  {
   "cell_type": "code",
   "execution_count": 15,
   "id": "diverse-integral",
   "metadata": {},
   "outputs": [
    {
     "name": "stdout",
     "output_type": "stream",
     "text": [
      "              precision    recall  f1-score   support\n",
      "\n",
      "   Not-Hotel       0.50      0.76      0.60        25\n",
      "       Hotel       0.50      0.24      0.32        25\n",
      "\n",
      "    accuracy                           0.50        50\n",
      "   macro avg       0.50      0.50      0.46        50\n",
      "weighted avg       0.50      0.50      0.46        50\n",
      "\n"
     ]
    },
    {
     "data": {
      "image/png": "[encoded data removed]",
      "text/plain": [
       "<Figure size 432x288 with 2 Axes>"
      ]
     },
     "metadata": {
      "needs_background": "light"
     },
     "output_type": "display_data"
    }
   ],
   "source": [
    "# Function to select the data\n",
    "def get_data_(df):\n",
    "    data = df['mention_hotel_count'].to_numpy()\n",
    "    return data.reshape(-1,1)\n",
    "\n",
    "# Load the model\n",
    "model_me = joblib.load('classifiers/classifier_hotel_me.sav')\n",
    "\n",
    "target_names = ['Not-Hotel', 'Hotel']\n",
    "predicted_labels = model_me.predict(validation_set)\n",
    "print(classification_report(y_true = validation_set.hotel, y_pred=predicted_labels, target_names=target_names))\n",
    "plot_confusion_matrix(model_me, validation_set, validation_set.hotel, display_labels=target_names, xticks_rotation=45, cmap=plt.cm.Blues)\n",
    "\n",
    "predictions['me'] = predicted_labels"
   ]
  },
  {
   "cell_type": "markdown",
   "id": "infinite-avatar",
   "metadata": {},
   "source": [
    "## Statuses and Mentions"
   ]
  },
  {
   "cell_type": "code",
   "execution_count": 16,
   "id": "dying-blogger",
   "metadata": {},
   "outputs": [
    {
     "name": "stdout",
     "output_type": "stream",
     "text": [
      "              precision    recall  f1-score   support\n",
      "\n",
      "   Not-Hotel       0.96      0.92      0.94        25\n",
      "       Hotel       0.92      0.96      0.94        25\n",
      "\n",
      "    accuracy                           0.94        50\n",
      "   macro avg       0.94      0.94      0.94        50\n",
      "weighted avg       0.94      0.94      0.94        50\n",
      "\n"
     ]
    },
    {
     "data": {
      "image/png": "[encoded data removed]",
      "text/plain": [
       "<Figure size 432x288 with 2 Axes>"
      ]
     },
     "metadata": {
      "needs_background": "light"
     },
     "output_type": "display_data"
    }
   ],
   "source": [
    "# Function to select the data\n",
    "def get_text_data_hotel_tme(df):\n",
    "    df = df.copy()\n",
    "    df['textdata'] = clean_text(df['recent_100_statuses'])\n",
    "    df['textdata'] = df['textdata'].apply(lambda row: tokenize_lemmatize(row))\n",
    "    df['textdata'] = df['textdata'].apply(lambda row: ' '.join(row))\n",
    "    df['textdata'] = df['textdata'].apply(lambda row: tokenize_lemmatize_en(row))\n",
    "    df['textdata'] = df['textdata'].apply(lambda row: ' '.join(row))\n",
    "    df['textdata'] = df['textdata'].apply(lambda row: remove_stopwords(row))\n",
    "    df['textdata'] = df['textdata'].apply(lambda row: ' '.join(row))\n",
    "    return df.textdata\n",
    "\n",
    "\n",
    "def get_numeric_data_hotel_tme(df):\n",
    "    data = df['mention_hotel_count'].to_numpy()\n",
    "    return data.reshape(-1,1)\n",
    "\n",
    "# Load the model\n",
    "model_tme = joblib.load('classifiers/classifier_hotel_tme.sav')\n",
    "\n",
    "target_names = ['Not-Hotel', 'Hotel']\n",
    "predicted_labels = model_tme.predict(validation_set)\n",
    "print(classification_report(y_true = validation_set.hotel, y_pred=predicted_labels, target_names=target_names))\n",
    "plot_confusion_matrix(model_tme, validation_set, validation_set.hotel, display_labels=target_names, xticks_rotation=45, cmap=plt.cm.Blues)\n",
    "\n",
    "predictions['tme'] = predicted_labels"
   ]
  },
  {
   "cell_type": "markdown",
   "id": "acoustic-pontiac",
   "metadata": {},
   "source": [
    "## Name Description Tweets all Counts"
   ]
  },
  {
   "cell_type": "code",
   "execution_count": 17,
   "id": "chronic-satisfaction",
   "metadata": {},
   "outputs": [
    {
     "name": "stdout",
     "output_type": "stream",
     "text": [
      "              precision    recall  f1-score   support\n",
      "\n",
      "   Not-Hotel       0.89      1.00      0.94        25\n",
      "       Hotel       1.00      0.88      0.94        25\n",
      "\n",
      "    accuracy                           0.94        50\n",
      "   macro avg       0.95      0.94      0.94        50\n",
      "weighted avg       0.95      0.94      0.94        50\n",
      "\n"
     ]
    },
    {
     "data": {
      "image/png": "[encoded data removed]",
      "text/plain": [
       "<Figure size 432x288 with 2 Axes>"
      ]
     },
     "metadata": {
      "needs_background": "light"
     },
     "output_type": "display_data"
    }
   ],
   "source": [
    "def get_text_data_(df):\n",
    "    df = df.copy()\n",
    "    df['textdata'] = clean_text(df['name'] + ' ' + df['description'] + ' ' + df['recent_100_statuses'])\n",
    "    df['textdata'] = df['textdata'].apply(lambda row: tokenize_lemmatize(row))\n",
    "    df['textdata'] = df['textdata'].apply(lambda row: ' '.join(row))\n",
    "    df['textdata'] = df['textdata'].apply(lambda row: tokenize_lemmatize_en(row))\n",
    "    df['textdata'] = df['textdata'].apply(lambda row: ' '.join(row))\n",
    "    df['textdata'] = df['textdata'].apply(lambda row: remove_stopwords(row))\n",
    "    df['textdata'] = df['textdata'].apply(lambda row: ' '.join(row))\n",
    "    return df.textdata\n",
    "\n",
    "def get_numeric_data_(df):\n",
    "    data = df[['friends_hotel_count_1000', 'followers_hotel_count_1000', 'mention_hotel_count']].to_numpy()\n",
    "    return data\n",
    "\n",
    "\n",
    "# Load the model\n",
    "model_ndtfrfome = joblib.load('classifiers/classifier_hotel_ndtfrfome.sav')\n",
    "\n",
    "target_names = ['Not-Hotel', 'Hotel']\n",
    "predicted_labels = model_ndtfrfome.predict(validation_set)\n",
    "print(classification_report(y_true = validation_set.hotel, y_pred=predicted_labels, target_names=target_names))\n",
    "plot_confusion_matrix(model_ndtfrfome, validation_set, validation_set.hotel, display_labels=target_names, xticks_rotation=45, cmap=plt.cm.Blues)\n",
    "\n",
    "predictions['ndtfrfome'] = predicted_labels"
   ]
  },
  {
   "cell_type": "markdown",
   "id": "dramatic-whole",
   "metadata": {},
   "source": [
    "# Failure Analaysis\n",
    "---"
   ]
  },
  {
   "cell_type": "code",
   "execution_count": 24,
   "id": "based-qatar",
   "metadata": {},
   "outputs": [
    {
     "data": {
      "text/html": [
       "<div>\n",
       "<style scoped>\n",
       "    .dataframe tbody tr th:only-of-type {\n",
       "        vertical-align: middle;\n",
       "    }\n",
       "\n",
       "    .dataframe tbody tr th {\n",
       "        vertical-align: top;\n",
       "    }\n",
       "\n",
       "    .dataframe thead th {\n",
       "        text-align: right;\n",
       "    }\n",
       "</style>\n",
       "<table border=\"1\" class=\"dataframe\">\n",
       "  <thead>\n",
       "    <tr style=\"text-align: right;\">\n",
       "      <th></th>\n",
       "      <th>screen_name</th>\n",
       "      <th>true_label</th>\n",
       "      <th>nd</th>\n",
       "      <th>ndt</th>\n",
       "      <th>ndtfr</th>\n",
       "      <th>ndtfrfo</th>\n",
       "      <th>ndtfrfome</th>\n",
       "    </tr>\n",
       "  </thead>\n",
       "  <tbody>\n",
       "    <tr>\n",
       "      <th>3</th>\n",
       "      <td>paphotels</td>\n",
       "      <td>1</td>\n",
       "      <td>0</td>\n",
       "      <td>1</td>\n",
       "      <td>1</td>\n",
       "      <td>1</td>\n",
       "      <td>1</td>\n",
       "    </tr>\n",
       "    <tr>\n",
       "      <th>4</th>\n",
       "      <td>medpalace</td>\n",
       "      <td>1</td>\n",
       "      <td>1</td>\n",
       "      <td>1</td>\n",
       "      <td>0</td>\n",
       "      <td>1</td>\n",
       "      <td>1</td>\n",
       "    </tr>\n",
       "    <tr>\n",
       "      <th>10</th>\n",
       "      <td>santo_wines</td>\n",
       "      <td>0</td>\n",
       "      <td>0</td>\n",
       "      <td>1</td>\n",
       "      <td>0</td>\n",
       "      <td>0</td>\n",
       "      <td>0</td>\n",
       "    </tr>\n",
       "    <tr>\n",
       "      <th>13</th>\n",
       "      <td>alikescamping</td>\n",
       "      <td>1</td>\n",
       "      <td>0</td>\n",
       "      <td>1</td>\n",
       "      <td>1</td>\n",
       "      <td>0</td>\n",
       "      <td>0</td>\n",
       "    </tr>\n",
       "    <tr>\n",
       "      <th>16</th>\n",
       "      <td>remvibar</td>\n",
       "      <td>0</td>\n",
       "      <td>0</td>\n",
       "      <td>0</td>\n",
       "      <td>1</td>\n",
       "      <td>0</td>\n",
       "      <td>0</td>\n",
       "    </tr>\n",
       "    <tr>\n",
       "      <th>22</th>\n",
       "      <td>AcroterraRosa</td>\n",
       "      <td>1</td>\n",
       "      <td>1</td>\n",
       "      <td>1</td>\n",
       "      <td>0</td>\n",
       "      <td>1</td>\n",
       "      <td>1</td>\n",
       "    </tr>\n",
       "    <tr>\n",
       "      <th>25</th>\n",
       "      <td>HotelOlympiaSKG</td>\n",
       "      <td>1</td>\n",
       "      <td>1</td>\n",
       "      <td>0</td>\n",
       "      <td>1</td>\n",
       "      <td>1</td>\n",
       "      <td>1</td>\n",
       "    </tr>\n",
       "    <tr>\n",
       "      <th>32</th>\n",
       "      <td>MedRoyalHotel</td>\n",
       "      <td>1</td>\n",
       "      <td>0</td>\n",
       "      <td>1</td>\n",
       "      <td>1</td>\n",
       "      <td>0</td>\n",
       "      <td>0</td>\n",
       "    </tr>\n",
       "    <tr>\n",
       "      <th>39</th>\n",
       "      <td>Portokoufo</td>\n",
       "      <td>1</td>\n",
       "      <td>1</td>\n",
       "      <td>1</td>\n",
       "      <td>0</td>\n",
       "      <td>0</td>\n",
       "      <td>0</td>\n",
       "    </tr>\n",
       "    <tr>\n",
       "      <th>40</th>\n",
       "      <td>ikieshotel</td>\n",
       "      <td>1</td>\n",
       "      <td>1</td>\n",
       "      <td>1</td>\n",
       "      <td>0</td>\n",
       "      <td>1</td>\n",
       "      <td>1</td>\n",
       "    </tr>\n",
       "    <tr>\n",
       "      <th>49</th>\n",
       "      <td>portovalitsa</td>\n",
       "      <td>1</td>\n",
       "      <td>0</td>\n",
       "      <td>1</td>\n",
       "      <td>1</td>\n",
       "      <td>1</td>\n",
       "      <td>1</td>\n",
       "    </tr>\n",
       "  </tbody>\n",
       "</table>\n",
       "</div>"
      ],
      "text/plain": [
       "        screen_name  true_label  nd  ndt  ndtfr  ndtfrfo  ndtfrfome\n",
       "3         paphotels           1   0    1      1        1          1\n",
       "4         medpalace           1   1    1      0        1          1\n",
       "10      santo_wines           0   0    1      0        0          0\n",
       "13    alikescamping           1   0    1      1        0          0\n",
       "16         remvibar           0   0    0      1        0          0\n",
       "22    AcroterraRosa           1   1    1      0        1          1\n",
       "25  HotelOlympiaSKG           1   1    0      1        1          1\n",
       "32    MedRoyalHotel           1   0    1      1        0          0\n",
       "39       Portokoufo           1   1    1      0        0          0\n",
       "40       ikieshotel           1   1    1      0        1          1\n",
       "49     portovalitsa           1   0    1      1        1          1"
      ]
     },
     "execution_count": 24,
     "metadata": {},
     "output_type": "execute_result"
    }
   ],
   "source": [
    "predictions[(predictions['true_label'] != predictions['nd'])\n",
    "           |(predictions['true_label'] != predictions['ndt'])\n",
    "           |(predictions['true_label'] != predictions['ndtfr'])\n",
    "           |(predictions['true_label'] != predictions['ndtfrfo'])\n",
    "           |(predictions['true_label'] != predictions['ndtfrfome'])][['screen_name','true_label','nd','ndt','ndtfr','ndtfrfo', 'ndtfrfome']]"
   ]
  },
  {
   "cell_type": "code",
   "execution_count": 22,
   "id": "hawaiian-parcel",
   "metadata": {},
   "outputs": [
    {
     "data": {
      "text/html": [
       "<div>\n",
       "<style scoped>\n",
       "    .dataframe tbody tr th:only-of-type {\n",
       "        vertical-align: middle;\n",
       "    }\n",
       "\n",
       "    .dataframe tbody tr th {\n",
       "        vertical-align: top;\n",
       "    }\n",
       "\n",
       "    .dataframe thead th {\n",
       "        text-align: right;\n",
       "    }\n",
       "</style>\n",
       "<table border=\"1\" class=\"dataframe\">\n",
       "  <thead>\n",
       "    <tr style=\"text-align: right;\">\n",
       "      <th></th>\n",
       "      <th>screen_name</th>\n",
       "      <th>true_label</th>\n",
       "      <th>nd</th>\n",
       "      <th>t</th>\n",
       "      <th>fr</th>\n",
       "      <th>fo</th>\n",
       "    </tr>\n",
       "  </thead>\n",
       "  <tbody>\n",
       "    <tr>\n",
       "      <th>0</th>\n",
       "      <td>SophiaSuites</td>\n",
       "      <td>1</td>\n",
       "      <td>1</td>\n",
       "      <td>1</td>\n",
       "      <td>0</td>\n",
       "      <td>0</td>\n",
       "    </tr>\n",
       "    <tr>\n",
       "      <th>1</th>\n",
       "      <td>AnthiMariaApart</td>\n",
       "      <td>1</td>\n",
       "      <td>1</td>\n",
       "      <td>1</td>\n",
       "      <td>0</td>\n",
       "      <td>0</td>\n",
       "    </tr>\n",
       "    <tr>\n",
       "      <th>2</th>\n",
       "      <td>wEndowproject</td>\n",
       "      <td>1</td>\n",
       "      <td>1</td>\n",
       "      <td>1</td>\n",
       "      <td>1</td>\n",
       "      <td>0</td>\n",
       "    </tr>\n",
       "    <tr>\n",
       "      <th>3</th>\n",
       "      <td>paphotels</td>\n",
       "      <td>1</td>\n",
       "      <td>0</td>\n",
       "      <td>1</td>\n",
       "      <td>1</td>\n",
       "      <td>1</td>\n",
       "    </tr>\n",
       "    <tr>\n",
       "      <th>4</th>\n",
       "      <td>medpalace</td>\n",
       "      <td>1</td>\n",
       "      <td>1</td>\n",
       "      <td>1</td>\n",
       "      <td>1</td>\n",
       "      <td>0</td>\n",
       "    </tr>\n",
       "    <tr>\n",
       "      <th>6</th>\n",
       "      <td>Goodyscom</td>\n",
       "      <td>0</td>\n",
       "      <td>0</td>\n",
       "      <td>0</td>\n",
       "      <td>1</td>\n",
       "      <td>0</td>\n",
       "    </tr>\n",
       "    <tr>\n",
       "      <th>8</th>\n",
       "      <td>TGIFridaysGR</td>\n",
       "      <td>0</td>\n",
       "      <td>0</td>\n",
       "      <td>0</td>\n",
       "      <td>1</td>\n",
       "      <td>0</td>\n",
       "    </tr>\n",
       "    <tr>\n",
       "      <th>10</th>\n",
       "      <td>santo_wines</td>\n",
       "      <td>0</td>\n",
       "      <td>0</td>\n",
       "      <td>0</td>\n",
       "      <td>0</td>\n",
       "      <td>1</td>\n",
       "    </tr>\n",
       "    <tr>\n",
       "      <th>11</th>\n",
       "      <td>Avis_Greece</td>\n",
       "      <td>0</td>\n",
       "      <td>0</td>\n",
       "      <td>0</td>\n",
       "      <td>1</td>\n",
       "      <td>1</td>\n",
       "    </tr>\n",
       "    <tr>\n",
       "      <th>13</th>\n",
       "      <td>alikescamping</td>\n",
       "      <td>1</td>\n",
       "      <td>0</td>\n",
       "      <td>1</td>\n",
       "      <td>0</td>\n",
       "      <td>0</td>\n",
       "    </tr>\n",
       "    <tr>\n",
       "      <th>16</th>\n",
       "      <td>remvibar</td>\n",
       "      <td>0</td>\n",
       "      <td>0</td>\n",
       "      <td>1</td>\n",
       "      <td>0</td>\n",
       "      <td>0</td>\n",
       "    </tr>\n",
       "    <tr>\n",
       "      <th>17</th>\n",
       "      <td>LindianVillage</td>\n",
       "      <td>1</td>\n",
       "      <td>1</td>\n",
       "      <td>1</td>\n",
       "      <td>1</td>\n",
       "      <td>0</td>\n",
       "    </tr>\n",
       "    <tr>\n",
       "      <th>19</th>\n",
       "      <td>marksandspencer</td>\n",
       "      <td>0</td>\n",
       "      <td>0</td>\n",
       "      <td>0</td>\n",
       "      <td>1</td>\n",
       "      <td>0</td>\n",
       "    </tr>\n",
       "    <tr>\n",
       "      <th>21</th>\n",
       "      <td>ImperialThess</td>\n",
       "      <td>1</td>\n",
       "      <td>1</td>\n",
       "      <td>1</td>\n",
       "      <td>0</td>\n",
       "      <td>0</td>\n",
       "    </tr>\n",
       "    <tr>\n",
       "      <th>22</th>\n",
       "      <td>AcroterraRosa</td>\n",
       "      <td>1</td>\n",
       "      <td>1</td>\n",
       "      <td>1</td>\n",
       "      <td>0</td>\n",
       "      <td>0</td>\n",
       "    </tr>\n",
       "    <tr>\n",
       "      <th>24</th>\n",
       "      <td>cathrinhotel</td>\n",
       "      <td>1</td>\n",
       "      <td>1</td>\n",
       "      <td>1</td>\n",
       "      <td>0</td>\n",
       "      <td>0</td>\n",
       "    </tr>\n",
       "    <tr>\n",
       "      <th>25</th>\n",
       "      <td>HotelOlympiaSKG</td>\n",
       "      <td>1</td>\n",
       "      <td>1</td>\n",
       "      <td>1</td>\n",
       "      <td>0</td>\n",
       "      <td>1</td>\n",
       "    </tr>\n",
       "    <tr>\n",
       "      <th>26</th>\n",
       "      <td>EightballLiveSt</td>\n",
       "      <td>0</td>\n",
       "      <td>0</td>\n",
       "      <td>0</td>\n",
       "      <td>1</td>\n",
       "      <td>0</td>\n",
       "    </tr>\n",
       "    <tr>\n",
       "      <th>27</th>\n",
       "      <td>petrinosuites</td>\n",
       "      <td>1</td>\n",
       "      <td>1</td>\n",
       "      <td>1</td>\n",
       "      <td>1</td>\n",
       "      <td>0</td>\n",
       "    </tr>\n",
       "    <tr>\n",
       "      <th>28</th>\n",
       "      <td>Napapijri</td>\n",
       "      <td>0</td>\n",
       "      <td>0</td>\n",
       "      <td>0</td>\n",
       "      <td>0</td>\n",
       "      <td>1</td>\n",
       "    </tr>\n",
       "    <tr>\n",
       "      <th>32</th>\n",
       "      <td>MedRoyalHotel</td>\n",
       "      <td>1</td>\n",
       "      <td>0</td>\n",
       "      <td>1</td>\n",
       "      <td>0</td>\n",
       "      <td>0</td>\n",
       "    </tr>\n",
       "    <tr>\n",
       "      <th>33</th>\n",
       "      <td>Hotelbluebay</td>\n",
       "      <td>1</td>\n",
       "      <td>1</td>\n",
       "      <td>1</td>\n",
       "      <td>0</td>\n",
       "      <td>1</td>\n",
       "    </tr>\n",
       "    <tr>\n",
       "      <th>34</th>\n",
       "      <td>SavoyRhodes</td>\n",
       "      <td>1</td>\n",
       "      <td>1</td>\n",
       "      <td>1</td>\n",
       "      <td>0</td>\n",
       "      <td>0</td>\n",
       "    </tr>\n",
       "    <tr>\n",
       "      <th>36</th>\n",
       "      <td>LeivathoHotel</td>\n",
       "      <td>1</td>\n",
       "      <td>1</td>\n",
       "      <td>1</td>\n",
       "      <td>0</td>\n",
       "      <td>0</td>\n",
       "    </tr>\n",
       "    <tr>\n",
       "      <th>37</th>\n",
       "      <td>NovaGreece</td>\n",
       "      <td>0</td>\n",
       "      <td>0</td>\n",
       "      <td>0</td>\n",
       "      <td>1</td>\n",
       "      <td>0</td>\n",
       "    </tr>\n",
       "    <tr>\n",
       "      <th>39</th>\n",
       "      <td>Portokoufo</td>\n",
       "      <td>1</td>\n",
       "      <td>1</td>\n",
       "      <td>0</td>\n",
       "      <td>1</td>\n",
       "      <td>0</td>\n",
       "    </tr>\n",
       "    <tr>\n",
       "      <th>40</th>\n",
       "      <td>ikieshotel</td>\n",
       "      <td>1</td>\n",
       "      <td>1</td>\n",
       "      <td>1</td>\n",
       "      <td>0</td>\n",
       "      <td>0</td>\n",
       "    </tr>\n",
       "    <tr>\n",
       "      <th>41</th>\n",
       "      <td>AtlantisBooks</td>\n",
       "      <td>0</td>\n",
       "      <td>0</td>\n",
       "      <td>0</td>\n",
       "      <td>1</td>\n",
       "      <td>1</td>\n",
       "    </tr>\n",
       "    <tr>\n",
       "      <th>43</th>\n",
       "      <td>CanvasSuites</td>\n",
       "      <td>1</td>\n",
       "      <td>1</td>\n",
       "      <td>1</td>\n",
       "      <td>0</td>\n",
       "      <td>0</td>\n",
       "    </tr>\n",
       "    <tr>\n",
       "      <th>45</th>\n",
       "      <td>georgalashotel</td>\n",
       "      <td>1</td>\n",
       "      <td>1</td>\n",
       "      <td>1</td>\n",
       "      <td>1</td>\n",
       "      <td>0</td>\n",
       "    </tr>\n",
       "    <tr>\n",
       "      <th>47</th>\n",
       "      <td>Nooon_Cafe</td>\n",
       "      <td>0</td>\n",
       "      <td>0</td>\n",
       "      <td>0</td>\n",
       "      <td>1</td>\n",
       "      <td>0</td>\n",
       "    </tr>\n",
       "    <tr>\n",
       "      <th>49</th>\n",
       "      <td>portovalitsa</td>\n",
       "      <td>1</td>\n",
       "      <td>0</td>\n",
       "      <td>1</td>\n",
       "      <td>1</td>\n",
       "      <td>1</td>\n",
       "    </tr>\n",
       "  </tbody>\n",
       "</table>\n",
       "</div>"
      ],
      "text/plain": [
       "        screen_name  true_label  nd  t  fr  fo\n",
       "0      SophiaSuites           1   1  1   0   0\n",
       "1   AnthiMariaApart           1   1  1   0   0\n",
       "2     wEndowproject           1   1  1   1   0\n",
       "3         paphotels           1   0  1   1   1\n",
       "4         medpalace           1   1  1   1   0\n",
       "6         Goodyscom           0   0  0   1   0\n",
       "8      TGIFridaysGR           0   0  0   1   0\n",
       "10      santo_wines           0   0  0   0   1\n",
       "11      Avis_Greece           0   0  0   1   1\n",
       "13    alikescamping           1   0  1   0   0\n",
       "16         remvibar           0   0  1   0   0\n",
       "17   LindianVillage           1   1  1   1   0\n",
       "19  marksandspencer           0   0  0   1   0\n",
       "21    ImperialThess           1   1  1   0   0\n",
       "22    AcroterraRosa           1   1  1   0   0\n",
       "24     cathrinhotel           1   1  1   0   0\n",
       "25  HotelOlympiaSKG           1   1  1   0   1\n",
       "26  EightballLiveSt           0   0  0   1   0\n",
       "27    petrinosuites           1   1  1   1   0\n",
       "28        Napapijri           0   0  0   0   1\n",
       "32    MedRoyalHotel           1   0  1   0   0\n",
       "33     Hotelbluebay           1   1  1   0   1\n",
       "34      SavoyRhodes           1   1  1   0   0\n",
       "36    LeivathoHotel           1   1  1   0   0\n",
       "37       NovaGreece           0   0  0   1   0\n",
       "39       Portokoufo           1   1  0   1   0\n",
       "40       ikieshotel           1   1  1   0   0\n",
       "41    AtlantisBooks           0   0  0   1   1\n",
       "43     CanvasSuites           1   1  1   0   0\n",
       "45   georgalashotel           1   1  1   1   0\n",
       "47       Nooon_Cafe           0   0  0   1   0\n",
       "49     portovalitsa           1   0  1   1   1"
      ]
     },
     "execution_count": 22,
     "metadata": {},
     "output_type": "execute_result"
    }
   ],
   "source": [
    "predictions[(predictions['true_label'] != predictions['nd'])\n",
    "           |(predictions['true_label'] != predictions['t'])\n",
    "           |(predictions['true_label'] != predictions['fr'])\n",
    "           |(predictions['true_label'] != predictions['fo'])][['screen_name','true_label','nd','t','fr','fo']]"
   ]
  },
  {
   "cell_type": "code",
   "execution_count": 9,
   "id": "tested-gilbert",
   "metadata": {},
   "outputs": [
    {
     "data": {
      "text/html": [
       "<div>\n",
       "<style scoped>\n",
       "    .dataframe tbody tr th:only-of-type {\n",
       "        vertical-align: middle;\n",
       "    }\n",
       "\n",
       "    .dataframe tbody tr th {\n",
       "        vertical-align: top;\n",
       "    }\n",
       "\n",
       "    .dataframe thead th {\n",
       "        text-align: right;\n",
       "    }\n",
       "</style>\n",
       "<table border=\"1\" class=\"dataframe\">\n",
       "  <thead>\n",
       "    <tr style=\"text-align: right;\">\n",
       "      <th></th>\n",
       "      <th>screen_name</th>\n",
       "      <th>true_label</th>\n",
       "      <th>t</th>\n",
       "    </tr>\n",
       "  </thead>\n",
       "  <tbody>\n",
       "    <tr>\n",
       "      <th>16</th>\n",
       "      <td>remvibar</td>\n",
       "      <td>0</td>\n",
       "      <td>1</td>\n",
       "    </tr>\n",
       "    <tr>\n",
       "      <th>39</th>\n",
       "      <td>Portokoufo</td>\n",
       "      <td>1</td>\n",
       "      <td>0</td>\n",
       "    </tr>\n",
       "  </tbody>\n",
       "</table>\n",
       "</div>"
      ],
      "text/plain": [
       "   screen_name  true_label  t\n",
       "16    remvibar           0  1\n",
       "39  Portokoufo           1  0"
      ]
     },
     "execution_count": 9,
     "metadata": {},
     "output_type": "execute_result"
    }
   ],
   "source": [
    "predictions[(predictions['true_label'] != predictions['t'])][['screen_name','true_label','t']]"
   ]
  },
  {
   "cell_type": "code",
   "execution_count": null,
   "id": "elementary-amber",
   "metadata": {},
   "outputs": [],
   "source": []
  }
 ],
 "metadata": {
  "kernelspec": {
   "display_name": "Python 3",
   "language": "python",
   "name": "python3"
  },
  "language_info": {
   "codemirror_mode": {
    "name": "ipython",
    "version": 3
   },
   "file_extension": ".py",
   "mimetype": "text/x-python",
   "name": "python",
   "nbconvert_exporter": "python",
   "pygments_lexer": "ipython3",
   "version": "3.8.5"
  }
 },
 "nbformat": 4,
 "nbformat_minor": 5
}
