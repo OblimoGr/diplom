{
 "cells": [
  {
   "cell_type": "markdown",
   "id": "pretty-alarm",
   "metadata": {},
   "source": [
    "# Graph Embedding - Degree of Seperation"
   ]
  },
  {
   "cell_type": "code",
   "execution_count": 2,
   "id": "looking-demand",
   "metadata": {},
   "outputs": [],
   "source": [
    "import tweepy\n",
    "import json\n",
    "import pandas as pd\n",
    "import numpy as np\n",
    "from tqdm.notebook import tqdm\n",
    "import matplotlib.pyplot as plt\n",
    "import seaborn as sns\n",
    "\n",
    "from batoomer.network.degree_separation import degree_of_separation_probabilistic"
   ]
  },
  {
   "cell_type": "code",
   "execution_count": 2,
   "id": "united-relation",
   "metadata": {},
   "outputs": [],
   "source": [
    "twitter_credentials = []\n",
    "with open('../../../../twitter_credentials.json', 'r') as f:\n",
    "    twitter_credentials = json.load(f)   "
   ]
  },
  {
   "cell_type": "markdown",
   "id": "mounted-condition",
   "metadata": {},
   "source": [
    "# Validation Set"
   ]
  },
  {
   "cell_type": "code",
   "execution_count": 3,
   "id": "fantastic-psychiatry",
   "metadata": {
    "collapsed": true,
    "jupyter": {
     "outputs_hidden": true
    }
   },
   "outputs": [
    {
     "data": {
      "text/html": [
       "<div>\n",
       "<style scoped>\n",
       "    .dataframe tbody tr th:only-of-type {\n",
       "        vertical-align: middle;\n",
       "    }\n",
       "\n",
       "    .dataframe tbody tr th {\n",
       "        vertical-align: top;\n",
       "    }\n",
       "\n",
       "    .dataframe thead th {\n",
       "        text-align: right;\n",
       "    }\n",
       "</style>\n",
       "<table border=\"1\" class=\"dataframe\">\n",
       "  <thead>\n",
       "    <tr style=\"text-align: right;\">\n",
       "      <th></th>\n",
       "      <th>screen_name</th>\n",
       "      <th>name</th>\n",
       "      <th>description</th>\n",
       "      <th>statuses_count</th>\n",
       "      <th>recent_100_tweets</th>\n",
       "      <th>friends_count</th>\n",
       "      <th>recent_100_friends_nd</th>\n",
       "      <th>followers_count</th>\n",
       "      <th>default_profile_image</th>\n",
       "      <th>favourites_count</th>\n",
       "      <th>parliament_member</th>\n",
       "      <th>friends_politician_count_1000</th>\n",
       "      <th>followers_politician_count_1000</th>\n",
       "      <th>mentions_politician_count</th>\n",
       "    </tr>\n",
       "  </thead>\n",
       "  <tbody>\n",
       "    <tr>\n",
       "      <th>0</th>\n",
       "      <td>papakostakater</td>\n",
       "      <td>ΚΑΤΕΡΙΝΑ ΠΑΠΑΚΩΣΤΑ - ΠΑΛΙΟΥΡΑ</td>\n",
       "      <td>Δικηγόρος ~ \\nΒουλευτής Νέας Δημοκρατίας Νομού...</td>\n",
       "      <td>77</td>\n",
       "      <td>RT @MarkopoulosChTh: The ReMARKables: Η Βουλε...</td>\n",
       "      <td>202</td>\n",
       "      <td>Markopoulos_Ch_Th | BA Communication Speciali...</td>\n",
       "      <td>159</td>\n",
       "      <td>False</td>\n",
       "      <td>94</td>\n",
       "      <td>1</td>\n",
       "      <td>98</td>\n",
       "      <td>13.0</td>\n",
       "      <td>0</td>\n",
       "    </tr>\n",
       "    <tr>\n",
       "      <th>1</th>\n",
       "      <td>raptizoi</td>\n",
       "      <td>Ζωή Ράπτη</td>\n",
       "      <td>Υφυπουργός Υγείας, Bουλευτής Β1 Βορείου Τομέα ...</td>\n",
       "      <td>1891</td>\n",
       "      <td>RT @MegaTvOfficial: Πολιτική αντιπαράθεση για...</td>\n",
       "      <td>861</td>\n",
       "      <td>Kamala Harris Fighting for the people. Wife, ...</td>\n",
       "      <td>2667</td>\n",
       "      <td>False</td>\n",
       "      <td>4252</td>\n",
       "      <td>1</td>\n",
       "      <td>251</td>\n",
       "      <td>4.0</td>\n",
       "      <td>50</td>\n",
       "    </tr>\n",
       "    <tr>\n",
       "      <th>2</th>\n",
       "      <td>nkerameus</td>\n",
       "      <td>Niki Kerameus</td>\n",
       "      <td>Υπουργός Παιδείας και Θρησκευμάτων, Βουλευτής ...</td>\n",
       "      <td>5135</td>\n",
       "      <td>Ένα είναι το μήνυμα της σημερινής ημέρας προς...</td>\n",
       "      <td>714</td>\n",
       "      <td>European Commission 🇪🇺 News and information f...</td>\n",
       "      <td>40000</td>\n",
       "      <td>False</td>\n",
       "      <td>2809</td>\n",
       "      <td>1</td>\n",
       "      <td>202</td>\n",
       "      <td>0.0</td>\n",
       "      <td>32</td>\n",
       "    </tr>\n",
       "    <tr>\n",
       "      <th>3</th>\n",
       "      <td>AndreasPoulas</td>\n",
       "      <td>Ανδρέας Πουλάς</td>\n",
       "      <td>Βουλευτής Ν. Αργολίδας - ΚΙΝΗΜΑ ΑΛΛΑΓΗΣ</td>\n",
       "      <td>326</td>\n",
       "      <td>RT @amna_news: .@AndreasPoulas (#ΚΙΝΑΛ): «Πολ...</td>\n",
       "      <td>99</td>\n",
       "      <td>Aggelos Gavris Αρχισυντάκτης / ιδιοκτήτης @Th...</td>\n",
       "      <td>389</td>\n",
       "      <td>False</td>\n",
       "      <td>200</td>\n",
       "      <td>1</td>\n",
       "      <td>43</td>\n",
       "      <td>9.0</td>\n",
       "      <td>22</td>\n",
       "    </tr>\n",
       "    <tr>\n",
       "      <th>4</th>\n",
       "      <td>Dora_Bakoyannis</td>\n",
       "      <td>Ντόρα Μπακογιάννη</td>\n",
       "      <td>To λογαριασμό συνήθως χειρίζεται συνεργάτης μο...</td>\n",
       "      <td>13916</td>\n",
       "      <td>Συνέντευξη Ντόρας Μπακογιάννη στον @SkaitvGR ...</td>\n",
       "      <td>6825</td>\n",
       "      <td>Michael Bertakis 36 years old Work Provisions...</td>\n",
       "      <td>155118</td>\n",
       "      <td>False</td>\n",
       "      <td>3184</td>\n",
       "      <td>1</td>\n",
       "      <td>103</td>\n",
       "      <td>0.0</td>\n",
       "      <td>6</td>\n",
       "    </tr>\n",
       "  </tbody>\n",
       "</table>\n",
       "</div>"
      ],
      "text/plain": [
       "       screen_name                           name  \\\n",
       "0   papakostakater  ΚΑΤΕΡΙΝΑ ΠΑΠΑΚΩΣΤΑ - ΠΑΛΙΟΥΡΑ   \n",
       "1         raptizoi                      Ζωή Ράπτη   \n",
       "2        nkerameus                  Niki Kerameus   \n",
       "3    AndreasPoulas                 Ανδρέας Πουλάς   \n",
       "4  Dora_Bakoyannis              Ντόρα Μπακογιάννη   \n",
       "\n",
       "                                         description  statuses_count  \\\n",
       "0  Δικηγόρος ~ \\nΒουλευτής Νέας Δημοκρατίας Νομού...              77   \n",
       "1  Υφυπουργός Υγείας, Bουλευτής Β1 Βορείου Τομέα ...            1891   \n",
       "2  Υπουργός Παιδείας και Θρησκευμάτων, Βουλευτής ...            5135   \n",
       "3            Βουλευτής Ν. Αργολίδας - ΚΙΝΗΜΑ ΑΛΛΑΓΗΣ             326   \n",
       "4  To λογαριασμό συνήθως χειρίζεται συνεργάτης μο...           13916   \n",
       "\n",
       "                                   recent_100_tweets  friends_count  \\\n",
       "0   RT @MarkopoulosChTh: The ReMARKables: Η Βουλε...            202   \n",
       "1   RT @MegaTvOfficial: Πολιτική αντιπαράθεση για...            861   \n",
       "2   Ένα είναι το μήνυμα της σημερινής ημέρας προς...            714   \n",
       "3   RT @amna_news: .@AndreasPoulas (#ΚΙΝΑΛ): «Πολ...             99   \n",
       "4   Συνέντευξη Ντόρας Μπακογιάννη στον @SkaitvGR ...           6825   \n",
       "\n",
       "                               recent_100_friends_nd  followers_count  \\\n",
       "0   Markopoulos_Ch_Th | BA Communication Speciali...              159   \n",
       "1   Kamala Harris Fighting for the people. Wife, ...             2667   \n",
       "2   European Commission 🇪🇺 News and information f...            40000   \n",
       "3   Aggelos Gavris Αρχισυντάκτης / ιδιοκτήτης @Th...              389   \n",
       "4   Michael Bertakis 36 years old Work Provisions...           155118   \n",
       "\n",
       "   default_profile_image  favourites_count  parliament_member  \\\n",
       "0                  False                94                  1   \n",
       "1                  False              4252                  1   \n",
       "2                  False              2809                  1   \n",
       "3                  False               200                  1   \n",
       "4                  False              3184                  1   \n",
       "\n",
       "   friends_politician_count_1000  followers_politician_count_1000  \\\n",
       "0                             98                             13.0   \n",
       "1                            251                              4.0   \n",
       "2                            202                              0.0   \n",
       "3                             43                              9.0   \n",
       "4                            103                              0.0   \n",
       "\n",
       "   mentions_politician_count  \n",
       "0                          0  \n",
       "1                         50  \n",
       "2                         32  \n",
       "3                         22  \n",
       "4                          6  "
      ]
     },
     "execution_count": 3,
     "metadata": {},
     "output_type": "execute_result"
    }
   ],
   "source": [
    "# Read Validation Set\n",
    "data = pd.read_csv('../../../../datasets/Greek Politicians/classification/parliament_members_validation_set.csv', )\n",
    "data = data.replace(np.nan, '')\n",
    "data.head()"
   ]
  },
  {
   "cell_type": "markdown",
   "id": "comprehensive-fight",
   "metadata": {},
   "source": [
    "## Calculate Degrees"
   ]
  },
  {
   "cell_type": "code",
   "execution_count": 4,
   "id": "moderate-bikini",
   "metadata": {
    "collapsed": true,
    "jupyter": {
     "outputs_hidden": true
    }
   },
   "outputs": [
    {
     "data": {
      "application/vnd.jupyter.widget-view+json": {
       "model_id": "8f830d16bb3e442d8e488ff7f07705f2",
       "version_major": 2,
       "version_minor": 0
      },
      "text/plain": [
       "  0%|          | 0/100 [00:00<?, ?it/s]"
      ]
     },
     "metadata": {},
     "output_type": "display_data"
    },
    {
     "name": "stdout",
     "output_type": "stream",
     "text": [
      "Calculating Degrees for papakostakater\n"
     ]
    },
    {
     "name": "stderr",
     "output_type": "stream",
     "text": [
      "Rate limit reached. Sleeping for: 702\n"
     ]
    },
    {
     "name": "stdout",
     "output_type": "stream",
     "text": [
      "[1, 2, 2, 2, 2, 1, 1, 2, 2, 3]\n",
      "Calculating Degrees for raptizoi\n"
     ]
    },
    {
     "name": "stderr",
     "output_type": "stream",
     "text": [
      "Rate limit reached. Sleeping for: 852\n"
     ]
    },
    {
     "name": "stdout",
     "output_type": "stream",
     "text": [
      "[1, 2, 2, 2, 2, 1, 1, 1, 1, 2]\n",
      "Calculating Degrees for nkerameus\n"
     ]
    },
    {
     "name": "stderr",
     "output_type": "stream",
     "text": [
      "Rate limit reached. Sleeping for: 863\n"
     ]
    },
    {
     "name": "stdout",
     "output_type": "stream",
     "text": [
      "[1, 1, 1, 2, 2, 1, 1, 1, 1, 1]\n",
      "Calculating Degrees for AndreasPoulas\n"
     ]
    },
    {
     "name": "stderr",
     "output_type": "stream",
     "text": [
      "Rate limit reached. Sleeping for: 860\n"
     ]
    },
    {
     "name": "stdout",
     "output_type": "stream",
     "text": [
      "[3, 3, 1, 2, 2, 3, 3, 1, 2, 3]\n",
      "Calculating Degrees for Dora_Bakoyannis\n",
      "[1, 1, 1, 2, 2, 2, 1, 1, 1, 2]\n",
      "Calculating Degrees for GVaremenos\n"
     ]
    },
    {
     "name": "stderr",
     "output_type": "stream",
     "text": [
      "Rate limit reached. Sleeping for: 856\n"
     ]
    },
    {
     "name": "stdout",
     "output_type": "stream",
     "text": [
      "[2, 1, 2, 2, 2, 3, 1, 2, 2, 2]\n",
      "Calculating Degrees for a_vesiropoulos\n"
     ]
    },
    {
     "name": "stderr",
     "output_type": "stream",
     "text": [
      "Rate limit reached. Sleeping for: 853\n"
     ]
    },
    {
     "name": "stdout",
     "output_type": "stream",
     "text": [
      "[1, 3, 2, 2, 2, 1, 3, 3, 2, 3]\n",
      "Calculating Degrees for tzakri\n",
      "[-1, -1, -1, -1, -1, -1, -1, -1, -1, -1]\n",
      "Calculating Degrees for atsipras\n"
     ]
    },
    {
     "name": "stderr",
     "output_type": "stream",
     "text": [
      "Rate limit reached. Sleeping for: 771\n"
     ]
    },
    {
     "name": "stdout",
     "output_type": "stream",
     "text": [
      "[1, 1, 2, 2, 2, 1, 0, 1, 2, 4]\n",
      "Calculating Degrees for joikonomou\n",
      "[1, 1, 2, 2, 2, 1, 1, 2, 2, 1]\n",
      "Calculating Degrees for dimitrisbiagkis\n"
     ]
    },
    {
     "name": "stderr",
     "output_type": "stream",
     "text": [
      "Rate limit reached. Sleeping for: 736\n"
     ]
    },
    {
     "name": "stdout",
     "output_type": "stream",
     "text": [
      "[3, 3, 1, 2, 2, 1, 3, 1, 2, 2]\n",
      "Calculating Degrees for samaras_antonis\n"
     ]
    },
    {
     "name": "stderr",
     "output_type": "stream",
     "text": [
      "Rate limit reached. Sleeping for: 54\n",
      "Rate limit reached. Sleeping for: 781\n"
     ]
    },
    {
     "name": "stdout",
     "output_type": "stream",
     "text": [
      "[1, 2, 2, 3, 3, 3, 3, 2, 3, 3]\n",
      "Calculating Degrees for FKarasarlidou\n"
     ]
    },
    {
     "name": "stderr",
     "output_type": "stream",
     "text": [
      "Rate limit reached. Sleeping for: 859\n"
     ]
    },
    {
     "name": "stdout",
     "output_type": "stream",
     "text": [
      "[3, 1, 2, 2, 2, 3, 1, 2, 3, 1]\n",
      "Calculating Degrees for d_tzanakopoulos\n"
     ]
    },
    {
     "name": "stderr",
     "output_type": "stream",
     "text": [
      "Rate limit reached. Sleeping for: 850\n"
     ]
    },
    {
     "name": "stdout",
     "output_type": "stream",
     "text": [
      "[1, 1, 2, 2, 2, 1, 1, 1, 2, 4]\n",
      "Calculating Degrees for chrysomallism\n"
     ]
    },
    {
     "name": "stderr",
     "output_type": "stream",
     "text": [
      "Rate limit reached. Sleeping for: 696\n"
     ]
    },
    {
     "name": "stdout",
     "output_type": "stream",
     "text": [
      "[3, 2, 2, 2, 2, 1, 1, 2, 2, 4]\n",
      "Calculating Degrees for sokrvardakis\n",
      "[2, 2, 2, 2, 2, 2, 1, 2, 2, 3]\n",
      "Calculating Degrees for GVagionas\n"
     ]
    },
    {
     "name": "stderr",
     "output_type": "stream",
     "text": [
      "Rate limit reached. Sleeping for: 742\n"
     ]
    },
    {
     "name": "stdout",
     "output_type": "stream",
     "text": [
      "[1, 3, 2, 3, 2, 1, 3, 1, 2, 3]\n",
      "Calculating Degrees for SimosKedikoglou\n"
     ]
    },
    {
     "name": "stderr",
     "output_type": "stream",
     "text": [
      "Rate limit reached. Sleeping for: 858\n"
     ]
    },
    {
     "name": "stdout",
     "output_type": "stream",
     "text": [
      "[1, 2, 2, 2, 2, 1, 4, 2, 1, 1]\n",
      "Calculating Degrees for RoussopoulosTh\n"
     ]
    },
    {
     "name": "stderr",
     "output_type": "stream",
     "text": [
      "Rate limit reached. Sleeping for: 642\n",
      "Rate limit reached. Sleeping for: 472\n"
     ]
    },
    {
     "name": "stdout",
     "output_type": "stream",
     "text": [
      "[1, 5, 3, 3, 3, 4, 4, 5, 3, 5]\n",
      "Calculating Degrees for amirasgiorgos\n"
     ]
    },
    {
     "name": "stderr",
     "output_type": "stream",
     "text": [
      "Rate limit reached. Sleeping for: 711\n"
     ]
    },
    {
     "name": "stdout",
     "output_type": "stream",
     "text": [
      "[1, 2, 2, 2, 2, 1, 1, 1, 2, 1]\n",
      "Calculating Degrees for giannoul\n",
      "[1, 1, 2, 2, 2, 1, 1, 1, 2, 1]\n",
      "Calculating Degrees for ioannis_mpougas\n"
     ]
    },
    {
     "name": "stderr",
     "output_type": "stream",
     "text": [
      "Rate limit reached. Sleeping for: 858\n"
     ]
    },
    {
     "name": "stdout",
     "output_type": "stream",
     "text": [
      "[1, 2, 2, 2, 2, 1, 2, 2, 2, 4]\n",
      "Calculating Degrees for georgantasgr\n"
     ]
    },
    {
     "name": "stderr",
     "output_type": "stream",
     "text": [
      "Rate limit reached. Sleeping for: 777\n"
     ]
    },
    {
     "name": "stdout",
     "output_type": "stream",
     "text": [
      "[3, 2, 2, 2, 2, 1, 3, 3, 3, 3]\n",
      "Calculating Degrees for BurhanBaranDr\n"
     ]
    },
    {
     "name": "stderr",
     "output_type": "stream",
     "text": [
      "Rate limit reached. Sleeping for: 858\n"
     ]
    },
    {
     "name": "stdout",
     "output_type": "stream",
     "text": [
      "[2, 2, 1, 2, 2, 3, 3, 1, 2, 2]\n",
      "Calculating Degrees for ViliardosV\n"
     ]
    },
    {
     "name": "stderr",
     "output_type": "stream",
     "text": [
      "Rate limit reached. Sleeping for: 773\n"
     ]
    },
    {
     "name": "stdout",
     "output_type": "stream",
     "text": [
      "[1, 3, 1, 1, 2, 1, 1, 1, 1, 1]\n",
      "Calculating Degrees for pskourl\n",
      "[2, 1, 2, 2, 2, 2, 1, 2, 2, 1]\n",
      "Calculating Degrees for tsakalotos\n"
     ]
    },
    {
     "name": "stderr",
     "output_type": "stream",
     "text": [
      "Rate limit reached. Sleeping for: 853\n"
     ]
    },
    {
     "name": "stdout",
     "output_type": "stream",
     "text": [
      "[3, 1, 2, 2, 2, 3, 1, 2, 2, 1]\n",
      "Calculating Degrees for mvlazaridis\n"
     ]
    },
    {
     "name": "stderr",
     "output_type": "stream",
     "text": [
      "Rate limit reached. Sleeping for: 842\n"
     ]
    },
    {
     "name": "stdout",
     "output_type": "stream",
     "text": [
      "[1, 1, 1, 2, 2, 1, 1, 1, 1, 1]\n",
      "Calculating Degrees for Arvanitidis_Geo\n",
      "[1, 1, 1, 2, 1, 1, 1, 1, 1, 1]\n",
      "Calculating Degrees for olgakef\n"
     ]
    },
    {
     "name": "stderr",
     "output_type": "stream",
     "text": [
      "Rate limit reached. Sleeping for: 863\n"
     ]
    },
    {
     "name": "stdout",
     "output_type": "stream",
     "text": [
      "[1, 1, 2, 2, 2, 1, 5, 1, 1, 4]\n",
      "Calculating Degrees for fbaraliakos\n"
     ]
    },
    {
     "name": "stderr",
     "output_type": "stream",
     "text": [
      "Rate limit reached. Sleeping for: 619\n"
     ]
    },
    {
     "name": "stdout",
     "output_type": "stream",
     "text": [
      "[1, 2, 2, 2, 2, 1, 2, 2, 2, 1]\n",
      "Calculating Degrees for thanos_moraitis\n"
     ]
    },
    {
     "name": "stderr",
     "output_type": "stream",
     "text": [
      "Rate limit reached. Sleeping for: 855\n"
     ]
    },
    {
     "name": "stdout",
     "output_type": "stream",
     "text": [
      "[2, 1, 2, 2, 2, 2, 1, 1, 2, 2]\n",
      "Calculating Degrees for nikosfilis1\n"
     ]
    },
    {
     "name": "stderr",
     "output_type": "stream",
     "text": [
      "Rate limit reached. Sleeping for: 857\n"
     ]
    },
    {
     "name": "stdout",
     "output_type": "stream",
     "text": [
      "[3, 1, 2, 2, 2, 3, 1, 3, 3, 3]\n",
      "Calculating Degrees for Vkikilias\n",
      "[1, 2, 2, 2, 2, 1, 2, 1, 1, 4]\n",
      "Calculating Degrees for marilizaxen\n"
     ]
    },
    {
     "name": "stderr",
     "output_type": "stream",
     "text": [
      "Rate limit reached. Sleeping for: 694\n"
     ]
    },
    {
     "name": "stdout",
     "output_type": "stream",
     "text": [
      "[4, 2, 2, 2, 2, 2, 3, 2, 2, 1]\n",
      "Calculating Degrees for ChStefanadis\n"
     ]
    },
    {
     "name": "stderr",
     "output_type": "stream",
     "text": [
      "Rate limit reached. Sleeping for: 845\n"
     ]
    },
    {
     "name": "stdout",
     "output_type": "stream",
     "text": [
      "[1, 3, 2, 3, 2, 1, 1, 1, 2, 1]\n",
      "Calculating Degrees for e_stylianidis\n"
     ]
    },
    {
     "name": "stderr",
     "output_type": "stream",
     "text": [
      "Rate limit reached. Sleeping for: 860\n"
     ]
    },
    {
     "name": "stdout",
     "output_type": "stream",
     "text": [
      "[1, 1, 2, 2, 2, 1, 1, 1, 1, 1]\n",
      "Calculating Degrees for PanasApostolos\n",
      "[3, 2, 1, 2, 2, 3, 3, 1, 2, 2]\n",
      "Calculating Degrees for KostasVlasis\n"
     ]
    },
    {
     "name": "stderr",
     "output_type": "stream",
     "text": [
      "Rate limit reached. Sleeping for: 854\n"
     ]
    },
    {
     "name": "stdout",
     "output_type": "stream",
     "text": [
      "[1, 2, 2, 2, 2, 1, 3, 3, 2, 1]\n",
      "Calculating Degrees for tsigris_angelos\n"
     ]
    },
    {
     "name": "stderr",
     "output_type": "stream",
     "text": [
      "Rate limit reached. Sleeping for: 717\n",
      "Rate limit reached. Sleeping for: 834\n"
     ]
    },
    {
     "name": "stdout",
     "output_type": "stream",
     "text": [
      "[1, 3, 2, 3, 3, 1, 3, 3, 3, 3]\n",
      "Calculating Degrees for GKoumoutsakos\n",
      "[1, 1, 1, 2, 2, 1, 1, 1, 1, 1]\n",
      "Calculating Degrees for The_Leontaridis\n"
     ]
    },
    {
     "name": "stderr",
     "output_type": "stream",
     "text": [
      "Rate limit reached. Sleeping for: 860\n"
     ]
    },
    {
     "name": "stdout",
     "output_type": "stream",
     "text": [
      "[1, 2, 2, 2, 2, 1, 3, 2, 2, 3]\n",
      "Calculating Degrees for karamanlis_k\n"
     ]
    },
    {
     "name": "stderr",
     "output_type": "stream",
     "text": [
      "Rate limit reached. Sleeping for: 848\n"
     ]
    },
    {
     "name": "stdout",
     "output_type": "stream",
     "text": [
      "[1, 2, 2, 2, 2, 1, 2, 2, 2, 3]\n",
      "Calculating Degrees for YiannisLoverdos\n",
      "[1, 2, 2, 2, 2, 2, 2, 2, 2, 2]\n",
      "Calculating Degrees for BSkoufa\n"
     ]
    },
    {
     "name": "stderr",
     "output_type": "stream",
     "text": [
      "Rate limit reached. Sleeping for: 842\n"
     ]
    },
    {
     "name": "stdout",
     "output_type": "stream",
     "text": [
      "[3, 1, 2, 2, 2, 2, 1, 2, 2, 4]\n",
      "Calculating Degrees for gragkousis\n"
     ]
    },
    {
     "name": "stderr",
     "output_type": "stream",
     "text": [
      "Rate limit reached. Sleeping for: 720\n",
      "Rate limit reached. Sleeping for: 37\n"
     ]
    },
    {
     "name": "stdout",
     "output_type": "stream",
     "text": [
      "[2, 1, 2, 2, 2, 2, 1, 1, 2, 3]\n",
      "Calculating Degrees for yiannismelas\n"
     ]
    },
    {
     "name": "stderr",
     "output_type": "stream",
     "text": [
      "Rate limit reached. Sleeping for: 747\n"
     ]
    },
    {
     "name": "stdout",
     "output_type": "stream",
     "text": [
      "[1, 2, 2, 2, 2, 1, 1, 1, 1, 1]\n",
      "Calculating Degrees for YDragasakis\n",
      "[3, 1, 2, 2, 2, 1, 1, 2, 2, 1]\n",
      "Calculating Degrees for olgagerovasili\n"
     ]
    },
    {
     "name": "stderr",
     "output_type": "stream",
     "text": [
      "Rate limit reached. Sleeping for: 793\n"
     ]
    },
    {
     "name": "stdout",
     "output_type": "stream",
     "text": [
      "[1, 1, 1, 2, 1, 1, 1, 1, 2, 1]\n",
      "Calculating Degrees for OikonomouVasili\n"
     ]
    },
    {
     "name": "stderr",
     "output_type": "stream",
     "text": [
      "Rate limit reached. Sleeping for: 856\n"
     ]
    },
    {
     "name": "stdout",
     "output_type": "stream",
     "text": [
      "[1, 2, 2, 2, 2, 1, 2, 2, 2, 2]\n",
      "Calculating Degrees for brooks_evi\n"
     ]
    },
    {
     "name": "stderr",
     "output_type": "stream",
     "text": [
      "Rate limit reached. Sleeping for: 389\n"
     ]
    },
    {
     "name": "stdout",
     "output_type": "stream",
     "text": [
      "[3, 3, 2, 4, 4, 4, 5, 2, 2, 1]\n",
      "Calculating Degrees for karamanli72\n"
     ]
    },
    {
     "name": "stderr",
     "output_type": "stream",
     "text": [
      "Rate limit reached. Sleeping for: 413\n",
      "Rate limit reached. Sleeping for: 432\n"
     ]
    },
    {
     "name": "stdout",
     "output_type": "stream",
     "text": [
      "[4, 3, 3, 4, 3, 4, 4, 4, 3, 3]\n",
      "Calculating Degrees for vasilisgio\n",
      "Something went wrong!\n",
      "Failed to send request: HTTPSConnectionPool(host='api.twitter.com', port=443): Read timed out. (read timeout=180)\n",
      "Something went wrong!\n",
      "Failed to send request: HTTPSConnectionPool(host='api.twitter.com', port=443): Read timed out. (read timeout=180)\n"
     ]
    },
    {
     "name": "stderr",
     "output_type": "stream",
     "text": [
      "Rate limit reached. Sleeping for: 57\n"
     ]
    },
    {
     "name": "stdout",
     "output_type": "stream",
     "text": [
      "[5, 5, None, 4, None, 4, 4, 5, 5, 4]\n",
      "Calculating Degrees for KellasAchi\n",
      "[1, 2, 2, 2, 2, 1, 1, 2, 2, 1]\n",
      "Calculating Degrees for gefthimiou\n"
     ]
    },
    {
     "name": "stderr",
     "output_type": "stream",
     "text": [
      "Rate limit reached. Sleeping for: 224\n",
      "Rate limit reached. Sleeping for: 557\n"
     ]
    },
    {
     "name": "stdout",
     "output_type": "stream",
     "text": [
      "[3, 3, 2, 2, 2, 3, 3, 2, 2, 1]\n",
      "Calculating Degrees for Georgadas\n"
     ]
    },
    {
     "name": "stderr",
     "output_type": "stream",
     "text": [
      "Rate limit reached. Sleeping for: 792\n"
     ]
    },
    {
     "name": "stdout",
     "output_type": "stream",
     "text": [
      "[3, 2, 2, 2, 2, 1, 1, 1, 2, 1]\n",
      "Calculating Degrees for JohnVagion\n",
      "[-1, -1, -1, -1, -1, -1, -1, -1, -1, -1]\n",
      "Calculating Degrees for helena_raptis\n"
     ]
    },
    {
     "name": "stderr",
     "output_type": "stream",
     "text": [
      "Rate limit reached. Sleeping for: 667\n"
     ]
    },
    {
     "name": "stdout",
     "output_type": "stream",
     "text": [
      "Something went wrong!\n",
      "Failed to send request: HTTPSConnectionPool(host='api.twitter.com', port=443): Read timed out. (read timeout=180)\n"
     ]
    },
    {
     "name": "stderr",
     "output_type": "stream",
     "text": [
      "Rate limit reached. Sleeping for: 150\n"
     ]
    },
    {
     "name": "stdout",
     "output_type": "stream",
     "text": [
      "[4, 4, 3, 4, None, 4, 4, 4, 3, 4]\n",
      "Calculating Degrees for MobakosS\n"
     ]
    },
    {
     "name": "stderr",
     "output_type": "stream",
     "text": [
      "Rate limit reached. Sleeping for: 366\n"
     ]
    },
    {
     "name": "stdout",
     "output_type": "stream",
     "text": [
      "Something went wrong!\n",
      "Failed to send request: HTTPSConnectionPool(host='api.twitter.com', port=443): Read timed out. (read timeout=180)\n"
     ]
    },
    {
     "name": "stderr",
     "output_type": "stream",
     "text": [
      "Rate limit reached. Sleeping for: 253\n"
     ]
    },
    {
     "name": "stdout",
     "output_type": "stream",
     "text": [
      "Something went wrong!\n",
      "Failed to send request: HTTPSConnectionPool(host='api.twitter.com', port=443): Read timed out. (read timeout=180)\n"
     ]
    },
    {
     "name": "stderr",
     "output_type": "stream",
     "text": [
      "Rate limit reached. Sleeping for: 185\n"
     ]
    },
    {
     "name": "stdout",
     "output_type": "stream",
     "text": [
      "[4, 4, None, 4, 6, 5, 4, 4, None, 4]\n",
      "Calculating Degrees for mahisakorafa\n"
     ]
    },
    {
     "name": "stderr",
     "output_type": "stream",
     "text": [
      "Rate limit reached. Sleeping for: 553\n"
     ]
    },
    {
     "name": "stdout",
     "output_type": "stream",
     "text": [
      "[4, 4, 2, 3, 3, 3, 4, 3, 3, 3]\n",
      "Calculating Degrees for Ipsilantis1917\n"
     ]
    },
    {
     "name": "stderr",
     "output_type": "stream",
     "text": [
      "Rate limit reached. Sleeping for: 547\n",
      "Rate limit reached. Sleeping for: 8\n"
     ]
    },
    {
     "name": "stdout",
     "output_type": "stream",
     "text": [
      "[3, 3, 2, 2, 2, 3, 2, 2, 2, 1]\n",
      "Calculating Degrees for andrpapandreou_\n"
     ]
    },
    {
     "name": "stderr",
     "output_type": "stream",
     "text": [
      "Rate limit reached. Sleeping for: 819\n"
     ]
    },
    {
     "name": "stdout",
     "output_type": "stream",
     "text": [
      "[2, 1, 2, 2, 2, 1, 1, 1, 2, 1]\n",
      "Calculating Degrees for q4JbLQUiOaQNIfJ\n"
     ]
    },
    {
     "name": "stderr",
     "output_type": "stream",
     "text": [
      "Rate limit reached. Sleeping for: 638\n"
     ]
    },
    {
     "name": "stdout",
     "output_type": "stream",
     "text": [
      "Something went wrong!\n",
      "Failed to send request: HTTPSConnectionPool(host='api.twitter.com', port=443): Read timed out. (read timeout=180)\n"
     ]
    },
    {
     "name": "stderr",
     "output_type": "stream",
     "text": [
      "Rate limit reached. Sleeping for: 272\n",
      "Rate limit reached. Sleeping for: 223\n"
     ]
    },
    {
     "name": "stdout",
     "output_type": "stream",
     "text": [
      "[4, 3, 5, 5, None, 4, 4, 4, 3, 5]\n",
      "Calculating Degrees for BrigTheoxaris\n",
      "[2, 2, 2, 2, 2, 1, 2, 2, 2, 1]\n",
      "Calculating Degrees for vasilikigian82\n"
     ]
    },
    {
     "name": "stderr",
     "output_type": "stream",
     "text": [
      "Rate limit reached. Sleeping for: 745\n",
      "Rate limit reached. Sleeping for: 81\n"
     ]
    },
    {
     "name": "stdout",
     "output_type": "stream",
     "text": [
      "[3, 3, 2, 3, 3, 1, 1, 3, 2, 3]\n",
      "Calculating Degrees for escapecorfu\n"
     ]
    },
    {
     "name": "stderr",
     "output_type": "stream",
     "text": [
      "Rate limit reached. Sleeping for: 704\n"
     ]
    },
    {
     "name": "stdout",
     "output_type": "stream",
     "text": [
      "Something went wrong!\n",
      "Failed to send request: HTTPSConnectionPool(host='api.twitter.com', port=443): Read timed out. (read timeout=180)\n"
     ]
    },
    {
     "name": "stderr",
     "output_type": "stream",
     "text": [
      "Rate limit reached. Sleeping for: 263\n"
     ]
    },
    {
     "name": "stdout",
     "output_type": "stream",
     "text": [
      "[3, 3, 2, 2, None, 4, 1, 5, 2, 4]\n",
      "Calculating Degrees for MdChristos\n"
     ]
    },
    {
     "name": "stderr",
     "output_type": "stream",
     "text": [
      "Rate limit reached. Sleeping for: 92\n",
      "Rate limit reached. Sleeping for: 626\n"
     ]
    },
    {
     "name": "stdout",
     "output_type": "stream",
     "text": [
      "[3, 3, 3, 2, 3, 3, 3, 3, 2, 3]\n",
      "Calculating Degrees for QMsHYvXHGJj0Ncl\n"
     ]
    },
    {
     "name": "stderr",
     "output_type": "stream",
     "text": [
      "Rate limit reached. Sleeping for: 520\n"
     ]
    },
    {
     "name": "stdout",
     "output_type": "stream",
     "text": [
      "Something went wrong!\n",
      "Failed to send request: HTTPSConnectionPool(host='api.twitter.com', port=443): Read timed out. (read timeout=180)\n",
      "Something went wrong!\n",
      "Failed to send request: HTTPSConnectionPool(host='api.twitter.com', port=443): Read timed out. (read timeout=180)\n",
      "[4, 5, 5, 4, None, None, 4, 4, 5, 3]\n",
      "Calculating Degrees for kostasplevris\n"
     ]
    },
    {
     "name": "stderr",
     "output_type": "stream",
     "text": [
      "Rate limit reached. Sleeping for: 298\n",
      "Rate limit reached. Sleeping for: 156\n",
      "Rate limit reached. Sleeping for: 704\n"
     ]
    },
    {
     "name": "stdout",
     "output_type": "stream",
     "text": [
      "[3, 3, 3, 3, 3, 3, 3, 3, 3, 3]\n",
      "Calculating Degrees for bsimopoulos9\n",
      "Something went wrong!\n",
      "Failed to send request: HTTPSConnectionPool(host='api.twitter.com', port=443): Read timed out. (read timeout=180)\n",
      "Something went wrong!\n",
      "Failed to send request: HTTPSConnectionPool(host='api.twitter.com', port=443): Read timed out. (read timeout=180)\n"
     ]
    },
    {
     "name": "stderr",
     "output_type": "stream",
     "text": [
      "Rate limit reached. Sleeping for: 524\n"
     ]
    },
    {
     "name": "stdout",
     "output_type": "stream",
     "text": [
      "Something went wrong!\n",
      "Failed to send request: HTTPSConnectionPool(host='api.twitter.com', port=443): Read timed out. (read timeout=180)\n",
      "[4, 4, None, None, None, 4, 4, 4, 4, 4]\n",
      "Calculating Degrees for CharilaosKara\n"
     ]
    },
    {
     "name": "stderr",
     "output_type": "stream",
     "text": [
      "Rate limit reached. Sleeping for: 129\n",
      "Rate limit reached. Sleeping for: 172\n"
     ]
    },
    {
     "name": "stdout",
     "output_type": "stream",
     "text": [
      "[4, 3, 2, 2, 2, 3, 4, 2, 2, 1]\n",
      "Calculating Degrees for 5eh58Ejx5fT5cyL\n"
     ]
    },
    {
     "name": "stderr",
     "output_type": "stream",
     "text": [
      "Rate limit reached. Sleeping for: 504\n"
     ]
    },
    {
     "name": "stdout",
     "output_type": "stream",
     "text": [
      "Something went wrong!\n",
      "Failed to send request: HTTPSConnectionPool(host='api.twitter.com', port=443): Read timed out. (read timeout=180)\n"
     ]
    },
    {
     "name": "stderr",
     "output_type": "stream",
     "text": [
      "Rate limit reached. Sleeping for: 64\n"
     ]
    },
    {
     "name": "stdout",
     "output_type": "stream",
     "text": [
      "[4, 4, 5, 4, None, 4, 4, 4, 5, 4]\n",
      "Calculating Degrees for adamoumarios1\n"
     ]
    },
    {
     "name": "stderr",
     "output_type": "stream",
     "text": [
      "Rate limit reached. Sleeping for: 160\n"
     ]
    },
    {
     "name": "stdout",
     "output_type": "stream",
     "text": [
      "Something went wrong!\n",
      "Failed to send request: HTTPSConnectionPool(host='api.twitter.com', port=443): Read timed out. (read timeout=180)\n"
     ]
    },
    {
     "name": "stderr",
     "output_type": "stream",
     "text": [
      "Rate limit reached. Sleeping for: 15\n",
      "Rate limit reached. Sleeping for: 465\n"
     ]
    },
    {
     "name": "stdout",
     "output_type": "stream",
     "text": [
      "[3, 3, 2, 4, None, 1, 1, 3, 2, 1]\n",
      "Calculating Degrees for ELEFTHERIADOU_P\n",
      "[1, 3, 2, 2, 2, 1, 3, 2, 2, 3]\n",
      "Calculating Degrees for adiavroxoi\n"
     ]
    },
    {
     "name": "stderr",
     "output_type": "stream",
     "text": [
      "Rate limit reached. Sleeping for: 857\n"
     ]
    },
    {
     "name": "stdout",
     "output_type": "stream",
     "text": [
      "[1, 1, 2, 2, 2, 1, 1, 1, 2, 1]\n",
      "Calculating Degrees for politics_gr\n"
     ]
    },
    {
     "name": "stderr",
     "output_type": "stream",
     "text": [
      "Rate limit reached. Sleeping for: 860\n"
     ]
    },
    {
     "name": "stdout",
     "output_type": "stream",
     "text": [
      "[1, 1, 2, 3, 3, 1, 1, 3, 3, 1]\n",
      "Calculating Degrees for PTriantafyllidi\n"
     ]
    },
    {
     "name": "stderr",
     "output_type": "stream",
     "text": [
      "Rate limit reached. Sleeping for: 852\n"
     ]
    },
    {
     "name": "stdout",
     "output_type": "stream",
     "text": [
      "[3, 3, 2, 2, 2, 1, 3, 2, 2, 1]\n",
      "Calculating Degrees for valiliathisisi\n"
     ]
    },
    {
     "name": "stderr",
     "output_type": "stream",
     "text": [
      "Rate limit reached. Sleeping for: 773\n"
     ]
    },
    {
     "name": "stdout",
     "output_type": "stream",
     "text": [
      "[2, 3, 2, 2, 2, 1, 1, 1, 2, 1]\n",
      "Calculating Degrees for basoyla1989\n"
     ]
    },
    {
     "name": "stderr",
     "output_type": "stream",
     "text": [
      "Rate limit reached. Sleeping for: 806\n"
     ]
    },
    {
     "name": "stdout",
     "output_type": "stream",
     "text": [
      "[3, 4, 3, 3, 3, 3, 6, 3, 2, 3]\n",
      "Calculating Degrees for skliro_vatraxi\n"
     ]
    },
    {
     "name": "stderr",
     "output_type": "stream",
     "text": [
      "Rate limit reached. Sleeping for: 422\n"
     ]
    },
    {
     "name": "stdout",
     "output_type": "stream",
     "text": [
      "[3, 2, 2, 2, 2, 4, 4, 3, 2, 1]\n",
      "Calculating Degrees for AhmetZappa\n"
     ]
    },
    {
     "name": "stderr",
     "output_type": "stream",
     "text": [
      "Rate limit reached. Sleeping for: 389\n"
     ]
    },
    {
     "name": "stdout",
     "output_type": "stream",
     "text": [
      "Something went wrong!\n",
      "Failed to send request: HTTPSConnectionPool(host='api.twitter.com', port=443): Read timed out. (read timeout=180)\n",
      "Something went wrong!\n",
      "Failed to send request: HTTPSConnectionPool(host='api.twitter.com', port=443): Read timed out. (read timeout=180)\n"
     ]
    },
    {
     "name": "stderr",
     "output_type": "stream",
     "text": [
      "Rate limit reached. Sleeping for: 56\n"
     ]
    },
    {
     "name": "stdout",
     "output_type": "stream",
     "text": [
      "[4, 4, None, 4, None, 4, 3, 4, 4, 3]\n",
      "Calculating Degrees for eBrRqxfKjvgfarW\n"
     ]
    },
    {
     "name": "stderr",
     "output_type": "stream",
     "text": [
      "Rate limit reached. Sleeping for: 173\n"
     ]
    },
    {
     "name": "stdout",
     "output_type": "stream",
     "text": [
      "Something went wrong!\n",
      "Failed to send request: HTTPSConnectionPool(host='api.twitter.com', port=443): Read timed out. (read timeout=180)\n",
      "[4, 5, 4, 4, None, 5, 4, 4, 4, 5]\n",
      "Calculating Degrees for chrisstaikouras\n"
     ]
    },
    {
     "name": "stderr",
     "output_type": "stream",
     "text": [
      "Rate limit reached. Sleeping for: 17\n"
     ]
    },
    {
     "name": "stdout",
     "output_type": "stream",
     "text": [
      "Something went wrong!\n",
      "Failed to send request: HTTPSConnectionPool(host='api.twitter.com', port=443): Read timed out. (read timeout=180)\n",
      "Something went wrong!\n",
      "Failed to send request: HTTPSConnectionPool(host='api.twitter.com', port=443): Read timed out. (read timeout=180)\n"
     ]
    },
    {
     "name": "stderr",
     "output_type": "stream",
     "text": [
      "Rate limit reached. Sleeping for: 10\n",
      "Rate limit reached. Sleeping for: 48\n"
     ]
    },
    {
     "name": "stdout",
     "output_type": "stream",
     "text": [
      "Something went wrong!\n",
      "Failed to send request: HTTPSConnectionPool(host='api.twitter.com', port=443): Read timed out. (read timeout=180)\n",
      "[4, 5, None, 4, None, 4, 4, 4, 4, None]\n",
      "Calculating Degrees for spiros_st\n"
     ]
    },
    {
     "name": "stderr",
     "output_type": "stream",
     "text": [
      "Rate limit reached. Sleeping for: 309\n"
     ]
    },
    {
     "name": "stdout",
     "output_type": "stream",
     "text": [
      "[4, 4, 3, 3, 3, 4, 3, 3, 3, 1]\n",
      "Calculating Degrees for vltheolog\n",
      "[-1, -1, -1, -1, -1, -1, -1, -1, -1, -1]\n",
      "Calculating Degrees for valiamonogiou\n"
     ]
    },
    {
     "name": "stderr",
     "output_type": "stream",
     "text": [
      "Rate limit reached. Sleeping for: 409\n"
     ]
    },
    {
     "name": "stdout",
     "output_type": "stream",
     "text": [
      "Something went wrong!\n",
      "Failed to send request: HTTPSConnectionPool(host='api.twitter.com', port=443): Read timed out. (read timeout=180)\n"
     ]
    },
    {
     "name": "stderr",
     "output_type": "stream",
     "text": [
      "Rate limit reached. Sleeping for: 393\n"
     ]
    },
    {
     "name": "stdout",
     "output_type": "stream",
     "text": [
      "[4, 4, 4, 3, None, 4, 4, 4, 5, 4]\n",
      "Calculating Degrees for andymilonakis\n"
     ]
    },
    {
     "name": "stderr",
     "output_type": "stream",
     "text": [
      "Rate limit reached. Sleeping for: 4\n"
     ]
    },
    {
     "name": "stdout",
     "output_type": "stream",
     "text": [
      "Something went wrong!\n",
      "Failed to send request: HTTPSConnectionPool(host='api.twitter.com', port=443): Read timed out. (read timeout=180)\n",
      "Something went wrong!\n",
      "Failed to send request: HTTPSConnectionPool(host='api.twitter.com', port=443): Read timed out. (read timeout=180)\n"
     ]
    },
    {
     "name": "stderr",
     "output_type": "stream",
     "text": [
      "Rate limit reached. Sleeping for: 243\n"
     ]
    },
    {
     "name": "stdout",
     "output_type": "stream",
     "text": [
      "[4, 4, None, 5, None, 3, 3, 4, 4, 3]\n",
      "Calculating Degrees for J9580706875\n"
     ]
    },
    {
     "name": "stderr",
     "output_type": "stream",
     "text": [
      "Rate limit reached. Sleeping for: 77\n",
      "Rate limit reached. Sleeping for: 101\n",
      "Rate limit reached. Sleeping for: 527\n"
     ]
    },
    {
     "name": "stdout",
     "output_type": "stream",
     "text": [
      "[4, 3, 3, 3, 3, 4, 4, 3, 3, 3]\n",
      "Calculating Degrees for PetrosAvlonitis\n",
      "[-1, -1, -1, -1, -1, -1, -1, -1, -1, -1]\n",
      "Calculating Degrees for 4Artemhs4\n"
     ]
    },
    {
     "name": "stderr",
     "output_type": "stream",
     "text": [
      "Rate limit reached. Sleeping for: 851\n"
     ]
    },
    {
     "name": "stdout",
     "output_type": "stream",
     "text": [
      "[3, 3, 3, 3, 3, 3, 3, 3, 3, 4]\n",
      "Calculating Degrees for NikXanthopoulos\n"
     ]
    },
    {
     "name": "stderr",
     "output_type": "stream",
     "text": [
      "Rate limit reached. Sleeping for: 427\n",
      "Rate limit reached. Sleeping for: 419\n"
     ]
    },
    {
     "name": "stdout",
     "output_type": "stream",
     "text": [
      "[3, 3, 2, 2, 2, 4, 4, 2, 2, 4]\n",
      "Calculating Degrees for 6ad1284c1215451\n"
     ]
    },
    {
     "name": "stderr",
     "output_type": "stream",
     "text": [
      "Rate limit reached. Sleeping for: 701\n"
     ]
    },
    {
     "name": "stdout",
     "output_type": "stream",
     "text": [
      "[1, 2, 2, 2, 2, 1, 4, 2, 2, 4]\n",
      "Calculating Degrees for periergod\n"
     ]
    },
    {
     "name": "stderr",
     "output_type": "stream",
     "text": [
      "Rate limit reached. Sleeping for: 551\n"
     ]
    },
    {
     "name": "stdout",
     "output_type": "stream",
     "text": [
      "[3, 3, 3, 2, 1, 3, 1, 2, 3, 1]\n",
      "Calculating Degrees for koctakoc13\n",
      "Something went wrong!\n",
      "Failed to send request: HTTPSConnectionPool(host='api.twitter.com', port=443): Read timed out. (read timeout=180)\n"
     ]
    },
    {
     "name": "stderr",
     "output_type": "stream",
     "text": [
      "Rate limit reached. Sleeping for: 487\n"
     ]
    },
    {
     "name": "stdout",
     "output_type": "stream",
     "text": [
      "Something went wrong!\n",
      "Failed to send request: HTTPSConnectionPool(host='api.twitter.com', port=443): Read timed out. (read timeout=180)\n"
     ]
    },
    {
     "name": "stderr",
     "output_type": "stream",
     "text": [
      "Rate limit reached. Sleeping for: 295\n"
     ]
    },
    {
     "name": "stdout",
     "output_type": "stream",
     "text": [
      "Something went wrong!\n",
      "Failed to send request: HTTPSConnectionPool(host='api.twitter.com', port=443): Read timed out. (read timeout=180)\n",
      "Something went wrong!\n",
      "Failed to send request: HTTPSConnectionPool(host='api.twitter.com', port=443): Read timed out. (read timeout=180)\n",
      "[4, 3, 3, None, None, 3, 5, 3, None, None]\n",
      "Calculating Degrees for 39lmyuOy0R5Q2MD\n"
     ]
    },
    {
     "name": "stderr",
     "output_type": "stream",
     "text": [
      "Rate limit reached. Sleeping for: 528\n"
     ]
    },
    {
     "name": "stdout",
     "output_type": "stream",
     "text": [
      "[3, 3, 3, 3, 3, 1, 1, 3, 3, 3]\n",
      "Calculating Degrees for EffyVayena\n",
      "Something went wrong!\n",
      "Failed to send request: HTTPSConnectionPool(host='api.twitter.com', port=443): Read timed out. (read timeout=180)\n"
     ]
    },
    {
     "name": "stderr",
     "output_type": "stream",
     "text": [
      "Rate limit reached. Sleeping for: 698\n"
     ]
    },
    {
     "name": "stdout",
     "output_type": "stream",
     "text": [
      "Something went wrong!\n",
      "Failed to send request: HTTPSConnectionPool(host='api.twitter.com', port=443): Read timed out. (read timeout=180)\n",
      "[3, 4, None, 4, None, 4, 4, 2, 4, 3]\n",
      "Calculating Degrees for yani_griek\n"
     ]
    },
    {
     "name": "stderr",
     "output_type": "stream",
     "text": [
      "Rate limit reached. Sleeping for: 229\n"
     ]
    },
    {
     "name": "stdout",
     "output_type": "stream",
     "text": [
      "Something went wrong!\n",
      "Not authorized.\n"
     ]
    },
    {
     "name": "stderr",
     "output_type": "stream",
     "text": [
      "Rate limit reached. Sleeping for: 261\n"
     ]
    },
    {
     "name": "stdout",
     "output_type": "stream",
     "text": [
      "Something went wrong!\n",
      "Not authorized.\n"
     ]
    },
    {
     "name": "stderr",
     "output_type": "stream",
     "text": [
      "Rate limit reached. Sleeping for: 147\n"
     ]
    },
    {
     "name": "stdout",
     "output_type": "stream",
     "text": [
      "Something went wrong!\n",
      "Not authorized.\n"
     ]
    },
    {
     "name": "stderr",
     "output_type": "stream",
     "text": [
      "Rate limit reached. Sleeping for: 26\n"
     ]
    },
    {
     "name": "stdout",
     "output_type": "stream",
     "text": [
      "Something went wrong!\n",
      "Not authorized.\n",
      "Something went wrong!\n",
      "Failed to send request: HTTPSConnectionPool(host='api.twitter.com', port=443): Read timed out. (read timeout=180)\n",
      "[4, 4, None, 4, None, 4, 4, None, None, None]\n",
      "Calculating Degrees for XATZIDAKIS_ANTR\n"
     ]
    },
    {
     "name": "stderr",
     "output_type": "stream",
     "text": [
      "Rate limit reached. Sleeping for: 562\n"
     ]
    },
    {
     "name": "stdout",
     "output_type": "stream",
     "text": [
      "[3, 3, 2, 2, 2, 3, 1, 2, 3, 1]\n",
      "Calculating Degrees for giorgis_anton\n"
     ]
    },
    {
     "name": "stderr",
     "output_type": "stream",
     "text": [
      "Rate limit reached. Sleeping for: 768\n"
     ]
    },
    {
     "name": "stdout",
     "output_type": "stream",
     "text": [
      "Something went wrong!\n",
      "Failed to send request: HTTPSConnectionPool(host='api.twitter.com', port=443): Read timed out. (read timeout=180)\n",
      "[2, 4, 2, 2, 2, 2, 1, 1, 2, None]\n",
      "Calculating Degrees for dimasb88\n",
      "Something went wrong!\n",
      "Failed to send request: HTTPSConnectionPool(host='api.twitter.com', port=443): Read timed out. (read timeout=180)\n"
     ]
    },
    {
     "name": "stderr",
     "output_type": "stream",
     "text": [
      "Rate limit reached. Sleeping for: 194\n"
     ]
    },
    {
     "name": "stdout",
     "output_type": "stream",
     "text": [
      "Something went wrong!\n",
      "Failed to send request: HTTPSConnectionPool(host='api.twitter.com', port=443): Read timed out. (read timeout=180)\n",
      "[4, 4, None, 4, None, 4, 4, 4, 4, 3]\n"
     ]
    }
   ],
   "source": [
    "destination = ['neademokratia', 'syriza_gr', 'kinimallagis', 'ellinikilisi', 'mera25_gr', \n",
    "               'kmitsotakis','atsipras', 'FofiGennimata', 'velopky', 'yanisvaroufakis']\n",
    "\n",
    "degrees = []\n",
    "for user in tqdm(data.screen_name):\n",
    "    dist_vect = []\n",
    "    print(f'Calculating Degrees for {user}')\n",
    "    for dest in destination:\n",
    "        dist = degree_of_separation_probabilistic(twitter_credentials=twitter_credentials, source=user, destination=dest, verbose=0)\n",
    "        dist_vect.append(dist)\n",
    "    print(dist_vect)\n",
    "    degrees.append(dist_vect)"
   ]
  },
  {
   "cell_type": "code",
   "execution_count": 157,
   "id": "designed-marijuana",
   "metadata": {},
   "outputs": [],
   "source": [
    "dg = pd.DataFrame(degrees, columns=destination)\n",
    "dg = dg.replace(np.nan, -1)"
   ]
  },
  {
   "cell_type": "code",
   "execution_count": 158,
   "id": "driven-convenience",
   "metadata": {},
   "outputs": [],
   "source": [
    "dg['screen_name'] = data['screen_name']\n",
    "dg = dg[[,'screen_name', 'neademokratia', 'syriza_gr', 'kinimallagis', 'ellinikilisi',\n",
    "       'mera25_gr', 'kmitsotakis', 'atsipras', 'FofiGennimata', 'velopky',\n",
    "       'yanisvaroufakis']]"
   ]
  },
  {
   "cell_type": "code",
   "execution_count": 159,
   "id": "roman-garden",
   "metadata": {},
   "outputs": [],
   "source": [
    "dg.to_csv('parliament_members_degree_of_seperation_validation_set.csv', index=False)"
   ]
  },
  {
   "cell_type": "markdown",
   "id": "stainless-salon",
   "metadata": {},
   "source": [
    "# Training Set"
   ]
  },
  {
   "cell_type": "code",
   "execution_count": 376,
   "id": "individual-subdivision",
   "metadata": {},
   "outputs": [
    {
     "data": {
      "text/html": [
       "<div>\n",
       "<style scoped>\n",
       "    .dataframe tbody tr th:only-of-type {\n",
       "        vertical-align: middle;\n",
       "    }\n",
       "\n",
       "    .dataframe tbody tr th {\n",
       "        vertical-align: top;\n",
       "    }\n",
       "\n",
       "    .dataframe thead th {\n",
       "        text-align: right;\n",
       "    }\n",
       "</style>\n",
       "<table border=\"1\" class=\"dataframe\">\n",
       "  <thead>\n",
       "    <tr style=\"text-align: right;\">\n",
       "      <th></th>\n",
       "      <th>screen_name</th>\n",
       "      <th>name</th>\n",
       "      <th>description</th>\n",
       "      <th>statuses_count</th>\n",
       "      <th>recent_100_tweets</th>\n",
       "      <th>friends_count</th>\n",
       "      <th>recent_100_friends_nd</th>\n",
       "      <th>followers_count</th>\n",
       "      <th>default_profile_image</th>\n",
       "      <th>favourites_count</th>\n",
       "      <th>parliament_member</th>\n",
       "      <th>friends_politician_count_1000</th>\n",
       "      <th>followers_politician_count_1000</th>\n",
       "      <th>mentions_politician_count</th>\n",
       "    </tr>\n",
       "  </thead>\n",
       "  <tbody>\n",
       "    <tr>\n",
       "      <th>0</th>\n",
       "      <td>evefthym</td>\n",
       "      <td>Ευάγγελος Ευθυμίου</td>\n",
       "      <td>Καναλάκι \\nΠάργα \\nΙωάννινα</td>\n",
       "      <td>135</td>\n",
       "      <td>#NewProfilePic https://t.co/h0wlMIS6U0 @wavyp...</td>\n",
       "      <td>156</td>\n",
       "      <td>Panagiotis Vougious Κύριε Μάτσιο ισχυρίζεται ...</td>\n",
       "      <td>448</td>\n",
       "      <td>False</td>\n",
       "      <td>696</td>\n",
       "      <td>0</td>\n",
       "      <td>5</td>\n",
       "      <td>3.0</td>\n",
       "      <td>0</td>\n",
       "    </tr>\n",
       "    <tr>\n",
       "      <th>1</th>\n",
       "      <td>Qdv6zNFe0nkBH2m</td>\n",
       "      <td>Χριστίνα Κεραμεως</td>\n",
       "      <td>Χιούμορ</td>\n",
       "      <td>0</td>\n",
       "      <td></td>\n",
       "      <td>18</td>\n",
       "      <td>Kostas.Vaxevanis χρήστης του https://t.co/ArS...</td>\n",
       "      <td>6</td>\n",
       "      <td>False</td>\n",
       "      <td>3</td>\n",
       "      <td>0</td>\n",
       "      <td>3</td>\n",
       "      <td>0.0</td>\n",
       "      <td>0</td>\n",
       "    </tr>\n",
       "    <tr>\n",
       "      <th>2</th>\n",
       "      <td>michail_pana</td>\n",
       "      <td>Μιχαήλ Παναγιωτόπουλος</td>\n",
       "      <td>Απόστρατος Ναύαρχος του Πολέμικού Ναυτικού.\\nΜ...</td>\n",
       "      <td>368</td>\n",
       "      <td>Ορθή και τεκμηριωμένη προσέγγιση. \\nΣυγχαρητή...</td>\n",
       "      <td>70</td>\n",
       "      <td>Symban 300 UFC🇬🇷🇦🇲🇨🇾🇷🇸🇸🇦🇫🇷🇮🇱🇦🇹🇧🇬 Xara Stefano...</td>\n",
       "      <td>358</td>\n",
       "      <td>False</td>\n",
       "      <td>658</td>\n",
       "      <td>0</td>\n",
       "      <td>0</td>\n",
       "      <td>2.0</td>\n",
       "      <td>0</td>\n",
       "    </tr>\n",
       "    <tr>\n",
       "      <th>3</th>\n",
       "      <td>spirtzisforever</td>\n",
       "      <td>Χρήστος not Σπίρτζης</td>\n",
       "      <td>Parody account/Fan account του πιο ερωτικού βο...</td>\n",
       "      <td>7</td>\n",
       "      <td>@NasosNot Επι ΠΑΣΟΚ είχαμε κλαδικές, αυτό ήτα...</td>\n",
       "      <td>7</td>\n",
       "      <td>Νάσος Ηλιόπουλος Εκπρόσωπος Τύπου του ΣΥΡΙΖΑ-...</td>\n",
       "      <td>4</td>\n",
       "      <td>False</td>\n",
       "      <td>2</td>\n",
       "      <td>0</td>\n",
       "      <td>1</td>\n",
       "      <td>0.0</td>\n",
       "      <td>2</td>\n",
       "    </tr>\n",
       "    <tr>\n",
       "      <th>4</th>\n",
       "      <td>FdZwMqKWXciTydT</td>\n",
       "      <td>Ειρήνη Γκαρα</td>\n",
       "      <td></td>\n",
       "      <td>1</td>\n",
       "      <td>Καλό βράδυ!!!!</td>\n",
       "      <td>3</td>\n",
       "      <td>Kostas.Vaxevanis χρήστης του https://t.co/ArS...</td>\n",
       "      <td>0</td>\n",
       "      <td>False</td>\n",
       "      <td>0</td>\n",
       "      <td>0</td>\n",
       "      <td>0</td>\n",
       "      <td>0.0</td>\n",
       "      <td>0</td>\n",
       "    </tr>\n",
       "  </tbody>\n",
       "</table>\n",
       "</div>"
      ],
      "text/plain": [
       "       screen_name                    name  \\\n",
       "0         evefthym      Ευάγγελος Ευθυμίου   \n",
       "1  Qdv6zNFe0nkBH2m       Χριστίνα Κεραμεως   \n",
       "2     michail_pana  Μιχαήλ Παναγιωτόπουλος   \n",
       "3  spirtzisforever    Χρήστος not Σπίρτζης   \n",
       "4  FdZwMqKWXciTydT            Ειρήνη Γκαρα   \n",
       "\n",
       "                                         description  statuses_count  \\\n",
       "0                        Καναλάκι \\nΠάργα \\nΙωάννινα             135   \n",
       "1                                            Χιούμορ               0   \n",
       "2  Απόστρατος Ναύαρχος του Πολέμικού Ναυτικού.\\nΜ...             368   \n",
       "3  Parody account/Fan account του πιο ερωτικού βο...               7   \n",
       "4                                                                  1   \n",
       "\n",
       "                                   recent_100_tweets  friends_count  \\\n",
       "0   #NewProfilePic https://t.co/h0wlMIS6U0 @wavyp...            156   \n",
       "1                                                                18   \n",
       "2   Ορθή και τεκμηριωμένη προσέγγιση. \\nΣυγχαρητή...             70   \n",
       "3   @NasosNot Επι ΠΑΣΟΚ είχαμε κλαδικές, αυτό ήτα...              7   \n",
       "4                                     Καλό βράδυ!!!!              3   \n",
       "\n",
       "                               recent_100_friends_nd  followers_count  \\\n",
       "0   Panagiotis Vougious Κύριε Μάτσιο ισχυρίζεται ...              448   \n",
       "1   Kostas.Vaxevanis χρήστης του https://t.co/ArS...                6   \n",
       "2   Symban 300 UFC🇬🇷🇦🇲🇨🇾🇷🇸🇸🇦🇫🇷🇮🇱🇦🇹🇧🇬 Xara Stefano...              358   \n",
       "3   Νάσος Ηλιόπουλος Εκπρόσωπος Τύπου του ΣΥΡΙΖΑ-...                4   \n",
       "4   Kostas.Vaxevanis χρήστης του https://t.co/ArS...                0   \n",
       "\n",
       "   default_profile_image  favourites_count  parliament_member  \\\n",
       "0                  False               696                  0   \n",
       "1                  False                 3                  0   \n",
       "2                  False               658                  0   \n",
       "3                  False                 2                  0   \n",
       "4                  False                 0                  0   \n",
       "\n",
       "   friends_politician_count_1000  followers_politician_count_1000  \\\n",
       "0                              5                              3.0   \n",
       "1                              3                              0.0   \n",
       "2                              0                              2.0   \n",
       "3                              1                              0.0   \n",
       "4                              0                              0.0   \n",
       "\n",
       "   mentions_politician_count  \n",
       "0                          0  \n",
       "1                          0  \n",
       "2                          0  \n",
       "3                          2  \n",
       "4                          0  "
      ]
     },
     "execution_count": 376,
     "metadata": {},
     "output_type": "execute_result"
    }
   ],
   "source": [
    "# Read Validation Set\n",
    "data = pd.read_csv('../../../../datasets/Greek Politicians/classification/parliament_members_training_set.csv', )\n",
    "data = data.replace(np.nan, '')\n",
    "data.head()"
   ]
  },
  {
   "cell_type": "markdown",
   "id": "detailed-appeal",
   "metadata": {},
   "source": [
    "## Calculate Degrees"
   ]
  },
  {
   "cell_type": "code",
   "execution_count": 386,
   "id": "worthy-bread",
   "metadata": {
    "collapsed": true,
    "jupyter": {
     "outputs_hidden": true
    }
   },
   "outputs": [
    {
     "data": {
      "application/vnd.jupyter.widget-view+json": {
       "model_id": "d2f51814667a48acbd78afaa501430eb",
       "version_major": 2,
       "version_minor": 0
      },
      "text/plain": [
       "  0%|          | 0/300 [00:00<?, ?it/s]"
      ]
     },
     "metadata": {},
     "output_type": "display_data"
    },
    {
     "name": "stdout",
     "output_type": "stream",
     "text": [
      "Calculating Degrees for evefthym\n",
      "Something went wrong!\n",
      "Failed to send request: HTTPSConnectionPool(host='api.twitter.com', port=443): Read timed out. (read timeout=180)\n"
     ]
    },
    {
     "name": "stderr",
     "output_type": "stream",
     "text": [
      "Rate limit reached. Sleeping for: 255\n"
     ]
    },
    {
     "name": "stdout",
     "output_type": "stream",
     "text": [
      "[3, 3, 2, 4, None, 4, 4, 4, 4, 4]\n",
      "Calculating Degrees for Qdv6zNFe0nkBH2m\n"
     ]
    },
    {
     "name": "stderr",
     "output_type": "stream",
     "text": [
      "Rate limit reached. Sleeping for: 706\n"
     ]
    },
    {
     "name": "stdout",
     "output_type": "stream",
     "text": [
      "[3, 3, 2, 3, 2, 1, 1, 3, 2, 3]\n",
      "Calculating Degrees for michail_pana\n"
     ]
    },
    {
     "name": "stderr",
     "output_type": "stream",
     "text": [
      "Rate limit reached. Sleeping for: 780\n"
     ]
    },
    {
     "name": "stdout",
     "output_type": "stream",
     "text": [
      "[3, 3, 2, 2, 2, 3, 3, 2, 2, 3]\n",
      "Calculating Degrees for spirtzisforever\n",
      "Something went wrong!\n",
      "[{'code': 50, 'message': 'User not found.'}]\n",
      "Something went wrong!\n",
      "[{'code': 50, 'message': 'User not found.'}]\n",
      "Something went wrong!\n",
      "[{'code': 50, 'message': 'User not found.'}]\n",
      "Something went wrong!\n",
      "[{'code': 50, 'message': 'User not found.'}]\n",
      "Something went wrong!\n",
      "[{'code': 50, 'message': 'User not found.'}]\n",
      "Something went wrong!\n",
      "[{'code': 50, 'message': 'User not found.'}]\n",
      "Something went wrong!\n",
      "[{'code': 50, 'message': 'User not found.'}]\n",
      "Something went wrong!\n",
      "[{'code': 50, 'message': 'User not found.'}]\n",
      "Something went wrong!\n",
      "[{'code': 50, 'message': 'User not found.'}]\n",
      "Something went wrong!\n",
      "[{'code': 50, 'message': 'User not found.'}]\n",
      "[None, None, None, None, None, None, None, None, None, None]\n",
      "Calculating Degrees for FdZwMqKWXciTydT\n"
     ]
    },
    {
     "name": "stderr",
     "output_type": "stream",
     "text": [
      "Rate limit reached. Sleeping for: 648\n"
     ]
    },
    {
     "name": "stdout",
     "output_type": "stream",
     "text": [
      "[3, 3, 3, 3, 3, 3, 5, 3, 3, 5]\n",
      "Calculating Degrees for R7xLvX35rnq6jHD\n"
     ]
    },
    {
     "name": "stderr",
     "output_type": "stream",
     "text": [
      "Rate limit reached. Sleeping for: 465\n",
      "Rate limit reached. Sleeping for: 857\n"
     ]
    },
    {
     "name": "stdout",
     "output_type": "stream",
     "text": [
      "[3, 3, 3, 3, 3, 3, 3, 2, 2, 3]\n",
      "Calculating Degrees for Kbitzenis\n"
     ]
    },
    {
     "name": "stderr",
     "output_type": "stream",
     "text": [
      "Rate limit reached. Sleeping for: 626\n"
     ]
    },
    {
     "name": "stdout",
     "output_type": "stream",
     "text": [
      "[3, 2, 2, 2, 2, 1, 1, 3, 2, 1]\n",
      "Calculating Degrees for contagaras\n",
      "[1, 2, 2, 2, 2, 1, 2, 2, 2, 3]\n",
      "Calculating Degrees for _varemenos\n"
     ]
    },
    {
     "name": "stderr",
     "output_type": "stream",
     "text": [
      "Rate limit reached. Sleeping for: 850\n"
     ]
    },
    {
     "name": "stdout",
     "output_type": "stream",
     "text": [
      "[3, 3, 2, 2, 2, 3, 1, 3, 2, 1]\n",
      "Calculating Degrees for Geo_Psychogios\n"
     ]
    },
    {
     "name": "stderr",
     "output_type": "stream",
     "text": [
      "Rate limit reached. Sleeping for: 852\n"
     ]
    },
    {
     "name": "stdout",
     "output_type": "stream",
     "text": [
      "[2, 2, 2, 2, 2, 1, 1, 2, 2, 1]\n",
      "Calculating Degrees for IwannaPapakosta\n"
     ]
    },
    {
     "name": "stderr",
     "output_type": "stream",
     "text": [
      "Rate limit reached. Sleeping for: 750\n"
     ]
    },
    {
     "name": "stdout",
     "output_type": "stream",
     "text": [
      "[2, 3, 2, 2, 2, 2, 2, 3, 2, 2]\n",
      "Calculating Degrees for scand461\n"
     ]
    },
    {
     "name": "stderr",
     "output_type": "stream",
     "text": [
      "Rate limit reached. Sleeping for: 700\n"
     ]
    },
    {
     "name": "stdout",
     "output_type": "stream",
     "text": [
      "[2, 3, 2, 2, 2, 3, 3, 1, 2, 3]\n",
      "Calculating Degrees for ASMForchestra\n",
      "Something went wrong!\n",
      "Failed to send request: HTTPSConnectionPool(host='api.twitter.com', port=443): Read timed out. (read timeout=180)\n"
     ]
    },
    {
     "name": "stderr",
     "output_type": "stream",
     "text": [
      "Rate limit reached. Sleeping for: 81\n"
     ]
    },
    {
     "name": "stdout",
     "output_type": "stream",
     "text": [
      "Something went wrong!\n",
      "Failed to send request: HTTPSConnectionPool(host='api.twitter.com', port=443): Read timed out. (read timeout=180)\n",
      "[4, 4, None, 4, None, 4, 4, 4, 4, 3]\n",
      "Calculating Degrees for kokath1\n"
     ]
    },
    {
     "name": "stderr",
     "output_type": "stream",
     "text": [
      "Rate limit reached. Sleeping for: 470\n"
     ]
    },
    {
     "name": "stdout",
     "output_type": "stream",
     "text": [
      "[1, 2, 2, 2, 2, 1, 2, 2, 2, 2]\n",
      "Calculating Degrees for ArdimasGreek\n",
      "'a' cannot be empty unless no samples are taken\n",
      "===============\n"
     ]
    },
    {
     "name": "stderr",
     "output_type": "stream",
     "text": [
      "Rate limit reached. Sleeping for: 91\n"
     ]
    },
    {
     "name": "stdout",
     "output_type": "stream",
     "text": [
      "'a' cannot be empty unless no samples are taken\n",
      "===============\n",
      "'a' cannot be empty unless no samples are taken\n",
      "===============\n",
      "'a' cannot be empty unless no samples are taken\n",
      "===============\n",
      "'a' cannot be empty unless no samples are taken\n",
      "===============\n",
      "'a' cannot be empty unless no samples are taken\n",
      "===============\n"
     ]
    },
    {
     "name": "stderr",
     "output_type": "stream",
     "text": [
      "Rate limit reached. Sleeping for: 104\n"
     ]
    },
    {
     "name": "stdout",
     "output_type": "stream",
     "text": [
      "'a' cannot be empty unless no samples are taken\n",
      "===============\n",
      "'a' cannot be empty unless no samples are taken\n",
      "===============\n",
      "'a' cannot be empty unless no samples are taken\n",
      "===============\n",
      "Something went wrong!\n",
      "Failed to send request: HTTPSConnectionPool(host='api.twitter.com', port=443): Read timed out. (read timeout=180)\n",
      "[None, None, None, None, None, None, None, None, None, None]\n",
      "Calculating Degrees for kostis_8\n"
     ]
    },
    {
     "name": "stderr",
     "output_type": "stream",
     "text": [
      "Rate limit reached. Sleeping for: 583\n"
     ]
    },
    {
     "name": "stdout",
     "output_type": "stream",
     "text": [
      "[1, 1, 2, 2, 2, 1, 1, 2, 2, 1]\n",
      "Calculating Degrees for TassYpsi\n",
      "Something went wrong!\n",
      "Failed to send request: HTTPSConnectionPool(host='api.twitter.com', port=443): Read timed out. (read timeout=180)\n",
      "Something went wrong!\n",
      "Failed to send request: HTTPSConnectionPool(host='api.twitter.com', port=443): Read timed out. (read timeout=180)\n"
     ]
    },
    {
     "name": "stderr",
     "output_type": "stream",
     "text": [
      "Rate limit reached. Sleeping for: 511\n"
     ]
    },
    {
     "name": "stdout",
     "output_type": "stream",
     "text": [
      "[4, 4, None, 3, None, 1, 3, 3, 3, 4]\n",
      "Calculating Degrees for Cattaneomadness\n"
     ]
    },
    {
     "name": "stderr",
     "output_type": "stream",
     "text": [
      "Rate limit reached. Sleeping for: 616\n"
     ]
    },
    {
     "name": "stdout",
     "output_type": "stream",
     "text": [
      "[2, 2, 2, 2, 2, 3, 3, 3, 3, 1]\n",
      "Calculating Degrees for vasileiadistheo\n"
     ]
    },
    {
     "name": "stderr",
     "output_type": "stream",
     "text": [
      "Rate limit reached. Sleeping for: 657\n"
     ]
    },
    {
     "name": "stdout",
     "output_type": "stream",
     "text": [
      "Something went wrong!\n",
      "Failed to send request: HTTPSConnectionPool(host='api.twitter.com', port=443): Read timed out. (read timeout=180)\n",
      "[4, 4, 2, 2, 2, 3, 3, 2, 3, None]\n",
      "Calculating Degrees for Re9ioxGFl3JAlq8\n"
     ]
    },
    {
     "name": "stderr",
     "output_type": "stream",
     "text": [
      "Rate limit reached. Sleeping for: 625\n"
     ]
    },
    {
     "name": "stdout",
     "output_type": "stream",
     "text": [
      "[1, 2, 2, 2, 2, 1, 2, 2, 2, 2]\n",
      "Calculating Degrees for gigilonis13\n"
     ]
    },
    {
     "name": "stderr",
     "output_type": "stream",
     "text": [
      "Rate limit reached. Sleeping for: 853\n"
     ]
    },
    {
     "name": "stdout",
     "output_type": "stream",
     "text": [
      "[2, 1, 2, 2, 1, 1, 1, 1, 2, 1]\n",
      "Calculating Degrees for PerkaMirsin\n"
     ]
    },
    {
     "name": "stderr",
     "output_type": "stream",
     "text": [
      "Rate limit reached. Sleeping for: 805\n"
     ]
    },
    {
     "name": "stdout",
     "output_type": "stream",
     "text": [
      "[3, 4, 3, 3, 3, 3, 4, 3, 3, 1]\n",
      "Calculating Degrees for TheZuluPope\n",
      "Something went wrong!\n",
      "[{'code': 50, 'message': 'User not found.'}]\n",
      "Something went wrong!\n",
      "[{'code': 50, 'message': 'User not found.'}]\n",
      "Something went wrong!\n",
      "[{'code': 50, 'message': 'User not found.'}]\n",
      "Something went wrong!\n",
      "[{'code': 50, 'message': 'User not found.'}]\n",
      "Something went wrong!\n",
      "[{'code': 50, 'message': 'User not found.'}]\n",
      "Something went wrong!\n",
      "[{'code': 50, 'message': 'User not found.'}]\n",
      "Something went wrong!\n",
      "[{'code': 50, 'message': 'User not found.'}]\n",
      "Something went wrong!\n",
      "[{'code': 50, 'message': 'User not found.'}]\n",
      "Something went wrong!\n",
      "[{'code': 50, 'message': 'User not found.'}]\n",
      "Something went wrong!\n",
      "[{'code': 50, 'message': 'User not found.'}]\n",
      "[None, None, None, None, None, None, None, None, None, None]\n",
      "Calculating Degrees for mdragasakis\n"
     ]
    },
    {
     "name": "stderr",
     "output_type": "stream",
     "text": [
      "Rate limit reached. Sleeping for: 219\n"
     ]
    },
    {
     "name": "stdout",
     "output_type": "stream",
     "text": [
      "Something went wrong!\n",
      "Failed to send request: HTTPSConnectionPool(host='api.twitter.com', port=443): Read timed out. (read timeout=180)\n",
      "Something went wrong!\n",
      "Failed to send request: HTTPSConnectionPool(host='api.twitter.com', port=443): Read timed out. (read timeout=180)\n"
     ]
    },
    {
     "name": "stderr",
     "output_type": "stream",
     "text": [
      "Rate limit reached. Sleeping for: 191\n"
     ]
    },
    {
     "name": "stdout",
     "output_type": "stream",
     "text": [
      "[5, 4, None, 3, None, 4, 4, 5, 3, 3]\n",
      "Calculating Degrees for znqavLFucjg1pAW\n",
      "Something went wrong!\n",
      "[{'code': 63, 'message': 'User has been suspended.'}]\n",
      "Something went wrong!\n",
      "[{'code': 63, 'message': 'User has been suspended.'}]\n",
      "Something went wrong!\n",
      "[{'code': 63, 'message': 'User has been suspended.'}]\n",
      "Something went wrong!\n",
      "[{'code': 63, 'message': 'User has been suspended.'}]\n",
      "Something went wrong!\n",
      "[{'code': 63, 'message': 'User has been suspended.'}]\n",
      "Something went wrong!\n",
      "[{'code': 63, 'message': 'User has been suspended.'}]\n",
      "Something went wrong!\n",
      "[{'code': 63, 'message': 'User has been suspended.'}]\n",
      "Something went wrong!\n",
      "[{'code': 63, 'message': 'User has been suspended.'}]\n",
      "Something went wrong!\n",
      "[{'code': 63, 'message': 'User has been suspended.'}]\n",
      "Something went wrong!\n",
      "[{'code': 63, 'message': 'User has been suspended.'}]\n",
      "[None, None, None, None, None, None, None, None, None, None]\n",
      "Calculating Degrees for NTsK45AaPmM9U5P\n",
      "max() arg is an empty sequence\n",
      "===============\n",
      "max() arg is an empty sequence\n",
      "===============\n",
      "max() arg is an empty sequence\n",
      "===============\n",
      "max() arg is an empty sequence\n",
      "===============\n",
      "max() arg is an empty sequence\n",
      "===============\n",
      "max() arg is an empty sequence\n",
      "===============\n"
     ]
    },
    {
     "name": "stderr",
     "output_type": "stream",
     "text": [
      "Rate limit reached. Sleeping for: 359\n"
     ]
    },
    {
     "name": "stdout",
     "output_type": "stream",
     "text": [
      "max() arg is an empty sequence\n",
      "===============\n",
      "max() arg is an empty sequence\n",
      "===============\n"
     ]
    },
    {
     "name": "stderr",
     "output_type": "stream",
     "text": [
      "Rate limit reached. Sleeping for: 41\n"
     ]
    },
    {
     "name": "stdout",
     "output_type": "stream",
     "text": [
      "max() arg is an empty sequence\n",
      "===============\n",
      "max() arg is an empty sequence\n",
      "===============\n",
      "[None, None, None, None, None, None, None, None, None, None]\n",
      "Calculating Degrees for 32Giannakis\n",
      "[-1, -1, -1, -1, -1, -1, -1, -1, -1, -1]\n",
      "Calculating Degrees for okalantaksei\n",
      "Something went wrong!\n",
      "Failed to send request: HTTPSConnectionPool(host='api.twitter.com', port=443): Read timed out. (read timeout=180)\n"
     ]
    },
    {
     "name": "stderr",
     "output_type": "stream",
     "text": [
      "Rate limit reached. Sleeping for: 400\n"
     ]
    },
    {
     "name": "stdout",
     "output_type": "stream",
     "text": [
      "[3, 3, 2, 2, 2, None, 1, 2, 2, 1]\n",
      "Calculating Degrees for magkakos_\n"
     ]
    },
    {
     "name": "stderr",
     "output_type": "stream",
     "text": [
      "Rate limit reached. Sleeping for: 549\n"
     ]
    },
    {
     "name": "stdout",
     "output_type": "stream",
     "text": [
      "[3, 3, 2, 2, 2, 4, 2, 3, 4, 4]\n",
      "Calculating Degrees for vasiliadisg\n"
     ]
    },
    {
     "name": "stderr",
     "output_type": "stream",
     "text": [
      "Rate limit reached. Sleeping for: 481\n"
     ]
    },
    {
     "name": "stdout",
     "output_type": "stream",
     "text": [
      "[3, 3, 2, 2, 2, 4, 2, 2, 2, 1]\n",
      "Calculating Degrees for StylianidesEU\n",
      "[1, 2, 2, 2, 2, 1, 1, 2, 2, 2]\n",
      "Calculating Degrees for QUKCyT1PGeA7XVx\n"
     ]
    },
    {
     "name": "stderr",
     "output_type": "stream",
     "text": [
      "Rate limit reached. Sleeping for: 799\n"
     ]
    },
    {
     "name": "stdout",
     "output_type": "stream",
     "text": [
      "[1, 4, 2, 2, 2, 1, 1, 2, 2, 4]\n",
      "Calculating Degrees for gevardakis\n"
     ]
    },
    {
     "name": "stderr",
     "output_type": "stream",
     "text": [
      "Rate limit reached. Sleeping for: 670\n"
     ]
    },
    {
     "name": "stdout",
     "output_type": "stream",
     "text": [
      "[2, 2, 1, 2, 2, 1, 1, 1, 1, 1]\n",
      "Calculating Degrees for AlexandraOikon\n"
     ]
    },
    {
     "name": "stderr",
     "output_type": "stream",
     "text": [
      "Rate limit reached. Sleeping for: 28\n",
      "Rate limit reached. Sleeping for: 824\n"
     ]
    },
    {
     "name": "stdout",
     "output_type": "stream",
     "text": [
      "[2, 3, 2, 2, 3, 3, 3, 3, 1, 3]\n",
      "Calculating Degrees for UKgOpsbs5j5jRya\n"
     ]
    },
    {
     "name": "stderr",
     "output_type": "stream",
     "text": [
      "Rate limit reached. Sleeping for: 449\n"
     ]
    },
    {
     "name": "stdout",
     "output_type": "stream",
     "text": [
      "Something went wrong!\n",
      "Failed to send request: HTTPSConnectionPool(host='api.twitter.com', port=443): Read timed out. (read timeout=180)\n",
      "Something went wrong!\n",
      "Failed to send request: HTTPSConnectionPool(host='api.twitter.com', port=443): Read timed out. (read timeout=180)\n",
      "Something went wrong!\n",
      "Failed to send request: HTTPSConnectionPool(host='api.twitter.com', port=443): Read timed out. (read timeout=180)\n",
      "Something went wrong!\n",
      "Failed to send request: HTTPSConnectionPool(host='api.twitter.com', port=443): Read timed out. (read timeout=180)\n"
     ]
    },
    {
     "name": "stderr",
     "output_type": "stream",
     "text": [
      "Rate limit reached. Sleeping for: 151\n"
     ]
    },
    {
     "name": "stdout",
     "output_type": "stream",
     "text": [
      "Something went wrong!\n",
      "Not authorized.\n",
      "Something went wrong!\n",
      "Failed to send request: HTTPSConnectionPool(host='api.twitter.com', port=443): Read timed out. (read timeout=180)\n",
      "[4, None, None, None, None, 4, 4, 5, None, None]\n",
      "Calculating Degrees for ypizgbKtHYwKTzy\n",
      "[-1, -1, -1, -1, -1, -1, -1, -1, -1, -1]\n",
      "Calculating Degrees for eleni_336\n"
     ]
    },
    {
     "name": "stderr",
     "output_type": "stream",
     "text": [
      "Rate limit reached. Sleeping for: 311\n",
      "Rate limit reached. Sleeping for: 58\n"
     ]
    },
    {
     "name": "stdout",
     "output_type": "stream",
     "text": [
      "[3, 2, 2, 2, 2, 3, 3, 2, 2, 3]\n",
      "Calculating Degrees for HtaHYlbwj3faSI5\n"
     ]
    },
    {
     "name": "stderr",
     "output_type": "stream",
     "text": [
      "Rate limit reached. Sleeping for: 792\n"
     ]
    },
    {
     "name": "stdout",
     "output_type": "stream",
     "text": [
      "[3, 3, 2, 1, 3, 3, 3, 2, 1, 3]\n",
      "Calculating Degrees for P6JBcKHrkvXQnN4\n"
     ]
    },
    {
     "name": "stderr",
     "output_type": "stream",
     "text": [
      "Rate limit reached. Sleeping for: 689\n"
     ]
    },
    {
     "name": "stdout",
     "output_type": "stream",
     "text": [
      "Something went wrong!\n",
      "Failed to send request: HTTPSConnectionPool(host='api.twitter.com', port=443): Read timed out. (read timeout=180)\n"
     ]
    },
    {
     "name": "stderr",
     "output_type": "stream",
     "text": [
      "Rate limit reached. Sleeping for: 46\n"
     ]
    },
    {
     "name": "stdout",
     "output_type": "stream",
     "text": [
      "Something went wrong!\n",
      "Failed to send request: HTTPSConnectionPool(host='api.twitter.com', port=443): Read timed out. (read timeout=180)\n",
      "[4, 5, None, 4, 4, 4, 4, 4, None, 1]\n",
      "Calculating Degrees for dimitrisxioy\n"
     ]
    },
    {
     "name": "stderr",
     "output_type": "stream",
     "text": [
      "Rate limit reached. Sleeping for: 289\n",
      "Rate limit reached. Sleeping for: 101\n"
     ]
    },
    {
     "name": "stdout",
     "output_type": "stream",
     "text": [
      "[3, 2, 2, 2, 2, 2, 2, 3, 2, 1]\n",
      "Calculating Degrees for Eliamarkopoulos\n"
     ]
    },
    {
     "name": "stderr",
     "output_type": "stream",
     "text": [
      "Rate limit reached. Sleeping for: 665\n"
     ]
    },
    {
     "name": "stdout",
     "output_type": "stream",
     "text": [
      "Something went wrong!\n",
      "Failed to send request: HTTPSConnectionPool(host='api.twitter.com', port=443): Read timed out. (read timeout=180)\n",
      "Something went wrong!\n",
      "Failed to send request: HTTPSConnectionPool(host='api.twitter.com', port=443): Read timed out. (read timeout=180)\n",
      "[4, 4, None, 4, None, 5, 3, 4, 4, 3]\n",
      "Calculating Degrees for Constantine_Zr\n",
      "Something went wrong!\n",
      "[{'code': 50, 'message': 'User not found.'}]\n",
      "Something went wrong!\n",
      "[{'code': 50, 'message': 'User not found.'}]\n",
      "Something went wrong!\n",
      "[{'code': 50, 'message': 'User not found.'}]\n",
      "Something went wrong!\n",
      "[{'code': 50, 'message': 'User not found.'}]\n",
      "Something went wrong!\n",
      "[{'code': 50, 'message': 'User not found.'}]\n",
      "Something went wrong!\n",
      "[{'code': 50, 'message': 'User not found.'}]\n",
      "Something went wrong!\n",
      "[{'code': 50, 'message': 'User not found.'}]\n",
      "Something went wrong!\n",
      "[{'code': 50, 'message': 'User not found.'}]\n",
      "Something went wrong!\n",
      "[{'code': 50, 'message': 'User not found.'}]\n",
      "Something went wrong!\n",
      "[{'code': 50, 'message': 'User not found.'}]\n",
      "[None, None, None, None, None, None, None, None, None, None]\n",
      "Calculating Degrees for J_95_L\n",
      "Something went wrong!\n",
      "Failed to send request: HTTPSConnectionPool(host='api.twitter.com', port=443): Read timed out. (read timeout=180)\n"
     ]
    },
    {
     "name": "stderr",
     "output_type": "stream",
     "text": [
      "Rate limit reached. Sleeping for: 59\n"
     ]
    },
    {
     "name": "stdout",
     "output_type": "stream",
     "text": [
      "Something went wrong!\n",
      "Failed to send request: HTTPSConnectionPool(host='api.twitter.com', port=443): Read timed out. (read timeout=180)\n",
      "Something went wrong!\n",
      "Failed to send request: HTTPSConnectionPool(host='api.twitter.com', port=443): Read timed out. (read timeout=180)\n",
      "Something went wrong!\n",
      "Failed to send request: HTTPSConnectionPool(host='api.twitter.com', port=443): Read timed out. (read timeout=180)\n",
      "[None, 5, None, None, None, 4, 4, 4, 5, 4]\n",
      "Calculating Degrees for rgos_gio\n"
     ]
    },
    {
     "name": "stderr",
     "output_type": "stream",
     "text": [
      "Rate limit reached. Sleeping for: 517\n"
     ]
    },
    {
     "name": "stdout",
     "output_type": "stream",
     "text": [
      "Something went wrong!\n",
      "Failed to send request: HTTPSConnectionPool(host='api.twitter.com', port=443): Read timed out. (read timeout=180)\n",
      "[2, 2, 2, 2, 2, 4, 2, 2, 2, None]\n",
      "Calculating Degrees for PQyE5DQaigqYMXX\n"
     ]
    },
    {
     "name": "stderr",
     "output_type": "stream",
     "text": [
      "Rate limit reached. Sleeping for: 449\n",
      "Rate limit reached. Sleeping for: 465\n"
     ]
    },
    {
     "name": "stdout",
     "output_type": "stream",
     "text": [
      "Something went wrong!\n",
      "Failed to send request: HTTPSConnectionPool(host='api.twitter.com', port=443): Read timed out. (read timeout=180)\n",
      "[3, 4, 3, 3, 3, 4, 4, 2, 3, None]\n",
      "Calculating Degrees for 7743535915\n"
     ]
    },
    {
     "name": "stderr",
     "output_type": "stream",
     "text": [
      "Rate limit reached. Sleeping for: 591\n"
     ]
    },
    {
     "name": "stdout",
     "output_type": "stream",
     "text": [
      "[3, 1, 2, 3, 2, 3, 1, 3, 3, 3]\n",
      "Calculating Degrees for Eleni36632603\n"
     ]
    },
    {
     "name": "stderr",
     "output_type": "stream",
     "text": [
      "Rate limit reached. Sleeping for: 26\n",
      "Rate limit reached. Sleeping for: 826\n"
     ]
    },
    {
     "name": "stdout",
     "output_type": "stream",
     "text": [
      "[3, 3, 2, 2, 3, 3, 3, 2, 2, 3]\n",
      "Calculating Degrees for maikvroytsis\n"
     ]
    },
    {
     "name": "stderr",
     "output_type": "stream",
     "text": [
      "Rate limit reached. Sleeping for: 854\n"
     ]
    },
    {
     "name": "stdout",
     "output_type": "stream",
     "text": [
      "[2, 2, 2, 2, 3, 1, 3, 2, 3, 1]\n",
      "Calculating Degrees for alexandroskyv\n",
      "[2, 2, 2, 2, 2, 2, 2, 2, 2, 2]\n",
      "Calculating Degrees for roulamakrigr\n"
     ]
    },
    {
     "name": "stderr",
     "output_type": "stream",
     "text": [
      "Rate limit reached. Sleeping for: 851\n"
     ]
    },
    {
     "name": "stdout",
     "output_type": "stream",
     "text": [
      "[2, 2, 2, 2, 2, 2, 2, 2, 2, 3]\n",
      "Calculating Degrees for k5EFfu3RUHCPiUF\n"
     ]
    },
    {
     "name": "stderr",
     "output_type": "stream",
     "text": [
      "Rate limit reached. Sleeping for: 604\n"
     ]
    },
    {
     "name": "stdout",
     "output_type": "stream",
     "text": [
      "Something went wrong!\n",
      "Failed to send request: HTTPSConnectionPool(host='api.twitter.com', port=443): Read timed out. (read timeout=180)\n",
      "Something went wrong!\n",
      "Failed to send request: HTTPSConnectionPool(host='api.twitter.com', port=443): Read timed out. (read timeout=180)\n"
     ]
    },
    {
     "name": "stderr",
     "output_type": "stream",
     "text": [
      "Rate limit reached. Sleeping for: 307\n"
     ]
    },
    {
     "name": "stdout",
     "output_type": "stream",
     "text": [
      "Something went wrong!\n",
      "Failed to send request: HTTPSConnectionPool(host='api.twitter.com', port=443): Read timed out. (read timeout=180)\n",
      "Something went wrong!\n",
      "Failed to send request: HTTPSConnectionPool(host='api.twitter.com', port=443): Read timed out. (read timeout=180)\n",
      "[5, 4, None, 5, None, 3, 4, 4, None, None]\n",
      "Calculating Degrees for c7c5b5fbe9284a4\n"
     ]
    },
    {
     "name": "stderr",
     "output_type": "stream",
     "text": [
      "Rate limit reached. Sleeping for: 29\n"
     ]
    },
    {
     "name": "stdout",
     "output_type": "stream",
     "text": [
      "Something went wrong!\n",
      "Failed to send request: HTTPSConnectionPool(host='api.twitter.com', port=443): Read timed out. (read timeout=180)\n",
      "Something went wrong!\n",
      "Failed to send request: HTTPSConnectionPool(host='api.twitter.com', port=443): Read timed out. (read timeout=180)\n",
      "Something went wrong!\n",
      "Failed to send request: HTTPSConnectionPool(host='api.twitter.com', port=443): Read timed out. (read timeout=180)\n",
      "[4, 4, None, 6, None, 5, 4, 4, 3, None]\n",
      "Calculating Degrees for fXw0RAuhcJCIZJ1\n"
     ]
    },
    {
     "name": "stderr",
     "output_type": "stream",
     "text": [
      "Rate limit reached. Sleeping for: 317\n"
     ]
    },
    {
     "name": "stdout",
     "output_type": "stream",
     "text": [
      "[2, 1, 2, 2, 2, 5, 1, 2, 2, 2]\n",
      "Calculating Degrees for sta1231\n"
     ]
    },
    {
     "name": "stderr",
     "output_type": "stream",
     "text": [
      "Rate limit reached. Sleeping for: 717\n"
     ]
    },
    {
     "name": "stdout",
     "output_type": "stream",
     "text": [
      "[3, 2, 3, 2, 2, 3, 3, 3, 3, 3]\n",
      "Calculating Degrees for YotikaFitness\n"
     ]
    },
    {
     "name": "stderr",
     "output_type": "stream",
     "text": [
      "Rate limit reached. Sleeping for: 331\n"
     ]
    },
    {
     "name": "stdout",
     "output_type": "stream",
     "text": [
      "Something went wrong!\n",
      "Failed to send request: HTTPSConnectionPool(host='api.twitter.com', port=443): Read timed out. (read timeout=180)\n",
      "Something went wrong!\n",
      "Failed to send request: HTTPSConnectionPool(host='api.twitter.com', port=443): Read timed out. (read timeout=180)\n",
      "[4, 5, 2, 2, 5, 5, 4, 5, None, None]\n",
      "Calculating Degrees for teo_vor\n"
     ]
    },
    {
     "name": "stderr",
     "output_type": "stream",
     "text": [
      "Rate limit reached. Sleeping for: 369\n",
      "Rate limit reached. Sleeping for: 465\n"
     ]
    },
    {
     "name": "stdout",
     "output_type": "stream",
     "text": [
      "Something went wrong!\n",
      "Failed to send request: HTTPSConnectionPool(host='api.twitter.com', port=443): Read timed out. (read timeout=180)\n",
      "[3, 3, 3, 3, 3, 3, 4, 3, 3, None]\n",
      "Calculating Degrees for giannis3kala\n",
      "[2, 1, 2, 2, 2, 2, 1, 2, 2, 1]\n",
      "Calculating Degrees for iwannakiG\n"
     ]
    },
    {
     "name": "stderr",
     "output_type": "stream",
     "text": [
      "Rate limit reached. Sleeping for: 779\n",
      "Rate limit reached. Sleeping for: 860\n"
     ]
    },
    {
     "name": "stdout",
     "output_type": "stream",
     "text": [
      "[3, 3, 3, 3, 3, 3, 3, 3, 3, 3]\n",
      "Calculating Degrees for XKonstantinidis\n"
     ]
    },
    {
     "name": "stderr",
     "output_type": "stream",
     "text": [
      "Rate limit reached. Sleeping for: 496\n"
     ]
    },
    {
     "name": "stdout",
     "output_type": "stream",
     "text": [
      "[3, 1, 2, 2, 1, 4, 1, 2, 5, 1]\n",
      "Calculating Degrees for moulk_nick\n"
     ]
    },
    {
     "name": "stderr",
     "output_type": "stream",
     "text": [
      "Rate limit reached. Sleeping for: 676\n"
     ]
    },
    {
     "name": "stdout",
     "output_type": "stream",
     "text": [
      "Something went wrong!\n",
      "Failed to send request: HTTPSConnectionPool(host='api.twitter.com', port=443): Read timed out. (read timeout=180)\n",
      "[3, 3, 2, 3, 3, 4, 1, 3, 3, None]\n",
      "Calculating Degrees for wl5vE3TXMDSM7r4\n",
      "max() arg is an empty sequence\n",
      "===============\n",
      "max() arg is an empty sequence\n",
      "===============\n",
      "max() arg is an empty sequence\n",
      "===============\n",
      "max() arg is an empty sequence\n",
      "===============\n",
      "max() arg is an empty sequence\n",
      "===============\n",
      "max() arg is an empty sequence\n",
      "===============\n",
      "max() arg is an empty sequence\n",
      "===============\n",
      "max() arg is an empty sequence\n",
      "===============\n"
     ]
    },
    {
     "name": "stderr",
     "output_type": "stream",
     "text": [
      "Rate limit reached. Sleeping for: 757\n"
     ]
    },
    {
     "name": "stdout",
     "output_type": "stream",
     "text": [
      "max() arg is an empty sequence\n",
      "===============\n",
      "[None, None, None, None, None, None, None, 2, None, None]\n",
      "Calculating Degrees for dvmantas\n",
      "[-1, -1, -1, -1, -1, -1, -1, -1, -1, -1]\n",
      "Calculating Degrees for tahamata27\n",
      "[-1, -1, -1, -1, -1, -1, -1, -1, -1, -1]\n",
      "Calculating Degrees for harrisz21gr\n",
      "Something went wrong!\n",
      "[{'code': 50, 'message': 'User not found.'}]\n",
      "Something went wrong!\n",
      "[{'code': 50, 'message': 'User not found.'}]\n",
      "Something went wrong!\n",
      "[{'code': 50, 'message': 'User not found.'}]\n",
      "Something went wrong!\n",
      "[{'code': 50, 'message': 'User not found.'}]\n",
      "Something went wrong!\n",
      "[{'code': 50, 'message': 'User not found.'}]\n",
      "Something went wrong!\n",
      "[{'code': 50, 'message': 'User not found.'}]\n",
      "Something went wrong!\n",
      "[{'code': 50, 'message': 'User not found.'}]\n",
      "Something went wrong!\n",
      "[{'code': 50, 'message': 'User not found.'}]\n",
      "Something went wrong!\n",
      "[{'code': 50, 'message': 'User not found.'}]\n",
      "Something went wrong!\n",
      "[{'code': 50, 'message': 'User not found.'}]\n",
      "[None, None, None, None, None, None, None, None, None, None]\n",
      "Calculating Degrees for qOwEJkd7EstNCqx\n",
      "Something went wrong!\n",
      "Failed to send request: HTTPSConnectionPool(host='api.twitter.com', port=443): Read timed out. (read timeout=180)\n"
     ]
    },
    {
     "name": "stderr",
     "output_type": "stream",
     "text": [
      "Rate limit reached. Sleeping for: 4\n",
      "Rate limit reached. Sleeping for: 32\n"
     ]
    },
    {
     "name": "stdout",
     "output_type": "stream",
     "text": [
      "[4, 4, None, 4, 2, 4, 4, 4, 3, 4]\n",
      "Calculating Degrees for 07pbemsEvuIrUQU\n"
     ]
    },
    {
     "name": "stderr",
     "output_type": "stream",
     "text": [
      "Rate limit reached. Sleeping for: 285\n",
      "Rate limit reached. Sleeping for: 211\n",
      "Rate limit reached. Sleeping for: 647\n"
     ]
    },
    {
     "name": "stdout",
     "output_type": "stream",
     "text": [
      "[3, 3, 3, 3, 3, 3, 3, 3, 3, 3]\n",
      "Calculating Degrees for llazaridis\n"
     ]
    },
    {
     "name": "stderr",
     "output_type": "stream",
     "text": [
      "Rate limit reached. Sleeping for: 838\n"
     ]
    },
    {
     "name": "stdout",
     "output_type": "stream",
     "text": [
      "[3, 1, 2, 2, 2, 3, 1, 2, 2, 1]\n",
      "Calculating Degrees for Oly9TBdOlFahcnM\n",
      "[-1, -1, -1, -1, -1, -1, -1, -1, -1, -1]\n",
      "Calculating Degrees for evanvage\n"
     ]
    },
    {
     "name": "stderr",
     "output_type": "stream",
     "text": [
      "Rate limit reached. Sleeping for: 828\n"
     ]
    },
    {
     "name": "stdout",
     "output_type": "stream",
     "text": [
      "[3, 3, 2, 3, 3, 3, 3, 3, 3, 3]\n",
      "Calculating Degrees for afroditiapost\n"
     ]
    },
    {
     "name": "stderr",
     "output_type": "stream",
     "text": [
      "Rate limit reached. Sleeping for: 747\n"
     ]
    },
    {
     "name": "stdout",
     "output_type": "stream",
     "text": [
      "[3, 2, 2, 2, 2, 2, 2, 2, 2, 5]\n",
      "Calculating Degrees for questsin\n",
      "[-1, -1, -1, -1, -1, -1, -1, -1, -1, -1]\n",
      "Calculating Degrees for yiannisvoridis1\n",
      "Something went wrong!\n",
      "Not authorized.\n"
     ]
    },
    {
     "name": "stderr",
     "output_type": "stream",
     "text": [
      "Rate limit reached. Sleeping for: 361\n"
     ]
    },
    {
     "name": "stdout",
     "output_type": "stream",
     "text": [
      "Something went wrong!\n",
      "Not authorized.\n",
      "Something went wrong!\n",
      "Failed to send request: HTTPSConnectionPool(host='api.twitter.com', port=443): Read timed out. (read timeout=180)\n"
     ]
    },
    {
     "name": "stderr",
     "output_type": "stream",
     "text": [
      "Rate limit reached. Sleeping for: 259\n"
     ]
    },
    {
     "name": "stdout",
     "output_type": "stream",
     "text": [
      "Something went wrong!\n",
      "Not authorized.\n",
      "Something went wrong!\n",
      "Not authorized.\n"
     ]
    },
    {
     "name": "stderr",
     "output_type": "stream",
     "text": [
      "Rate limit reached. Sleeping for: 516\n"
     ]
    },
    {
     "name": "stdout",
     "output_type": "stream",
     "text": [
      "[4, None, None, 3, None, None, 4, None, 3, 4]\n",
      "Calculating Degrees for j8Xsrfkk520r2aO\n",
      "Something went wrong!\n",
      "Failed to send request: HTTPSConnectionPool(host='api.twitter.com', port=443): Read timed out. (read timeout=180)\n",
      "Something went wrong!\n",
      "Failed to send request: HTTPSConnectionPool(host='api.twitter.com', port=443): Read timed out. (read timeout=180)\n"
     ]
    },
    {
     "name": "stderr",
     "output_type": "stream",
     "text": [
      "Rate limit reached. Sleeping for: 87\n"
     ]
    },
    {
     "name": "stdout",
     "output_type": "stream",
     "text": [
      "Something went wrong!\n",
      "Failed to send request: HTTPSConnectionPool(host='api.twitter.com', port=443): Read timed out. (read timeout=180)\n",
      "Something went wrong!\n",
      "Not authorized.\n",
      "Something went wrong!\n",
      "Failed to send request: HTTPSConnectionPool(host='api.twitter.com', port=443): Read timed out. (read timeout=180)\n",
      "Something went wrong!\n",
      "Failed to send request: HTTPSConnectionPool(host='api.twitter.com', port=443): Read timed out. (read timeout=180)\n",
      "[4, 5, None, None, None, 5, 4, None, None, None]\n",
      "Calculating Degrees for voloudakisgiann\n"
     ]
    },
    {
     "name": "stderr",
     "output_type": "stream",
     "text": [
      "Rate limit reached. Sleeping for: 83\n"
     ]
    },
    {
     "name": "stdout",
     "output_type": "stream",
     "text": [
      "Something went wrong!\n",
      "Failed to send request: HTTPSConnectionPool(host='api.twitter.com', port=443): Read timed out. (read timeout=180)\n"
     ]
    },
    {
     "name": "stderr",
     "output_type": "stream",
     "text": [
      "Rate limit reached. Sleeping for: 347\n"
     ]
    },
    {
     "name": "stdout",
     "output_type": "stream",
     "text": [
      "Something went wrong!\n",
      "Failed to send request: HTTPSConnectionPool(host='api.twitter.com', port=443): Read timed out. (read timeout=180)\n",
      "[4, 4, None, 3, 3, 5, 4, 4, 3, None]\n",
      "Calculating Degrees for maria_mpakadhma\n"
     ]
    },
    {
     "name": "stderr",
     "output_type": "stream",
     "text": [
      "Rate limit reached. Sleeping for: 380\n"
     ]
    },
    {
     "name": "stdout",
     "output_type": "stream",
     "text": [
      "[3, 3, 3, 3, 3, 3, 3, 3, 3, 3]\n",
      "Calculating Degrees for alexlp4_\n"
     ]
    },
    {
     "name": "stderr",
     "output_type": "stream",
     "text": [
      "Rate limit reached. Sleeping for: 862\n",
      "Rate limit reached. Sleeping for: 861\n"
     ]
    },
    {
     "name": "stdout",
     "output_type": "stream",
     "text": [
      "[3, 3, 3, 3, 3, 3, 3, 3, 2, 3]\n",
      "Calculating Degrees for G9NpM20wG0bhicw\n"
     ]
    },
    {
     "name": "stderr",
     "output_type": "stream",
     "text": [
      "Rate limit reached. Sleeping for: 446\n",
      "Rate limit reached. Sleeping for: 514\n"
     ]
    },
    {
     "name": "stdout",
     "output_type": "stream",
     "text": [
      "[4, 4, 3, 3, 3, 3, 3, 4, 3, 5]\n",
      "Calculating Degrees for PanTsiara\n"
     ]
    },
    {
     "name": "stderr",
     "output_type": "stream",
     "text": [
      "Rate limit reached. Sleeping for: 394\n"
     ]
    },
    {
     "name": "stdout",
     "output_type": "stream",
     "text": [
      "[3, 3, 2, 3, 3, 3, 3, 2, 3, 5]\n",
      "Calculating Degrees for VesiroNikos\n"
     ]
    },
    {
     "name": "stderr",
     "output_type": "stream",
     "text": [
      "Rate limit reached. Sleeping for: 509\n"
     ]
    },
    {
     "name": "stdout",
     "output_type": "stream",
     "text": [
      "Something went wrong!\n",
      "Failed to send request: HTTPSConnectionPool(host='api.twitter.com', port=443): Read timed out. (read timeout=180)\n",
      "[3, 4, 4, 4, None, 4, 4, 4, 5, 4]\n",
      "Calculating Degrees for georgexanthos06\n"
     ]
    },
    {
     "name": "stderr",
     "output_type": "stream",
     "text": [
      "Rate limit reached. Sleeping for: 322\n"
     ]
    },
    {
     "name": "stdout",
     "output_type": "stream",
     "text": [
      "[1, 1, 2, 2, 2, 1, 1, 2, 1, 1]\n",
      "Calculating Degrees for kbougas\n"
     ]
    },
    {
     "name": "stderr",
     "output_type": "stream",
     "text": [
      "Rate limit reached. Sleeping for: 175\n",
      "Rate limit reached. Sleeping for: 526\n"
     ]
    },
    {
     "name": "stdout",
     "output_type": "stream",
     "text": [
      "[3, 2, 2, 2, 2, 3, 4, 2, 2, 3]\n",
      "Calculating Degrees for 2zzEDR6hwnciR7S\n"
     ]
    },
    {
     "name": "stderr",
     "output_type": "stream",
     "text": [
      "Rate limit reached. Sleeping for: 321\n"
     ]
    },
    {
     "name": "stdout",
     "output_type": "stream",
     "text": [
      "Something went wrong!\n",
      "Failed to send request: HTTPSConnectionPool(host='api.twitter.com', port=443): Read timed out. (read timeout=180)\n",
      "Something went wrong!\n",
      "Failed to send request: HTTPSConnectionPool(host='api.twitter.com', port=443): Read timed out. (read timeout=180)\n",
      "Something went wrong!\n",
      "Failed to send request: HTTPSConnectionPool(host='api.twitter.com', port=443): Read timed out. (read timeout=180)\n"
     ]
    },
    {
     "name": "stderr",
     "output_type": "stream",
     "text": [
      "Rate limit reached. Sleeping for: 103\n"
     ]
    },
    {
     "name": "stdout",
     "output_type": "stream",
     "text": [
      "Something went wrong!\n",
      "Not authorized.\n",
      "Something went wrong!\n",
      "Failed to send request: HTTPSConnectionPool(host='api.twitter.com', port=443): Read timed out. (read timeout=180)\n",
      "Something went wrong!\n",
      "Failed to send request: HTTPSConnectionPool(host='api.twitter.com', port=443): Read timed out. (read timeout=180)\n",
      "[5, 5, None, None, None, 4, 4, None, None, None]\n",
      "Calculating Degrees for narab01\n"
     ]
    },
    {
     "name": "stderr",
     "output_type": "stream",
     "text": [
      "Rate limit reached. Sleeping for: 37\n"
     ]
    },
    {
     "name": "stdout",
     "output_type": "stream",
     "text": [
      "Something went wrong!\n",
      "Failed to send request: HTTPSConnectionPool(host='api.twitter.com', port=443): Read timed out. (read timeout=180)\n",
      "Something went wrong!\n",
      "Failed to send request: HTTPSConnectionPool(host='api.twitter.com', port=443): Read timed out. (read timeout=180)\n",
      "Something went wrong!\n",
      "Failed to send request: HTTPSConnectionPool(host='api.twitter.com', port=443): Read timed out. (read timeout=180)\n"
     ]
    },
    {
     "name": "stderr",
     "output_type": "stream",
     "text": [
      "Rate limit reached. Sleeping for: 142\n"
     ]
    },
    {
     "name": "stdout",
     "output_type": "stream",
     "text": [
      "[4, 4, None, None, None, 5, 4, 2, 4, 4]\n",
      "Calculating Degrees for pirkevin\n"
     ]
    },
    {
     "name": "stderr",
     "output_type": "stream",
     "text": [
      "Rate limit reached. Sleeping for: 573\n"
     ]
    },
    {
     "name": "stdout",
     "output_type": "stream",
     "text": [
      "[3, 1, 2, 2, 2, 3, 1, 2, 2, 3]\n",
      "Calculating Degrees for PanasGiannhs\n",
      "[-1, -1, -1, -1, -1, -1, -1, -1, -1, -1]\n",
      "Calculating Degrees for JamaisLeDimance\n"
     ]
    },
    {
     "name": "stderr",
     "output_type": "stream",
     "text": [
      "Rate limit reached. Sleeping for: 562\n"
     ]
    },
    {
     "name": "stdout",
     "output_type": "stream",
     "text": [
      "[3, 3, 2, 2, 2, 4, 4, 2, 2, 1]\n",
      "Calculating Degrees for omorfamystika\n"
     ]
    },
    {
     "name": "stderr",
     "output_type": "stream",
     "text": [
      "Rate limit reached. Sleeping for: 569\n",
      "Rate limit reached. Sleeping for: 459\n"
     ]
    },
    {
     "name": "stdout",
     "output_type": "stream",
     "text": [
      "[3, 3, 3, 3, 3, 3, 3, 3, 2, 3]\n",
      "Calculating Degrees for PapandreouPASOK\n"
     ]
    },
    {
     "name": "stderr",
     "output_type": "stream",
     "text": [
      "Rate limit reached. Sleeping for: 495\n"
     ]
    },
    {
     "name": "stdout",
     "output_type": "stream",
     "text": [
      "[4, 4, 2, 2, 2, 4, 3, 4, 2, 4]\n",
      "Calculating Degrees for nikos_gianoulis\n"
     ]
    },
    {
     "name": "stderr",
     "output_type": "stream",
     "text": [
      "Rate limit reached. Sleeping for: 351\n"
     ]
    },
    {
     "name": "stdout",
     "output_type": "stream",
     "text": [
      "[3, 1, 2, 3, 2, 1, 3, 2, 2, 1]\n",
      "Calculating Degrees for G_Mpoutsikakis\n"
     ]
    },
    {
     "name": "stderr",
     "output_type": "stream",
     "text": [
      "Rate limit reached. Sleeping for: 248\n",
      "Rate limit reached. Sleeping for: 583\n"
     ]
    },
    {
     "name": "stdout",
     "output_type": "stream",
     "text": [
      "[3, 3, 2, 2, 3, 2, 2, 3, 2, 3]\n",
      "Calculating Degrees for ap_kokkalis\n"
     ]
    },
    {
     "name": "stderr",
     "output_type": "stream",
     "text": [
      "Rate limit reached. Sleeping for: 846\n"
     ]
    },
    {
     "name": "stdout",
     "output_type": "stream",
     "text": [
      "[1, 2, 2, 2, 2, 1, 2, 2, 2, 2]\n",
      "Calculating Degrees for antonis_char\n"
     ]
    },
    {
     "name": "stderr",
     "output_type": "stream",
     "text": [
      "Rate limit reached. Sleeping for: 618\n"
     ]
    },
    {
     "name": "stdout",
     "output_type": "stream",
     "text": [
      "[3, 3, 2, 2, 2, 4, 2, 2, 2, 3]\n",
      "Calculating Degrees for AhmadKadry\n",
      "[-1, -1, -1, -1, -1, -1, -1, -1, -1, -1]\n",
      "Calculating Degrees for vassilis_lappas\n"
     ]
    },
    {
     "name": "stderr",
     "output_type": "stream",
     "text": [
      "Rate limit reached. Sleeping for: 568\n"
     ]
    },
    {
     "name": "stdout",
     "output_type": "stream",
     "text": [
      "Something went wrong!\n",
      "Failed to send request: HTTPSConnectionPool(host='api.twitter.com', port=443): Read timed out. (read timeout=180)\n",
      "[2, 2, 2, 2, 2, 1, 4, 2, 2, None]\n",
      "Calculating Degrees for ab1b8553db9b430\n",
      "[-1, -1, -1, -1, -1, -1, -1, -1, -1, -1]\n",
      "Calculating Degrees for athanasiaxperk1\n"
     ]
    },
    {
     "name": "stderr",
     "output_type": "stream",
     "text": [
      "Rate limit reached. Sleeping for: 733\n"
     ]
    },
    {
     "name": "stdout",
     "output_type": "stream",
     "text": [
      "[3, 3, 2, 3, 3, 3, 3, 3, 2, 3]\n",
      "Calculating Degrees for Galaziosparapol\n"
     ]
    },
    {
     "name": "stderr",
     "output_type": "stream",
     "text": [
      "Rate limit reached. Sleeping for: 12\n",
      "Rate limit reached. Sleeping for: 775\n"
     ]
    },
    {
     "name": "stdout",
     "output_type": "stream",
     "text": [
      "[1, 3, 2, 2, 2, 1, 1, 1, 2, 3]\n",
      "Calculating Degrees for PrigipoPoulos\n"
     ]
    },
    {
     "name": "stderr",
     "output_type": "stream",
     "text": [
      "Rate limit reached. Sleeping for: 488\n"
     ]
    },
    {
     "name": "stdout",
     "output_type": "stream",
     "text": [
      "Something went wrong!\n",
      "Failed to send request: HTTPSConnectionPool(host='api.twitter.com', port=443): Read timed out. (read timeout=180)\n",
      "[3, 2, 2, 2, 2, 3, 1, 2, 2, None]\n",
      "Calculating Degrees for DetlefMusic\n",
      "Something went wrong!\n",
      "Failed to send request: HTTPSConnectionPool(host='api.twitter.com', port=443): Read timed out. (read timeout=180)\n"
     ]
    },
    {
     "name": "stderr",
     "output_type": "stream",
     "text": [
      "Rate limit reached. Sleeping for: 126\n",
      "Rate limit reached. Sleeping for: 46\n"
     ]
    },
    {
     "name": "stdout",
     "output_type": "stream",
     "text": [
      "[4, 4, None, 4, 2, 4, 4, 4, 2, 3]\n",
      "Calculating Degrees for K9IsGBpmTctz4cj\n"
     ]
    },
    {
     "name": "stderr",
     "output_type": "stream",
     "text": [
      "Rate limit reached. Sleeping for: 143\n",
      "Rate limit reached. Sleeping for: 50\n",
      "Rate limit reached. Sleeping for: 576\n"
     ]
    },
    {
     "name": "stdout",
     "output_type": "stream",
     "text": [
      "Something went wrong!\n",
      "Failed to send request: HTTPSConnectionPool(host='api.twitter.com', port=443): Read timed out. (read timeout=180)\n",
      "[4, 4, 3, 3, 3, 4, 4, 3, 3, None]\n",
      "Calculating Degrees for EleniAlexop\n"
     ]
    },
    {
     "name": "stderr",
     "output_type": "stream",
     "text": [
      "Rate limit reached. Sleeping for: 755\n"
     ]
    },
    {
     "name": "stdout",
     "output_type": "stream",
     "text": [
      "[1, 2, 2, 2, 2, 1, 1, 1, 2, 1]\n",
      "Calculating Degrees for antnik060\n",
      "[3, 2, 2, 2, 2, 2, 3, 2, 2, 1]\n",
      "Calculating Degrees for TriantafilidisG\n"
     ]
    },
    {
     "name": "stderr",
     "output_type": "stream",
     "text": [
      "Rate limit reached. Sleeping for: 799\n"
     ]
    },
    {
     "name": "stdout",
     "output_type": "stream",
     "text": [
      "Something went wrong!\n",
      "Failed to send request: HTTPSConnectionPool(host='api.twitter.com', port=443): Read timed out. (read timeout=180)\n",
      "[3, 2, 2, 2, 2, 2, 4, 2, 2, None]\n",
      "Calculating Degrees for x2KfYlZinCoFKQL\n"
     ]
    },
    {
     "name": "stderr",
     "output_type": "stream",
     "text": [
      "Rate limit reached. Sleeping for: 564\n",
      "Rate limit reached. Sleeping for: 43\n",
      "Rate limit reached. Sleeping for: 820\n"
     ]
    },
    {
     "name": "stdout",
     "output_type": "stream",
     "text": [
      "[3, 3, 3, 3, 3, 1, 3, 3, 3, 3]\n",
      "Calculating Degrees for babishatz\n",
      "[2, 2, 2, 2, 2, 3, 2, 2, 2, 2]\n",
      "Calculating Degrees for kostakaramanlis\n"
     ]
    },
    {
     "name": "stderr",
     "output_type": "stream",
     "text": [
      "Rate limit reached. Sleeping for: 837\n",
      "Rate limit reached. Sleeping for: 476\n"
     ]
    },
    {
     "name": "stdout",
     "output_type": "stream",
     "text": [
      "[2, 3, 2, 2, 2, 4, 4, 3, 2, 3]\n",
      "Calculating Degrees for VagGiannakis\n",
      "[1, 1, 2, 2, 2, 1, 1, 2, 2, 1]\n",
      "Calculating Degrees for NMaravegias\n"
     ]
    },
    {
     "name": "stderr",
     "output_type": "stream",
     "text": [
      "Rate limit reached. Sleeping for: 734\n"
     ]
    },
    {
     "name": "stdout",
     "output_type": "stream",
     "text": [
      "[1, 3, 2, 2, 2, 1, 1, 1, 2, 1]\n",
      "Calculating Degrees for fesisdk\n",
      "Something went wrong!\n",
      "Failed to send request: HTTPSConnectionPool(host='api.twitter.com', port=443): Read timed out. (read timeout=180)\n"
     ]
    },
    {
     "name": "stderr",
     "output_type": "stream",
     "text": [
      "Rate limit reached. Sleeping for: 678\n",
      "Rate limit reached. Sleeping for: 506\n"
     ]
    },
    {
     "name": "stdout",
     "output_type": "stream",
     "text": [
      "[3, 3, None, 3, 3, 3, 4, 3, 3, 3]\n",
      "Calculating Degrees for oemoral\n",
      "[-1, -1, -1, -1, -1, -1, -1, -1, -1, -1]\n",
      "Calculating Degrees for NtouApoPantou\n"
     ]
    },
    {
     "name": "stderr",
     "output_type": "stream",
     "text": [
      "Rate limit reached. Sleeping for: 640\n"
     ]
    },
    {
     "name": "stdout",
     "output_type": "stream",
     "text": [
      "[3, 2, 2, 2, 2, 3, 3, 3, 2, 3]\n",
      "Calculating Degrees for vyzompalou\n"
     ]
    },
    {
     "name": "stderr",
     "output_type": "stream",
     "text": [
      "Rate limit reached. Sleeping for: 69\n",
      "Rate limit reached. Sleeping for: 692\n"
     ]
    },
    {
     "name": "stdout",
     "output_type": "stream",
     "text": [
      "[3, 3, 2, 2, 2, 3, 1, 2, 2, 1]\n",
      "Calculating Degrees for vlavla\n",
      "Something went wrong!\n",
      "Failed to send request: HTTPSConnectionPool(host='api.twitter.com', port=443): Read timed out. (read timeout=180)\n"
     ]
    },
    {
     "name": "stderr",
     "output_type": "stream",
     "text": [
      "Rate limit reached. Sleeping for: 387\n"
     ]
    },
    {
     "name": "stdout",
     "output_type": "stream",
     "text": [
      "Something went wrong!\n",
      "Failed to send request: HTTPSConnectionPool(host='api.twitter.com', port=443): Read timed out. (read timeout=180)\n",
      "Something went wrong!\n",
      "Failed to send request: HTTPSConnectionPool(host='api.twitter.com', port=443): Read timed out. (read timeout=180)\n"
     ]
    },
    {
     "name": "stderr",
     "output_type": "stream",
     "text": [
      "Rate limit reached. Sleeping for: 290\n"
     ]
    },
    {
     "name": "stdout",
     "output_type": "stream",
     "text": [
      "[4, 4, None, None, None, 3, 4, 4, 4, 4]\n",
      "Calculating Degrees for Pasxal_tvnea\n"
     ]
    },
    {
     "name": "stderr",
     "output_type": "stream",
     "text": [
      "Rate limit reached. Sleeping for: 519\n"
     ]
    },
    {
     "name": "stdout",
     "output_type": "stream",
     "text": [
      "[2, 3, 2, 3, 3, 3, 3, 3, 2, 3]\n",
      "Calculating Degrees for KPathitikos\n"
     ]
    },
    {
     "name": "stderr",
     "output_type": "stream",
     "text": [
      "Rate limit reached. Sleeping for: 255\n",
      "Rate limit reached. Sleeping for: 539\n"
     ]
    },
    {
     "name": "stdout",
     "output_type": "stream",
     "text": [
      "[3, 3, 3, 3, 3, 3, 3, 3, 3, 3]\n",
      "Calculating Degrees for msZ7lu2sm2ijCeA\n",
      "[-1, -1, -1, -1, -1, -1, -1, -1, -1, -1]\n",
      "Calculating Degrees for lewnidasparta\n"
     ]
    },
    {
     "name": "stderr",
     "output_type": "stream",
     "text": [
      "Rate limit reached. Sleeping for: 775\n"
     ]
    },
    {
     "name": "stdout",
     "output_type": "stream",
     "text": [
      "[2, 2, 2, 1, 2, 3, 3, 2, 1, 1]\n",
      "Calculating Degrees for Nikos_Konstanti\n"
     ]
    },
    {
     "name": "stderr",
     "output_type": "stream",
     "text": [
      "Rate limit reached. Sleeping for: 768\n"
     ]
    },
    {
     "name": "stdout",
     "output_type": "stream",
     "text": [
      "Something went wrong!\n",
      "Failed to send request: HTTPSConnectionPool(host='api.twitter.com', port=443): Read timed out. (read timeout=180)\n",
      "[2, 2, 2, 2, 2, 3, 4, 2, 3, None]\n",
      "Calculating Degrees for 6JDhRF9LljKB9tV\n",
      "[-1, -1, -1, -1, -1, -1, -1, -1, -1, -1]\n",
      "Calculating Degrees for AndonisSamaras\n"
     ]
    },
    {
     "name": "stderr",
     "output_type": "stream",
     "text": [
      "Rate limit reached. Sleeping for: 495\n",
      "Rate limit reached. Sleeping for: 23\n"
     ]
    },
    {
     "name": "stdout",
     "output_type": "stream",
     "text": [
      "[2, 2, 2, 2, 2, 3, 2, 2, 2, 2]\n",
      "Calculating Degrees for ImThe2ndAccount\n"
     ]
    },
    {
     "name": "stderr",
     "output_type": "stream",
     "text": [
      "Rate limit reached. Sleeping for: 799\n"
     ]
    },
    {
     "name": "stdout",
     "output_type": "stream",
     "text": [
      "[3, 3, 3, 2, 2, 3, 3, 3, 3, 3]\n",
      "Calculating Degrees for giorfilis\n"
     ]
    },
    {
     "name": "stderr",
     "output_type": "stream",
     "text": [
      "Rate limit reached. Sleeping for: 7\n",
      "Rate limit reached. Sleeping for: 837\n"
     ]
    },
    {
     "name": "stdout",
     "output_type": "stream",
     "text": [
      "[3, 2, 2, 2, 3, 3, 3, 2, 2, 3]\n",
      "Calculating Degrees for mariosgioulekas\n"
     ]
    },
    {
     "name": "stderr",
     "output_type": "stream",
     "text": [
      "Rate limit reached. Sleeping for: 638\n"
     ]
    },
    {
     "name": "stdout",
     "output_type": "stream",
     "text": [
      "Something went wrong!\n",
      "Failed to send request: HTTPSConnectionPool(host='api.twitter.com', port=443): Read timed out. (read timeout=180)\n"
     ]
    },
    {
     "name": "stderr",
     "output_type": "stream",
     "text": [
      "Rate limit reached. Sleeping for: 179\n"
     ]
    },
    {
     "name": "stdout",
     "output_type": "stream",
     "text": [
      "Something went wrong!\n",
      "Failed to send request: HTTPSConnectionPool(host='api.twitter.com', port=443): Read timed out. (read timeout=180)\n"
     ]
    },
    {
     "name": "stderr",
     "output_type": "stream",
     "text": [
      "Rate limit reached. Sleeping for: 69\n"
     ]
    },
    {
     "name": "stdout",
     "output_type": "stream",
     "text": [
      "[4, 4, 4, None, None, 4, 5, 4, 2, 4]\n",
      "Calculating Degrees for rK6ChtPv9N4gLdx\n"
     ]
    },
    {
     "name": "stderr",
     "output_type": "stream",
     "text": [
      "Rate limit reached. Sleeping for: 546\n"
     ]
    },
    {
     "name": "stdout",
     "output_type": "stream",
     "text": [
      "[1, 1, 2, 3, 2, 1, 1, 3, 2, 1]\n",
      "Calculating Degrees for vonBoltzmann\n"
     ]
    },
    {
     "name": "stderr",
     "output_type": "stream",
     "text": [
      "Rate limit reached. Sleeping for: 94\n",
      "Rate limit reached. Sleeping for: 609\n"
     ]
    },
    {
     "name": "stdout",
     "output_type": "stream",
     "text": [
      "[1, 2, 2, 2, 2, 2, 1, 2, 3, 2]\n",
      "Calculating Degrees for NikTsel_\n"
     ]
    },
    {
     "name": "stderr",
     "output_type": "stream",
     "text": [
      "Rate limit reached. Sleeping for: 490\n"
     ]
    },
    {
     "name": "stdout",
     "output_type": "stream",
     "text": [
      "[3, 3, 2, 2, 2, 3, 4, 2, 3, 3]\n",
      "Calculating Degrees for DimitrisGiann16\n"
     ]
    },
    {
     "name": "stderr",
     "output_type": "stream",
     "text": [
      "Rate limit reached. Sleeping for: 377\n"
     ]
    },
    {
     "name": "stdout",
     "output_type": "stream",
     "text": [
      "Something went wrong!\n",
      "Failed to send request: HTTPSConnectionPool(host='api.twitter.com', port=443): Read timed out. (read timeout=180)\n",
      "[2, 4, 2, 2, 2, 4, 4, 4, 2, None]\n",
      "Calculating Degrees for VlasisTsolkas\n"
     ]
    },
    {
     "name": "stderr",
     "output_type": "stream",
     "text": [
      "Rate limit reached. Sleeping for: 164\n",
      "Rate limit reached. Sleeping for: 146\n",
      "Rate limit reached. Sleeping for: 219\n"
     ]
    },
    {
     "name": "stdout",
     "output_type": "stream",
     "text": [
      "Something went wrong!\n",
      "Failed to send request: HTTPSConnectionPool(host='api.twitter.com', port=443): Read timed out. (read timeout=180)\n",
      "[3, 2, 2, 2, 2, 1, 4, 3, 4, None]\n",
      "Calculating Degrees for MonkeyDBark\n",
      "[-1, -1, -1, -1, -1, -1, -1, -1, -1, -1]\n",
      "Calculating Degrees for kalamatianos19\n"
     ]
    },
    {
     "name": "stderr",
     "output_type": "stream",
     "text": [
      "Rate limit reached. Sleeping for: 85\n",
      "Rate limit reached. Sleeping for: 661\n"
     ]
    },
    {
     "name": "stdout",
     "output_type": "stream",
     "text": [
      "[3, 3, 3, 2, 2, 3, 3, 3, 3, 3]\n",
      "Calculating Degrees for nina7_b\n"
     ]
    },
    {
     "name": "stderr",
     "output_type": "stream",
     "text": [
      "Rate limit reached. Sleeping for: 861\n"
     ]
    },
    {
     "name": "stdout",
     "output_type": "stream",
     "text": [
      "[2, 2, 2, 3, 3, 1, 3, 3, 3, 3]\n",
      "Calculating Degrees for nikosspanakis81\n"
     ]
    },
    {
     "name": "stderr",
     "output_type": "stream",
     "text": [
      "Rate limit reached. Sleeping for: 860\n"
     ]
    },
    {
     "name": "stdout",
     "output_type": "stream",
     "text": [
      "[3, 3, 2, 3, 2, 3, 3, 3, 2, 3]\n",
      "Calculating Degrees for Maniacsbet91\n"
     ]
    },
    {
     "name": "stderr",
     "output_type": "stream",
     "text": [
      "Rate limit reached. Sleeping for: 763\n"
     ]
    },
    {
     "name": "stdout",
     "output_type": "stream",
     "text": [
      "[1, 4, 2, 2, 2, 1, 1, 2, 2, 1]\n",
      "Calculating Degrees for NikosNikolakop\n"
     ]
    },
    {
     "name": "stderr",
     "output_type": "stream",
     "text": [
      "Rate limit reached. Sleeping for: 842\n"
     ]
    },
    {
     "name": "stdout",
     "output_type": "stream",
     "text": [
      "[3, 3, 2, 3, 2, 1, 3, 3, 2, 3]\n",
      "Calculating Degrees for toniapap93\n",
      "[2, 2, 2, 2, 2, 2, 2, 2, 2, 2]\n",
      "Calculating Degrees for nikostzavaras\n"
     ]
    },
    {
     "name": "stderr",
     "output_type": "stream",
     "text": [
      "Rate limit reached. Sleeping for: 828\n"
     ]
    },
    {
     "name": "stdout",
     "output_type": "stream",
     "text": [
      "[3, 3, 2, 2, 3, 2, 2, 2, 2, 3]\n",
      "Calculating Degrees for dimiPap11\n"
     ]
    },
    {
     "name": "stderr",
     "output_type": "stream",
     "text": [
      "Rate limit reached. Sleeping for: 683\n",
      "Rate limit reached. Sleeping for: 317\n"
     ]
    },
    {
     "name": "stdout",
     "output_type": "stream",
     "text": [
      "[3, 2, 2, 2, 2, 3, 4, 4, 2, 3]\n",
      "Calculating Degrees for anagnostopelena\n",
      "Something went wrong!\n",
      "[{'code': 50, 'message': 'User not found.'}]\n",
      "Something went wrong!\n",
      "[{'code': 50, 'message': 'User not found.'}]\n",
      "Something went wrong!\n",
      "[{'code': 50, 'message': 'User not found.'}]\n",
      "Something went wrong!\n",
      "[{'code': 50, 'message': 'User not found.'}]\n",
      "Something went wrong!\n",
      "[{'code': 50, 'message': 'User not found.'}]\n",
      "Something went wrong!\n",
      "[{'code': 50, 'message': 'User not found.'}]\n",
      "Something went wrong!\n",
      "[{'code': 50, 'message': 'User not found.'}]\n",
      "Something went wrong!\n",
      "[{'code': 50, 'message': 'User not found.'}]\n",
      "Something went wrong!\n",
      "[{'code': 50, 'message': 'User not found.'}]\n",
      "Something went wrong!\n",
      "[{'code': 50, 'message': 'User not found.'}]\n",
      "[None, None, None, None, None, None, None, None, None, None]\n",
      "Calculating Degrees for Thanasispsh77\n"
     ]
    },
    {
     "name": "stderr",
     "output_type": "stream",
     "text": [
      "Rate limit reached. Sleeping for: 336\n"
     ]
    },
    {
     "name": "stdout",
     "output_type": "stream",
     "text": [
      "[3, 3, 2, 3, 3, 3, 1, 3, 3, 3]\n",
      "Calculating Degrees for STAMENITIS1\n"
     ]
    },
    {
     "name": "stderr",
     "output_type": "stream",
     "text": [
      "Rate limit reached. Sleeping for: 675\n",
      "Rate limit reached. Sleeping for: 8\n"
     ]
    },
    {
     "name": "stdout",
     "output_type": "stream",
     "text": [
      "[3, 3, 2, 3, 4, 3, 1, 3, 2, 1]\n",
      "Calculating Degrees for Chris_Vagenas\n"
     ]
    },
    {
     "name": "stderr",
     "output_type": "stream",
     "text": [
      "Rate limit reached. Sleeping for: 171\n",
      "Rate limit reached. Sleeping for: 662\n"
     ]
    },
    {
     "name": "stdout",
     "output_type": "stream",
     "text": [
      "[3, 3, 2, 3, 3, 3, 1, 3, 3, 3]\n",
      "Calculating Degrees for AnthonyPappas_\n",
      "[1, 1, 1, 2, 2, 1, 1, 1, 2, 1]\n",
      "Calculating Degrees for UniHalle\n"
     ]
    },
    {
     "name": "stderr",
     "output_type": "stream",
     "text": [
      "Rate limit reached. Sleeping for: 823\n",
      "Rate limit reached. Sleeping for: 293\n"
     ]
    },
    {
     "name": "stdout",
     "output_type": "stream",
     "text": [
      "Something went wrong!\n",
      "Failed to send request: HTTPSConnectionPool(host='api.twitter.com', port=443): Read timed out. (read timeout=180)\n",
      "[4, 4, 3, 5, 3, 3, 4, 4, None, 5]\n",
      "Calculating Degrees for Yanni\n",
      "Something went wrong!\n",
      "Failed to send request: HTTPSConnectionPool(host='api.twitter.com', port=443): Read timed out. (read timeout=180)\n",
      "[4, 3, None, 2, 4, 3, 3, 4, 2, 3]\n",
      "Calculating Degrees for NtinosCook\n"
     ]
    },
    {
     "name": "stderr",
     "output_type": "stream",
     "text": [
      "Rate limit reached. Sleeping for: 790\n"
     ]
    },
    {
     "name": "stdout",
     "output_type": "stream",
     "text": [
      "[3, 2, 2, 2, 2, 3, 3, 3, 2, 3]\n",
      "Calculating Degrees for varoufpresident\n",
      "[-1, -1, -1, -1, -1, -1, -1, -1, -1, -1]\n",
      "Calculating Degrees for SakisBalafas\n"
     ]
    },
    {
     "name": "stderr",
     "output_type": "stream",
     "text": [
      "Rate limit reached. Sleeping for: 732\n"
     ]
    },
    {
     "name": "stdout",
     "output_type": "stream",
     "text": [
      "[4, 3, 3, 3, 3, 4, 1, 3, 3, 1]\n",
      "Calculating Degrees for vlachos_nlp\n"
     ]
    },
    {
     "name": "stderr",
     "output_type": "stream",
     "text": [
      "Rate limit reached. Sleeping for: 433\n"
     ]
    },
    {
     "name": "stdout",
     "output_type": "stream",
     "text": [
      "Something went wrong!\n",
      "Failed to send request: HTTPSConnectionPool(host='api.twitter.com', port=443): Read timed out. (read timeout=180)\n"
     ]
    },
    {
     "name": "stderr",
     "output_type": "stream",
     "text": [
      "Rate limit reached. Sleeping for: 160\n"
     ]
    },
    {
     "name": "stdout",
     "output_type": "stream",
     "text": [
      "[4, 4, 3, None, 4, 4, 4, 4, 3, 3]\n",
      "Calculating Degrees for 002cbf92d2ae4bf\n"
     ]
    },
    {
     "name": "stderr",
     "output_type": "stream",
     "text": [
      "Rate limit reached. Sleeping for: 292\n",
      "Rate limit reached. Sleeping for: 297\n"
     ]
    },
    {
     "name": "stdout",
     "output_type": "stream",
     "text": [
      "Something went wrong!\n",
      "Failed to send request: HTTPSConnectionPool(host='api.twitter.com', port=443): Read timed out. (read timeout=180)\n",
      "[2, 3, 2, 3, 3, 5, 5, 3, 2, None]\n",
      "Calculating Degrees for athanasiou_a\n"
     ]
    },
    {
     "name": "stderr",
     "output_type": "stream",
     "text": [
      "Rate limit reached. Sleeping for: 661\n"
     ]
    },
    {
     "name": "stdout",
     "output_type": "stream",
     "text": [
      "[1, 2, 2, 2, 2, 1, 1, 2, 2, 1]\n",
      "Calculating Degrees for PapadopoulosMix\n"
     ]
    },
    {
     "name": "stderr",
     "output_type": "stream",
     "text": [
      "Rate limit reached. Sleeping for: 854\n"
     ]
    },
    {
     "name": "stdout",
     "output_type": "stream",
     "text": [
      "[1, 3, 2, 2, 2, 1, 3, 2, 2, 3]\n",
      "Calculating Degrees for TheoKaraoglou\n",
      "[1, 2, 2, 2, 2, 1, 2, 2, 2, 1]\n",
      "Calculating Degrees for thanosplevris\n"
     ]
    },
    {
     "name": "stderr",
     "output_type": "stream",
     "text": [
      "Rate limit reached. Sleeping for: 850\n"
     ]
    },
    {
     "name": "stdout",
     "output_type": "stream",
     "text": [
      "[1, 2, 1, 2, 2, 1, 1, 2, 2, 2]\n",
      "Calculating Degrees for NatasaGkara\n"
     ]
    },
    {
     "name": "stderr",
     "output_type": "stream",
     "text": [
      "Rate limit reached. Sleeping for: 854\n"
     ]
    },
    {
     "name": "stdout",
     "output_type": "stream",
     "text": [
      "[1, 1, 2, 2, 2, 1, 1, 1, 2, 1]\n",
      "Calculating Degrees for CZachariadis\n",
      "[2, 2, 1, 1, 1, 2, 2, 2, 2, 2]\n",
      "Calculating Degrees for tasos_chatziv\n"
     ]
    },
    {
     "name": "stderr",
     "output_type": "stream",
     "text": [
      "Rate limit reached. Sleeping for: 853\n"
     ]
    },
    {
     "name": "stdout",
     "output_type": "stream",
     "text": [
      "[1, 1, 1, 2, 2, 1, 1, 1, 2, 1]\n",
      "Calculating Degrees for nmitarakis\n"
     ]
    },
    {
     "name": "stderr",
     "output_type": "stream",
     "text": [
      "Rate limit reached. Sleeping for: 855\n"
     ]
    },
    {
     "name": "stdout",
     "output_type": "stream",
     "text": [
      "[1, 1, 2, 2, 2, 1, 1, 1, 1, 1]\n",
      "Calculating Degrees for Odysseas_\n",
      "[2, 2, 1, 2, 2, 1, 4, 2, 2, 3]\n",
      "Calculating Degrees for TheanoFotiou\n"
     ]
    },
    {
     "name": "stderr",
     "output_type": "stream",
     "text": [
      "Rate limit reached. Sleeping for: 691\n"
     ]
    },
    {
     "name": "stdout",
     "output_type": "stream",
     "text": [
      "[3, 1, 2, 2, 2, 3, 1, 2, 2, 1]\n",
      "Calculating Degrees for AnnaEfthymiou_\n"
     ]
    },
    {
     "name": "stderr",
     "output_type": "stream",
     "text": [
      "Rate limit reached. Sleeping for: 791\n"
     ]
    },
    {
     "name": "stdout",
     "output_type": "stream",
     "text": [
      "[1, 2, 2, 2, 2, 1, 2, 2, 2, 1]\n",
      "Calculating Degrees for michaelkatrinis\n"
     ]
    },
    {
     "name": "stderr",
     "output_type": "stream",
     "text": [
      "Rate limit reached. Sleeping for: 858\n"
     ]
    },
    {
     "name": "stdout",
     "output_type": "stream",
     "text": [
      "[1, 1, 1, 2, 1, 1, 1, 1, 1, 2]\n",
      "Calculating Degrees for xrisalex\n",
      "[1, 2, 2, 2, 2, 1, 1, 1, 2, 2]\n",
      "Calculating Degrees for GIOTAPOULOU\n"
     ]
    },
    {
     "name": "stderr",
     "output_type": "stream",
     "text": [
      "Rate limit reached. Sleeping for: 854\n"
     ]
    },
    {
     "name": "stdout",
     "output_type": "stream",
     "text": [
      "[3, 3, 2, 3, 3, 3, 3, 3, 2, 3]\n",
      "Calculating Degrees for ZeybekHuseyin\n"
     ]
    },
    {
     "name": "stderr",
     "output_type": "stream",
     "text": [
      "Rate limit reached. Sleeping for: 859\n"
     ]
    },
    {
     "name": "stdout",
     "output_type": "stream",
     "text": [
      "[2, 1, 2, 2, 2, 2, 1, 2, 2, 2]\n",
      "Calculating Degrees for pavpol2222\n"
     ]
    },
    {
     "name": "stderr",
     "output_type": "stream",
     "text": [
      "Rate limit reached. Sleeping for: 855\n"
     ]
    },
    {
     "name": "stdout",
     "output_type": "stream",
     "text": [
      "[3, 1, 2, 2, 2, 3, 1, 3, 2, 1]\n",
      "Calculating Degrees for maravegiaskost\n"
     ]
    },
    {
     "name": "stderr",
     "output_type": "stream",
     "text": [
      "Rate limit reached. Sleeping for: 858\n"
     ]
    },
    {
     "name": "stdout",
     "output_type": "stream",
     "text": [
      "[1, 2, 2, 2, 2, 1, 1, 1, 2, 1]\n",
      "Calculating Degrees for k_karagounis\n",
      "[1, 3, 2, 2, 2, 1, 3, 2, 1, 1]\n",
      "Calculating Degrees for E_Achtsioglou\n"
     ]
    },
    {
     "name": "stderr",
     "output_type": "stream",
     "text": [
      "Rate limit reached. Sleeping for: 848\n"
     ]
    },
    {
     "name": "stdout",
     "output_type": "stream",
     "text": [
      "[3, 1, 2, 2, 2, 4, 1, 2, 2, 2]\n",
      "Calculating Degrees for ChristosDimas_\n"
     ]
    },
    {
     "name": "stderr",
     "output_type": "stream",
     "text": [
      "Rate limit reached. Sleeping for: 676\n"
     ]
    },
    {
     "name": "stdout",
     "output_type": "stream",
     "text": [
      "[1, 1, 2, 2, 2, 1, 1, 1, 2, 1]\n",
      "Calculating Degrees for originaljon\n",
      "[-1, -1, -1, -1, -1, -1, -1, -1, -1, -1]\n",
      "Calculating Degrees for JSarakiotis\n"
     ]
    },
    {
     "name": "stderr",
     "output_type": "stream",
     "text": [
      "Rate limit reached. Sleeping for: 10\n",
      "Rate limit reached. Sleeping for: 826\n"
     ]
    },
    {
     "name": "stdout",
     "output_type": "stream",
     "text": [
      "[2, 1, 2, 2, 2, 2, 1, 2, 2, 1]\n",
      "Calculating Degrees for htheoharis\n",
      "[1, 1, 1, 2, 2, 1, 1, 1, 2, 1]\n",
      "Calculating Degrees for PapachristTh\n",
      "[-1, -1, -1, -1, -1, -1, -1, -1, -1, -1]\n",
      "Calculating Degrees for A_Meikopoulos\n"
     ]
    },
    {
     "name": "stderr",
     "output_type": "stream",
     "text": [
      "Rate limit reached. Sleeping for: 845\n"
     ]
    },
    {
     "name": "stdout",
     "output_type": "stream",
     "text": [
      "[2, 1, 2, 2, 2, 2, 1, 2, 2, 1]\n",
      "Calculating Degrees for syrmal2000\n"
     ]
    },
    {
     "name": "stderr",
     "output_type": "stream",
     "text": [
      "Rate limit reached. Sleeping for: 843\n"
     ]
    },
    {
     "name": "stdout",
     "output_type": "stream",
     "text": [
      "[2, 1, 2, 2, 2, 2, 1, 2, 2, 1]\n",
      "Calculating Degrees for avdelas_ap\n"
     ]
    },
    {
     "name": "stderr",
     "output_type": "stream",
     "text": [
      "Rate limit reached. Sleeping for: 856\n"
     ]
    },
    {
     "name": "stdout",
     "output_type": "stream",
     "text": [
      "[3, 2, 2, 1, 2, 3, 1, 2, 1, 3]\n",
      "Calculating Degrees for nectarsant\n",
      "[2, 1, 2, 2, 2, 2, 1, 2, 2, 2]\n",
      "Calculating Degrees for FotiniPipili\n"
     ]
    },
    {
     "name": "stderr",
     "output_type": "stream",
     "text": [
      "Rate limit reached. Sleeping for: 852\n"
     ]
    },
    {
     "name": "stdout",
     "output_type": "stream",
     "text": [
      "[1, 2, 2, 2, 2, 1, 4, 2, 2, 3]\n",
      "Calculating Degrees for PanosSkourolia1\n"
     ]
    },
    {
     "name": "stderr",
     "output_type": "stream",
     "text": [
      "Rate limit reached. Sleeping for: 781\n"
     ]
    },
    {
     "name": "stdout",
     "output_type": "stream",
     "text": [
      "[2, 1, 2, 2, 2, 3, 1, 2, 2, 2]\n",
      "Calculating Degrees for l_avgenakis\n"
     ]
    },
    {
     "name": "stderr",
     "output_type": "stream",
     "text": [
      "Rate limit reached. Sleeping for: 643\n"
     ]
    },
    {
     "name": "stdout",
     "output_type": "stream",
     "text": [
      "[1, 2, 2, 2, 2, 1, 2, 1, 2, 3]\n",
      "Calculating Degrees for kutsubad\n",
      "[1, 2, 2, 2, 2, 1, 3, 2, 2, 3]\n",
      "Calculating Degrees for BoutsikakisChr\n"
     ]
    },
    {
     "name": "stderr",
     "output_type": "stream",
     "text": [
      "Rate limit reached. Sleeping for: 753\n"
     ]
    },
    {
     "name": "stdout",
     "output_type": "stream",
     "text": [
      "[1, 1, 2, 2, 2, 1, 1, 1, 1, 1]\n",
      "Calculating Degrees for meropitzoufi\n"
     ]
    },
    {
     "name": "stderr",
     "output_type": "stream",
     "text": [
      "Rate limit reached. Sleeping for: 857\n"
     ]
    },
    {
     "name": "stdout",
     "output_type": "stream",
     "text": [
      "[1, 1, 2, 2, 2, 1, 1, 1, 2, 1]\n",
      "Calculating Degrees for BKegeroglou\n",
      "[2, 2, 1, 2, 2, 1, 1, 1, 2, 2]\n",
      "Calculating Degrees for MakisVoridis\n"
     ]
    },
    {
     "name": "stderr",
     "output_type": "stream",
     "text": [
      "Rate limit reached. Sleeping for: 835\n"
     ]
    },
    {
     "name": "stdout",
     "output_type": "stream",
     "text": [
      "[1, 2, 2, 2, 2, 1, 2, 1, 2, 4]\n",
      "Calculating Degrees for MarkopoulosDimi\n"
     ]
    },
    {
     "name": "stderr",
     "output_type": "stream",
     "text": [
      "Rate limit reached. Sleeping for: 576\n"
     ]
    },
    {
     "name": "stdout",
     "output_type": "stream",
     "text": [
      "[3, 1, 2, 2, 2, 1, 1, 2, 2, 1]\n",
      "Calculating Degrees for andreasxanthos\n"
     ]
    },
    {
     "name": "stderr",
     "output_type": "stream",
     "text": [
      "Rate limit reached. Sleeping for: 824\n"
     ]
    },
    {
     "name": "stdout",
     "output_type": "stream",
     "text": [
      "[2, 1, 2, 2, 2, 3, 1, 2, 2, 2]\n",
      "Calculating Degrees for gstylios\n",
      "[1, 2, 2, 2, 2, 1, 1, 1, 2, 5]\n",
      "Calculating Degrees for DimVartzopoulos\n"
     ]
    },
    {
     "name": "stderr",
     "output_type": "stream",
     "text": [
      "Rate limit reached. Sleeping for: 655\n"
     ]
    },
    {
     "name": "stdout",
     "output_type": "stream",
     "text": [
      "[1, 2, 2, 2, 2, 1, 1, 1, 1, 1]\n",
      "Calculating Degrees for KalafatisSt\n"
     ]
    },
    {
     "name": "stderr",
     "output_type": "stream",
     "text": [
      "Rate limit reached. Sleeping for: 838\n"
     ]
    },
    {
     "name": "stdout",
     "output_type": "stream",
     "text": [
      "[1, 2, 2, 2, 2, 1, 1, 2, 1, 1]\n",
      "Calculating Degrees for ZettaMakri\n",
      "[1, 1, 2, 2, 2, 1, 1, 1, 1, 1]\n",
      "Calculating Degrees for pasxalidisjohn\n"
     ]
    },
    {
     "name": "stderr",
     "output_type": "stream",
     "text": [
      "Rate limit reached. Sleeping for: 858\n",
      "Rate limit reached. Sleeping for: 364\n"
     ]
    },
    {
     "name": "stdout",
     "output_type": "stream",
     "text": [
      "[3, 3, 2, 2, 2, 1, 3, 2, 2, 4]\n",
      "Calculating Degrees for athbouras\n",
      "[1, 2, 2, 2, 3, 1, 3, 2, 2, 3]\n",
      "Calculating Degrees for Tzavaraskon\n"
     ]
    },
    {
     "name": "stderr",
     "output_type": "stream",
     "text": [
      "Rate limit reached. Sleeping for: 844\n"
     ]
    },
    {
     "name": "stdout",
     "output_type": "stream",
     "text": [
      "[1, 3, 2, 3, 2, 1, 3, 3, 3, 3]\n",
      "Calculating Degrees for T_Cheimaras\n"
     ]
    },
    {
     "name": "stderr",
     "output_type": "stream",
     "text": [
      "Rate limit reached. Sleeping for: 854\n"
     ]
    },
    {
     "name": "stdout",
     "output_type": "stream",
     "text": [
      "[1, 2, 2, 2, 2, 1, 2, 2, 2, 3]\n",
      "Calculating Degrees for Vlachos_G\n"
     ]
    },
    {
     "name": "stderr",
     "output_type": "stream",
     "text": [
      "Rate limit reached. Sleeping for: 845\n"
     ]
    },
    {
     "name": "stdout",
     "output_type": "stream",
     "text": [
      "[3, 3, 2, 2, 2, 1, 3, 2, 2, 3]\n",
      "Calculating Degrees for VASILISKOKKALHS\n"
     ]
    },
    {
     "name": "stderr",
     "output_type": "stream",
     "text": [
      "Rate limit reached. Sleeping for: 848\n"
     ]
    },
    {
     "name": "stdout",
     "output_type": "stream",
     "text": [
      "[3, 3, 2, 3, 2, 3, 1, 2, 2, 3]\n",
      "Calculating Degrees for karsenis\n"
     ]
    },
    {
     "name": "stderr",
     "output_type": "stream",
     "text": [
      "Rate limit reached. Sleeping for: 707\n"
     ]
    },
    {
     "name": "stdout",
     "output_type": "stream",
     "text": [
      "[4, 1, 2, 2, 1, 2, 1, 2, 2, 1]\n",
      "Calculating Degrees for periklismantas\n"
     ]
    },
    {
     "name": "stderr",
     "output_type": "stream",
     "text": [
      "Rate limit reached. Sleeping for: 855\n"
     ]
    },
    {
     "name": "stdout",
     "output_type": "stream",
     "text": [
      "[1, 1, 2, 2, 2, 1, 1, 1, 1, 1]\n",
      "Calculating Degrees for DKouvelas\n",
      "[1, 2, 2, 2, 2, 1, 1, 1, 2, 1]\n",
      "Calculating Degrees for kostasbarkas\n"
     ]
    },
    {
     "name": "stderr",
     "output_type": "stream",
     "text": [
      "Rate limit reached. Sleeping for: 847\n"
     ]
    },
    {
     "name": "stdout",
     "output_type": "stream",
     "text": [
      "[1, 1, 2, 2, 2, 1, 1, 1, 2, 2]\n",
      "Calculating Degrees for TagarasNikos\n"
     ]
    },
    {
     "name": "stderr",
     "output_type": "stream",
     "text": [
      "Rate limit reached. Sleeping for: 846\n"
     ]
    },
    {
     "name": "stdout",
     "output_type": "stream",
     "text": [
      "[3, 3, 2, 3, 3, 1, 3, 3, 2, 3]\n",
      "Calculating Degrees for m_giannakou\n"
     ]
    },
    {
     "name": "stderr",
     "output_type": "stream",
     "text": [
      "Rate limit reached. Sleeping for: 855\n"
     ]
    },
    {
     "name": "stdout",
     "output_type": "stream",
     "text": [
      "[1, 1, 2, 2, 2, 1, 4, 1, 2, 1]\n",
      "Calculating Degrees for kellas_xristos\n"
     ]
    },
    {
     "name": "stderr",
     "output_type": "stream",
     "text": [
      "Rate limit reached. Sleeping for: 685\n"
     ]
    },
    {
     "name": "stdout",
     "output_type": "stream",
     "text": [
      "[1, 2, 2, 2, 2, 1, 3, 2, 1, 1]\n",
      "Calculating Degrees for patsis_andreas\n",
      "[1, 1, 1, 2, 2, 1, 1, 1, 1, 1]\n",
      "Calculating Degrees for sakis_papad\n"
     ]
    },
    {
     "name": "stderr",
     "output_type": "stream",
     "text": [
      "Rate limit reached. Sleeping for: 864\n"
     ]
    },
    {
     "name": "stdout",
     "output_type": "stream",
     "text": [
      "[3, 1, 2, 3, 2, 3, 1, 3, 3, 1]\n",
      "Calculating Degrees for giorgostsipras\n"
     ]
    },
    {
     "name": "stderr",
     "output_type": "stream",
     "text": [
      "Rate limit reached. Sleeping for: 855\n"
     ]
    },
    {
     "name": "stdout",
     "output_type": "stream",
     "text": [
      "[3, 1, 2, 2, 2, 3, 1, 2, 2, 1]\n",
      "Calculating Degrees for fbakadima\n"
     ]
    },
    {
     "name": "stderr",
     "output_type": "stream",
     "text": [
      "Rate limit reached. Sleeping for: 852\n"
     ]
    },
    {
     "name": "stdout",
     "output_type": "stream",
     "text": [
      "[2, 2, 2, 2, 1, 2, 1, 2, 2, 1]\n",
      "Calculating Degrees for kostasmpoumpas\n"
     ]
    },
    {
     "name": "stderr",
     "output_type": "stream",
     "text": [
      "Rate limit reached. Sleeping for: 853\n"
     ]
    },
    {
     "name": "stdout",
     "output_type": "stream",
     "text": [
      "[1, 2, 2, 1, 2, 1, 3, 1, 1, 3]\n",
      "Calculating Degrees for neokliskritikos\n",
      "[-1, -1, -1, -1, -1, -1, -1, -1, -1, -1]\n",
      "Calculating Degrees for B3Vagenas\n",
      "[3, 2, 2, 2, 3, 1, 3, 2, 1, 3]\n",
      "Calculating Degrees for VroutsisGiannis\n"
     ]
    },
    {
     "name": "stderr",
     "output_type": "stream",
     "text": [
      "Rate limit reached. Sleeping for: 847\n"
     ]
    },
    {
     "name": "stdout",
     "output_type": "stream",
     "text": [
      "[1, 1, 2, 2, 2, 1, 1, 1, 1, 3]\n",
      "Calculating Degrees for katsaniotis\n"
     ]
    },
    {
     "name": "stderr",
     "output_type": "stream",
     "text": [
      "Rate limit reached. Sleeping for: 739\n"
     ]
    },
    {
     "name": "stdout",
     "output_type": "stream",
     "text": [
      "[1, 2, 2, 2, 2, 1, 1, 1, 2, 2]\n",
      "Calculating Degrees for G_Plakiotakis\n"
     ]
    },
    {
     "name": "stderr",
     "output_type": "stream",
     "text": [
      "Rate limit reached. Sleeping for: 774\n"
     ]
    },
    {
     "name": "stdout",
     "output_type": "stream",
     "text": [
      "[1, 2, 2, 2, 2, 1, 3, 2, 1, 4]\n",
      "Calculating Degrees for KonstantinaAda1\n"
     ]
    },
    {
     "name": "stderr",
     "output_type": "stream",
     "text": [
      "Rate limit reached. Sleeping for: 769\n"
     ]
    },
    {
     "name": "stdout",
     "output_type": "stream",
     "text": [
      "[3, 3, 2, 3, 3, 3, 3, 3, 3, 1]\n",
      "Calculating Degrees for tr_alexandros\n"
     ]
    },
    {
     "name": "stderr",
     "output_type": "stream",
     "text": [
      "Rate limit reached. Sleeping for: 858\n"
     ]
    },
    {
     "name": "stdout",
     "output_type": "stream",
     "text": [
      "[2, 1, 2, 2, 2, 2, 1, 2, 2, 1]\n",
      "Calculating Degrees for ChrisDermen\n",
      "[1, 1, 2, 2, 2, 1, 2, 2, 2, 1]\n",
      "Calculating Degrees for lakis_vas\n"
     ]
    },
    {
     "name": "stderr",
     "output_type": "stream",
     "text": [
      "Rate limit reached. Sleeping for: 856\n"
     ]
    },
    {
     "name": "stdout",
     "output_type": "stream",
     "text": [
      "[1, 2, 2, 2, 2, 1, 2, 2, 2, 3]\n",
      "Calculating Degrees for a_avlonitis\n"
     ]
    },
    {
     "name": "stderr",
     "output_type": "stream",
     "text": [
      "Rate limit reached. Sleeping for: 781\n"
     ]
    },
    {
     "name": "stdout",
     "output_type": "stream",
     "text": [
      "[3, 1, 2, 2, 2, 1, 1, 2, 2, 2]\n",
      "Calculating Degrees for MVoloudakis\n"
     ]
    },
    {
     "name": "stderr",
     "output_type": "stream",
     "text": [
      "Rate limit reached. Sleeping for: 851\n"
     ]
    },
    {
     "name": "stdout",
     "output_type": "stream",
     "text": [
      "[1, 2, 2, 2, 2, 1, 2, 2, 1, 3]\n",
      "Calculating Degrees for GMoulkiotis\n"
     ]
    },
    {
     "name": "stderr",
     "output_type": "stream",
     "text": [
      "Rate limit reached. Sleeping for: 700\n"
     ]
    },
    {
     "name": "stdout",
     "output_type": "stream",
     "text": [
      "[3, 1, 1, 2, 2, 3, 1, 1, 2, 3]\n",
      "Calculating Degrees for davgeri\n",
      "[3, 2, 2, 2, 2, 1, 1, 1, 1, 1]\n",
      "Calculating Degrees for PetiPerka\n"
     ]
    },
    {
     "name": "stderr",
     "output_type": "stream",
     "text": [
      "Rate limit reached. Sleeping for: 703\n"
     ]
    },
    {
     "name": "stdout",
     "output_type": "stream",
     "text": [
      "[2, 1, 2, 2, 2, 1, 1, 2, 2, 2]\n",
      "Calculating Degrees for savanastasiadis\n"
     ]
    },
    {
     "name": "stderr",
     "output_type": "stream",
     "text": [
      "Rate limit reached. Sleeping for: 856\n"
     ]
    },
    {
     "name": "stdout",
     "output_type": "stream",
     "text": [
      "[1, 2, 2, 2, 2, 1, 2, 2, 2, 2]\n",
      "Calculating Degrees for ybalafas\n",
      "[1, 1, 2, 2, 2, 1, 1, 1, 1, 1]\n",
      "Calculating Degrees for chboukoros1\n"
     ]
    },
    {
     "name": "stderr",
     "output_type": "stream",
     "text": [
      "Rate limit reached. Sleeping for: 857\n"
     ]
    },
    {
     "name": "stdout",
     "output_type": "stream",
     "text": [
      "[1, 2, 2, 2, 2, 1, 1, 1, 2, 1]\n",
      "Calculating Degrees for t_bartzokas\n"
     ]
    },
    {
     "name": "stderr",
     "output_type": "stream",
     "text": [
      "Rate limit reached. Sleeping for: 856\n"
     ]
    },
    {
     "name": "stdout",
     "output_type": "stream",
     "text": [
      "[1, 2, 2, 2, 2, 1, 2, 2, 2, 3]\n",
      "Calculating Degrees for K_Hatzidakis\n"
     ]
    },
    {
     "name": "stderr",
     "output_type": "stream",
     "text": [
      "Rate limit reached. Sleeping for: 762\n"
     ]
    },
    {
     "name": "stdout",
     "output_type": "stream",
     "text": [
      "[1, 1, 2, 2, 2, 1, 1, 1, 1, 2]\n",
      "Calculating Degrees for DimKairidis\n",
      "[1, 2, 2, 2, 2, 1, 1, 2, 2, 1]\n",
      "Calculating Degrees for MariaAt03902914\n"
     ]
    },
    {
     "name": "stderr",
     "output_type": "stream",
     "text": [
      "Rate limit reached. Sleeping for: 855\n"
     ]
    },
    {
     "name": "stdout",
     "output_type": "stream",
     "text": [
      "[2, 3, 2, 1, 2, 3, 3, 2, 1, 3]\n",
      "Calculating Degrees for kallianos\n"
     ]
    },
    {
     "name": "stderr",
     "output_type": "stream",
     "text": [
      "Rate limit reached. Sleeping for: 855\n"
     ]
    },
    {
     "name": "stdout",
     "output_type": "stream",
     "text": [
      "[1, 2, 1, 2, 2, 1, 1, 1, 2, 1]\n",
      "Calculating Degrees for Sofia_voultepsi\n",
      "[-1, -1, -1, -1, -1, -1, -1, -1, -1, -1]\n",
      "Calculating Degrees for MVarvitsiotis\n",
      "[1, 2, 2, 2, 2, 1, 1, 1, 2, 1]\n",
      "Calculating Degrees for KaminisG\n"
     ]
    },
    {
     "name": "stderr",
     "output_type": "stream",
     "text": [
      "Rate limit reached. Sleeping for: 848\n"
     ]
    },
    {
     "name": "stdout",
     "output_type": "stream",
     "text": [
      "Something went wrong!\n",
      "Failed to send request: HTTPSConnectionPool(host='api.twitter.com', port=443): Read timed out. (read timeout=180)\n",
      "[1, 1, 1, 2, 2, 1, 1, 1, 2, None]\n",
      "Calculating Degrees for XarAthan\n"
     ]
    },
    {
     "name": "stderr",
     "output_type": "stream",
     "text": [
      "Rate limit reached. Sleeping for: 738\n"
     ]
    },
    {
     "name": "stdout",
     "output_type": "stream",
     "text": [
      "[1, 1, 2, 2, 2, 1, 1, 1, 2, 2]\n",
      "Calculating Degrees for KotsosGiorgos\n"
     ]
    },
    {
     "name": "stderr",
     "output_type": "stream",
     "text": [
      "Rate limit reached. Sleeping for: 856\n"
     ]
    },
    {
     "name": "stdout",
     "output_type": "stream",
     "text": [
      "[1, 2, 2, 2, 2, 1, 2, 2, 2, 3]\n",
      "Calculating Degrees for a_loverdos\n",
      "[2, 2, 1, 2, 2, 1, 1, 1, 2, 3]\n",
      "Calculating Degrees for IgoumenidisN\n"
     ]
    },
    {
     "name": "stderr",
     "output_type": "stream",
     "text": [
      "Rate limit reached. Sleeping for: 608\n"
     ]
    },
    {
     "name": "stdout",
     "output_type": "stream",
     "text": [
      "[3, 1, 2, 2, 2, 3, 1, 2, 2, 2]\n",
      "Calculating Degrees for ADimoschakis\n"
     ]
    },
    {
     "name": "stderr",
     "output_type": "stream",
     "text": [
      "Rate limit reached. Sleeping for: 853\n"
     ]
    },
    {
     "name": "stdout",
     "output_type": "stream",
     "text": [
      "[1, 2, 2, 2, 2, 1, 2, 2, 2, 3]\n",
      "Calculating Degrees for amanatidis_g\n"
     ]
    },
    {
     "name": "stderr",
     "output_type": "stream",
     "text": [
      "Rate limit reached. Sleeping for: 845\n"
     ]
    },
    {
     "name": "stdout",
     "output_type": "stream",
     "text": [
      "[1, 3, 2, 2, 2, 1, 3, 3, 2, 3]\n",
      "Calculating Degrees for Ral_Christidou\n"
     ]
    },
    {
     "name": "stderr",
     "output_type": "stream",
     "text": [
      "Rate limit reached. Sleeping for: 853\n"
     ]
    },
    {
     "name": "stdout",
     "output_type": "stream",
     "text": [
      "[2, 2, 2, 2, 2, 2, 1, 2, 2, 2]\n",
      "Calculating Degrees for Xanthopoulosth\n",
      "[1, 1, 2, 2, 2, 1, 1, 1, 2, 2]\n",
      "Calculating Degrees for tsiaras_kostas\n"
     ]
    },
    {
     "name": "stderr",
     "output_type": "stream",
     "text": [
      "Rate limit reached. Sleeping for: 857\n"
     ]
    },
    {
     "name": "stdout",
     "output_type": "stream",
     "text": [
      "[1, 2, 2, 2, 2, 1, 2, 2, 2, 3]\n",
      "Calculating Degrees for blouchosdrama\n"
     ]
    },
    {
     "name": "stderr",
     "output_type": "stream",
     "text": [
      "Rate limit reached. Sleeping for: 855\n"
     ]
    },
    {
     "name": "stdout",
     "output_type": "stream",
     "text": [
      "[3, 3, 2, 2, 2, 3, 3, 2, 2, 3]\n",
      "Calculating Degrees for STEFANOS_GIKAS\n"
     ]
    },
    {
     "name": "stderr",
     "output_type": "stream",
     "text": [
      "Rate limit reached. Sleeping for: 856\n"
     ]
    },
    {
     "name": "stdout",
     "output_type": "stream",
     "text": [
      "[1, 2, 2, 2, 2, 1, 1, 1, 2, 1]\n",
      "Calculating Degrees for marios_katsis\n",
      "[1, 1, 2, 2, 2, 2, 1, 2, 2, 1]\n",
      "Calculating Degrees for teligioridou\n"
     ]
    },
    {
     "name": "stderr",
     "output_type": "stream",
     "text": [
      "Rate limit reached. Sleeping for: 855\n"
     ]
    },
    {
     "name": "stdout",
     "output_type": "stream",
     "text": [
      "[2, 1, 2, 2, 2, 3, 1, 2, 2, 2]\n",
      "Calculating Degrees for npanagioto\n"
     ]
    },
    {
     "name": "stderr",
     "output_type": "stream",
     "text": [
      "Rate limit reached. Sleeping for: 853\n"
     ]
    },
    {
     "name": "stdout",
     "output_type": "stream",
     "text": [
      "[1, 2, 2, 2, 2, 1, 2, 2, 2, 2]\n",
      "Calculating Degrees for vdigalakis\n",
      "[1, 2, 2, 2, 2, 1, 1, 1, 2, 1]\n",
      "Calculating Degrees for ngiannakopoulou\n"
     ]
    },
    {
     "name": "stderr",
     "output_type": "stream",
     "text": [
      "Rate limit reached. Sleeping for: 856\n"
     ]
    },
    {
     "name": "stdout",
     "output_type": "stream",
     "text": [
      "Something went wrong!\n",
      "Failed to send request: HTTPSConnectionPool(host='api.twitter.com', port=443): Read timed out. (read timeout=180)\n",
      "[2, 2, 1, 2, 2, 3, 4, 1, 2, None]\n",
      "Calculating Degrees for ninakasimati\n"
     ]
    },
    {
     "name": "stderr",
     "output_type": "stream",
     "text": [
      "Rate limit reached. Sleeping for: 596\n"
     ]
    },
    {
     "name": "stdout",
     "output_type": "stream",
     "text": [
      "[2, 2, 2, 2, 1, 1, 2, 1, 2, 2]\n",
      "Calculating Degrees for nikospappas16\n"
     ]
    },
    {
     "name": "stderr",
     "output_type": "stream",
     "text": [
      "Rate limit reached. Sleeping for: 854\n"
     ]
    },
    {
     "name": "stdout",
     "output_type": "stream",
     "text": [
      "[1, 1, 2, 2, 2, 1, 1, 1, 1, 1]\n",
      "Calculating Degrees for KSkandalidis\n"
     ]
    },
    {
     "name": "stderr",
     "output_type": "stream",
     "text": [
      "Rate limit reached. Sleeping for: 642\n"
     ]
    },
    {
     "name": "stdout",
     "output_type": "stream",
     "text": [
      "Something went wrong!\n",
      "Failed to send request: HTTPSConnectionPool(host='api.twitter.com', port=443): Read timed out. (read timeout=180)\n",
      "[1, 1, 1, 2, 2, 3, 5, 1, 2, None]\n",
      "Calculating Degrees for GIANNISFLORINA\n",
      "[1, 2, 2, 2, 2, 1, 3, 1, 2, 3]\n",
      "Calculating Degrees for vag_apos\n"
     ]
    },
    {
     "name": "stderr",
     "output_type": "stream",
     "text": [
      "Rate limit reached. Sleeping for: 700\n"
     ]
    },
    {
     "name": "stdout",
     "output_type": "stream",
     "text": [
      "[3, 1, 2, 2, 2, 3, 1, 2, 2, 2]\n",
      "Calculating Degrees for c_spirtzis\n"
     ]
    },
    {
     "name": "stderr",
     "output_type": "stream",
     "text": [
      "Rate limit reached. Sleeping for: 121\n",
      "Rate limit reached. Sleeping for: 718\n"
     ]
    },
    {
     "name": "stdout",
     "output_type": "stream",
     "text": [
      "[3, 2, 2, 2, 2, 3, 1, 2, 2, 2]\n",
      "Calculating Degrees for Mamoulakis\n"
     ]
    },
    {
     "name": "stderr",
     "output_type": "stream",
     "text": [
      "Rate limit reached. Sleeping for: 843\n"
     ]
    },
    {
     "name": "stdout",
     "output_type": "stream",
     "text": [
      "[2, 1, 2, 2, 2, 2, 1, 2, 2, 2]\n",
      "Calculating Degrees for ILHANAHMET\n",
      "[1, 3, 1, 2, 2, 1, 1, 1, 2, 2]\n",
      "Calculating Degrees for AngelosSyrigos\n"
     ]
    },
    {
     "name": "stderr",
     "output_type": "stream",
     "text": [
      "Rate limit reached. Sleeping for: 847\n"
     ]
    },
    {
     "name": "stdout",
     "output_type": "stream",
     "text": [
      "[1, 2, 2, 2, 2, 1, 1, 2, 2, 3]\n",
      "Calculating Degrees for than_zebilis\n"
     ]
    },
    {
     "name": "stderr",
     "output_type": "stream",
     "text": [
      "Rate limit reached. Sleeping for: 847\n"
     ]
    },
    {
     "name": "stdout",
     "output_type": "stream",
     "text": [
      "[1, 2, 2, 2, 2, 1, 3, 2, 2, 3]\n",
      "Calculating Degrees for SofAsimak\n"
     ]
    },
    {
     "name": "stderr",
     "output_type": "stream",
     "text": [
      "Rate limit reached. Sleeping for: 852\n"
     ]
    },
    {
     "name": "stdout",
     "output_type": "stream",
     "text": [
      "[1, 2, 2, 1, 2, 1, 2, 1, 1, 4]\n",
      "Calculating Degrees for dionstamenitis\n"
     ]
    },
    {
     "name": "stderr",
     "output_type": "stream",
     "text": [
      "Rate limit reached. Sleeping for: 471\n"
     ]
    },
    {
     "name": "stdout",
     "output_type": "stream",
     "text": [
      "[1, 2, 2, 2, 2, 1, 3, 2, 1, 2]\n",
      "Calculating Degrees for GeorgeLogiadis\n"
     ]
    },
    {
     "name": "stderr",
     "output_type": "stream",
     "text": [
      "Rate limit reached. Sleeping for: 786\n"
     ]
    },
    {
     "name": "stdout",
     "output_type": "stream",
     "text": [
      "[3, 2, 2, 3, 1, 3, 4, 3, 2, 1]\n",
      "Calculating Degrees for BiziouStella\n",
      "[1, 2, 2, 2, 2, 1, 1, 1, 2, 1]\n",
      "Calculating Degrees for alterglobal\n"
     ]
    },
    {
     "name": "stderr",
     "output_type": "stream",
     "text": [
      "Rate limit reached. Sleeping for: 856\n"
     ]
    },
    {
     "name": "stdout",
     "output_type": "stream",
     "text": [
      "[2, 1, 2, 2, 2, 2, 1, 2, 2, 1]\n",
      "Calculating Degrees for ArampatziFotini\n",
      "[1, 2, 2, 2, 2, 1, 1, 1, 2, 3]\n",
      "Calculating Degrees for yanisvaroufakis\n"
     ]
    },
    {
     "name": "stderr",
     "output_type": "stream",
     "text": [
      "Rate limit reached. Sleeping for: 813\n"
     ]
    },
    {
     "name": "stdout",
     "output_type": "stream",
     "text": [
      "[3, 2, 2, 2, 1, 3, 3, 2, 2, 0]\n",
      "Calculating Degrees for alexischaritsis\n",
      "[2, 1, 2, 2, 2, 2, 1, 2, 2, 2]\n",
      "Calculating Degrees for AdonisGeorgiadi\n"
     ]
    },
    {
     "name": "stderr",
     "output_type": "stream",
     "text": [
      "Rate limit reached. Sleeping for: 839\n"
     ]
    },
    {
     "name": "stdout",
     "output_type": "stream",
     "text": [
      "[1, 1, 2, 2, 2, 1, 1, 1, 1, 2]\n",
      "Calculating Degrees for xtarantilis\n",
      "Something went wrong!\n",
      "[{'code': 50, 'message': 'User not found.'}]\n",
      "Something went wrong!\n",
      "[{'code': 50, 'message': 'User not found.'}]\n",
      "Something went wrong!\n",
      "[{'code': 50, 'message': 'User not found.'}]\n",
      "Something went wrong!\n",
      "[{'code': 50, 'message': 'User not found.'}]\n",
      "Something went wrong!\n",
      "[{'code': 50, 'message': 'User not found.'}]\n",
      "Something went wrong!\n",
      "[{'code': 50, 'message': 'User not found.'}]\n",
      "Something went wrong!\n",
      "[{'code': 50, 'message': 'User not found.'}]\n",
      "Something went wrong!\n",
      "[{'code': 50, 'message': 'User not found.'}]\n",
      "Something went wrong!\n",
      "[{'code': 50, 'message': 'User not found.'}]\n",
      "Something went wrong!\n",
      "[{'code': 50, 'message': 'User not found.'}]\n",
      "[None, None, None, None, None, None, None, None, None, None]\n",
      "Calculating Degrees for gkatr\n"
     ]
    },
    {
     "name": "stderr",
     "output_type": "stream",
     "text": [
      "Rate limit reached. Sleeping for: 631\n"
     ]
    },
    {
     "name": "stdout",
     "output_type": "stream",
     "text": [
      "[1, 1, 1, 2, 2, 1, 1, 1, 1, 1]\n",
      "Calculating Degrees for Vrizidou_Vicky\n"
     ]
    },
    {
     "name": "stderr",
     "output_type": "stream",
     "text": [
      "Rate limit reached. Sleeping for: 861\n"
     ]
    },
    {
     "name": "stdout",
     "output_type": "stream",
     "text": [
      "[3, 3, 3, 3, 3, 5, 3, 3, 3, 3]\n",
      "Calculating Degrees for GPapandreou\n"
     ]
    },
    {
     "name": "stderr",
     "output_type": "stream",
     "text": [
      "Rate limit reached. Sleeping for: 548\n"
     ]
    },
    {
     "name": "stdout",
     "output_type": "stream",
     "text": [
      "Something went wrong!\n",
      "Failed to send request: HTTPSConnectionPool(host='api.twitter.com', port=443): Read timed out. (read timeout=180)\n",
      "[3, 3, 1, 2, 2, 2, 4, 1, 2, None]\n",
      "Calculating Degrees for GeorgiaMartinou\n"
     ]
    },
    {
     "name": "stderr",
     "output_type": "stream",
     "text": [
      "Rate limit reached. Sleeping for: 510\n",
      "Rate limit reached. Sleeping for: 47\n",
      "Rate limit reached. Sleeping for: 805\n"
     ]
    },
    {
     "name": "stdout",
     "output_type": "stream",
     "text": [
      "[1, 3, 3, 3, 3, 3, 3, 3, 3, 3]\n",
      "Calculating Degrees for iriniagath\n",
      "[1, 1, 2, 2, 2, 1, 1, 1, 2, 1]\n",
      "Calculating Degrees for giogiakasv\n"
     ]
    },
    {
     "name": "stderr",
     "output_type": "stream",
     "text": [
      "Rate limit reached. Sleeping for: 846\n"
     ]
    },
    {
     "name": "stdout",
     "output_type": "stream",
     "text": [
      "[1, 2, 2, 2, 3, 1, 3, 3, 2, 3]\n",
      "Calculating Degrees for p1l1sulLrVED8tt\n",
      "[3, 3, 2, 2, 2, 1, 3, 1, 3, 3]\n",
      "Calculating Degrees for imouzalas\n"
     ]
    },
    {
     "name": "stderr",
     "output_type": "stream",
     "text": [
      "Rate limit reached. Sleeping for: 826\n"
     ]
    },
    {
     "name": "stdout",
     "output_type": "stream",
     "text": [
      "[3, 1, 2, 2, 2, 3, 1, 2, 2, 3]\n",
      "Calculating Degrees for kmitsotakis\n"
     ]
    },
    {
     "name": "stderr",
     "output_type": "stream",
     "text": [
      "Rate limit reached. Sleeping for: 852\n"
     ]
    },
    {
     "name": "stdout",
     "output_type": "stream",
     "text": [
      "[1, 2, 2, 2, 2, 0, 1, 1, 2, 1]\n",
      "Calculating Degrees for xarakefalidou\n"
     ]
    },
    {
     "name": "stderr",
     "output_type": "stream",
     "text": [
      "Rate limit reached. Sleeping for: 854\n"
     ]
    },
    {
     "name": "stdout",
     "output_type": "stream",
     "text": [
      "[2, 2, 1, 2, 2, 1, 2, 1, 2, 2]\n",
      "Calculating Degrees for giorgoskotsiras\n",
      "[1, 2, 2, 2, 2, 1, 2, 1, 2, 5]\n",
      "Calculating Degrees for FragidisGeorge\n"
     ]
    },
    {
     "name": "stderr",
     "output_type": "stream",
     "text": [
      "Rate limit reached. Sleeping for: 559\n"
     ]
    },
    {
     "name": "stdout",
     "output_type": "stream",
     "text": [
      "[1, 3, 1, 2, 2, 1, 1, 1, 2, 2]\n",
      "Calculating Degrees for pantamaximos\n"
     ]
    },
    {
     "name": "stderr",
     "output_type": "stream",
     "text": [
      "Rate limit reached. Sleeping for: 855\n"
     ]
    },
    {
     "name": "stdout",
     "output_type": "stream",
     "text": [
      "[1, 2, 2, 2, 2, 1, 1, 1, 1, 1]\n",
      "Calculating Degrees for Amanatidis_Gian\n"
     ]
    },
    {
     "name": "stderr",
     "output_type": "stream",
     "text": [
      "Rate limit reached. Sleeping for: 681\n"
     ]
    },
    {
     "name": "stdout",
     "output_type": "stream",
     "text": [
      "[3, 1, 2, 2, 2, 3, 1, 2, 1, 3]\n",
      "Calculating Degrees for AntMylonakis\n"
     ]
    },
    {
     "name": "stderr",
     "output_type": "stream",
     "text": [
      "Rate limit reached. Sleeping for: 529\n"
     ]
    },
    {
     "name": "stdout",
     "output_type": "stream",
     "text": [
      "[3, 2, 2, 1, 2, 3, 3, 1, 1, 1]\n",
      "Calculating Degrees for spyroslappas1\n"
     ]
    },
    {
     "name": "stderr",
     "output_type": "stream",
     "text": [
      "Rate limit reached. Sleeping for: 66\n"
     ]
    },
    {
     "name": "stdout",
     "output_type": "stream",
     "text": [
      "[3, 1, 2, 2, 2, 3, 1, 2, 2, 2]\n",
      "Calculating Degrees for g_psychogios\n"
     ]
    },
    {
     "name": "stderr",
     "output_type": "stream",
     "text": [
      "Rate limit reached. Sleeping for: 785\n"
     ]
    },
    {
     "name": "stdout",
     "output_type": "stream",
     "text": [
      "[3, 1, 2, 2, 2, 3, 1, 2, 2, 1]\n",
      "Calculating Degrees for AnnaKaramanli\n"
     ]
    },
    {
     "name": "stderr",
     "output_type": "stream",
     "text": [
      "Rate limit reached. Sleeping for: 850\n"
     ]
    },
    {
     "name": "stdout",
     "output_type": "stream",
     "text": [
      "[1, 2, 2, 2, 2, 1, 2, 2, 2, 3]\n",
      "Calculating Degrees for dkonstantop\n"
     ]
    },
    {
     "name": "stderr",
     "output_type": "stream",
     "text": [
      "Rate limit reached. Sleeping for: 766\n"
     ]
    },
    {
     "name": "stdout",
     "output_type": "stream",
     "text": [
      "[1, 2, 1, 2, 2, 1, 1, 1, 2, 3]\n",
      "Calculating Degrees for kyranakis\n"
     ]
    },
    {
     "name": "stderr",
     "output_type": "stream",
     "text": [
      "Rate limit reached. Sleeping for: 720\n"
     ]
    },
    {
     "name": "stdout",
     "output_type": "stream",
     "text": [
      "[1, 1, 2, 2, 2, 1, 1, 2, 2, 1]\n",
      "Calculating Degrees for gioulekaskostas\n",
      "[2, 2, 2, 2, 2, 2, 2, 2, 2, 2]\n",
      "Calculating Degrees for maxsenetakis\n"
     ]
    },
    {
     "name": "stderr",
     "output_type": "stream",
     "text": [
      "Rate limit reached. Sleeping for: 851\n"
     ]
    },
    {
     "name": "stdout",
     "output_type": "stream",
     "text": [
      "[1, 1, 2, 2, 2, 1, 1, 1, 2, 1]\n",
      "Calculating Degrees for anaik2020\n"
     ]
    },
    {
     "name": "stderr",
     "output_type": "stream",
     "text": [
      "Rate limit reached. Sleeping for: 851\n"
     ]
    },
    {
     "name": "stdout",
     "output_type": "stream",
     "text": [
      "[2, 2, 2, 1, 2, 2, 3, 1, 1, 3]\n",
      "Calculating Degrees for cstaikouras\n",
      "[2, 1, 2, 2, 2, 2, 2, 2, 2, 1]\n",
      "Calculating Degrees for ChVernardakis\n"
     ]
    },
    {
     "name": "stderr",
     "output_type": "stream",
     "text": [
      "Rate limit reached. Sleeping for: 846\n"
     ]
    },
    {
     "name": "stdout",
     "output_type": "stream",
     "text": [
      "[2, 1, 2, 2, 2, 2, 2, 2, 2, 2]\n",
      "Calculating Degrees for manoskonsolas\n"
     ]
    },
    {
     "name": "stderr",
     "output_type": "stream",
     "text": [
      "Rate limit reached. Sleeping for: 851\n"
     ]
    },
    {
     "name": "stdout",
     "output_type": "stream",
     "text": [
      "[1, 2, 2, 2, 2, 1, 2, 2, 1, 3]\n",
      "Calculating Degrees for vnaypsilantis\n"
     ]
    },
    {
     "name": "stderr",
     "output_type": "stream",
     "text": [
      "Rate limit reached. Sleeping for: 695\n"
     ]
    },
    {
     "name": "stdout",
     "output_type": "stream",
     "text": [
      "[1, 1, 2, 2, 2, 1, 1, 2, 2, 3]\n",
      "Calculating Degrees for FofiGennimata\n",
      "[1, 2, 1, 2, 2, 1, 1, 0, 2, 5]\n",
      "Calculating Degrees for ChitasKostas\n"
     ]
    },
    {
     "name": "stderr",
     "output_type": "stream",
     "text": [
      "Rate limit reached. Sleeping for: 559\n"
     ]
    },
    {
     "name": "stdout",
     "output_type": "stream",
     "text": [
      "[2, 2, 2, 1, 2, 2, 1, 2, 1, 3]\n",
      "Calculating Degrees for KastanidisHaris\n"
     ]
    },
    {
     "name": "stderr",
     "output_type": "stream",
     "text": [
      "Rate limit reached. Sleeping for: 38\n",
      "Rate limit reached. Sleeping for: 796\n"
     ]
    },
    {
     "name": "stdout",
     "output_type": "stream",
     "text": [
      "[2, 2, 1, 2, 2, 4, 4, 1, 2, 3]\n"
     ]
    }
   ],
   "source": [
    "destination = ['neademokratia', 'syriza_gr', 'kinimallagis', 'ellinikilisi', 'mera25_gr', \n",
    "               'kmitsotakis','atsipras', 'FofiGennimata', 'velopky', 'yanisvaroufakis']\n",
    "\n",
    "degrees = []\n",
    "for user in tqdm(data.screen_name):\n",
    "    dist_vect = []\n",
    "    print(f'Calculating Degrees for {user}')\n",
    "    for dest in destination:\n",
    "        try:\n",
    "            dist = degree_of_separation_probabilistic(twitter_credentials=twitter_credentials, source=user, destination=dest, verbose=0)\n",
    "            dist_vect.append(dist)\n",
    "        except Exception as err:\n",
    "            print(err)\n",
    "            dist = None\n",
    "            dist_vect.append(dist)\n",
    "            print('===============')\n",
    "    print(dist_vect)\n",
    "    degrees.append(dist_vect)"
   ]
  },
  {
   "cell_type": "code",
   "execution_count": 389,
   "id": "tender-blank",
   "metadata": {},
   "outputs": [],
   "source": [
    "dg = pd.DataFrame(degrees, columns=destination)\n",
    "dg = dg.replace(np.nan, -1)"
   ]
  },
  {
   "cell_type": "code",
   "execution_count": 390,
   "id": "veterinary-emergency",
   "metadata": {},
   "outputs": [
    {
     "data": {
      "text/html": [
       "<div>\n",
       "<style scoped>\n",
       "    .dataframe tbody tr th:only-of-type {\n",
       "        vertical-align: middle;\n",
       "    }\n",
       "\n",
       "    .dataframe tbody tr th {\n",
       "        vertical-align: top;\n",
       "    }\n",
       "\n",
       "    .dataframe thead th {\n",
       "        text-align: right;\n",
       "    }\n",
       "</style>\n",
       "<table border=\"1\" class=\"dataframe\">\n",
       "  <thead>\n",
       "    <tr style=\"text-align: right;\">\n",
       "      <th></th>\n",
       "      <th>neademokratia</th>\n",
       "      <th>syriza_gr</th>\n",
       "      <th>kinimallagis</th>\n",
       "      <th>ellinikilisi</th>\n",
       "      <th>mera25_gr</th>\n",
       "      <th>kmitsotakis</th>\n",
       "      <th>atsipras</th>\n",
       "      <th>FofiGennimata</th>\n",
       "      <th>velopky</th>\n",
       "      <th>yanisvaroufakis</th>\n",
       "    </tr>\n",
       "  </thead>\n",
       "  <tbody>\n",
       "    <tr>\n",
       "      <th>0</th>\n",
       "      <td>3.0</td>\n",
       "      <td>3.0</td>\n",
       "      <td>2.0</td>\n",
       "      <td>4.0</td>\n",
       "      <td>-1.0</td>\n",
       "      <td>4.0</td>\n",
       "      <td>4.0</td>\n",
       "      <td>4.0</td>\n",
       "      <td>4.0</td>\n",
       "      <td>4.0</td>\n",
       "    </tr>\n",
       "    <tr>\n",
       "      <th>1</th>\n",
       "      <td>3.0</td>\n",
       "      <td>3.0</td>\n",
       "      <td>2.0</td>\n",
       "      <td>3.0</td>\n",
       "      <td>2.0</td>\n",
       "      <td>1.0</td>\n",
       "      <td>1.0</td>\n",
       "      <td>3.0</td>\n",
       "      <td>2.0</td>\n",
       "      <td>3.0</td>\n",
       "    </tr>\n",
       "    <tr>\n",
       "      <th>2</th>\n",
       "      <td>3.0</td>\n",
       "      <td>3.0</td>\n",
       "      <td>2.0</td>\n",
       "      <td>2.0</td>\n",
       "      <td>2.0</td>\n",
       "      <td>3.0</td>\n",
       "      <td>3.0</td>\n",
       "      <td>2.0</td>\n",
       "      <td>2.0</td>\n",
       "      <td>3.0</td>\n",
       "    </tr>\n",
       "    <tr>\n",
       "      <th>3</th>\n",
       "      <td>-1.0</td>\n",
       "      <td>-1.0</td>\n",
       "      <td>-1.0</td>\n",
       "      <td>-1.0</td>\n",
       "      <td>-1.0</td>\n",
       "      <td>-1.0</td>\n",
       "      <td>-1.0</td>\n",
       "      <td>-1.0</td>\n",
       "      <td>-1.0</td>\n",
       "      <td>-1.0</td>\n",
       "    </tr>\n",
       "    <tr>\n",
       "      <th>4</th>\n",
       "      <td>3.0</td>\n",
       "      <td>3.0</td>\n",
       "      <td>3.0</td>\n",
       "      <td>3.0</td>\n",
       "      <td>3.0</td>\n",
       "      <td>3.0</td>\n",
       "      <td>5.0</td>\n",
       "      <td>3.0</td>\n",
       "      <td>3.0</td>\n",
       "      <td>5.0</td>\n",
       "    </tr>\n",
       "    <tr>\n",
       "      <th>...</th>\n",
       "      <td>...</td>\n",
       "      <td>...</td>\n",
       "      <td>...</td>\n",
       "      <td>...</td>\n",
       "      <td>...</td>\n",
       "      <td>...</td>\n",
       "      <td>...</td>\n",
       "      <td>...</td>\n",
       "      <td>...</td>\n",
       "      <td>...</td>\n",
       "    </tr>\n",
       "    <tr>\n",
       "      <th>295</th>\n",
       "      <td>1.0</td>\n",
       "      <td>2.0</td>\n",
       "      <td>2.0</td>\n",
       "      <td>2.0</td>\n",
       "      <td>2.0</td>\n",
       "      <td>1.0</td>\n",
       "      <td>2.0</td>\n",
       "      <td>2.0</td>\n",
       "      <td>1.0</td>\n",
       "      <td>3.0</td>\n",
       "    </tr>\n",
       "    <tr>\n",
       "      <th>296</th>\n",
       "      <td>1.0</td>\n",
       "      <td>1.0</td>\n",
       "      <td>2.0</td>\n",
       "      <td>2.0</td>\n",
       "      <td>2.0</td>\n",
       "      <td>1.0</td>\n",
       "      <td>1.0</td>\n",
       "      <td>2.0</td>\n",
       "      <td>2.0</td>\n",
       "      <td>3.0</td>\n",
       "    </tr>\n",
       "    <tr>\n",
       "      <th>297</th>\n",
       "      <td>1.0</td>\n",
       "      <td>2.0</td>\n",
       "      <td>1.0</td>\n",
       "      <td>2.0</td>\n",
       "      <td>2.0</td>\n",
       "      <td>1.0</td>\n",
       "      <td>1.0</td>\n",
       "      <td>0.0</td>\n",
       "      <td>2.0</td>\n",
       "      <td>5.0</td>\n",
       "    </tr>\n",
       "    <tr>\n",
       "      <th>298</th>\n",
       "      <td>2.0</td>\n",
       "      <td>2.0</td>\n",
       "      <td>2.0</td>\n",
       "      <td>1.0</td>\n",
       "      <td>2.0</td>\n",
       "      <td>2.0</td>\n",
       "      <td>1.0</td>\n",
       "      <td>2.0</td>\n",
       "      <td>1.0</td>\n",
       "      <td>3.0</td>\n",
       "    </tr>\n",
       "    <tr>\n",
       "      <th>299</th>\n",
       "      <td>2.0</td>\n",
       "      <td>2.0</td>\n",
       "      <td>1.0</td>\n",
       "      <td>2.0</td>\n",
       "      <td>2.0</td>\n",
       "      <td>4.0</td>\n",
       "      <td>4.0</td>\n",
       "      <td>1.0</td>\n",
       "      <td>2.0</td>\n",
       "      <td>3.0</td>\n",
       "    </tr>\n",
       "  </tbody>\n",
       "</table>\n",
       "<p>300 rows × 10 columns</p>\n",
       "</div>"
      ],
      "text/plain": [
       "     neademokratia  syriza_gr  kinimallagis  ellinikilisi  mera25_gr  \\\n",
       "0              3.0        3.0           2.0           4.0       -1.0   \n",
       "1              3.0        3.0           2.0           3.0        2.0   \n",
       "2              3.0        3.0           2.0           2.0        2.0   \n",
       "3             -1.0       -1.0          -1.0          -1.0       -1.0   \n",
       "4              3.0        3.0           3.0           3.0        3.0   \n",
       "..             ...        ...           ...           ...        ...   \n",
       "295            1.0        2.0           2.0           2.0        2.0   \n",
       "296            1.0        1.0           2.0           2.0        2.0   \n",
       "297            1.0        2.0           1.0           2.0        2.0   \n",
       "298            2.0        2.0           2.0           1.0        2.0   \n",
       "299            2.0        2.0           1.0           2.0        2.0   \n",
       "\n",
       "     kmitsotakis  atsipras  FofiGennimata  velopky  yanisvaroufakis  \n",
       "0            4.0       4.0            4.0      4.0              4.0  \n",
       "1            1.0       1.0            3.0      2.0              3.0  \n",
       "2            3.0       3.0            2.0      2.0              3.0  \n",
       "3           -1.0      -1.0           -1.0     -1.0             -1.0  \n",
       "4            3.0       5.0            3.0      3.0              5.0  \n",
       "..           ...       ...            ...      ...              ...  \n",
       "295          1.0       2.0            2.0      1.0              3.0  \n",
       "296          1.0       1.0            2.0      2.0              3.0  \n",
       "297          1.0       1.0            0.0      2.0              5.0  \n",
       "298          2.0       1.0            2.0      1.0              3.0  \n",
       "299          4.0       4.0            1.0      2.0              3.0  \n",
       "\n",
       "[300 rows x 10 columns]"
      ]
     },
     "execution_count": 390,
     "metadata": {},
     "output_type": "execute_result"
    }
   ],
   "source": [
    "dg"
   ]
  },
  {
   "cell_type": "code",
   "execution_count": 392,
   "id": "serial-bolivia",
   "metadata": {},
   "outputs": [],
   "source": [
    "dg['screen_name'] = data['screen_name']\n",
    "dg = dg[['screen_name', 'neademokratia', 'syriza_gr', 'kinimallagis', 'ellinikilisi',\n",
    "       'mera25_gr', 'kmitsotakis', 'atsipras', 'FofiGennimata', 'velopky',\n",
    "       'yanisvaroufakis']]"
   ]
  },
  {
   "cell_type": "code",
   "execution_count": 393,
   "id": "civic-depression",
   "metadata": {},
   "outputs": [
    {
     "data": {
      "text/html": [
       "<div>\n",
       "<style scoped>\n",
       "    .dataframe tbody tr th:only-of-type {\n",
       "        vertical-align: middle;\n",
       "    }\n",
       "\n",
       "    .dataframe tbody tr th {\n",
       "        vertical-align: top;\n",
       "    }\n",
       "\n",
       "    .dataframe thead th {\n",
       "        text-align: right;\n",
       "    }\n",
       "</style>\n",
       "<table border=\"1\" class=\"dataframe\">\n",
       "  <thead>\n",
       "    <tr style=\"text-align: right;\">\n",
       "      <th></th>\n",
       "      <th>screen_name</th>\n",
       "      <th>neademokratia</th>\n",
       "      <th>syriza_gr</th>\n",
       "      <th>kinimallagis</th>\n",
       "      <th>ellinikilisi</th>\n",
       "      <th>mera25_gr</th>\n",
       "      <th>kmitsotakis</th>\n",
       "      <th>atsipras</th>\n",
       "      <th>FofiGennimata</th>\n",
       "      <th>velopky</th>\n",
       "      <th>yanisvaroufakis</th>\n",
       "    </tr>\n",
       "  </thead>\n",
       "  <tbody>\n",
       "    <tr>\n",
       "      <th>0</th>\n",
       "      <td>evefthym</td>\n",
       "      <td>3.0</td>\n",
       "      <td>3.0</td>\n",
       "      <td>2.0</td>\n",
       "      <td>4.0</td>\n",
       "      <td>-1.0</td>\n",
       "      <td>4.0</td>\n",
       "      <td>4.0</td>\n",
       "      <td>4.0</td>\n",
       "      <td>4.0</td>\n",
       "      <td>4.0</td>\n",
       "    </tr>\n",
       "    <tr>\n",
       "      <th>1</th>\n",
       "      <td>Qdv6zNFe0nkBH2m</td>\n",
       "      <td>3.0</td>\n",
       "      <td>3.0</td>\n",
       "      <td>2.0</td>\n",
       "      <td>3.0</td>\n",
       "      <td>2.0</td>\n",
       "      <td>1.0</td>\n",
       "      <td>1.0</td>\n",
       "      <td>3.0</td>\n",
       "      <td>2.0</td>\n",
       "      <td>3.0</td>\n",
       "    </tr>\n",
       "    <tr>\n",
       "      <th>2</th>\n",
       "      <td>michail_pana</td>\n",
       "      <td>3.0</td>\n",
       "      <td>3.0</td>\n",
       "      <td>2.0</td>\n",
       "      <td>2.0</td>\n",
       "      <td>2.0</td>\n",
       "      <td>3.0</td>\n",
       "      <td>3.0</td>\n",
       "      <td>2.0</td>\n",
       "      <td>2.0</td>\n",
       "      <td>3.0</td>\n",
       "    </tr>\n",
       "    <tr>\n",
       "      <th>3</th>\n",
       "      <td>spirtzisforever</td>\n",
       "      <td>-1.0</td>\n",
       "      <td>-1.0</td>\n",
       "      <td>-1.0</td>\n",
       "      <td>-1.0</td>\n",
       "      <td>-1.0</td>\n",
       "      <td>-1.0</td>\n",
       "      <td>-1.0</td>\n",
       "      <td>-1.0</td>\n",
       "      <td>-1.0</td>\n",
       "      <td>-1.0</td>\n",
       "    </tr>\n",
       "    <tr>\n",
       "      <th>4</th>\n",
       "      <td>FdZwMqKWXciTydT</td>\n",
       "      <td>3.0</td>\n",
       "      <td>3.0</td>\n",
       "      <td>3.0</td>\n",
       "      <td>3.0</td>\n",
       "      <td>3.0</td>\n",
       "      <td>3.0</td>\n",
       "      <td>5.0</td>\n",
       "      <td>3.0</td>\n",
       "      <td>3.0</td>\n",
       "      <td>5.0</td>\n",
       "    </tr>\n",
       "    <tr>\n",
       "      <th>...</th>\n",
       "      <td>...</td>\n",
       "      <td>...</td>\n",
       "      <td>...</td>\n",
       "      <td>...</td>\n",
       "      <td>...</td>\n",
       "      <td>...</td>\n",
       "      <td>...</td>\n",
       "      <td>...</td>\n",
       "      <td>...</td>\n",
       "      <td>...</td>\n",
       "      <td>...</td>\n",
       "    </tr>\n",
       "    <tr>\n",
       "      <th>295</th>\n",
       "      <td>manoskonsolas</td>\n",
       "      <td>1.0</td>\n",
       "      <td>2.0</td>\n",
       "      <td>2.0</td>\n",
       "      <td>2.0</td>\n",
       "      <td>2.0</td>\n",
       "      <td>1.0</td>\n",
       "      <td>2.0</td>\n",
       "      <td>2.0</td>\n",
       "      <td>1.0</td>\n",
       "      <td>3.0</td>\n",
       "    </tr>\n",
       "    <tr>\n",
       "      <th>296</th>\n",
       "      <td>vnaypsilantis</td>\n",
       "      <td>1.0</td>\n",
       "      <td>1.0</td>\n",
       "      <td>2.0</td>\n",
       "      <td>2.0</td>\n",
       "      <td>2.0</td>\n",
       "      <td>1.0</td>\n",
       "      <td>1.0</td>\n",
       "      <td>2.0</td>\n",
       "      <td>2.0</td>\n",
       "      <td>3.0</td>\n",
       "    </tr>\n",
       "    <tr>\n",
       "      <th>297</th>\n",
       "      <td>FofiGennimata</td>\n",
       "      <td>1.0</td>\n",
       "      <td>2.0</td>\n",
       "      <td>1.0</td>\n",
       "      <td>2.0</td>\n",
       "      <td>2.0</td>\n",
       "      <td>1.0</td>\n",
       "      <td>1.0</td>\n",
       "      <td>0.0</td>\n",
       "      <td>2.0</td>\n",
       "      <td>5.0</td>\n",
       "    </tr>\n",
       "    <tr>\n",
       "      <th>298</th>\n",
       "      <td>ChitasKostas</td>\n",
       "      <td>2.0</td>\n",
       "      <td>2.0</td>\n",
       "      <td>2.0</td>\n",
       "      <td>1.0</td>\n",
       "      <td>2.0</td>\n",
       "      <td>2.0</td>\n",
       "      <td>1.0</td>\n",
       "      <td>2.0</td>\n",
       "      <td>1.0</td>\n",
       "      <td>3.0</td>\n",
       "    </tr>\n",
       "    <tr>\n",
       "      <th>299</th>\n",
       "      <td>KastanidisHaris</td>\n",
       "      <td>2.0</td>\n",
       "      <td>2.0</td>\n",
       "      <td>1.0</td>\n",
       "      <td>2.0</td>\n",
       "      <td>2.0</td>\n",
       "      <td>4.0</td>\n",
       "      <td>4.0</td>\n",
       "      <td>1.0</td>\n",
       "      <td>2.0</td>\n",
       "      <td>3.0</td>\n",
       "    </tr>\n",
       "  </tbody>\n",
       "</table>\n",
       "<p>300 rows × 11 columns</p>\n",
       "</div>"
      ],
      "text/plain": [
       "         screen_name  neademokratia  syriza_gr  kinimallagis  ellinikilisi  \\\n",
       "0           evefthym            3.0        3.0           2.0           4.0   \n",
       "1    Qdv6zNFe0nkBH2m            3.0        3.0           2.0           3.0   \n",
       "2       michail_pana            3.0        3.0           2.0           2.0   \n",
       "3    spirtzisforever           -1.0       -1.0          -1.0          -1.0   \n",
       "4    FdZwMqKWXciTydT            3.0        3.0           3.0           3.0   \n",
       "..               ...            ...        ...           ...           ...   \n",
       "295    manoskonsolas            1.0        2.0           2.0           2.0   \n",
       "296    vnaypsilantis            1.0        1.0           2.0           2.0   \n",
       "297    FofiGennimata            1.0        2.0           1.0           2.0   \n",
       "298     ChitasKostas            2.0        2.0           2.0           1.0   \n",
       "299  KastanidisHaris            2.0        2.0           1.0           2.0   \n",
       "\n",
       "     mera25_gr  kmitsotakis  atsipras  FofiGennimata  velopky  yanisvaroufakis  \n",
       "0         -1.0          4.0       4.0            4.0      4.0              4.0  \n",
       "1          2.0          1.0       1.0            3.0      2.0              3.0  \n",
       "2          2.0          3.0       3.0            2.0      2.0              3.0  \n",
       "3         -1.0         -1.0      -1.0           -1.0     -1.0             -1.0  \n",
       "4          3.0          3.0       5.0            3.0      3.0              5.0  \n",
       "..         ...          ...       ...            ...      ...              ...  \n",
       "295        2.0          1.0       2.0            2.0      1.0              3.0  \n",
       "296        2.0          1.0       1.0            2.0      2.0              3.0  \n",
       "297        2.0          1.0       1.0            0.0      2.0              5.0  \n",
       "298        2.0          2.0       1.0            2.0      1.0              3.0  \n",
       "299        2.0          4.0       4.0            1.0      2.0              3.0  \n",
       "\n",
       "[300 rows x 11 columns]"
      ]
     },
     "execution_count": 393,
     "metadata": {},
     "output_type": "execute_result"
    }
   ],
   "source": [
    "dg"
   ]
  },
  {
   "cell_type": "code",
   "execution_count": 394,
   "id": "saved-gender",
   "metadata": {},
   "outputs": [],
   "source": [
    "dg.to_csv('parliament_members_degree_of_seperation_training_set.csv', index=False)"
   ]
  },
  {
   "cell_type": "markdown",
   "id": "broadband-wagon",
   "metadata": {},
   "source": [
    "# Machine Learning"
   ]
  },
  {
   "cell_type": "markdown",
   "id": "indoor-indie",
   "metadata": {},
   "source": [
    "## Clustering"
   ]
  },
  {
   "cell_type": "markdown",
   "id": "scheduled-education",
   "metadata": {},
   "source": [
    "### Negative Distanes for errors\n",
    "\n",
    "- -2.0 if node is protected or has 0 friends\n",
    "- -1.0 if error is caused by the algorithm"
   ]
  },
  {
   "cell_type": "code",
   "execution_count": 2,
   "id": "eastern-plaintiff",
   "metadata": {},
   "outputs": [],
   "source": [
    "import pandas as pd\n",
    "\n",
    "train = pd.read_csv('parliament_members_degree_of_seperation_training_set.csv', delimiter=';')\n",
    "test = pd.read_csv('parliament_members_degree_of_seperation_validation_set.csv', delimiter=';')\n",
    "\n",
    "\n",
    "labels_train = pd.read_csv('../../../../datasets/Greek Politicians/classification/parliament_members_training_set.csv', \n",
    "                          usecols=['parliament_member'])\n",
    "\n",
    "labels_test = pd.read_csv('../../../../datasets/Greek Politicians/classification/parliament_members_validation_set.csv', \n",
    "                          usecols=['parliament_member'])"
   ]
  },
  {
   "cell_type": "code",
   "execution_count": 3,
   "id": "chinese-librarian",
   "metadata": {},
   "outputs": [],
   "source": [
    "data = train.append(test)\n",
    "labels = labels_train.append(labels_test)"
   ]
  },
  {
   "cell_type": "code",
   "execution_count": 4,
   "id": "automated-nirvana",
   "metadata": {},
   "outputs": [],
   "source": [
    "from sklearn.manifold import TSNE\n",
    "degree_2d = TSNE(n_components=2, random_state=96).fit_transform(data[['neademokratia', 'syriza_gr', 'kinimallagis', 'ellinikilisi', 'mera25_gr', \n",
    "                                                   'kmitsotakis', 'atsipras', 'FofiGennimata', 'velopky','yanisvaroufakis']])\n",
    "\n",
    "from sklearn.cluster import KMeans\n",
    "kmeans = KMeans(n_clusters=2, random_state=0).fit_predict(data[['neademokratia', 'syriza_gr', 'kinimallagis', 'ellinikilisi', 'mera25_gr', \n",
    "                                                   'kmitsotakis', 'atsipras', 'FofiGennimata', 'velopky','yanisvaroufakis']])\n",
    "kmeans = 1 - kmeans\n",
    "\n",
    "from sklearn.cluster import DBSCAN\n",
    "dbscan = DBSCAN(eps=1.5).fit_predict(data[['neademokratia', 'syriza_gr', 'kinimallagis', 'ellinikilisi', 'mera25_gr', \n",
    "                                                   'kmitsotakis', 'atsipras', 'FofiGennimata', 'velopky','yanisvaroufakis']])"
   ]
  },
  {
   "cell_type": "code",
   "execution_count": 5,
   "id": "humanitarian-sierra",
   "metadata": {},
   "outputs": [
    {
     "data": {
      "text/plain": [
       "Text(0.5, 1.0, 'dbscan labels')"
      ]
     },
     "execution_count": 5,
     "metadata": {},
     "output_type": "execute_result"
    },
    {
     "data": {
      "image/png": "[encoded data removed]",
      "text/plain": [
       "<Figure size 1080x360 with 3 Axes>"
      ]
     },
     "metadata": {
      "needs_background": "light"
     },
     "output_type": "display_data"
    }
   ],
   "source": [
    "fig, ax = plt.subplots(1,3, figsize = [15,5])\n",
    "\n",
    "sns.scatterplot(x=degree_2d[:,0], y=degree_2d[:,1], hue = labels.parliament_member, ax = ax[0])\n",
    "ax[0].set_title('real labels')\n",
    "\n",
    "sns.scatterplot(x=degree_2d[:,0], y=degree_2d[:,1], hue = kmeans, ax = ax[1])\n",
    "ax[1].set_title('kmeans labels')\n",
    "\n",
    "sns.scatterplot(x=degree_2d[:,0], y=degree_2d[:,1], hue = dbscan, ax = ax[2])\n",
    "ax[2].set_title('dbscan labels')"
   ]
  },
  {
   "cell_type": "markdown",
   "id": "incorrect-norwegian",
   "metadata": {},
   "source": [
    "## Supervised Learning"
   ]
  },
  {
   "cell_type": "code",
   "execution_count": 2,
   "id": "spiritual-reservation",
   "metadata": {},
   "outputs": [],
   "source": [
    "from tqdm.notebook import tqdm\n",
    "from sklearn.feature_extraction.text import TfidfVectorizer\n",
    "from sklearn.feature_extraction.text import CountVectorizer\n",
    "from sklearn.model_selection import cross_validate\n",
    "from sklearn.preprocessing import FunctionTransformer\n",
    "from sklearn.pipeline import FeatureUnion\n",
    "\n",
    "from sklearn import svm\n",
    "from sklearn.neighbors import KNeighborsClassifier\n",
    "from sklearn.linear_model import LogisticRegression\n",
    "\n",
    "from sklearn.model_selection import GridSearchCV\n",
    "from sklearn.pipeline import Pipeline\n",
    "from sklearn.metrics import classification_report\n",
    "from sklearn.metrics import plot_confusion_matrix\n",
    "from sklearn.metrics import confusion_matrix"
   ]
  },
  {
   "cell_type": "code",
   "execution_count": 9,
   "id": "confused-cleanup",
   "metadata": {},
   "outputs": [],
   "source": [
    "X = train\n",
    "y = labels_train.to_numpy().ravel()"
   ]
  },
  {
   "cell_type": "code",
   "execution_count": 10,
   "id": "green-panel",
   "metadata": {},
   "outputs": [
    {
     "name": "stdout",
     "output_type": "stream",
     "text": [
      "------------------ Support Vector Machine -------------------\n",
      "\n",
      " Best Params: {'svm__C': 10, 'svm__kernel': 'rbf'}.\n",
      " Score: 0.8099999999999999\n",
      "\n",
      "\n",
      "------------------ kNN -------------------\n",
      "\n"
     ]
    },
    {
     "name": "stderr",
     "output_type": "stream",
     "text": [
      "/Library/Frameworks/Python.framework/Versions/3.8/lib/python3.8/site-packages/sklearn/model_selection/_search.py:918: UserWarning: One or more of the test scores are non-finite: [       nan        nan 0.70666667 0.70666667 0.68666667 0.68666667\n",
      " 0.77       0.76       0.77333333 0.75666667 0.78       0.76\n",
      " 0.79333333 0.78333333 0.79       0.77333333 0.79333333 0.79\n",
      " 0.8        0.78333333 0.79333333 0.78666667 0.79       0.77333333\n",
      " 0.78       0.77333333 0.79333333 0.77666667 0.79666667 0.78\n",
      " 0.79666667 0.78       0.79       0.78       0.79666667 0.77666667\n",
      " 0.79       0.77       0.79333333 0.77333333]\n",
      "  warnings.warn(\n"
     ]
    },
    {
     "name": "stdout",
     "output_type": "stream",
     "text": [
      " Best Params: {'knn__n_neighbors': 9, 'knn__weights': 'uniform'}.\n",
      " Score: 0.8\n",
      "\n",
      "\n",
      "------------------ Logistic Regression -------------------\n",
      "\n",
      " Best Params: {'lr__C': 5, 'lr__penalty': 'l2'}.\n",
      " Score: 0.72\n"
     ]
    },
    {
     "name": "stderr",
     "output_type": "stream",
     "text": [
      "/Library/Frameworks/Python.framework/Versions/3.8/lib/python3.8/site-packages/sklearn/model_selection/_search.py:918: UserWarning: One or more of the test scores are non-finite: [       nan 0.70666667        nan        nan 0.71333333        nan\n",
      "        nan 0.71666667        nan        nan 0.72              nan\n",
      "        nan 0.72              nan]\n",
      "  warnings.warn(\n"
     ]
    }
   ],
   "source": [
    "# Function to select the data\n",
    "def get_data_(data):\n",
    "    data = data[['neademokratia', 'syriza_gr', 'kinimallagis', 'ellinikilisi', 'mera25_gr', \n",
    "                 'kmitsotakis', 'atsipras', 'FofiGennimata', 'velopky','yanisvaroufakis']].to_numpy()\n",
    "    return data\n",
    "\n",
    "\n",
    "get_data = FunctionTransformer(get_data_)\n",
    "\n",
    "\n",
    "print('------------------ Support Vector Machine -------------------\\n')\n",
    "\n",
    "# The pipeline\n",
    "pipeline = Pipeline([\n",
    "    ('selector', get_data),\n",
    "    ('svm', svm.SVC())\n",
    "])\n",
    "\n",
    "# Paramters for optimization\n",
    "parameters = {'svm__C' : [0.1,0.5,1,5,10],\n",
    "              'svm__kernel':['linear', 'poly', 'rbf', 'sigmoid']}\n",
    "\n",
    "grid = GridSearchCV(pipeline, parameters, n_jobs = 4)\n",
    "grid.fit(X, y)\n",
    "    \n",
    "print(f' Best Params: {grid.best_params_}.\\n Score: {grid.best_score_}')\n",
    "\n",
    "\n",
    "print('\\n\\n------------------ kNN -------------------\\n')\n",
    "\n",
    "# The pipeline\n",
    "pipeline = Pipeline([\n",
    "    ('selector', get_data),\n",
    "    ('knn', KNeighborsClassifier())\n",
    "])\n",
    "\n",
    "# Paramters for optimization\n",
    "parameters = {'knn__n_neighbors': [i for i in range(20)],\n",
    "              'knn__weights': ['uniform', 'distance']}\n",
    "\n",
    "grid = GridSearchCV(pipeline, parameters, n_jobs = 4)\n",
    "grid.fit(X, y)\n",
    "    \n",
    "print(f' Best Params: {grid.best_params_}.\\n Score: {grid.best_score_}')\n",
    "\n",
    "print('\\n\\n------------------ Logistic Regression -------------------\\n')\n",
    "\n",
    "# The pipeline\n",
    "pipeline = Pipeline([\n",
    "    ('selector', get_data),\n",
    "    ('lr', LogisticRegression(max_iter=1000))\n",
    "])\n",
    "\n",
    "# Paramters for optimization\n",
    "parameters = {'lr__penalty': ['l1', 'l2', 'elasticnet'],\n",
    "              'lr__C': [0.1, 0.5, 1, 5, 10]}\n",
    "\n",
    "grid = GridSearchCV(pipeline, parameters, n_jobs = 4)\n",
    "grid.fit(X, y)\n",
    "    \n",
    "print(f' Best Params: {grid.best_params_}.\\n Score: {grid.best_score_}')"
   ]
  },
  {
   "cell_type": "code",
   "execution_count": 11,
   "id": "duplicate-magnet",
   "metadata": {},
   "outputs": [
    {
     "name": "stdout",
     "output_type": "stream",
     "text": [
      "                       precision    recall  f1-score   support\n",
      "\n",
      "Not-Parliament-Member       0.87      0.80      0.83        50\n",
      "    Parliament-Member       0.81      0.88      0.85        50\n",
      "\n",
      "             accuracy                           0.84       100\n",
      "            macro avg       0.84      0.84      0.84       100\n",
      "         weighted avg       0.84      0.84      0.84       100\n",
      "\n"
     ]
    },
    {
     "data": {
      "text/plain": [
       "<sklearn.metrics._plot.confusion_matrix.ConfusionMatrixDisplay at 0x7fd0154b5b80>"
      ]
     },
     "execution_count": 11,
     "metadata": {},
     "output_type": "execute_result"
    },
    {
     "data": {
      "image/png": "[encoded data removed]",
      "text/plain": [
       "<Figure size 432x288 with 2 Axes>"
      ]
     },
     "metadata": {
      "needs_background": "light"
     },
     "output_type": "display_data"
    }
   ],
   "source": [
    "model_nd = Pipeline([\n",
    "    ('selector', get_data),\n",
    "    ('svm', svm.SVC(C=10, kernel='rbf'))\n",
    "])\n",
    "model_nd.fit(X,y)\n",
    "\n",
    "target_names = ['Not-Parliament-Member', 'Parliament-Member']\n",
    "predicted_labels = model_nd.predict(test)\n",
    "print(classification_report(y_true = labels_test, y_pred=predicted_labels, target_names=target_names))\n",
    "plot_confusion_matrix(model_nd, test, labels_test, display_labels=target_names, xticks_rotation=45, cmap=plt.cm.Blues)"
   ]
  },
  {
   "cell_type": "markdown",
   "id": "acquired-tucson",
   "metadata": {},
   "source": [
    "## Replace negative numbers with average distance for others class\n",
    "\n",
    "- We replace each negative number with 3"
   ]
  },
  {
   "cell_type": "code",
   "execution_count": 19,
   "id": "spare-truth",
   "metadata": {},
   "outputs": [
    {
     "name": "stdout",
     "output_type": "stream",
     "text": [
      "2.5805369127516777\n"
     ]
    }
   ],
   "source": [
    "dist_list = []\n",
    "for col in train[:150]:\n",
    "    if col != 'screen_name':\n",
    "        dist_list += list(train[:150][col])\n",
    "dist_list = [item for item in dist_list if item >= 0]\n",
    "print(np.mean(dist_list))"
   ]
  },
  {
   "cell_type": "code",
   "execution_count": 12,
   "id": "moral-atmosphere",
   "metadata": {},
   "outputs": [],
   "source": [
    "data = data.replace(-2.0, 3)\n",
    "data = data.replace(-1.0, 3)"
   ]
  },
  {
   "cell_type": "code",
   "execution_count": 13,
   "id": "brazilian-seeking",
   "metadata": {},
   "outputs": [],
   "source": [
    "from sklearn.manifold import TSNE\n",
    "degree_2d = TSNE(n_components=2, random_state=96).fit_transform(data[['neademokratia', 'syriza_gr', 'kinimallagis', 'ellinikilisi', 'mera25_gr', \n",
    "                                                   'kmitsotakis', 'atsipras', 'FofiGennimata', 'velopky','yanisvaroufakis']])\n",
    "\n",
    "from sklearn.cluster import KMeans\n",
    "kmeans = KMeans(n_clusters=2, random_state=0).fit_predict(data[['neademokratia', 'syriza_gr', 'kinimallagis', 'ellinikilisi', 'mera25_gr', \n",
    "                                                   'kmitsotakis', 'atsipras', 'FofiGennimata', 'velopky','yanisvaroufakis']])\n",
    "kmeans = 1 - kmeans\n",
    "\n",
    "from sklearn.cluster import DBSCAN\n",
    "dbscan = DBSCAN(eps=1.5).fit_predict(data[['neademokratia', 'syriza_gr', 'kinimallagis', 'ellinikilisi', 'mera25_gr', \n",
    "                                                   'kmitsotakis', 'atsipras', 'FofiGennimata', 'velopky','yanisvaroufakis']])"
   ]
  },
  {
   "cell_type": "code",
   "execution_count": 14,
   "id": "collaborative-activity",
   "metadata": {},
   "outputs": [
    {
     "data": {
      "text/plain": [
       "Text(0.5, 1.0, 'dbscan labels')"
      ]
     },
     "execution_count": 14,
     "metadata": {},
     "output_type": "execute_result"
    },
    {
     "data": {
      "image/png": "[encoded data removed]",
      "text/plain": [
       "<Figure size 1080x360 with 3 Axes>"
      ]
     },
     "metadata": {
      "needs_background": "light"
     },
     "output_type": "display_data"
    }
   ],
   "source": [
    "fig, ax = plt.subplots(1,3, figsize = [15,5])\n",
    "\n",
    "sns.scatterplot(x=degree_2d[:,0], y=degree_2d[:,1], hue = labels.parliament_member, ax = ax[0])\n",
    "ax[0].set_title('real labels')\n",
    "\n",
    "sns.scatterplot(x=degree_2d[:,0], y=degree_2d[:,1], hue = kmeans, ax = ax[1])\n",
    "ax[1].set_title('kmeans labels')\n",
    "\n",
    "sns.scatterplot(x=degree_2d[:,0], y=degree_2d[:,1], hue = dbscan, ax = ax[2])\n",
    "ax[2].set_title('dbscan labels')"
   ]
  },
  {
   "cell_type": "markdown",
   "id": "fitted-provision",
   "metadata": {},
   "source": [
    "## Supervised Learning"
   ]
  },
  {
   "cell_type": "code",
   "execution_count": 181,
   "id": "middle-honor",
   "metadata": {},
   "outputs": [],
   "source": [
    "from tqdm.notebook import tqdm\n",
    "from sklearn.feature_extraction.text import TfidfVectorizer\n",
    "from sklearn.feature_extraction.text import CountVectorizer\n",
    "from sklearn.model_selection import cross_validate\n",
    "from sklearn.preprocessing import FunctionTransformer\n",
    "from sklearn.pipeline import FeatureUnion\n",
    "\n",
    "from sklearn import svm\n",
    "from sklearn.neighbors import KNeighborsClassifier\n",
    "from sklearn.linear_model import LogisticRegression\n",
    "\n",
    "from sklearn.model_selection import GridSearchCV\n",
    "from sklearn.pipeline import Pipeline\n",
    "from sklearn.metrics import classification_report\n",
    "from sklearn.metrics import plot_confusion_matrix\n",
    "from sklearn.metrics import confusion_matrix"
   ]
  },
  {
   "cell_type": "code",
   "execution_count": 15,
   "id": "quick-sociology",
   "metadata": {},
   "outputs": [],
   "source": [
    "train = train.replace(-2.0, 3)\n",
    "train = train.replace(-1.0, 3)"
   ]
  },
  {
   "cell_type": "code",
   "execution_count": 16,
   "id": "cardiac-suffering",
   "metadata": {},
   "outputs": [],
   "source": [
    "test = test.replace(-2.0, 3)\n",
    "test = test.replace(-1.0, 3)"
   ]
  },
  {
   "cell_type": "code",
   "execution_count": 17,
   "id": "aggregate-costs",
   "metadata": {},
   "outputs": [],
   "source": [
    "X = train\n",
    "y = labels_train.to_numpy().ravel()"
   ]
  },
  {
   "cell_type": "code",
   "execution_count": 18,
   "id": "matched-chapter",
   "metadata": {},
   "outputs": [
    {
     "name": "stdout",
     "output_type": "stream",
     "text": [
      "------------------ Support Vector Machine -------------------\n",
      "\n",
      " Best Params: {'svm__C': 5, 'svm__kernel': 'rbf'}.\n",
      " Score: 0.8433333333333332\n",
      "\n",
      "\n",
      "------------------ kNN -------------------\n",
      "\n"
     ]
    },
    {
     "name": "stderr",
     "output_type": "stream",
     "text": [
      "/Library/Frameworks/Python.framework/Versions/3.8/lib/python3.8/site-packages/sklearn/model_selection/_search.py:918: UserWarning: One or more of the test scores are non-finite: [       nan        nan 0.71666667 0.71666667 0.70666667 0.71333333\n",
      " 0.75666667 0.75       0.74666667 0.75       0.78333333 0.77\n",
      " 0.79666667 0.79333333 0.79333333 0.77666667 0.79666667 0.78666667\n",
      " 0.79       0.77666667 0.78666667 0.77333333 0.80666667 0.79\n",
      " 0.79333333 0.78666667 0.79666667 0.78       0.80333333 0.78\n",
      " 0.79       0.77333333 0.8        0.78       0.79666667 0.78666667\n",
      " 0.79666667 0.78333333 0.79333333 0.78666667]\n",
      "  warnings.warn(\n"
     ]
    },
    {
     "name": "stdout",
     "output_type": "stream",
     "text": [
      " Best Params: {'knn__n_neighbors': 11, 'knn__weights': 'uniform'}.\n",
      " Score: 0.8066666666666666\n",
      "\n",
      "\n",
      "------------------ Logistic Regression -------------------\n",
      "\n",
      " Best Params: {'lr__C': 0.1, 'lr__penalty': 'l2'}.\n",
      " Score: 0.7966666666666666\n"
     ]
    },
    {
     "name": "stderr",
     "output_type": "stream",
     "text": [
      "/Library/Frameworks/Python.framework/Versions/3.8/lib/python3.8/site-packages/sklearn/model_selection/_search.py:918: UserWarning: One or more of the test scores are non-finite: [       nan 0.79666667        nan        nan 0.79              nan\n",
      "        nan 0.79              nan        nan 0.78333333        nan\n",
      "        nan 0.78              nan]\n",
      "  warnings.warn(\n"
     ]
    }
   ],
   "source": [
    "# Function to select the data\n",
    "def get_data_(data):\n",
    "    data = data[['neademokratia', 'syriza_gr', 'kinimallagis', 'ellinikilisi', 'mera25_gr', \n",
    "                 'kmitsotakis', 'atsipras', 'FofiGennimata', 'velopky','yanisvaroufakis']].to_numpy()\n",
    "    return data\n",
    "\n",
    "\n",
    "get_data = FunctionTransformer(get_data_)\n",
    "\n",
    "\n",
    "print('------------------ Support Vector Machine -------------------\\n')\n",
    "\n",
    "# The pipeline\n",
    "pipeline = Pipeline([\n",
    "    ('selector', get_data),\n",
    "    ('svm', svm.SVC())\n",
    "])\n",
    "\n",
    "# Paramters for optimization\n",
    "parameters = {'svm__C' : [0.1,0.5,1,5,10],\n",
    "              'svm__kernel':['linear', 'poly', 'rbf', 'sigmoid']}\n",
    "\n",
    "grid = GridSearchCV(pipeline, parameters, n_jobs = 4)\n",
    "grid.fit(X, y)\n",
    "    \n",
    "print(f' Best Params: {grid.best_params_}.\\n Score: {grid.best_score_}')\n",
    "\n",
    "\n",
    "print('\\n\\n------------------ kNN -------------------\\n')\n",
    "\n",
    "# The pipeline\n",
    "pipeline = Pipeline([\n",
    "    ('selector', get_data),\n",
    "    ('knn', KNeighborsClassifier())\n",
    "])\n",
    "\n",
    "# Paramters for optimization\n",
    "parameters = {'knn__n_neighbors': [i for i in range(20)],\n",
    "              'knn__weights': ['uniform', 'distance']}\n",
    "\n",
    "grid = GridSearchCV(pipeline, parameters, n_jobs = 4)\n",
    "grid.fit(X, y)\n",
    "    \n",
    "print(f' Best Params: {grid.best_params_}.\\n Score: {grid.best_score_}')\n",
    "\n",
    "print('\\n\\n------------------ Logistic Regression -------------------\\n')\n",
    "\n",
    "# The pipeline\n",
    "pipeline = Pipeline([\n",
    "    ('selector', get_data),\n",
    "    ('lr', LogisticRegression(max_iter=1000))\n",
    "])\n",
    "\n",
    "# Paramters for optimization\n",
    "parameters = {'lr__penalty': ['l1', 'l2', 'elasticnet'],\n",
    "              'lr__C': [0.1, 0.5, 1, 5, 10]}\n",
    "\n",
    "grid = GridSearchCV(pipeline, parameters, n_jobs = 4)\n",
    "grid.fit(X, y)\n",
    "    \n",
    "print(f' Best Params: {grid.best_params_}.\\n Score: {grid.best_score_}')"
   ]
  },
  {
   "cell_type": "code",
   "execution_count": 20,
   "id": "useful-french",
   "metadata": {},
   "outputs": [
    {
     "name": "stdout",
     "output_type": "stream",
     "text": [
      "                       precision    recall  f1-score   support\n",
      "\n",
      "Not-Parliament-Member       0.86      0.88      0.87        50\n",
      "    Parliament-Member       0.88      0.86      0.87        50\n",
      "\n",
      "             accuracy                           0.87       100\n",
      "            macro avg       0.87      0.87      0.87       100\n",
      "         weighted avg       0.87      0.87      0.87       100\n",
      "\n"
     ]
    },
    {
     "data": {
      "text/plain": [
       "<sklearn.metrics._plot.confusion_matrix.ConfusionMatrixDisplay at 0x7fd0149cea00>"
      ]
     },
     "execution_count": 20,
     "metadata": {},
     "output_type": "execute_result"
    },
    {
     "data": {
      "image/png": "[encoded data removed]",
      "text/plain": [
       "<Figure size 432x288 with 2 Axes>"
      ]
     },
     "metadata": {
      "needs_background": "light"
     },
     "output_type": "display_data"
    }
   ],
   "source": [
    "model_nd = Pipeline([\n",
    "    ('selector', get_data),\n",
    "    ('svm', svm.SVC(C=5, kernel='rbf'))\n",
    "])\n",
    "model_nd.fit(X,y)\n",
    "\n",
    "target_names = ['Not-Parliament-Member', 'Parliament-Member']\n",
    "predicted_labels = model_nd.predict(test)\n",
    "print(classification_report(y_true = labels_test, y_pred=predicted_labels, target_names=target_names))\n",
    "plot_confusion_matrix(model_nd, test, labels_test, display_labels=target_names, xticks_rotation=45, cmap=plt.cm.Blues)"
   ]
  },
  {
   "cell_type": "markdown",
   "id": "distinguished-lighter",
   "metadata": {},
   "source": [
    "## Positive Distances for errors (MAX Distance)\n",
    "\n",
    "- We replace each negative number with 6"
   ]
  },
  {
   "cell_type": "code",
   "execution_count": 3,
   "id": "guilty-default",
   "metadata": {},
   "outputs": [],
   "source": [
    "train = pd.read_csv('parliament_members_degree_of_seperation_training_set.csv', delimiter=';')\n",
    "test = pd.read_csv('parliament_members_degree_of_seperation_validation_set.csv', delimiter=';')\n",
    "\n",
    "\n",
    "labels_train = pd.read_csv('../../../../datasets/Greek Politicians/classification/parliament_members_training_set.csv', \n",
    "                          usecols=['parliament_member'])\n",
    "\n",
    "labels_test = pd.read_csv('../../../../datasets/Greek Politicians/classification/parliament_members_validation_set.csv', \n",
    "                          usecols=['parliament_member'])"
   ]
  },
  {
   "cell_type": "code",
   "execution_count": 22,
   "id": "illegal-account",
   "metadata": {},
   "outputs": [
    {
     "name": "stdout",
     "output_type": "stream",
     "text": [
      "6.0\n"
     ]
    }
   ],
   "source": [
    "dist_list = []\n",
    "for col in train[:150]:\n",
    "    if col != 'screen_name':\n",
    "        dist_list += list(train[:150][col])\n",
    "dist_list = [item for item in dist_list if item >= 0]\n",
    "print(np.max(dist_list))"
   ]
  },
  {
   "cell_type": "code",
   "execution_count": 32,
   "id": "shared-bundle",
   "metadata": {},
   "outputs": [],
   "source": [
    "data = train.append(test)\n",
    "labels = labels_train.append(labels_test)"
   ]
  },
  {
   "cell_type": "code",
   "execution_count": 33,
   "id": "dynamic-strip",
   "metadata": {},
   "outputs": [],
   "source": [
    "data = data.replace(-2.0, 6)\n",
    "data = data.replace(-1.0, 6)"
   ]
  },
  {
   "cell_type": "code",
   "execution_count": 34,
   "id": "functioning-duration",
   "metadata": {},
   "outputs": [],
   "source": [
    "from sklearn.manifold import TSNE\n",
    "degree_2d = TSNE(n_components=2, random_state=96).fit_transform(data[['neademokratia', 'syriza_gr', 'kinimallagis', 'ellinikilisi', 'mera25_gr', \n",
    "                                                   'kmitsotakis', 'atsipras', 'FofiGennimata', 'velopky','yanisvaroufakis']])\n",
    "\n",
    "from sklearn.cluster import KMeans\n",
    "kmeans = KMeans(n_clusters=2, random_state=0).fit_predict(data[['neademokratia', 'syriza_gr', 'kinimallagis', 'ellinikilisi', 'mera25_gr', \n",
    "                                                   'kmitsotakis', 'atsipras', 'FofiGennimata', 'velopky','yanisvaroufakis']])\n",
    "kmeans = 1 - kmeans\n",
    "\n",
    "from sklearn.cluster import DBSCAN\n",
    "dbscan = DBSCAN(eps=1.5).fit_predict(data[['neademokratia', 'syriza_gr', 'kinimallagis', 'ellinikilisi', 'mera25_gr', \n",
    "                                                   'kmitsotakis', 'atsipras', 'FofiGennimata', 'velopky','yanisvaroufakis']])"
   ]
  },
  {
   "cell_type": "code",
   "execution_count": 35,
   "id": "covered-pharmaceutical",
   "metadata": {},
   "outputs": [
    {
     "data": {
      "text/plain": [
       "Text(0.5, 1.0, 'dbscan labels')"
      ]
     },
     "execution_count": 35,
     "metadata": {},
     "output_type": "execute_result"
    },
    {
     "data": {
      "image/png": "[encoded data removed]",
      "text/plain": [
       "<Figure size 1080x360 with 3 Axes>"
      ]
     },
     "metadata": {
      "needs_background": "light"
     },
     "output_type": "display_data"
    }
   ],
   "source": [
    "fig, ax = plt.subplots(1,3, figsize = [15,5])\n",
    "\n",
    "sns.scatterplot(x=degree_2d[:,0], y=degree_2d[:,1], hue = labels.parliament_member, ax = ax[0])\n",
    "ax[0].set_title('real labels')\n",
    "\n",
    "sns.scatterplot(x=degree_2d[:,0], y=degree_2d[:,1], hue = kmeans, ax = ax[1])\n",
    "ax[1].set_title('kmeans labels')\n",
    "\n",
    "sns.scatterplot(x=degree_2d[:,0], y=degree_2d[:,1], hue = dbscan, ax = ax[2])\n",
    "ax[2].set_title('dbscan labels')"
   ]
  },
  {
   "cell_type": "markdown",
   "id": "prescription-cycle",
   "metadata": {},
   "source": [
    "## Supervised Learning"
   ]
  },
  {
   "cell_type": "code",
   "execution_count": 4,
   "id": "apart-enclosure",
   "metadata": {},
   "outputs": [],
   "source": [
    "from tqdm.notebook import tqdm\n",
    "from sklearn.feature_extraction.text import TfidfVectorizer\n",
    "from sklearn.feature_extraction.text import CountVectorizer\n",
    "from sklearn.model_selection import cross_validate\n",
    "from sklearn.preprocessing import FunctionTransformer\n",
    "from sklearn.pipeline import FeatureUnion\n",
    "\n",
    "from sklearn import svm\n",
    "from sklearn.neighbors import KNeighborsClassifier\n",
    "from sklearn.linear_model import LogisticRegression\n",
    "\n",
    "from sklearn.model_selection import GridSearchCV\n",
    "from sklearn.pipeline import Pipeline\n",
    "from sklearn.metrics import classification_report\n",
    "from sklearn.metrics import plot_confusion_matrix\n",
    "from sklearn.metrics import confusion_matrix"
   ]
  },
  {
   "cell_type": "code",
   "execution_count": 5,
   "id": "durable-amateur",
   "metadata": {},
   "outputs": [],
   "source": [
    "train = train.replace(-2.0, 6)\n",
    "train = train.replace(-1.0, 6)"
   ]
  },
  {
   "cell_type": "code",
   "execution_count": 6,
   "id": "possible-identifier",
   "metadata": {},
   "outputs": [],
   "source": [
    "test = test.replace(-2.0, 6)\n",
    "test = test.replace(-1.0, 6)"
   ]
  },
  {
   "cell_type": "code",
   "execution_count": 7,
   "id": "animal-article",
   "metadata": {},
   "outputs": [],
   "source": [
    "X = train\n",
    "y = labels_train.to_numpy().ravel()"
   ]
  },
  {
   "cell_type": "code",
   "execution_count": 9,
   "id": "signed-spine",
   "metadata": {},
   "outputs": [
    {
     "name": "stdout",
     "output_type": "stream",
     "text": [
      "------------------ Support Vector Machine -------------------\n",
      "\n",
      " Best Params: {'svm__C': 10, 'svm__kernel': 'rbf'}.\n",
      " Score: 0.8266666666666665\n",
      "\n",
      "\n",
      "------------------ kNN -------------------\n",
      "\n"
     ]
    },
    {
     "name": "stderr",
     "output_type": "stream",
     "text": [
      "/Library/Frameworks/Python.framework/Versions/3.8/lib/python3.8/site-packages/sklearn/model_selection/_search.py:918: UserWarning: One or more of the test scores are non-finite: [       nan        nan 0.70666667 0.70666667 0.71333333 0.70666667\n",
      " 0.80666667 0.79333333 0.80666667 0.78       0.8        0.79\n",
      " 0.80666667 0.8        0.79333333 0.78666667 0.8        0.79333333\n",
      " 0.80666667 0.79333333 0.8        0.79333333 0.80666667 0.79333333\n",
      " 0.80333333 0.79333333 0.8        0.78666667 0.8        0.78666667\n",
      " 0.80333333 0.79       0.81       0.79       0.80666667 0.79666667\n",
      " 0.80666667 0.78       0.79666667 0.78333333]\n",
      "  warnings.warn(\n"
     ]
    },
    {
     "name": "stdout",
     "output_type": "stream",
     "text": [
      " Best Params: {'knn__n_neighbors': 16, 'knn__weights': 'uniform'}.\n",
      " Score: 0.8099999999999999\n",
      "\n",
      "\n",
      "------------------ Logistic Regression -------------------\n",
      "\n",
      " Best Params: {'lr__C': 0.1, 'lr__penalty': 'l2'}.\n",
      " Score: 0.7666666666666667\n"
     ]
    },
    {
     "name": "stderr",
     "output_type": "stream",
     "text": [
      "/Library/Frameworks/Python.framework/Versions/3.8/lib/python3.8/site-packages/sklearn/model_selection/_search.py:918: UserWarning: One or more of the test scores are non-finite: [       nan 0.76666667        nan        nan 0.75666667        nan\n",
      "        nan 0.75              nan        nan 0.75333333        nan\n",
      "        nan 0.75333333        nan]\n",
      "  warnings.warn(\n"
     ]
    }
   ],
   "source": [
    "# Function to select the data\n",
    "def get_data_(data):\n",
    "    data = data[['neademokratia', 'syriza_gr', 'kinimallagis', 'ellinikilisi', 'mera25_gr', \n",
    "                 'kmitsotakis', 'atsipras', 'FofiGennimata', 'velopky','yanisvaroufakis']].to_numpy()\n",
    "    return data\n",
    "\n",
    "\n",
    "get_data = FunctionTransformer(get_data_)\n",
    "\n",
    "\n",
    "print('------------------ Support Vector Machine -------------------\\n')\n",
    "\n",
    "# The pipeline\n",
    "pipeline = Pipeline([\n",
    "    ('selector', get_data),\n",
    "    ('svm', svm.SVC())\n",
    "])\n",
    "\n",
    "# Paramters for optimization\n",
    "parameters = {'svm__C' : [0.1,0.5,1,5,10],\n",
    "              'svm__kernel':['linear', 'poly', 'rbf', 'sigmoid']}\n",
    "\n",
    "grid = GridSearchCV(pipeline, parameters, n_jobs = 4)\n",
    "grid.fit(X, y)\n",
    "    \n",
    "print(f' Best Params: {grid.best_params_}.\\n Score: {grid.best_score_}')\n",
    "\n",
    "\n",
    "print('\\n\\n------------------ kNN -------------------\\n')\n",
    "\n",
    "# The pipeline\n",
    "pipeline = Pipeline([\n",
    "    ('selector', get_data),\n",
    "    ('knn', KNeighborsClassifier())\n",
    "])\n",
    "\n",
    "# Paramters for optimization\n",
    "parameters = {'knn__n_neighbors': [i for i in range(20)],\n",
    "              'knn__weights': ['uniform', 'distance']}\n",
    "\n",
    "grid = GridSearchCV(pipeline, parameters, n_jobs = 4)\n",
    "grid.fit(X, y)\n",
    "    \n",
    "print(f' Best Params: {grid.best_params_}.\\n Score: {grid.best_score_}')\n",
    "\n",
    "print('\\n\\n------------------ Logistic Regression -------------------\\n')\n",
    "\n",
    "# The pipeline\n",
    "pipeline = Pipeline([\n",
    "    ('selector', get_data),\n",
    "    ('lr', LogisticRegression(max_iter=1000))\n",
    "])\n",
    "\n",
    "# Paramters for optimization\n",
    "parameters = {'lr__penalty': ['l1', 'l2', 'elasticnet'],\n",
    "              'lr__C': [0.1, 0.5, 1, 5, 10]}\n",
    "\n",
    "grid = GridSearchCV(pipeline, parameters, n_jobs = 4)\n",
    "grid.fit(X, y)\n",
    "    \n",
    "print(f' Best Params: {grid.best_params_}.\\n Score: {grid.best_score_}')"
   ]
  },
  {
   "cell_type": "code",
   "execution_count": 10,
   "id": "responsible-paint",
   "metadata": {},
   "outputs": [
    {
     "name": "stdout",
     "output_type": "stream",
     "text": [
      "                       precision    recall  f1-score   support\n",
      "\n",
      "Not-Parliament-Member       0.90      0.86      0.88        50\n",
      "    Parliament-Member       0.87      0.90      0.88        50\n",
      "\n",
      "             accuracy                           0.88       100\n",
      "            macro avg       0.88      0.88      0.88       100\n",
      "         weighted avg       0.88      0.88      0.88       100\n",
      "\n"
     ]
    },
    {
     "data": {
      "text/plain": [
       "<sklearn.metrics._plot.confusion_matrix.ConfusionMatrixDisplay at 0x7fa179aad490>"
      ]
     },
     "execution_count": 10,
     "metadata": {},
     "output_type": "execute_result"
    },
    {
     "data": {
      "image/png": "[encoded data removed]",
      "text/plain": [
       "<Figure size 432x288 with 2 Axes>"
      ]
     },
     "metadata": {
      "needs_background": "light"
     },
     "output_type": "display_data"
    }
   ],
   "source": [
    "model_nd = Pipeline([\n",
    "    ('selector', get_data),\n",
    "    ('svm', svm.SVC(C=10, kernel='rbf'))\n",
    "])\n",
    "model_nd.fit(X,y)\n",
    "\n",
    "target_names = ['Not-Parliament-Member', 'Parliament-Member']\n",
    "predicted_labels = model_nd.predict(test)\n",
    "print(classification_report(y_true = labels_test, y_pred=predicted_labels, target_names=target_names))\n",
    "plot_confusion_matrix(model_nd, test, labels_test, display_labels=target_names, xticks_rotation=45, cmap=plt.cm.Blues)"
   ]
  },
  {
   "cell_type": "markdown",
   "id": "framed-essence",
   "metadata": {},
   "source": [
    "## Kmeans k = 3\n",
    "\n",
    "- We keep negative numbers"
   ]
  },
  {
   "cell_type": "code",
   "execution_count": 8,
   "id": "armed-experience",
   "metadata": {},
   "outputs": [],
   "source": [
    "train = pd.read_csv('parliament_members_degree_of_seperation_training_set.csv', delimiter=';')\n",
    "test = pd.read_csv('parliament_members_degree_of_seperation_validation_set.csv', delimiter=';')\n",
    "\n",
    "\n",
    "labels_train = pd.read_csv('../../../../datasets/Greek Politicians/classification/parliament_members_training_set.csv', \n",
    "                          usecols=['parliament_member'])\n",
    "\n",
    "labels_test = pd.read_csv('../../../../datasets/Greek Politicians/classification/parliament_members_validation_set.csv', \n",
    "                          usecols=['parliament_member'])"
   ]
  },
  {
   "cell_type": "code",
   "execution_count": 10,
   "id": "efficient-boutique",
   "metadata": {},
   "outputs": [],
   "source": [
    "data = train.append(test)\n",
    "labels = labels_train.append(labels_test)"
   ]
  },
  {
   "cell_type": "code",
   "execution_count": 11,
   "id": "compound-package",
   "metadata": {},
   "outputs": [],
   "source": [
    "from sklearn.manifold import TSNE\n",
    "degree_2d = TSNE(n_components=2, random_state=96).fit_transform(data[['neademokratia', 'syriza_gr', 'kinimallagis', 'ellinikilisi', 'mera25_gr', \n",
    "                                                   'kmitsotakis', 'atsipras', 'FofiGennimata', 'velopky','yanisvaroufakis']])\n",
    "\n",
    "from sklearn.cluster import KMeans\n",
    "kmeans = KMeans(n_clusters=3, random_state=0).fit_predict(data[['neademokratia', 'syriza_gr', 'kinimallagis', 'ellinikilisi', 'mera25_gr', \n",
    "                                                   'kmitsotakis', 'atsipras', 'FofiGennimata', 'velopky','yanisvaroufakis']])\n",
    "kmeans = 2 - kmeans\n",
    "\n",
    "from sklearn.cluster import DBSCAN\n",
    "dbscan = DBSCAN(eps=1.5).fit_predict(data[['neademokratia', 'syriza_gr', 'kinimallagis', 'ellinikilisi', 'mera25_gr', \n",
    "                                                   'kmitsotakis', 'atsipras', 'FofiGennimata', 'velopky','yanisvaroufakis']])"
   ]
  },
  {
   "cell_type": "code",
   "execution_count": 12,
   "id": "combined-peoples",
   "metadata": {},
   "outputs": [
    {
     "data": {
      "text/plain": [
       "Text(0.5, 1.0, 'dbscan labels')"
      ]
     },
     "execution_count": 12,
     "metadata": {},
     "output_type": "execute_result"
    },
    {
     "data": {
      "image/png": "[encoded data removed]",
      "text/plain": [
       "<Figure size 1080x360 with 3 Axes>"
      ]
     },
     "metadata": {
      "needs_background": "light"
     },
     "output_type": "display_data"
    }
   ],
   "source": [
    "fig, ax = plt.subplots(1,3, figsize = [15,5])\n",
    "\n",
    "sns.scatterplot(x=degree_2d[:,0], y=degree_2d[:,1], hue = labels.parliament_member, ax = ax[0])\n",
    "ax[0].set_title('real labels')\n",
    "\n",
    "sns.scatterplot(x=degree_2d[:,0], y=degree_2d[:,1], hue = kmeans, ax = ax[1])\n",
    "ax[1].set_title('kmeans labels')\n",
    "\n",
    "sns.scatterplot(x=degree_2d[:,0], y=degree_2d[:,1], hue = dbscan, ax = ax[2])\n",
    "ax[2].set_title('dbscan labels')"
   ]
  }
 ],
 "metadata": {
  "kernelspec": {
   "display_name": "Python 3",
   "language": "python",
   "name": "python3"
  },
  "language_info": {
   "codemirror_mode": {
    "name": "ipython",
    "version": 3
   },
   "file_extension": ".py",
   "mimetype": "text/x-python",
   "name": "python",
   "nbconvert_exporter": "python",
   "pygments_lexer": "ipython3",
   "version": "3.8.5"
  }
 },
 "nbformat": 4,
 "nbformat_minor": 5
}
