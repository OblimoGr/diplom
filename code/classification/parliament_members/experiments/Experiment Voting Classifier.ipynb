{
 "cells": [
  {
   "cell_type": "markdown",
   "id": "close-salad",
   "metadata": {},
   "source": [
    "# Classification Experiment: Combining Classifiers\n",
    "---\n",
    "This Notebook, includes a series of experiments, on using a node's Social Information for classification."
   ]
  },
  {
   "cell_type": "markdown",
   "id": "wireless-budapest",
   "metadata": {},
   "source": [
    "Libraries:"
   ]
  },
  {
   "cell_type": "code",
   "execution_count": 1,
   "id": "binding-effects",
   "metadata": {},
   "outputs": [],
   "source": [
    "import pandas as pd\n",
    "import numpy as np\n",
    "import matplotlib.pyplot as plt\n",
    "import spacy\n",
    "import json\n",
    "import tweepy\n",
    "import time\n",
    "\n",
    "from tqdm.notebook import tqdm\n",
    "from sklearn.feature_extraction.text import TfidfVectorizer\n",
    "from sklearn.feature_extraction.text import CountVectorizer\n",
    "from sklearn.model_selection import cross_validate\n",
    "from sklearn.preprocessing import FunctionTransformer\n",
    "from sklearn.pipeline import FeatureUnion\n",
    "\n",
    "from sklearn import svm\n",
    "from sklearn.neighbors import KNeighborsClassifier\n",
    "from sklearn.linear_model import LogisticRegression\n",
    "\n",
    "from sklearn.model_selection import GridSearchCV\n",
    "from sklearn.pipeline import Pipeline\n",
    "\n",
    "import joblib\n",
    "import time \n",
    "\n",
    "import seaborn as sns\n",
    "\n",
    "from sklearn.ensemble import VotingClassifier\n",
    "from sklearn.model_selection import cross_val_score\n",
    "from sklearn.metrics import classification_report\n",
    "from sklearn.metrics import plot_confusion_matrix\n",
    "from sklearn.metrics import confusion_matrix"
   ]
  },
  {
   "cell_type": "markdown",
   "id": "fiscal-square",
   "metadata": {},
   "source": [
    "Twitter API Authentication:"
   ]
  },
  {
   "cell_type": "code",
   "execution_count": 2,
   "id": "concrete-radar",
   "metadata": {},
   "outputs": [],
   "source": [
    "twitter_credentials = []\n",
    "with open('../../../../twitter_credentials.json', 'r') as f:\n",
    "    twitter_credentials = json.load(f)\n",
    "\n",
    "auth = tweepy.OAuthHandler(twitter_credentials['consumer_key'], twitter_credentials['consumer_secret'])\n",
    "auth.set_access_token(twitter_credentials['access_token_key'],twitter_credentials['access_token_secret'])\n",
    "API = tweepy.API(auth, wait_on_rate_limit=True, wait_on_rate_limit_notify=True, timeout=60*5)"
   ]
  },
  {
   "cell_type": "code",
   "execution_count": 3,
   "id": "illegal-cherry",
   "metadata": {},
   "outputs": [],
   "source": [
    "# Function For Text Normalization\n",
    "def clean_text(data):\n",
    "    urls = r'http\\S+'\n",
    "    non_unicode_char = r'\\W'\n",
    "    numbers = r'[0-9_]'\n",
    "    fix_whitespace = r'\\s+'\n",
    "    single_whitespace = ' '\n",
    "    \n",
    "    data = (data.replace([urls], single_whitespace, regex=True)\n",
    "                    .replace([non_unicode_char, numbers], single_whitespace, regex=True)\n",
    "                    .replace(fix_whitespace, single_whitespace, regex=True))\n",
    "    data = data.apply(lambda s: s.lower() if type(s) == str else s)\n",
    "    return data\n",
    "\n",
    "nlp_el = spacy.load('el_core_news_md')\n",
    "nlp_en = spacy.load('en_core_web_sm')\n",
    "STOPWORDS = set(list(spacy.lang.en.STOP_WORDS) + list(spacy.lang.el.STOP_WORDS))\n",
    "\n",
    "def remove_stopwords(row):\n",
    "    row = [str(token) for token in nlp_el(row)]\n",
    "    return [w for w in row if w not in STOPWORDS]\n",
    "\n",
    "def tokenize_lemmatize(row):\n",
    "    return [str(token.lemma_) for token in nlp_el(row)]"
   ]
  },
  {
   "cell_type": "markdown",
   "id": "rough-batman",
   "metadata": {},
   "source": [
    "# Dataset\n",
    "---"
   ]
  },
  {
   "cell_type": "code",
   "execution_count": 4,
   "id": "democratic-witch",
   "metadata": {},
   "outputs": [],
   "source": [
    "training_set = pd.read_csv('../../../../datasets/Greek Politicians/classification/parliament_members_training_set.csv')\n",
    "training_set = training_set.replace(np.nan, '')\n",
    "\n",
    "\n",
    "validation_set = pd.read_csv('../../../../datasets/Greek Politicians/classification/parliament_members_validation_set.csv')\n",
    "validation_set = validation_set.replace(np.nan, '')"
   ]
  },
  {
   "cell_type": "markdown",
   "id": "above-consolidation",
   "metadata": {},
   "source": [
    "# Classifiers"
   ]
  },
  {
   "cell_type": "markdown",
   "id": "bound-operator",
   "metadata": {},
   "source": [
    "## Name Description"
   ]
  },
  {
   "cell_type": "code",
   "execution_count": 5,
   "id": "initial-boulder",
   "metadata": {},
   "outputs": [],
   "source": [
    "def get_text_data_nd_(df):\n",
    "    df = df.copy()\n",
    "    df['textdata'] = clean_text(df['name'] + ' ' + df['description'])\n",
    "    df['textdata'] = df['textdata'].apply(lambda row: tokenize_lemmatize(row))\n",
    "    df['textdata'] = df['textdata'].apply(lambda row: ' '.join(row))\n",
    "    df['textdata'] = df['textdata'].apply(lambda row: remove_stopwords(row))\n",
    "    df['textdata'] = df['textdata'].apply(lambda row: ' '.join(row))\n",
    "    \n",
    "    return df.textdata\n",
    "\n",
    "\n",
    "get_text_nd = FunctionTransformer(get_text_data_nd_)\n",
    "\n",
    "pipeline_nd = Pipeline([\n",
    "    ('selector_nd', get_text_nd),\n",
    "    ('tfidf', TfidfVectorizer(max_df=0.5, max_features=2000, min_df=1)),\n",
    "    ('lr', LogisticRegression(max_iter=1000, C=0.1, penalty = 'l2'))\n",
    "])"
   ]
  },
  {
   "cell_type": "markdown",
   "id": "sonic-lloyd",
   "metadata": {},
   "source": [
    "## Statuses"
   ]
  },
  {
   "cell_type": "code",
   "execution_count": 6,
   "id": "pediatric-peripheral",
   "metadata": {},
   "outputs": [],
   "source": [
    "def get_text_data_t_(df):\n",
    "    df = df.copy()\n",
    "    df['textdata'] = clean_text(df['recent_100_tweets'])\n",
    "    df['textdata'] = df['textdata'].apply(lambda row: tokenize_lemmatize(row))\n",
    "    df['textdata'] = df['textdata'].apply(lambda row: ' '.join(row))\n",
    "    df['textdata'] = df['textdata'].apply(lambda row: remove_stopwords(row))\n",
    "    df['textdata'] = df['textdata'].apply(lambda row: ' '.join(row))\n",
    "    return df.textdata\n",
    "\n",
    "get_text_data_t = FunctionTransformer(get_text_data_t_)\n",
    "\n",
    "\n",
    "def get_numeric_data_m_(df):\n",
    "    data = df['mentions_politician_count'].to_numpy()\n",
    "    return data.reshape(-1,1)\n",
    "\n",
    "get_numeric_data_m = FunctionTransformer(get_numeric_data_m_)\n",
    "\n",
    "\n",
    "pipeline_tme = Pipeline([\n",
    "    ('features', FeatureUnion([\n",
    "            ('numeric_features_m', Pipeline([\n",
    "                ('selector_num_m', get_numeric_data_m)\n",
    "            ])),\n",
    "             ('text_features', Pipeline([\n",
    "                ('selector_text_t', get_text_data_t),\n",
    "                ('vectorizer', TfidfVectorizer(max_df=0.75, max_features=1000, min_df=10)),\n",
    "            ]))\n",
    "         ])),\n",
    "     ('lr', LogisticRegression(max_iter=1000, C=10, penalty='l2'))\n",
    "])"
   ]
  },
  {
   "cell_type": "markdown",
   "id": "reasonable-fields",
   "metadata": {},
   "source": [
    "## Friends"
   ]
  },
  {
   "cell_type": "code",
   "execution_count": 7,
   "id": "straight-waters",
   "metadata": {},
   "outputs": [],
   "source": [
    "# Function to select the data\n",
    "def get_data_fr_(df):\n",
    "    data = df['friends_politician_count_1000'].to_numpy()\n",
    "    return data.reshape(-1,1)\n",
    "\n",
    "\n",
    "get_data_fr = FunctionTransformer(get_data_fr_)\n",
    "\n",
    "# The pipeline\n",
    "pipeline_fr = Pipeline([\n",
    "    ('selector_fr', get_data_fr),\n",
    "    ('knn', KNeighborsClassifier(n_neighbors=7, weights='uniform'))\n",
    "])"
   ]
  },
  {
   "cell_type": "markdown",
   "id": "organizational-decade",
   "metadata": {},
   "source": [
    "## Followers"
   ]
  },
  {
   "cell_type": "code",
   "execution_count": 8,
   "id": "exclusive-habitat",
   "metadata": {},
   "outputs": [],
   "source": [
    "# Function to select the data\n",
    "def get_data_fo_(df):\n",
    "    data = df['followers_politician_count_1000'].to_numpy()\n",
    "    return data.reshape(-1,1)\n",
    "\n",
    "\n",
    "get_data_fo = FunctionTransformer(get_data_fo_)\n",
    "\n",
    "# The pipeline\n",
    "pipeline_fo = Pipeline([\n",
    "    ('selector_fo', get_data_fo),\n",
    "    ('knn', KNeighborsClassifier(n_neighbors=12, weights='uniform'))\n",
    "])"
   ]
  },
  {
   "cell_type": "code",
   "execution_count": 9,
   "id": "determined-circle",
   "metadata": {},
   "outputs": [],
   "source": [
    "predictions = pd.DataFrame()\n",
    "predictions['screen_name'] = validation_set['screen_name']\n",
    "predictions['true_label'] = validation_set['parliament_member']"
   ]
  },
  {
   "cell_type": "code",
   "execution_count": 10,
   "id": "optional-andrews",
   "metadata": {},
   "outputs": [],
   "source": [
    "target_names = ['Not-Parliament-Member', 'Parliament-Member']"
   ]
  },
  {
   "cell_type": "markdown",
   "id": "radio-cotton",
   "metadata": {},
   "source": [
    "# Voting Classifier \"Soft\""
   ]
  },
  {
   "cell_type": "markdown",
   "id": "organized-chile",
   "metadata": {},
   "source": [
    "## Uniform Weights"
   ]
  },
  {
   "cell_type": "markdown",
   "id": "cellular-thompson",
   "metadata": {},
   "source": [
    "## Constant Weights"
   ]
  },
  {
   "cell_type": "code",
   "execution_count": 14,
   "id": "second-disease",
   "metadata": {},
   "outputs": [
    {
     "name": "stdout",
     "output_type": "stream",
     "text": [
      "Fitting 5 folds for each of 7 candidates, totalling 35 fits\n",
      " Best Params: {'voting__weights': [10, 3, 0.5, 0.5]}.\n",
      " Score: 0.9299999999999999\n",
      "                       precision    recall  f1-score   support\n",
      "\n",
      "Not-Parliament-Member       0.96      0.98      0.97        50\n",
      "    Parliament-Member       0.98      0.96      0.97        50\n",
      "\n",
      "             accuracy                           0.97       100\n",
      "            macro avg       0.97      0.97      0.97       100\n",
      "         weighted avg       0.97      0.97      0.97       100\n",
      "\n"
     ]
    },
    {
     "data": {
      "image/png": "[encoded data removed]",
      "text/plain": [
       "<Figure size 432x288 with 2 Axes>"
      ]
     },
     "metadata": {
      "needs_background": "light"
     },
     "output_type": "display_data"
    }
   ],
   "source": [
    "clf = VotingClassifier(estimators=[('nd', pipeline_nd), \n",
    "                                   ('tme', pipeline_tme), \n",
    "                                   ('fr', pipeline_fr), \n",
    "                                   ('fo', pipeline_fo)], \n",
    "                       voting='soft'\n",
    "                      )\n",
    "\n",
    "pipe = Pipeline([('voting', clf)])\n",
    "\n",
    "\n",
    "parameters = {'voting__weights':[[10, 10, 5, 5],\n",
    "                                 [10, 5, 1, 1],\n",
    "                                 [5, 10, 1, 1],\n",
    "                                 [5, 5, 2, 0.5],\n",
    "                                 [1,1,1,1],\n",
    "                                 [10,3,0.5,0.5],\n",
    "                                 [3,10,0.5,0.5]]}\n",
    "\n",
    "grid = GridSearchCV(pipe, parameters, n_jobs = 4, verbose=1)\n",
    "grid.fit(training_set, training_set.parliament_member)\n",
    "\n",
    "print(f' Best Params: {grid.best_params_}.\\n Score: {grid.best_score_}')\n",
    "\n",
    "\n",
    "plot_confusion_matrix(grid.best_estimator_, \n",
    "                      validation_set, \n",
    "                      validation_set.parliament_member, \n",
    "                      display_labels=target_names, \n",
    "                      xticks_rotation=45, \n",
    "                      cmap=plt.cm.Blues)\n",
    "\n",
    "y_pred=grid.best_estimator_.predict(validation_set)\n",
    "\n",
    "print(classification_report(y_true = validation_set.parliament_member, \n",
    "                            y_pred=y_pred, \n",
    "                            target_names=target_names))\n",
    "\n",
    "\n",
    "predictions['voting_soft_weights'] = y_pred"
   ]
  },
  {
   "cell_type": "markdown",
   "id": "minute-notification",
   "metadata": {},
   "source": [
    "## Varying Weights"
   ]
  },
  {
   "cell_type": "code",
   "execution_count": 15,
   "id": "straight-entry",
   "metadata": {},
   "outputs": [],
   "source": [
    "pipeline_nd.fit(training_set, training_set.parliament_member)\n",
    "nd_proba = pipeline_nd.predict_proba(validation_set).round(4)"
   ]
  },
  {
   "cell_type": "code",
   "execution_count": 16,
   "id": "proof-notebook",
   "metadata": {},
   "outputs": [],
   "source": [
    "pipeline_tme.fit(training_set, training_set.parliament_member)\n",
    "tme_proba = pipeline_tme.predict_proba(validation_set).round(4)"
   ]
  },
  {
   "cell_type": "code",
   "execution_count": 17,
   "id": "significant-gossip",
   "metadata": {},
   "outputs": [],
   "source": [
    "pipeline_fr.fit(training_set, training_set.parliament_member)\n",
    "fr_proba = pipeline_fr.predict_proba(validation_set).round(4)"
   ]
  },
  {
   "cell_type": "code",
   "execution_count": 18,
   "id": "brief-olympus",
   "metadata": {},
   "outputs": [],
   "source": [
    "pipeline_fo.fit(training_set, training_set.parliament_member)\n",
    "fo_proba = pipeline_fo.predict_proba(validation_set).round(4)"
   ]
  },
  {
   "cell_type": "code",
   "execution_count": 19,
   "id": "constant-rates",
   "metadata": {},
   "outputs": [],
   "source": [
    "a = [10 for i in range(len(validation_set))]\n",
    "b = [3 for i in range(len(validation_set))]\n",
    "c = [0.5 for i in range(len(validation_set))]\n",
    "d = [0.5 for i in range(len(validation_set))]\n",
    "\n",
    "for i, description in enumerate(validation_set['description']):\n",
    "    if description == '':\n",
    "        a[i] = 0.5\n",
    "    if validation_set.iloc[i]['statuses_count'] == 0:\n",
    "        b[i] = 0\n",
    "    if validation_set.iloc[i]['friends_count'] == 0:\n",
    "        c[i] = 0\n",
    "    if validation_set.iloc[i]['followers_count'] == 0:\n",
    "        d[i] = 0\n",
    "        "
   ]
  },
  {
   "cell_type": "code",
   "execution_count": 20,
   "id": "indonesian-character",
   "metadata": {},
   "outputs": [
    {
     "name": "stdout",
     "output_type": "stream",
     "text": [
      "                       precision    recall  f1-score   support\n",
      "\n",
      "Not-Parliament-Member       0.98      0.98      0.98        50\n",
      "    Parliament-Member       0.98      0.98      0.98        50\n",
      "\n",
      "             accuracy                           0.98       100\n",
      "            macro avg       0.98      0.98      0.98       100\n",
      "         weighted avg       0.98      0.98      0.98       100\n",
      "\n"
     ]
    }
   ],
   "source": [
    "proba = [0 for i in range(len(validation_set))]\n",
    "for i in range(len(validation_set)):\n",
    "    proba[i] = (a[i]*nd_proba[i] + b[i]*tme_proba[i] + c[i]*fr_proba[i] + d[i]*fo_proba[i]) / (a[i]+b[i]+c[i]+d[i])\n",
    "\n",
    "\n",
    "    \n",
    "print(classification_report(y_true = validation_set.parliament_member, \n",
    "                            y_pred=np.argmax(proba, axis=1), \n",
    "                            target_names=target_names))"
   ]
  },
  {
   "cell_type": "code",
   "execution_count": 21,
   "id": "completed-xerox",
   "metadata": {},
   "outputs": [
    {
     "data": {
      "text/plain": [
       "[Text(0.5, 0, 'Not-Parliament-Member'), Text(1.5, 0, 'Parliament-Member')]"
      ]
     },
     "execution_count": 21,
     "metadata": {},
     "output_type": "execute_result"
    },
    {
     "data": {
      "image/png": "[encoded data removed]",
      "text/plain": [
       "<Figure size 432x288 with 2 Axes>"
      ]
     },
     "metadata": {},
     "output_type": "display_data"
    }
   ],
   "source": [
    "df_cm = pd.DataFrame(confusion_matrix(y_true = validation_set.parliament_member, \n",
    "                            y_pred=np.argmax(proba, axis=1)), range(2), range(2))\n",
    "#plt.figure(figsize=(10,7))\n",
    "sns.set(font_scale=1) # for label size\n",
    "mtrx = sns.heatmap(df_cm, annot=True, annot_kws={\"size\": 12},\n",
    "           cmap=plt.cm.Blues,\n",
    "           xticklabels=target_names, \n",
    "            yticklabels=target_names) # font size\n",
    "\n",
    "loc, labels = plt.xticks()\n",
    "mtrx.set_xticklabels(labels, rotation=45)"
   ]
  },
  {
   "cell_type": "code",
   "execution_count": 22,
   "id": "compact-india",
   "metadata": {},
   "outputs": [
    {
     "data": {
      "text/html": [
       "<div>\n",
       "<style scoped>\n",
       "    .dataframe tbody tr th:only-of-type {\n",
       "        vertical-align: middle;\n",
       "    }\n",
       "\n",
       "    .dataframe tbody tr th {\n",
       "        vertical-align: top;\n",
       "    }\n",
       "\n",
       "    .dataframe thead th {\n",
       "        text-align: right;\n",
       "    }\n",
       "</style>\n",
       "<table border=\"1\" class=\"dataframe\">\n",
       "  <thead>\n",
       "    <tr style=\"text-align: right;\">\n",
       "      <th></th>\n",
       "      <th>screen_name</th>\n",
       "      <th>true_label</th>\n",
       "      <th>voting_soft</th>\n",
       "      <th>voting_soft_weights</th>\n",
       "    </tr>\n",
       "  </thead>\n",
       "  <tbody>\n",
       "    <tr>\n",
       "      <th>7</th>\n",
       "      <td>tzakri</td>\n",
       "      <td>1</td>\n",
       "      <td>0</td>\n",
       "      <td>0</td>\n",
       "    </tr>\n",
       "    <tr>\n",
       "      <th>18</th>\n",
       "      <td>RoussopoulosTh</td>\n",
       "      <td>1</td>\n",
       "      <td>0</td>\n",
       "      <td>0</td>\n",
       "    </tr>\n",
       "    <tr>\n",
       "      <th>55</th>\n",
       "      <td>Georgadas</td>\n",
       "      <td>0</td>\n",
       "      <td>1</td>\n",
       "      <td>1</td>\n",
       "    </tr>\n",
       "  </tbody>\n",
       "</table>\n",
       "</div>"
      ],
      "text/plain": [
       "       screen_name  true_label  voting_soft  voting_soft_weights\n",
       "7           tzakri           1            0                    0\n",
       "18  RoussopoulosTh           1            0                    0\n",
       "55       Georgadas           0            1                    1"
      ]
     },
     "execution_count": 22,
     "metadata": {},
     "output_type": "execute_result"
    }
   ],
   "source": [
    "predictions[\n",
    "    (predictions['true_label'] != predictions['voting_soft_weights'])\n",
    "]"
   ]
  },
  {
   "cell_type": "code",
   "execution_count": null,
   "id": "fallen-mistake",
   "metadata": {},
   "outputs": [],
   "source": []
  }
 ],
 "metadata": {
  "kernelspec": {
   "display_name": "Python 3",
   "language": "python",
   "name": "python3"
  },
  "language_info": {
   "codemirror_mode": {
    "name": "ipython",
    "version": 3
   },
   "file_extension": ".py",
   "mimetype": "text/x-python",
   "name": "python",
   "nbconvert_exporter": "python",
   "pygments_lexer": "ipython3",
   "version": "3.8.5"
  }
 },
 "nbformat": 4,
 "nbformat_minor": 5
}
