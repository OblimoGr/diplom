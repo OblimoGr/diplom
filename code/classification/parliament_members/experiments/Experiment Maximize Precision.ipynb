{
 "cells": [
  {
   "cell_type": "code",
   "execution_count": 2,
   "id": "signal-distribution",
   "metadata": {},
   "outputs": [],
   "source": [
    "import pandas as pd\n",
    "import numpy as np\n",
    "import spacy\n",
    "\n",
    "from sklearn.metrics import classification_report\n",
    "from sklearn.feature_extraction.text import TfidfVectorizer\n",
    "\n",
    "import joblib\n",
    "\n",
    "import matplotlib.pyplot as plt\n",
    "import seaborn as sns\n",
    "\n",
    "from sklearn.metrics import plot_confusion_matrix\n",
    "from sklearn.metrics import confusion_matrix"
   ]
  },
  {
   "cell_type": "markdown",
   "id": "aboriginal-relevance",
   "metadata": {},
   "source": [
    "Functions:"
   ]
  },
  {
   "cell_type": "code",
   "execution_count": 3,
   "id": "opposed-station",
   "metadata": {},
   "outputs": [],
   "source": [
    "# Function For Text Normalization\n",
    "def clean_text(data):\n",
    "    urls = r'http\\S+'\n",
    "    non_unicode_char = r'\\W'\n",
    "    numbers = r'[0-9_]'\n",
    "    fix_whitespace = r'\\s+'\n",
    "    single_whitespace = ' '\n",
    "    \n",
    "    data = (data.replace([urls], single_whitespace, regex=True)\n",
    "                    .replace([non_unicode_char, numbers], single_whitespace, regex=True)\n",
    "                    .replace(fix_whitespace, single_whitespace, regex=True))\n",
    "    data = data.apply(lambda s: s.lower() if type(s) == str else s)\n",
    "    return data\n",
    "\n",
    "# NLP Functions\n",
    "nlp_el = spacy.load('el_core_news_md')\n",
    "nlp_en = spacy.load('en_core_web_sm')\n",
    "STOPWORDS = set(list(spacy.lang.en.STOP_WORDS) + list(spacy.lang.el.STOP_WORDS))\n",
    "\n",
    "def remove_stopwords(row):\n",
    "    row = [str(token) for token in nlp_el(row)]\n",
    "    return [w for w in row if w not in STOPWORDS]\n",
    "\n",
    "def tokenize_lemmatize(row):\n",
    "    return [str(token.lemma_) for token in nlp_el(row)]\n"
   ]
  },
  {
   "cell_type": "markdown",
   "id": "lightweight-basin",
   "metadata": {},
   "source": [
    "Load Dataset:"
   ]
  },
  {
   "cell_type": "code",
   "execution_count": 4,
   "id": "composite-maximum",
   "metadata": {},
   "outputs": [
    {
     "data": {
      "text/html": [
       "<div>\n",
       "<style scoped>\n",
       "    .dataframe tbody tr th:only-of-type {\n",
       "        vertical-align: middle;\n",
       "    }\n",
       "\n",
       "    .dataframe tbody tr th {\n",
       "        vertical-align: top;\n",
       "    }\n",
       "\n",
       "    .dataframe thead th {\n",
       "        text-align: right;\n",
       "    }\n",
       "</style>\n",
       "<table border=\"1\" class=\"dataframe\">\n",
       "  <thead>\n",
       "    <tr style=\"text-align: right;\">\n",
       "      <th></th>\n",
       "      <th>screen_name</th>\n",
       "      <th>name</th>\n",
       "      <th>description</th>\n",
       "      <th>statuses_count</th>\n",
       "      <th>recent_100_tweets</th>\n",
       "      <th>friends_count</th>\n",
       "      <th>recent_100_friends_nd</th>\n",
       "      <th>followers_count</th>\n",
       "      <th>default_profile_image</th>\n",
       "      <th>favourites_count</th>\n",
       "      <th>parliament_member</th>\n",
       "      <th>friends_politician_count_1000</th>\n",
       "      <th>followers_politician_count_1000</th>\n",
       "      <th>mentions_politician_count</th>\n",
       "    </tr>\n",
       "  </thead>\n",
       "  <tbody>\n",
       "    <tr>\n",
       "      <th>0</th>\n",
       "      <td>papakostakater</td>\n",
       "      <td>ΚΑΤΕΡΙΝΑ ΠΑΠΑΚΩΣΤΑ - ΠΑΛΙΟΥΡΑ</td>\n",
       "      <td>Δικηγόρος ~ \\nΒουλευτής Νέας Δημοκρατίας Νομού...</td>\n",
       "      <td>77</td>\n",
       "      <td>RT @MarkopoulosChTh: The ReMARKables: Η Βουλε...</td>\n",
       "      <td>202</td>\n",
       "      <td>Markopoulos_Ch_Th | BA Communication Speciali...</td>\n",
       "      <td>159</td>\n",
       "      <td>False</td>\n",
       "      <td>94</td>\n",
       "      <td>1</td>\n",
       "      <td>98</td>\n",
       "      <td>13.0</td>\n",
       "      <td>0</td>\n",
       "    </tr>\n",
       "    <tr>\n",
       "      <th>1</th>\n",
       "      <td>raptizoi</td>\n",
       "      <td>Ζωή Ράπτη</td>\n",
       "      <td>Υφυπουργός Υγείας, Bουλευτής Β1 Βορείου Τομέα ...</td>\n",
       "      <td>1891</td>\n",
       "      <td>RT @MegaTvOfficial: Πολιτική αντιπαράθεση για...</td>\n",
       "      <td>861</td>\n",
       "      <td>Kamala Harris Fighting for the people. Wife, ...</td>\n",
       "      <td>2667</td>\n",
       "      <td>False</td>\n",
       "      <td>4252</td>\n",
       "      <td>1</td>\n",
       "      <td>251</td>\n",
       "      <td>4.0</td>\n",
       "      <td>50</td>\n",
       "    </tr>\n",
       "    <tr>\n",
       "      <th>2</th>\n",
       "      <td>nkerameus</td>\n",
       "      <td>Niki Kerameus</td>\n",
       "      <td>Υπουργός Παιδείας και Θρησκευμάτων, Βουλευτής ...</td>\n",
       "      <td>5135</td>\n",
       "      <td>Ένα είναι το μήνυμα της σημερινής ημέρας προς...</td>\n",
       "      <td>714</td>\n",
       "      <td>European Commission 🇪🇺 News and information f...</td>\n",
       "      <td>40000</td>\n",
       "      <td>False</td>\n",
       "      <td>2809</td>\n",
       "      <td>1</td>\n",
       "      <td>202</td>\n",
       "      <td>0.0</td>\n",
       "      <td>32</td>\n",
       "    </tr>\n",
       "    <tr>\n",
       "      <th>3</th>\n",
       "      <td>AndreasPoulas</td>\n",
       "      <td>Ανδρέας Πουλάς</td>\n",
       "      <td>Βουλευτής Ν. Αργολίδας - ΚΙΝΗΜΑ ΑΛΛΑΓΗΣ</td>\n",
       "      <td>326</td>\n",
       "      <td>RT @amna_news: .@AndreasPoulas (#ΚΙΝΑΛ): «Πολ...</td>\n",
       "      <td>99</td>\n",
       "      <td>Aggelos Gavris Αρχισυντάκτης / ιδιοκτήτης @Th...</td>\n",
       "      <td>389</td>\n",
       "      <td>False</td>\n",
       "      <td>200</td>\n",
       "      <td>1</td>\n",
       "      <td>43</td>\n",
       "      <td>9.0</td>\n",
       "      <td>22</td>\n",
       "    </tr>\n",
       "    <tr>\n",
       "      <th>4</th>\n",
       "      <td>Dora_Bakoyannis</td>\n",
       "      <td>Ντόρα Μπακογιάννη</td>\n",
       "      <td>To λογαριασμό συνήθως χειρίζεται συνεργάτης μο...</td>\n",
       "      <td>13916</td>\n",
       "      <td>Συνέντευξη Ντόρας Μπακογιάννη στον @SkaitvGR ...</td>\n",
       "      <td>6825</td>\n",
       "      <td>Michael Bertakis 36 years old Work Provisions...</td>\n",
       "      <td>155118</td>\n",
       "      <td>False</td>\n",
       "      <td>3184</td>\n",
       "      <td>1</td>\n",
       "      <td>103</td>\n",
       "      <td>0.0</td>\n",
       "      <td>6</td>\n",
       "    </tr>\n",
       "  </tbody>\n",
       "</table>\n",
       "</div>"
      ],
      "text/plain": [
       "       screen_name                           name  \\\n",
       "0   papakostakater  ΚΑΤΕΡΙΝΑ ΠΑΠΑΚΩΣΤΑ - ΠΑΛΙΟΥΡΑ   \n",
       "1         raptizoi                      Ζωή Ράπτη   \n",
       "2        nkerameus                  Niki Kerameus   \n",
       "3    AndreasPoulas                 Ανδρέας Πουλάς   \n",
       "4  Dora_Bakoyannis              Ντόρα Μπακογιάννη   \n",
       "\n",
       "                                         description  statuses_count  \\\n",
       "0  Δικηγόρος ~ \\nΒουλευτής Νέας Δημοκρατίας Νομού...              77   \n",
       "1  Υφυπουργός Υγείας, Bουλευτής Β1 Βορείου Τομέα ...            1891   \n",
       "2  Υπουργός Παιδείας και Θρησκευμάτων, Βουλευτής ...            5135   \n",
       "3            Βουλευτής Ν. Αργολίδας - ΚΙΝΗΜΑ ΑΛΛΑΓΗΣ             326   \n",
       "4  To λογαριασμό συνήθως χειρίζεται συνεργάτης μο...           13916   \n",
       "\n",
       "                                   recent_100_tweets  friends_count  \\\n",
       "0   RT @MarkopoulosChTh: The ReMARKables: Η Βουλε...            202   \n",
       "1   RT @MegaTvOfficial: Πολιτική αντιπαράθεση για...            861   \n",
       "2   Ένα είναι το μήνυμα της σημερινής ημέρας προς...            714   \n",
       "3   RT @amna_news: .@AndreasPoulas (#ΚΙΝΑΛ): «Πολ...             99   \n",
       "4   Συνέντευξη Ντόρας Μπακογιάννη στον @SkaitvGR ...           6825   \n",
       "\n",
       "                               recent_100_friends_nd  followers_count  \\\n",
       "0   Markopoulos_Ch_Th | BA Communication Speciali...              159   \n",
       "1   Kamala Harris Fighting for the people. Wife, ...             2667   \n",
       "2   European Commission 🇪🇺 News and information f...            40000   \n",
       "3   Aggelos Gavris Αρχισυντάκτης / ιδιοκτήτης @Th...              389   \n",
       "4   Michael Bertakis 36 years old Work Provisions...           155118   \n",
       "\n",
       "   default_profile_image  favourites_count  parliament_member  \\\n",
       "0                  False                94                  1   \n",
       "1                  False              4252                  1   \n",
       "2                  False              2809                  1   \n",
       "3                  False               200                  1   \n",
       "4                  False              3184                  1   \n",
       "\n",
       "   friends_politician_count_1000  followers_politician_count_1000  \\\n",
       "0                             98                             13.0   \n",
       "1                            251                              4.0   \n",
       "2                            202                              0.0   \n",
       "3                             43                              9.0   \n",
       "4                            103                              0.0   \n",
       "\n",
       "   mentions_politician_count  \n",
       "0                          0  \n",
       "1                         50  \n",
       "2                         32  \n",
       "3                         22  \n",
       "4                          6  "
      ]
     },
     "execution_count": 4,
     "metadata": {},
     "output_type": "execute_result"
    }
   ],
   "source": [
    "validation_set = pd.read_csv('../../../../datasets/Greek Politicians/classification/parliament_members_validation_set.csv')\n",
    "validation_set = validation_set.replace(np.nan, '')\n",
    "validation_set.head()"
   ]
  },
  {
   "cell_type": "code",
   "execution_count": 4,
   "id": "natural-charter",
   "metadata": {},
   "outputs": [],
   "source": [
    "# Variable to Hold predicted labels \n",
    "predictions = pd.DataFrame()\n",
    "predictions['screen_name'] = validation_set['screen_name']\n",
    "predictions['true_label'] = validation_set['parliament_member']"
   ]
  },
  {
   "cell_type": "markdown",
   "id": "electrical-enlargement",
   "metadata": {},
   "source": [
    "# Case 1: Lower threshold\n",
    "---"
   ]
  },
  {
   "cell_type": "code",
   "execution_count": 5,
   "id": "signal-vulnerability",
   "metadata": {},
   "outputs": [],
   "source": [
    "def get_text_data_nd(df):\n",
    "    df['textdata'] = clean_text(df['name'] + ' ' + df['description'])\n",
    "    df['textdata'] = df['textdata'].apply(lambda row: tokenize_lemmatize(row))\n",
    "    df['textdata'] = df['textdata'].apply(lambda row: ' '.join(row))\n",
    "    df['textdata'] = df['textdata'].apply(lambda row: remove_stopwords(row))\n",
    "    df['textdata'] = df['textdata'].apply(lambda row: ' '.join(row))\n",
    "    \n",
    "    return df.textdata\n",
    "\n",
    "# Load the model\n",
    "model_nd = joblib.load('../classifiers/classifier_politician_nd.sav')\n",
    "\n",
    "\n",
    "predicted_proba = model_nd.predict_proba(validation_set)"
   ]
  },
  {
   "cell_type": "code",
   "execution_count": 6,
   "id": "younger-africa",
   "metadata": {},
   "outputs": [],
   "source": [
    "def get_labels(predicted_proba, threshold):\n",
    "    labels = []\n",
    "    for proba in predicted_proba[:,1]:\n",
    "        if proba > threshold:\n",
    "            labels.append(1)\n",
    "        else:\n",
    "            labels.append(0)\n",
    "    return labels\n",
    "\n",
    "\n",
    "labels_50 = get_labels(predicted_proba,0.50)\n",
    "labels_49 = get_labels(predicted_proba,0.49)\n",
    "labels_48 = get_labels(predicted_proba,0.48)\n",
    "labels_46 = get_labels(predicted_proba,0.46)"
   ]
  },
  {
   "cell_type": "code",
   "execution_count": 19,
   "id": "essential-scale",
   "metadata": {},
   "outputs": [],
   "source": [
    "from sklearn.metrics import precision_score, recall_score\n",
    "\n",
    "y_true = validation_set.parliament_member\n",
    "\n",
    "y_pred = labels_50\n",
    "prec_50, rec_50 = precision_score(y_true, y_pred, pos_label=1).round(2), recall_score(y_true, y_pred, pos_label=1).round(2)\n",
    "\n",
    "y_pred = labels_49\n",
    "prec_49, rec_49 = precision_score(y_true, y_pred, pos_label=1).round(2), recall_score(y_true, y_pred, pos_label=1).round(2)\n",
    "\n",
    "y_pred = labels_48\n",
    "prec_48, rec_48 = precision_score(y_true, y_pred, pos_label=1).round(2), recall_score(y_true, y_pred, pos_label=1).round(2)\n",
    "\n",
    "y_pred = labels_46\n",
    "prec_46, rec_46 = precision_score(y_true, y_pred, pos_label=1, zero_division=1).round(2), recall_score(y_true, y_pred, pos_label=1).round(2)\n",
    "\n",
    "\n",
    "\n",
    "y_pred = labels_50\n",
    "prec_50_others, rec_50_others = precision_score(y_true, y_pred, pos_label=0).round(2), recall_score(y_true, y_pred, pos_label=0).round(2)\n",
    "\n",
    "y_pred = labels_49\n",
    "prec_49_others, rec_49_others = precision_score(y_true, y_pred, pos_label=0).round(2), recall_score(y_true, y_pred, pos_label=0).round(2)\n",
    "\n",
    "y_pred = labels_48\n",
    "prec_48_others, rec_48_others = precision_score(y_true, y_pred, pos_label=0).round(2), recall_score(y_true, y_pred, pos_label=0).round(2)\n",
    "\n",
    "y_pred = labels_46\n",
    "prec_46_others, rec_46_others = precision_score(y_true, y_pred, pos_label=0, zero_division=1).round(2), recall_score(y_true, y_pred, pos_label=0).round(2)"
   ]
  },
  {
   "cell_type": "code",
   "execution_count": 20,
   "id": "challenging-portable",
   "metadata": {},
   "outputs": [
    {
     "name": "stdout",
     "output_type": "stream",
     "text": [
      "---- Metrics for Class Others ----\n",
      "Threshold= 0.50 --> Precision= 0.86, Recall=0.98\n",
      "Threshold= 0.49 --> Precision= 0.89, Recall=0.94\n",
      "Threshold= 0.48 --> Precision= 0.96, Recall=0.44\n",
      "Threshold= 0.46 --> Precision= 1.0, Recall=0.0\n"
     ]
    },
    {
     "data": {
      "image/png": "[encoded data removed]",
      "text/plain": [
       "<Figure size 540x360 with 1 Axes>"
      ]
     },
     "metadata": {
      "needs_background": "light"
     },
     "output_type": "display_data"
    }
   ],
   "source": [
    "fig, ax = plt.subplots(figsize=[7.5,5])\n",
    "plot = sns.scatterplot(x=validation_set.index, y = predicted_proba[:,1], hue=validation_set.parliament_member)\n",
    "plot.axhline(0.5, ls='--', c='green', label='1')\n",
    "plot.axhline(0.49, ls='--', c='blue', label='2')\n",
    "plot.axhline(0.48, ls='--', c='orange', label='3')\n",
    "plot.axhline(0.46, ls='--', c = 'red', label='4')\n",
    "\n",
    "labels = [f'Threshold= 0.50 --> Precision= {prec_50}, Recall={rec_50}',\n",
    "          f'Threshold= 0.49 --> Precision= {prec_49}, Recall={rec_49}', \n",
    "          f'Threshold= 0.48 --> Precision= {prec_48}, Recall={rec_48}', \n",
    "          f'Threshold= 0.46 --> Precision= {prec_46}0, Recall={rec_46}0',\n",
    "          \"Others\", \n",
    "          \"Members of the Parliament\"]\n",
    "handles, _ = ax.get_legend_handles_labels()\n",
    "\n",
    "# Slice list to remove first handle\n",
    "plt.legend(handles = handles, labels = labels, bbox_to_anchor=(1.1,0.90), loc=2, borderaxespad=0., fontsize='x-large')\n",
    "\n",
    "print('---- Metrics for Class Others ----')\n",
    "print(f'Threshold= 0.50 --> Precision= {prec_50_others}, Recall={rec_50_others}')\n",
    "print(f'Threshold= 0.49 --> Precision= {prec_49_others}, Recall={rec_49_others}')\n",
    "print(f'Threshold= 0.48 --> Precision= {prec_48_others}, Recall={rec_48_others}')\n",
    "print(f'Threshold= 0.46 --> Precision= {prec_46_others}, Recall={rec_46_others}')"
   ]
  },
  {
   "cell_type": "markdown",
   "id": "partial-arkansas",
   "metadata": {},
   "source": [
    "# Train using class weights"
   ]
  },
  {
   "cell_type": "code",
   "execution_count": 5,
   "id": "sized-default",
   "metadata": {},
   "outputs": [],
   "source": [
    "import pandas as pd\n",
    "import numpy as np\n",
    "import matplotlib.pyplot as plt\n",
    "import spacy\n",
    "import json\n",
    "import tweepy\n",
    "import time\n",
    "\n",
    "from tqdm.notebook import tqdm\n",
    "from sklearn.feature_extraction.text import TfidfVectorizer\n",
    "from sklearn.feature_extraction.text import CountVectorizer\n",
    "from sklearn.model_selection import cross_validate\n",
    "from sklearn.preprocessing import FunctionTransformer\n",
    "\n",
    "from sklearn import svm\n",
    "from sklearn.neighbors import KNeighborsClassifier\n",
    "from sklearn.linear_model import LogisticRegression\n",
    "\n",
    "from sklearn.model_selection import GridSearchCV\n",
    "from sklearn.pipeline import Pipeline\n",
    "\n",
    "import joblib\n",
    "\n",
    "from sklearn.metrics import precision_score, recall_score\n",
    "\n",
    "# Function For Text Normalization\n",
    "def clean_text(data):\n",
    "    urls = r'http\\S+'\n",
    "    non_unicode_char = r'\\W'\n",
    "    numbers = r'[0-9_]'\n",
    "    fix_whitespace = r'\\s+'\n",
    "    single_whitespace = ' '\n",
    "    \n",
    "    data = (data.replace([urls], single_whitespace, regex=True)\n",
    "                    .replace([non_unicode_char, numbers], single_whitespace, regex=True)\n",
    "                    .replace(fix_whitespace, single_whitespace, regex=True))\n",
    "    data = data.apply(lambda s: s.lower() if type(s) == str else s)\n",
    "    return data\n",
    "\n",
    "nlp_el = spacy.load('el_core_news_md')\n",
    "nlp_en = spacy.load('en_core_web_sm')\n",
    "STOPWORDS = set(list(spacy.lang.en.STOP_WORDS) + list(spacy.lang.el.STOP_WORDS))\n",
    "\n",
    "def remove_stopwords(row):\n",
    "    row = [str(token) for token in nlp_el(row)]\n",
    "    return [w for w in row if w not in STOPWORDS]\n",
    "\n",
    "def tokenize_lemmatize(row):\n",
    "    return [str(token.lemma_) for token in nlp_el(row)]"
   ]
  },
  {
   "cell_type": "code",
   "execution_count": 6,
   "id": "chicken-january",
   "metadata": {},
   "outputs": [],
   "source": [
    "# Read Training Set\n",
    "training_set = pd.read_csv('../../../../datasets/Greek Politicians/classification/parliament_members_training_set.csv', \n",
    "                           usecols=['screen_name', 'name', 'description', 'parliament_member'])\n",
    "training_set = training_set.replace(np.nan, '')"
   ]
  },
  {
   "cell_type": "code",
   "execution_count": 7,
   "id": "phantom-regular",
   "metadata": {},
   "outputs": [],
   "source": [
    "def get_text_data_parl_nd(df):\n",
    "    df = df.copy()\n",
    "    df['textdata'] = clean_text(df['name'] + ' ' + df['description'])\n",
    "    df['textdata'] = df['textdata'].apply(lambda row: tokenize_lemmatize(row))\n",
    "    df['textdata'] = df['textdata'].apply(lambda row: ' '.join(row))\n",
    "    df['textdata'] = df['textdata'].apply(lambda row: remove_stopwords(row))\n",
    "    df['textdata'] = df['textdata'].apply(lambda row: ' '.join(row))\n",
    "    \n",
    "    return df.textdata\n",
    "\n",
    "\n",
    "get_text = FunctionTransformer(get_text_data_parl_nd)"
   ]
  },
  {
   "cell_type": "code",
   "execution_count": 8,
   "id": "traditional-fancy",
   "metadata": {},
   "outputs": [
    {
     "data": {
      "application/vnd.jupyter.widget-view+json": {
       "model_id": "1876821bbcb14e06a29e290e91db8c63",
       "version_major": 2,
       "version_minor": 0
      },
      "text/plain": [
       "  0%|          | 0/100 [00:00<?, ?it/s]"
      ]
     },
     "metadata": {},
     "output_type": "display_data"
    },
    {
     "name": "stdout",
     "output_type": "stream",
     "text": [
      "(0.5, 1.0, {0: 0.01, 1: 0.99})\n",
      "(0.5, 1.0, {0: 0.02, 1: 0.98})\n",
      "(0.5, 1.0, {0: 0.03, 1: 0.97})\n",
      "(0.5, 1.0, {0: 0.04, 1: 0.96})\n",
      "(0.5, 1.0, {0: 0.05, 1: 0.95})\n",
      "(0.5, 1.0, {0: 0.06, 1: 0.94})\n",
      "(0.5, 1.0, {0: 0.07, 1: 0.93})\n",
      "(0.5, 1.0, {0: 0.08, 1: 0.92})\n",
      "(0.5, 1.0, {0: 0.09, 1: 0.91})\n",
      "(0.5, 1.0, {0: 0.1, 1: 0.9})\n",
      "(0.5, 1.0, {0: 0.11, 1: 0.89})\n",
      "(0.5, 1.0, {0: 0.12, 1: 0.88})\n",
      "(0.5, 1.0, {0: 0.13, 1: 0.87})\n",
      "(0.5, 1.0, {0: 0.14, 1: 0.86})\n",
      "(0.5, 1.0, {0: 0.15, 1: 0.85})\n",
      "(0.5, 1.0, {0: 0.16, 1: 0.84})\n",
      "(0.5, 1.0, {0: 0.17, 1: 0.83})\n",
      "(0.5, 1.0, {0: 0.18, 1: 0.82})\n",
      "(0.5, 1.0, {0: 0.19, 1: 0.81})\n",
      "(0.5, 1.0, {0: 0.2, 1: 0.8})\n",
      "(0.5, 1.0, {0: 0.21, 1: 0.79})\n",
      "(0.5, 1.0, {0: 0.22, 1: 0.78})\n",
      "(0.5, 1.0, {0: 0.23, 1: 0.77})\n",
      "(0.5, 1.0, {0: 0.24, 1: 0.76})\n",
      "(0.5, 1.0, {0: 0.25, 1: 0.75})\n",
      "(0.5, 1.0, {0: 0.26, 1: 0.74})\n",
      "(0.5, 1.0, {0: 0.27, 1: 0.73})\n",
      "(0.5, 1.0, {0: 0.28, 1: 0.72})\n",
      "(0.5, 1.0, {0: 0.29, 1: 0.71})\n",
      "(0.5, 1.0, {0: 0.3, 1: 0.7})\n",
      "(0.5, 1.0, {0: 0.31, 1: 0.69})\n",
      "(0.5, 1.0, {0: 0.32, 1: 0.68})\n",
      "(0.5, 1.0, {0: 0.33, 1: 0.67})\n",
      "(0.5, 1.0, {0: 0.34, 1: 0.66})\n",
      "(0.5, 1.0, {0: 0.35, 1: 0.65})\n",
      "(0.5, 1.0, {0: 0.36, 1: 0.64})\n",
      "(0.5, 1.0, {0: 0.37, 1: 0.63})\n",
      "(0.5, 1.0, {0: 0.38, 1: 0.62})\n",
      "(0.5, 1.0, {0: 0.39, 1: 0.61})\n",
      "(0.5, 1.0, {0: 0.4, 1: 0.6})\n",
      "(0.5, 1.0, {0: 0.41, 1: 0.59})\n",
      "(0.5, 1.0, {0: 0.42, 1: 0.58})\n",
      "(0.5, 1.0, {0: 0.43, 1: 0.57})\n",
      "(0.5, 1.0, {0: 0.44, 1: 0.56})\n",
      "(0.5, 1.0, {0: 0.45, 1: 0.55})\n",
      "(0.5, 1.0, {0: 0.46, 1: 0.54})\n",
      "(0.5, 1.0, {0: 0.47, 1: 0.53})\n",
      "(0.5, 1.0, {0: 0.48, 1: 0.52})\n",
      "(0.5252, 0.9733, {0: 0.49, 1: 0.51})\n",
      "(0.9693, 0.8333, {0: 0.5, 1: 0.5})\n",
      "(1.0, 0.6533, {0: 0.51, 1: 0.49})\n",
      "(1.0, 0.2067, {0: 0.52, 1: 0.48})\n",
      "(1.0, 0.0333, {0: 0.53, 1: 0.47})\n",
      "(1.0, 0.0133, {0: 0.54, 1: 0.46})\n",
      "(1.0, 0.0067, {0: 0.55, 1: 0.45})\n",
      "(1.0, 0.0, {0: 0.56, 1: 0.44})\n",
      "(1.0, 0.0, {0: 0.57, 1: 0.43})\n",
      "(1.0, 0.0, {0: 0.58, 1: 0.42})\n",
      "(1.0, 0.0, {0: 0.59, 1: 0.41})\n",
      "(1.0, 0.0, {0: 0.6, 1: 0.4})\n",
      "(1.0, 0.0, {0: 0.61, 1: 0.39})\n",
      "(1.0, 0.0, {0: 0.62, 1: 0.38})\n",
      "(1.0, 0.0, {0: 0.63, 1: 0.37})\n",
      "(1.0, 0.0, {0: 0.64, 1: 0.36})\n",
      "(1.0, 0.0, {0: 0.65, 1: 0.35})\n",
      "(1.0, 0.0, {0: 0.66, 1: 0.34})\n",
      "(1.0, 0.0, {0: 0.67, 1: 0.33})\n",
      "(1.0, 0.0, {0: 0.68, 1: 0.32})\n",
      "(1.0, 0.0, {0: 0.69, 1: 0.31})\n",
      "(1.0, 0.0, {0: 0.7, 1: 0.3})\n",
      "(1.0, 0.0, {0: 0.71, 1: 0.29})\n",
      "(1.0, 0.0, {0: 0.72, 1: 0.28})\n",
      "(1.0, 0.0, {0: 0.73, 1: 0.27})\n",
      "(1.0, 0.0, {0: 0.74, 1: 0.26})\n",
      "(1.0, 0.0, {0: 0.75, 1: 0.25})\n",
      "(1.0, 0.0, {0: 0.76, 1: 0.24})\n",
      "(1.0, 0.0, {0: 0.77, 1: 0.23})\n",
      "(1.0, 0.0, {0: 0.78, 1: 0.22})\n",
      "(1.0, 0.0, {0: 0.79, 1: 0.21})\n",
      "(1.0, 0.0, {0: 0.8, 1: 0.2})\n",
      "(1.0, 0.0, {0: 0.81, 1: 0.19})\n",
      "(1.0, 0.0, {0: 0.82, 1: 0.18})\n",
      "(1.0, 0.0, {0: 0.83, 1: 0.17})\n",
      "(1.0, 0.0, {0: 0.84, 1: 0.16})\n",
      "(1.0, 0.0, {0: 0.85, 1: 0.15})\n",
      "(1.0, 0.0, {0: 0.86, 1: 0.14})\n",
      "(1.0, 0.0, {0: 0.87, 1: 0.13})\n",
      "(1.0, 0.0, {0: 0.88, 1: 0.12})\n",
      "(1.0, 0.0, {0: 0.89, 1: 0.11})\n",
      "(1.0, 0.0, {0: 0.9, 1: 0.1})\n",
      "(1.0, 0.0, {0: 0.91, 1: 0.09})\n",
      "(1.0, 0.0, {0: 0.92, 1: 0.08})\n",
      "(1.0, 0.0, {0: 0.93, 1: 0.07})\n",
      "(1.0, 0.0, {0: 0.94, 1: 0.06})\n",
      "(1.0, 0.0, {0: 0.95, 1: 0.05})\n",
      "(1.0, 0.0, {0: 0.96, 1: 0.04})\n",
      "(1.0, 0.0, {0: 0.97, 1: 0.03})\n",
      "(1.0, 0.0, {0: 0.98, 1: 0.02})\n",
      "(1.0, 0.0, {0: 0.99, 1: 0.01})\n",
      "(1.0, 0.0, {0: 1.0, 1: 0.0})\n"
     ]
    }
   ],
   "source": [
    "weights = np.linspace(0.01, 1, 100)\n",
    "weights = [weight.round(4) for weight in weights]\n",
    "params = [{0:x, 1:(1.0-x).round(4)} for x in weights]\n",
    "\n",
    "X = training_set\n",
    "y = training_set['parliament_member']\n",
    "\n",
    "def score_fun_rec(estimator, X_test, y_true):\n",
    "    y_pred = estimator.predict(X_test)\n",
    "    return recall_score(y_true, y_pred, pos_label=1, zero_division=1)\n",
    "                        \n",
    "def score_fun_pre(estimator, X_test, y_true):\n",
    "    y_pred = estimator.predict(X_test)\n",
    "    return precision_score(y_true, y_pred, pos_label=1, zero_division=1) \n",
    "\n",
    "precisions = []\n",
    "recalls = []\n",
    "ws = []\n",
    "for param in tqdm(params):\n",
    "    pipeline = Pipeline([\n",
    "        ('selector', get_text),\n",
    "        ('tfidf', TfidfVectorizer(max_df=0.5, max_features=2000, min_df=1)),\n",
    "        ('lr', LogisticRegression(max_iter=1000, C=0.1, penalty = 'l2', class_weight=param))\n",
    "        ])\n",
    "    cv_score= cross_validate(pipeline, X, y, cv=3, scoring={'recall':score_fun_rec, 'precision':score_fun_pre})\n",
    "    prec = cv_score['test_precision'].mean().round(4)\n",
    "    reca = cv_score['test_recall'].mean().round(4)\n",
    "    \n",
    "    precisions.append(prec)\n",
    "    recalls.append(reca)\n",
    "    ws.append(param[1])\n",
    "    print((prec,reca, param))"
   ]
  },
  {
   "cell_type": "code",
   "execution_count": 11,
   "id": "medium-behalf",
   "metadata": {},
   "outputs": [
    {
     "data": {
      "text/plain": [
       "<AxesSubplot:>"
      ]
     },
     "execution_count": 11,
     "metadata": {},
     "output_type": "execute_result"
    },
    {
     "data": {
      "image/png": "[encoded data removed]",
      "text/plain": [
       "<Figure size 432x288 with 1 Axes>"
      ]
     },
     "metadata": {
      "needs_background": "light"
     },
     "output_type": "display_data"
    }
   ],
   "source": [
    "sns.lineplot(x=ws[40:60], y=precisions[40:60], marker = 'o', label='Precision Scores')\n",
    "sns.lineplot(x=ws[40:60], y=recalls[40:60], marker = 'X', label='Recall Scores')"
   ]
  },
  {
   "cell_type": "code",
   "execution_count": 32,
   "id": "warming-timer",
   "metadata": {},
   "outputs": [],
   "source": [
    "pipeline = Pipeline([\n",
    "        ('selector', get_text),\n",
    "        ('tfidf', TfidfVectorizer(max_df=0.5, max_features=2000, min_df=1)),\n",
    "        ('lr', LogisticRegression(max_iter=1000, C=0.1, penalty = 'l2', class_weight={0:1-0.51, 1:0.51}))\n",
    "        ]).fit(X,y)"
   ]
  },
  {
   "cell_type": "code",
   "execution_count": 33,
   "id": "played-spain",
   "metadata": {},
   "outputs": [],
   "source": [
    "y_pred = pipeline.predict(validation_set)"
   ]
  },
  {
   "cell_type": "code",
   "execution_count": 34,
   "id": "crazy-regard",
   "metadata": {},
   "outputs": [
    {
     "name": "stdout",
     "output_type": "stream",
     "text": [
      "                       precision    recall  f1-score   support\n",
      "\n",
      "Not-Parliament-Member       0.96      0.52      0.68        50\n",
      "    Parliament-Member       0.67      0.98      0.80        50\n",
      "\n",
      "             accuracy                           0.75       100\n",
      "            macro avg       0.82      0.75      0.74       100\n",
      "         weighted avg       0.82      0.75      0.74       100\n",
      "\n"
     ]
    },
    {
     "data": {
      "text/plain": [
       "<sklearn.metrics._plot.confusion_matrix.ConfusionMatrixDisplay at 0x7ff73e70cac0>"
      ]
     },
     "execution_count": 34,
     "metadata": {},
     "output_type": "execute_result"
    },
    {
     "data": {
      "image/png": "[encoded data removed]",
      "text/plain": [
       "<Figure size 432x288 with 2 Axes>"
      ]
     },
     "metadata": {
      "needs_background": "light"
     },
     "output_type": "display_data"
    }
   ],
   "source": [
    "target_names = ['Not-Parliament-Member', 'Parliament-Member']\n",
    "predicted_labels = pipeline.predict(validation_set)\n",
    "print(classification_report(y_true = validation_set.parliament_member, y_pred=predicted_labels, target_names=target_names))\n",
    "plot_confusion_matrix(pipeline, validation_set, validation_set.parliament_member, display_labels=target_names, xticks_rotation=45, cmap=plt.cm.Blues)"
   ]
  },
  {
   "cell_type": "code",
   "execution_count": null,
   "id": "fiscal-inventory",
   "metadata": {},
   "outputs": [],
   "source": []
  }
 ],
 "metadata": {
  "kernelspec": {
   "display_name": "Python 3",
   "language": "python",
   "name": "python3"
  },
  "language_info": {
   "codemirror_mode": {
    "name": "ipython",
    "version": 3
   },
   "file_extension": ".py",
   "mimetype": "text/x-python",
   "name": "python",
   "nbconvert_exporter": "python",
   "pygments_lexer": "ipython3",
   "version": "3.8.5"
  }
 },
 "nbformat": 4,
 "nbformat_minor": 5
}
