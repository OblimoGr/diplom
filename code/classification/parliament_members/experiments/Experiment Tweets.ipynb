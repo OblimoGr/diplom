{
 "cells": [
  {
   "cell_type": "markdown",
   "id": "following-gibson",
   "metadata": {},
   "source": [
    "# Classification Experiment: Tweets\n",
    "---\n",
    "This Notebook, includes a series of experiments, on using a node's tweets for classification."
   ]
  },
  {
   "cell_type": "markdown",
   "id": "express-transformation",
   "metadata": {},
   "source": [
    "Libraries:"
   ]
  },
  {
   "cell_type": "code",
   "execution_count": 45,
   "id": "photographic-anxiety",
   "metadata": {},
   "outputs": [],
   "source": [
    "import pandas as pd\n",
    "import numpy as np\n",
    "import matplotlib.pyplot as plt\n",
    "import spacy\n",
    "import json\n",
    "import tweepy\n",
    "import time\n",
    "\n",
    "from tqdm.notebook import tqdm\n",
    "from sklearn.feature_extraction.text import TfidfVectorizer\n",
    "from sklearn.feature_extraction.text import CountVectorizer\n",
    "from sklearn.model_selection import cross_validate\n",
    "from sklearn.preprocessing import FunctionTransformer\n",
    "from sklearn.pipeline import FeatureUnion\n",
    "from sklearn.decomposition import TruncatedSVD\n",
    "\n",
    "from sklearn import svm\n",
    "from sklearn.neighbors import KNeighborsClassifier\n",
    "from sklearn.linear_model import LogisticRegression\n",
    "\n",
    "from sklearn.model_selection import GridSearchCV\n",
    "from sklearn.pipeline import Pipeline\n",
    "\n",
    "import joblib"
   ]
  },
  {
   "cell_type": "markdown",
   "id": "incorporate-trout",
   "metadata": {},
   "source": [
    "Twitter API Authentication:"
   ]
  },
  {
   "cell_type": "code",
   "execution_count": 2,
   "id": "duplicate-reference",
   "metadata": {},
   "outputs": [],
   "source": [
    "twitter_credentials = []\n",
    "with open('../../../../twitter_credentials.json', 'r') as f:\n",
    "    twitter_credentials = json.load(f)\n",
    "\n",
    "auth = tweepy.OAuthHandler(twitter_credentials['consumer_key'], twitter_credentials['consumer_secret'])\n",
    "auth.set_access_token(twitter_credentials['access_token_key'],twitter_credentials['access_token_secret'])\n",
    "API = tweepy.API(auth, wait_on_rate_limit=True, wait_on_rate_limit_notify=True, timeout=600)"
   ]
  },
  {
   "cell_type": "markdown",
   "id": "organic-campus",
   "metadata": {},
   "source": [
    "Functions:"
   ]
  },
  {
   "cell_type": "code",
   "execution_count": 3,
   "id": "cleared-solution",
   "metadata": {},
   "outputs": [],
   "source": [
    "# Function For Fetching Tweets\n",
    "def fetch_tweets(data):\n",
    "    \n",
    "    recent_tweet = []\n",
    "    recent_10_tweets = []\n",
    "    recent_100_tweets = []\n",
    "    \n",
    "\n",
    "    for screen_name in tqdm(data):\n",
    "        tweet = str()\n",
    "        tweet10 = str()\n",
    "        tweet100 = str()\n",
    "        count = 0    \n",
    "        try:\n",
    "            for status in tweepy.Cursor(API.user_timeline, screen_name=screen_name).items(100):\n",
    "                tweet100 = tweet100 + ' ' + status.text                \n",
    "                if count == 0:\n",
    "                    tweet = tweet100\n",
    "                if count == 10:\n",
    "                    tweet10 = tweet100\n",
    "                count+= 1\n",
    "            \n",
    "        except tweepy.RateLimitError as err:\n",
    "            print('Rate Limit Hit. Wait 15min.')\n",
    "            time.sleep(60*15)\n",
    "            for status in tweepy.Cursor(API.user_timeline, screen_name=screen_name, extended=True).items(100):\n",
    "                tweet100 = tweet100 + ' ' + status.text\n",
    "                \n",
    "                if count == 0:\n",
    "                    tweet = tweet100\n",
    "                if count == 10:\n",
    "                    tweet10 = tweet100\n",
    "                count+= 1\n",
    "        except Exception as err:\n",
    "            pass\n",
    "            \n",
    "        recent_tweet.append(tweet)\n",
    "        recent_10_tweets.append(tweet10)   \n",
    "        recent_100_tweets.append(tweet100)\n",
    "            \n",
    "    return (recent_tweet, recent_10_tweets, recent_100_tweets)\n",
    "\n",
    "# Function For Text Normalization\n",
    "def clean_text(data):\n",
    "    urls = r'http\\S+'\n",
    "    non_unicode_char = r'\\W'\n",
    "    numbers = r'[0-9_]'\n",
    "    fix_whitespace = r'\\s+'\n",
    "    single_whitespace = ' '\n",
    "    \n",
    "    data = (data.replace([urls], single_whitespace, regex=True)\n",
    "                    .replace([non_unicode_char, numbers], single_whitespace, regex=True)\n",
    "                    .replace(fix_whitespace, single_whitespace, regex=True))\n",
    "    data = data.apply(lambda s: s.lower() if type(s) == str else s)\n",
    "    return data\n",
    "\n",
    "nlp_el = spacy.load('el_core_news_md')\n",
    "nlp_en = spacy.load('en_core_web_sm')\n",
    "STOPWORDS = set(list(spacy.lang.en.STOP_WORDS) + list(spacy.lang.el.STOP_WORDS))\n",
    "\n",
    "def remove_stopwords(row):\n",
    "    row = [str(token) for token in nlp_el(row)]\n",
    "    return [w for w in row if w not in STOPWORDS]\n",
    "\n",
    "def tokenize_lemmatize(row):\n",
    "    return [str(token.lemma_) for token in nlp_el(row)]\n",
    "\n",
    "# Function For Support Vector Machine\n",
    "def classification_svm(X, y, vect):\n",
    "    if vect == 'TF-IDF':\n",
    "        pipeline = Pipeline([\n",
    "            ('vectorizer', TfidfVectorizer()),\n",
    "            ('svm', svm.SVC())\n",
    "        ]\n",
    "        )\n",
    "    elif vect == 'BoW':\n",
    "        pipeline = Pipeline([\n",
    "            ('vectorizer', CountVectorizer()),\n",
    "            ('svm', svm.SVC())\n",
    "        ]\n",
    "        )\n",
    "\n",
    "    parameters = {'vectorizer__max_df': [0.25, 0.5, 0.75, 1],\n",
    "                  'vectorizer__min_df': [1, 5, 10, 25],\n",
    "                  'vectorizer__max_features': [10, 100, 1000, 2000, None],\n",
    "                  'svm__C' : [0.1,0.5,1,5,10],\n",
    "                  'svm__kernel':['linear', 'poly', 'rbf', 'sigmoid']\n",
    "                  }\n",
    "    \n",
    "    grid = GridSearchCV(pipeline, parameters, n_jobs = 4)\n",
    "    grid.fit(X, y)\n",
    "    \n",
    "    print(grid.best_params_)\n",
    "    return grid.best_score_\n",
    "\n",
    "# Function For Logistic Regression\n",
    "def classification_lr(X, y, vect):\n",
    "    if vect == 'TF-IDF':\n",
    "        pipeline = Pipeline([\n",
    "            ('vectorizer', TfidfVectorizer()),\n",
    "            ('lr', LogisticRegression(max_iter=1000))\n",
    "        ]\n",
    "        )\n",
    "    elif vect == 'BoW':\n",
    "        pipeline = Pipeline([\n",
    "            ('vectorizer', CountVectorizer()),\n",
    "            ('lr', LogisticRegression(max_iter=1000))\n",
    "        ]\n",
    "        )\n",
    "\n",
    "    parameters = {'vectorizer__max_df': [0.25, 0.5, 0.75, 1],\n",
    "                  'vectorizer__min_df': [1, 5, 10, 25],\n",
    "                  'vectorizer__max_features': [10, 100, 1000, 2000, None],\n",
    "                  'lr__penalty': ['l1', 'l2', 'elasticnet', 'none'],\n",
    "                  'lr__C': [0.1, 0.5, 1, 5, 10]\n",
    "                  }\n",
    "    \n",
    "    grid = GridSearchCV(pipeline, parameters, n_jobs = 4)\n",
    "    grid.fit(X, y)\n",
    "    \n",
    "    print(grid.best_params_)\n",
    "    return grid.best_score_\n",
    "\n",
    "# Function For kNN\n",
    "def classification_knn(X, y, vect):\n",
    "    if vect == 'TF-IDF':\n",
    "        pipeline = Pipeline([\n",
    "            ('vectorizer', TfidfVectorizer()),\n",
    "            ('knn', KNeighborsClassifier())\n",
    "        ]\n",
    "        )\n",
    "    elif vect == 'BoW':\n",
    "        pipeline = Pipeline([\n",
    "            ('vectorizer', CountVectorizer()),\n",
    "            ('knn', KNeighborsClassifier())\n",
    "        ]\n",
    "        )\n",
    "\n",
    "    parameters = {'vectorizer__max_df': [0.25, 0.5, 0.75, 1],\n",
    "                  'vectorizer__min_df': [1, 5, 10, 25],\n",
    "                  'vectorizer__max_features': [10, 100, 1000, 2000, None],\n",
    "                  'knn__n_neighbors': [1,2,3,4,5,6,7,8,9,10],\n",
    "                  'knn__weights': ['uniform', 'distance']\n",
    "                  }\n",
    "    \n",
    "    grid = GridSearchCV(pipeline, parameters, n_jobs = 4)\n",
    "    grid.fit(X, y)\n",
    "    \n",
    "    print(grid.best_params_)\n",
    "    return grid.best_score_\n",
    "\n",
    "\n",
    "def get_text_data_nd(df):\n",
    "    df['textdata'] = clean_text(df['name'] + ' ' + df['description'])\n",
    "    df['textdata'] = df['textdata'].apply(lambda row: tokenize_lemmatize(row))\n",
    "    df['textdata'] = df['textdata'].apply(lambda row: ' '.join(row))\n",
    "    df['textdata'] = df['textdata'].apply(lambda row: remove_stopwords(row))\n",
    "    df['textdata'] = df['textdata'].apply(lambda row: ' '.join(row))\n",
    "    \n",
    "    return df.textdata\n"
   ]
  },
  {
   "cell_type": "markdown",
   "id": "toxic-stereo",
   "metadata": {},
   "source": [
    "# Dataset\n",
    "---\n",
    "\n",
    "To begin with, we read our datasets, and fetch some tweets for each node creating 3 new fields:\n",
    "- recent_tweet\n",
    "- recent_10_tweets\n",
    "- recent_100_tweets"
   ]
  },
  {
   "cell_type": "code",
   "execution_count": 4,
   "id": "amber-repeat",
   "metadata": {},
   "outputs": [],
   "source": [
    "# Read Training Set\n",
    "training_set = pd.read_csv('../../../../datasets/Greek Politicians/classification/parliament_members_training_set.csv')\n",
    "training_set = training_set.replace(np.nan, '')"
   ]
  },
  {
   "cell_type": "code",
   "execution_count": 5,
   "id": "dirty-hours",
   "metadata": {},
   "outputs": [
    {
     "data": {
      "application/vnd.jupyter.widget-view+json": {
       "model_id": "81daee4ec16f4af7b2b1985b9dc7288e",
       "version_major": 2,
       "version_minor": 0
      },
      "text/plain": [
       "  0%|          | 0/300 [00:00<?, ?it/s]"
      ]
     },
     "metadata": {},
     "output_type": "display_data"
    }
   ],
   "source": [
    "tweets = fetch_tweets(training_set['screen_name'])"
   ]
  },
  {
   "cell_type": "code",
   "execution_count": 6,
   "id": "comfortable-lunch",
   "metadata": {},
   "outputs": [
    {
     "data": {
      "text/html": [
       "<div>\n",
       "<style scoped>\n",
       "    .dataframe tbody tr th:only-of-type {\n",
       "        vertical-align: middle;\n",
       "    }\n",
       "\n",
       "    .dataframe tbody tr th {\n",
       "        vertical-align: top;\n",
       "    }\n",
       "\n",
       "    .dataframe thead th {\n",
       "        text-align: right;\n",
       "    }\n",
       "</style>\n",
       "<table border=\"1\" class=\"dataframe\">\n",
       "  <thead>\n",
       "    <tr style=\"text-align: right;\">\n",
       "      <th></th>\n",
       "      <th>screen_name</th>\n",
       "      <th>name</th>\n",
       "      <th>description</th>\n",
       "      <th>statuses_count</th>\n",
       "      <th>parliament_member</th>\n",
       "      <th>recent_tweet</th>\n",
       "      <th>recent_10_tweets</th>\n",
       "      <th>recent_100_tweets</th>\n",
       "    </tr>\n",
       "  </thead>\n",
       "  <tbody>\n",
       "    <tr>\n",
       "      <th>0</th>\n",
       "      <td>evefthym</td>\n",
       "      <td>Ευάγγελος Ευθυμίου</td>\n",
       "      <td>Καναλάκι \\nΠάργα \\nΙωάννινα</td>\n",
       "      <td>135</td>\n",
       "      <td>0</td>\n",
       "      <td>#NewProfilePic https://t.co/h0wlMIS6U0</td>\n",
       "      <td>#NewProfilePic https://t.co/h0wlMIS6U0 @wavyp...</td>\n",
       "      <td>#NewProfilePic https://t.co/h0wlMIS6U0 @wavyp...</td>\n",
       "    </tr>\n",
       "    <tr>\n",
       "      <th>1</th>\n",
       "      <td>Qdv6zNFe0nkBH2m</td>\n",
       "      <td>Χριστίνα Κεραμεως</td>\n",
       "      <td>Χιούμορ</td>\n",
       "      <td>0</td>\n",
       "      <td>0</td>\n",
       "      <td></td>\n",
       "      <td></td>\n",
       "      <td></td>\n",
       "    </tr>\n",
       "    <tr>\n",
       "      <th>2</th>\n",
       "      <td>michail_pana</td>\n",
       "      <td>Μιχαήλ Παναγιωτόπουλος</td>\n",
       "      <td>Απόστρατος Ναύαρχος του Πολέμικού Ναυτικού.\\nΜ...</td>\n",
       "      <td>368</td>\n",
       "      <td>0</td>\n",
       "      <td>@odyssefs357 Γιατί έτσι όπως έγινε δεν παίρνε...</td>\n",
       "      <td>@odyssefs357 Γιατί έτσι όπως έγινε δεν παίρνε...</td>\n",
       "      <td>@odyssefs357 Γιατί έτσι όπως έγινε δεν παίρνε...</td>\n",
       "    </tr>\n",
       "    <tr>\n",
       "      <th>3</th>\n",
       "      <td>spirtzisforever</td>\n",
       "      <td>Χρήστος not Σπίρτζης</td>\n",
       "      <td>Parody account/Fan account του πιο ερωτικού βο...</td>\n",
       "      <td>7</td>\n",
       "      <td>0</td>\n",
       "      <td>@NasosNot Επι ΠΑΣΟΚ είχαμε κλαδικές, αυτό ήτα...</td>\n",
       "      <td></td>\n",
       "      <td>@NasosNot Επι ΠΑΣΟΚ είχαμε κλαδικές, αυτό ήτα...</td>\n",
       "    </tr>\n",
       "    <tr>\n",
       "      <th>4</th>\n",
       "      <td>FdZwMqKWXciTydT</td>\n",
       "      <td>Ειρήνη Γκαρα</td>\n",
       "      <td></td>\n",
       "      <td>1</td>\n",
       "      <td>0</td>\n",
       "      <td>Καλό βράδυ!!!!</td>\n",
       "      <td></td>\n",
       "      <td>Καλό βράδυ!!!!</td>\n",
       "    </tr>\n",
       "  </tbody>\n",
       "</table>\n",
       "</div>"
      ],
      "text/plain": [
       "       screen_name                    name  \\\n",
       "0         evefthym      Ευάγγελος Ευθυμίου   \n",
       "1  Qdv6zNFe0nkBH2m       Χριστίνα Κεραμεως   \n",
       "2     michail_pana  Μιχαήλ Παναγιωτόπουλος   \n",
       "3  spirtzisforever    Χρήστος not Σπίρτζης   \n",
       "4  FdZwMqKWXciTydT            Ειρήνη Γκαρα   \n",
       "\n",
       "                                         description  statuses_count  \\\n",
       "0                        Καναλάκι \\nΠάργα \\nΙωάννινα             135   \n",
       "1                                            Χιούμορ               0   \n",
       "2  Απόστρατος Ναύαρχος του Πολέμικού Ναυτικού.\\nΜ...             368   \n",
       "3  Parody account/Fan account του πιο ερωτικού βο...               7   \n",
       "4                                                                  1   \n",
       "\n",
       "   parliament_member                                       recent_tweet  \\\n",
       "0                  0             #NewProfilePic https://t.co/h0wlMIS6U0   \n",
       "1                  0                                                      \n",
       "2                  0   @odyssefs357 Γιατί έτσι όπως έγινε δεν παίρνε...   \n",
       "3                  0   @NasosNot Επι ΠΑΣΟΚ είχαμε κλαδικές, αυτό ήτα...   \n",
       "4                  0                                     Καλό βράδυ!!!!   \n",
       "\n",
       "                                    recent_10_tweets  \\\n",
       "0   #NewProfilePic https://t.co/h0wlMIS6U0 @wavyp...   \n",
       "1                                                      \n",
       "2   @odyssefs357 Γιατί έτσι όπως έγινε δεν παίρνε...   \n",
       "3                                                      \n",
       "4                                                      \n",
       "\n",
       "                                   recent_100_tweets  \n",
       "0   #NewProfilePic https://t.co/h0wlMIS6U0 @wavyp...  \n",
       "1                                                     \n",
       "2   @odyssefs357 Γιατί έτσι όπως έγινε δεν παίρνε...  \n",
       "3   @NasosNot Επι ΠΑΣΟΚ είχαμε κλαδικές, αυτό ήτα...  \n",
       "4                                     Καλό βράδυ!!!!  "
      ]
     },
     "execution_count": 6,
     "metadata": {},
     "output_type": "execute_result"
    }
   ],
   "source": [
    "training_set['recent_tweet'] = tweets[0]\n",
    "training_set['recent_10_tweets'] = tweets[1]\n",
    "training_set['recent_100_tweets'] = tweets[2]\n",
    "training_set.head()"
   ]
  },
  {
   "cell_type": "markdown",
   "id": "obvious-transfer",
   "metadata": {},
   "source": [
    "# Case 1: name + description + tweets\n",
    "---\n",
    "In this case, we use a node's name, description and tweets as a single feature to classify the node."
   ]
  },
  {
   "cell_type": "markdown",
   "id": "regular-insulation",
   "metadata": {
    "jupyter": {
     "source_hidden": true
    }
   },
   "source": [
    "## Text Normalization\n",
    "We start by creating 3 new fields:\n",
    "- textdata_1 : name + description + recent_tweet\n",
    "- textdata_2 : name + description + recent_10_tweets\n",
    "- textdata_3 : name + description + recent_100_tweets"
   ]
  },
  {
   "cell_type": "code",
   "execution_count": 7,
   "id": "cardiac-madrid",
   "metadata": {
    "collapsed": true,
    "jupyter": {
     "outputs_hidden": true,
     "source_hidden": true
    }
   },
   "outputs": [
    {
     "data": {
      "text/html": [
       "<div>\n",
       "<style scoped>\n",
       "    .dataframe tbody tr th:only-of-type {\n",
       "        vertical-align: middle;\n",
       "    }\n",
       "\n",
       "    .dataframe tbody tr th {\n",
       "        vertical-align: top;\n",
       "    }\n",
       "\n",
       "    .dataframe thead th {\n",
       "        text-align: right;\n",
       "    }\n",
       "</style>\n",
       "<table border=\"1\" class=\"dataframe\">\n",
       "  <thead>\n",
       "    <tr style=\"text-align: right;\">\n",
       "      <th></th>\n",
       "      <th>screen_name</th>\n",
       "      <th>parliament_member</th>\n",
       "      <th>textdata_1</th>\n",
       "      <th>textdata_2</th>\n",
       "      <th>textdata_3</th>\n",
       "    </tr>\n",
       "  </thead>\n",
       "  <tbody>\n",
       "    <tr>\n",
       "      <th>0</th>\n",
       "      <td>evefthym</td>\n",
       "      <td>0</td>\n",
       "      <td>Ευάγγελος Ευθυμίου Καναλάκι \\nΠάργα \\nΙωάννινα...</td>\n",
       "      <td>Ευάγγελος Ευθυμίου Καναλάκι \\nΠάργα \\nΙωάννινα...</td>\n",
       "      <td>Ευάγγελος Ευθυμίου Καναλάκι \\nΠάργα \\nΙωάννινα...</td>\n",
       "    </tr>\n",
       "    <tr>\n",
       "      <th>1</th>\n",
       "      <td>Qdv6zNFe0nkBH2m</td>\n",
       "      <td>0</td>\n",
       "      <td>Χριστίνα Κεραμεως Χιούμορ</td>\n",
       "      <td>Χριστίνα Κεραμεως Χιούμορ</td>\n",
       "      <td>Χριστίνα Κεραμεως Χιούμορ</td>\n",
       "    </tr>\n",
       "    <tr>\n",
       "      <th>2</th>\n",
       "      <td>michail_pana</td>\n",
       "      <td>0</td>\n",
       "      <td>Μιχαήλ Παναγιωτόπουλος Απόστρατος Ναύαρχος του...</td>\n",
       "      <td>Μιχαήλ Παναγιωτόπουλος Απόστρατος Ναύαρχος του...</td>\n",
       "      <td>Μιχαήλ Παναγιωτόπουλος Απόστρατος Ναύαρχος του...</td>\n",
       "    </tr>\n",
       "  </tbody>\n",
       "</table>\n",
       "</div>"
      ],
      "text/plain": [
       "       screen_name  parliament_member  \\\n",
       "0         evefthym                  0   \n",
       "1  Qdv6zNFe0nkBH2m                  0   \n",
       "2     michail_pana                  0   \n",
       "\n",
       "                                          textdata_1  \\\n",
       "0  Ευάγγελος Ευθυμίου Καναλάκι \\nΠάργα \\nΙωάννινα...   \n",
       "1                         Χριστίνα Κεραμεως Χιούμορ    \n",
       "2  Μιχαήλ Παναγιωτόπουλος Απόστρατος Ναύαρχος του...   \n",
       "\n",
       "                                          textdata_2  \\\n",
       "0  Ευάγγελος Ευθυμίου Καναλάκι \\nΠάργα \\nΙωάννινα...   \n",
       "1                         Χριστίνα Κεραμεως Χιούμορ    \n",
       "2  Μιχαήλ Παναγιωτόπουλος Απόστρατος Ναύαρχος του...   \n",
       "\n",
       "                                          textdata_3  \n",
       "0  Ευάγγελος Ευθυμίου Καναλάκι \\nΠάργα \\nΙωάννινα...  \n",
       "1                         Χριστίνα Κεραμεως Χιούμορ   \n",
       "2  Μιχαήλ Παναγιωτόπουλος Απόστρατος Ναύαρχος του...  "
      ]
     },
     "execution_count": 7,
     "metadata": {},
     "output_type": "execute_result"
    }
   ],
   "source": [
    "data = training_set.copy()\n",
    "data['textdata_1'] = data['name'] + ' ' + data['description'] + ' ' + data['recent_tweet']\n",
    "data['textdata_2'] = data['name'] + ' ' + data['description'] + ' ' + data['recent_10_tweets']\n",
    "data['textdata_3'] = data['name'] + ' ' + data['description'] + ' ' + data['recent_100_tweets']\n",
    "data = data.drop(['name', 'description', 'statuses_count', 'recent_tweet', 'recent_10_tweets', 'recent_100_tweets'], axis = 1)\n",
    "data.head(3)"
   ]
  },
  {
   "cell_type": "markdown",
   "id": "moderate-night",
   "metadata": {
    "jupyter": {
     "source_hidden": true
    }
   },
   "source": [
    "Next normalize our text by taking the following actions:\n",
    "\n",
    "- remove URLs\n",
    "- remove Mentions\n",
    "- remove anything that isn't a unicode character (e.g emojis, punctuation)\n",
    "- remove numbers and _\n",
    "- fix whitespace\n",
    "- convert to lower case"
   ]
  },
  {
   "cell_type": "code",
   "execution_count": 8,
   "id": "sharp-tactics",
   "metadata": {
    "jupyter": {
     "source_hidden": true
    }
   },
   "outputs": [],
   "source": [
    "data['textdata_1'] = clean_text(data['textdata_1'])\n",
    "data['textdata_2'] = clean_text(data['textdata_2'])\n",
    "data['textdata_3'] = clean_text(data['textdata_3'])"
   ]
  },
  {
   "cell_type": "markdown",
   "id": "front-crack",
   "metadata": {
    "jupyter": {
     "source_hidden": true
    }
   },
   "source": [
    "## Model Selection"
   ]
  },
  {
   "cell_type": "code",
   "execution_count": 9,
   "id": "looking-february",
   "metadata": {
    "jupyter": {
     "source_hidden": true
    }
   },
   "outputs": [],
   "source": [
    "svm_tfidf = pd.DataFrame()\n",
    "svm_bow = pd.DataFrame()\n",
    "\n",
    "lr_tfidf = pd.DataFrame()\n",
    "lr_bow = pd.DataFrame()\n",
    "\n",
    "knn_tfidf = pd.DataFrame()\n",
    "knn_bow = pd.DataFrame()"
   ]
  },
  {
   "cell_type": "markdown",
   "id": "continental-rouge",
   "metadata": {
    "jupyter": {
     "source_hidden": true
    }
   },
   "source": [
    "### Without NLP"
   ]
  },
  {
   "cell_type": "code",
   "execution_count": 10,
   "id": "extra-desert",
   "metadata": {
    "jupyter": {
     "source_hidden": true
    }
   },
   "outputs": [],
   "source": [
    "textdatas = ['textdata_1', 'textdata_2', 'textdata_3']"
   ]
  },
  {
   "cell_type": "markdown",
   "id": "collaborative-thunder",
   "metadata": {
    "jupyter": {
     "source_hidden": true
    }
   },
   "source": [
    "#### SVM"
   ]
  },
  {
   "cell_type": "code",
   "execution_count": 11,
   "id": "young-tsunami",
   "metadata": {
    "collapsed": true,
    "jupyter": {
     "outputs_hidden": true,
     "source_hidden": true
    }
   },
   "outputs": [
    {
     "data": {
      "application/vnd.jupyter.widget-view+json": {
       "model_id": "4546070838ab47a1b6686ba789e358af",
       "version_major": 2,
       "version_minor": 0
      },
      "text/plain": [
       "  0%|          | 0/3 [00:00<?, ?it/s]"
      ]
     },
     "metadata": {},
     "output_type": "display_data"
    },
    {
     "name": "stdout",
     "output_type": "stream",
     "text": [
      "Best params for textdata_1:\n"
     ]
    },
    {
     "name": "stderr",
     "output_type": "stream",
     "text": [
      "/Library/Frameworks/Python.framework/Versions/3.8/lib/python3.8/site-packages/sklearn/model_selection/_search.py:918: UserWarning: One or more of the test scores are non-finite: [0.55 0.55 0.55 ...  nan  nan  nan]\n",
      "  warnings.warn(\n"
     ]
    },
    {
     "name": "stdout",
     "output_type": "stream",
     "text": [
      "{'svm__C': 1, 'svm__kernel': 'linear', 'vectorizer__max_df': 0.5, 'vectorizer__max_features': None, 'vectorizer__min_df': 1}\n",
      "============================\n",
      "Best params for textdata_2:\n"
     ]
    },
    {
     "name": "stderr",
     "output_type": "stream",
     "text": [
      "/Library/Frameworks/Python.framework/Versions/3.8/lib/python3.8/site-packages/sklearn/model_selection/_search.py:918: UserWarning: One or more of the test scores are non-finite: [0.56 0.56 0.56 ...  nan  nan  nan]\n",
      "  warnings.warn(\n"
     ]
    },
    {
     "name": "stdout",
     "output_type": "stream",
     "text": [
      "{'svm__C': 10, 'svm__kernel': 'linear', 'vectorizer__max_df': 0.5, 'vectorizer__max_features': 2000, 'vectorizer__min_df': 1}\n",
      "============================\n",
      "Best params for textdata_3:\n"
     ]
    },
    {
     "name": "stderr",
     "output_type": "stream",
     "text": [
      "/Library/Frameworks/Python.framework/Versions/3.8/lib/python3.8/site-packages/sklearn/model_selection/_search.py:918: UserWarning: One or more of the test scores are non-finite: [0.64333333 0.64333333 0.64333333 ...        nan        nan        nan]\n",
      "  warnings.warn(\n"
     ]
    },
    {
     "name": "stdout",
     "output_type": "stream",
     "text": [
      "{'svm__C': 5, 'svm__kernel': 'linear', 'vectorizer__max_df': 0.5, 'vectorizer__max_features': None, 'vectorizer__min_df': 1}\n",
      "============================\n"
     ]
    },
    {
     "data": {
      "text/html": [
       "<div>\n",
       "<style scoped>\n",
       "    .dataframe tbody tr th:only-of-type {\n",
       "        vertical-align: middle;\n",
       "    }\n",
       "\n",
       "    .dataframe tbody tr th {\n",
       "        vertical-align: top;\n",
       "    }\n",
       "\n",
       "    .dataframe thead th {\n",
       "        text-align: right;\n",
       "    }\n",
       "</style>\n",
       "<table border=\"1\" class=\"dataframe\">\n",
       "  <thead>\n",
       "    <tr style=\"text-align: right;\">\n",
       "      <th></th>\n",
       "      <th>textdata_1</th>\n",
       "      <th>textdata_2</th>\n",
       "      <th>textdata_3</th>\n",
       "    </tr>\n",
       "  </thead>\n",
       "  <tbody>\n",
       "    <tr>\n",
       "      <th>Without NLP</th>\n",
       "      <td>0.88</td>\n",
       "      <td>0.88</td>\n",
       "      <td>0.91</td>\n",
       "    </tr>\n",
       "  </tbody>\n",
       "</table>\n",
       "</div>"
      ],
      "text/plain": [
       "             textdata_1  textdata_2  textdata_3\n",
       "Without NLP        0.88        0.88        0.91"
      ]
     },
     "execution_count": 11,
     "metadata": {},
     "output_type": "execute_result"
    }
   ],
   "source": [
    "# TF-IDF \n",
    "results = {}\n",
    "for textdata in tqdm(textdatas):\n",
    "    print(f'Best params for {textdata}:')\n",
    "    X = data[textdata]\n",
    "    results[textdata] = classification_svm(X, data['parliament_member'], 'TF-IDF').round(4)\n",
    "    print(\"============================\")\n",
    "    \n",
    "svm_tfidf = svm_tfidf.append(\n",
    "    pd.DataFrame.from_dict(results, orient='index', columns=['Without NLP']).T)\n",
    "\n",
    "svm_tfidf"
   ]
  },
  {
   "cell_type": "code",
   "execution_count": 12,
   "id": "applied-jaguar",
   "metadata": {
    "collapsed": true,
    "jupyter": {
     "outputs_hidden": true
    }
   },
   "outputs": [
    {
     "data": {
      "application/vnd.jupyter.widget-view+json": {
       "model_id": "042727ad0d0046c68dad237565b7de05",
       "version_major": 2,
       "version_minor": 0
      },
      "text/plain": [
       "  0%|          | 0/3 [00:00<?, ?it/s]"
      ]
     },
     "metadata": {},
     "output_type": "display_data"
    },
    {
     "name": "stdout",
     "output_type": "stream",
     "text": [
      "Best params for textdata_1:\n"
     ]
    },
    {
     "name": "stderr",
     "output_type": "stream",
     "text": [
      "/Library/Frameworks/Python.framework/Versions/3.8/lib/python3.8/site-packages/sklearn/model_selection/_search.py:918: UserWarning: One or more of the test scores are non-finite: [0.55 0.55 0.55 ...  nan  nan  nan]\n",
      "  warnings.warn(\n"
     ]
    },
    {
     "name": "stdout",
     "output_type": "stream",
     "text": [
      "{'svm__C': 1, 'svm__kernel': 'linear', 'vectorizer__max_df': 0.5, 'vectorizer__max_features': 100, 'vectorizer__min_df': 10}\n",
      "============================\n",
      "Best params for textdata_2:\n"
     ]
    },
    {
     "name": "stderr",
     "output_type": "stream",
     "text": [
      "/Library/Frameworks/Python.framework/Versions/3.8/lib/python3.8/site-packages/sklearn/model_selection/_search.py:918: UserWarning: One or more of the test scores are non-finite: [0.60333333 0.60333333 0.60333333 ...        nan        nan        nan]\n",
      "  warnings.warn(\n"
     ]
    },
    {
     "name": "stdout",
     "output_type": "stream",
     "text": [
      "{'svm__C': 0.1, 'svm__kernel': 'linear', 'vectorizer__max_df': 0.5, 'vectorizer__max_features': 1000, 'vectorizer__min_df': 10}\n",
      "============================\n",
      "Best params for textdata_3:\n"
     ]
    },
    {
     "name": "stderr",
     "output_type": "stream",
     "text": [
      "/Library/Frameworks/Python.framework/Versions/3.8/lib/python3.8/site-packages/sklearn/model_selection/_search.py:918: UserWarning: One or more of the test scores are non-finite: [0.70666667 0.70666667 0.70666667 ...        nan        nan        nan]\n",
      "  warnings.warn(\n"
     ]
    },
    {
     "name": "stdout",
     "output_type": "stream",
     "text": [
      "{'svm__C': 0.1, 'svm__kernel': 'linear', 'vectorizer__max_df': 0.75, 'vectorizer__max_features': None, 'vectorizer__min_df': 5}\n",
      "============================\n"
     ]
    },
    {
     "data": {
      "text/html": [
       "<div>\n",
       "<style scoped>\n",
       "    .dataframe tbody tr th:only-of-type {\n",
       "        vertical-align: middle;\n",
       "    }\n",
       "\n",
       "    .dataframe tbody tr th {\n",
       "        vertical-align: top;\n",
       "    }\n",
       "\n",
       "    .dataframe thead th {\n",
       "        text-align: right;\n",
       "    }\n",
       "</style>\n",
       "<table border=\"1\" class=\"dataframe\">\n",
       "  <thead>\n",
       "    <tr style=\"text-align: right;\">\n",
       "      <th></th>\n",
       "      <th>textdata_1</th>\n",
       "      <th>textdata_2</th>\n",
       "      <th>textdata_3</th>\n",
       "    </tr>\n",
       "  </thead>\n",
       "  <tbody>\n",
       "    <tr>\n",
       "      <th>Without NLP</th>\n",
       "      <td>0.8767</td>\n",
       "      <td>0.8667</td>\n",
       "      <td>0.8633</td>\n",
       "    </tr>\n",
       "  </tbody>\n",
       "</table>\n",
       "</div>"
      ],
      "text/plain": [
       "             textdata_1  textdata_2  textdata_3\n",
       "Without NLP      0.8767      0.8667      0.8633"
      ]
     },
     "execution_count": 12,
     "metadata": {},
     "output_type": "execute_result"
    }
   ],
   "source": [
    "# BoW\n",
    "results = {}\n",
    "for textdata in tqdm(textdatas):\n",
    "    print(f'Best params for {textdata}:')\n",
    "    X = data[textdata]\n",
    "    results[textdata] = classification_svm(X, data['parliament_member'], 'BoW').round(4)\n",
    "    print(\"============================\")\n",
    "    \n",
    "svm_bow = svm_bow.append(\n",
    "    pd.DataFrame.from_dict(results, orient='index', columns=['Without NLP']).T)\n",
    "\n",
    "svm_bow"
   ]
  },
  {
   "cell_type": "markdown",
   "id": "democratic-divide",
   "metadata": {
    "jupyter": {
     "source_hidden": true
    }
   },
   "source": [
    "#### Logistic Regression"
   ]
  },
  {
   "cell_type": "code",
   "execution_count": 13,
   "id": "received-observer",
   "metadata": {
    "collapsed": true,
    "jupyter": {
     "outputs_hidden": true,
     "source_hidden": true
    }
   },
   "outputs": [
    {
     "data": {
      "application/vnd.jupyter.widget-view+json": {
       "model_id": "3e792f4b92f7450294c2ae898b815b48",
       "version_major": 2,
       "version_minor": 0
      },
      "text/plain": [
       "  0%|          | 0/3 [00:00<?, ?it/s]"
      ]
     },
     "metadata": {},
     "output_type": "display_data"
    },
    {
     "name": "stdout",
     "output_type": "stream",
     "text": [
      "Best params for textdata_1:\n"
     ]
    },
    {
     "name": "stderr",
     "output_type": "stream",
     "text": [
      "/Library/Frameworks/Python.framework/Versions/3.8/lib/python3.8/site-packages/sklearn/model_selection/_search.py:918: UserWarning: One or more of the test scores are non-finite: [nan nan nan ... nan nan nan]\n",
      "  warnings.warn(\n"
     ]
    },
    {
     "name": "stdout",
     "output_type": "stream",
     "text": [
      "{'lr__C': 0.5, 'lr__penalty': 'l2', 'vectorizer__max_df': 0.5, 'vectorizer__max_features': None, 'vectorizer__min_df': 1}\n",
      "============================\n",
      "Best params for textdata_2:\n"
     ]
    },
    {
     "name": "stderr",
     "output_type": "stream",
     "text": [
      "/Library/Frameworks/Python.framework/Versions/3.8/lib/python3.8/site-packages/sklearn/model_selection/_search.py:918: UserWarning: One or more of the test scores are non-finite: [nan nan nan ... nan nan nan]\n",
      "  warnings.warn(\n",
      "/Library/Frameworks/Python.framework/Versions/3.8/lib/python3.8/site-packages/sklearn/linear_model/_logistic.py:1322: UserWarning: Setting penalty='none' will ignore the C and l1_ratio parameters\n",
      "  warnings.warn(\n"
     ]
    },
    {
     "name": "stdout",
     "output_type": "stream",
     "text": [
      "{'lr__C': 0.1, 'lr__penalty': 'none', 'vectorizer__max_df': 0.75, 'vectorizer__max_features': 2000, 'vectorizer__min_df': 1}\n",
      "============================\n",
      "Best params for textdata_3:\n"
     ]
    },
    {
     "name": "stderr",
     "output_type": "stream",
     "text": [
      "/Library/Frameworks/Python.framework/Versions/3.8/lib/python3.8/site-packages/sklearn/model_selection/_search.py:918: UserWarning: One or more of the test scores are non-finite: [nan nan nan ... nan nan nan]\n",
      "  warnings.warn(\n"
     ]
    },
    {
     "name": "stdout",
     "output_type": "stream",
     "text": [
      "{'lr__C': 0.1, 'lr__penalty': 'none', 'vectorizer__max_df': 0.5, 'vectorizer__max_features': None, 'vectorizer__min_df': 1}\n",
      "============================\n"
     ]
    },
    {
     "name": "stderr",
     "output_type": "stream",
     "text": [
      "/Library/Frameworks/Python.framework/Versions/3.8/lib/python3.8/site-packages/sklearn/linear_model/_logistic.py:1322: UserWarning: Setting penalty='none' will ignore the C and l1_ratio parameters\n",
      "  warnings.warn(\n"
     ]
    },
    {
     "data": {
      "text/html": [
       "<div>\n",
       "<style scoped>\n",
       "    .dataframe tbody tr th:only-of-type {\n",
       "        vertical-align: middle;\n",
       "    }\n",
       "\n",
       "    .dataframe tbody tr th {\n",
       "        vertical-align: top;\n",
       "    }\n",
       "\n",
       "    .dataframe thead th {\n",
       "        text-align: right;\n",
       "    }\n",
       "</style>\n",
       "<table border=\"1\" class=\"dataframe\">\n",
       "  <thead>\n",
       "    <tr style=\"text-align: right;\">\n",
       "      <th></th>\n",
       "      <th>textdata_1</th>\n",
       "      <th>textdata_2</th>\n",
       "      <th>textdata_3</th>\n",
       "    </tr>\n",
       "  </thead>\n",
       "  <tbody>\n",
       "    <tr>\n",
       "      <th>Without NLP</th>\n",
       "      <td>0.87</td>\n",
       "      <td>0.8733</td>\n",
       "      <td>0.9</td>\n",
       "    </tr>\n",
       "  </tbody>\n",
       "</table>\n",
       "</div>"
      ],
      "text/plain": [
       "             textdata_1  textdata_2  textdata_3\n",
       "Without NLP        0.87      0.8733         0.9"
      ]
     },
     "execution_count": 13,
     "metadata": {},
     "output_type": "execute_result"
    }
   ],
   "source": [
    "# TF-IDF \n",
    "results = {}\n",
    "for textdata in tqdm(textdatas):\n",
    "    print(f'Best params for {textdata}:')\n",
    "    X = data[textdata]\n",
    "    results[textdata] = classification_lr(X, data['parliament_member'], 'TF-IDF').round(4)\n",
    "    print(\"============================\")\n",
    "    \n",
    "lr_tfidf = lr_tfidf.append(\n",
    "    pd.DataFrame.from_dict(results, orient='index', columns=['Without NLP']).T)\n",
    "\n",
    "lr_tfidf"
   ]
  },
  {
   "cell_type": "code",
   "execution_count": 14,
   "id": "sonic-sandwich",
   "metadata": {
    "collapsed": true,
    "jupyter": {
     "outputs_hidden": true,
     "source_hidden": true
    }
   },
   "outputs": [
    {
     "data": {
      "application/vnd.jupyter.widget-view+json": {
       "model_id": "dbb6159f3ddb4710b26c483f4b12b7fc",
       "version_major": 2,
       "version_minor": 0
      },
      "text/plain": [
       "  0%|          | 0/3 [00:00<?, ?it/s]"
      ]
     },
     "metadata": {},
     "output_type": "display_data"
    },
    {
     "name": "stdout",
     "output_type": "stream",
     "text": [
      "Best params for textdata_1:\n"
     ]
    },
    {
     "name": "stderr",
     "output_type": "stream",
     "text": [
      "/Library/Frameworks/Python.framework/Versions/3.8/lib/python3.8/site-packages/sklearn/model_selection/_search.py:918: UserWarning: One or more of the test scores are non-finite: [nan nan nan ... nan nan nan]\n",
      "  warnings.warn(\n",
      "/Library/Frameworks/Python.framework/Versions/3.8/lib/python3.8/site-packages/sklearn/linear_model/_logistic.py:1322: UserWarning: Setting penalty='none' will ignore the C and l1_ratio parameters\n",
      "  warnings.warn(\n"
     ]
    },
    {
     "name": "stdout",
     "output_type": "stream",
     "text": [
      "{'lr__C': 0.1, 'lr__penalty': 'none', 'vectorizer__max_df': 0.5, 'vectorizer__max_features': None, 'vectorizer__min_df': 1}\n",
      "============================\n",
      "Best params for textdata_2:\n"
     ]
    },
    {
     "name": "stderr",
     "output_type": "stream",
     "text": [
      "/Library/Frameworks/Python.framework/Versions/3.8/lib/python3.8/site-packages/sklearn/model_selection/_search.py:918: UserWarning: One or more of the test scores are non-finite: [nan nan nan ... nan nan nan]\n",
      "  warnings.warn(\n",
      "/Library/Frameworks/Python.framework/Versions/3.8/lib/python3.8/site-packages/sklearn/linear_model/_logistic.py:1322: UserWarning: Setting penalty='none' will ignore the C and l1_ratio parameters\n",
      "  warnings.warn(\n"
     ]
    },
    {
     "name": "stdout",
     "output_type": "stream",
     "text": [
      "{'lr__C': 0.1, 'lr__penalty': 'none', 'vectorizer__max_df': 0.75, 'vectorizer__max_features': None, 'vectorizer__min_df': 1}\n",
      "============================\n",
      "Best params for textdata_3:\n"
     ]
    },
    {
     "name": "stderr",
     "output_type": "stream",
     "text": [
      "/Library/Frameworks/Python.framework/Versions/3.8/lib/python3.8/site-packages/sklearn/model_selection/_search.py:918: UserWarning: One or more of the test scores are non-finite: [nan nan nan ... nan nan nan]\n",
      "  warnings.warn(\n"
     ]
    },
    {
     "name": "stdout",
     "output_type": "stream",
     "text": [
      "{'lr__C': 0.5, 'lr__penalty': 'l2', 'vectorizer__max_df': 0.5, 'vectorizer__max_features': None, 'vectorizer__min_df': 5}\n",
      "============================\n"
     ]
    },
    {
     "data": {
      "text/html": [
       "<div>\n",
       "<style scoped>\n",
       "    .dataframe tbody tr th:only-of-type {\n",
       "        vertical-align: middle;\n",
       "    }\n",
       "\n",
       "    .dataframe tbody tr th {\n",
       "        vertical-align: top;\n",
       "    }\n",
       "\n",
       "    .dataframe thead th {\n",
       "        text-align: right;\n",
       "    }\n",
       "</style>\n",
       "<table border=\"1\" class=\"dataframe\">\n",
       "  <thead>\n",
       "    <tr style=\"text-align: right;\">\n",
       "      <th></th>\n",
       "      <th>textdata_1</th>\n",
       "      <th>textdata_2</th>\n",
       "      <th>textdata_3</th>\n",
       "    </tr>\n",
       "  </thead>\n",
       "  <tbody>\n",
       "    <tr>\n",
       "      <th>Without NLP</th>\n",
       "      <td>0.8867</td>\n",
       "      <td>0.8767</td>\n",
       "      <td>0.8867</td>\n",
       "    </tr>\n",
       "  </tbody>\n",
       "</table>\n",
       "</div>"
      ],
      "text/plain": [
       "             textdata_1  textdata_2  textdata_3\n",
       "Without NLP      0.8867      0.8767      0.8867"
      ]
     },
     "execution_count": 14,
     "metadata": {},
     "output_type": "execute_result"
    }
   ],
   "source": [
    "# BoW\n",
    "results = {}\n",
    "for textdata in tqdm(textdatas):\n",
    "    print(f'Best params for {textdata}:')\n",
    "    X = data[textdata]\n",
    "    results[textdata] = classification_lr(X, data['parliament_member'], 'BoW').round(4)\n",
    "    print(\"============================\")\n",
    "    \n",
    "lr_bow = lr_bow.append(\n",
    "    pd.DataFrame.from_dict(results, orient='index', columns=['Without NLP']).T)\n",
    "\n",
    "lr_bow"
   ]
  },
  {
   "cell_type": "markdown",
   "id": "undefined-legislation",
   "metadata": {
    "jupyter": {
     "source_hidden": true
    }
   },
   "source": [
    "#### kNN"
   ]
  },
  {
   "cell_type": "code",
   "execution_count": 15,
   "id": "greatest-racing",
   "metadata": {
    "collapsed": true,
    "jupyter": {
     "outputs_hidden": true,
     "source_hidden": true
    }
   },
   "outputs": [
    {
     "data": {
      "application/vnd.jupyter.widget-view+json": {
       "model_id": "25b755da0bb44206bb951e81c6c275af",
       "version_major": 2,
       "version_minor": 0
      },
      "text/plain": [
       "  0%|          | 0/3 [00:00<?, ?it/s]"
      ]
     },
     "metadata": {},
     "output_type": "display_data"
    },
    {
     "name": "stdout",
     "output_type": "stream",
     "text": [
      "Best params for textdata_1:\n"
     ]
    },
    {
     "name": "stderr",
     "output_type": "stream",
     "text": [
      "/Library/Frameworks/Python.framework/Versions/3.8/lib/python3.8/site-packages/sklearn/model_selection/_search.py:918: UserWarning: One or more of the test scores are non-finite: [0.54 0.54 0.54 ...  nan  nan  nan]\n",
      "  warnings.warn(\n"
     ]
    },
    {
     "name": "stdout",
     "output_type": "stream",
     "text": [
      "{'knn__n_neighbors': 8, 'knn__weights': 'uniform', 'vectorizer__max_df': 0.5, 'vectorizer__max_features': 2000, 'vectorizer__min_df': 1}\n",
      "============================\n",
      "Best params for textdata_2:\n"
     ]
    },
    {
     "name": "stderr",
     "output_type": "stream",
     "text": [
      "/Library/Frameworks/Python.framework/Versions/3.8/lib/python3.8/site-packages/sklearn/model_selection/_search.py:918: UserWarning: One or more of the test scores are non-finite: [0.59333333 0.59333333 0.59333333 ...        nan        nan        nan]\n",
      "  warnings.warn(\n"
     ]
    },
    {
     "name": "stdout",
     "output_type": "stream",
     "text": [
      "{'knn__n_neighbors': 8, 'knn__weights': 'distance', 'vectorizer__max_df': 0.25, 'vectorizer__max_features': None, 'vectorizer__min_df': 1}\n",
      "============================\n",
      "Best params for textdata_3:\n"
     ]
    },
    {
     "name": "stderr",
     "output_type": "stream",
     "text": [
      "/Library/Frameworks/Python.framework/Versions/3.8/lib/python3.8/site-packages/sklearn/model_selection/_search.py:918: UserWarning: One or more of the test scores are non-finite: [0.56666667 0.56666667 0.56666667 ...        nan        nan        nan]\n",
      "  warnings.warn(\n"
     ]
    },
    {
     "name": "stdout",
     "output_type": "stream",
     "text": [
      "{'knn__n_neighbors': 1, 'knn__weights': 'uniform', 'vectorizer__max_df': 0.5, 'vectorizer__max_features': 100, 'vectorizer__min_df': 25}\n",
      "============================\n"
     ]
    },
    {
     "data": {
      "text/html": [
       "<div>\n",
       "<style scoped>\n",
       "    .dataframe tbody tr th:only-of-type {\n",
       "        vertical-align: middle;\n",
       "    }\n",
       "\n",
       "    .dataframe tbody tr th {\n",
       "        vertical-align: top;\n",
       "    }\n",
       "\n",
       "    .dataframe thead th {\n",
       "        text-align: right;\n",
       "    }\n",
       "</style>\n",
       "<table border=\"1\" class=\"dataframe\">\n",
       "  <thead>\n",
       "    <tr style=\"text-align: right;\">\n",
       "      <th></th>\n",
       "      <th>textdata_1</th>\n",
       "      <th>textdata_2</th>\n",
       "      <th>textdata_3</th>\n",
       "    </tr>\n",
       "  </thead>\n",
       "  <tbody>\n",
       "    <tr>\n",
       "      <th>Without NLP</th>\n",
       "      <td>0.8567</td>\n",
       "      <td>0.8333</td>\n",
       "      <td>0.8767</td>\n",
       "    </tr>\n",
       "  </tbody>\n",
       "</table>\n",
       "</div>"
      ],
      "text/plain": [
       "             textdata_1  textdata_2  textdata_3\n",
       "Without NLP      0.8567      0.8333      0.8767"
      ]
     },
     "execution_count": 15,
     "metadata": {},
     "output_type": "execute_result"
    }
   ],
   "source": [
    "# TF-IDF \n",
    "results = {}\n",
    "for textdata in tqdm(textdatas):\n",
    "    print(f'Best params for {textdata}:')\n",
    "    X = data[textdata]\n",
    "    results[textdata] = classification_knn(X, data['parliament_member'], 'TF-IDF').round(4)\n",
    "    print(\"============================\")\n",
    "    \n",
    "knn_tfidf = knn_tfidf.append(\n",
    "    pd.DataFrame.from_dict(results, orient='index', columns=['Without NLP']).T)\n",
    "\n",
    "knn_tfidf"
   ]
  },
  {
   "cell_type": "code",
   "execution_count": 16,
   "id": "judicial-sacrifice",
   "metadata": {
    "collapsed": true,
    "jupyter": {
     "outputs_hidden": true,
     "source_hidden": true
    }
   },
   "outputs": [
    {
     "data": {
      "application/vnd.jupyter.widget-view+json": {
       "model_id": "4e33b366cdf24b93a0263bbedf81c976",
       "version_major": 2,
       "version_minor": 0
      },
      "text/plain": [
       "  0%|          | 0/3 [00:00<?, ?it/s]"
      ]
     },
     "metadata": {},
     "output_type": "display_data"
    },
    {
     "name": "stdout",
     "output_type": "stream",
     "text": [
      "Best params for textdata_1:\n"
     ]
    },
    {
     "name": "stderr",
     "output_type": "stream",
     "text": [
      "/Library/Frameworks/Python.framework/Versions/3.8/lib/python3.8/site-packages/sklearn/model_selection/_search.py:918: UserWarning: One or more of the test scores are non-finite: [0.53666667 0.53666667 0.53666667 ...        nan        nan        nan]\n",
      "  warnings.warn(\n"
     ]
    },
    {
     "name": "stdout",
     "output_type": "stream",
     "text": [
      "{'knn__n_neighbors': 9, 'knn__weights': 'distance', 'vectorizer__max_df': 0.5, 'vectorizer__max_features': 100, 'vectorizer__min_df': 25}\n",
      "============================\n",
      "Best params for textdata_2:\n"
     ]
    },
    {
     "name": "stderr",
     "output_type": "stream",
     "text": [
      "/Library/Frameworks/Python.framework/Versions/3.8/lib/python3.8/site-packages/sklearn/model_selection/_search.py:918: UserWarning: One or more of the test scores are non-finite: [0.60333333 0.60333333 0.60333333 ...        nan        nan        nan]\n",
      "  warnings.warn(\n"
     ]
    },
    {
     "name": "stdout",
     "output_type": "stream",
     "text": [
      "{'knn__n_neighbors': 6, 'knn__weights': 'distance', 'vectorizer__max_df': 0.5, 'vectorizer__max_features': 100, 'vectorizer__min_df': 10}\n",
      "============================\n",
      "Best params for textdata_3:\n"
     ]
    },
    {
     "name": "stderr",
     "output_type": "stream",
     "text": [
      "/Library/Frameworks/Python.framework/Versions/3.8/lib/python3.8/site-packages/sklearn/model_selection/_search.py:918: UserWarning: One or more of the test scores are non-finite: [0.57333333 0.57333333 0.57333333 ...        nan        nan        nan]\n",
      "  warnings.warn(\n"
     ]
    },
    {
     "name": "stdout",
     "output_type": "stream",
     "text": [
      "{'knn__n_neighbors': 3, 'knn__weights': 'distance', 'vectorizer__max_df': 0.5, 'vectorizer__max_features': 100, 'vectorizer__min_df': 1}\n",
      "============================\n"
     ]
    },
    {
     "data": {
      "text/html": [
       "<div>\n",
       "<style scoped>\n",
       "    .dataframe tbody tr th:only-of-type {\n",
       "        vertical-align: middle;\n",
       "    }\n",
       "\n",
       "    .dataframe tbody tr th {\n",
       "        vertical-align: top;\n",
       "    }\n",
       "\n",
       "    .dataframe thead th {\n",
       "        text-align: right;\n",
       "    }\n",
       "</style>\n",
       "<table border=\"1\" class=\"dataframe\">\n",
       "  <thead>\n",
       "    <tr style=\"text-align: right;\">\n",
       "      <th></th>\n",
       "      <th>textdata_1</th>\n",
       "      <th>textdata_2</th>\n",
       "      <th>textdata_3</th>\n",
       "    </tr>\n",
       "  </thead>\n",
       "  <tbody>\n",
       "    <tr>\n",
       "      <th>Without NLP</th>\n",
       "      <td>0.8467</td>\n",
       "      <td>0.7933</td>\n",
       "      <td>0.85</td>\n",
       "    </tr>\n",
       "  </tbody>\n",
       "</table>\n",
       "</div>"
      ],
      "text/plain": [
       "             textdata_1  textdata_2  textdata_3\n",
       "Without NLP      0.8467      0.7933        0.85"
      ]
     },
     "execution_count": 16,
     "metadata": {},
     "output_type": "execute_result"
    }
   ],
   "source": [
    "# BoW\n",
    "results = {}\n",
    "for textdata in tqdm(textdatas):\n",
    "    print(f'Best params for {textdata}:')\n",
    "    X = data[textdata]\n",
    "    results[textdata] = classification_knn(X, data['parliament_member'], 'BoW').round(4)\n",
    "    print(\"============================\")\n",
    "    \n",
    "knn_bow = knn_bow.append(\n",
    "    pd.DataFrame.from_dict(results, orient='index', columns=['Without NLP']).T)\n",
    "\n",
    "knn_bow"
   ]
  },
  {
   "cell_type": "markdown",
   "id": "sporting-westminster",
   "metadata": {},
   "source": [
    "### Stop Word Removal"
   ]
  },
  {
   "cell_type": "code",
   "execution_count": 11,
   "id": "western-church",
   "metadata": {},
   "outputs": [],
   "source": [
    "nlp_el = spacy.load('el_core_news_md')\n",
    "nlp_en = spacy.load('en_core_web_sm')\n",
    "STOPWORDS = set(list(spacy.lang.en.STOP_WORDS) + list(spacy.lang.el.STOP_WORDS))\n",
    "\n",
    "def remove_stopwords(row):\n",
    "    row = [str(token) for token in nlp_el(row)]\n",
    "    return [w for w in row if w not in STOPWORDS]"
   ]
  },
  {
   "cell_type": "code",
   "execution_count": 18,
   "id": "elder-armor",
   "metadata": {
    "jupyter": {
     "source_hidden": true
    }
   },
   "outputs": [],
   "source": [
    "df = data.copy()\n",
    "\n",
    "df['textdata_1'] = df['textdata_1'].apply(lambda row: remove_stopwords(row))\n",
    "df['textdata_1'] = df['textdata_1'].apply(lambda row: ' '.join(row))\n",
    "\n",
    "df['textdata_2'] = df['textdata_2'].apply(lambda row: remove_stopwords(row))\n",
    "df['textdata_2'] = df['textdata_2'].apply(lambda row: ' '.join(row))\n",
    "\n",
    "df['textdata_3'] = df['textdata_3'].apply(lambda row: remove_stopwords(row))\n",
    "df['textdata_3'] = df['textdata_3'].apply(lambda row: ' '.join(row))"
   ]
  },
  {
   "cell_type": "markdown",
   "id": "absolute-metadata",
   "metadata": {
    "jupyter": {
     "source_hidden": true
    }
   },
   "source": [
    "#### SVM"
   ]
  },
  {
   "cell_type": "code",
   "execution_count": 19,
   "id": "tutorial-switch",
   "metadata": {
    "collapsed": true,
    "jupyter": {
     "outputs_hidden": true,
     "source_hidden": true
    }
   },
   "outputs": [
    {
     "data": {
      "application/vnd.jupyter.widget-view+json": {
       "model_id": "118acf71ffeb400490f54e4788203c9d",
       "version_major": 2,
       "version_minor": 0
      },
      "text/plain": [
       "  0%|          | 0/3 [00:00<?, ?it/s]"
      ]
     },
     "metadata": {},
     "output_type": "display_data"
    },
    {
     "name": "stdout",
     "output_type": "stream",
     "text": [
      "Best params for textdata_1:\n"
     ]
    },
    {
     "name": "stderr",
     "output_type": "stream",
     "text": [
      "/Library/Frameworks/Python.framework/Versions/3.8/lib/python3.8/site-packages/sklearn/model_selection/_search.py:918: UserWarning: One or more of the test scores are non-finite: [0.72 0.72 0.72 ...  nan  nan  nan]\n",
      "  warnings.warn(\n"
     ]
    },
    {
     "name": "stdout",
     "output_type": "stream",
     "text": [
      "{'svm__C': 0.5, 'svm__kernel': 'linear', 'vectorizer__max_df': 0.5, 'vectorizer__max_features': 1000, 'vectorizer__min_df': 1}\n",
      "============================\n",
      "Best params for textdata_2:\n"
     ]
    },
    {
     "name": "stderr",
     "output_type": "stream",
     "text": [
      "/Library/Frameworks/Python.framework/Versions/3.8/lib/python3.8/site-packages/sklearn/model_selection/_search.py:918: UserWarning: One or more of the test scores are non-finite: [0.65666667 0.66       0.67       ...        nan        nan        nan]\n",
      "  warnings.warn(\n"
     ]
    },
    {
     "name": "stdout",
     "output_type": "stream",
     "text": [
      "{'svm__C': 1, 'svm__kernel': 'sigmoid', 'vectorizer__max_df': 0.5, 'vectorizer__max_features': 1000, 'vectorizer__min_df': 1}\n",
      "============================\n",
      "Best params for textdata_3:\n"
     ]
    },
    {
     "name": "stderr",
     "output_type": "stream",
     "text": [
      "/Library/Frameworks/Python.framework/Versions/3.8/lib/python3.8/site-packages/sklearn/model_selection/_search.py:918: UserWarning: One or more of the test scores are non-finite: [0.59666667 0.59666667 0.6        ...        nan        nan        nan]\n",
      "  warnings.warn(\n"
     ]
    },
    {
     "name": "stdout",
     "output_type": "stream",
     "text": [
      "{'svm__C': 5, 'svm__kernel': 'linear', 'vectorizer__max_df': 0.75, 'vectorizer__max_features': None, 'vectorizer__min_df': 1}\n",
      "============================\n"
     ]
    },
    {
     "data": {
      "text/html": [
       "<div>\n",
       "<style scoped>\n",
       "    .dataframe tbody tr th:only-of-type {\n",
       "        vertical-align: middle;\n",
       "    }\n",
       "\n",
       "    .dataframe tbody tr th {\n",
       "        vertical-align: top;\n",
       "    }\n",
       "\n",
       "    .dataframe thead th {\n",
       "        text-align: right;\n",
       "    }\n",
       "</style>\n",
       "<table border=\"1\" class=\"dataframe\">\n",
       "  <thead>\n",
       "    <tr style=\"text-align: right;\">\n",
       "      <th></th>\n",
       "      <th>textdata_1</th>\n",
       "      <th>textdata_2</th>\n",
       "      <th>textdata_3</th>\n",
       "    </tr>\n",
       "  </thead>\n",
       "  <tbody>\n",
       "    <tr>\n",
       "      <th>Without NLP</th>\n",
       "      <td>0.88</td>\n",
       "      <td>0.8800</td>\n",
       "      <td>0.9100</td>\n",
       "    </tr>\n",
       "    <tr>\n",
       "      <th>Stopword Removal</th>\n",
       "      <td>0.90</td>\n",
       "      <td>0.8767</td>\n",
       "      <td>0.9167</td>\n",
       "    </tr>\n",
       "  </tbody>\n",
       "</table>\n",
       "</div>"
      ],
      "text/plain": [
       "                  textdata_1  textdata_2  textdata_3\n",
       "Without NLP             0.88      0.8800      0.9100\n",
       "Stopword Removal        0.90      0.8767      0.9167"
      ]
     },
     "execution_count": 19,
     "metadata": {},
     "output_type": "execute_result"
    }
   ],
   "source": [
    "# TF-IDF \n",
    "results = {}\n",
    "for textdata in tqdm(textdatas):\n",
    "    print(f'Best params for {textdata}:')\n",
    "    X = df[textdata]\n",
    "    results[textdata] = classification_svm(X, df['parliament_member'], 'TF-IDF').round(4)\n",
    "    print(\"============================\")\n",
    "    \n",
    "svm_tfidf = svm_tfidf.append(\n",
    "    pd.DataFrame.from_dict(results, orient='index', columns=['Stopword Removal']).T)\n",
    "\n",
    "svm_tfidf"
   ]
  },
  {
   "cell_type": "code",
   "execution_count": 20,
   "id": "successful-compound",
   "metadata": {
    "collapsed": true,
    "jupyter": {
     "outputs_hidden": true,
     "source_hidden": true
    }
   },
   "outputs": [
    {
     "data": {
      "application/vnd.jupyter.widget-view+json": {
       "model_id": "759df5284b964a9f9d649c460e91b3ef",
       "version_major": 2,
       "version_minor": 0
      },
      "text/plain": [
       "  0%|          | 0/3 [00:00<?, ?it/s]"
      ]
     },
     "metadata": {},
     "output_type": "display_data"
    },
    {
     "name": "stdout",
     "output_type": "stream",
     "text": [
      "Best params for textdata_1:\n"
     ]
    },
    {
     "name": "stderr",
     "output_type": "stream",
     "text": [
      "/Library/Frameworks/Python.framework/Versions/3.8/lib/python3.8/site-packages/sklearn/model_selection/_search.py:918: UserWarning: One or more of the test scores are non-finite: [0.68333333 0.68333333 0.68333333 ...        nan        nan        nan]\n",
      "  warnings.warn(\n"
     ]
    },
    {
     "name": "stdout",
     "output_type": "stream",
     "text": [
      "{'svm__C': 1, 'svm__kernel': 'rbf', 'vectorizer__max_df': 0.5, 'vectorizer__max_features': 100, 'vectorizer__min_df': 1}\n",
      "============================\n",
      "Best params for textdata_2:\n"
     ]
    },
    {
     "name": "stderr",
     "output_type": "stream",
     "text": [
      "/Library/Frameworks/Python.framework/Versions/3.8/lib/python3.8/site-packages/sklearn/model_selection/_search.py:918: UserWarning: One or more of the test scores are non-finite: [0.63666667 0.63666667 0.63666667 ...        nan        nan        nan]\n",
      "  warnings.warn(\n"
     ]
    },
    {
     "name": "stdout",
     "output_type": "stream",
     "text": [
      "{'svm__C': 0.5, 'svm__kernel': 'linear', 'vectorizer__max_df': 0.5, 'vectorizer__max_features': 2000, 'vectorizer__min_df': 1}\n",
      "============================\n",
      "Best params for textdata_3:\n"
     ]
    },
    {
     "name": "stderr",
     "output_type": "stream",
     "text": [
      "/Library/Frameworks/Python.framework/Versions/3.8/lib/python3.8/site-packages/sklearn/model_selection/_search.py:918: UserWarning: One or more of the test scores are non-finite: [0.64 0.64 0.65 ...  nan  nan  nan]\n",
      "  warnings.warn(\n"
     ]
    },
    {
     "name": "stdout",
     "output_type": "stream",
     "text": [
      "{'svm__C': 1, 'svm__kernel': 'linear', 'vectorizer__max_df': 0.75, 'vectorizer__max_features': None, 'vectorizer__min_df': 1}\n",
      "============================\n"
     ]
    },
    {
     "data": {
      "text/html": [
       "<div>\n",
       "<style scoped>\n",
       "    .dataframe tbody tr th:only-of-type {\n",
       "        vertical-align: middle;\n",
       "    }\n",
       "\n",
       "    .dataframe tbody tr th {\n",
       "        vertical-align: top;\n",
       "    }\n",
       "\n",
       "    .dataframe thead th {\n",
       "        text-align: right;\n",
       "    }\n",
       "</style>\n",
       "<table border=\"1\" class=\"dataframe\">\n",
       "  <thead>\n",
       "    <tr style=\"text-align: right;\">\n",
       "      <th></th>\n",
       "      <th>textdata_1</th>\n",
       "      <th>textdata_2</th>\n",
       "      <th>textdata_3</th>\n",
       "    </tr>\n",
       "  </thead>\n",
       "  <tbody>\n",
       "    <tr>\n",
       "      <th>Without NLP</th>\n",
       "      <td>0.8767</td>\n",
       "      <td>0.8667</td>\n",
       "      <td>0.8633</td>\n",
       "    </tr>\n",
       "    <tr>\n",
       "      <th>Stopword Removal</th>\n",
       "      <td>0.8967</td>\n",
       "      <td>0.8967</td>\n",
       "      <td>0.8933</td>\n",
       "    </tr>\n",
       "  </tbody>\n",
       "</table>\n",
       "</div>"
      ],
      "text/plain": [
       "                  textdata_1  textdata_2  textdata_3\n",
       "Without NLP           0.8767      0.8667      0.8633\n",
       "Stopword Removal      0.8967      0.8967      0.8933"
      ]
     },
     "execution_count": 20,
     "metadata": {},
     "output_type": "execute_result"
    }
   ],
   "source": [
    "# BoW\n",
    "results = {}\n",
    "for textdata in tqdm(textdatas):\n",
    "    print(f'Best params for {textdata}:')\n",
    "    X = df[textdata]\n",
    "    results[textdata] = classification_svm(X, df['parliament_member'], 'BoW').round(4)\n",
    "    print(\"============================\")\n",
    "    \n",
    "svm_bow = svm_bow.append(\n",
    "    pd.DataFrame.from_dict(results, orient='index', columns=['Stopword Removal']).T)\n",
    "\n",
    "svm_bow"
   ]
  },
  {
   "cell_type": "markdown",
   "id": "efficient-three",
   "metadata": {
    "jupyter": {
     "source_hidden": true
    }
   },
   "source": [
    "#### Logistic Regression"
   ]
  },
  {
   "cell_type": "code",
   "execution_count": 21,
   "id": "secure-plate",
   "metadata": {
    "collapsed": true,
    "jupyter": {
     "outputs_hidden": true,
     "source_hidden": true
    }
   },
   "outputs": [
    {
     "data": {
      "application/vnd.jupyter.widget-view+json": {
       "model_id": "72eccdf886164e7ea6099c0227bbc21e",
       "version_major": 2,
       "version_minor": 0
      },
      "text/plain": [
       "  0%|          | 0/3 [00:00<?, ?it/s]"
      ]
     },
     "metadata": {},
     "output_type": "display_data"
    },
    {
     "name": "stdout",
     "output_type": "stream",
     "text": [
      "Best params for textdata_1:\n"
     ]
    },
    {
     "name": "stderr",
     "output_type": "stream",
     "text": [
      "/Library/Frameworks/Python.framework/Versions/3.8/lib/python3.8/site-packages/sklearn/model_selection/_search.py:918: UserWarning: One or more of the test scores are non-finite: [nan nan nan ... nan nan nan]\n",
      "  warnings.warn(\n"
     ]
    },
    {
     "name": "stdout",
     "output_type": "stream",
     "text": [
      "{'lr__C': 0.1, 'lr__penalty': 'l2', 'vectorizer__max_df': 0.5, 'vectorizer__max_features': 2000, 'vectorizer__min_df': 1}\n",
      "============================\n",
      "Best params for textdata_2:\n"
     ]
    },
    {
     "name": "stderr",
     "output_type": "stream",
     "text": [
      "/Library/Frameworks/Python.framework/Versions/3.8/lib/python3.8/site-packages/sklearn/model_selection/_search.py:918: UserWarning: One or more of the test scores are non-finite: [nan nan nan ... nan nan nan]\n",
      "  warnings.warn(\n",
      "/Library/Frameworks/Python.framework/Versions/3.8/lib/python3.8/site-packages/sklearn/linear_model/_logistic.py:1322: UserWarning: Setting penalty='none' will ignore the C and l1_ratio parameters\n",
      "  warnings.warn(\n"
     ]
    },
    {
     "name": "stdout",
     "output_type": "stream",
     "text": [
      "{'lr__C': 0.1, 'lr__penalty': 'none', 'vectorizer__max_df': 0.5, 'vectorizer__max_features': 10, 'vectorizer__min_df': 10}\n",
      "============================\n",
      "Best params for textdata_3:\n"
     ]
    },
    {
     "name": "stderr",
     "output_type": "stream",
     "text": [
      "/Library/Frameworks/Python.framework/Versions/3.8/lib/python3.8/site-packages/sklearn/model_selection/_search.py:918: UserWarning: One or more of the test scores are non-finite: [nan nan nan ... nan nan nan]\n",
      "  warnings.warn(\n"
     ]
    },
    {
     "name": "stdout",
     "output_type": "stream",
     "text": [
      "{'lr__C': 0.1, 'lr__penalty': 'none', 'vectorizer__max_df': 0.75, 'vectorizer__max_features': 2000, 'vectorizer__min_df': 5}\n",
      "============================\n"
     ]
    },
    {
     "name": "stderr",
     "output_type": "stream",
     "text": [
      "/Library/Frameworks/Python.framework/Versions/3.8/lib/python3.8/site-packages/sklearn/linear_model/_logistic.py:1322: UserWarning: Setting penalty='none' will ignore the C and l1_ratio parameters\n",
      "  warnings.warn(\n"
     ]
    },
    {
     "data": {
      "text/html": [
       "<div>\n",
       "<style scoped>\n",
       "    .dataframe tbody tr th:only-of-type {\n",
       "        vertical-align: middle;\n",
       "    }\n",
       "\n",
       "    .dataframe tbody tr th {\n",
       "        vertical-align: top;\n",
       "    }\n",
       "\n",
       "    .dataframe thead th {\n",
       "        text-align: right;\n",
       "    }\n",
       "</style>\n",
       "<table border=\"1\" class=\"dataframe\">\n",
       "  <thead>\n",
       "    <tr style=\"text-align: right;\">\n",
       "      <th></th>\n",
       "      <th>textdata_1</th>\n",
       "      <th>textdata_2</th>\n",
       "      <th>textdata_3</th>\n",
       "    </tr>\n",
       "  </thead>\n",
       "  <tbody>\n",
       "    <tr>\n",
       "      <th>Without NLP</th>\n",
       "      <td>0.87</td>\n",
       "      <td>0.8733</td>\n",
       "      <td>0.9000</td>\n",
       "    </tr>\n",
       "    <tr>\n",
       "      <th>Stopword Removal</th>\n",
       "      <td>0.91</td>\n",
       "      <td>0.8733</td>\n",
       "      <td>0.9133</td>\n",
       "    </tr>\n",
       "  </tbody>\n",
       "</table>\n",
       "</div>"
      ],
      "text/plain": [
       "                  textdata_1  textdata_2  textdata_3\n",
       "Without NLP             0.87      0.8733      0.9000\n",
       "Stopword Removal        0.91      0.8733      0.9133"
      ]
     },
     "execution_count": 21,
     "metadata": {},
     "output_type": "execute_result"
    }
   ],
   "source": [
    "# TF-IDF \n",
    "results = {}\n",
    "for textdata in tqdm(textdatas):\n",
    "    print(f'Best params for {textdata}:')\n",
    "    X = df[textdata]\n",
    "    results[textdata] = classification_lr(X, df['parliament_member'], 'TF-IDF').round(4)\n",
    "    print(\"============================\")\n",
    "    \n",
    "lr_tfidf = lr_tfidf.append(\n",
    "    pd.DataFrame.from_dict(results, orient='index', columns=['Stopword Removal']).T)\n",
    "\n",
    "lr_tfidf"
   ]
  },
  {
   "cell_type": "code",
   "execution_count": 22,
   "id": "geological-karaoke",
   "metadata": {
    "collapsed": true,
    "jupyter": {
     "outputs_hidden": true,
     "source_hidden": true
    }
   },
   "outputs": [
    {
     "data": {
      "application/vnd.jupyter.widget-view+json": {
       "model_id": "37f1d78e87d643dd98c3773c8a7538fd",
       "version_major": 2,
       "version_minor": 0
      },
      "text/plain": [
       "  0%|          | 0/3 [00:00<?, ?it/s]"
      ]
     },
     "metadata": {},
     "output_type": "display_data"
    },
    {
     "name": "stdout",
     "output_type": "stream",
     "text": [
      "Best params for textdata_1:\n"
     ]
    },
    {
     "name": "stderr",
     "output_type": "stream",
     "text": [
      "/Library/Frameworks/Python.framework/Versions/3.8/lib/python3.8/site-packages/sklearn/model_selection/_search.py:918: UserWarning: One or more of the test scores are non-finite: [nan nan nan ... nan nan nan]\n",
      "  warnings.warn(\n",
      "/Library/Frameworks/Python.framework/Versions/3.8/lib/python3.8/site-packages/sklearn/linear_model/_logistic.py:1322: UserWarning: Setting penalty='none' will ignore the C and l1_ratio parameters\n",
      "  warnings.warn(\n"
     ]
    },
    {
     "name": "stdout",
     "output_type": "stream",
     "text": [
      "{'lr__C': 0.1, 'lr__penalty': 'none', 'vectorizer__max_df': 0.5, 'vectorizer__max_features': 2000, 'vectorizer__min_df': 1}\n",
      "============================\n",
      "Best params for textdata_2:\n"
     ]
    },
    {
     "name": "stderr",
     "output_type": "stream",
     "text": [
      "/Library/Frameworks/Python.framework/Versions/3.8/lib/python3.8/site-packages/sklearn/model_selection/_search.py:918: UserWarning: One or more of the test scores are non-finite: [nan nan nan ... nan nan nan]\n",
      "  warnings.warn(\n"
     ]
    },
    {
     "name": "stdout",
     "output_type": "stream",
     "text": [
      "{'lr__C': 0.1, 'lr__penalty': 'l2', 'vectorizer__max_df': 0.5, 'vectorizer__max_features': 2000, 'vectorizer__min_df': 1}\n",
      "============================\n",
      "Best params for textdata_3:\n"
     ]
    },
    {
     "name": "stderr",
     "output_type": "stream",
     "text": [
      "/Library/Frameworks/Python.framework/Versions/3.8/lib/python3.8/site-packages/sklearn/model_selection/_search.py:918: UserWarning: One or more of the test scores are non-finite: [nan nan nan ... nan nan nan]\n",
      "  warnings.warn(\n"
     ]
    },
    {
     "name": "stdout",
     "output_type": "stream",
     "text": [
      "{'lr__C': 0.1, 'lr__penalty': 'none', 'vectorizer__max_df': 0.75, 'vectorizer__max_features': 2000, 'vectorizer__min_df': 1}\n",
      "============================\n"
     ]
    },
    {
     "name": "stderr",
     "output_type": "stream",
     "text": [
      "/Library/Frameworks/Python.framework/Versions/3.8/lib/python3.8/site-packages/sklearn/linear_model/_logistic.py:1322: UserWarning: Setting penalty='none' will ignore the C and l1_ratio parameters\n",
      "  warnings.warn(\n"
     ]
    },
    {
     "data": {
      "text/html": [
       "<div>\n",
       "<style scoped>\n",
       "    .dataframe tbody tr th:only-of-type {\n",
       "        vertical-align: middle;\n",
       "    }\n",
       "\n",
       "    .dataframe tbody tr th {\n",
       "        vertical-align: top;\n",
       "    }\n",
       "\n",
       "    .dataframe thead th {\n",
       "        text-align: right;\n",
       "    }\n",
       "</style>\n",
       "<table border=\"1\" class=\"dataframe\">\n",
       "  <thead>\n",
       "    <tr style=\"text-align: right;\">\n",
       "      <th></th>\n",
       "      <th>textdata_1</th>\n",
       "      <th>textdata_2</th>\n",
       "      <th>textdata_3</th>\n",
       "    </tr>\n",
       "  </thead>\n",
       "  <tbody>\n",
       "    <tr>\n",
       "      <th>Without NLP</th>\n",
       "      <td>0.8867</td>\n",
       "      <td>0.8767</td>\n",
       "      <td>0.8867</td>\n",
       "    </tr>\n",
       "    <tr>\n",
       "      <th>Stopword Removal</th>\n",
       "      <td>0.9000</td>\n",
       "      <td>0.8767</td>\n",
       "      <td>0.9133</td>\n",
       "    </tr>\n",
       "  </tbody>\n",
       "</table>\n",
       "</div>"
      ],
      "text/plain": [
       "                  textdata_1  textdata_2  textdata_3\n",
       "Without NLP           0.8867      0.8767      0.8867\n",
       "Stopword Removal      0.9000      0.8767      0.9133"
      ]
     },
     "execution_count": 22,
     "metadata": {},
     "output_type": "execute_result"
    }
   ],
   "source": [
    "# BoW\n",
    "results = {}\n",
    "for textdata in tqdm(textdatas):\n",
    "    print(f'Best params for {textdata}:')\n",
    "    X = df[textdata]\n",
    "    results[textdata] = classification_lr(X, df['parliament_member'], 'BoW').round(4)\n",
    "    print(\"============================\")\n",
    "    \n",
    "lr_bow = lr_bow.append(\n",
    "    pd.DataFrame.from_dict(results, orient='index', columns=['Stopword Removal']).T)\n",
    "\n",
    "lr_bow"
   ]
  },
  {
   "cell_type": "markdown",
   "id": "peaceful-petroleum",
   "metadata": {
    "jupyter": {
     "source_hidden": true
    }
   },
   "source": [
    "#### kNN"
   ]
  },
  {
   "cell_type": "code",
   "execution_count": 23,
   "id": "opening-march",
   "metadata": {
    "collapsed": true,
    "jupyter": {
     "outputs_hidden": true,
     "source_hidden": true
    }
   },
   "outputs": [
    {
     "data": {
      "application/vnd.jupyter.widget-view+json": {
       "model_id": "0a7e8b1ed47f4edb84827a199508701a",
       "version_major": 2,
       "version_minor": 0
      },
      "text/plain": [
       "  0%|          | 0/3 [00:00<?, ?it/s]"
      ]
     },
     "metadata": {},
     "output_type": "display_data"
    },
    {
     "name": "stdout",
     "output_type": "stream",
     "text": [
      "Best params for textdata_1:\n"
     ]
    },
    {
     "name": "stderr",
     "output_type": "stream",
     "text": [
      "/Library/Frameworks/Python.framework/Versions/3.8/lib/python3.8/site-packages/sklearn/model_selection/_search.py:918: UserWarning: One or more of the test scores are non-finite: [0.66333333 0.67666667 0.67333333 ...        nan        nan        nan]\n",
      "  warnings.warn(\n"
     ]
    },
    {
     "name": "stdout",
     "output_type": "stream",
     "text": [
      "{'knn__n_neighbors': 1, 'knn__weights': 'uniform', 'vectorizer__max_df': 0.5, 'vectorizer__max_features': 100, 'vectorizer__min_df': 10}\n",
      "============================\n",
      "Best params for textdata_2:\n"
     ]
    },
    {
     "name": "stderr",
     "output_type": "stream",
     "text": [
      "/Library/Frameworks/Python.framework/Versions/3.8/lib/python3.8/site-packages/sklearn/model_selection/_search.py:918: UserWarning: One or more of the test scores are non-finite: [0.66666667 0.67333333 0.68333333 ...        nan        nan        nan]\n",
      "  warnings.warn(\n"
     ]
    },
    {
     "name": "stdout",
     "output_type": "stream",
     "text": [
      "{'knn__n_neighbors': 1, 'knn__weights': 'uniform', 'vectorizer__max_df': 0.5, 'vectorizer__max_features': 10, 'vectorizer__min_df': 25}\n",
      "============================\n",
      "Best params for textdata_3:\n"
     ]
    },
    {
     "name": "stderr",
     "output_type": "stream",
     "text": [
      "/Library/Frameworks/Python.framework/Versions/3.8/lib/python3.8/site-packages/sklearn/model_selection/_search.py:918: UserWarning: One or more of the test scores are non-finite: [0.61333333 0.61333333 0.61666667 ...        nan        nan        nan]\n",
      "  warnings.warn(\n"
     ]
    },
    {
     "name": "stdout",
     "output_type": "stream",
     "text": [
      "{'knn__n_neighbors': 8, 'knn__weights': 'uniform', 'vectorizer__max_df': 0.25, 'vectorizer__max_features': None, 'vectorizer__min_df': 1}\n",
      "============================\n"
     ]
    },
    {
     "data": {
      "text/html": [
       "<div>\n",
       "<style scoped>\n",
       "    .dataframe tbody tr th:only-of-type {\n",
       "        vertical-align: middle;\n",
       "    }\n",
       "\n",
       "    .dataframe tbody tr th {\n",
       "        vertical-align: top;\n",
       "    }\n",
       "\n",
       "    .dataframe thead th {\n",
       "        text-align: right;\n",
       "    }\n",
       "</style>\n",
       "<table border=\"1\" class=\"dataframe\">\n",
       "  <thead>\n",
       "    <tr style=\"text-align: right;\">\n",
       "      <th></th>\n",
       "      <th>textdata_1</th>\n",
       "      <th>textdata_2</th>\n",
       "      <th>textdata_3</th>\n",
       "    </tr>\n",
       "  </thead>\n",
       "  <tbody>\n",
       "    <tr>\n",
       "      <th>Without NLP</th>\n",
       "      <td>0.8567</td>\n",
       "      <td>0.8333</td>\n",
       "      <td>0.8767</td>\n",
       "    </tr>\n",
       "    <tr>\n",
       "      <th>Stopword Removal</th>\n",
       "      <td>0.8867</td>\n",
       "      <td>0.8467</td>\n",
       "      <td>0.8933</td>\n",
       "    </tr>\n",
       "  </tbody>\n",
       "</table>\n",
       "</div>"
      ],
      "text/plain": [
       "                  textdata_1  textdata_2  textdata_3\n",
       "Without NLP           0.8567      0.8333      0.8767\n",
       "Stopword Removal      0.8867      0.8467      0.8933"
      ]
     },
     "execution_count": 23,
     "metadata": {},
     "output_type": "execute_result"
    }
   ],
   "source": [
    "# TF-IDF \n",
    "results = {}\n",
    "for textdata in tqdm(textdatas):\n",
    "    print(f'Best params for {textdata}:')\n",
    "    X = df[textdata]\n",
    "    results[textdata] = classification_knn(X, df['parliament_member'], 'TF-IDF').round(4)\n",
    "    print(\"============================\")\n",
    "    \n",
    "knn_tfidf = knn_tfidf.append(\n",
    "    pd.DataFrame.from_dict(results, orient='index', columns=['Stopword Removal']).T)\n",
    "\n",
    "knn_tfidf"
   ]
  },
  {
   "cell_type": "code",
   "execution_count": 24,
   "id": "tested-salad",
   "metadata": {
    "collapsed": true,
    "jupyter": {
     "outputs_hidden": true,
     "source_hidden": true
    }
   },
   "outputs": [
    {
     "data": {
      "application/vnd.jupyter.widget-view+json": {
       "model_id": "ce444895d287441d924ac5b4dafe0d9c",
       "version_major": 2,
       "version_minor": 0
      },
      "text/plain": [
       "  0%|          | 0/3 [00:00<?, ?it/s]"
      ]
     },
     "metadata": {},
     "output_type": "display_data"
    },
    {
     "name": "stdout",
     "output_type": "stream",
     "text": [
      "Best params for textdata_1:\n"
     ]
    },
    {
     "name": "stderr",
     "output_type": "stream",
     "text": [
      "/Library/Frameworks/Python.framework/Versions/3.8/lib/python3.8/site-packages/sklearn/model_selection/_search.py:918: UserWarning: One or more of the test scores are non-finite: [0.65       0.65666667 0.66       ...        nan        nan        nan]\n",
      "  warnings.warn(\n"
     ]
    },
    {
     "name": "stdout",
     "output_type": "stream",
     "text": [
      "{'knn__n_neighbors': 3, 'knn__weights': 'distance', 'vectorizer__max_df': 0.5, 'vectorizer__max_features': 10, 'vectorizer__min_df': 5}\n",
      "============================\n",
      "Best params for textdata_2:\n"
     ]
    },
    {
     "name": "stderr",
     "output_type": "stream",
     "text": [
      "/Library/Frameworks/Python.framework/Versions/3.8/lib/python3.8/site-packages/sklearn/model_selection/_search.py:918: UserWarning: One or more of the test scores are non-finite: [0.64333333 0.64333333 0.65       ...        nan        nan        nan]\n",
      "  warnings.warn(\n"
     ]
    },
    {
     "name": "stdout",
     "output_type": "stream",
     "text": [
      "{'knn__n_neighbors': 5, 'knn__weights': 'distance', 'vectorizer__max_df': 0.5, 'vectorizer__max_features': 10, 'vectorizer__min_df': 25}\n",
      "============================\n",
      "Best params for textdata_3:\n"
     ]
    },
    {
     "name": "stderr",
     "output_type": "stream",
     "text": [
      "/Library/Frameworks/Python.framework/Versions/3.8/lib/python3.8/site-packages/sklearn/model_selection/_search.py:918: UserWarning: One or more of the test scores are non-finite: [0.62       0.62       0.62333333 ...        nan        nan        nan]\n",
      "  warnings.warn(\n"
     ]
    },
    {
     "name": "stdout",
     "output_type": "stream",
     "text": [
      "{'knn__n_neighbors': 1, 'knn__weights': 'uniform', 'vectorizer__max_df': 0.5, 'vectorizer__max_features': 100, 'vectorizer__min_df': 1}\n",
      "============================\n"
     ]
    },
    {
     "data": {
      "text/html": [
       "<div>\n",
       "<style scoped>\n",
       "    .dataframe tbody tr th:only-of-type {\n",
       "        vertical-align: middle;\n",
       "    }\n",
       "\n",
       "    .dataframe tbody tr th {\n",
       "        vertical-align: top;\n",
       "    }\n",
       "\n",
       "    .dataframe thead th {\n",
       "        text-align: right;\n",
       "    }\n",
       "</style>\n",
       "<table border=\"1\" class=\"dataframe\">\n",
       "  <thead>\n",
       "    <tr style=\"text-align: right;\">\n",
       "      <th></th>\n",
       "      <th>textdata_1</th>\n",
       "      <th>textdata_2</th>\n",
       "      <th>textdata_3</th>\n",
       "    </tr>\n",
       "  </thead>\n",
       "  <tbody>\n",
       "    <tr>\n",
       "      <th>Without NLP</th>\n",
       "      <td>0.8467</td>\n",
       "      <td>0.7933</td>\n",
       "      <td>0.8500</td>\n",
       "    </tr>\n",
       "    <tr>\n",
       "      <th>Stopword Removal</th>\n",
       "      <td>0.8767</td>\n",
       "      <td>0.8233</td>\n",
       "      <td>0.8533</td>\n",
       "    </tr>\n",
       "  </tbody>\n",
       "</table>\n",
       "</div>"
      ],
      "text/plain": [
       "                  textdata_1  textdata_2  textdata_3\n",
       "Without NLP           0.8467      0.7933      0.8500\n",
       "Stopword Removal      0.8767      0.8233      0.8533"
      ]
     },
     "execution_count": 24,
     "metadata": {},
     "output_type": "execute_result"
    }
   ],
   "source": [
    "# BoW\n",
    "results = {}\n",
    "for textdata in tqdm(textdatas):\n",
    "    print(f'Best params for {textdata}:')\n",
    "    X = df[textdata]\n",
    "    results[textdata] = classification_knn(X, df['parliament_member'], 'BoW').round(4)\n",
    "    print(\"============================\")\n",
    "    \n",
    "knn_bow = knn_bow.append(\n",
    "    pd.DataFrame.from_dict(results, orient='index', columns=['Stopword Removal']).T)\n",
    "\n",
    "knn_bow"
   ]
  },
  {
   "cell_type": "markdown",
   "id": "requested-delicious",
   "metadata": {},
   "source": [
    "### Lemmatization"
   ]
  },
  {
   "cell_type": "code",
   "execution_count": 27,
   "id": "saved-frank",
   "metadata": {},
   "outputs": [],
   "source": [
    "def tokenize_lemmatize(row):\n",
    "    return [str(token.lemma_) for token in nlp_el(row)]"
   ]
  },
  {
   "cell_type": "code",
   "execution_count": 26,
   "id": "ancient-convenience",
   "metadata": {
    "jupyter": {
     "source_hidden": true
    }
   },
   "outputs": [],
   "source": [
    "df = data.copy()\n",
    "\n",
    "df['textdata_1'] = df['textdata_1'].apply(lambda row: tokenize_lemmatize(row))\n",
    "df['textdata_1'] = df['textdata_1'].apply(lambda row: ' '.join(row))\n",
    "df['textdata_1'] = df['textdata_1'].apply(lambda row: remove_stopwords(row))\n",
    "df['textdata_1'] = df['textdata_1'].apply(lambda row: ' '.join(row))\n",
    "\n",
    "df['textdata_2'] = df['textdata_2'].apply(lambda row: tokenize_lemmatize(row))\n",
    "df['textdata_2'] = df['textdata_2'].apply(lambda row: ' '.join(row))\n",
    "df['textdata_2'] = df['textdata_2'].apply(lambda row: remove_stopwords(row))\n",
    "df['textdata_2'] = df['textdata_2'].apply(lambda row: ' '.join(row))\n",
    "\n",
    "df['textdata_3'] = df['textdata_3'].apply(lambda row: tokenize_lemmatize(row))\n",
    "df['textdata_3'] = df['textdata_3'].apply(lambda row: ' '.join(row))\n",
    "df['textdata_3'] = df['textdata_3'].apply(lambda row: remove_stopwords(row))\n",
    "df['textdata_3'] = df['textdata_3'].apply(lambda row: ' '.join(row))"
   ]
  },
  {
   "cell_type": "markdown",
   "id": "professional-ready",
   "metadata": {
    "jupyter": {
     "source_hidden": true
    }
   },
   "source": [
    "#### SVM"
   ]
  },
  {
   "cell_type": "code",
   "execution_count": 27,
   "id": "further-consumer",
   "metadata": {
    "collapsed": true,
    "jupyter": {
     "outputs_hidden": true,
     "source_hidden": true
    }
   },
   "outputs": [
    {
     "data": {
      "application/vnd.jupyter.widget-view+json": {
       "model_id": "71a26816803d42d5a8e2652f971ec5ac",
       "version_major": 2,
       "version_minor": 0
      },
      "text/plain": [
       "  0%|          | 0/3 [00:00<?, ?it/s]"
      ]
     },
     "metadata": {},
     "output_type": "display_data"
    },
    {
     "name": "stdout",
     "output_type": "stream",
     "text": [
      "Best params for textdata_1:\n"
     ]
    },
    {
     "name": "stderr",
     "output_type": "stream",
     "text": [
      "/Library/Frameworks/Python.framework/Versions/3.8/lib/python3.8/site-packages/sklearn/model_selection/_search.py:918: UserWarning: One or more of the test scores are non-finite: [0.67333333 0.68       0.67666667 ...        nan        nan        nan]\n",
      "  warnings.warn(\n"
     ]
    },
    {
     "name": "stdout",
     "output_type": "stream",
     "text": [
      "{'svm__C': 1, 'svm__kernel': 'rbf', 'vectorizer__max_df': 0.5, 'vectorizer__max_features': 2000, 'vectorizer__min_df': 1}\n",
      "============================\n",
      "Best params for textdata_2:\n"
     ]
    },
    {
     "name": "stderr",
     "output_type": "stream",
     "text": [
      "/Library/Frameworks/Python.framework/Versions/3.8/lib/python3.8/site-packages/sklearn/model_selection/_search.py:918: UserWarning: One or more of the test scores are non-finite: [0.61       0.62333333 0.62333333 ...        nan        nan        nan]\n",
      "  warnings.warn(\n"
     ]
    },
    {
     "name": "stdout",
     "output_type": "stream",
     "text": [
      "{'svm__C': 1, 'svm__kernel': 'sigmoid', 'vectorizer__max_df': 0.5, 'vectorizer__max_features': 2000, 'vectorizer__min_df': 1}\n",
      "============================\n",
      "Best params for textdata_3:\n"
     ]
    },
    {
     "name": "stderr",
     "output_type": "stream",
     "text": [
      "/Library/Frameworks/Python.framework/Versions/3.8/lib/python3.8/site-packages/sklearn/model_selection/_search.py:918: UserWarning: One or more of the test scores are non-finite: [0.64333333 0.64333333 0.64333333 ...        nan        nan        nan]\n",
      "  warnings.warn(\n"
     ]
    },
    {
     "name": "stdout",
     "output_type": "stream",
     "text": [
      "{'svm__C': 5, 'svm__kernel': 'rbf', 'vectorizer__max_df': 0.75, 'vectorizer__max_features': 2000, 'vectorizer__min_df': 1}\n",
      "============================\n"
     ]
    },
    {
     "data": {
      "text/html": [
       "<div>\n",
       "<style scoped>\n",
       "    .dataframe tbody tr th:only-of-type {\n",
       "        vertical-align: middle;\n",
       "    }\n",
       "\n",
       "    .dataframe tbody tr th {\n",
       "        vertical-align: top;\n",
       "    }\n",
       "\n",
       "    .dataframe thead th {\n",
       "        text-align: right;\n",
       "    }\n",
       "</style>\n",
       "<table border=\"1\" class=\"dataframe\">\n",
       "  <thead>\n",
       "    <tr style=\"text-align: right;\">\n",
       "      <th></th>\n",
       "      <th>textdata_1</th>\n",
       "      <th>textdata_2</th>\n",
       "      <th>textdata_3</th>\n",
       "    </tr>\n",
       "  </thead>\n",
       "  <tbody>\n",
       "    <tr>\n",
       "      <th>Without NLP</th>\n",
       "      <td>0.88</td>\n",
       "      <td>0.8800</td>\n",
       "      <td>0.9100</td>\n",
       "    </tr>\n",
       "    <tr>\n",
       "      <th>Stopword Removal</th>\n",
       "      <td>0.90</td>\n",
       "      <td>0.8767</td>\n",
       "      <td>0.9167</td>\n",
       "    </tr>\n",
       "    <tr>\n",
       "      <th>Lemmatization</th>\n",
       "      <td>0.90</td>\n",
       "      <td>0.8733</td>\n",
       "      <td>0.9233</td>\n",
       "    </tr>\n",
       "  </tbody>\n",
       "</table>\n",
       "</div>"
      ],
      "text/plain": [
       "                  textdata_1  textdata_2  textdata_3\n",
       "Without NLP             0.88      0.8800      0.9100\n",
       "Stopword Removal        0.90      0.8767      0.9167\n",
       "Lemmatization           0.90      0.8733      0.9233"
      ]
     },
     "execution_count": 27,
     "metadata": {},
     "output_type": "execute_result"
    }
   ],
   "source": [
    "# TF-IDF \n",
    "results = {}\n",
    "for textdata in tqdm(textdatas):\n",
    "    print(f'Best params for {textdata}:')\n",
    "    X = df[textdata]\n",
    "    results[textdata] = classification_svm(X, df['parliament_member'], 'TF-IDF').round(4)\n",
    "    print(\"============================\")\n",
    "    \n",
    "svm_tfidf = svm_tfidf.append(\n",
    "    pd.DataFrame.from_dict(results, orient='index', columns=['Lemmatization']).T)\n",
    "\n",
    "svm_tfidf"
   ]
  },
  {
   "cell_type": "code",
   "execution_count": 28,
   "id": "vital-bones",
   "metadata": {
    "collapsed": true,
    "jupyter": {
     "outputs_hidden": true,
     "source_hidden": true
    }
   },
   "outputs": [
    {
     "data": {
      "application/vnd.jupyter.widget-view+json": {
       "model_id": "1f292a58c6bb40769d49d128f307a8d4",
       "version_major": 2,
       "version_minor": 0
      },
      "text/plain": [
       "  0%|          | 0/3 [00:00<?, ?it/s]"
      ]
     },
     "metadata": {},
     "output_type": "display_data"
    },
    {
     "name": "stdout",
     "output_type": "stream",
     "text": [
      "Best params for textdata_1:\n"
     ]
    },
    {
     "name": "stderr",
     "output_type": "stream",
     "text": [
      "/Library/Frameworks/Python.framework/Versions/3.8/lib/python3.8/site-packages/sklearn/model_selection/_search.py:918: UserWarning: One or more of the test scores are non-finite: [0.68666667 0.68666667 0.68       ...        nan        nan        nan]\n",
      "  warnings.warn(\n"
     ]
    },
    {
     "name": "stdout",
     "output_type": "stream",
     "text": [
      "{'svm__C': 0.5, 'svm__kernel': 'rbf', 'vectorizer__max_df': 0.5, 'vectorizer__max_features': 100, 'vectorizer__min_df': 10}\n",
      "============================\n",
      "Best params for textdata_2:\n"
     ]
    },
    {
     "name": "stderr",
     "output_type": "stream",
     "text": [
      "/Library/Frameworks/Python.framework/Versions/3.8/lib/python3.8/site-packages/sklearn/model_selection/_search.py:918: UserWarning: One or more of the test scores are non-finite: [0.58       0.58333333 0.57666667 ...        nan        nan        nan]\n",
      "  warnings.warn(\n"
     ]
    },
    {
     "name": "stdout",
     "output_type": "stream",
     "text": [
      "{'svm__C': 0.5, 'svm__kernel': 'linear', 'vectorizer__max_df': 0.5, 'vectorizer__max_features': 2000, 'vectorizer__min_df': 1}\n",
      "============================\n",
      "Best params for textdata_3:\n"
     ]
    },
    {
     "name": "stderr",
     "output_type": "stream",
     "text": [
      "/Library/Frameworks/Python.framework/Versions/3.8/lib/python3.8/site-packages/sklearn/model_selection/_search.py:918: UserWarning: One or more of the test scores are non-finite: [0.6 0.6 0.6 ... nan nan nan]\n",
      "  warnings.warn(\n"
     ]
    },
    {
     "name": "stdout",
     "output_type": "stream",
     "text": [
      "{'svm__C': 1, 'svm__kernel': 'linear', 'vectorizer__max_df': 0.75, 'vectorizer__max_features': None, 'vectorizer__min_df': 1}\n",
      "============================\n"
     ]
    },
    {
     "data": {
      "text/html": [
       "<div>\n",
       "<style scoped>\n",
       "    .dataframe tbody tr th:only-of-type {\n",
       "        vertical-align: middle;\n",
       "    }\n",
       "\n",
       "    .dataframe tbody tr th {\n",
       "        vertical-align: top;\n",
       "    }\n",
       "\n",
       "    .dataframe thead th {\n",
       "        text-align: right;\n",
       "    }\n",
       "</style>\n",
       "<table border=\"1\" class=\"dataframe\">\n",
       "  <thead>\n",
       "    <tr style=\"text-align: right;\">\n",
       "      <th></th>\n",
       "      <th>textdata_1</th>\n",
       "      <th>textdata_2</th>\n",
       "      <th>textdata_3</th>\n",
       "    </tr>\n",
       "  </thead>\n",
       "  <tbody>\n",
       "    <tr>\n",
       "      <th>Without NLP</th>\n",
       "      <td>0.8767</td>\n",
       "      <td>0.8667</td>\n",
       "      <td>0.8633</td>\n",
       "    </tr>\n",
       "    <tr>\n",
       "      <th>Stopword Removal</th>\n",
       "      <td>0.8967</td>\n",
       "      <td>0.8967</td>\n",
       "      <td>0.8933</td>\n",
       "    </tr>\n",
       "    <tr>\n",
       "      <th>Lemmatization</th>\n",
       "      <td>0.8900</td>\n",
       "      <td>0.8667</td>\n",
       "      <td>0.8867</td>\n",
       "    </tr>\n",
       "  </tbody>\n",
       "</table>\n",
       "</div>"
      ],
      "text/plain": [
       "                  textdata_1  textdata_2  textdata_3\n",
       "Without NLP           0.8767      0.8667      0.8633\n",
       "Stopword Removal      0.8967      0.8967      0.8933\n",
       "Lemmatization         0.8900      0.8667      0.8867"
      ]
     },
     "execution_count": 28,
     "metadata": {},
     "output_type": "execute_result"
    }
   ],
   "source": [
    "# BoW\n",
    "results = {}\n",
    "for textdata in tqdm(textdatas):\n",
    "    print(f'Best params for {textdata}:')\n",
    "    X = df[textdata]\n",
    "    results[textdata] = classification_svm(X, df['parliament_member'], 'BoW').round(4)\n",
    "    print(\"============================\")\n",
    "    \n",
    "svm_bow = svm_bow.append(\n",
    "    pd.DataFrame.from_dict(results, orient='index', columns=['Lemmatization']).T)\n",
    "\n",
    "svm_bow"
   ]
  },
  {
   "cell_type": "markdown",
   "id": "reported-smart",
   "metadata": {
    "jupyter": {
     "source_hidden": true
    }
   },
   "source": [
    "#### Logistic Regression"
   ]
  },
  {
   "cell_type": "code",
   "execution_count": 29,
   "id": "worthy-heavy",
   "metadata": {
    "collapsed": true,
    "jupyter": {
     "outputs_hidden": true,
     "source_hidden": true
    }
   },
   "outputs": [
    {
     "data": {
      "application/vnd.jupyter.widget-view+json": {
       "model_id": "8996e2f7688640c6b56848b0ccefcc65",
       "version_major": 2,
       "version_minor": 0
      },
      "text/plain": [
       "  0%|          | 0/3 [00:00<?, ?it/s]"
      ]
     },
     "metadata": {},
     "output_type": "display_data"
    },
    {
     "name": "stdout",
     "output_type": "stream",
     "text": [
      "Best params for textdata_1:\n"
     ]
    },
    {
     "name": "stderr",
     "output_type": "stream",
     "text": [
      "/Library/Frameworks/Python.framework/Versions/3.8/lib/python3.8/site-packages/sklearn/model_selection/_search.py:918: UserWarning: One or more of the test scores are non-finite: [nan nan nan ... nan nan nan]\n",
      "  warnings.warn(\n"
     ]
    },
    {
     "name": "stdout",
     "output_type": "stream",
     "text": [
      "{'lr__C': 0.1, 'lr__penalty': 'l2', 'vectorizer__max_df': 0.5, 'vectorizer__max_features': None, 'vectorizer__min_df': 1}\n",
      "============================\n",
      "Best params for textdata_2:\n"
     ]
    },
    {
     "name": "stderr",
     "output_type": "stream",
     "text": [
      "/Library/Frameworks/Python.framework/Versions/3.8/lib/python3.8/site-packages/sklearn/model_selection/_search.py:918: UserWarning: One or more of the test scores are non-finite: [nan nan nan ... nan nan nan]\n",
      "  warnings.warn(\n",
      "/Library/Frameworks/Python.framework/Versions/3.8/lib/python3.8/site-packages/sklearn/linear_model/_logistic.py:1322: UserWarning: Setting penalty='none' will ignore the C and l1_ratio parameters\n",
      "  warnings.warn(\n"
     ]
    },
    {
     "name": "stdout",
     "output_type": "stream",
     "text": [
      "{'lr__C': 0.1, 'lr__penalty': 'none', 'vectorizer__max_df': 0.5, 'vectorizer__max_features': 1000, 'vectorizer__min_df': 1}\n",
      "============================\n",
      "Best params for textdata_3:\n"
     ]
    },
    {
     "name": "stderr",
     "output_type": "stream",
     "text": [
      "/Library/Frameworks/Python.framework/Versions/3.8/lib/python3.8/site-packages/sklearn/model_selection/_search.py:918: UserWarning: One or more of the test scores are non-finite: [nan nan nan ... nan nan nan]\n",
      "  warnings.warn(\n",
      "/Library/Frameworks/Python.framework/Versions/3.8/lib/python3.8/site-packages/sklearn/linear_model/_logistic.py:1322: UserWarning: Setting penalty='none' will ignore the C and l1_ratio parameters\n",
      "  warnings.warn(\n"
     ]
    },
    {
     "name": "stdout",
     "output_type": "stream",
     "text": [
      "{'lr__C': 0.1, 'lr__penalty': 'none', 'vectorizer__max_df': 0.75, 'vectorizer__max_features': None, 'vectorizer__min_df': 1}\n",
      "============================\n"
     ]
    },
    {
     "data": {
      "text/html": [
       "<div>\n",
       "<style scoped>\n",
       "    .dataframe tbody tr th:only-of-type {\n",
       "        vertical-align: middle;\n",
       "    }\n",
       "\n",
       "    .dataframe tbody tr th {\n",
       "        vertical-align: top;\n",
       "    }\n",
       "\n",
       "    .dataframe thead th {\n",
       "        text-align: right;\n",
       "    }\n",
       "</style>\n",
       "<table border=\"1\" class=\"dataframe\">\n",
       "  <thead>\n",
       "    <tr style=\"text-align: right;\">\n",
       "      <th></th>\n",
       "      <th>textdata_1</th>\n",
       "      <th>textdata_2</th>\n",
       "      <th>textdata_3</th>\n",
       "    </tr>\n",
       "  </thead>\n",
       "  <tbody>\n",
       "    <tr>\n",
       "      <th>Without NLP</th>\n",
       "      <td>0.8700</td>\n",
       "      <td>0.8733</td>\n",
       "      <td>0.9000</td>\n",
       "    </tr>\n",
       "    <tr>\n",
       "      <th>Stopword Removal</th>\n",
       "      <td>0.9100</td>\n",
       "      <td>0.8733</td>\n",
       "      <td>0.9133</td>\n",
       "    </tr>\n",
       "    <tr>\n",
       "      <th>Lemmatization</th>\n",
       "      <td>0.9067</td>\n",
       "      <td>0.8800</td>\n",
       "      <td>0.9267</td>\n",
       "    </tr>\n",
       "  </tbody>\n",
       "</table>\n",
       "</div>"
      ],
      "text/plain": [
       "                  textdata_1  textdata_2  textdata_3\n",
       "Without NLP           0.8700      0.8733      0.9000\n",
       "Stopword Removal      0.9100      0.8733      0.9133\n",
       "Lemmatization         0.9067      0.8800      0.9267"
      ]
     },
     "execution_count": 29,
     "metadata": {},
     "output_type": "execute_result"
    }
   ],
   "source": [
    "# TF-IDF \n",
    "results = {}\n",
    "for textdata in tqdm(textdatas):\n",
    "    print(f'Best params for {textdata}:')\n",
    "    X = df[textdata]\n",
    "    results[textdata] = classification_lr(X, df['parliament_member'], 'TF-IDF').round(4)\n",
    "    print(\"============================\")\n",
    "    \n",
    "lr_tfidf = lr_tfidf.append(\n",
    "    pd.DataFrame.from_dict(results, orient='index', columns=['Lemmatization']).T)\n",
    "\n",
    "lr_tfidf"
   ]
  },
  {
   "cell_type": "code",
   "execution_count": 30,
   "id": "closing-afternoon",
   "metadata": {
    "collapsed": true,
    "jupyter": {
     "outputs_hidden": true,
     "source_hidden": true
    }
   },
   "outputs": [
    {
     "data": {
      "application/vnd.jupyter.widget-view+json": {
       "model_id": "19ff313075eb4dba96702797a5b42b0f",
       "version_major": 2,
       "version_minor": 0
      },
      "text/plain": [
       "  0%|          | 0/3 [00:00<?, ?it/s]"
      ]
     },
     "metadata": {},
     "output_type": "display_data"
    },
    {
     "name": "stdout",
     "output_type": "stream",
     "text": [
      "Best params for textdata_1:\n"
     ]
    },
    {
     "name": "stderr",
     "output_type": "stream",
     "text": [
      "/Library/Frameworks/Python.framework/Versions/3.8/lib/python3.8/site-packages/sklearn/model_selection/_search.py:918: UserWarning: One or more of the test scores are non-finite: [nan nan nan ... nan nan nan]\n",
      "  warnings.warn(\n"
     ]
    },
    {
     "name": "stdout",
     "output_type": "stream",
     "text": [
      "{'lr__C': 1, 'lr__penalty': 'l2', 'vectorizer__max_df': 0.5, 'vectorizer__max_features': 1000, 'vectorizer__min_df': 1}\n",
      "============================\n",
      "Best params for textdata_2:\n"
     ]
    },
    {
     "name": "stderr",
     "output_type": "stream",
     "text": [
      "/Library/Frameworks/Python.framework/Versions/3.8/lib/python3.8/site-packages/sklearn/model_selection/_search.py:918: UserWarning: One or more of the test scores are non-finite: [nan nan nan ... nan nan nan]\n",
      "  warnings.warn(\n",
      "/Library/Frameworks/Python.framework/Versions/3.8/lib/python3.8/site-packages/sklearn/linear_model/_logistic.py:1322: UserWarning: Setting penalty='none' will ignore the C and l1_ratio parameters\n",
      "  warnings.warn(\n"
     ]
    },
    {
     "name": "stdout",
     "output_type": "stream",
     "text": [
      "{'lr__C': 0.1, 'lr__penalty': 'none', 'vectorizer__max_df': 0.5, 'vectorizer__max_features': None, 'vectorizer__min_df': 1}\n",
      "============================\n",
      "Best params for textdata_3:\n"
     ]
    },
    {
     "name": "stderr",
     "output_type": "stream",
     "text": [
      "/Library/Frameworks/Python.framework/Versions/3.8/lib/python3.8/site-packages/sklearn/model_selection/_search.py:918: UserWarning: One or more of the test scores are non-finite: [nan nan nan ... nan nan nan]\n",
      "  warnings.warn(\n"
     ]
    },
    {
     "name": "stdout",
     "output_type": "stream",
     "text": [
      "{'lr__C': 0.1, 'lr__penalty': 'none', 'vectorizer__max_df': 0.75, 'vectorizer__max_features': 1000, 'vectorizer__min_df': 5}\n",
      "============================\n"
     ]
    },
    {
     "name": "stderr",
     "output_type": "stream",
     "text": [
      "/Library/Frameworks/Python.framework/Versions/3.8/lib/python3.8/site-packages/sklearn/linear_model/_logistic.py:1322: UserWarning: Setting penalty='none' will ignore the C and l1_ratio parameters\n",
      "  warnings.warn(\n"
     ]
    },
    {
     "data": {
      "text/html": [
       "<div>\n",
       "<style scoped>\n",
       "    .dataframe tbody tr th:only-of-type {\n",
       "        vertical-align: middle;\n",
       "    }\n",
       "\n",
       "    .dataframe tbody tr th {\n",
       "        vertical-align: top;\n",
       "    }\n",
       "\n",
       "    .dataframe thead th {\n",
       "        text-align: right;\n",
       "    }\n",
       "</style>\n",
       "<table border=\"1\" class=\"dataframe\">\n",
       "  <thead>\n",
       "    <tr style=\"text-align: right;\">\n",
       "      <th></th>\n",
       "      <th>textdata_1</th>\n",
       "      <th>textdata_2</th>\n",
       "      <th>textdata_3</th>\n",
       "    </tr>\n",
       "  </thead>\n",
       "  <tbody>\n",
       "    <tr>\n",
       "      <th>Without NLP</th>\n",
       "      <td>0.8867</td>\n",
       "      <td>0.8767</td>\n",
       "      <td>0.8867</td>\n",
       "    </tr>\n",
       "    <tr>\n",
       "      <th>Stopword Removal</th>\n",
       "      <td>0.9000</td>\n",
       "      <td>0.8767</td>\n",
       "      <td>0.9133</td>\n",
       "    </tr>\n",
       "    <tr>\n",
       "      <th>Lemmatization</th>\n",
       "      <td>0.8900</td>\n",
       "      <td>0.8800</td>\n",
       "      <td>0.9100</td>\n",
       "    </tr>\n",
       "  </tbody>\n",
       "</table>\n",
       "</div>"
      ],
      "text/plain": [
       "                  textdata_1  textdata_2  textdata_3\n",
       "Without NLP           0.8867      0.8767      0.8867\n",
       "Stopword Removal      0.9000      0.8767      0.9133\n",
       "Lemmatization         0.8900      0.8800      0.9100"
      ]
     },
     "execution_count": 30,
     "metadata": {},
     "output_type": "execute_result"
    }
   ],
   "source": [
    "# BoW\n",
    "results = {}\n",
    "for textdata in tqdm(textdatas):\n",
    "    print(f'Best params for {textdata}:')\n",
    "    X = df[textdata]\n",
    "    results[textdata] = classification_lr(X, df['parliament_member'], 'BoW').round(4)\n",
    "    print(\"============================\")\n",
    "    \n",
    "lr_bow = lr_bow.append(\n",
    "    pd.DataFrame.from_dict(results, orient='index', columns=['Lemmatization']).T)\n",
    "\n",
    "lr_bow"
   ]
  },
  {
   "cell_type": "markdown",
   "id": "primary-photograph",
   "metadata": {
    "jupyter": {
     "source_hidden": true
    }
   },
   "source": [
    "#### kNN"
   ]
  },
  {
   "cell_type": "code",
   "execution_count": 31,
   "id": "viral-repair",
   "metadata": {
    "collapsed": true,
    "jupyter": {
     "outputs_hidden": true,
     "source_hidden": true
    }
   },
   "outputs": [
    {
     "data": {
      "application/vnd.jupyter.widget-view+json": {
       "model_id": "18112fb55f8b4894a089a32a3f09de92",
       "version_major": 2,
       "version_minor": 0
      },
      "text/plain": [
       "  0%|          | 0/3 [00:00<?, ?it/s]"
      ]
     },
     "metadata": {},
     "output_type": "display_data"
    },
    {
     "name": "stdout",
     "output_type": "stream",
     "text": [
      "Best params for textdata_1:\n"
     ]
    },
    {
     "name": "stderr",
     "output_type": "stream",
     "text": [
      "/Library/Frameworks/Python.framework/Versions/3.8/lib/python3.8/site-packages/sklearn/model_selection/_search.py:918: UserWarning: One or more of the test scores are non-finite: [0.69666667 0.70333333 0.69       ...        nan        nan        nan]\n",
      "  warnings.warn(\n"
     ]
    },
    {
     "name": "stdout",
     "output_type": "stream",
     "text": [
      "{'knn__n_neighbors': 3, 'knn__weights': 'uniform', 'vectorizer__max_df': 0.5, 'vectorizer__max_features': 100, 'vectorizer__min_df': 10}\n",
      "============================\n",
      "Best params for textdata_2:\n"
     ]
    },
    {
     "name": "stderr",
     "output_type": "stream",
     "text": [
      "/Library/Frameworks/Python.framework/Versions/3.8/lib/python3.8/site-packages/sklearn/model_selection/_search.py:918: UserWarning: One or more of the test scores are non-finite: [0.62666667 0.63333333 0.62666667 ...        nan        nan        nan]\n",
      "  warnings.warn(\n"
     ]
    },
    {
     "name": "stdout",
     "output_type": "stream",
     "text": [
      "{'knn__n_neighbors': 6, 'knn__weights': 'uniform', 'vectorizer__max_df': 0.25, 'vectorizer__max_features': None, 'vectorizer__min_df': 1}\n",
      "============================\n",
      "Best params for textdata_3:\n"
     ]
    },
    {
     "name": "stderr",
     "output_type": "stream",
     "text": [
      "/Library/Frameworks/Python.framework/Versions/3.8/lib/python3.8/site-packages/sklearn/model_selection/_search.py:918: UserWarning: One or more of the test scores are non-finite: [0.62333333 0.62333333 0.62333333 ...        nan        nan        nan]\n",
      "  warnings.warn(\n"
     ]
    },
    {
     "name": "stdout",
     "output_type": "stream",
     "text": [
      "{'knn__n_neighbors': 4, 'knn__weights': 'uniform', 'vectorizer__max_df': 0.25, 'vectorizer__max_features': None, 'vectorizer__min_df': 1}\n",
      "============================\n"
     ]
    },
    {
     "data": {
      "text/html": [
       "<div>\n",
       "<style scoped>\n",
       "    .dataframe tbody tr th:only-of-type {\n",
       "        vertical-align: middle;\n",
       "    }\n",
       "\n",
       "    .dataframe tbody tr th {\n",
       "        vertical-align: top;\n",
       "    }\n",
       "\n",
       "    .dataframe thead th {\n",
       "        text-align: right;\n",
       "    }\n",
       "</style>\n",
       "<table border=\"1\" class=\"dataframe\">\n",
       "  <thead>\n",
       "    <tr style=\"text-align: right;\">\n",
       "      <th></th>\n",
       "      <th>textdata_1</th>\n",
       "      <th>textdata_2</th>\n",
       "      <th>textdata_3</th>\n",
       "    </tr>\n",
       "  </thead>\n",
       "  <tbody>\n",
       "    <tr>\n",
       "      <th>Without NLP</th>\n",
       "      <td>0.8567</td>\n",
       "      <td>0.8333</td>\n",
       "      <td>0.8767</td>\n",
       "    </tr>\n",
       "    <tr>\n",
       "      <th>Stopword Removal</th>\n",
       "      <td>0.8867</td>\n",
       "      <td>0.8467</td>\n",
       "      <td>0.8933</td>\n",
       "    </tr>\n",
       "    <tr>\n",
       "      <th>Lemmatization</th>\n",
       "      <td>0.8900</td>\n",
       "      <td>0.8233</td>\n",
       "      <td>0.9133</td>\n",
       "    </tr>\n",
       "  </tbody>\n",
       "</table>\n",
       "</div>"
      ],
      "text/plain": [
       "                  textdata_1  textdata_2  textdata_3\n",
       "Without NLP           0.8567      0.8333      0.8767\n",
       "Stopword Removal      0.8867      0.8467      0.8933\n",
       "Lemmatization         0.8900      0.8233      0.9133"
      ]
     },
     "execution_count": 31,
     "metadata": {},
     "output_type": "execute_result"
    }
   ],
   "source": [
    "# TF-IDF \n",
    "results = {}\n",
    "for textdata in tqdm(textdatas):\n",
    "    print(f'Best params for {textdata}:')\n",
    "    X = df[textdata]\n",
    "    results[textdata] = classification_knn(X, df['parliament_member'], 'TF-IDF').round(4)\n",
    "    print(\"============================\")\n",
    "    \n",
    "knn_tfidf = knn_tfidf.append(\n",
    "    pd.DataFrame.from_dict(results, orient='index', columns=['Lemmatization']).T)\n",
    "\n",
    "knn_tfidf"
   ]
  },
  {
   "cell_type": "code",
   "execution_count": 32,
   "id": "alert-breakdown",
   "metadata": {
    "collapsed": true,
    "jupyter": {
     "outputs_hidden": true,
     "source_hidden": true
    }
   },
   "outputs": [
    {
     "data": {
      "application/vnd.jupyter.widget-view+json": {
       "model_id": "fb1fe9f45c9641e79c14740341de32ec",
       "version_major": 2,
       "version_minor": 0
      },
      "text/plain": [
       "  0%|          | 0/3 [00:00<?, ?it/s]"
      ]
     },
     "metadata": {},
     "output_type": "display_data"
    },
    {
     "name": "stdout",
     "output_type": "stream",
     "text": [
      "Best params for textdata_1:\n"
     ]
    },
    {
     "name": "stderr",
     "output_type": "stream",
     "text": [
      "/Library/Frameworks/Python.framework/Versions/3.8/lib/python3.8/site-packages/sklearn/model_selection/_search.py:918: UserWarning: One or more of the test scores are non-finite: [0.68666667 0.69666667 0.68       ...        nan        nan        nan]\n",
      "  warnings.warn(\n"
     ]
    },
    {
     "name": "stdout",
     "output_type": "stream",
     "text": [
      "{'knn__n_neighbors': 1, 'knn__weights': 'uniform', 'vectorizer__max_df': 0.5, 'vectorizer__max_features': 100, 'vectorizer__min_df': 10}\n",
      "============================\n",
      "Best params for textdata_2:\n"
     ]
    },
    {
     "name": "stderr",
     "output_type": "stream",
     "text": [
      "/Library/Frameworks/Python.framework/Versions/3.8/lib/python3.8/site-packages/sklearn/model_selection/_search.py:918: UserWarning: One or more of the test scores are non-finite: [0.61       0.62       0.62333333 ...        nan        nan        nan]\n",
      "  warnings.warn(\n"
     ]
    },
    {
     "name": "stdout",
     "output_type": "stream",
     "text": [
      "{'knn__n_neighbors': 7, 'knn__weights': 'distance', 'vectorizer__max_df': 0.5, 'vectorizer__max_features': 100, 'vectorizer__min_df': 1}\n",
      "============================\n",
      "Best params for textdata_3:\n"
     ]
    },
    {
     "name": "stderr",
     "output_type": "stream",
     "text": [
      "/Library/Frameworks/Python.framework/Versions/3.8/lib/python3.8/site-packages/sklearn/model_selection/_search.py:918: UserWarning: One or more of the test scores are non-finite: [0.62 0.62 0.62 ...  nan  nan  nan]\n",
      "  warnings.warn(\n"
     ]
    },
    {
     "name": "stdout",
     "output_type": "stream",
     "text": [
      "{'knn__n_neighbors': 1, 'knn__weights': 'uniform', 'vectorizer__max_df': 0.5, 'vectorizer__max_features': 100, 'vectorizer__min_df': 1}\n",
      "============================\n"
     ]
    },
    {
     "data": {
      "text/html": [
       "<div>\n",
       "<style scoped>\n",
       "    .dataframe tbody tr th:only-of-type {\n",
       "        vertical-align: middle;\n",
       "    }\n",
       "\n",
       "    .dataframe tbody tr th {\n",
       "        vertical-align: top;\n",
       "    }\n",
       "\n",
       "    .dataframe thead th {\n",
       "        text-align: right;\n",
       "    }\n",
       "</style>\n",
       "<table border=\"1\" class=\"dataframe\">\n",
       "  <thead>\n",
       "    <tr style=\"text-align: right;\">\n",
       "      <th></th>\n",
       "      <th>textdata_1</th>\n",
       "      <th>textdata_2</th>\n",
       "      <th>textdata_3</th>\n",
       "    </tr>\n",
       "  </thead>\n",
       "  <tbody>\n",
       "    <tr>\n",
       "      <th>Without NLP</th>\n",
       "      <td>0.8467</td>\n",
       "      <td>0.7933</td>\n",
       "      <td>0.8500</td>\n",
       "    </tr>\n",
       "    <tr>\n",
       "      <th>Stopword Removal</th>\n",
       "      <td>0.8767</td>\n",
       "      <td>0.8233</td>\n",
       "      <td>0.8533</td>\n",
       "    </tr>\n",
       "    <tr>\n",
       "      <th>Lemmatization</th>\n",
       "      <td>0.8600</td>\n",
       "      <td>0.7933</td>\n",
       "      <td>0.8433</td>\n",
       "    </tr>\n",
       "  </tbody>\n",
       "</table>\n",
       "</div>"
      ],
      "text/plain": [
       "                  textdata_1  textdata_2  textdata_3\n",
       "Without NLP           0.8467      0.7933      0.8500\n",
       "Stopword Removal      0.8767      0.8233      0.8533\n",
       "Lemmatization         0.8600      0.7933      0.8433"
      ]
     },
     "execution_count": 32,
     "metadata": {},
     "output_type": "execute_result"
    }
   ],
   "source": [
    "# BoW\n",
    "results = {}\n",
    "for textdata in tqdm(textdatas):\n",
    "    print(f'Best params for {textdata}:')\n",
    "    X = df[textdata]\n",
    "    results[textdata] = classification_knn(X, df['parliament_member'], 'BoW').round(4)\n",
    "    print(\"============================\")\n",
    "    \n",
    "knn_bow = knn_bow.append(\n",
    "    pd.DataFrame.from_dict(results, orient='index', columns=['Lemmatization']).T)\n",
    "knn_bow"
   ]
  },
  {
   "cell_type": "markdown",
   "id": "developmental-control",
   "metadata": {
    "jupyter": {
     "source_hidden": true
    }
   },
   "source": [
    "### Short Word Removal"
   ]
  },
  {
   "cell_type": "code",
   "execution_count": 33,
   "id": "plain-overall",
   "metadata": {
    "jupyter": {
     "source_hidden": true
    }
   },
   "outputs": [],
   "source": [
    "df_2 = df.copy()"
   ]
  },
  {
   "cell_type": "code",
   "execution_count": 34,
   "id": "appointed-omega",
   "metadata": {
    "jupyter": {
     "source_hidden": true
    }
   },
   "outputs": [],
   "source": [
    "def remove_shortwords(row):\n",
    "    row = [str(token) for token in nlp_el(row)]\n",
    "    return [w for w in row if len(w) > 2]"
   ]
  },
  {
   "cell_type": "code",
   "execution_count": 35,
   "id": "occupational-comment",
   "metadata": {
    "jupyter": {
     "source_hidden": true
    }
   },
   "outputs": [],
   "source": [
    "df_2['textdata_1'] = df_2['textdata_1'].apply(lambda row: remove_shortwords(row))\n",
    "df_2['textdata_1'] = df_2['textdata_1'].apply(lambda row: ' '.join(row))\n",
    "\n",
    "df_2['textdata_2'] = df_2['textdata_2'].apply(lambda row: remove_shortwords(row))\n",
    "df_2['textdata_2'] = df_2['textdata_2'].apply(lambda row: ' '.join(row))\n",
    "\n",
    "df_2['textdata_3'] = df_2['textdata_3'].apply(lambda row: remove_shortwords(row))\n",
    "df_2['textdata_3'] = df_2['textdata_3'].apply(lambda row: ' '.join(row))"
   ]
  },
  {
   "cell_type": "markdown",
   "id": "drawn-spider",
   "metadata": {
    "jupyter": {
     "source_hidden": true
    }
   },
   "source": [
    "#### SVM"
   ]
  },
  {
   "cell_type": "code",
   "execution_count": 36,
   "id": "dirty-defeat",
   "metadata": {
    "collapsed": true,
    "jupyter": {
     "outputs_hidden": true,
     "source_hidden": true
    }
   },
   "outputs": [
    {
     "data": {
      "application/vnd.jupyter.widget-view+json": {
       "model_id": "3c33a86b13df450fb81d68ad88d4e50b",
       "version_major": 2,
       "version_minor": 0
      },
      "text/plain": [
       "  0%|          | 0/3 [00:00<?, ?it/s]"
      ]
     },
     "metadata": {},
     "output_type": "display_data"
    },
    {
     "name": "stdout",
     "output_type": "stream",
     "text": [
      "Best params for textdata_1:\n"
     ]
    },
    {
     "name": "stderr",
     "output_type": "stream",
     "text": [
      "/Library/Frameworks/Python.framework/Versions/3.8/lib/python3.8/site-packages/sklearn/model_selection/_search.py:918: UserWarning: One or more of the test scores are non-finite: [0.72666667 0.73       0.71666667 ...        nan        nan        nan]\n",
      "  warnings.warn(\n"
     ]
    },
    {
     "name": "stdout",
     "output_type": "stream",
     "text": [
      "{'svm__C': 0.5, 'svm__kernel': 'linear', 'vectorizer__max_df': 0.5, 'vectorizer__max_features': 1000, 'vectorizer__min_df': 1}\n",
      "============================\n",
      "Best params for textdata_2:\n"
     ]
    },
    {
     "name": "stderr",
     "output_type": "stream",
     "text": [
      "/Library/Frameworks/Python.framework/Versions/3.8/lib/python3.8/site-packages/sklearn/model_selection/_search.py:918: UserWarning: One or more of the test scores are non-finite: [0.60666667 0.60333333 0.6        ...        nan        nan        nan]\n",
      "  warnings.warn(\n"
     ]
    },
    {
     "name": "stdout",
     "output_type": "stream",
     "text": [
      "{'svm__C': 0.5, 'svm__kernel': 'sigmoid', 'vectorizer__max_df': 0.5, 'vectorizer__max_features': 1000, 'vectorizer__min_df': 1}\n",
      "============================\n",
      "Best params for textdata_3:\n"
     ]
    },
    {
     "name": "stderr",
     "output_type": "stream",
     "text": [
      "/Library/Frameworks/Python.framework/Versions/3.8/lib/python3.8/site-packages/sklearn/model_selection/_search.py:918: UserWarning: One or more of the test scores are non-finite: [0.6        0.58333333 0.6        ...        nan        nan        nan]\n",
      "  warnings.warn(\n"
     ]
    },
    {
     "name": "stdout",
     "output_type": "stream",
     "text": [
      "{'svm__C': 1, 'svm__kernel': 'rbf', 'vectorizer__max_df': 0.5, 'vectorizer__max_features': 2000, 'vectorizer__min_df': 1}\n",
      "============================\n"
     ]
    },
    {
     "data": {
      "text/html": [
       "<div>\n",
       "<style scoped>\n",
       "    .dataframe tbody tr th:only-of-type {\n",
       "        vertical-align: middle;\n",
       "    }\n",
       "\n",
       "    .dataframe tbody tr th {\n",
       "        vertical-align: top;\n",
       "    }\n",
       "\n",
       "    .dataframe thead th {\n",
       "        text-align: right;\n",
       "    }\n",
       "</style>\n",
       "<table border=\"1\" class=\"dataframe\">\n",
       "  <thead>\n",
       "    <tr style=\"text-align: right;\">\n",
       "      <th></th>\n",
       "      <th>textdata_1</th>\n",
       "      <th>textdata_2</th>\n",
       "      <th>textdata_3</th>\n",
       "    </tr>\n",
       "  </thead>\n",
       "  <tbody>\n",
       "    <tr>\n",
       "      <th>Without NLP</th>\n",
       "      <td>0.8800</td>\n",
       "      <td>0.8800</td>\n",
       "      <td>0.9100</td>\n",
       "    </tr>\n",
       "    <tr>\n",
       "      <th>Stopword Removal</th>\n",
       "      <td>0.9000</td>\n",
       "      <td>0.8767</td>\n",
       "      <td>0.9167</td>\n",
       "    </tr>\n",
       "    <tr>\n",
       "      <th>Lemmatization</th>\n",
       "      <td>0.9000</td>\n",
       "      <td>0.8733</td>\n",
       "      <td>0.9233</td>\n",
       "    </tr>\n",
       "    <tr>\n",
       "      <th>Short Word Removal</th>\n",
       "      <td>0.9033</td>\n",
       "      <td>0.8733</td>\n",
       "      <td>0.9267</td>\n",
       "    </tr>\n",
       "  </tbody>\n",
       "</table>\n",
       "</div>"
      ],
      "text/plain": [
       "                    textdata_1  textdata_2  textdata_3\n",
       "Without NLP             0.8800      0.8800      0.9100\n",
       "Stopword Removal        0.9000      0.8767      0.9167\n",
       "Lemmatization           0.9000      0.8733      0.9233\n",
       "Short Word Removal      0.9033      0.8733      0.9267"
      ]
     },
     "execution_count": 36,
     "metadata": {},
     "output_type": "execute_result"
    }
   ],
   "source": [
    "# TF-IDF \n",
    "results = {}\n",
    "for textdata in tqdm(textdatas):\n",
    "    print(f'Best params for {textdata}:')\n",
    "    X = df_2[textdata]\n",
    "    results[textdata] = classification_svm(X, df_2['parliament_member'], 'TF-IDF').round(4)\n",
    "    print(\"============================\")\n",
    "    \n",
    "svm_tfidf = svm_tfidf.append(\n",
    "    pd.DataFrame.from_dict(results, orient='index', columns=['Short Word Removal']).T)\n",
    "\n",
    "svm_tfidf"
   ]
  },
  {
   "cell_type": "code",
   "execution_count": 37,
   "id": "athletic-bolivia",
   "metadata": {
    "collapsed": true,
    "jupyter": {
     "outputs_hidden": true,
     "source_hidden": true
    }
   },
   "outputs": [
    {
     "data": {
      "application/vnd.jupyter.widget-view+json": {
       "model_id": "1e4725ce80a341e9a28dfb9e4b9c9cd9",
       "version_major": 2,
       "version_minor": 0
      },
      "text/plain": [
       "  0%|          | 0/3 [00:00<?, ?it/s]"
      ]
     },
     "metadata": {},
     "output_type": "display_data"
    },
    {
     "name": "stdout",
     "output_type": "stream",
     "text": [
      "Best params for textdata_1:\n"
     ]
    },
    {
     "name": "stderr",
     "output_type": "stream",
     "text": [
      "/Library/Frameworks/Python.framework/Versions/3.8/lib/python3.8/site-packages/sklearn/model_selection/_search.py:918: UserWarning: One or more of the test scores are non-finite: [0.62       0.62       0.60666667 ...        nan        nan        nan]\n",
      "  warnings.warn(\n"
     ]
    },
    {
     "name": "stdout",
     "output_type": "stream",
     "text": [
      "{'svm__C': 0.1, 'svm__kernel': 'rbf', 'vectorizer__max_df': 0.5, 'vectorizer__max_features': 10, 'vectorizer__min_df': 1}\n",
      "============================\n",
      "Best params for textdata_2:\n"
     ]
    },
    {
     "name": "stderr",
     "output_type": "stream",
     "text": [
      "/Library/Frameworks/Python.framework/Versions/3.8/lib/python3.8/site-packages/sklearn/model_selection/_search.py:918: UserWarning: One or more of the test scores are non-finite: [0.52666667 0.51666667 0.57666667 ...        nan        nan        nan]\n",
      "  warnings.warn(\n"
     ]
    },
    {
     "name": "stdout",
     "output_type": "stream",
     "text": [
      "{'svm__C': 1, 'svm__kernel': 'linear', 'vectorizer__max_df': 0.5, 'vectorizer__max_features': 100, 'vectorizer__min_df': 10}\n",
      "============================\n",
      "Best params for textdata_3:\n"
     ]
    },
    {
     "name": "stderr",
     "output_type": "stream",
     "text": [
      "/Library/Frameworks/Python.framework/Versions/3.8/lib/python3.8/site-packages/sklearn/model_selection/_search.py:918: UserWarning: One or more of the test scores are non-finite: [0.53333333 0.53       0.53333333 ...        nan        nan        nan]\n",
      "  warnings.warn(\n"
     ]
    },
    {
     "name": "stdout",
     "output_type": "stream",
     "text": [
      "{'svm__C': 0.5, 'svm__kernel': 'linear', 'vectorizer__max_df': 0.5, 'vectorizer__max_features': None, 'vectorizer__min_df': 1}\n",
      "============================\n"
     ]
    },
    {
     "data": {
      "text/html": [
       "<div>\n",
       "<style scoped>\n",
       "    .dataframe tbody tr th:only-of-type {\n",
       "        vertical-align: middle;\n",
       "    }\n",
       "\n",
       "    .dataframe tbody tr th {\n",
       "        vertical-align: top;\n",
       "    }\n",
       "\n",
       "    .dataframe thead th {\n",
       "        text-align: right;\n",
       "    }\n",
       "</style>\n",
       "<table border=\"1\" class=\"dataframe\">\n",
       "  <thead>\n",
       "    <tr style=\"text-align: right;\">\n",
       "      <th></th>\n",
       "      <th>textdata_1</th>\n",
       "      <th>textdata_2</th>\n",
       "      <th>textdata_3</th>\n",
       "    </tr>\n",
       "  </thead>\n",
       "  <tbody>\n",
       "    <tr>\n",
       "      <th>Without NLP</th>\n",
       "      <td>0.8767</td>\n",
       "      <td>0.8667</td>\n",
       "      <td>0.8633</td>\n",
       "    </tr>\n",
       "    <tr>\n",
       "      <th>Stopword Removal</th>\n",
       "      <td>0.8967</td>\n",
       "      <td>0.8967</td>\n",
       "      <td>0.8933</td>\n",
       "    </tr>\n",
       "    <tr>\n",
       "      <th>Lemmatization</th>\n",
       "      <td>0.8900</td>\n",
       "      <td>0.8667</td>\n",
       "      <td>0.8867</td>\n",
       "    </tr>\n",
       "    <tr>\n",
       "      <th>Short Word Removal</th>\n",
       "      <td>0.8967</td>\n",
       "      <td>0.8600</td>\n",
       "      <td>0.8767</td>\n",
       "    </tr>\n",
       "  </tbody>\n",
       "</table>\n",
       "</div>"
      ],
      "text/plain": [
       "                    textdata_1  textdata_2  textdata_3\n",
       "Without NLP             0.8767      0.8667      0.8633\n",
       "Stopword Removal        0.8967      0.8967      0.8933\n",
       "Lemmatization           0.8900      0.8667      0.8867\n",
       "Short Word Removal      0.8967      0.8600      0.8767"
      ]
     },
     "execution_count": 37,
     "metadata": {},
     "output_type": "execute_result"
    }
   ],
   "source": [
    "# BoW\n",
    "results = {}\n",
    "for textdata in tqdm(textdatas):\n",
    "    print(f'Best params for {textdata}:')\n",
    "    X = df_2[textdata]\n",
    "    results[textdata] = classification_svm(X, df_2['parliament_member'], 'BoW').round(4)\n",
    "    print(\"============================\")\n",
    "    \n",
    "svm_bow = svm_bow.append(\n",
    "    pd.DataFrame.from_dict(results, orient='index', columns=['Short Word Removal']).T)\n",
    "\n",
    "svm_bow"
   ]
  },
  {
   "cell_type": "markdown",
   "id": "vulnerable-province",
   "metadata": {
    "jupyter": {
     "source_hidden": true
    }
   },
   "source": [
    "#### Logistic Regression"
   ]
  },
  {
   "cell_type": "code",
   "execution_count": 38,
   "id": "gorgeous-cache",
   "metadata": {
    "collapsed": true,
    "jupyter": {
     "outputs_hidden": true,
     "source_hidden": true
    }
   },
   "outputs": [
    {
     "data": {
      "application/vnd.jupyter.widget-view+json": {
       "model_id": "79df74436b324277909192eed49c7b0e",
       "version_major": 2,
       "version_minor": 0
      },
      "text/plain": [
       "  0%|          | 0/3 [00:00<?, ?it/s]"
      ]
     },
     "metadata": {},
     "output_type": "display_data"
    },
    {
     "name": "stdout",
     "output_type": "stream",
     "text": [
      "Best params for textdata_1:\n"
     ]
    },
    {
     "name": "stderr",
     "output_type": "stream",
     "text": [
      "/Library/Frameworks/Python.framework/Versions/3.8/lib/python3.8/site-packages/sklearn/model_selection/_search.py:918: UserWarning: One or more of the test scores are non-finite: [nan nan nan ... nan nan nan]\n",
      "  warnings.warn(\n"
     ]
    },
    {
     "name": "stdout",
     "output_type": "stream",
     "text": [
      "{'lr__C': 0.1, 'lr__penalty': 'l2', 'vectorizer__max_df': 0.5, 'vectorizer__max_features': 2000, 'vectorizer__min_df': 1}\n",
      "============================\n",
      "Best params for textdata_2:\n"
     ]
    },
    {
     "name": "stderr",
     "output_type": "stream",
     "text": [
      "/Library/Frameworks/Python.framework/Versions/3.8/lib/python3.8/site-packages/sklearn/model_selection/_search.py:918: UserWarning: One or more of the test scores are non-finite: [nan nan nan ... nan nan nan]\n",
      "  warnings.warn(\n"
     ]
    },
    {
     "name": "stdout",
     "output_type": "stream",
     "text": [
      "{'lr__C': 1, 'lr__penalty': 'l2', 'vectorizer__max_df': 0.5, 'vectorizer__max_features': 1000, 'vectorizer__min_df': 1}\n",
      "============================\n",
      "Best params for textdata_3:\n"
     ]
    },
    {
     "name": "stderr",
     "output_type": "stream",
     "text": [
      "/Library/Frameworks/Python.framework/Versions/3.8/lib/python3.8/site-packages/sklearn/model_selection/_search.py:918: UserWarning: One or more of the test scores are non-finite: [nan nan nan ... nan nan nan]\n",
      "  warnings.warn(\n"
     ]
    },
    {
     "name": "stdout",
     "output_type": "stream",
     "text": [
      "{'lr__C': 5, 'lr__penalty': 'l2', 'vectorizer__max_df': 0.5, 'vectorizer__max_features': None, 'vectorizer__min_df': 1}\n",
      "============================\n"
     ]
    },
    {
     "data": {
      "text/html": [
       "<div>\n",
       "<style scoped>\n",
       "    .dataframe tbody tr th:only-of-type {\n",
       "        vertical-align: middle;\n",
       "    }\n",
       "\n",
       "    .dataframe tbody tr th {\n",
       "        vertical-align: top;\n",
       "    }\n",
       "\n",
       "    .dataframe thead th {\n",
       "        text-align: right;\n",
       "    }\n",
       "</style>\n",
       "<table border=\"1\" class=\"dataframe\">\n",
       "  <thead>\n",
       "    <tr style=\"text-align: right;\">\n",
       "      <th></th>\n",
       "      <th>textdata_1</th>\n",
       "      <th>textdata_2</th>\n",
       "      <th>textdata_3</th>\n",
       "    </tr>\n",
       "  </thead>\n",
       "  <tbody>\n",
       "    <tr>\n",
       "      <th>Without NLP</th>\n",
       "      <td>0.8700</td>\n",
       "      <td>0.8733</td>\n",
       "      <td>0.9000</td>\n",
       "    </tr>\n",
       "    <tr>\n",
       "      <th>Stopword Removal</th>\n",
       "      <td>0.9100</td>\n",
       "      <td>0.8733</td>\n",
       "      <td>0.9133</td>\n",
       "    </tr>\n",
       "    <tr>\n",
       "      <th>Lemmatization</th>\n",
       "      <td>0.9067</td>\n",
       "      <td>0.8800</td>\n",
       "      <td>0.9267</td>\n",
       "    </tr>\n",
       "    <tr>\n",
       "      <th>Short Word Removal</th>\n",
       "      <td>0.9067</td>\n",
       "      <td>0.8767</td>\n",
       "      <td>0.9200</td>\n",
       "    </tr>\n",
       "  </tbody>\n",
       "</table>\n",
       "</div>"
      ],
      "text/plain": [
       "                    textdata_1  textdata_2  textdata_3\n",
       "Without NLP             0.8700      0.8733      0.9000\n",
       "Stopword Removal        0.9100      0.8733      0.9133\n",
       "Lemmatization           0.9067      0.8800      0.9267\n",
       "Short Word Removal      0.9067      0.8767      0.9200"
      ]
     },
     "execution_count": 38,
     "metadata": {},
     "output_type": "execute_result"
    }
   ],
   "source": [
    "# TF-IDF \n",
    "results = {}\n",
    "for textdata in tqdm(textdatas):\n",
    "    print(f'Best params for {textdata}:')\n",
    "    X = df_2[textdata]\n",
    "    results[textdata] = classification_lr(X, df_2['parliament_member'], 'TF-IDF').round(4)\n",
    "    print(\"============================\")\n",
    "    \n",
    "lr_tfidf = lr_tfidf.append(\n",
    "    pd.DataFrame.from_dict(results, orient='index', columns=['Short Word Removal']).T)\n",
    "\n",
    "lr_tfidf"
   ]
  },
  {
   "cell_type": "code",
   "execution_count": 39,
   "id": "shared-weekly",
   "metadata": {
    "collapsed": true,
    "jupyter": {
     "outputs_hidden": true,
     "source_hidden": true
    }
   },
   "outputs": [
    {
     "data": {
      "application/vnd.jupyter.widget-view+json": {
       "model_id": "1722adb5b3d14cb1aa342f03821b1600",
       "version_major": 2,
       "version_minor": 0
      },
      "text/plain": [
       "  0%|          | 0/3 [00:00<?, ?it/s]"
      ]
     },
     "metadata": {},
     "output_type": "display_data"
    },
    {
     "name": "stdout",
     "output_type": "stream",
     "text": [
      "Best params for textdata_1:\n"
     ]
    },
    {
     "name": "stderr",
     "output_type": "stream",
     "text": [
      "/Library/Frameworks/Python.framework/Versions/3.8/lib/python3.8/site-packages/sklearn/model_selection/_search.py:918: UserWarning: One or more of the test scores are non-finite: [nan nan nan ... nan nan nan]\n",
      "  warnings.warn(\n",
      "/Library/Frameworks/Python.framework/Versions/3.8/lib/python3.8/site-packages/sklearn/linear_model/_logistic.py:1322: UserWarning: Setting penalty='none' will ignore the C and l1_ratio parameters\n",
      "  warnings.warn(\n"
     ]
    },
    {
     "name": "stdout",
     "output_type": "stream",
     "text": [
      "{'lr__C': 0.1, 'lr__penalty': 'none', 'vectorizer__max_df': 0.5, 'vectorizer__max_features': 10, 'vectorizer__min_df': 1}\n",
      "============================\n",
      "Best params for textdata_2:\n"
     ]
    },
    {
     "name": "stderr",
     "output_type": "stream",
     "text": [
      "/Library/Frameworks/Python.framework/Versions/3.8/lib/python3.8/site-packages/sklearn/model_selection/_search.py:918: UserWarning: One or more of the test scores are non-finite: [nan nan nan ... nan nan nan]\n",
      "  warnings.warn(\n",
      "/Library/Frameworks/Python.framework/Versions/3.8/lib/python3.8/site-packages/sklearn/linear_model/_logistic.py:1322: UserWarning: Setting penalty='none' will ignore the C and l1_ratio parameters\n",
      "  warnings.warn(\n"
     ]
    },
    {
     "name": "stdout",
     "output_type": "stream",
     "text": [
      "{'lr__C': 0.1, 'lr__penalty': 'none', 'vectorizer__max_df': 0.5, 'vectorizer__max_features': None, 'vectorizer__min_df': 1}\n",
      "============================\n",
      "Best params for textdata_3:\n"
     ]
    },
    {
     "name": "stderr",
     "output_type": "stream",
     "text": [
      "/Library/Frameworks/Python.framework/Versions/3.8/lib/python3.8/site-packages/sklearn/model_selection/_search.py:918: UserWarning: One or more of the test scores are non-finite: [nan nan nan ... nan nan nan]\n",
      "  warnings.warn(\n"
     ]
    },
    {
     "name": "stdout",
     "output_type": "stream",
     "text": [
      "{'lr__C': 0.1, 'lr__penalty': 'none', 'vectorizer__max_df': 0.5, 'vectorizer__max_features': 1000, 'vectorizer__min_df': 10}\n",
      "============================\n"
     ]
    },
    {
     "name": "stderr",
     "output_type": "stream",
     "text": [
      "/Library/Frameworks/Python.framework/Versions/3.8/lib/python3.8/site-packages/sklearn/linear_model/_logistic.py:1322: UserWarning: Setting penalty='none' will ignore the C and l1_ratio parameters\n",
      "  warnings.warn(\n"
     ]
    },
    {
     "data": {
      "text/html": [
       "<div>\n",
       "<style scoped>\n",
       "    .dataframe tbody tr th:only-of-type {\n",
       "        vertical-align: middle;\n",
       "    }\n",
       "\n",
       "    .dataframe tbody tr th {\n",
       "        vertical-align: top;\n",
       "    }\n",
       "\n",
       "    .dataframe thead th {\n",
       "        text-align: right;\n",
       "    }\n",
       "</style>\n",
       "<table border=\"1\" class=\"dataframe\">\n",
       "  <thead>\n",
       "    <tr style=\"text-align: right;\">\n",
       "      <th></th>\n",
       "      <th>textdata_1</th>\n",
       "      <th>textdata_2</th>\n",
       "      <th>textdata_3</th>\n",
       "    </tr>\n",
       "  </thead>\n",
       "  <tbody>\n",
       "    <tr>\n",
       "      <th>Without NLP</th>\n",
       "      <td>0.8867</td>\n",
       "      <td>0.8767</td>\n",
       "      <td>0.8867</td>\n",
       "    </tr>\n",
       "    <tr>\n",
       "      <th>Stopword Removal</th>\n",
       "      <td>0.9000</td>\n",
       "      <td>0.8767</td>\n",
       "      <td>0.9133</td>\n",
       "    </tr>\n",
       "    <tr>\n",
       "      <th>Lemmatization</th>\n",
       "      <td>0.8900</td>\n",
       "      <td>0.8800</td>\n",
       "      <td>0.9100</td>\n",
       "    </tr>\n",
       "    <tr>\n",
       "      <th>Short Word Removal</th>\n",
       "      <td>0.8900</td>\n",
       "      <td>0.8800</td>\n",
       "      <td>0.9033</td>\n",
       "    </tr>\n",
       "  </tbody>\n",
       "</table>\n",
       "</div>"
      ],
      "text/plain": [
       "                    textdata_1  textdata_2  textdata_3\n",
       "Without NLP             0.8867      0.8767      0.8867\n",
       "Stopword Removal        0.9000      0.8767      0.9133\n",
       "Lemmatization           0.8900      0.8800      0.9100\n",
       "Short Word Removal      0.8900      0.8800      0.9033"
      ]
     },
     "execution_count": 39,
     "metadata": {},
     "output_type": "execute_result"
    }
   ],
   "source": [
    "# BoW\n",
    "results = {}\n",
    "for textdata in tqdm(textdatas):\n",
    "    print(f'Best params for {textdata}:')\n",
    "    X = df_2[textdata]\n",
    "    results[textdata] = classification_lr(X, df_2['parliament_member'], 'BoW').round(4)\n",
    "    print(\"============================\")\n",
    "    \n",
    "lr_bow = lr_bow.append(\n",
    "    pd.DataFrame.from_dict(results, orient='index', columns=['Short Word Removal']).T)\n",
    "\n",
    "lr_bow"
   ]
  },
  {
   "cell_type": "markdown",
   "id": "metallic-bailey",
   "metadata": {
    "jupyter": {
     "source_hidden": true
    }
   },
   "source": [
    "#### kNN"
   ]
  },
  {
   "cell_type": "code",
   "execution_count": 40,
   "id": "stopped-musician",
   "metadata": {
    "collapsed": true,
    "jupyter": {
     "outputs_hidden": true,
     "source_hidden": true
    }
   },
   "outputs": [
    {
     "data": {
      "application/vnd.jupyter.widget-view+json": {
       "model_id": "fab60a8084dc4b3ab22fbdf1e724bb79",
       "version_major": 2,
       "version_minor": 0
      },
      "text/plain": [
       "  0%|          | 0/3 [00:00<?, ?it/s]"
      ]
     },
     "metadata": {},
     "output_type": "display_data"
    },
    {
     "name": "stdout",
     "output_type": "stream",
     "text": [
      "Best params for textdata_1:\n"
     ]
    },
    {
     "name": "stderr",
     "output_type": "stream",
     "text": [
      "/Library/Frameworks/Python.framework/Versions/3.8/lib/python3.8/site-packages/sklearn/model_selection/_search.py:918: UserWarning: One or more of the test scores are non-finite: [0.74333333 0.74666667 0.70333333 ...        nan        nan        nan]\n",
      "  warnings.warn(\n"
     ]
    },
    {
     "name": "stdout",
     "output_type": "stream",
     "text": [
      "{'knn__n_neighbors': 5, 'knn__weights': 'uniform', 'vectorizer__max_df': 0.5, 'vectorizer__max_features': 10, 'vectorizer__min_df': 1}\n",
      "============================\n",
      "Best params for textdata_2:\n"
     ]
    },
    {
     "name": "stderr",
     "output_type": "stream",
     "text": [
      "/Library/Frameworks/Python.framework/Versions/3.8/lib/python3.8/site-packages/sklearn/model_selection/_search.py:918: UserWarning: One or more of the test scores are non-finite: [0.62       0.61       0.60666667 ...        nan        nan        nan]\n",
      "  warnings.warn(\n"
     ]
    },
    {
     "name": "stdout",
     "output_type": "stream",
     "text": [
      "{'knn__n_neighbors': 10, 'knn__weights': 'uniform', 'vectorizer__max_df': 0.5, 'vectorizer__max_features': None, 'vectorizer__min_df': 1}\n",
      "============================\n",
      "Best params for textdata_3:\n"
     ]
    },
    {
     "name": "stderr",
     "output_type": "stream",
     "text": [
      "/Library/Frameworks/Python.framework/Versions/3.8/lib/python3.8/site-packages/sklearn/model_selection/_search.py:918: UserWarning: One or more of the test scores are non-finite: [0.63       0.62666667 0.63       ...        nan        nan        nan]\n",
      "  warnings.warn(\n"
     ]
    },
    {
     "name": "stdout",
     "output_type": "stream",
     "text": [
      "{'knn__n_neighbors': 4, 'knn__weights': 'uniform', 'vectorizer__max_df': 0.25, 'vectorizer__max_features': None, 'vectorizer__min_df': 1}\n",
      "============================\n"
     ]
    },
    {
     "data": {
      "text/html": [
       "<div>\n",
       "<style scoped>\n",
       "    .dataframe tbody tr th:only-of-type {\n",
       "        vertical-align: middle;\n",
       "    }\n",
       "\n",
       "    .dataframe tbody tr th {\n",
       "        vertical-align: top;\n",
       "    }\n",
       "\n",
       "    .dataframe thead th {\n",
       "        text-align: right;\n",
       "    }\n",
       "</style>\n",
       "<table border=\"1\" class=\"dataframe\">\n",
       "  <thead>\n",
       "    <tr style=\"text-align: right;\">\n",
       "      <th></th>\n",
       "      <th>textdata_1</th>\n",
       "      <th>textdata_2</th>\n",
       "      <th>textdata_3</th>\n",
       "    </tr>\n",
       "  </thead>\n",
       "  <tbody>\n",
       "    <tr>\n",
       "      <th>Without NLP</th>\n",
       "      <td>0.8567</td>\n",
       "      <td>0.8333</td>\n",
       "      <td>0.8767</td>\n",
       "    </tr>\n",
       "    <tr>\n",
       "      <th>Stopword Removal</th>\n",
       "      <td>0.8867</td>\n",
       "      <td>0.8467</td>\n",
       "      <td>0.8933</td>\n",
       "    </tr>\n",
       "    <tr>\n",
       "      <th>Lemmatization</th>\n",
       "      <td>0.8900</td>\n",
       "      <td>0.8233</td>\n",
       "      <td>0.9133</td>\n",
       "    </tr>\n",
       "    <tr>\n",
       "      <th>Short Word Removal</th>\n",
       "      <td>0.8967</td>\n",
       "      <td>0.8267</td>\n",
       "      <td>0.9033</td>\n",
       "    </tr>\n",
       "  </tbody>\n",
       "</table>\n",
       "</div>"
      ],
      "text/plain": [
       "                    textdata_1  textdata_2  textdata_3\n",
       "Without NLP             0.8567      0.8333      0.8767\n",
       "Stopword Removal        0.8867      0.8467      0.8933\n",
       "Lemmatization           0.8900      0.8233      0.9133\n",
       "Short Word Removal      0.8967      0.8267      0.9033"
      ]
     },
     "execution_count": 40,
     "metadata": {},
     "output_type": "execute_result"
    }
   ],
   "source": [
    "# TF-IDF \n",
    "results = {}\n",
    "for textdata in tqdm(textdatas):\n",
    "    print(f'Best params for {textdata}:')\n",
    "    X = df_2[textdata]\n",
    "    results[textdata] = classification_knn(X, df_2['parliament_member'], 'TF-IDF').round(4)\n",
    "    print(\"============================\")\n",
    "    \n",
    "knn_tfidf = knn_tfidf.append(\n",
    "    pd.DataFrame.from_dict(results, orient='index', columns=['Short Word Removal']).T)\n",
    "\n",
    "knn_tfidf"
   ]
  },
  {
   "cell_type": "code",
   "execution_count": 41,
   "id": "velvet-hydrogen",
   "metadata": {
    "collapsed": true,
    "jupyter": {
     "outputs_hidden": true,
     "source_hidden": true
    }
   },
   "outputs": [
    {
     "data": {
      "application/vnd.jupyter.widget-view+json": {
       "model_id": "4cee751f52284c00aed93070ff4da3f9",
       "version_major": 2,
       "version_minor": 0
      },
      "text/plain": [
       "  0%|          | 0/3 [00:00<?, ?it/s]"
      ]
     },
     "metadata": {},
     "output_type": "display_data"
    },
    {
     "name": "stdout",
     "output_type": "stream",
     "text": [
      "Best params for textdata_1:\n"
     ]
    },
    {
     "name": "stderr",
     "output_type": "stream",
     "text": [
      "/Library/Frameworks/Python.framework/Versions/3.8/lib/python3.8/site-packages/sklearn/model_selection/_search.py:918: UserWarning: One or more of the test scores are non-finite: [0.74       0.74333333 0.7        ...        nan        nan        nan]\n",
      "  warnings.warn(\n"
     ]
    },
    {
     "name": "stdout",
     "output_type": "stream",
     "text": [
      "{'knn__n_neighbors': 3, 'knn__weights': 'distance', 'vectorizer__max_df': 0.5, 'vectorizer__max_features': 10, 'vectorizer__min_df': 1}\n",
      "============================\n",
      "Best params for textdata_2:\n"
     ]
    },
    {
     "name": "stderr",
     "output_type": "stream",
     "text": [
      "/Library/Frameworks/Python.framework/Versions/3.8/lib/python3.8/site-packages/sklearn/model_selection/_search.py:918: UserWarning: One or more of the test scores are non-finite: [0.59333333 0.61       0.6        ...        nan        nan        nan]\n",
      "  warnings.warn(\n"
     ]
    },
    {
     "name": "stdout",
     "output_type": "stream",
     "text": [
      "{'knn__n_neighbors': 9, 'knn__weights': 'uniform', 'vectorizer__max_df': 0.5, 'vectorizer__max_features': 1000, 'vectorizer__min_df': 5}\n",
      "============================\n",
      "Best params for textdata_3:\n"
     ]
    },
    {
     "name": "stderr",
     "output_type": "stream",
     "text": [
      "/Library/Frameworks/Python.framework/Versions/3.8/lib/python3.8/site-packages/sklearn/model_selection/_search.py:918: UserWarning: One or more of the test scores are non-finite: [0.61666667 0.61       0.61666667 ...        nan        nan        nan]\n",
      "  warnings.warn(\n"
     ]
    },
    {
     "name": "stdout",
     "output_type": "stream",
     "text": [
      "{'knn__n_neighbors': 1, 'knn__weights': 'uniform', 'vectorizer__max_df': 0.5, 'vectorizer__max_features': 1000, 'vectorizer__min_df': 25}\n",
      "============================\n"
     ]
    },
    {
     "data": {
      "text/html": [
       "<div>\n",
       "<style scoped>\n",
       "    .dataframe tbody tr th:only-of-type {\n",
       "        vertical-align: middle;\n",
       "    }\n",
       "\n",
       "    .dataframe tbody tr th {\n",
       "        vertical-align: top;\n",
       "    }\n",
       "\n",
       "    .dataframe thead th {\n",
       "        text-align: right;\n",
       "    }\n",
       "</style>\n",
       "<table border=\"1\" class=\"dataframe\">\n",
       "  <thead>\n",
       "    <tr style=\"text-align: right;\">\n",
       "      <th></th>\n",
       "      <th>textdata_1</th>\n",
       "      <th>textdata_2</th>\n",
       "      <th>textdata_3</th>\n",
       "    </tr>\n",
       "  </thead>\n",
       "  <tbody>\n",
       "    <tr>\n",
       "      <th>Without NLP</th>\n",
       "      <td>0.8467</td>\n",
       "      <td>0.7933</td>\n",
       "      <td>0.8500</td>\n",
       "    </tr>\n",
       "    <tr>\n",
       "      <th>Stopword Removal</th>\n",
       "      <td>0.8767</td>\n",
       "      <td>0.8233</td>\n",
       "      <td>0.8533</td>\n",
       "    </tr>\n",
       "    <tr>\n",
       "      <th>Lemmatization</th>\n",
       "      <td>0.8600</td>\n",
       "      <td>0.7933</td>\n",
       "      <td>0.8433</td>\n",
       "    </tr>\n",
       "    <tr>\n",
       "      <th>Short Word Removal</th>\n",
       "      <td>0.8900</td>\n",
       "      <td>0.8267</td>\n",
       "      <td>0.8533</td>\n",
       "    </tr>\n",
       "  </tbody>\n",
       "</table>\n",
       "</div>"
      ],
      "text/plain": [
       "                    textdata_1  textdata_2  textdata_3\n",
       "Without NLP             0.8467      0.7933      0.8500\n",
       "Stopword Removal        0.8767      0.8233      0.8533\n",
       "Lemmatization           0.8600      0.7933      0.8433\n",
       "Short Word Removal      0.8900      0.8267      0.8533"
      ]
     },
     "execution_count": 41,
     "metadata": {},
     "output_type": "execute_result"
    }
   ],
   "source": [
    "# BoW\n",
    "results = {}\n",
    "for textdata in tqdm(textdatas):\n",
    "    print(f'Best params for {textdata}:')\n",
    "    X = df_2[textdata]\n",
    "    results[textdata] = classification_knn(X, df_2['parliament_member'], 'BoW').round(4)\n",
    "    print(\"============================\")\n",
    "    \n",
    "knn_bow = knn_bow.append(\n",
    "    pd.DataFrame.from_dict(results, orient='index', columns=['Short Word Removal']).T)\n",
    "\n",
    "knn_bow"
   ]
  },
  {
   "cell_type": "markdown",
   "id": "textile-education",
   "metadata": {
    "jupyter": {
     "source_hidden": true
    }
   },
   "source": [
    "### Irrelevant Word Removal"
   ]
  },
  {
   "cell_type": "code",
   "execution_count": 43,
   "id": "tribal-negative",
   "metadata": {
    "collapsed": true,
    "jupyter": {
     "outputs_hidden": true,
     "source_hidden": true
    }
   },
   "outputs": [
    {
     "data": {
      "text/plain": [
       "Text(0.5, 1.0, 'Not-Pol')"
      ]
     },
     "execution_count": 43,
     "metadata": {},
     "output_type": "execute_result"
    },
    {
     "data": {
      "image/png": "[encoded data removed]",
      "text/plain": [
       "<Figure size 1080x540 with 2 Axes>"
      ]
     },
     "metadata": {
      "needs_background": "light"
     },
     "output_type": "display_data"
    }
   ],
   "source": [
    "pol_words = pd.Series(' '.join(df_2[df_2.parliament_member == 1].textdata_3).split()).value_counts()\n",
    "nonpol_words = pd.Series(' '.join(df_2[df_2.parliament_member == 0].textdata_3).split()).value_counts()\n",
    "\n",
    "fig, axs = plt.subplots(1,2,figsize =(15,7.5))\n",
    "\n",
    "plt.subplots_adjust(left=None, bottom=None, right=None, top=None, wspace=0.5)\n",
    "\n",
    "axs[0].barh(pol_words[:40].index, pol_words[:40])\n",
    "axs[0].set_title('Pol')\n",
    "axs[1].barh(nonpol_words[:40].index, nonpol_words[:40])\n",
    "axs[1].set_title('Not-Pol')"
   ]
  },
  {
   "cell_type": "code",
   "execution_count": 48,
   "id": "liquid-separate",
   "metadata": {
    "jupyter": {
     "source_hidden": true
    }
   },
   "outputs": [],
   "source": [
    "irr_words = set(['κάνω', 'σήμερα', 'νέος', 'καλός', 'μπορώ', 'amp', 'λέω', 'μέρα', 'ημέρα', 'ελλάδα', 'ελληνικός', 'greece'])\n",
    "\n",
    "def remove_irrwords(row):\n",
    "    row = [str(token) for token in nlp_el(row)]\n",
    "    return [w for w in row if w not in irr_words]"
   ]
  },
  {
   "cell_type": "code",
   "execution_count": 49,
   "id": "lesser-scale",
   "metadata": {
    "jupyter": {
     "source_hidden": true
    }
   },
   "outputs": [],
   "source": [
    "df_2['textdata_1'] = df_2['textdata_1'].apply(lambda row: remove_irrwords(row))\n",
    "df_2['textdata_1'] = df_2['textdata_1'].apply(lambda row: ' '.join(row))\n",
    "\n",
    "df_2['textdata_2'] = df_2['textdata_2'].apply(lambda row: remove_irrwords(row))\n",
    "df_2['textdata_2'] = df_2['textdata_2'].apply(lambda row: ' '.join(row))\n",
    "\n",
    "df_2['textdata_3'] = df_2['textdata_3'].apply(lambda row: remove_irrwords(row))\n",
    "df_2['textdata_3'] = df_2['textdata_3'].apply(lambda row: ' '.join(row))"
   ]
  },
  {
   "cell_type": "code",
   "execution_count": 50,
   "id": "horizontal-perth",
   "metadata": {
    "collapsed": true,
    "jupyter": {
     "outputs_hidden": true,
     "source_hidden": true
    }
   },
   "outputs": [
    {
     "data": {
      "text/plain": [
       "Text(0.5, 1.0, 'Not-Pol')"
      ]
     },
     "execution_count": 50,
     "metadata": {},
     "output_type": "execute_result"
    },
    {
     "data": {
      "image/png": "[encoded data removed]",
      "text/plain": [
       "<Figure size 1080x540 with 2 Axes>"
      ]
     },
     "metadata": {
      "needs_background": "light"
     },
     "output_type": "display_data"
    }
   ],
   "source": [
    "pol_words = pd.Series(' '.join(df_2[df_2.parliament_member == 1].textdata_3).split()).value_counts()\n",
    "nonpol_words = pd.Series(' '.join(df_2[df_2.parliament_member == 0].textdata_3).split()).value_counts()\n",
    "\n",
    "fig, axs = plt.subplots(1,2,figsize =(15,7.5))\n",
    "\n",
    "plt.subplots_adjust(left=None, bottom=None, right=None, top=None, wspace=0.5)\n",
    "\n",
    "axs[0].barh(pol_words[:40].index, pol_words[:40])\n",
    "axs[0].set_title('Pol')\n",
    "axs[1].barh(nonpol_words[:40].index, nonpol_words[:40])\n",
    "axs[1].set_title('Not-Pol')"
   ]
  },
  {
   "cell_type": "markdown",
   "id": "hairy-sharp",
   "metadata": {},
   "source": [
    "#### SVM"
   ]
  },
  {
   "cell_type": "code",
   "execution_count": 51,
   "id": "egyptian-anthropology",
   "metadata": {
    "jupyter": {
     "source_hidden": true
    }
   },
   "outputs": [
    {
     "data": {
      "application/vnd.jupyter.widget-view+json": {
       "model_id": "ac9db824f3a5453eb0e2699858b330c5",
       "version_major": 2,
       "version_minor": 0
      },
      "text/plain": [
       "  0%|          | 0/3 [00:00<?, ?it/s]"
      ]
     },
     "metadata": {},
     "output_type": "display_data"
    },
    {
     "name": "stdout",
     "output_type": "stream",
     "text": [
      "Best params for textdata_1:\n"
     ]
    },
    {
     "name": "stderr",
     "output_type": "stream",
     "text": [
      "/Library/Frameworks/Python.framework/Versions/3.8/lib/python3.8/site-packages/sklearn/model_selection/_search.py:918: UserWarning: One or more of the test scores are non-finite: [0.67333333 0.66       0.65       ...        nan        nan        nan]\n",
      "  warnings.warn(\n"
     ]
    },
    {
     "name": "stdout",
     "output_type": "stream",
     "text": [
      "{'svm__C': 0.5, 'svm__kernel': 'linear', 'vectorizer__max_df': 0.5, 'vectorizer__max_features': 1000, 'vectorizer__min_df': 1}\n",
      "============================\n",
      "Best params for textdata_2:\n"
     ]
    },
    {
     "name": "stderr",
     "output_type": "stream",
     "text": [
      "/Library/Frameworks/Python.framework/Versions/3.8/lib/python3.8/site-packages/sklearn/model_selection/_search.py:918: UserWarning: One or more of the test scores are non-finite: [0.70333333 0.70333333 0.71       ...        nan        nan        nan]\n",
      "  warnings.warn(\n"
     ]
    },
    {
     "name": "stdout",
     "output_type": "stream",
     "text": [
      "{'svm__C': 5, 'svm__kernel': 'rbf', 'vectorizer__max_df': 0.5, 'vectorizer__max_features': 1000, 'vectorizer__min_df': 1}\n",
      "============================\n",
      "Best params for textdata_3:\n"
     ]
    },
    {
     "name": "stderr",
     "output_type": "stream",
     "text": [
      "/Library/Frameworks/Python.framework/Versions/3.8/lib/python3.8/site-packages/sklearn/model_selection/_search.py:918: UserWarning: One or more of the test scores are non-finite: [0.61       0.60666667 0.60666667 ...        nan        nan        nan]\n",
      "  warnings.warn(\n"
     ]
    },
    {
     "name": "stdout",
     "output_type": "stream",
     "text": [
      "{'svm__C': 1, 'svm__kernel': 'rbf', 'vectorizer__max_df': 0.5, 'vectorizer__max_features': 2000, 'vectorizer__min_df': 5}\n",
      "============================\n"
     ]
    },
    {
     "data": {
      "text/html": [
       "<div>\n",
       "<style scoped>\n",
       "    .dataframe tbody tr th:only-of-type {\n",
       "        vertical-align: middle;\n",
       "    }\n",
       "\n",
       "    .dataframe tbody tr th {\n",
       "        vertical-align: top;\n",
       "    }\n",
       "\n",
       "    .dataframe thead th {\n",
       "        text-align: right;\n",
       "    }\n",
       "</style>\n",
       "<table border=\"1\" class=\"dataframe\">\n",
       "  <thead>\n",
       "    <tr style=\"text-align: right;\">\n",
       "      <th></th>\n",
       "      <th>textdata_1</th>\n",
       "      <th>textdata_2</th>\n",
       "      <th>textdata_3</th>\n",
       "    </tr>\n",
       "  </thead>\n",
       "  <tbody>\n",
       "    <tr>\n",
       "      <th>Without NLP</th>\n",
       "      <td>0.8800</td>\n",
       "      <td>0.8800</td>\n",
       "      <td>0.9100</td>\n",
       "    </tr>\n",
       "    <tr>\n",
       "      <th>Stopword Removal</th>\n",
       "      <td>0.9000</td>\n",
       "      <td>0.8767</td>\n",
       "      <td>0.9167</td>\n",
       "    </tr>\n",
       "    <tr>\n",
       "      <th>Lemmatization</th>\n",
       "      <td>0.9000</td>\n",
       "      <td>0.8733</td>\n",
       "      <td>0.9233</td>\n",
       "    </tr>\n",
       "    <tr>\n",
       "      <th>Short Word Removal</th>\n",
       "      <td>0.9033</td>\n",
       "      <td>0.8733</td>\n",
       "      <td>0.9267</td>\n",
       "    </tr>\n",
       "    <tr>\n",
       "      <th>Irrelevant Word Removal</th>\n",
       "      <td>0.9100</td>\n",
       "      <td>0.8767</td>\n",
       "      <td>0.9267</td>\n",
       "    </tr>\n",
       "  </tbody>\n",
       "</table>\n",
       "</div>"
      ],
      "text/plain": [
       "                         textdata_1  textdata_2  textdata_3\n",
       "Without NLP                  0.8800      0.8800      0.9100\n",
       "Stopword Removal             0.9000      0.8767      0.9167\n",
       "Lemmatization                0.9000      0.8733      0.9233\n",
       "Short Word Removal           0.9033      0.8733      0.9267\n",
       "Irrelevant Word Removal      0.9100      0.8767      0.9267"
      ]
     },
     "execution_count": 51,
     "metadata": {},
     "output_type": "execute_result"
    }
   ],
   "source": [
    "# TF-IDF \n",
    "results = {}\n",
    "for textdata in tqdm(textdatas):\n",
    "    print(f'Best params for {textdata}:')\n",
    "    X = df_2[textdata]\n",
    "    results[textdata] = classification_svm(X, df_2['parliament_member'], 'TF-IDF').round(4)\n",
    "    print(\"============================\")\n",
    "    \n",
    "svm_tfidf = svm_tfidf.append(\n",
    "    pd.DataFrame.from_dict(results, orient='index', columns=['Irrelevant Word Removal']).T)\n",
    "\n",
    "svm_tfidf"
   ]
  },
  {
   "cell_type": "code",
   "execution_count": 52,
   "id": "whole-mercy",
   "metadata": {
    "jupyter": {
     "source_hidden": true
    }
   },
   "outputs": [
    {
     "data": {
      "application/vnd.jupyter.widget-view+json": {
       "model_id": "b3305229e9a14590a8a7a8250d0ab169",
       "version_major": 2,
       "version_minor": 0
      },
      "text/plain": [
       "  0%|          | 0/3 [00:00<?, ?it/s]"
      ]
     },
     "metadata": {},
     "output_type": "display_data"
    },
    {
     "name": "stdout",
     "output_type": "stream",
     "text": [
      "Best params for textdata_1:\n"
     ]
    },
    {
     "name": "stderr",
     "output_type": "stream",
     "text": [
      "/Library/Frameworks/Python.framework/Versions/3.8/lib/python3.8/site-packages/sklearn/model_selection/_search.py:918: UserWarning: One or more of the test scores are non-finite: [0.60666667 0.61       0.61       ...        nan        nan        nan]\n",
      "  warnings.warn(\n"
     ]
    },
    {
     "name": "stdout",
     "output_type": "stream",
     "text": [
      "{'svm__C': 0.1, 'svm__kernel': 'rbf', 'vectorizer__max_df': 0.5, 'vectorizer__max_features': 10, 'vectorizer__min_df': 5}\n",
      "============================\n",
      "Best params for textdata_2:\n"
     ]
    },
    {
     "name": "stderr",
     "output_type": "stream",
     "text": [
      "/Library/Frameworks/Python.framework/Versions/3.8/lib/python3.8/site-packages/sklearn/model_selection/_search.py:918: UserWarning: One or more of the test scores are non-finite: [0.62666667 0.62666667 0.60333333 ...        nan        nan        nan]\n",
      "  warnings.warn(\n"
     ]
    },
    {
     "name": "stdout",
     "output_type": "stream",
     "text": [
      "{'svm__C': 0.5, 'svm__kernel': 'linear', 'vectorizer__max_df': 0.5, 'vectorizer__max_features': 2000, 'vectorizer__min_df': 1}\n",
      "============================\n",
      "Best params for textdata_3:\n"
     ]
    },
    {
     "name": "stderr",
     "output_type": "stream",
     "text": [
      "/Library/Frameworks/Python.framework/Versions/3.8/lib/python3.8/site-packages/sklearn/model_selection/_search.py:918: UserWarning: One or more of the test scores are non-finite: [0.51666667 0.51333333 0.51333333 ...        nan        nan        nan]\n",
      "  warnings.warn(\n"
     ]
    },
    {
     "name": "stdout",
     "output_type": "stream",
     "text": [
      "{'svm__C': 1, 'svm__kernel': 'linear', 'vectorizer__max_df': 0.5, 'vectorizer__max_features': None, 'vectorizer__min_df': 1}\n",
      "============================\n"
     ]
    },
    {
     "data": {
      "text/html": [
       "<div>\n",
       "<style scoped>\n",
       "    .dataframe tbody tr th:only-of-type {\n",
       "        vertical-align: middle;\n",
       "    }\n",
       "\n",
       "    .dataframe tbody tr th {\n",
       "        vertical-align: top;\n",
       "    }\n",
       "\n",
       "    .dataframe thead th {\n",
       "        text-align: right;\n",
       "    }\n",
       "</style>\n",
       "<table border=\"1\" class=\"dataframe\">\n",
       "  <thead>\n",
       "    <tr style=\"text-align: right;\">\n",
       "      <th></th>\n",
       "      <th>textdata_1</th>\n",
       "      <th>textdata_2</th>\n",
       "      <th>textdata_3</th>\n",
       "    </tr>\n",
       "  </thead>\n",
       "  <tbody>\n",
       "    <tr>\n",
       "      <th>Without NLP</th>\n",
       "      <td>0.8767</td>\n",
       "      <td>0.8667</td>\n",
       "      <td>0.8633</td>\n",
       "    </tr>\n",
       "    <tr>\n",
       "      <th>Stopword Removal</th>\n",
       "      <td>0.8967</td>\n",
       "      <td>0.8967</td>\n",
       "      <td>0.8933</td>\n",
       "    </tr>\n",
       "    <tr>\n",
       "      <th>Lemmatization</th>\n",
       "      <td>0.8900</td>\n",
       "      <td>0.8667</td>\n",
       "      <td>0.8867</td>\n",
       "    </tr>\n",
       "    <tr>\n",
       "      <th>Short Word Removal</th>\n",
       "      <td>0.8967</td>\n",
       "      <td>0.8600</td>\n",
       "      <td>0.8767</td>\n",
       "    </tr>\n",
       "    <tr>\n",
       "      <th>Irrelevant Word Removal</th>\n",
       "      <td>0.8967</td>\n",
       "      <td>0.8700</td>\n",
       "      <td>0.8700</td>\n",
       "    </tr>\n",
       "  </tbody>\n",
       "</table>\n",
       "</div>"
      ],
      "text/plain": [
       "                         textdata_1  textdata_2  textdata_3\n",
       "Without NLP                  0.8767      0.8667      0.8633\n",
       "Stopword Removal             0.8967      0.8967      0.8933\n",
       "Lemmatization                0.8900      0.8667      0.8867\n",
       "Short Word Removal           0.8967      0.8600      0.8767\n",
       "Irrelevant Word Removal      0.8967      0.8700      0.8700"
      ]
     },
     "execution_count": 52,
     "metadata": {},
     "output_type": "execute_result"
    }
   ],
   "source": [
    "# BoW\n",
    "results = {}\n",
    "for textdata in tqdm(textdatas):\n",
    "    print(f'Best params for {textdata}:')\n",
    "    X = df_2[textdata]\n",
    "    results[textdata] = classification_svm(X, df_2['parliament_member'], 'BoW').round(4)\n",
    "    print(\"============================\")\n",
    "    \n",
    "svm_bow = svm_bow.append(\n",
    "    pd.DataFrame.from_dict(results, orient='index', columns=['Irrelevant Word Removal']).T)\n",
    "\n",
    "svm_bow"
   ]
  },
  {
   "cell_type": "markdown",
   "id": "passive-pointer",
   "metadata": {},
   "source": [
    "#### Logistic Regression"
   ]
  },
  {
   "cell_type": "code",
   "execution_count": 53,
   "id": "regulated-subscription",
   "metadata": {
    "jupyter": {
     "source_hidden": true
    }
   },
   "outputs": [
    {
     "data": {
      "application/vnd.jupyter.widget-view+json": {
       "model_id": "86205f6c53be41559fe9b1342f84a10d",
       "version_major": 2,
       "version_minor": 0
      },
      "text/plain": [
       "  0%|          | 0/3 [00:00<?, ?it/s]"
      ]
     },
     "metadata": {},
     "output_type": "display_data"
    },
    {
     "name": "stdout",
     "output_type": "stream",
     "text": [
      "Best params for textdata_1:\n"
     ]
    },
    {
     "name": "stderr",
     "output_type": "stream",
     "text": [
      "/Library/Frameworks/Python.framework/Versions/3.8/lib/python3.8/site-packages/sklearn/model_selection/_search.py:918: UserWarning: One or more of the test scores are non-finite: [nan nan nan ... nan nan nan]\n",
      "  warnings.warn(\n"
     ]
    },
    {
     "name": "stdout",
     "output_type": "stream",
     "text": [
      "{'lr__C': 0.1, 'lr__penalty': 'l2', 'vectorizer__max_df': 0.5, 'vectorizer__max_features': 2000, 'vectorizer__min_df': 1}\n",
      "============================\n",
      "Best params for textdata_2:\n"
     ]
    },
    {
     "name": "stderr",
     "output_type": "stream",
     "text": [
      "/Library/Frameworks/Python.framework/Versions/3.8/lib/python3.8/site-packages/sklearn/model_selection/_search.py:918: UserWarning: One or more of the test scores are non-finite: [nan nan nan ... nan nan nan]\n",
      "  warnings.warn(\n",
      "/Library/Frameworks/Python.framework/Versions/3.8/lib/python3.8/site-packages/sklearn/linear_model/_logistic.py:1322: UserWarning: Setting penalty='none' will ignore the C and l1_ratio parameters\n",
      "  warnings.warn(\n"
     ]
    },
    {
     "name": "stdout",
     "output_type": "stream",
     "text": [
      "{'lr__C': 0.1, 'lr__penalty': 'none', 'vectorizer__max_df': 0.5, 'vectorizer__max_features': 1000, 'vectorizer__min_df': 1}\n",
      "============================\n",
      "Best params for textdata_3:\n"
     ]
    },
    {
     "name": "stderr",
     "output_type": "stream",
     "text": [
      "/Library/Frameworks/Python.framework/Versions/3.8/lib/python3.8/site-packages/sklearn/model_selection/_search.py:918: UserWarning: One or more of the test scores are non-finite: [nan nan nan ... nan nan nan]\n",
      "  warnings.warn(\n",
      "/Library/Frameworks/Python.framework/Versions/3.8/lib/python3.8/site-packages/sklearn/linear_model/_logistic.py:1322: UserWarning: Setting penalty='none' will ignore the C and l1_ratio parameters\n",
      "  warnings.warn(\n"
     ]
    },
    {
     "name": "stdout",
     "output_type": "stream",
     "text": [
      "{'lr__C': 0.1, 'lr__penalty': 'none', 'vectorizer__max_df': 0.5, 'vectorizer__max_features': 2000, 'vectorizer__min_df': 1}\n",
      "============================\n"
     ]
    },
    {
     "data": {
      "text/html": [
       "<div>\n",
       "<style scoped>\n",
       "    .dataframe tbody tr th:only-of-type {\n",
       "        vertical-align: middle;\n",
       "    }\n",
       "\n",
       "    .dataframe tbody tr th {\n",
       "        vertical-align: top;\n",
       "    }\n",
       "\n",
       "    .dataframe thead th {\n",
       "        text-align: right;\n",
       "    }\n",
       "</style>\n",
       "<table border=\"1\" class=\"dataframe\">\n",
       "  <thead>\n",
       "    <tr style=\"text-align: right;\">\n",
       "      <th></th>\n",
       "      <th>textdata_1</th>\n",
       "      <th>textdata_2</th>\n",
       "      <th>textdata_3</th>\n",
       "    </tr>\n",
       "  </thead>\n",
       "  <tbody>\n",
       "    <tr>\n",
       "      <th>Without NLP</th>\n",
       "      <td>0.8700</td>\n",
       "      <td>0.8733</td>\n",
       "      <td>0.9000</td>\n",
       "    </tr>\n",
       "    <tr>\n",
       "      <th>Stopword Removal</th>\n",
       "      <td>0.9100</td>\n",
       "      <td>0.8733</td>\n",
       "      <td>0.9133</td>\n",
       "    </tr>\n",
       "    <tr>\n",
       "      <th>Lemmatization</th>\n",
       "      <td>0.9067</td>\n",
       "      <td>0.8800</td>\n",
       "      <td>0.9267</td>\n",
       "    </tr>\n",
       "    <tr>\n",
       "      <th>Short Word Removal</th>\n",
       "      <td>0.9067</td>\n",
       "      <td>0.8767</td>\n",
       "      <td>0.9200</td>\n",
       "    </tr>\n",
       "    <tr>\n",
       "      <th>Irrelevant Word Removal</th>\n",
       "      <td>0.9067</td>\n",
       "      <td>0.8833</td>\n",
       "      <td>0.9200</td>\n",
       "    </tr>\n",
       "  </tbody>\n",
       "</table>\n",
       "</div>"
      ],
      "text/plain": [
       "                         textdata_1  textdata_2  textdata_3\n",
       "Without NLP                  0.8700      0.8733      0.9000\n",
       "Stopword Removal             0.9100      0.8733      0.9133\n",
       "Lemmatization                0.9067      0.8800      0.9267\n",
       "Short Word Removal           0.9067      0.8767      0.9200\n",
       "Irrelevant Word Removal      0.9067      0.8833      0.9200"
      ]
     },
     "execution_count": 53,
     "metadata": {},
     "output_type": "execute_result"
    }
   ],
   "source": [
    "# TF-IDF \n",
    "results = {}\n",
    "for textdata in tqdm(textdatas):\n",
    "    print(f'Best params for {textdata}:')\n",
    "    X = df_2[textdata]\n",
    "    results[textdata] = classification_lr(X, df_2['parliament_member'], 'TF-IDF').round(4)\n",
    "    print(\"============================\")\n",
    "    \n",
    "lr_tfidf = lr_tfidf.append(\n",
    "    pd.DataFrame.from_dict(results, orient='index', columns=['Irrelevant Word Removal']).T)\n",
    "\n",
    "lr_tfidf"
   ]
  },
  {
   "cell_type": "code",
   "execution_count": 54,
   "id": "understood-wilderness",
   "metadata": {
    "jupyter": {
     "source_hidden": true
    }
   },
   "outputs": [
    {
     "data": {
      "application/vnd.jupyter.widget-view+json": {
       "model_id": "90c109e0f77a430bab9d8187717bea6b",
       "version_major": 2,
       "version_minor": 0
      },
      "text/plain": [
       "  0%|          | 0/3 [00:00<?, ?it/s]"
      ]
     },
     "metadata": {},
     "output_type": "display_data"
    },
    {
     "name": "stdout",
     "output_type": "stream",
     "text": [
      "Best params for textdata_1:\n"
     ]
    },
    {
     "name": "stderr",
     "output_type": "stream",
     "text": [
      "/Library/Frameworks/Python.framework/Versions/3.8/lib/python3.8/site-packages/sklearn/model_selection/_search.py:918: UserWarning: One or more of the test scores are non-finite: [nan nan nan ... nan nan nan]\n",
      "  warnings.warn(\n",
      "/Library/Frameworks/Python.framework/Versions/3.8/lib/python3.8/site-packages/sklearn/linear_model/_logistic.py:1322: UserWarning: Setting penalty='none' will ignore the C and l1_ratio parameters\n",
      "  warnings.warn(\n"
     ]
    },
    {
     "name": "stdout",
     "output_type": "stream",
     "text": [
      "{'lr__C': 0.1, 'lr__penalty': 'none', 'vectorizer__max_df': 0.5, 'vectorizer__max_features': 10, 'vectorizer__min_df': 5}\n",
      "============================\n",
      "Best params for textdata_2:\n"
     ]
    },
    {
     "name": "stderr",
     "output_type": "stream",
     "text": [
      "/Library/Frameworks/Python.framework/Versions/3.8/lib/python3.8/site-packages/sklearn/model_selection/_search.py:918: UserWarning: One or more of the test scores are non-finite: [nan nan nan ... nan nan nan]\n",
      "  warnings.warn(\n"
     ]
    },
    {
     "name": "stdout",
     "output_type": "stream",
     "text": [
      "{'lr__C': 10, 'lr__penalty': 'l2', 'vectorizer__max_df': 0.5, 'vectorizer__max_features': 2000, 'vectorizer__min_df': 1}\n",
      "============================\n",
      "Best params for textdata_3:\n"
     ]
    },
    {
     "name": "stderr",
     "output_type": "stream",
     "text": [
      "/Library/Frameworks/Python.framework/Versions/3.8/lib/python3.8/site-packages/sklearn/model_selection/_search.py:918: UserWarning: One or more of the test scores are non-finite: [nan nan nan ... nan nan nan]\n",
      "  warnings.warn(\n",
      "/Library/Frameworks/Python.framework/Versions/3.8/lib/python3.8/site-packages/sklearn/linear_model/_logistic.py:1322: UserWarning: Setting penalty='none' will ignore the C and l1_ratio parameters\n",
      "  warnings.warn(\n"
     ]
    },
    {
     "name": "stdout",
     "output_type": "stream",
     "text": [
      "{'lr__C': 0.1, 'lr__penalty': 'none', 'vectorizer__max_df': 0.5, 'vectorizer__max_features': None, 'vectorizer__min_df': 1}\n",
      "============================\n"
     ]
    },
    {
     "data": {
      "text/html": [
       "<div>\n",
       "<style scoped>\n",
       "    .dataframe tbody tr th:only-of-type {\n",
       "        vertical-align: middle;\n",
       "    }\n",
       "\n",
       "    .dataframe tbody tr th {\n",
       "        vertical-align: top;\n",
       "    }\n",
       "\n",
       "    .dataframe thead th {\n",
       "        text-align: right;\n",
       "    }\n",
       "</style>\n",
       "<table border=\"1\" class=\"dataframe\">\n",
       "  <thead>\n",
       "    <tr style=\"text-align: right;\">\n",
       "      <th></th>\n",
       "      <th>textdata_1</th>\n",
       "      <th>textdata_2</th>\n",
       "      <th>textdata_3</th>\n",
       "    </tr>\n",
       "  </thead>\n",
       "  <tbody>\n",
       "    <tr>\n",
       "      <th>Without NLP</th>\n",
       "      <td>0.8867</td>\n",
       "      <td>0.8767</td>\n",
       "      <td>0.8867</td>\n",
       "    </tr>\n",
       "    <tr>\n",
       "      <th>Stopword Removal</th>\n",
       "      <td>0.9000</td>\n",
       "      <td>0.8767</td>\n",
       "      <td>0.9133</td>\n",
       "    </tr>\n",
       "    <tr>\n",
       "      <th>Lemmatization</th>\n",
       "      <td>0.8900</td>\n",
       "      <td>0.8800</td>\n",
       "      <td>0.9100</td>\n",
       "    </tr>\n",
       "    <tr>\n",
       "      <th>Short Word Removal</th>\n",
       "      <td>0.8900</td>\n",
       "      <td>0.8800</td>\n",
       "      <td>0.9033</td>\n",
       "    </tr>\n",
       "    <tr>\n",
       "      <th>Irrelevant Word Removal</th>\n",
       "      <td>0.8900</td>\n",
       "      <td>0.8900</td>\n",
       "      <td>0.9100</td>\n",
       "    </tr>\n",
       "  </tbody>\n",
       "</table>\n",
       "</div>"
      ],
      "text/plain": [
       "                         textdata_1  textdata_2  textdata_3\n",
       "Without NLP                  0.8867      0.8767      0.8867\n",
       "Stopword Removal             0.9000      0.8767      0.9133\n",
       "Lemmatization                0.8900      0.8800      0.9100\n",
       "Short Word Removal           0.8900      0.8800      0.9033\n",
       "Irrelevant Word Removal      0.8900      0.8900      0.9100"
      ]
     },
     "execution_count": 54,
     "metadata": {},
     "output_type": "execute_result"
    }
   ],
   "source": [
    "# BoW\n",
    "results = {}\n",
    "for textdata in tqdm(textdatas):\n",
    "    print(f'Best params for {textdata}:')\n",
    "    X = df_2[textdata]\n",
    "    results[textdata] = classification_lr(X, df_2['parliament_member'], 'BoW').round(4)\n",
    "    print(\"============================\")\n",
    "    \n",
    "lr_bow = lr_bow.append(\n",
    "    pd.DataFrame.from_dict(results, orient='index', columns=['Irrelevant Word Removal']).T)\n",
    "\n",
    "lr_bow"
   ]
  },
  {
   "cell_type": "markdown",
   "id": "conditional-zambia",
   "metadata": {},
   "source": [
    "#### kNN"
   ]
  },
  {
   "cell_type": "code",
   "execution_count": 55,
   "id": "appropriate-decision",
   "metadata": {
    "jupyter": {
     "source_hidden": true
    }
   },
   "outputs": [
    {
     "data": {
      "application/vnd.jupyter.widget-view+json": {
       "model_id": "b5b2137028094f6fa2bf18f8a1852c86",
       "version_major": 2,
       "version_minor": 0
      },
      "text/plain": [
       "  0%|          | 0/3 [00:00<?, ?it/s]"
      ]
     },
     "metadata": {},
     "output_type": "display_data"
    },
    {
     "name": "stdout",
     "output_type": "stream",
     "text": [
      "Best params for textdata_1:\n"
     ]
    },
    {
     "name": "stderr",
     "output_type": "stream",
     "text": [
      "/Library/Frameworks/Python.framework/Versions/3.8/lib/python3.8/site-packages/sklearn/model_selection/_search.py:918: UserWarning: One or more of the test scores are non-finite: [0.74333333 0.74666667 0.71666667 ...        nan        nan        nan]\n",
      "  warnings.warn(\n"
     ]
    },
    {
     "name": "stdout",
     "output_type": "stream",
     "text": [
      "{'knn__n_neighbors': 7, 'knn__weights': 'uniform', 'vectorizer__max_df': 0.5, 'vectorizer__max_features': 10, 'vectorizer__min_df': 5}\n",
      "============================\n",
      "Best params for textdata_2:\n"
     ]
    },
    {
     "name": "stderr",
     "output_type": "stream",
     "text": [
      "/Library/Frameworks/Python.framework/Versions/3.8/lib/python3.8/site-packages/sklearn/model_selection/_search.py:918: UserWarning: One or more of the test scores are non-finite: [0.64333333 0.64666667 0.65       ...        nan        nan        nan]\n",
      "  warnings.warn(\n"
     ]
    },
    {
     "name": "stdout",
     "output_type": "stream",
     "text": [
      "{'knn__n_neighbors': 10, 'knn__weights': 'uniform', 'vectorizer__max_df': 0.5, 'vectorizer__max_features': None, 'vectorizer__min_df': 1}\n",
      "============================\n",
      "Best params for textdata_3:\n"
     ]
    },
    {
     "name": "stderr",
     "output_type": "stream",
     "text": [
      "/Library/Frameworks/Python.framework/Versions/3.8/lib/python3.8/site-packages/sklearn/model_selection/_search.py:918: UserWarning: One or more of the test scores are non-finite: [0.64       0.64333333 0.64333333 ...        nan        nan        nan]\n",
      "  warnings.warn(\n"
     ]
    },
    {
     "name": "stdout",
     "output_type": "stream",
     "text": [
      "{'knn__n_neighbors': 4, 'knn__weights': 'uniform', 'vectorizer__max_df': 0.25, 'vectorizer__max_features': None, 'vectorizer__min_df': 1}\n",
      "============================\n"
     ]
    },
    {
     "data": {
      "text/html": [
       "<div>\n",
       "<style scoped>\n",
       "    .dataframe tbody tr th:only-of-type {\n",
       "        vertical-align: middle;\n",
       "    }\n",
       "\n",
       "    .dataframe tbody tr th {\n",
       "        vertical-align: top;\n",
       "    }\n",
       "\n",
       "    .dataframe thead th {\n",
       "        text-align: right;\n",
       "    }\n",
       "</style>\n",
       "<table border=\"1\" class=\"dataframe\">\n",
       "  <thead>\n",
       "    <tr style=\"text-align: right;\">\n",
       "      <th></th>\n",
       "      <th>textdata_1</th>\n",
       "      <th>textdata_2</th>\n",
       "      <th>textdata_3</th>\n",
       "    </tr>\n",
       "  </thead>\n",
       "  <tbody>\n",
       "    <tr>\n",
       "      <th>Without NLP</th>\n",
       "      <td>0.8567</td>\n",
       "      <td>0.8333</td>\n",
       "      <td>0.8767</td>\n",
       "    </tr>\n",
       "    <tr>\n",
       "      <th>Stopword Removal</th>\n",
       "      <td>0.8867</td>\n",
       "      <td>0.8467</td>\n",
       "      <td>0.8933</td>\n",
       "    </tr>\n",
       "    <tr>\n",
       "      <th>Lemmatization</th>\n",
       "      <td>0.8900</td>\n",
       "      <td>0.8233</td>\n",
       "      <td>0.9133</td>\n",
       "    </tr>\n",
       "    <tr>\n",
       "      <th>Short Word Removal</th>\n",
       "      <td>0.8967</td>\n",
       "      <td>0.8267</td>\n",
       "      <td>0.9033</td>\n",
       "    </tr>\n",
       "    <tr>\n",
       "      <th>Irrelevant Word Removal</th>\n",
       "      <td>0.8967</td>\n",
       "      <td>0.8667</td>\n",
       "      <td>0.8933</td>\n",
       "    </tr>\n",
       "  </tbody>\n",
       "</table>\n",
       "</div>"
      ],
      "text/plain": [
       "                         textdata_1  textdata_2  textdata_3\n",
       "Without NLP                  0.8567      0.8333      0.8767\n",
       "Stopword Removal             0.8867      0.8467      0.8933\n",
       "Lemmatization                0.8900      0.8233      0.9133\n",
       "Short Word Removal           0.8967      0.8267      0.9033\n",
       "Irrelevant Word Removal      0.8967      0.8667      0.8933"
      ]
     },
     "execution_count": 55,
     "metadata": {},
     "output_type": "execute_result"
    }
   ],
   "source": [
    "# TF-IDF \n",
    "results = {}\n",
    "for textdata in tqdm(textdatas):\n",
    "    print(f'Best params for {textdata}:')\n",
    "    X = df_2[textdata]\n",
    "    results[textdata] = classification_knn(X, df_2['parliament_member'], 'TF-IDF').round(4)\n",
    "    print(\"============================\")\n",
    "    \n",
    "knn_tfidf = knn_tfidf.append(\n",
    "    pd.DataFrame.from_dict(results, orient='index', columns=['Irrelevant Word Removal']).T)\n",
    "\n",
    "knn_tfidf"
   ]
  },
  {
   "cell_type": "code",
   "execution_count": 56,
   "id": "meaning-jersey",
   "metadata": {
    "jupyter": {
     "source_hidden": true
    }
   },
   "outputs": [
    {
     "data": {
      "application/vnd.jupyter.widget-view+json": {
       "model_id": "a2091b69b7014153b8bd94422c7b37bc",
       "version_major": 2,
       "version_minor": 0
      },
      "text/plain": [
       "  0%|          | 0/3 [00:00<?, ?it/s]"
      ]
     },
     "metadata": {},
     "output_type": "display_data"
    },
    {
     "name": "stdout",
     "output_type": "stream",
     "text": [
      "Best params for textdata_1:\n"
     ]
    },
    {
     "name": "stderr",
     "output_type": "stream",
     "text": [
      "/Library/Frameworks/Python.framework/Versions/3.8/lib/python3.8/site-packages/sklearn/model_selection/_search.py:918: UserWarning: One or more of the test scores are non-finite: [0.74       0.74333333 0.71       ...        nan        nan        nan]\n",
      "  warnings.warn(\n"
     ]
    },
    {
     "name": "stdout",
     "output_type": "stream",
     "text": [
      "{'knn__n_neighbors': 3, 'knn__weights': 'distance', 'vectorizer__max_df': 0.5, 'vectorizer__max_features': 10, 'vectorizer__min_df': 5}\n",
      "============================\n",
      "Best params for textdata_2:\n"
     ]
    },
    {
     "name": "stderr",
     "output_type": "stream",
     "text": [
      "/Library/Frameworks/Python.framework/Versions/3.8/lib/python3.8/site-packages/sklearn/model_selection/_search.py:918: UserWarning: One or more of the test scores are non-finite: [0.61666667 0.62       0.62333333 ...        nan        nan        nan]\n",
      "  warnings.warn(\n"
     ]
    },
    {
     "name": "stdout",
     "output_type": "stream",
     "text": [
      "{'knn__n_neighbors': 5, 'knn__weights': 'distance', 'vectorizer__max_df': 0.5, 'vectorizer__max_features': 10, 'vectorizer__min_df': 10}\n",
      "============================\n",
      "Best params for textdata_3:\n"
     ]
    },
    {
     "name": "stderr",
     "output_type": "stream",
     "text": [
      "/Library/Frameworks/Python.framework/Versions/3.8/lib/python3.8/site-packages/sklearn/model_selection/_search.py:918: UserWarning: One or more of the test scores are non-finite: [0.64333333 0.64666667 0.64666667 ...        nan        nan        nan]\n",
      "  warnings.warn(\n"
     ]
    },
    {
     "name": "stdout",
     "output_type": "stream",
     "text": [
      "{'knn__n_neighbors': 10, 'knn__weights': 'distance', 'vectorizer__max_df': 0.5, 'vectorizer__max_features': 100, 'vectorizer__min_df': 10}\n",
      "============================\n"
     ]
    },
    {
     "data": {
      "text/html": [
       "<div>\n",
       "<style scoped>\n",
       "    .dataframe tbody tr th:only-of-type {\n",
       "        vertical-align: middle;\n",
       "    }\n",
       "\n",
       "    .dataframe tbody tr th {\n",
       "        vertical-align: top;\n",
       "    }\n",
       "\n",
       "    .dataframe thead th {\n",
       "        text-align: right;\n",
       "    }\n",
       "</style>\n",
       "<table border=\"1\" class=\"dataframe\">\n",
       "  <thead>\n",
       "    <tr style=\"text-align: right;\">\n",
       "      <th></th>\n",
       "      <th>textdata_1</th>\n",
       "      <th>textdata_2</th>\n",
       "      <th>textdata_3</th>\n",
       "    </tr>\n",
       "  </thead>\n",
       "  <tbody>\n",
       "    <tr>\n",
       "      <th>Without NLP</th>\n",
       "      <td>0.8467</td>\n",
       "      <td>0.7933</td>\n",
       "      <td>0.8500</td>\n",
       "    </tr>\n",
       "    <tr>\n",
       "      <th>Stopword Removal</th>\n",
       "      <td>0.8767</td>\n",
       "      <td>0.8233</td>\n",
       "      <td>0.8533</td>\n",
       "    </tr>\n",
       "    <tr>\n",
       "      <th>Lemmatization</th>\n",
       "      <td>0.8600</td>\n",
       "      <td>0.7933</td>\n",
       "      <td>0.8433</td>\n",
       "    </tr>\n",
       "    <tr>\n",
       "      <th>Short Word Removal</th>\n",
       "      <td>0.8900</td>\n",
       "      <td>0.8267</td>\n",
       "      <td>0.8533</td>\n",
       "    </tr>\n",
       "    <tr>\n",
       "      <th>Irrelevant Word Removal</th>\n",
       "      <td>0.8900</td>\n",
       "      <td>0.8533</td>\n",
       "      <td>0.8633</td>\n",
       "    </tr>\n",
       "  </tbody>\n",
       "</table>\n",
       "</div>"
      ],
      "text/plain": [
       "                         textdata_1  textdata_2  textdata_3\n",
       "Without NLP                  0.8467      0.7933      0.8500\n",
       "Stopword Removal             0.8767      0.8233      0.8533\n",
       "Lemmatization                0.8600      0.7933      0.8433\n",
       "Short Word Removal           0.8900      0.8267      0.8533\n",
       "Irrelevant Word Removal      0.8900      0.8533      0.8633"
      ]
     },
     "execution_count": 56,
     "metadata": {},
     "output_type": "execute_result"
    }
   ],
   "source": [
    "# BoW\n",
    "results = {}\n",
    "for textdata in tqdm(textdatas):\n",
    "    print(f'Best params for {textdata}:')\n",
    "    X = df_2[textdata]\n",
    "    results[textdata] = classification_knn(X, df_2['parliament_member'], 'BoW').round(4)\n",
    "    print(\"============================\")\n",
    "    \n",
    "knn_bow = knn_bow.append(\n",
    "    pd.DataFrame.from_dict(results, orient='index', columns=['Irrelevant Word Removal']).T)\n",
    "\n",
    "knn_bow"
   ]
  },
  {
   "cell_type": "markdown",
   "id": "thorough-craft",
   "metadata": {},
   "source": [
    "### Export Model\n",
    "- TF-IDF outperformed BoW with in every case.\n",
    "- Highest Accuracy was achieved using recent 100 tweets\n",
    "- Support Vector Machine and Logistic Regression have a better performance.\n",
    "- Logistic Regression Reached the highest achieved accuracy with less NLP steps than Support Vector Machines\n",
    "\n",
    "The best models we found are: Logistic Regression-TF-IDF and Support Vector Machines - TF-IDF.\n",
    "We chose logistic regression as is required less preprocessing steps.\n",
    "\n",
    "- vectorizer__max_df: 0.75\n",
    "- vectorizer__max_features: None\n",
    "- vectorizer__min_df: 1\n",
    "- lr__penalty: None<br>\n",
    "\n",
    "with the following NLP steps:\n",
    "- Lemmatization\n",
    "- Stop Word Removal"
   ]
  },
  {
   "cell_type": "code",
   "execution_count": 24,
   "id": "alternative-engineer",
   "metadata": {},
   "outputs": [],
   "source": [
    "def get_text_data_ndt(df):\n",
    "    df['textdata'] = clean_text(df['name'] + ' ' + df['description'] + ' ' + df['recent_100_tweets'])\n",
    "    df['textdata'] = df['textdata'].apply(lambda row: tokenize_lemmatize(row))\n",
    "    df['textdata'] = df['textdata'].apply(lambda row: ' '.join(row))\n",
    "    df['textdata'] = df['textdata'].apply(lambda row: remove_stopwords(row))\n",
    "    df['textdata'] = df['textdata'].apply(lambda row: ' '.join(row))\n",
    "    return df.textdata\n",
    "\n",
    "\n",
    "get_text_ndt = FunctionTransformer(get_text_data_ndt)"
   ]
  },
  {
   "cell_type": "code",
   "execution_count": 25,
   "id": "processed-stanley",
   "metadata": {},
   "outputs": [],
   "source": [
    "pipeline = Pipeline([\n",
    "    ('selector_ndt', get_text_ndt),\n",
    "    ('tfidf', TfidfVectorizer(max_df=0.75, max_features=None, min_df=1)),\n",
    "    ('lr', LogisticRegression(max_iter=1000, penalty = 'none'))\n",
    "])"
   ]
  },
  {
   "cell_type": "code",
   "execution_count": 28,
   "id": "wrapped-amateur",
   "metadata": {},
   "outputs": [
    {
     "data": {
      "text/plain": [
       "Pipeline(steps=[('selector_ndt',\n",
       "                 FunctionTransformer(func=<function get_text_data_ndt at 0x7fb53942a550>)),\n",
       "                ('tfidf', TfidfVectorizer(max_df=0.75)),\n",
       "                ('lr', LogisticRegression(max_iter=1000, penalty='none'))])"
      ]
     },
     "execution_count": 28,
     "metadata": {},
     "output_type": "execute_result"
    }
   ],
   "source": [
    "X = training_set\n",
    "y = training_set.parliament_member\n",
    "pipeline.fit(X,y)"
   ]
  },
  {
   "cell_type": "code",
   "execution_count": 29,
   "id": "adaptive-consumer",
   "metadata": {},
   "outputs": [
    {
     "data": {
      "text/plain": [
       "['../classifiers/classifier_politician_ndt.sav']"
      ]
     },
     "execution_count": 29,
     "metadata": {},
     "output_type": "execute_result"
    }
   ],
   "source": [
    "filename = '../classifiers/classifier_politician_ndt.sav'\n",
    "joblib.dump(pipeline, filename)"
   ]
  },
  {
   "cell_type": "markdown",
   "id": "aerial-essence",
   "metadata": {},
   "source": [
    "# Case 2: Tweets Only\n",
    "---\n",
    "In this case we fetch 100 tweets if possible for each node, and try to classify them using only their tweets."
   ]
  },
  {
   "cell_type": "markdown",
   "id": "interesting-congo",
   "metadata": {
    "jupyter": {
     "source_hidden": true
    }
   },
   "source": [
    "## Text Normalization"
   ]
  },
  {
   "cell_type": "code",
   "execution_count": 64,
   "id": "described-miracle",
   "metadata": {
    "collapsed": true,
    "jupyter": {
     "outputs_hidden": true,
     "source_hidden": true
    }
   },
   "outputs": [
    {
     "data": {
      "text/html": [
       "<div>\n",
       "<style scoped>\n",
       "    .dataframe tbody tr th:only-of-type {\n",
       "        vertical-align: middle;\n",
       "    }\n",
       "\n",
       "    .dataframe tbody tr th {\n",
       "        vertical-align: top;\n",
       "    }\n",
       "\n",
       "    .dataframe thead th {\n",
       "        text-align: right;\n",
       "    }\n",
       "</style>\n",
       "<table border=\"1\" class=\"dataframe\">\n",
       "  <thead>\n",
       "    <tr style=\"text-align: right;\">\n",
       "      <th></th>\n",
       "      <th>screen_name</th>\n",
       "      <th>parliament_member</th>\n",
       "      <th>recent_100_tweets</th>\n",
       "    </tr>\n",
       "  </thead>\n",
       "  <tbody>\n",
       "    <tr>\n",
       "      <th>0</th>\n",
       "      <td>evefthym</td>\n",
       "      <td>0</td>\n",
       "      <td>#NewProfilePic https://t.co/h0wlMIS6U0 @wavyp...</td>\n",
       "    </tr>\n",
       "    <tr>\n",
       "      <th>1</th>\n",
       "      <td>Qdv6zNFe0nkBH2m</td>\n",
       "      <td>0</td>\n",
       "      <td></td>\n",
       "    </tr>\n",
       "    <tr>\n",
       "      <th>2</th>\n",
       "      <td>michail_pana</td>\n",
       "      <td>0</td>\n",
       "      <td>@odyssefs357 Γιατί έτσι όπως έγινε δεν παίρνε...</td>\n",
       "    </tr>\n",
       "  </tbody>\n",
       "</table>\n",
       "</div>"
      ],
      "text/plain": [
       "       screen_name  parliament_member  \\\n",
       "0         evefthym                  0   \n",
       "1  Qdv6zNFe0nkBH2m                  0   \n",
       "2     michail_pana                  0   \n",
       "\n",
       "                                   recent_100_tweets  \n",
       "0   #NewProfilePic https://t.co/h0wlMIS6U0 @wavyp...  \n",
       "1                                                     \n",
       "2   @odyssefs357 Γιατί έτσι όπως έγινε δεν παίρνε...  "
      ]
     },
     "execution_count": 64,
     "metadata": {},
     "output_type": "execute_result"
    }
   ],
   "source": [
    "data = training_set.copy()\n",
    "data = data.drop(['name', 'description', 'statuses_count', 'recent_tweet', 'recent_10_tweets'], axis = 1)\n",
    "data.head(3)"
   ]
  },
  {
   "cell_type": "markdown",
   "id": "increasing-piece",
   "metadata": {},
   "source": [
    "We normalize our text by taking the following actions:\n",
    "\n",
    "- remove URLs\n",
    "- remove anything that isn't a unicode character (e.g emojis, punctuation)\n",
    "- remove numbers and _\n",
    "- fix whitespace\n",
    "- convert to lower case"
   ]
  },
  {
   "cell_type": "code",
   "execution_count": 65,
   "id": "paperback-southwest",
   "metadata": {
    "jupyter": {
     "source_hidden": true
    }
   },
   "outputs": [],
   "source": [
    "data['recent_100_tweets'] = clean_text(data['recent_100_tweets'])"
   ]
  },
  {
   "cell_type": "markdown",
   "id": "missing-anxiety",
   "metadata": {},
   "source": [
    "## Model Selection"
   ]
  },
  {
   "cell_type": "code",
   "execution_count": 66,
   "id": "technical-gnome",
   "metadata": {
    "jupyter": {
     "source_hidden": true
    }
   },
   "outputs": [],
   "source": [
    "textdatas = ['recent_100_tweets']"
   ]
  },
  {
   "cell_type": "code",
   "execution_count": 67,
   "id": "genuine-vision",
   "metadata": {
    "jupyter": {
     "source_hidden": true
    }
   },
   "outputs": [],
   "source": [
    "svm_tfidf = pd.DataFrame()\n",
    "svm_bow = pd.DataFrame()\n",
    "\n",
    "lr_tfidf = pd.DataFrame()\n",
    "lr_bow = pd.DataFrame()\n",
    "\n",
    "knn_tfidf = pd.DataFrame()\n",
    "knn_bow = pd.DataFrame()"
   ]
  },
  {
   "cell_type": "markdown",
   "id": "north-congo",
   "metadata": {
    "jupyter": {
     "source_hidden": true
    }
   },
   "source": [
    "#### SVM"
   ]
  },
  {
   "cell_type": "code",
   "execution_count": 68,
   "id": "silver-jurisdiction",
   "metadata": {},
   "outputs": [
    {
     "data": {
      "application/vnd.jupyter.widget-view+json": {
       "model_id": "0787c85dec4c4296936466b8c6f66e2a",
       "version_major": 2,
       "version_minor": 0
      },
      "text/plain": [
       "  0%|          | 0/1 [00:00<?, ?it/s]"
      ]
     },
     "metadata": {},
     "output_type": "display_data"
    },
    {
     "name": "stdout",
     "output_type": "stream",
     "text": [
      "Best params for recent_100_tweets:\n"
     ]
    },
    {
     "name": "stderr",
     "output_type": "stream",
     "text": [
      "/Library/Frameworks/Python.framework/Versions/3.8/lib/python3.8/site-packages/sklearn/model_selection/_search.py:918: UserWarning: One or more of the test scores are non-finite: [0.61333333 0.61333333 0.61333333 ...        nan        nan        nan]\n",
      "  warnings.warn(\n"
     ]
    },
    {
     "name": "stdout",
     "output_type": "stream",
     "text": [
      "{'svm__C': 1, 'svm__kernel': 'rbf', 'vectorizer__max_df': 0.5, 'vectorizer__max_features': 1000, 'vectorizer__min_df': 1}\n",
      "============================\n"
     ]
    },
    {
     "data": {
      "text/html": [
       "<div>\n",
       "<style scoped>\n",
       "    .dataframe tbody tr th:only-of-type {\n",
       "        vertical-align: middle;\n",
       "    }\n",
       "\n",
       "    .dataframe tbody tr th {\n",
       "        vertical-align: top;\n",
       "    }\n",
       "\n",
       "    .dataframe thead th {\n",
       "        text-align: right;\n",
       "    }\n",
       "</style>\n",
       "<table border=\"1\" class=\"dataframe\">\n",
       "  <thead>\n",
       "    <tr style=\"text-align: right;\">\n",
       "      <th></th>\n",
       "      <th>recent_100_tweets</th>\n",
       "    </tr>\n",
       "  </thead>\n",
       "  <tbody>\n",
       "    <tr>\n",
       "      <th>Without NLP</th>\n",
       "      <td>0.86</td>\n",
       "    </tr>\n",
       "  </tbody>\n",
       "</table>\n",
       "</div>"
      ],
      "text/plain": [
       "             recent_100_tweets\n",
       "Without NLP               0.86"
      ]
     },
     "execution_count": 68,
     "metadata": {},
     "output_type": "execute_result"
    }
   ],
   "source": [
    "# TF-IDF \n",
    "results = {}\n",
    "for textdata in tqdm(textdatas):\n",
    "    print(f'Best params for {textdata}:')\n",
    "    X = data[textdata]\n",
    "    results[textdata] = classification_svm(X, data['parliament_member'], 'TF-IDF').round(4)\n",
    "    print(\"============================\")\n",
    "    \n",
    "svm_tfidf = svm_tfidf.append(\n",
    "    pd.DataFrame.from_dict(results, orient='index', columns=['Without NLP']).T)\n",
    "\n",
    "svm_tfidf"
   ]
  },
  {
   "cell_type": "code",
   "execution_count": 69,
   "id": "patient-norwegian",
   "metadata": {
    "collapsed": true,
    "jupyter": {
     "outputs_hidden": true
    }
   },
   "outputs": [
    {
     "data": {
      "application/vnd.jupyter.widget-view+json": {
       "model_id": "bba23a4e18eb4c1c96974f234abe8698",
       "version_major": 2,
       "version_minor": 0
      },
      "text/plain": [
       "  0%|          | 0/1 [00:00<?, ?it/s]"
      ]
     },
     "metadata": {},
     "output_type": "display_data"
    },
    {
     "name": "stdout",
     "output_type": "stream",
     "text": [
      "Best params for recent_100_tweets:\n"
     ]
    },
    {
     "name": "stderr",
     "output_type": "stream",
     "text": [
      "/Library/Frameworks/Python.framework/Versions/3.8/lib/python3.8/site-packages/sklearn/model_selection/_search.py:918: UserWarning: One or more of the test scores are non-finite: [0.63 0.63 0.63 ...  nan  nan  nan]\n",
      "  warnings.warn(\n"
     ]
    },
    {
     "name": "stdout",
     "output_type": "stream",
     "text": [
      "{'svm__C': 10, 'svm__kernel': 'linear', 'vectorizer__max_df': 0.75, 'vectorizer__max_features': 100, 'vectorizer__min_df': 10}\n",
      "============================\n"
     ]
    },
    {
     "data": {
      "text/html": [
       "<div>\n",
       "<style scoped>\n",
       "    .dataframe tbody tr th:only-of-type {\n",
       "        vertical-align: middle;\n",
       "    }\n",
       "\n",
       "    .dataframe tbody tr th {\n",
       "        vertical-align: top;\n",
       "    }\n",
       "\n",
       "    .dataframe thead th {\n",
       "        text-align: right;\n",
       "    }\n",
       "</style>\n",
       "<table border=\"1\" class=\"dataframe\">\n",
       "  <thead>\n",
       "    <tr style=\"text-align: right;\">\n",
       "      <th></th>\n",
       "      <th>recent_100_tweets</th>\n",
       "    </tr>\n",
       "  </thead>\n",
       "  <tbody>\n",
       "    <tr>\n",
       "      <th>Without NLP</th>\n",
       "      <td>0.7833</td>\n",
       "    </tr>\n",
       "  </tbody>\n",
       "</table>\n",
       "</div>"
      ],
      "text/plain": [
       "             recent_100_tweets\n",
       "Without NLP             0.7833"
      ]
     },
     "execution_count": 69,
     "metadata": {},
     "output_type": "execute_result"
    }
   ],
   "source": [
    "# BoW\n",
    "results = {}\n",
    "for textdata in tqdm(textdatas):\n",
    "    print(f'Best params for {textdata}:')\n",
    "    X = data[textdata]\n",
    "    results[textdata] = classification_svm(X, data['parliament_member'], 'BoW').round(4)\n",
    "    print(\"============================\")\n",
    "    \n",
    "svm_bow = svm_bow.append(\n",
    "    pd.DataFrame.from_dict(results, orient='index', columns=['Without NLP']).T)\n",
    "\n",
    "svm_bow"
   ]
  },
  {
   "cell_type": "markdown",
   "id": "stretch-hawaii",
   "metadata": {},
   "source": [
    "#### Logistic Regression"
   ]
  },
  {
   "cell_type": "code",
   "execution_count": 70,
   "id": "informal-rider",
   "metadata": {
    "collapsed": true,
    "jupyter": {
     "outputs_hidden": true
    }
   },
   "outputs": [
    {
     "data": {
      "application/vnd.jupyter.widget-view+json": {
       "model_id": "1fd3a9b1960241f0b510243234f0ae37",
       "version_major": 2,
       "version_minor": 0
      },
      "text/plain": [
       "  0%|          | 0/1 [00:00<?, ?it/s]"
      ]
     },
     "metadata": {},
     "output_type": "display_data"
    },
    {
     "name": "stdout",
     "output_type": "stream",
     "text": [
      "Best params for recent_100_tweets:\n"
     ]
    },
    {
     "name": "stderr",
     "output_type": "stream",
     "text": [
      "/Library/Frameworks/Python.framework/Versions/3.8/lib/python3.8/site-packages/sklearn/model_selection/_search.py:918: UserWarning: One or more of the test scores are non-finite: [nan nan nan ... nan nan nan]\n",
      "  warnings.warn(\n"
     ]
    },
    {
     "name": "stdout",
     "output_type": "stream",
     "text": [
      "{'lr__C': 0.1, 'lr__penalty': 'none', 'vectorizer__max_df': 0.25, 'vectorizer__max_features': 2000, 'vectorizer__min_df': 5}\n",
      "============================\n"
     ]
    },
    {
     "name": "stderr",
     "output_type": "stream",
     "text": [
      "/Library/Frameworks/Python.framework/Versions/3.8/lib/python3.8/site-packages/sklearn/linear_model/_logistic.py:1322: UserWarning: Setting penalty='none' will ignore the C and l1_ratio parameters\n",
      "  warnings.warn(\n"
     ]
    },
    {
     "data": {
      "text/html": [
       "<div>\n",
       "<style scoped>\n",
       "    .dataframe tbody tr th:only-of-type {\n",
       "        vertical-align: middle;\n",
       "    }\n",
       "\n",
       "    .dataframe tbody tr th {\n",
       "        vertical-align: top;\n",
       "    }\n",
       "\n",
       "    .dataframe thead th {\n",
       "        text-align: right;\n",
       "    }\n",
       "</style>\n",
       "<table border=\"1\" class=\"dataframe\">\n",
       "  <thead>\n",
       "    <tr style=\"text-align: right;\">\n",
       "      <th></th>\n",
       "      <th>recent_100_tweets</th>\n",
       "    </tr>\n",
       "  </thead>\n",
       "  <tbody>\n",
       "    <tr>\n",
       "      <th>Without NLP</th>\n",
       "      <td>0.8633</td>\n",
       "    </tr>\n",
       "  </tbody>\n",
       "</table>\n",
       "</div>"
      ],
      "text/plain": [
       "             recent_100_tweets\n",
       "Without NLP             0.8633"
      ]
     },
     "execution_count": 70,
     "metadata": {},
     "output_type": "execute_result"
    }
   ],
   "source": [
    "# TF-IDF \n",
    "results = {}\n",
    "for textdata in tqdm(textdatas):\n",
    "    print(f'Best params for {textdata}:')\n",
    "    X = data[textdata]\n",
    "    results[textdata] = classification_lr(X, data['parliament_member'], 'TF-IDF').round(4)\n",
    "    print(\"============================\")\n",
    "    \n",
    "lr_tfidf = lr_tfidf.append(\n",
    "    pd.DataFrame.from_dict(results, orient='index', columns=['Without NLP']).T)\n",
    "\n",
    "lr_tfidf"
   ]
  },
  {
   "cell_type": "code",
   "execution_count": 71,
   "id": "vocal-confusion",
   "metadata": {
    "collapsed": true,
    "jupyter": {
     "outputs_hidden": true
    }
   },
   "outputs": [
    {
     "data": {
      "application/vnd.jupyter.widget-view+json": {
       "model_id": "e6fd3547ac4a4619a8c45c0cee893ca9",
       "version_major": 2,
       "version_minor": 0
      },
      "text/plain": [
       "  0%|          | 0/1 [00:00<?, ?it/s]"
      ]
     },
     "metadata": {},
     "output_type": "display_data"
    },
    {
     "name": "stdout",
     "output_type": "stream",
     "text": [
      "Best params for recent_100_tweets:\n"
     ]
    },
    {
     "name": "stderr",
     "output_type": "stream",
     "text": [
      "/Library/Frameworks/Python.framework/Versions/3.8/lib/python3.8/site-packages/sklearn/model_selection/_search.py:918: UserWarning: One or more of the test scores are non-finite: [nan nan nan ... nan nan nan]\n",
      "  warnings.warn(\n"
     ]
    },
    {
     "name": "stdout",
     "output_type": "stream",
     "text": [
      "{'lr__C': 0.1, 'lr__penalty': 'none', 'vectorizer__max_df': 0.5, 'vectorizer__max_features': 1000, 'vectorizer__min_df': 5}\n",
      "============================\n"
     ]
    },
    {
     "name": "stderr",
     "output_type": "stream",
     "text": [
      "/Library/Frameworks/Python.framework/Versions/3.8/lib/python3.8/site-packages/sklearn/linear_model/_logistic.py:1322: UserWarning: Setting penalty='none' will ignore the C and l1_ratio parameters\n",
      "  warnings.warn(\n"
     ]
    },
    {
     "data": {
      "text/html": [
       "<div>\n",
       "<style scoped>\n",
       "    .dataframe tbody tr th:only-of-type {\n",
       "        vertical-align: middle;\n",
       "    }\n",
       "\n",
       "    .dataframe tbody tr th {\n",
       "        vertical-align: top;\n",
       "    }\n",
       "\n",
       "    .dataframe thead th {\n",
       "        text-align: right;\n",
       "    }\n",
       "</style>\n",
       "<table border=\"1\" class=\"dataframe\">\n",
       "  <thead>\n",
       "    <tr style=\"text-align: right;\">\n",
       "      <th></th>\n",
       "      <th>recent_100_tweets</th>\n",
       "    </tr>\n",
       "  </thead>\n",
       "  <tbody>\n",
       "    <tr>\n",
       "      <th>Without NLP</th>\n",
       "      <td>0.8467</td>\n",
       "    </tr>\n",
       "  </tbody>\n",
       "</table>\n",
       "</div>"
      ],
      "text/plain": [
       "             recent_100_tweets\n",
       "Without NLP             0.8467"
      ]
     },
     "execution_count": 71,
     "metadata": {},
     "output_type": "execute_result"
    }
   ],
   "source": [
    "# BoW\n",
    "results = {}\n",
    "for textdata in tqdm(textdatas):\n",
    "    print(f'Best params for {textdata}:')\n",
    "    X = data[textdata]\n",
    "    results[textdata] = classification_lr(X, data['parliament_member'], 'BoW').round(4)\n",
    "    print(\"============================\")\n",
    "    \n",
    "lr_bow = lr_bow.append(\n",
    "    pd.DataFrame.from_dict(results, orient='index', columns=['Without NLP']).T)\n",
    "\n",
    "lr_bow"
   ]
  },
  {
   "cell_type": "markdown",
   "id": "higher-infection",
   "metadata": {},
   "source": [
    "#### kNN"
   ]
  },
  {
   "cell_type": "code",
   "execution_count": 72,
   "id": "celtic-installation",
   "metadata": {},
   "outputs": [
    {
     "data": {
      "application/vnd.jupyter.widget-view+json": {
       "model_id": "4b41ff14e04d48c691e4837ca91ff0b6",
       "version_major": 2,
       "version_minor": 0
      },
      "text/plain": [
       "  0%|          | 0/1 [00:00<?, ?it/s]"
      ]
     },
     "metadata": {},
     "output_type": "display_data"
    },
    {
     "name": "stdout",
     "output_type": "stream",
     "text": [
      "Best params for recent_100_tweets:\n"
     ]
    },
    {
     "name": "stderr",
     "output_type": "stream",
     "text": [
      "/Library/Frameworks/Python.framework/Versions/3.8/lib/python3.8/site-packages/sklearn/model_selection/_search.py:918: UserWarning: One or more of the test scores are non-finite: [0.55 0.55 0.55 ...  nan  nan  nan]\n",
      "  warnings.warn(\n"
     ]
    },
    {
     "name": "stdout",
     "output_type": "stream",
     "text": [
      "{'knn__n_neighbors': 4, 'knn__weights': 'distance', 'vectorizer__max_df': 0.5, 'vectorizer__max_features': 100, 'vectorizer__min_df': 1}\n",
      "============================\n"
     ]
    },
    {
     "data": {
      "text/html": [
       "<div>\n",
       "<style scoped>\n",
       "    .dataframe tbody tr th:only-of-type {\n",
       "        vertical-align: middle;\n",
       "    }\n",
       "\n",
       "    .dataframe tbody tr th {\n",
       "        vertical-align: top;\n",
       "    }\n",
       "\n",
       "    .dataframe thead th {\n",
       "        text-align: right;\n",
       "    }\n",
       "</style>\n",
       "<table border=\"1\" class=\"dataframe\">\n",
       "  <thead>\n",
       "    <tr style=\"text-align: right;\">\n",
       "      <th></th>\n",
       "      <th>recent_100_tweets</th>\n",
       "    </tr>\n",
       "  </thead>\n",
       "  <tbody>\n",
       "    <tr>\n",
       "      <th>Without NLP</th>\n",
       "      <td>0.84</td>\n",
       "    </tr>\n",
       "  </tbody>\n",
       "</table>\n",
       "</div>"
      ],
      "text/plain": [
       "             recent_100_tweets\n",
       "Without NLP               0.84"
      ]
     },
     "execution_count": 72,
     "metadata": {},
     "output_type": "execute_result"
    }
   ],
   "source": [
    "# TF-IDF \n",
    "results = {}\n",
    "for textdata in tqdm(textdatas):\n",
    "    print(f'Best params for {textdata}:')\n",
    "    X = data[textdata]\n",
    "    results[textdata] = classification_knn(X, data['parliament_member'], 'TF-IDF').round(4)\n",
    "    print(\"============================\")\n",
    "    \n",
    "knn_tfidf = knn_tfidf.append(\n",
    "    pd.DataFrame.from_dict(results, orient='index', columns=['Without NLP']).T)\n",
    "\n",
    "knn_tfidf"
   ]
  },
  {
   "cell_type": "code",
   "execution_count": 73,
   "id": "compact-treasurer",
   "metadata": {
    "collapsed": true,
    "jupyter": {
     "outputs_hidden": true,
     "source_hidden": true
    }
   },
   "outputs": [
    {
     "data": {
      "application/vnd.jupyter.widget-view+json": {
       "model_id": "45e0208f395b425387ad4a0bdfe4dd63",
       "version_major": 2,
       "version_minor": 0
      },
      "text/plain": [
       "  0%|          | 0/1 [00:00<?, ?it/s]"
      ]
     },
     "metadata": {},
     "output_type": "display_data"
    },
    {
     "name": "stdout",
     "output_type": "stream",
     "text": [
      "Best params for recent_100_tweets:\n"
     ]
    },
    {
     "name": "stderr",
     "output_type": "stream",
     "text": [
      "/Library/Frameworks/Python.framework/Versions/3.8/lib/python3.8/site-packages/sklearn/model_selection/_search.py:918: UserWarning: One or more of the test scores are non-finite: [0.55       0.55       0.55333333 ...        nan        nan        nan]\n",
      "  warnings.warn(\n"
     ]
    },
    {
     "name": "stdout",
     "output_type": "stream",
     "text": [
      "{'knn__n_neighbors': 5, 'knn__weights': 'distance', 'vectorizer__max_df': 0.75, 'vectorizer__max_features': 10, 'vectorizer__min_df': 1}\n",
      "============================\n"
     ]
    },
    {
     "data": {
      "text/html": [
       "<div>\n",
       "<style scoped>\n",
       "    .dataframe tbody tr th:only-of-type {\n",
       "        vertical-align: middle;\n",
       "    }\n",
       "\n",
       "    .dataframe tbody tr th {\n",
       "        vertical-align: top;\n",
       "    }\n",
       "\n",
       "    .dataframe thead th {\n",
       "        text-align: right;\n",
       "    }\n",
       "</style>\n",
       "<table border=\"1\" class=\"dataframe\">\n",
       "  <thead>\n",
       "    <tr style=\"text-align: right;\">\n",
       "      <th></th>\n",
       "      <th>recent_100_tweets</th>\n",
       "    </tr>\n",
       "  </thead>\n",
       "  <tbody>\n",
       "    <tr>\n",
       "      <th>Without NLP</th>\n",
       "      <td>0.7967</td>\n",
       "    </tr>\n",
       "  </tbody>\n",
       "</table>\n",
       "</div>"
      ],
      "text/plain": [
       "             recent_100_tweets\n",
       "Without NLP             0.7967"
      ]
     },
     "execution_count": 73,
     "metadata": {},
     "output_type": "execute_result"
    }
   ],
   "source": [
    "# BoW\n",
    "results = {}\n",
    "for textdata in tqdm(textdatas):\n",
    "    print(f'Best params for {textdata}:')\n",
    "    X = data[textdata]\n",
    "    results[textdata] = classification_knn(X, data['parliament_member'], 'BoW').round(4)\n",
    "    print(\"============================\")\n",
    "    \n",
    "knn_bow = knn_bow.append(\n",
    "    pd.DataFrame.from_dict(results, orient='index', columns=['Without NLP']).T)\n",
    "\n",
    "knn_bow"
   ]
  },
  {
   "cell_type": "markdown",
   "id": "beautiful-matrix",
   "metadata": {
    "jupyter": {
     "source_hidden": true
    }
   },
   "source": [
    "### Stop Word Removal"
   ]
  },
  {
   "cell_type": "code",
   "execution_count": 74,
   "id": "collectible-register",
   "metadata": {
    "jupyter": {
     "source_hidden": true
    }
   },
   "outputs": [],
   "source": [
    "nlp_el = spacy.load('el_core_news_md')\n",
    "nlp_en = spacy.load('en_core_web_sm')\n",
    "STOPWORDS = set(list(spacy.lang.en.STOP_WORDS) + list(spacy.lang.el.STOP_WORDS))\n",
    "\n",
    "def remove_stopwords(row):\n",
    "    row = [str(token) for token in nlp_el(row)]\n",
    "    return [w for w in row if w not in STOPWORDS]"
   ]
  },
  {
   "cell_type": "code",
   "execution_count": 75,
   "id": "encouraging-finding",
   "metadata": {
    "jupyter": {
     "source_hidden": true
    }
   },
   "outputs": [],
   "source": [
    "df = data.copy()\n",
    "\n",
    "df['recent_100_tweets'] = df['recent_100_tweets'].apply(lambda row: remove_stopwords(row))\n",
    "df['recent_100_tweets'] = df['recent_100_tweets'].apply(lambda row: ' '.join(row))\n"
   ]
  },
  {
   "cell_type": "markdown",
   "id": "blind-xerox",
   "metadata": {
    "jupyter": {
     "source_hidden": true
    }
   },
   "source": [
    "#### SVM"
   ]
  },
  {
   "cell_type": "code",
   "execution_count": 76,
   "id": "industrial-friendly",
   "metadata": {
    "collapsed": true,
    "jupyter": {
     "outputs_hidden": true,
     "source_hidden": true
    }
   },
   "outputs": [
    {
     "data": {
      "application/vnd.jupyter.widget-view+json": {
       "model_id": "04e1ff4daa024298a210f36c03414276",
       "version_major": 2,
       "version_minor": 0
      },
      "text/plain": [
       "  0%|          | 0/1 [00:00<?, ?it/s]"
      ]
     },
     "metadata": {},
     "output_type": "display_data"
    },
    {
     "name": "stdout",
     "output_type": "stream",
     "text": [
      "Best params for recent_100_tweets:\n"
     ]
    },
    {
     "name": "stderr",
     "output_type": "stream",
     "text": [
      "/Library/Frameworks/Python.framework/Versions/3.8/lib/python3.8/site-packages/sklearn/model_selection/_search.py:918: UserWarning: One or more of the test scores are non-finite: [0.57       0.57       0.64333333 ...        nan        nan        nan]\n",
      "  warnings.warn(\n"
     ]
    },
    {
     "name": "stdout",
     "output_type": "stream",
     "text": [
      "{'svm__C': 5, 'svm__kernel': 'rbf', 'vectorizer__max_df': 0.75, 'vectorizer__max_features': 1000, 'vectorizer__min_df': 1}\n",
      "============================\n"
     ]
    },
    {
     "data": {
      "text/html": [
       "<div>\n",
       "<style scoped>\n",
       "    .dataframe tbody tr th:only-of-type {\n",
       "        vertical-align: middle;\n",
       "    }\n",
       "\n",
       "    .dataframe tbody tr th {\n",
       "        vertical-align: top;\n",
       "    }\n",
       "\n",
       "    .dataframe thead th {\n",
       "        text-align: right;\n",
       "    }\n",
       "</style>\n",
       "<table border=\"1\" class=\"dataframe\">\n",
       "  <thead>\n",
       "    <tr style=\"text-align: right;\">\n",
       "      <th></th>\n",
       "      <th>recent_100_tweets</th>\n",
       "    </tr>\n",
       "  </thead>\n",
       "  <tbody>\n",
       "    <tr>\n",
       "      <th>Without NLP</th>\n",
       "      <td>0.86</td>\n",
       "    </tr>\n",
       "    <tr>\n",
       "      <th>Stopword Removal</th>\n",
       "      <td>0.84</td>\n",
       "    </tr>\n",
       "  </tbody>\n",
       "</table>\n",
       "</div>"
      ],
      "text/plain": [
       "                  recent_100_tweets\n",
       "Without NLP                    0.86\n",
       "Stopword Removal               0.84"
      ]
     },
     "execution_count": 76,
     "metadata": {},
     "output_type": "execute_result"
    }
   ],
   "source": [
    "# TF-IDF \n",
    "results = {}\n",
    "for textdata in tqdm(textdatas):\n",
    "    print(f'Best params for {textdata}:')\n",
    "    X = df[textdata]\n",
    "    results[textdata] = classification_svm(X, df['parliament_member'], 'TF-IDF').round(4)\n",
    "    print(\"============================\")\n",
    "    \n",
    "svm_tfidf = svm_tfidf.append(\n",
    "    pd.DataFrame.from_dict(results, orient='index', columns=['Stopword Removal']).T)\n",
    "\n",
    "svm_tfidf"
   ]
  },
  {
   "cell_type": "code",
   "execution_count": 77,
   "id": "supreme-vermont",
   "metadata": {
    "collapsed": true,
    "jupyter": {
     "outputs_hidden": true,
     "source_hidden": true
    }
   },
   "outputs": [
    {
     "data": {
      "application/vnd.jupyter.widget-view+json": {
       "model_id": "a6552db9b4bc4bb6af940ea412e42420",
       "version_major": 2,
       "version_minor": 0
      },
      "text/plain": [
       "  0%|          | 0/1 [00:00<?, ?it/s]"
      ]
     },
     "metadata": {},
     "output_type": "display_data"
    },
    {
     "name": "stdout",
     "output_type": "stream",
     "text": [
      "Best params for recent_100_tweets:\n"
     ]
    },
    {
     "name": "stderr",
     "output_type": "stream",
     "text": [
      "/Library/Frameworks/Python.framework/Versions/3.8/lib/python3.8/site-packages/sklearn/model_selection/_search.py:918: UserWarning: One or more of the test scores are non-finite: [0.56666667 0.56666667 0.56333333 ...        nan        nan        nan]\n",
      "  warnings.warn(\n"
     ]
    },
    {
     "name": "stdout",
     "output_type": "stream",
     "text": [
      "{'svm__C': 10, 'svm__kernel': 'linear', 'vectorizer__max_df': 0.75, 'vectorizer__max_features': 100, 'vectorizer__min_df': 25}\n",
      "============================\n"
     ]
    },
    {
     "data": {
      "text/html": [
       "<div>\n",
       "<style scoped>\n",
       "    .dataframe tbody tr th:only-of-type {\n",
       "        vertical-align: middle;\n",
       "    }\n",
       "\n",
       "    .dataframe tbody tr th {\n",
       "        vertical-align: top;\n",
       "    }\n",
       "\n",
       "    .dataframe thead th {\n",
       "        text-align: right;\n",
       "    }\n",
       "</style>\n",
       "<table border=\"1\" class=\"dataframe\">\n",
       "  <thead>\n",
       "    <tr style=\"text-align: right;\">\n",
       "      <th></th>\n",
       "      <th>recent_100_tweets</th>\n",
       "    </tr>\n",
       "  </thead>\n",
       "  <tbody>\n",
       "    <tr>\n",
       "      <th>Without NLP</th>\n",
       "      <td>0.7833</td>\n",
       "    </tr>\n",
       "    <tr>\n",
       "      <th>Stopword Removal</th>\n",
       "      <td>0.7833</td>\n",
       "    </tr>\n",
       "  </tbody>\n",
       "</table>\n",
       "</div>"
      ],
      "text/plain": [
       "                  recent_100_tweets\n",
       "Without NLP                  0.7833\n",
       "Stopword Removal             0.7833"
      ]
     },
     "execution_count": 77,
     "metadata": {},
     "output_type": "execute_result"
    }
   ],
   "source": [
    "# BoW\n",
    "results = {}\n",
    "for textdata in tqdm(textdatas):\n",
    "    print(f'Best params for {textdata}:')\n",
    "    X = df[textdata]\n",
    "    results[textdata] = classification_svm(X, df['parliament_member'], 'BoW').round(4)\n",
    "    print(\"============================\")\n",
    "    \n",
    "svm_bow = svm_bow.append(\n",
    "    pd.DataFrame.from_dict(results, orient='index', columns=['Stopword Removal']).T)\n",
    "\n",
    "svm_bow"
   ]
  },
  {
   "cell_type": "markdown",
   "id": "known-stand",
   "metadata": {
    "jupyter": {
     "source_hidden": true
    }
   },
   "source": [
    "#### Logistic Regression"
   ]
  },
  {
   "cell_type": "code",
   "execution_count": 78,
   "id": "micro-departure",
   "metadata": {
    "collapsed": true,
    "jupyter": {
     "outputs_hidden": true,
     "source_hidden": true
    }
   },
   "outputs": [
    {
     "data": {
      "application/vnd.jupyter.widget-view+json": {
       "model_id": "2cfb55e1d68b4c7a968e4993bdb570e8",
       "version_major": 2,
       "version_minor": 0
      },
      "text/plain": [
       "  0%|          | 0/1 [00:00<?, ?it/s]"
      ]
     },
     "metadata": {},
     "output_type": "display_data"
    },
    {
     "name": "stdout",
     "output_type": "stream",
     "text": [
      "Best params for recent_100_tweets:\n"
     ]
    },
    {
     "name": "stderr",
     "output_type": "stream",
     "text": [
      "/Library/Frameworks/Python.framework/Versions/3.8/lib/python3.8/site-packages/sklearn/model_selection/_search.py:918: UserWarning: One or more of the test scores are non-finite: [nan nan nan ... nan nan nan]\n",
      "  warnings.warn(\n",
      "/Library/Frameworks/Python.framework/Versions/3.8/lib/python3.8/site-packages/sklearn/linear_model/_logistic.py:1322: UserWarning: Setting penalty='none' will ignore the C and l1_ratio parameters\n",
      "  warnings.warn(\n"
     ]
    },
    {
     "name": "stdout",
     "output_type": "stream",
     "text": [
      "{'lr__C': 0.1, 'lr__penalty': 'none', 'vectorizer__max_df': 0.75, 'vectorizer__max_features': None, 'vectorizer__min_df': 5}\n",
      "============================\n"
     ]
    },
    {
     "data": {
      "text/html": [
       "<div>\n",
       "<style scoped>\n",
       "    .dataframe tbody tr th:only-of-type {\n",
       "        vertical-align: middle;\n",
       "    }\n",
       "\n",
       "    .dataframe tbody tr th {\n",
       "        vertical-align: top;\n",
       "    }\n",
       "\n",
       "    .dataframe thead th {\n",
       "        text-align: right;\n",
       "    }\n",
       "</style>\n",
       "<table border=\"1\" class=\"dataframe\">\n",
       "  <thead>\n",
       "    <tr style=\"text-align: right;\">\n",
       "      <th></th>\n",
       "      <th>recent_100_tweets</th>\n",
       "    </tr>\n",
       "  </thead>\n",
       "  <tbody>\n",
       "    <tr>\n",
       "      <th>Without NLP</th>\n",
       "      <td>0.8633</td>\n",
       "    </tr>\n",
       "    <tr>\n",
       "      <th>Stopword Removal</th>\n",
       "      <td>0.8833</td>\n",
       "    </tr>\n",
       "  </tbody>\n",
       "</table>\n",
       "</div>"
      ],
      "text/plain": [
       "                  recent_100_tweets\n",
       "Without NLP                  0.8633\n",
       "Stopword Removal             0.8833"
      ]
     },
     "execution_count": 78,
     "metadata": {},
     "output_type": "execute_result"
    }
   ],
   "source": [
    "# TF-IDF \n",
    "results = {}\n",
    "for textdata in tqdm(textdatas):\n",
    "    print(f'Best params for {textdata}:')\n",
    "    X = df[textdata]\n",
    "    results[textdata] = classification_lr(X, df['parliament_member'], 'TF-IDF').round(4)\n",
    "    print(\"============================\")\n",
    "    \n",
    "lr_tfidf = lr_tfidf.append(\n",
    "    pd.DataFrame.from_dict(results, orient='index', columns=['Stopword Removal']).T)\n",
    "\n",
    "lr_tfidf"
   ]
  },
  {
   "cell_type": "code",
   "execution_count": 79,
   "id": "visible-classic",
   "metadata": {
    "collapsed": true,
    "jupyter": {
     "outputs_hidden": true,
     "source_hidden": true
    }
   },
   "outputs": [
    {
     "data": {
      "application/vnd.jupyter.widget-view+json": {
       "model_id": "6074b219e17b47219ef4df2fd74b7032",
       "version_major": 2,
       "version_minor": 0
      },
      "text/plain": [
       "  0%|          | 0/1 [00:00<?, ?it/s]"
      ]
     },
     "metadata": {},
     "output_type": "display_data"
    },
    {
     "name": "stdout",
     "output_type": "stream",
     "text": [
      "Best params for recent_100_tweets:\n"
     ]
    },
    {
     "name": "stderr",
     "output_type": "stream",
     "text": [
      "/Library/Frameworks/Python.framework/Versions/3.8/lib/python3.8/site-packages/sklearn/model_selection/_search.py:918: UserWarning: One or more of the test scores are non-finite: [nan nan nan ... nan nan nan]\n",
      "  warnings.warn(\n",
      "/Library/Frameworks/Python.framework/Versions/3.8/lib/python3.8/site-packages/sklearn/linear_model/_logistic.py:1322: UserWarning: Setting penalty='none' will ignore the C and l1_ratio parameters\n",
      "  warnings.warn(\n"
     ]
    },
    {
     "name": "stdout",
     "output_type": "stream",
     "text": [
      "{'lr__C': 0.1, 'lr__penalty': 'none', 'vectorizer__max_df': 0.75, 'vectorizer__max_features': None, 'vectorizer__min_df': 5}\n",
      "============================\n"
     ]
    },
    {
     "data": {
      "text/html": [
       "<div>\n",
       "<style scoped>\n",
       "    .dataframe tbody tr th:only-of-type {\n",
       "        vertical-align: middle;\n",
       "    }\n",
       "\n",
       "    .dataframe tbody tr th {\n",
       "        vertical-align: top;\n",
       "    }\n",
       "\n",
       "    .dataframe thead th {\n",
       "        text-align: right;\n",
       "    }\n",
       "</style>\n",
       "<table border=\"1\" class=\"dataframe\">\n",
       "  <thead>\n",
       "    <tr style=\"text-align: right;\">\n",
       "      <th></th>\n",
       "      <th>recent_100_tweets</th>\n",
       "    </tr>\n",
       "  </thead>\n",
       "  <tbody>\n",
       "    <tr>\n",
       "      <th>Without NLP</th>\n",
       "      <td>0.8467</td>\n",
       "    </tr>\n",
       "    <tr>\n",
       "      <th>Stopword Removal</th>\n",
       "      <td>0.8833</td>\n",
       "    </tr>\n",
       "  </tbody>\n",
       "</table>\n",
       "</div>"
      ],
      "text/plain": [
       "                  recent_100_tweets\n",
       "Without NLP                  0.8467\n",
       "Stopword Removal             0.8833"
      ]
     },
     "execution_count": 79,
     "metadata": {},
     "output_type": "execute_result"
    }
   ],
   "source": [
    "# BoW\n",
    "results = {}\n",
    "for textdata in tqdm(textdatas):\n",
    "    print(f'Best params for {textdata}:')\n",
    "    X = df[textdata]\n",
    "    results[textdata] = classification_lr(X, df['parliament_member'], 'BoW').round(4)\n",
    "    print(\"============================\")\n",
    "    \n",
    "lr_bow = lr_bow.append(\n",
    "    pd.DataFrame.from_dict(results, orient='index', columns=['Stopword Removal']).T)\n",
    "\n",
    "lr_bow"
   ]
  },
  {
   "cell_type": "markdown",
   "id": "systematic-envelope",
   "metadata": {
    "jupyter": {
     "source_hidden": true
    }
   },
   "source": [
    "#### kNN"
   ]
  },
  {
   "cell_type": "code",
   "execution_count": 80,
   "id": "golden-recording",
   "metadata": {
    "collapsed": true,
    "jupyter": {
     "outputs_hidden": true,
     "source_hidden": true
    }
   },
   "outputs": [
    {
     "data": {
      "application/vnd.jupyter.widget-view+json": {
       "model_id": "3a734fe0f2c74cd08faa7d9adeabdc2a",
       "version_major": 2,
       "version_minor": 0
      },
      "text/plain": [
       "  0%|          | 0/1 [00:00<?, ?it/s]"
      ]
     },
     "metadata": {},
     "output_type": "display_data"
    },
    {
     "name": "stdout",
     "output_type": "stream",
     "text": [
      "Best params for recent_100_tweets:\n"
     ]
    },
    {
     "name": "stderr",
     "output_type": "stream",
     "text": [
      "/Library/Frameworks/Python.framework/Versions/3.8/lib/python3.8/site-packages/sklearn/model_selection/_search.py:918: UserWarning: One or more of the test scores are non-finite: [0.58333333 0.58333333 0.59       ...        nan        nan        nan]\n",
      "  warnings.warn(\n"
     ]
    },
    {
     "name": "stdout",
     "output_type": "stream",
     "text": [
      "{'knn__n_neighbors': 6, 'knn__weights': 'uniform', 'vectorizer__max_df': 0.75, 'vectorizer__max_features': 100, 'vectorizer__min_df': 25}\n",
      "============================\n"
     ]
    },
    {
     "data": {
      "text/html": [
       "<div>\n",
       "<style scoped>\n",
       "    .dataframe tbody tr th:only-of-type {\n",
       "        vertical-align: middle;\n",
       "    }\n",
       "\n",
       "    .dataframe tbody tr th {\n",
       "        vertical-align: top;\n",
       "    }\n",
       "\n",
       "    .dataframe thead th {\n",
       "        text-align: right;\n",
       "    }\n",
       "</style>\n",
       "<table border=\"1\" class=\"dataframe\">\n",
       "  <thead>\n",
       "    <tr style=\"text-align: right;\">\n",
       "      <th></th>\n",
       "      <th>recent_100_tweets</th>\n",
       "    </tr>\n",
       "  </thead>\n",
       "  <tbody>\n",
       "    <tr>\n",
       "      <th>Without NLP</th>\n",
       "      <td>0.8400</td>\n",
       "    </tr>\n",
       "    <tr>\n",
       "      <th>Stopword Removal</th>\n",
       "      <td>0.8033</td>\n",
       "    </tr>\n",
       "  </tbody>\n",
       "</table>\n",
       "</div>"
      ],
      "text/plain": [
       "                  recent_100_tweets\n",
       "Without NLP                  0.8400\n",
       "Stopword Removal             0.8033"
      ]
     },
     "execution_count": 80,
     "metadata": {},
     "output_type": "execute_result"
    }
   ],
   "source": [
    "# TF-IDF \n",
    "results = {}\n",
    "for textdata in tqdm(textdatas):\n",
    "    print(f'Best params for {textdata}:')\n",
    "    X = df[textdata]\n",
    "    results[textdata] = classification_knn(X, df['parliament_member'], 'TF-IDF').round(4)\n",
    "    print(\"============================\")\n",
    "    \n",
    "knn_tfidf = knn_tfidf.append(\n",
    "    pd.DataFrame.from_dict(results, orient='index', columns=['Stopword Removal']).T)\n",
    "\n",
    "knn_tfidf"
   ]
  },
  {
   "cell_type": "code",
   "execution_count": 81,
   "id": "occupied-world",
   "metadata": {
    "collapsed": true,
    "jupyter": {
     "outputs_hidden": true,
     "source_hidden": true
    }
   },
   "outputs": [
    {
     "data": {
      "application/vnd.jupyter.widget-view+json": {
       "model_id": "0a4fa845c0da4b5aa5ed584e8372a501",
       "version_major": 2,
       "version_minor": 0
      },
      "text/plain": [
       "  0%|          | 0/1 [00:00<?, ?it/s]"
      ]
     },
     "metadata": {},
     "output_type": "display_data"
    },
    {
     "name": "stdout",
     "output_type": "stream",
     "text": [
      "Best params for recent_100_tweets:\n"
     ]
    },
    {
     "name": "stderr",
     "output_type": "stream",
     "text": [
      "/Library/Frameworks/Python.framework/Versions/3.8/lib/python3.8/site-packages/sklearn/model_selection/_search.py:918: UserWarning: One or more of the test scores are non-finite: [0.58666667 0.58666667 0.59666667 ...        nan        nan        nan]\n",
      "  warnings.warn(\n"
     ]
    },
    {
     "name": "stdout",
     "output_type": "stream",
     "text": [
      "{'knn__n_neighbors': 4, 'knn__weights': 'distance', 'vectorizer__max_df': 0.25, 'vectorizer__max_features': 10, 'vectorizer__min_df': 25}\n",
      "============================\n"
     ]
    },
    {
     "data": {
      "text/html": [
       "<div>\n",
       "<style scoped>\n",
       "    .dataframe tbody tr th:only-of-type {\n",
       "        vertical-align: middle;\n",
       "    }\n",
       "\n",
       "    .dataframe tbody tr th {\n",
       "        vertical-align: top;\n",
       "    }\n",
       "\n",
       "    .dataframe thead th {\n",
       "        text-align: right;\n",
       "    }\n",
       "</style>\n",
       "<table border=\"1\" class=\"dataframe\">\n",
       "  <thead>\n",
       "    <tr style=\"text-align: right;\">\n",
       "      <th></th>\n",
       "      <th>recent_100_tweets</th>\n",
       "    </tr>\n",
       "  </thead>\n",
       "  <tbody>\n",
       "    <tr>\n",
       "      <th>Without NLP</th>\n",
       "      <td>0.7967</td>\n",
       "    </tr>\n",
       "    <tr>\n",
       "      <th>Stopword Removal</th>\n",
       "      <td>0.7400</td>\n",
       "    </tr>\n",
       "  </tbody>\n",
       "</table>\n",
       "</div>"
      ],
      "text/plain": [
       "                  recent_100_tweets\n",
       "Without NLP                  0.7967\n",
       "Stopword Removal             0.7400"
      ]
     },
     "execution_count": 81,
     "metadata": {},
     "output_type": "execute_result"
    }
   ],
   "source": [
    "# BoW\n",
    "results = {}\n",
    "for textdata in tqdm(textdatas):\n",
    "    print(f'Best params for {textdata}:')\n",
    "    X = df[textdata]\n",
    "    results[textdata] = classification_knn(X, df['parliament_member'], 'BoW').round(4)\n",
    "    print(\"============================\")\n",
    "    \n",
    "knn_bow = knn_bow.append(\n",
    "    pd.DataFrame.from_dict(results, orient='index', columns=['Stopword Removal']).T)\n",
    "\n",
    "knn_bow"
   ]
  },
  {
   "cell_type": "markdown",
   "id": "contained-proportion",
   "metadata": {
    "jupyter": {
     "source_hidden": true
    }
   },
   "source": [
    "### Lemmatization"
   ]
  },
  {
   "cell_type": "code",
   "execution_count": 82,
   "id": "hybrid-eugene",
   "metadata": {
    "jupyter": {
     "source_hidden": true
    }
   },
   "outputs": [],
   "source": [
    "def tokenize_lemmatize(row):\n",
    "    return [str(token.lemma_) for token in nlp_el(row)]"
   ]
  },
  {
   "cell_type": "code",
   "execution_count": 83,
   "id": "collect-triple",
   "metadata": {
    "jupyter": {
     "source_hidden": true
    }
   },
   "outputs": [],
   "source": [
    "df = data.copy()\n",
    "\n",
    "df['recent_100_tweets'] = df['recent_100_tweets'].apply(lambda row: tokenize_lemmatize(row))\n",
    "df['recent_100_tweets'] = df['recent_100_tweets'].apply(lambda row: ' '.join(row))\n",
    "df['recent_100_tweets'] = df['recent_100_tweets'].apply(lambda row: remove_stopwords(row))\n",
    "df['recent_100_tweets'] = df['recent_100_tweets'].apply(lambda row: ' '.join(row))"
   ]
  },
  {
   "cell_type": "markdown",
   "id": "affecting-institute",
   "metadata": {
    "jupyter": {
     "source_hidden": true
    }
   },
   "source": [
    "#### SVM"
   ]
  },
  {
   "cell_type": "code",
   "execution_count": 84,
   "id": "alpine-discovery",
   "metadata": {
    "collapsed": true,
    "jupyter": {
     "outputs_hidden": true,
     "source_hidden": true
    }
   },
   "outputs": [
    {
     "data": {
      "application/vnd.jupyter.widget-view+json": {
       "model_id": "e504687fc0f946b4876e4cfe0dc3d075",
       "version_major": 2,
       "version_minor": 0
      },
      "text/plain": [
       "  0%|          | 0/1 [00:00<?, ?it/s]"
      ]
     },
     "metadata": {},
     "output_type": "display_data"
    },
    {
     "name": "stdout",
     "output_type": "stream",
     "text": [
      "Best params for recent_100_tweets:\n"
     ]
    },
    {
     "name": "stderr",
     "output_type": "stream",
     "text": [
      "/Library/Frameworks/Python.framework/Versions/3.8/lib/python3.8/site-packages/sklearn/model_selection/_search.py:918: UserWarning: One or more of the test scores are non-finite: [0.59       0.59       0.60333333 ...        nan        nan        nan]\n",
      "  warnings.warn(\n"
     ]
    },
    {
     "name": "stdout",
     "output_type": "stream",
     "text": [
      "{'svm__C': 5, 'svm__kernel': 'rbf', 'vectorizer__max_df': 0.75, 'vectorizer__max_features': 1000, 'vectorizer__min_df': 10}\n",
      "============================\n"
     ]
    },
    {
     "data": {
      "text/html": [
       "<div>\n",
       "<style scoped>\n",
       "    .dataframe tbody tr th:only-of-type {\n",
       "        vertical-align: middle;\n",
       "    }\n",
       "\n",
       "    .dataframe tbody tr th {\n",
       "        vertical-align: top;\n",
       "    }\n",
       "\n",
       "    .dataframe thead th {\n",
       "        text-align: right;\n",
       "    }\n",
       "</style>\n",
       "<table border=\"1\" class=\"dataframe\">\n",
       "  <thead>\n",
       "    <tr style=\"text-align: right;\">\n",
       "      <th></th>\n",
       "      <th>recent_100_tweets</th>\n",
       "    </tr>\n",
       "  </thead>\n",
       "  <tbody>\n",
       "    <tr>\n",
       "      <th>Without NLP</th>\n",
       "      <td>0.8600</td>\n",
       "    </tr>\n",
       "    <tr>\n",
       "      <th>Stopword Removal</th>\n",
       "      <td>0.8400</td>\n",
       "    </tr>\n",
       "    <tr>\n",
       "      <th>Lemmatization</th>\n",
       "      <td>0.8433</td>\n",
       "    </tr>\n",
       "  </tbody>\n",
       "</table>\n",
       "</div>"
      ],
      "text/plain": [
       "                  recent_100_tweets\n",
       "Without NLP                  0.8600\n",
       "Stopword Removal             0.8400\n",
       "Lemmatization                0.8433"
      ]
     },
     "execution_count": 84,
     "metadata": {},
     "output_type": "execute_result"
    }
   ],
   "source": [
    "# TF-IDF \n",
    "results = {}\n",
    "for textdata in tqdm(textdatas):\n",
    "    print(f'Best params for {textdata}:')\n",
    "    X = df[textdata]\n",
    "    results[textdata] = classification_svm(X, df['parliament_member'], 'TF-IDF').round(4)\n",
    "    print(\"============================\")\n",
    "    \n",
    "svm_tfidf = svm_tfidf.append(\n",
    "    pd.DataFrame.from_dict(results, orient='index', columns=['Lemmatization']).T)\n",
    "\n",
    "svm_tfidf"
   ]
  },
  {
   "cell_type": "code",
   "execution_count": 85,
   "id": "handled-carry",
   "metadata": {
    "collapsed": true,
    "jupyter": {
     "outputs_hidden": true,
     "source_hidden": true
    }
   },
   "outputs": [
    {
     "data": {
      "application/vnd.jupyter.widget-view+json": {
       "model_id": "0b5900ba3b19486bba680cd6f821f67b",
       "version_major": 2,
       "version_minor": 0
      },
      "text/plain": [
       "  0%|          | 0/1 [00:00<?, ?it/s]"
      ]
     },
     "metadata": {},
     "output_type": "display_data"
    },
    {
     "name": "stdout",
     "output_type": "stream",
     "text": [
      "Best params for recent_100_tweets:\n"
     ]
    },
    {
     "name": "stderr",
     "output_type": "stream",
     "text": [
      "/Library/Frameworks/Python.framework/Versions/3.8/lib/python3.8/site-packages/sklearn/model_selection/_search.py:918: UserWarning: One or more of the test scores are non-finite: [0.52666667 0.52666667 0.53333333 ...        nan        nan        nan]\n",
      "  warnings.warn(\n"
     ]
    },
    {
     "name": "stdout",
     "output_type": "stream",
     "text": [
      "{'svm__C': 1, 'svm__kernel': 'linear', 'vectorizer__max_df': 0.5, 'vectorizer__max_features': 1000, 'vectorizer__min_df': 10}\n",
      "============================\n"
     ]
    },
    {
     "data": {
      "text/html": [
       "<div>\n",
       "<style scoped>\n",
       "    .dataframe tbody tr th:only-of-type {\n",
       "        vertical-align: middle;\n",
       "    }\n",
       "\n",
       "    .dataframe tbody tr th {\n",
       "        vertical-align: top;\n",
       "    }\n",
       "\n",
       "    .dataframe thead th {\n",
       "        text-align: right;\n",
       "    }\n",
       "</style>\n",
       "<table border=\"1\" class=\"dataframe\">\n",
       "  <thead>\n",
       "    <tr style=\"text-align: right;\">\n",
       "      <th></th>\n",
       "      <th>recent_100_tweets</th>\n",
       "    </tr>\n",
       "  </thead>\n",
       "  <tbody>\n",
       "    <tr>\n",
       "      <th>Without NLP</th>\n",
       "      <td>0.7833</td>\n",
       "    </tr>\n",
       "    <tr>\n",
       "      <th>Stopword Removal</th>\n",
       "      <td>0.7833</td>\n",
       "    </tr>\n",
       "    <tr>\n",
       "      <th>Lemmatization</th>\n",
       "      <td>0.7767</td>\n",
       "    </tr>\n",
       "  </tbody>\n",
       "</table>\n",
       "</div>"
      ],
      "text/plain": [
       "                  recent_100_tweets\n",
       "Without NLP                  0.7833\n",
       "Stopword Removal             0.7833\n",
       "Lemmatization                0.7767"
      ]
     },
     "execution_count": 85,
     "metadata": {},
     "output_type": "execute_result"
    }
   ],
   "source": [
    "# BoW\n",
    "results = {}\n",
    "for textdata in tqdm(textdatas):\n",
    "    print(f'Best params for {textdata}:')\n",
    "    X = df[textdata]\n",
    "    results[textdata] = classification_svm(X, df['parliament_member'], 'BoW').round(4)\n",
    "    print(\"============================\")\n",
    "    \n",
    "svm_bow = svm_bow.append(\n",
    "    pd.DataFrame.from_dict(results, orient='index', columns=['Lemmatization']).T)\n",
    "\n",
    "svm_bow"
   ]
  },
  {
   "cell_type": "markdown",
   "id": "considerable-staff",
   "metadata": {
    "jupyter": {
     "source_hidden": true
    }
   },
   "source": [
    "#### Logistic Regression"
   ]
  },
  {
   "cell_type": "code",
   "execution_count": 86,
   "id": "regional-designation",
   "metadata": {
    "collapsed": true,
    "jupyter": {
     "outputs_hidden": true,
     "source_hidden": true
    }
   },
   "outputs": [
    {
     "data": {
      "application/vnd.jupyter.widget-view+json": {
       "model_id": "d98d71c31a1a4d9ba32add0efa3937fe",
       "version_major": 2,
       "version_minor": 0
      },
      "text/plain": [
       "  0%|          | 0/1 [00:00<?, ?it/s]"
      ]
     },
     "metadata": {},
     "output_type": "display_data"
    },
    {
     "name": "stdout",
     "output_type": "stream",
     "text": [
      "Best params for recent_100_tweets:\n"
     ]
    },
    {
     "name": "stderr",
     "output_type": "stream",
     "text": [
      "/Library/Frameworks/Python.framework/Versions/3.8/lib/python3.8/site-packages/sklearn/model_selection/_search.py:918: UserWarning: One or more of the test scores are non-finite: [nan nan nan ... nan nan nan]\n",
      "  warnings.warn(\n"
     ]
    },
    {
     "name": "stdout",
     "output_type": "stream",
     "text": [
      "{'lr__C': 0.1, 'lr__penalty': 'none', 'vectorizer__max_df': 0.5, 'vectorizer__max_features': 1000, 'vectorizer__min_df': 5}\n",
      "============================\n"
     ]
    },
    {
     "name": "stderr",
     "output_type": "stream",
     "text": [
      "/Library/Frameworks/Python.framework/Versions/3.8/lib/python3.8/site-packages/sklearn/linear_model/_logistic.py:1322: UserWarning: Setting penalty='none' will ignore the C and l1_ratio parameters\n",
      "  warnings.warn(\n"
     ]
    },
    {
     "data": {
      "text/html": [
       "<div>\n",
       "<style scoped>\n",
       "    .dataframe tbody tr th:only-of-type {\n",
       "        vertical-align: middle;\n",
       "    }\n",
       "\n",
       "    .dataframe tbody tr th {\n",
       "        vertical-align: top;\n",
       "    }\n",
       "\n",
       "    .dataframe thead th {\n",
       "        text-align: right;\n",
       "    }\n",
       "</style>\n",
       "<table border=\"1\" class=\"dataframe\">\n",
       "  <thead>\n",
       "    <tr style=\"text-align: right;\">\n",
       "      <th></th>\n",
       "      <th>recent_100_tweets</th>\n",
       "    </tr>\n",
       "  </thead>\n",
       "  <tbody>\n",
       "    <tr>\n",
       "      <th>Without NLP</th>\n",
       "      <td>0.8633</td>\n",
       "    </tr>\n",
       "    <tr>\n",
       "      <th>Stopword Removal</th>\n",
       "      <td>0.8833</td>\n",
       "    </tr>\n",
       "    <tr>\n",
       "      <th>Lemmatization</th>\n",
       "      <td>0.8767</td>\n",
       "    </tr>\n",
       "  </tbody>\n",
       "</table>\n",
       "</div>"
      ],
      "text/plain": [
       "                  recent_100_tweets\n",
       "Without NLP                  0.8633\n",
       "Stopword Removal             0.8833\n",
       "Lemmatization                0.8767"
      ]
     },
     "execution_count": 86,
     "metadata": {},
     "output_type": "execute_result"
    }
   ],
   "source": [
    "# TF-IDF \n",
    "results = {}\n",
    "for textdata in tqdm(textdatas):\n",
    "    print(f'Best params for {textdata}:')\n",
    "    X = df[textdata]\n",
    "    results[textdata] = classification_lr(X, df['parliament_member'], 'TF-IDF').round(4)\n",
    "    print(\"============================\")\n",
    "    \n",
    "lr_tfidf = lr_tfidf.append(\n",
    "    pd.DataFrame.from_dict(results, orient='index', columns=['Lemmatization']).T)\n",
    "\n",
    "lr_tfidf"
   ]
  },
  {
   "cell_type": "code",
   "execution_count": 87,
   "id": "equipped-blocking",
   "metadata": {
    "collapsed": true,
    "jupyter": {
     "outputs_hidden": true,
     "source_hidden": true
    }
   },
   "outputs": [
    {
     "data": {
      "application/vnd.jupyter.widget-view+json": {
       "model_id": "c89a46be88684edb89977675a77c8b90",
       "version_major": 2,
       "version_minor": 0
      },
      "text/plain": [
       "  0%|          | 0/1 [00:00<?, ?it/s]"
      ]
     },
     "metadata": {},
     "output_type": "display_data"
    },
    {
     "name": "stdout",
     "output_type": "stream",
     "text": [
      "Best params for recent_100_tweets:\n"
     ]
    },
    {
     "name": "stderr",
     "output_type": "stream",
     "text": [
      "/Library/Frameworks/Python.framework/Versions/3.8/lib/python3.8/site-packages/sklearn/model_selection/_search.py:918: UserWarning: One or more of the test scores are non-finite: [nan nan nan ... nan nan nan]\n",
      "  warnings.warn(\n"
     ]
    },
    {
     "name": "stdout",
     "output_type": "stream",
     "text": [
      "{'lr__C': 0.1, 'lr__penalty': 'none', 'vectorizer__max_df': 0.5, 'vectorizer__max_features': 2000, 'vectorizer__min_df': 5}\n",
      "============================\n"
     ]
    },
    {
     "name": "stderr",
     "output_type": "stream",
     "text": [
      "/Library/Frameworks/Python.framework/Versions/3.8/lib/python3.8/site-packages/sklearn/linear_model/_logistic.py:1322: UserWarning: Setting penalty='none' will ignore the C and l1_ratio parameters\n",
      "  warnings.warn(\n"
     ]
    },
    {
     "data": {
      "text/html": [
       "<div>\n",
       "<style scoped>\n",
       "    .dataframe tbody tr th:only-of-type {\n",
       "        vertical-align: middle;\n",
       "    }\n",
       "\n",
       "    .dataframe tbody tr th {\n",
       "        vertical-align: top;\n",
       "    }\n",
       "\n",
       "    .dataframe thead th {\n",
       "        text-align: right;\n",
       "    }\n",
       "</style>\n",
       "<table border=\"1\" class=\"dataframe\">\n",
       "  <thead>\n",
       "    <tr style=\"text-align: right;\">\n",
       "      <th></th>\n",
       "      <th>recent_100_tweets</th>\n",
       "    </tr>\n",
       "  </thead>\n",
       "  <tbody>\n",
       "    <tr>\n",
       "      <th>Without NLP</th>\n",
       "      <td>0.8467</td>\n",
       "    </tr>\n",
       "    <tr>\n",
       "      <th>Stopword Removal</th>\n",
       "      <td>0.8833</td>\n",
       "    </tr>\n",
       "    <tr>\n",
       "      <th>Lemmatization</th>\n",
       "      <td>0.8633</td>\n",
       "    </tr>\n",
       "  </tbody>\n",
       "</table>\n",
       "</div>"
      ],
      "text/plain": [
       "                  recent_100_tweets\n",
       "Without NLP                  0.8467\n",
       "Stopword Removal             0.8833\n",
       "Lemmatization                0.8633"
      ]
     },
     "execution_count": 87,
     "metadata": {},
     "output_type": "execute_result"
    }
   ],
   "source": [
    "# BoW\n",
    "results = {}\n",
    "for textdata in tqdm(textdatas):\n",
    "    print(f'Best params for {textdata}:')\n",
    "    X = df[textdata]\n",
    "    results[textdata] = classification_lr(X, df['parliament_member'], 'BoW').round(4)\n",
    "    print(\"============================\")\n",
    "    \n",
    "lr_bow = lr_bow.append(\n",
    "    pd.DataFrame.from_dict(results, orient='index', columns=['Lemmatization']).T)\n",
    "\n",
    "lr_bow"
   ]
  },
  {
   "cell_type": "markdown",
   "id": "typical-imperial",
   "metadata": {
    "jupyter": {
     "source_hidden": true
    }
   },
   "source": [
    "#### kNN"
   ]
  },
  {
   "cell_type": "code",
   "execution_count": 88,
   "id": "starting-capacity",
   "metadata": {
    "collapsed": true,
    "jupyter": {
     "outputs_hidden": true,
     "source_hidden": true
    }
   },
   "outputs": [
    {
     "data": {
      "application/vnd.jupyter.widget-view+json": {
       "model_id": "329d0e0339d34fde820b9f8c87cf9b9b",
       "version_major": 2,
       "version_minor": 0
      },
      "text/plain": [
       "  0%|          | 0/1 [00:00<?, ?it/s]"
      ]
     },
     "metadata": {},
     "output_type": "display_data"
    },
    {
     "name": "stdout",
     "output_type": "stream",
     "text": [
      "Best params for recent_100_tweets:\n"
     ]
    },
    {
     "name": "stderr",
     "output_type": "stream",
     "text": [
      "/Library/Frameworks/Python.framework/Versions/3.8/lib/python3.8/site-packages/sklearn/model_selection/_search.py:918: UserWarning: One or more of the test scores are non-finite: [0.61       0.61       0.60333333 ...        nan        nan        nan]\n",
      "  warnings.warn(\n"
     ]
    },
    {
     "name": "stdout",
     "output_type": "stream",
     "text": [
      "{'knn__n_neighbors': 4, 'knn__weights': 'uniform', 'vectorizer__max_df': 0.75, 'vectorizer__max_features': 100, 'vectorizer__min_df': 5}\n",
      "============================\n"
     ]
    },
    {
     "data": {
      "text/html": [
       "<div>\n",
       "<style scoped>\n",
       "    .dataframe tbody tr th:only-of-type {\n",
       "        vertical-align: middle;\n",
       "    }\n",
       "\n",
       "    .dataframe tbody tr th {\n",
       "        vertical-align: top;\n",
       "    }\n",
       "\n",
       "    .dataframe thead th {\n",
       "        text-align: right;\n",
       "    }\n",
       "</style>\n",
       "<table border=\"1\" class=\"dataframe\">\n",
       "  <thead>\n",
       "    <tr style=\"text-align: right;\">\n",
       "      <th></th>\n",
       "      <th>recent_100_tweets</th>\n",
       "    </tr>\n",
       "  </thead>\n",
       "  <tbody>\n",
       "    <tr>\n",
       "      <th>Without NLP</th>\n",
       "      <td>0.8400</td>\n",
       "    </tr>\n",
       "    <tr>\n",
       "      <th>Stopword Removal</th>\n",
       "      <td>0.8033</td>\n",
       "    </tr>\n",
       "    <tr>\n",
       "      <th>Lemmatization</th>\n",
       "      <td>0.8200</td>\n",
       "    </tr>\n",
       "  </tbody>\n",
       "</table>\n",
       "</div>"
      ],
      "text/plain": [
       "                  recent_100_tweets\n",
       "Without NLP                  0.8400\n",
       "Stopword Removal             0.8033\n",
       "Lemmatization                0.8200"
      ]
     },
     "execution_count": 88,
     "metadata": {},
     "output_type": "execute_result"
    }
   ],
   "source": [
    "# TF-IDF \n",
    "results = {}\n",
    "for textdata in tqdm(textdatas):\n",
    "    print(f'Best params for {textdata}:')\n",
    "    X = df[textdata]\n",
    "    results[textdata] = classification_knn(X, df['parliament_member'], 'TF-IDF').round(4)\n",
    "    print(\"============================\")\n",
    "    \n",
    "knn_tfidf = knn_tfidf.append(\n",
    "    pd.DataFrame.from_dict(results, orient='index', columns=['Lemmatization']).T)\n",
    "\n",
    "knn_tfidf"
   ]
  },
  {
   "cell_type": "code",
   "execution_count": 89,
   "id": "thorough-argument",
   "metadata": {
    "collapsed": true,
    "jupyter": {
     "outputs_hidden": true,
     "source_hidden": true
    }
   },
   "outputs": [
    {
     "data": {
      "application/vnd.jupyter.widget-view+json": {
       "model_id": "4c7042d5be6c45ae84365c734b6eca03",
       "version_major": 2,
       "version_minor": 0
      },
      "text/plain": [
       "  0%|          | 0/1 [00:00<?, ?it/s]"
      ]
     },
     "metadata": {},
     "output_type": "display_data"
    },
    {
     "name": "stdout",
     "output_type": "stream",
     "text": [
      "Best params for recent_100_tweets:\n"
     ]
    },
    {
     "name": "stderr",
     "output_type": "stream",
     "text": [
      "/Library/Frameworks/Python.framework/Versions/3.8/lib/python3.8/site-packages/sklearn/model_selection/_search.py:918: UserWarning: One or more of the test scores are non-finite: [0.58333333 0.58333333 0.59333333 ...        nan        nan        nan]\n",
      "  warnings.warn(\n"
     ]
    },
    {
     "name": "stdout",
     "output_type": "stream",
     "text": [
      "{'knn__n_neighbors': 4, 'knn__weights': 'distance', 'vectorizer__max_df': 0.25, 'vectorizer__max_features': 10, 'vectorizer__min_df': 25}\n",
      "============================\n"
     ]
    },
    {
     "data": {
      "text/html": [
       "<div>\n",
       "<style scoped>\n",
       "    .dataframe tbody tr th:only-of-type {\n",
       "        vertical-align: middle;\n",
       "    }\n",
       "\n",
       "    .dataframe tbody tr th {\n",
       "        vertical-align: top;\n",
       "    }\n",
       "\n",
       "    .dataframe thead th {\n",
       "        text-align: right;\n",
       "    }\n",
       "</style>\n",
       "<table border=\"1\" class=\"dataframe\">\n",
       "  <thead>\n",
       "    <tr style=\"text-align: right;\">\n",
       "      <th></th>\n",
       "      <th>recent_100_tweets</th>\n",
       "    </tr>\n",
       "  </thead>\n",
       "  <tbody>\n",
       "    <tr>\n",
       "      <th>Without NLP</th>\n",
       "      <td>0.7967</td>\n",
       "    </tr>\n",
       "    <tr>\n",
       "      <th>Stopword Removal</th>\n",
       "      <td>0.7400</td>\n",
       "    </tr>\n",
       "    <tr>\n",
       "      <th>Lemmatization</th>\n",
       "      <td>0.7400</td>\n",
       "    </tr>\n",
       "  </tbody>\n",
       "</table>\n",
       "</div>"
      ],
      "text/plain": [
       "                  recent_100_tweets\n",
       "Without NLP                  0.7967\n",
       "Stopword Removal             0.7400\n",
       "Lemmatization                0.7400"
      ]
     },
     "execution_count": 89,
     "metadata": {},
     "output_type": "execute_result"
    }
   ],
   "source": [
    "# BoW\n",
    "results = {}\n",
    "for textdata in tqdm(textdatas):\n",
    "    print(f'Best params for {textdata}:')\n",
    "    X = df[textdata]\n",
    "    results[textdata] = classification_knn(X, df['parliament_member'], 'BoW').round(4)\n",
    "    print(\"============================\")\n",
    "    \n",
    "knn_bow = knn_bow.append(\n",
    "    pd.DataFrame.from_dict(results, orient='index', columns=['Lemmatization']).T)\n",
    "knn_bow"
   ]
  },
  {
   "cell_type": "markdown",
   "id": "allied-twelve",
   "metadata": {
    "jupyter": {
     "source_hidden": true
    }
   },
   "source": [
    "### Short Word Removal"
   ]
  },
  {
   "cell_type": "code",
   "execution_count": 90,
   "id": "lightweight-foster",
   "metadata": {},
   "outputs": [],
   "source": [
    "df_2 = df.copy()"
   ]
  },
  {
   "cell_type": "code",
   "execution_count": 91,
   "id": "vital-aberdeen",
   "metadata": {},
   "outputs": [],
   "source": [
    "def remove_shortwords(row):\n",
    "    row = [str(token) for token in nlp_el(row)]\n",
    "    return [w for w in row if len(w) > 2]"
   ]
  },
  {
   "cell_type": "code",
   "execution_count": 92,
   "id": "increased-extreme",
   "metadata": {},
   "outputs": [],
   "source": [
    "df_2['recent_100_tweets'] = df_2['recent_100_tweets'].apply(lambda row: remove_shortwords(row))\n",
    "df_2['recent_100_tweets'] = df_2['recent_100_tweets'].apply(lambda row: ' '.join(row))"
   ]
  },
  {
   "cell_type": "markdown",
   "id": "optical-lambda",
   "metadata": {
    "jupyter": {
     "source_hidden": true
    }
   },
   "source": [
    "#### SVM"
   ]
  },
  {
   "cell_type": "code",
   "execution_count": 93,
   "id": "experimental-warehouse",
   "metadata": {
    "collapsed": true,
    "jupyter": {
     "outputs_hidden": true,
     "source_hidden": true
    }
   },
   "outputs": [
    {
     "data": {
      "application/vnd.jupyter.widget-view+json": {
       "model_id": "9ba19a154bb34aefb4d02dc3217fddba",
       "version_major": 2,
       "version_minor": 0
      },
      "text/plain": [
       "  0%|          | 0/1 [00:00<?, ?it/s]"
      ]
     },
     "metadata": {},
     "output_type": "display_data"
    },
    {
     "name": "stdout",
     "output_type": "stream",
     "text": [
      "Best params for recent_100_tweets:\n"
     ]
    },
    {
     "name": "stderr",
     "output_type": "stream",
     "text": [
      "/Library/Frameworks/Python.framework/Versions/3.8/lib/python3.8/site-packages/sklearn/model_selection/_search.py:918: UserWarning: One or more of the test scores are non-finite: [0.60333333 0.60333333 0.60666667 ...        nan        nan        nan]\n",
      "  warnings.warn(\n"
     ]
    },
    {
     "name": "stdout",
     "output_type": "stream",
     "text": [
      "{'svm__C': 1, 'svm__kernel': 'sigmoid', 'vectorizer__max_df': 0.25, 'vectorizer__max_features': 2000, 'vectorizer__min_df': 1}\n",
      "============================\n"
     ]
    },
    {
     "data": {
      "text/html": [
       "<div>\n",
       "<style scoped>\n",
       "    .dataframe tbody tr th:only-of-type {\n",
       "        vertical-align: middle;\n",
       "    }\n",
       "\n",
       "    .dataframe tbody tr th {\n",
       "        vertical-align: top;\n",
       "    }\n",
       "\n",
       "    .dataframe thead th {\n",
       "        text-align: right;\n",
       "    }\n",
       "</style>\n",
       "<table border=\"1\" class=\"dataframe\">\n",
       "  <thead>\n",
       "    <tr style=\"text-align: right;\">\n",
       "      <th></th>\n",
       "      <th>recent_100_tweets</th>\n",
       "    </tr>\n",
       "  </thead>\n",
       "  <tbody>\n",
       "    <tr>\n",
       "      <th>Without NLP</th>\n",
       "      <td>0.8600</td>\n",
       "    </tr>\n",
       "    <tr>\n",
       "      <th>Stopword Removal</th>\n",
       "      <td>0.8400</td>\n",
       "    </tr>\n",
       "    <tr>\n",
       "      <th>Lemmatization</th>\n",
       "      <td>0.8433</td>\n",
       "    </tr>\n",
       "    <tr>\n",
       "      <th>Short Word Removal</th>\n",
       "      <td>0.8333</td>\n",
       "    </tr>\n",
       "  </tbody>\n",
       "</table>\n",
       "</div>"
      ],
      "text/plain": [
       "                    recent_100_tweets\n",
       "Without NLP                    0.8600\n",
       "Stopword Removal               0.8400\n",
       "Lemmatization                  0.8433\n",
       "Short Word Removal             0.8333"
      ]
     },
     "execution_count": 93,
     "metadata": {},
     "output_type": "execute_result"
    }
   ],
   "source": [
    "# TF-IDF \n",
    "results = {}\n",
    "for textdata in tqdm(textdatas):\n",
    "    print(f'Best params for {textdata}:')\n",
    "    X = df_2[textdata]\n",
    "    results[textdata] = classification_svm(X, df_2['parliament_member'], 'TF-IDF').round(4)\n",
    "    print(\"============================\")\n",
    "    \n",
    "svm_tfidf = svm_tfidf.append(\n",
    "    pd.DataFrame.from_dict(results, orient='index', columns=['Short Word Removal']).T)\n",
    "\n",
    "svm_tfidf"
   ]
  },
  {
   "cell_type": "code",
   "execution_count": 94,
   "id": "capital-lemon",
   "metadata": {
    "collapsed": true,
    "jupyter": {
     "outputs_hidden": true,
     "source_hidden": true
    }
   },
   "outputs": [
    {
     "data": {
      "application/vnd.jupyter.widget-view+json": {
       "model_id": "7365bde290a344b883694a64920d34e3",
       "version_major": 2,
       "version_minor": 0
      },
      "text/plain": [
       "  0%|          | 0/1 [00:00<?, ?it/s]"
      ]
     },
     "metadata": {},
     "output_type": "display_data"
    },
    {
     "name": "stdout",
     "output_type": "stream",
     "text": [
      "Best params for recent_100_tweets:\n"
     ]
    },
    {
     "name": "stderr",
     "output_type": "stream",
     "text": [
      "/Library/Frameworks/Python.framework/Versions/3.8/lib/python3.8/site-packages/sklearn/model_selection/_search.py:918: UserWarning: One or more of the test scores are non-finite: [0.55       0.55       0.54666667 ...        nan        nan        nan]\n",
      "  warnings.warn(\n"
     ]
    },
    {
     "name": "stdout",
     "output_type": "stream",
     "text": [
      "{'svm__C': 0.1, 'svm__kernel': 'sigmoid', 'vectorizer__max_df': 1, 'vectorizer__max_features': None, 'vectorizer__min_df': 1}\n",
      "============================\n"
     ]
    },
    {
     "data": {
      "text/html": [
       "<div>\n",
       "<style scoped>\n",
       "    .dataframe tbody tr th:only-of-type {\n",
       "        vertical-align: middle;\n",
       "    }\n",
       "\n",
       "    .dataframe tbody tr th {\n",
       "        vertical-align: top;\n",
       "    }\n",
       "\n",
       "    .dataframe thead th {\n",
       "        text-align: right;\n",
       "    }\n",
       "</style>\n",
       "<table border=\"1\" class=\"dataframe\">\n",
       "  <thead>\n",
       "    <tr style=\"text-align: right;\">\n",
       "      <th></th>\n",
       "      <th>recent_100_tweets</th>\n",
       "    </tr>\n",
       "  </thead>\n",
       "  <tbody>\n",
       "    <tr>\n",
       "      <th>Without NLP</th>\n",
       "      <td>0.7833</td>\n",
       "    </tr>\n",
       "    <tr>\n",
       "      <th>Stopword Removal</th>\n",
       "      <td>0.7833</td>\n",
       "    </tr>\n",
       "    <tr>\n",
       "      <th>Lemmatization</th>\n",
       "      <td>0.7767</td>\n",
       "    </tr>\n",
       "    <tr>\n",
       "      <th>Short Word Removal</th>\n",
       "      <td>0.7733</td>\n",
       "    </tr>\n",
       "  </tbody>\n",
       "</table>\n",
       "</div>"
      ],
      "text/plain": [
       "                    recent_100_tweets\n",
       "Without NLP                    0.7833\n",
       "Stopword Removal               0.7833\n",
       "Lemmatization                  0.7767\n",
       "Short Word Removal             0.7733"
      ]
     },
     "execution_count": 94,
     "metadata": {},
     "output_type": "execute_result"
    }
   ],
   "source": [
    "# BoW\n",
    "results = {}\n",
    "for textdata in tqdm(textdatas):\n",
    "    print(f'Best params for {textdata}:')\n",
    "    X = df_2[textdata]\n",
    "    results[textdata] = classification_svm(X, df_2['parliament_member'], 'BoW').round(4)\n",
    "    print(\"============================\")\n",
    "    \n",
    "svm_bow = svm_bow.append(\n",
    "    pd.DataFrame.from_dict(results, orient='index', columns=['Short Word Removal']).T)\n",
    "\n",
    "svm_bow"
   ]
  },
  {
   "cell_type": "markdown",
   "id": "completed-belfast",
   "metadata": {
    "jupyter": {
     "source_hidden": true
    }
   },
   "source": [
    "#### Logistic Regression"
   ]
  },
  {
   "cell_type": "code",
   "execution_count": 95,
   "id": "overall-senegal",
   "metadata": {
    "collapsed": true,
    "jupyter": {
     "outputs_hidden": true,
     "source_hidden": true
    }
   },
   "outputs": [
    {
     "data": {
      "application/vnd.jupyter.widget-view+json": {
       "model_id": "a256ed717c9542aa8e86fc190a2a4335",
       "version_major": 2,
       "version_minor": 0
      },
      "text/plain": [
       "  0%|          | 0/1 [00:00<?, ?it/s]"
      ]
     },
     "metadata": {},
     "output_type": "display_data"
    },
    {
     "name": "stdout",
     "output_type": "stream",
     "text": [
      "Best params for recent_100_tweets:\n"
     ]
    },
    {
     "name": "stderr",
     "output_type": "stream",
     "text": [
      "/Library/Frameworks/Python.framework/Versions/3.8/lib/python3.8/site-packages/sklearn/model_selection/_search.py:918: UserWarning: One or more of the test scores are non-finite: [nan nan nan ... nan nan nan]\n",
      "  warnings.warn(\n"
     ]
    },
    {
     "name": "stdout",
     "output_type": "stream",
     "text": [
      "{'lr__C': 0.1, 'lr__penalty': 'none', 'vectorizer__max_df': 0.25, 'vectorizer__max_features': 2000, 'vectorizer__min_df': 5}\n",
      "============================\n"
     ]
    },
    {
     "name": "stderr",
     "output_type": "stream",
     "text": [
      "/Library/Frameworks/Python.framework/Versions/3.8/lib/python3.8/site-packages/sklearn/linear_model/_logistic.py:1322: UserWarning: Setting penalty='none' will ignore the C and l1_ratio parameters\n",
      "  warnings.warn(\n"
     ]
    },
    {
     "data": {
      "text/html": [
       "<div>\n",
       "<style scoped>\n",
       "    .dataframe tbody tr th:only-of-type {\n",
       "        vertical-align: middle;\n",
       "    }\n",
       "\n",
       "    .dataframe tbody tr th {\n",
       "        vertical-align: top;\n",
       "    }\n",
       "\n",
       "    .dataframe thead th {\n",
       "        text-align: right;\n",
       "    }\n",
       "</style>\n",
       "<table border=\"1\" class=\"dataframe\">\n",
       "  <thead>\n",
       "    <tr style=\"text-align: right;\">\n",
       "      <th></th>\n",
       "      <th>recent_100_tweets</th>\n",
       "    </tr>\n",
       "  </thead>\n",
       "  <tbody>\n",
       "    <tr>\n",
       "      <th>Without NLP</th>\n",
       "      <td>0.8633</td>\n",
       "    </tr>\n",
       "    <tr>\n",
       "      <th>Stopword Removal</th>\n",
       "      <td>0.8833</td>\n",
       "    </tr>\n",
       "    <tr>\n",
       "      <th>Lemmatization</th>\n",
       "      <td>0.8767</td>\n",
       "    </tr>\n",
       "    <tr>\n",
       "      <th>Short Word Removal</th>\n",
       "      <td>0.8667</td>\n",
       "    </tr>\n",
       "  </tbody>\n",
       "</table>\n",
       "</div>"
      ],
      "text/plain": [
       "                    recent_100_tweets\n",
       "Without NLP                    0.8633\n",
       "Stopword Removal               0.8833\n",
       "Lemmatization                  0.8767\n",
       "Short Word Removal             0.8667"
      ]
     },
     "execution_count": 95,
     "metadata": {},
     "output_type": "execute_result"
    }
   ],
   "source": [
    "# TF-IDF \n",
    "results = {}\n",
    "for textdata in tqdm(textdatas):\n",
    "    print(f'Best params for {textdata}:')\n",
    "    X = df_2[textdata]\n",
    "    results[textdata] = classification_lr(X, df_2['parliament_member'], 'TF-IDF').round(4)\n",
    "    print(\"============================\")\n",
    "    \n",
    "lr_tfidf = lr_tfidf.append(\n",
    "    pd.DataFrame.from_dict(results, orient='index', columns=['Short Word Removal']).T)\n",
    "\n",
    "lr_tfidf"
   ]
  },
  {
   "cell_type": "code",
   "execution_count": 96,
   "id": "final-discount",
   "metadata": {
    "collapsed": true,
    "jupyter": {
     "outputs_hidden": true,
     "source_hidden": true
    }
   },
   "outputs": [
    {
     "data": {
      "application/vnd.jupyter.widget-view+json": {
       "model_id": "bed40e0454b24914be0fe0d1c8ce0c46",
       "version_major": 2,
       "version_minor": 0
      },
      "text/plain": [
       "  0%|          | 0/1 [00:00<?, ?it/s]"
      ]
     },
     "metadata": {},
     "output_type": "display_data"
    },
    {
     "name": "stdout",
     "output_type": "stream",
     "text": [
      "Best params for recent_100_tweets:\n"
     ]
    },
    {
     "name": "stderr",
     "output_type": "stream",
     "text": [
      "/Library/Frameworks/Python.framework/Versions/3.8/lib/python3.8/site-packages/sklearn/model_selection/_search.py:918: UserWarning: One or more of the test scores are non-finite: [nan nan nan ... nan nan nan]\n",
      "  warnings.warn(\n",
      "/Library/Frameworks/Python.framework/Versions/3.8/lib/python3.8/site-packages/sklearn/linear_model/_logistic.py:1322: UserWarning: Setting penalty='none' will ignore the C and l1_ratio parameters\n",
      "  warnings.warn(\n"
     ]
    },
    {
     "name": "stdout",
     "output_type": "stream",
     "text": [
      "{'lr__C': 0.1, 'lr__penalty': 'none', 'vectorizer__max_df': 0.5, 'vectorizer__max_features': None, 'vectorizer__min_df': 5}\n",
      "============================\n"
     ]
    },
    {
     "data": {
      "text/html": [
       "<div>\n",
       "<style scoped>\n",
       "    .dataframe tbody tr th:only-of-type {\n",
       "        vertical-align: middle;\n",
       "    }\n",
       "\n",
       "    .dataframe tbody tr th {\n",
       "        vertical-align: top;\n",
       "    }\n",
       "\n",
       "    .dataframe thead th {\n",
       "        text-align: right;\n",
       "    }\n",
       "</style>\n",
       "<table border=\"1\" class=\"dataframe\">\n",
       "  <thead>\n",
       "    <tr style=\"text-align: right;\">\n",
       "      <th></th>\n",
       "      <th>recent_100_tweets</th>\n",
       "    </tr>\n",
       "  </thead>\n",
       "  <tbody>\n",
       "    <tr>\n",
       "      <th>Without NLP</th>\n",
       "      <td>0.8467</td>\n",
       "    </tr>\n",
       "    <tr>\n",
       "      <th>Stopword Removal</th>\n",
       "      <td>0.8833</td>\n",
       "    </tr>\n",
       "    <tr>\n",
       "      <th>Lemmatization</th>\n",
       "      <td>0.8633</td>\n",
       "    </tr>\n",
       "    <tr>\n",
       "      <th>Short Word Removal</th>\n",
       "      <td>0.8567</td>\n",
       "    </tr>\n",
       "  </tbody>\n",
       "</table>\n",
       "</div>"
      ],
      "text/plain": [
       "                    recent_100_tweets\n",
       "Without NLP                    0.8467\n",
       "Stopword Removal               0.8833\n",
       "Lemmatization                  0.8633\n",
       "Short Word Removal             0.8567"
      ]
     },
     "execution_count": 96,
     "metadata": {},
     "output_type": "execute_result"
    }
   ],
   "source": [
    "# BoW\n",
    "results = {}\n",
    "for textdata in tqdm(textdatas):\n",
    "    print(f'Best params for {textdata}:')\n",
    "    X = df_2[textdata]\n",
    "    results[textdata] = classification_lr(X, df_2['parliament_member'], 'BoW').round(4)\n",
    "    print(\"============================\")\n",
    "    \n",
    "lr_bow = lr_bow.append(\n",
    "    pd.DataFrame.from_dict(results, orient='index', columns=['Short Word Removal']).T)\n",
    "\n",
    "lr_bow"
   ]
  },
  {
   "cell_type": "markdown",
   "id": "advised-cinema",
   "metadata": {
    "jupyter": {
     "source_hidden": true
    }
   },
   "source": [
    "#### kNN"
   ]
  },
  {
   "cell_type": "code",
   "execution_count": 97,
   "id": "focal-snake",
   "metadata": {
    "collapsed": true,
    "jupyter": {
     "outputs_hidden": true,
     "source_hidden": true
    }
   },
   "outputs": [
    {
     "data": {
      "application/vnd.jupyter.widget-view+json": {
       "model_id": "62c34e3f46914126bdb0386179f8eb3e",
       "version_major": 2,
       "version_minor": 0
      },
      "text/plain": [
       "  0%|          | 0/1 [00:00<?, ?it/s]"
      ]
     },
     "metadata": {},
     "output_type": "display_data"
    },
    {
     "name": "stdout",
     "output_type": "stream",
     "text": [
      "Best params for recent_100_tweets:\n"
     ]
    },
    {
     "name": "stderr",
     "output_type": "stream",
     "text": [
      "/Library/Frameworks/Python.framework/Versions/3.8/lib/python3.8/site-packages/sklearn/model_selection/_search.py:918: UserWarning: One or more of the test scores are non-finite: [0.61333333 0.61333333 0.61       ...        nan        nan        nan]\n",
      "  warnings.warn(\n"
     ]
    },
    {
     "name": "stdout",
     "output_type": "stream",
     "text": [
      "{'knn__n_neighbors': 5, 'knn__weights': 'distance', 'vectorizer__max_df': 0.25, 'vectorizer__max_features': 100, 'vectorizer__min_df': 1}\n",
      "============================\n"
     ]
    },
    {
     "data": {
      "text/html": [
       "<div>\n",
       "<style scoped>\n",
       "    .dataframe tbody tr th:only-of-type {\n",
       "        vertical-align: middle;\n",
       "    }\n",
       "\n",
       "    .dataframe tbody tr th {\n",
       "        vertical-align: top;\n",
       "    }\n",
       "\n",
       "    .dataframe thead th {\n",
       "        text-align: right;\n",
       "    }\n",
       "</style>\n",
       "<table border=\"1\" class=\"dataframe\">\n",
       "  <thead>\n",
       "    <tr style=\"text-align: right;\">\n",
       "      <th></th>\n",
       "      <th>recent_100_tweets</th>\n",
       "    </tr>\n",
       "  </thead>\n",
       "  <tbody>\n",
       "    <tr>\n",
       "      <th>Without NLP</th>\n",
       "      <td>0.8400</td>\n",
       "    </tr>\n",
       "    <tr>\n",
       "      <th>Stopword Removal</th>\n",
       "      <td>0.8033</td>\n",
       "    </tr>\n",
       "    <tr>\n",
       "      <th>Lemmatization</th>\n",
       "      <td>0.8200</td>\n",
       "    </tr>\n",
       "    <tr>\n",
       "      <th>Short Word Removal</th>\n",
       "      <td>0.7767</td>\n",
       "    </tr>\n",
       "  </tbody>\n",
       "</table>\n",
       "</div>"
      ],
      "text/plain": [
       "                    recent_100_tweets\n",
       "Without NLP                    0.8400\n",
       "Stopword Removal               0.8033\n",
       "Lemmatization                  0.8200\n",
       "Short Word Removal             0.7767"
      ]
     },
     "execution_count": 97,
     "metadata": {},
     "output_type": "execute_result"
    }
   ],
   "source": [
    "# TF-IDF \n",
    "results = {}\n",
    "for textdata in tqdm(textdatas):\n",
    "    print(f'Best params for {textdata}:')\n",
    "    X = df_2[textdata]\n",
    "    results[textdata] = classification_knn(X, df_2['parliament_member'], 'TF-IDF').round(4)\n",
    "    print(\"============================\")\n",
    "    \n",
    "knn_tfidf = knn_tfidf.append(\n",
    "    pd.DataFrame.from_dict(results, orient='index', columns=['Short Word Removal']).T)\n",
    "\n",
    "knn_tfidf"
   ]
  },
  {
   "cell_type": "code",
   "execution_count": 98,
   "id": "prospective-orleans",
   "metadata": {
    "collapsed": true,
    "jupyter": {
     "outputs_hidden": true,
     "source_hidden": true
    }
   },
   "outputs": [
    {
     "data": {
      "application/vnd.jupyter.widget-view+json": {
       "model_id": "27457b01076840cc98c6451f4e282c20",
       "version_major": 2,
       "version_minor": 0
      },
      "text/plain": [
       "  0%|          | 0/1 [00:00<?, ?it/s]"
      ]
     },
     "metadata": {},
     "output_type": "display_data"
    },
    {
     "name": "stdout",
     "output_type": "stream",
     "text": [
      "Best params for recent_100_tweets:\n"
     ]
    },
    {
     "name": "stderr",
     "output_type": "stream",
     "text": [
      "/Library/Frameworks/Python.framework/Versions/3.8/lib/python3.8/site-packages/sklearn/model_selection/_search.py:918: UserWarning: One or more of the test scores are non-finite: [0.58666667 0.58666667 0.60333333 ...        nan        nan        nan]\n",
      "  warnings.warn(\n"
     ]
    },
    {
     "name": "stdout",
     "output_type": "stream",
     "text": [
      "{'knn__n_neighbors': 9, 'knn__weights': 'distance', 'vectorizer__max_df': 0.5, 'vectorizer__max_features': 10, 'vectorizer__min_df': 10}\n",
      "============================\n"
     ]
    },
    {
     "data": {
      "text/html": [
       "<div>\n",
       "<style scoped>\n",
       "    .dataframe tbody tr th:only-of-type {\n",
       "        vertical-align: middle;\n",
       "    }\n",
       "\n",
       "    .dataframe tbody tr th {\n",
       "        vertical-align: top;\n",
       "    }\n",
       "\n",
       "    .dataframe thead th {\n",
       "        text-align: right;\n",
       "    }\n",
       "</style>\n",
       "<table border=\"1\" class=\"dataframe\">\n",
       "  <thead>\n",
       "    <tr style=\"text-align: right;\">\n",
       "      <th></th>\n",
       "      <th>recent_100_tweets</th>\n",
       "    </tr>\n",
       "  </thead>\n",
       "  <tbody>\n",
       "    <tr>\n",
       "      <th>Without NLP</th>\n",
       "      <td>0.7967</td>\n",
       "    </tr>\n",
       "    <tr>\n",
       "      <th>Stopword Removal</th>\n",
       "      <td>0.7400</td>\n",
       "    </tr>\n",
       "    <tr>\n",
       "      <th>Lemmatization</th>\n",
       "      <td>0.7400</td>\n",
       "    </tr>\n",
       "    <tr>\n",
       "      <th>Short Word Removal</th>\n",
       "      <td>0.7567</td>\n",
       "    </tr>\n",
       "  </tbody>\n",
       "</table>\n",
       "</div>"
      ],
      "text/plain": [
       "                    recent_100_tweets\n",
       "Without NLP                    0.7967\n",
       "Stopword Removal               0.7400\n",
       "Lemmatization                  0.7400\n",
       "Short Word Removal             0.7567"
      ]
     },
     "execution_count": 98,
     "metadata": {},
     "output_type": "execute_result"
    }
   ],
   "source": [
    "# BoW\n",
    "results = {}\n",
    "for textdata in tqdm(textdatas):\n",
    "    print(f'Best params for {textdata}:')\n",
    "    X = df_2[textdata]\n",
    "    results[textdata] = classification_knn(X, df_2['parliament_member'], 'BoW').round(4)\n",
    "    print(\"============================\")\n",
    "    \n",
    "knn_bow = knn_bow.append(\n",
    "    pd.DataFrame.from_dict(results, orient='index', columns=['Short Word Removal']).T)\n",
    "\n",
    "knn_bow"
   ]
  },
  {
   "cell_type": "markdown",
   "id": "designed-faculty",
   "metadata": {
    "jupyter": {
     "source_hidden": true
    }
   },
   "source": [
    "### Irrelevant Word Removal"
   ]
  },
  {
   "cell_type": "code",
   "execution_count": 100,
   "id": "august-staff",
   "metadata": {
    "collapsed": true,
    "jupyter": {
     "outputs_hidden": true,
     "source_hidden": true
    }
   },
   "outputs": [
    {
     "data": {
      "text/plain": [
       "Text(0.5, 1.0, 'Not-Pol')"
      ]
     },
     "execution_count": 100,
     "metadata": {},
     "output_type": "execute_result"
    },
    {
     "data": {
      "image/png": "[encoded data removed]",
      "text/plain": [
       "<Figure size 1080x540 with 2 Axes>"
      ]
     },
     "metadata": {
      "needs_background": "light"
     },
     "output_type": "display_data"
    }
   ],
   "source": [
    "pol_words = pd.Series(' '.join(df_2[df_2.parliament_member == 1].recent_100_tweets).split()).value_counts()\n",
    "nonpol_words = pd.Series(' '.join(df_2[df_2.parliament_member == 0].recent_100_tweets).split()).value_counts()\n",
    "\n",
    "fig, axs = plt.subplots(1,2,figsize =(15,7.5))\n",
    "\n",
    "plt.subplots_adjust(left=None, bottom=None, right=None, top=None, wspace=0.5)\n",
    "\n",
    "axs[0].barh(pol_words[:40].index, pol_words[:40])\n",
    "axs[0].set_title('Pol')\n",
    "axs[1].barh(nonpol_words[:40].index, nonpol_words[:40])\n",
    "axs[1].set_title('Not-Pol')"
   ]
  },
  {
   "cell_type": "code",
   "execution_count": 101,
   "id": "linear-testament",
   "metadata": {
    "jupyter": {
     "source_hidden": true
    }
   },
   "outputs": [],
   "source": [
    "irr_words = set(['κάνω', 'σήμερα', 'νέος', 'καλός', 'μπορώ', 'amp', 'λέω', 'μέρα', 'ημέρα', 'ελλάδα', 'ελληνικός', 'greece'])\n",
    "\n",
    "def remove_irrwords(row):\n",
    "    row = [str(token) for token in nlp_el(row)]\n",
    "    return [w for w in row if w not in irr_words]"
   ]
  },
  {
   "cell_type": "code",
   "execution_count": 105,
   "id": "postal-ethics",
   "metadata": {
    "jupyter": {
     "source_hidden": true
    }
   },
   "outputs": [],
   "source": [
    "df_2['recent_100_tweets'] = df_2['recent_100_tweets'].apply(lambda row: remove_irrwords(row))\n",
    "df_2['recent_100_tweets'] = df_2['recent_100_tweets'].apply(lambda row: ' '.join(row))\n"
   ]
  },
  {
   "cell_type": "code",
   "execution_count": 106,
   "id": "continuing-newcastle",
   "metadata": {
    "collapsed": true,
    "jupyter": {
     "outputs_hidden": true,
     "source_hidden": true
    }
   },
   "outputs": [
    {
     "data": {
      "text/plain": [
       "Text(0.5, 1.0, 'Not-Pol')"
      ]
     },
     "execution_count": 106,
     "metadata": {},
     "output_type": "execute_result"
    },
    {
     "data": {
      "image/png": "[encoded data removed]",
      "text/plain": [
       "<Figure size 1080x540 with 2 Axes>"
      ]
     },
     "metadata": {
      "needs_background": "light"
     },
     "output_type": "display_data"
    }
   ],
   "source": [
    "pol_words = pd.Series(' '.join(df_2[df_2.parliament_member == 1].recent_100_tweets).split()).value_counts()\n",
    "nonpol_words = pd.Series(' '.join(df_2[df_2.parliament_member == 0].recent_100_tweets).split()).value_counts()\n",
    "\n",
    "fig, axs = plt.subplots(1,2,figsize =(15,7.5))\n",
    "\n",
    "plt.subplots_adjust(left=None, bottom=None, right=None, top=None, wspace=0.5)\n",
    "\n",
    "axs[0].barh(pol_words[:40].index, pol_words[:40])\n",
    "axs[0].set_title('Pol')\n",
    "axs[1].barh(nonpol_words[:40].index, nonpol_words[:40])\n",
    "axs[1].set_title('Not-Pol')"
   ]
  },
  {
   "cell_type": "markdown",
   "id": "experienced-amendment",
   "metadata": {},
   "source": [
    "#### SVM"
   ]
  },
  {
   "cell_type": "code",
   "execution_count": 107,
   "id": "concrete-gardening",
   "metadata": {
    "jupyter": {
     "source_hidden": true
    }
   },
   "outputs": [
    {
     "data": {
      "application/vnd.jupyter.widget-view+json": {
       "model_id": "cb20a36bd0aa4b8cb78a2a6a2bc06d2b",
       "version_major": 2,
       "version_minor": 0
      },
      "text/plain": [
       "  0%|          | 0/1 [00:00<?, ?it/s]"
      ]
     },
     "metadata": {},
     "output_type": "display_data"
    },
    {
     "name": "stdout",
     "output_type": "stream",
     "text": [
      "Best params for recent_100_tweets:\n"
     ]
    },
    {
     "name": "stderr",
     "output_type": "stream",
     "text": [
      "/Library/Frameworks/Python.framework/Versions/3.8/lib/python3.8/site-packages/sklearn/model_selection/_search.py:918: UserWarning: One or more of the test scores are non-finite: [0.67 0.67 0.66 ...  nan  nan  nan]\n",
      "  warnings.warn(\n"
     ]
    },
    {
     "name": "stdout",
     "output_type": "stream",
     "text": [
      "{'svm__C': 1, 'svm__kernel': 'sigmoid', 'vectorizer__max_df': 0.5, 'vectorizer__max_features': 2000, 'vectorizer__min_df': 1}\n",
      "============================\n"
     ]
    },
    {
     "data": {
      "text/html": [
       "<div>\n",
       "<style scoped>\n",
       "    .dataframe tbody tr th:only-of-type {\n",
       "        vertical-align: middle;\n",
       "    }\n",
       "\n",
       "    .dataframe tbody tr th {\n",
       "        vertical-align: top;\n",
       "    }\n",
       "\n",
       "    .dataframe thead th {\n",
       "        text-align: right;\n",
       "    }\n",
       "</style>\n",
       "<table border=\"1\" class=\"dataframe\">\n",
       "  <thead>\n",
       "    <tr style=\"text-align: right;\">\n",
       "      <th></th>\n",
       "      <th>recent_100_tweets</th>\n",
       "    </tr>\n",
       "  </thead>\n",
       "  <tbody>\n",
       "    <tr>\n",
       "      <th>Without NLP</th>\n",
       "      <td>0.8600</td>\n",
       "    </tr>\n",
       "    <tr>\n",
       "      <th>Stopword Removal</th>\n",
       "      <td>0.8400</td>\n",
       "    </tr>\n",
       "    <tr>\n",
       "      <th>Lemmatization</th>\n",
       "      <td>0.8433</td>\n",
       "    </tr>\n",
       "    <tr>\n",
       "      <th>Short Word Removal</th>\n",
       "      <td>0.8333</td>\n",
       "    </tr>\n",
       "    <tr>\n",
       "      <th>Irrelevant Word Removal</th>\n",
       "      <td>0.8367</td>\n",
       "    </tr>\n",
       "  </tbody>\n",
       "</table>\n",
       "</div>"
      ],
      "text/plain": [
       "                         recent_100_tweets\n",
       "Without NLP                         0.8600\n",
       "Stopword Removal                    0.8400\n",
       "Lemmatization                       0.8433\n",
       "Short Word Removal                  0.8333\n",
       "Irrelevant Word Removal             0.8367"
      ]
     },
     "execution_count": 107,
     "metadata": {},
     "output_type": "execute_result"
    }
   ],
   "source": [
    "# TF-IDF \n",
    "results = {}\n",
    "for textdata in tqdm(textdatas):\n",
    "    print(f'Best params for {textdata}:')\n",
    "    X = df_2[textdata]\n",
    "    results[textdata] = classification_svm(X, df_2['parliament_member'], 'TF-IDF').round(4)\n",
    "    print(\"============================\")\n",
    "    \n",
    "svm_tfidf = svm_tfidf.append(\n",
    "    pd.DataFrame.from_dict(results, orient='index', columns=['Irrelevant Word Removal']).T)\n",
    "\n",
    "svm_tfidf"
   ]
  },
  {
   "cell_type": "code",
   "execution_count": 108,
   "id": "operational-baghdad",
   "metadata": {
    "jupyter": {
     "source_hidden": true
    }
   },
   "outputs": [
    {
     "data": {
      "application/vnd.jupyter.widget-view+json": {
       "model_id": "9907231a58284012b8ae53b39a1f0a9c",
       "version_major": 2,
       "version_minor": 0
      },
      "text/plain": [
       "  0%|          | 0/1 [00:00<?, ?it/s]"
      ]
     },
     "metadata": {},
     "output_type": "display_data"
    },
    {
     "name": "stdout",
     "output_type": "stream",
     "text": [
      "Best params for recent_100_tweets:\n"
     ]
    },
    {
     "name": "stderr",
     "output_type": "stream",
     "text": [
      "/Library/Frameworks/Python.framework/Versions/3.8/lib/python3.8/site-packages/sklearn/model_selection/_search.py:918: UserWarning: One or more of the test scores are non-finite: [0.53666667 0.53666667 0.52666667 ...        nan        nan        nan]\n",
      "  warnings.warn(\n"
     ]
    },
    {
     "name": "stdout",
     "output_type": "stream",
     "text": [
      "{'svm__C': 0.1, 'svm__kernel': 'sigmoid', 'vectorizer__max_df': 1, 'vectorizer__max_features': None, 'vectorizer__min_df': 1}\n",
      "============================\n"
     ]
    },
    {
     "data": {
      "text/html": [
       "<div>\n",
       "<style scoped>\n",
       "    .dataframe tbody tr th:only-of-type {\n",
       "        vertical-align: middle;\n",
       "    }\n",
       "\n",
       "    .dataframe tbody tr th {\n",
       "        vertical-align: top;\n",
       "    }\n",
       "\n",
       "    .dataframe thead th {\n",
       "        text-align: right;\n",
       "    }\n",
       "</style>\n",
       "<table border=\"1\" class=\"dataframe\">\n",
       "  <thead>\n",
       "    <tr style=\"text-align: right;\">\n",
       "      <th></th>\n",
       "      <th>recent_100_tweets</th>\n",
       "    </tr>\n",
       "  </thead>\n",
       "  <tbody>\n",
       "    <tr>\n",
       "      <th>Without NLP</th>\n",
       "      <td>0.7833</td>\n",
       "    </tr>\n",
       "    <tr>\n",
       "      <th>Stopword Removal</th>\n",
       "      <td>0.7833</td>\n",
       "    </tr>\n",
       "    <tr>\n",
       "      <th>Lemmatization</th>\n",
       "      <td>0.7767</td>\n",
       "    </tr>\n",
       "    <tr>\n",
       "      <th>Short Word Removal</th>\n",
       "      <td>0.7733</td>\n",
       "    </tr>\n",
       "    <tr>\n",
       "      <th>Irrelevant Word Removal</th>\n",
       "      <td>0.7733</td>\n",
       "    </tr>\n",
       "  </tbody>\n",
       "</table>\n",
       "</div>"
      ],
      "text/plain": [
       "                         recent_100_tweets\n",
       "Without NLP                         0.7833\n",
       "Stopword Removal                    0.7833\n",
       "Lemmatization                       0.7767\n",
       "Short Word Removal                  0.7733\n",
       "Irrelevant Word Removal             0.7733"
      ]
     },
     "execution_count": 108,
     "metadata": {},
     "output_type": "execute_result"
    }
   ],
   "source": [
    "# BoW\n",
    "results = {}\n",
    "for textdata in tqdm(textdatas):\n",
    "    print(f'Best params for {textdata}:')\n",
    "    X = df_2[textdata]\n",
    "    results[textdata] = classification_svm(X, df_2['parliament_member'], 'BoW').round(4)\n",
    "    print(\"============================\")\n",
    "    \n",
    "svm_bow = svm_bow.append(\n",
    "    pd.DataFrame.from_dict(results, orient='index', columns=['Irrelevant Word Removal']).T)\n",
    "\n",
    "svm_bow"
   ]
  },
  {
   "cell_type": "markdown",
   "id": "failing-welcome",
   "metadata": {},
   "source": [
    "#### Logistic Regression"
   ]
  },
  {
   "cell_type": "code",
   "execution_count": 109,
   "id": "southeast-korea",
   "metadata": {
    "jupyter": {
     "source_hidden": true
    }
   },
   "outputs": [
    {
     "data": {
      "application/vnd.jupyter.widget-view+json": {
       "model_id": "39add894b5654f599cef8e4b3f86c040",
       "version_major": 2,
       "version_minor": 0
      },
      "text/plain": [
       "  0%|          | 0/1 [00:00<?, ?it/s]"
      ]
     },
     "metadata": {},
     "output_type": "display_data"
    },
    {
     "name": "stdout",
     "output_type": "stream",
     "text": [
      "Best params for recent_100_tweets:\n"
     ]
    },
    {
     "name": "stderr",
     "output_type": "stream",
     "text": [
      "/Library/Frameworks/Python.framework/Versions/3.8/lib/python3.8/site-packages/sklearn/model_selection/_search.py:918: UserWarning: One or more of the test scores are non-finite: [nan nan nan ... nan nan nan]\n",
      "  warnings.warn(\n"
     ]
    },
    {
     "name": "stdout",
     "output_type": "stream",
     "text": [
      "{'lr__C': 0.1, 'lr__penalty': 'none', 'vectorizer__max_df': 0.25, 'vectorizer__max_features': 2000, 'vectorizer__min_df': 5}\n",
      "============================\n"
     ]
    },
    {
     "name": "stderr",
     "output_type": "stream",
     "text": [
      "/Library/Frameworks/Python.framework/Versions/3.8/lib/python3.8/site-packages/sklearn/linear_model/_logistic.py:1322: UserWarning: Setting penalty='none' will ignore the C and l1_ratio parameters\n",
      "  warnings.warn(\n"
     ]
    },
    {
     "data": {
      "text/html": [
       "<div>\n",
       "<style scoped>\n",
       "    .dataframe tbody tr th:only-of-type {\n",
       "        vertical-align: middle;\n",
       "    }\n",
       "\n",
       "    .dataframe tbody tr th {\n",
       "        vertical-align: top;\n",
       "    }\n",
       "\n",
       "    .dataframe thead th {\n",
       "        text-align: right;\n",
       "    }\n",
       "</style>\n",
       "<table border=\"1\" class=\"dataframe\">\n",
       "  <thead>\n",
       "    <tr style=\"text-align: right;\">\n",
       "      <th></th>\n",
       "      <th>recent_100_tweets</th>\n",
       "    </tr>\n",
       "  </thead>\n",
       "  <tbody>\n",
       "    <tr>\n",
       "      <th>Without NLP</th>\n",
       "      <td>0.8633</td>\n",
       "    </tr>\n",
       "    <tr>\n",
       "      <th>Stopword Removal</th>\n",
       "      <td>0.8833</td>\n",
       "    </tr>\n",
       "    <tr>\n",
       "      <th>Lemmatization</th>\n",
       "      <td>0.8767</td>\n",
       "    </tr>\n",
       "    <tr>\n",
       "      <th>Short Word Removal</th>\n",
       "      <td>0.8667</td>\n",
       "    </tr>\n",
       "    <tr>\n",
       "      <th>Irrelevant Word Removal</th>\n",
       "      <td>0.8600</td>\n",
       "    </tr>\n",
       "  </tbody>\n",
       "</table>\n",
       "</div>"
      ],
      "text/plain": [
       "                         recent_100_tweets\n",
       "Without NLP                         0.8633\n",
       "Stopword Removal                    0.8833\n",
       "Lemmatization                       0.8767\n",
       "Short Word Removal                  0.8667\n",
       "Irrelevant Word Removal             0.8600"
      ]
     },
     "execution_count": 109,
     "metadata": {},
     "output_type": "execute_result"
    }
   ],
   "source": [
    "# TF-IDF \n",
    "results = {}\n",
    "for textdata in tqdm(textdatas):\n",
    "    print(f'Best params for {textdata}:')\n",
    "    X = df_2[textdata]\n",
    "    results[textdata] = classification_lr(X, df_2['parliament_member'], 'TF-IDF').round(4)\n",
    "    print(\"============================\")\n",
    "    \n",
    "lr_tfidf = lr_tfidf.append(\n",
    "    pd.DataFrame.from_dict(results, orient='index', columns=['Irrelevant Word Removal']).T)\n",
    "\n",
    "lr_tfidf"
   ]
  },
  {
   "cell_type": "code",
   "execution_count": 110,
   "id": "systematic-character",
   "metadata": {
    "jupyter": {
     "source_hidden": true
    }
   },
   "outputs": [
    {
     "data": {
      "application/vnd.jupyter.widget-view+json": {
       "model_id": "e1d48b6f44a749d58dbba4c981284015",
       "version_major": 2,
       "version_minor": 0
      },
      "text/plain": [
       "  0%|          | 0/1 [00:00<?, ?it/s]"
      ]
     },
     "metadata": {},
     "output_type": "display_data"
    },
    {
     "name": "stdout",
     "output_type": "stream",
     "text": [
      "Best params for recent_100_tweets:\n"
     ]
    },
    {
     "name": "stderr",
     "output_type": "stream",
     "text": [
      "/Library/Frameworks/Python.framework/Versions/3.8/lib/python3.8/site-packages/sklearn/model_selection/_search.py:918: UserWarning: One or more of the test scores are non-finite: [nan nan nan ... nan nan nan]\n",
      "  warnings.warn(\n"
     ]
    },
    {
     "name": "stdout",
     "output_type": "stream",
     "text": [
      "{'lr__C': 0.1, 'lr__penalty': 'none', 'vectorizer__max_df': 0.25, 'vectorizer__max_features': 2000, 'vectorizer__min_df': 5}\n",
      "============================\n"
     ]
    },
    {
     "name": "stderr",
     "output_type": "stream",
     "text": [
      "/Library/Frameworks/Python.framework/Versions/3.8/lib/python3.8/site-packages/sklearn/linear_model/_logistic.py:1322: UserWarning: Setting penalty='none' will ignore the C and l1_ratio parameters\n",
      "  warnings.warn(\n"
     ]
    },
    {
     "data": {
      "text/html": [
       "<div>\n",
       "<style scoped>\n",
       "    .dataframe tbody tr th:only-of-type {\n",
       "        vertical-align: middle;\n",
       "    }\n",
       "\n",
       "    .dataframe tbody tr th {\n",
       "        vertical-align: top;\n",
       "    }\n",
       "\n",
       "    .dataframe thead th {\n",
       "        text-align: right;\n",
       "    }\n",
       "</style>\n",
       "<table border=\"1\" class=\"dataframe\">\n",
       "  <thead>\n",
       "    <tr style=\"text-align: right;\">\n",
       "      <th></th>\n",
       "      <th>recent_100_tweets</th>\n",
       "    </tr>\n",
       "  </thead>\n",
       "  <tbody>\n",
       "    <tr>\n",
       "      <th>Without NLP</th>\n",
       "      <td>0.8467</td>\n",
       "    </tr>\n",
       "    <tr>\n",
       "      <th>Stopword Removal</th>\n",
       "      <td>0.8833</td>\n",
       "    </tr>\n",
       "    <tr>\n",
       "      <th>Lemmatization</th>\n",
       "      <td>0.8633</td>\n",
       "    </tr>\n",
       "    <tr>\n",
       "      <th>Short Word Removal</th>\n",
       "      <td>0.8567</td>\n",
       "    </tr>\n",
       "    <tr>\n",
       "      <th>Irrelevant Word Removal</th>\n",
       "      <td>0.8367</td>\n",
       "    </tr>\n",
       "  </tbody>\n",
       "</table>\n",
       "</div>"
      ],
      "text/plain": [
       "                         recent_100_tweets\n",
       "Without NLP                         0.8467\n",
       "Stopword Removal                    0.8833\n",
       "Lemmatization                       0.8633\n",
       "Short Word Removal                  0.8567\n",
       "Irrelevant Word Removal             0.8367"
      ]
     },
     "execution_count": 110,
     "metadata": {},
     "output_type": "execute_result"
    }
   ],
   "source": [
    "# BoW\n",
    "results = {}\n",
    "for textdata in tqdm(textdatas):\n",
    "    print(f'Best params for {textdata}:')\n",
    "    X = df_2[textdata]\n",
    "    results[textdata] = classification_lr(X, df_2['parliament_member'], 'BoW').round(4)\n",
    "    print(\"============================\")\n",
    "    \n",
    "lr_bow = lr_bow.append(\n",
    "    pd.DataFrame.from_dict(results, orient='index', columns=['Irrelevant Word Removal']).T)\n",
    "\n",
    "lr_bow"
   ]
  },
  {
   "cell_type": "markdown",
   "id": "korean-lesson",
   "metadata": {},
   "source": [
    "#### kNN"
   ]
  },
  {
   "cell_type": "code",
   "execution_count": 111,
   "id": "excessive-technology",
   "metadata": {
    "jupyter": {
     "source_hidden": true
    }
   },
   "outputs": [
    {
     "data": {
      "application/vnd.jupyter.widget-view+json": {
       "model_id": "231fe215574a4a868c54d5b3807787b7",
       "version_major": 2,
       "version_minor": 0
      },
      "text/plain": [
       "  0%|          | 0/1 [00:00<?, ?it/s]"
      ]
     },
     "metadata": {},
     "output_type": "display_data"
    },
    {
     "name": "stdout",
     "output_type": "stream",
     "text": [
      "Best params for recent_100_tweets:\n"
     ]
    },
    {
     "name": "stderr",
     "output_type": "stream",
     "text": [
      "/Library/Frameworks/Python.framework/Versions/3.8/lib/python3.8/site-packages/sklearn/model_selection/_search.py:918: UserWarning: One or more of the test scores are non-finite: [0.60333333 0.60333333 0.60666667 ...        nan        nan        nan]\n",
      "  warnings.warn(\n"
     ]
    },
    {
     "name": "stdout",
     "output_type": "stream",
     "text": [
      "{'knn__n_neighbors': 5, 'knn__weights': 'distance', 'vectorizer__max_df': 0.5, 'vectorizer__max_features': 100, 'vectorizer__min_df': 25}\n",
      "============================\n"
     ]
    },
    {
     "data": {
      "text/html": [
       "<div>\n",
       "<style scoped>\n",
       "    .dataframe tbody tr th:only-of-type {\n",
       "        vertical-align: middle;\n",
       "    }\n",
       "\n",
       "    .dataframe tbody tr th {\n",
       "        vertical-align: top;\n",
       "    }\n",
       "\n",
       "    .dataframe thead th {\n",
       "        text-align: right;\n",
       "    }\n",
       "</style>\n",
       "<table border=\"1\" class=\"dataframe\">\n",
       "  <thead>\n",
       "    <tr style=\"text-align: right;\">\n",
       "      <th></th>\n",
       "      <th>recent_100_tweets</th>\n",
       "    </tr>\n",
       "  </thead>\n",
       "  <tbody>\n",
       "    <tr>\n",
       "      <th>Without NLP</th>\n",
       "      <td>0.8400</td>\n",
       "    </tr>\n",
       "    <tr>\n",
       "      <th>Stopword Removal</th>\n",
       "      <td>0.8033</td>\n",
       "    </tr>\n",
       "    <tr>\n",
       "      <th>Lemmatization</th>\n",
       "      <td>0.8200</td>\n",
       "    </tr>\n",
       "    <tr>\n",
       "      <th>Short Word Removal</th>\n",
       "      <td>0.7767</td>\n",
       "    </tr>\n",
       "    <tr>\n",
       "      <th>Irrelevant Word Removal</th>\n",
       "      <td>0.7800</td>\n",
       "    </tr>\n",
       "  </tbody>\n",
       "</table>\n",
       "</div>"
      ],
      "text/plain": [
       "                         recent_100_tweets\n",
       "Without NLP                         0.8400\n",
       "Stopword Removal                    0.8033\n",
       "Lemmatization                       0.8200\n",
       "Short Word Removal                  0.7767\n",
       "Irrelevant Word Removal             0.7800"
      ]
     },
     "execution_count": 111,
     "metadata": {},
     "output_type": "execute_result"
    }
   ],
   "source": [
    "# TF-IDF \n",
    "results = {}\n",
    "for textdata in tqdm(textdatas):\n",
    "    print(f'Best params for {textdata}:')\n",
    "    X = df_2[textdata]\n",
    "    results[textdata] = classification_knn(X, df_2['parliament_member'], 'TF-IDF').round(4)\n",
    "    print(\"============================\")\n",
    "    \n",
    "knn_tfidf = knn_tfidf.append(\n",
    "    pd.DataFrame.from_dict(results, orient='index', columns=['Irrelevant Word Removal']).T)\n",
    "\n",
    "knn_tfidf"
   ]
  },
  {
   "cell_type": "code",
   "execution_count": 112,
   "id": "meaning-consumer",
   "metadata": {
    "jupyter": {
     "source_hidden": true
    }
   },
   "outputs": [
    {
     "data": {
      "application/vnd.jupyter.widget-view+json": {
       "model_id": "1bafe520e40942b08bd6071b81945aea",
       "version_major": 2,
       "version_minor": 0
      },
      "text/plain": [
       "  0%|          | 0/1 [00:00<?, ?it/s]"
      ]
     },
     "metadata": {},
     "output_type": "display_data"
    },
    {
     "name": "stdout",
     "output_type": "stream",
     "text": [
      "Best params for recent_100_tweets:\n"
     ]
    },
    {
     "name": "stderr",
     "output_type": "stream",
     "text": [
      "/Library/Frameworks/Python.framework/Versions/3.8/lib/python3.8/site-packages/sklearn/model_selection/_search.py:918: UserWarning: One or more of the test scores are non-finite: [0.61       0.61       0.61666667 ...        nan        nan        nan]\n",
      "  warnings.warn(\n"
     ]
    },
    {
     "name": "stdout",
     "output_type": "stream",
     "text": [
      "{'knn__n_neighbors': 4, 'knn__weights': 'distance', 'vectorizer__max_df': 0.25, 'vectorizer__max_features': 1000, 'vectorizer__min_df': 10}\n",
      "============================\n"
     ]
    },
    {
     "data": {
      "text/html": [
       "<div>\n",
       "<style scoped>\n",
       "    .dataframe tbody tr th:only-of-type {\n",
       "        vertical-align: middle;\n",
       "    }\n",
       "\n",
       "    .dataframe tbody tr th {\n",
       "        vertical-align: top;\n",
       "    }\n",
       "\n",
       "    .dataframe thead th {\n",
       "        text-align: right;\n",
       "    }\n",
       "</style>\n",
       "<table border=\"1\" class=\"dataframe\">\n",
       "  <thead>\n",
       "    <tr style=\"text-align: right;\">\n",
       "      <th></th>\n",
       "      <th>recent_100_tweets</th>\n",
       "    </tr>\n",
       "  </thead>\n",
       "  <tbody>\n",
       "    <tr>\n",
       "      <th>Without NLP</th>\n",
       "      <td>0.7967</td>\n",
       "    </tr>\n",
       "    <tr>\n",
       "      <th>Stopword Removal</th>\n",
       "      <td>0.7400</td>\n",
       "    </tr>\n",
       "    <tr>\n",
       "      <th>Lemmatization</th>\n",
       "      <td>0.7400</td>\n",
       "    </tr>\n",
       "    <tr>\n",
       "      <th>Short Word Removal</th>\n",
       "      <td>0.7567</td>\n",
       "    </tr>\n",
       "    <tr>\n",
       "      <th>Irrelevant Word Removal</th>\n",
       "      <td>0.7500</td>\n",
       "    </tr>\n",
       "  </tbody>\n",
       "</table>\n",
       "</div>"
      ],
      "text/plain": [
       "                         recent_100_tweets\n",
       "Without NLP                         0.7967\n",
       "Stopword Removal                    0.7400\n",
       "Lemmatization                       0.7400\n",
       "Short Word Removal                  0.7567\n",
       "Irrelevant Word Removal             0.7500"
      ]
     },
     "execution_count": 112,
     "metadata": {},
     "output_type": "execute_result"
    }
   ],
   "source": [
    "# BoW\n",
    "results = {}\n",
    "for textdata in tqdm(textdatas):\n",
    "    print(f'Best params for {textdata}:')\n",
    "    X = df_2[textdata]\n",
    "    results[textdata] = classification_knn(X, df_2['parliament_member'], 'BoW').round(4)\n",
    "    print(\"============================\")\n",
    "    \n",
    "knn_bow = knn_bow.append(\n",
    "    pd.DataFrame.from_dict(results, orient='index', columns=['Irrelevant Word Removal']).T)\n",
    "\n",
    "knn_bow"
   ]
  },
  {
   "cell_type": "markdown",
   "id": "precise-brand",
   "metadata": {},
   "source": [
    "### Export Model\n",
    "- TF-IDF outperformed BoW with in every case except with Logistic Regression, where they had similar performances\n",
    "- Logistic Regression had the best performance, and kNN the worst\n",
    "\n",
    "The best model we found is: Logistic Regression-TF-IDF\n",
    "- vectorizer__max_df: 0.75\n",
    "- vectorizer__max_features: None\n",
    "- vectorizer__min_df: 5\n",
    "- lr__C: 0.1\n",
    "- lr__penalty: none<br>\n",
    "\n",
    "with the following NLP steps:\n",
    "- Stop Word Removal\n"
   ]
  },
  {
   "cell_type": "code",
   "execution_count": 20,
   "id": "impossible-shelf",
   "metadata": {},
   "outputs": [],
   "source": [
    "def get_text_data_t(df):\n",
    "    df['textdata'] = clean_text(df['recent_100_tweets'])\n",
    "    df['textdata'] = df['textdata'].apply(lambda row: remove_stopwords(row))\n",
    "    df['textdata'] = df['textdata'].apply(lambda row: ' '.join(row))\n",
    "    return df.textdata\n",
    "\n",
    "\n",
    "get_text_t = FunctionTransformer(get_text_data_t)"
   ]
  },
  {
   "cell_type": "code",
   "execution_count": 21,
   "id": "ordered-equipment",
   "metadata": {},
   "outputs": [],
   "source": [
    "pipeline = Pipeline([\n",
    "    ('selector_t', get_text_t),\n",
    "    ('tfidf', TfidfVectorizer(max_df=0.75, max_features=None, min_df=5)),\n",
    "    ('lr', LogisticRegression(max_iter=1000, penalty = 'none'))\n",
    "])"
   ]
  },
  {
   "cell_type": "code",
   "execution_count": 22,
   "id": "liberal-minister",
   "metadata": {},
   "outputs": [
    {
     "data": {
      "text/plain": [
       "Pipeline(steps=[('selector_t',\n",
       "                 FunctionTransformer(func=<function get_text_data_t at 0x7fb53f120af0>)),\n",
       "                ('tfidf', TfidfVectorizer(max_df=0.75, min_df=5)),\n",
       "                ('lr', LogisticRegression(max_iter=1000, penalty='none'))])"
      ]
     },
     "execution_count": 22,
     "metadata": {},
     "output_type": "execute_result"
    }
   ],
   "source": [
    "X = training_set\n",
    "y = training_set.parliament_member\n",
    "pipeline.fit(X,y)"
   ]
  },
  {
   "cell_type": "code",
   "execution_count": 23,
   "id": "decreased-macedonia",
   "metadata": {},
   "outputs": [
    {
     "data": {
      "text/plain": [
       "['../classifiers/classifier_politician_t.sav']"
      ]
     },
     "execution_count": 23,
     "metadata": {},
     "output_type": "execute_result"
    }
   ],
   "source": [
    "filename = '../classifiers/classifier_politician_t.sav'\n",
    "joblib.dump(pipeline, filename)"
   ]
  },
  {
   "cell_type": "markdown",
   "id": "failing-demand",
   "metadata": {},
   "source": [
    "# Case 3: Mentions Politician Percentage\n",
    "---"
   ]
  },
  {
   "cell_type": "code",
   "execution_count": 83,
   "id": "engaged-duncan",
   "metadata": {},
   "outputs": [],
   "source": [
    "def mentions_politician_count(training_set):\n",
    "    model_nd = joblib.load('../classifiers/classifier_politician_nd.sav')\n",
    "    counts = []\n",
    "    mentions = training_set['recent_100_tweets'].str.findall(r'@\\w+')\n",
    "    \n",
    "    for accs in tqdm(mentions):\n",
    "        print(f'\\nNode: {len(accs)}')\n",
    "        users = []\n",
    "        count = 0\n",
    "        \n",
    "        try:\n",
    "            for acc in accs:\n",
    "                users.append(API.get_user(screen_name=acc))\n",
    "        except tweepy.TweepError as err:\n",
    "            print(f'Error get_user: {err}')\n",
    "            \n",
    "    \n",
    "        textdata = pd.DataFrame()         \n",
    "        for user in users:\n",
    "            textdata = textdata.append({'name':user.name, 'description':user.description}, ignore_index=True)\n",
    "    \n",
    "        if not textdata.empty:\n",
    "            #Predict\n",
    "            labels = model_nd.predict(textdata)\n",
    "            textdata['labels'] = labels\n",
    "                  \n",
    "            #COUNT\n",
    "            count = len(textdata[textdata['labels'] == 1])\n",
    "        \n",
    "        counts.append(count)\n",
    "        print(f'Percentage: {count}')\n",
    "                  \n",
    "    return counts\n",
    "\n",
    "\n",
    "def get_text_data_nd(df):\n",
    "    df['textdata'] = clean_text(df['name'] + ' ' + df['description'])\n",
    "    df['textdata'] = df['textdata'].apply(lambda row: tokenize_lemmatize(row))\n",
    "    df['textdata'] = df['textdata'].apply(lambda row: ' '.join(row))\n",
    "    df['textdata'] = df['textdata'].apply(lambda row: remove_stopwords(row))\n",
    "    df['textdata'] = df['textdata'].apply(lambda row: ' '.join(row))\n",
    "    \n",
    "    return df.textdata"
   ]
  },
  {
   "cell_type": "markdown",
   "id": "structured-palestine",
   "metadata": {},
   "source": [
    "#### Calculations for the Training Set"
   ]
  },
  {
   "cell_type": "code",
   "execution_count": 20,
   "id": "otherwise-diabetes",
   "metadata": {
    "collapsed": true,
    "jupyter": {
     "outputs_hidden": true
    }
   },
   "outputs": [
    {
     "data": {
      "application/vnd.jupyter.widget-view+json": {
       "model_id": "ee4698a67b214dfb86f5ca63a1eaec1f",
       "version_major": 2,
       "version_minor": 0
      },
      "text/plain": [
       "  0%|          | 0/300 [00:00<?, ?it/s]"
      ]
     },
     "metadata": {},
     "output_type": "display_data"
    },
    {
     "name": "stdout",
     "output_type": "stream",
     "text": [
      "\n",
      "Node: 2\n",
      "Error get_user: [{'code': 50, 'message': 'User not found.'}]\n",
      "Percentage: 0\n",
      "\n",
      "Node: 0\n",
      "Percentage: 0\n",
      "\n",
      "Node: 55\n",
      "Error get_user: [{'code': 50, 'message': 'User not found.'}]\n",
      "Percentage: 0\n",
      "\n",
      "Node: 9\n",
      "Percentage: 2\n",
      "\n",
      "Node: 0\n",
      "Percentage: 0\n",
      "\n",
      "Node: 100\n",
      "Error get_user: [{'code': 63, 'message': 'User has been suspended.'}]\n",
      "Percentage: 1\n",
      "\n",
      "Node: 100\n",
      "Error get_user: [{'code': 50, 'message': 'User not found.'}]\n",
      "Percentage: 0\n",
      "\n",
      "Node: 6\n",
      "Percentage: 3\n",
      "\n",
      "Node: 97\n",
      "Error get_user: [{'code': 50, 'message': 'User not found.'}]\n",
      "Percentage: 0\n",
      "\n",
      "Node: 144\n",
      "Error get_user: [{'code': 50, 'message': 'User not found.'}]\n",
      "Percentage: 0\n",
      "\n",
      "Node: 7\n",
      "Percentage: 0\n",
      "\n",
      "Node: 15\n",
      "Percentage: 0\n",
      "\n",
      "Node: 79\n",
      "Error get_user: [{'code': 50, 'message': 'User not found.'}]\n",
      "Percentage: 0\n",
      "\n",
      "Node: 118\n",
      "Percentage: 34\n",
      "\n",
      "Node: 4\n",
      "Error get_user: [{'code': 50, 'message': 'User not found.'}]\n",
      "Percentage: 0\n",
      "\n",
      "Node: 88\n",
      "Error get_user: [{'code': 50, 'message': 'User not found.'}]\n",
      "Percentage: 8\n",
      "\n",
      "Node: 2\n",
      "Percentage: 0\n",
      "\n",
      "Node: 44\n",
      "Error get_user: [{'code': 50, 'message': 'User not found.'}]\n",
      "Percentage: 0\n",
      "\n",
      "Node: 0\n",
      "Percentage: 0\n",
      "\n",
      "Node: 133\n",
      "Error get_user: [{'code': 63, 'message': 'User has been suspended.'}]\n",
      "Percentage: 1\n",
      "\n",
      "Node: 83\n",
      "Error get_user: [{'code': 50, 'message': 'User not found.'}]\n",
      "Percentage: 0\n",
      "\n",
      "Node: 7\n",
      "Error get_user: [{'code': 63, 'message': 'User has been suspended.'}]\n",
      "Percentage: 0\n",
      "\n",
      "Node: 107\n",
      "Percentage: 0\n",
      "\n",
      "Node: 0\n",
      "Percentage: 0\n",
      "\n",
      "Node: 200\n",
      "Error get_user: [{'code': 50, 'message': 'User not found.'}]\n",
      "Percentage: 0\n",
      "\n",
      "Node: 5\n",
      "Percentage: 0\n",
      "\n",
      "Node: 213\n",
      "Error get_user: [{'code': 50, 'message': 'User not found.'}]\n",
      "Percentage: 0\n",
      "\n",
      "Node: 7\n",
      "Error get_user: [{'code': 50, 'message': 'User not found.'}]\n",
      "Percentage: 0\n",
      "\n",
      "Node: 20\n",
      "Percentage: 0\n",
      "\n",
      "Node: 0\n",
      "Percentage: 0\n",
      "\n",
      "Node: 115\n",
      "Error get_user: [{'code': 50, 'message': 'User not found.'}]\n",
      "Percentage: 5\n",
      "\n",
      "Node: 1\n",
      "Percentage: 0\n",
      "\n",
      "Node: 39\n",
      "Error get_user: [{'code': 50, 'message': 'User not found.'}]\n",
      "Percentage: 2\n",
      "\n",
      "Node: 87\n",
      "Error get_user: [{'code': 63, 'message': 'User has been suspended.'}]\n",
      "Percentage: 0\n",
      "\n",
      "Node: 0\n",
      "Percentage: 0\n",
      "\n",
      "Node: 0\n",
      "Percentage: 0\n",
      "\n",
      "Node: 84\n",
      "Error get_user: [{'code': 63, 'message': 'User has been suspended.'}]\n",
      "Percentage: 0\n",
      "\n",
      "Node: 0\n",
      "Percentage: 0\n",
      "\n",
      "Node: 1\n",
      "Percentage: 0\n",
      "\n",
      "Node: 146\n",
      "Error get_user: [{'code': 50, 'message': 'User not found.'}]\n",
      "Percentage: 0\n",
      "\n",
      "Node: 128\n"
     ]
    },
    {
     "name": "stderr",
     "output_type": "stream",
     "text": [
      "Rate limit reached. Sleeping for: 222\n"
     ]
    },
    {
     "name": "stdout",
     "output_type": "stream",
     "text": [
      "Percentage: 0\n",
      "\n",
      "Node: 52\n",
      "Percentage: 0\n",
      "\n",
      "Node: 1\n",
      "Error get_user: [{'code': 63, 'message': 'User has been suspended.'}]\n",
      "Percentage: 0\n",
      "\n",
      "Node: 96\n",
      "Error get_user: [{'code': 50, 'message': 'User not found.'}]\n",
      "Percentage: 0\n",
      "\n",
      "Node: 1\n",
      "Error get_user: [{'code': 50, 'message': 'User not found.'}]\n",
      "Percentage: 0\n",
      "\n",
      "Node: 18\n",
      "Error get_user: [{'code': 50, 'message': 'User not found.'}]\n",
      "Percentage: 1\n",
      "\n",
      "Node: 64\n",
      "Error get_user: [{'code': 63, 'message': 'User has been suspended.'}]\n",
      "Percentage: 0\n",
      "\n",
      "Node: 132\n",
      "Error get_user: [{'code': 50, 'message': 'User not found.'}]\n",
      "Percentage: 11\n",
      "\n",
      "Node: 101\n",
      "Error get_user: [{'code': 50, 'message': 'User not found.'}]\n",
      "Percentage: 0\n",
      "\n",
      "Node: 0\n",
      "Percentage: 0\n",
      "\n",
      "Node: 38\n",
      "Error get_user: [{'code': 50, 'message': 'User not found.'}]\n",
      "Percentage: 0\n",
      "\n",
      "Node: 0\n",
      "Percentage: 0\n",
      "\n",
      "Node: 140\n",
      "Error get_user: [{'code': 50, 'message': 'User not found.'}]\n",
      "Percentage: 4\n",
      "\n",
      "Node: 47\n",
      "Error get_user: [{'code': 63, 'message': 'User has been suspended.'}]\n",
      "Percentage: 0\n",
      "\n",
      "Node: 131\n",
      "Error get_user: [{'code': 50, 'message': 'User not found.'}]\n",
      "Percentage: 0\n",
      "\n",
      "Node: 0\n",
      "Percentage: 0\n",
      "\n",
      "Node: 90\n",
      "Percentage: 1\n",
      "\n",
      "Node: 3\n",
      "Error get_user: [{'code': 50, 'message': 'User not found.'}]\n",
      "Percentage: 0\n",
      "\n",
      "Node: 122\n",
      "Error get_user: [{'code': 50, 'message': 'User not found.'}]\n",
      "Percentage: 2\n",
      "\n",
      "Node: 0\n",
      "Percentage: 0\n",
      "\n",
      "Node: 0\n",
      "Percentage: 0\n",
      "\n",
      "Node: 0\n",
      "Percentage: 0\n",
      "\n",
      "Node: 0\n",
      "Percentage: 0\n",
      "\n",
      "Node: 34\n",
      "Error get_user: [{'code': 50, 'message': 'User not found.'}]\n",
      "Percentage: 0\n",
      "\n",
      "Node: 2\n",
      "Percentage: 0\n",
      "\n",
      "Node: 118\n",
      "Error get_user: [{'code': 63, 'message': 'User has been suspended.'}]\n",
      "Percentage: 1\n",
      "\n",
      "Node: 18\n",
      "Error get_user: [{'code': 50, 'message': 'User not found.'}]\n",
      "Percentage: 0\n",
      "\n",
      "Node: 0\n",
      "Percentage: 0\n",
      "\n",
      "Node: 1\n",
      "Percentage: 0\n",
      "\n",
      "Node: 43\n",
      "Error get_user: [{'code': 50, 'message': 'User not found.'}]\n",
      "Percentage: 0\n",
      "\n",
      "Node: 0\n",
      "Percentage: 0\n",
      "\n",
      "Node: 102\n",
      "Error get_user: [{'code': 50, 'message': 'User not found.'}]\n",
      "Percentage: 0\n",
      "\n",
      "Node: 0\n",
      "Percentage: 0\n",
      "\n",
      "Node: 0\n",
      "Percentage: 0\n",
      "\n",
      "Node: 4\n",
      "Percentage: 0\n",
      "\n",
      "Node: 20\n",
      "Error get_user: [{'code': 50, 'message': 'User not found.'}]\n",
      "Percentage: 0\n",
      "\n",
      "Node: 3\n",
      "Percentage: 0\n",
      "\n",
      "Node: 108\n",
      "Error get_user: [{'code': 50, 'message': 'User not found.'}]\n",
      "Percentage: 0\n",
      "\n",
      "Node: 5\n",
      "Percentage: 0\n",
      "\n",
      "Node: 36\n",
      "Percentage: 0\n",
      "\n",
      "Node: 42\n",
      "Percentage: 0\n",
      "\n",
      "Node: 0\n",
      "Percentage: 0\n",
      "\n",
      "Node: 37\n",
      "Error get_user: [{'code': 50, 'message': 'User not found.'}]\n",
      "Percentage: 0\n",
      "\n",
      "Node: 26\n",
      "Error get_user: [{'code': 50, 'message': 'User not found.'}]\n",
      "Percentage: 0\n",
      "\n",
      "Node: 4\n",
      "Error get_user: [{'code': 63, 'message': 'User has been suspended.'}]\n",
      "Percentage: 0\n",
      "\n",
      "Node: 25\n",
      "Error get_user: [{'code': 50, 'message': 'User not found.'}]\n",
      "Percentage: 0\n",
      "\n",
      "Node: 8\n",
      "Error get_user: [{'code': 50, 'message': 'User not found.'}]\n",
      "Percentage: 0\n",
      "\n",
      "Node: 9\n",
      "Error get_user: [{'code': 50, 'message': 'User not found.'}]\n",
      "Percentage: 0\n",
      "\n",
      "Node: 115\n",
      "Error get_user: [{'code': 50, 'message': 'User not found.'}]\n",
      "Percentage: 2\n",
      "\n",
      "Node: 0\n",
      "Percentage: 0\n",
      "\n",
      "Node: 106\n",
      "Error get_user: [{'code': 50, 'message': 'User not found.'}]\n",
      "Percentage: 0\n",
      "\n",
      "Node: 96\n",
      "Error get_user: [{'code': 50, 'message': 'User not found.'}]\n",
      "Percentage: 1\n",
      "\n",
      "Node: 9\n",
      "Error get_user: [{'code': 63, 'message': 'User has been suspended.'}]\n",
      "Percentage: 0\n",
      "\n",
      "Node: 13\n",
      "Error get_user: [{'code': 50, 'message': 'User not found.'}]\n",
      "Percentage: 0\n",
      "\n",
      "Node: 0\n",
      "Percentage: 0\n",
      "\n",
      "Node: 2\n",
      "Percentage: 0\n",
      "\n",
      "Node: 131\n"
     ]
    },
    {
     "name": "stderr",
     "output_type": "stream",
     "text": [
      "Rate limit reached. Sleeping for: 369\n"
     ]
    },
    {
     "name": "stdout",
     "output_type": "stream",
     "text": [
      "Error get_user: [{'code': 50, 'message': 'User not found.'}]\n",
      "Percentage: 72\n",
      "\n",
      "Node: 82\n",
      "Percentage: 6\n",
      "\n",
      "Node: 147\n",
      "Error get_user: [{'code': 50, 'message': 'User not found.'}]\n",
      "Percentage: 0\n",
      "\n",
      "Node: 0\n",
      "Percentage: 0\n",
      "\n",
      "Node: 116\n",
      "Percentage: 45\n",
      "\n",
      "Node: 94\n",
      "Error get_user: [{'code': 50, 'message': 'User not found.'}]\n",
      "Percentage: 0\n",
      "\n",
      "Node: 45\n",
      "Error get_user: [{'code': 50, 'message': 'User not found.'}]\n",
      "Percentage: 0\n",
      "\n",
      "Node: 0\n",
      "Percentage: 0\n",
      "\n",
      "Node: 4\n",
      "Percentage: 0\n",
      "\n",
      "Node: 8\n",
      "Percentage: 1\n",
      "\n",
      "Node: 120\n",
      "Percentage: 39\n",
      "\n",
      "Node: 18\n",
      "Error get_user: [{'code': 50, 'message': 'User not found.'}]\n",
      "Percentage: 0\n",
      "\n",
      "Node: 0\n",
      "Percentage: 0\n",
      "\n",
      "Node: 0\n",
      "Percentage: 0\n",
      "\n",
      "Node: 12\n",
      "Error get_user: [{'code': 50, 'message': 'User not found.'}]\n",
      "Percentage: 0\n",
      "\n",
      "Node: 92\n",
      "Percentage: 11\n",
      "\n",
      "Node: 67\n",
      "Percentage: 0\n",
      "\n",
      "Node: 0\n",
      "Percentage: 0\n",
      "\n",
      "Node: 120\n",
      "Error get_user: [{'code': 50, 'message': 'User not found.'}]\n",
      "Percentage: 0\n",
      "\n",
      "Node: 103\n",
      "Error get_user: [{'code': 50, 'message': 'User not found.'}]\n",
      "Percentage: 1\n",
      "\n",
      "Node: 101\n",
      "Error get_user: [{'code': 50, 'message': 'User not found.'}]\n",
      "Percentage: 1\n",
      "\n",
      "Node: 126\n",
      "Error get_user: [{'code': 50, 'message': 'User not found.'}]\n",
      "Percentage: 0\n",
      "\n",
      "Node: 1\n",
      "Percentage: 0\n",
      "\n",
      "Node: 48\n",
      "Error get_user: [{'code': 50, 'message': 'User not found.'}]\n",
      "Percentage: 0\n",
      "\n",
      "Node: 4\n",
      "Error get_user: [{'code': 50, 'message': 'User not found.'}]\n",
      "Percentage: 0\n",
      "\n",
      "Node: 4\n",
      "Percentage: 0\n",
      "\n",
      "Node: 1\n",
      "Percentage: 0\n",
      "\n",
      "Node: 0\n",
      "Percentage: 0\n",
      "\n",
      "Node: 53\n",
      "Error get_user: [{'code': 50, 'message': 'User not found.'}]\n",
      "Percentage: 0\n",
      "\n",
      "Node: 17\n",
      "Error get_user: [{'code': 50, 'message': 'User not found.'}]\n",
      "Percentage: 0\n",
      "\n",
      "Node: 118\n",
      "Error get_user: [{'code': 63, 'message': 'User has been suspended.'}]\n",
      "Percentage: 0\n",
      "\n",
      "Node: 94\n",
      "Error get_user: [{'code': 50, 'message': 'User not found.'}]\n",
      "Percentage: 0\n",
      "\n",
      "Node: 0\n",
      "Percentage: 0\n",
      "\n",
      "Node: 55\n",
      "Error get_user: [{'code': 50, 'message': 'User not found.'}]\n",
      "Percentage: 0\n",
      "\n",
      "Node: 54\n",
      "Error get_user: [{'code': 50, 'message': 'User not found.'}]\n",
      "Percentage: 1\n",
      "\n",
      "Node: 0\n",
      "Percentage: 0\n",
      "\n",
      "Node: 10\n",
      "Error get_user: [{'code': 50, 'message': 'User not found.'}]\n",
      "Percentage: 0\n",
      "\n",
      "Node: 103\n"
     ]
    },
    {
     "name": "stderr",
     "output_type": "stream",
     "text": [
      "Rate limit reached. Sleeping for: 407\n"
     ]
    },
    {
     "name": "stdout",
     "output_type": "stream",
     "text": [
      "Percentage: 2\n",
      "\n",
      "Node: 98\n",
      "Error get_user: [{'code': 50, 'message': 'User not found.'}]\n",
      "Percentage: 0\n",
      "\n",
      "Node: 42\n",
      "Error get_user: [{'code': 50, 'message': 'User not found.'}]\n",
      "Percentage: 0\n",
      "\n",
      "Node: 123\n",
      "Error get_user: [{'code': 50, 'message': 'User not found.'}]\n",
      "Percentage: 0\n",
      "\n",
      "Node: 20\n",
      "Percentage: 0\n",
      "\n",
      "Node: 1\n",
      "Percentage: 0\n",
      "\n",
      "Node: 15\n",
      "Error get_user: [{'code': 50, 'message': 'User not found.'}]\n",
      "Percentage: 0\n",
      "\n",
      "Node: 62\n",
      "Error get_user: [{'code': 50, 'message': 'User not found.'}]\n",
      "Percentage: 0\n",
      "\n",
      "Node: 119\n",
      "Error get_user: [{'code': 50, 'message': 'User not found.'}]\n",
      "Percentage: 2\n",
      "\n",
      "Node: 45\n",
      "Error get_user: [{'code': 63, 'message': 'User has been suspended.'}]\n",
      "Percentage: 0\n",
      "\n",
      "Node: 48\n",
      "Error get_user: [{'code': 50, 'message': 'User not found.'}]\n",
      "Percentage: 0\n",
      "\n",
      "Node: 99\n",
      "Error get_user: [{'code': 50, 'message': 'User not found.'}]\n",
      "Percentage: 0\n",
      "\n",
      "Node: 6\n",
      "Percentage: 1\n",
      "\n",
      "Node: 0\n",
      "Percentage: 0\n",
      "\n",
      "Node: 158\n",
      "Error get_user: [{'code': 63, 'message': 'User has been suspended.'}]\n",
      "Percentage: 0\n",
      "\n",
      "Node: 0\n",
      "Percentage: 0\n",
      "\n",
      "Node: 113\n",
      "Percentage: 62\n",
      "\n",
      "Node: 0\n",
      "Percentage: 0\n",
      "\n",
      "Node: 24\n",
      "Error get_user: [{'code': 50, 'message': 'User not found.'}]\n",
      "Percentage: 4\n",
      "\n",
      "Node: 104\n",
      "Percentage: 45\n",
      "\n",
      "Node: 78\n",
      "Error get_user: [{'code': 50, 'message': 'User not found.'}]\n",
      "Percentage: 9\n",
      "\n",
      "Node: 76\n",
      "Percentage: 23\n",
      "\n",
      "Node: 48\n",
      "Error get_user: [{'code': 50, 'message': 'User not found.'}]\n",
      "Percentage: 6\n",
      "\n",
      "Node: 77\n",
      "Error get_user: [{'code': 50, 'message': 'User not found.'}]\n",
      "Percentage: 5\n",
      "\n",
      "Node: 104\n",
      "Percentage: 34\n",
      "\n",
      "Node: 54\n",
      "Error get_user: [{'code': 63, 'message': 'User has been suspended.'}]\n",
      "Percentage: 9\n",
      "\n",
      "Node: 63\n",
      "Error get_user: [{'code': 50, 'message': 'User not found.'}]\n",
      "Percentage: 10\n",
      "\n",
      "Node: 46\n",
      "Error get_user: [{'code': 50, 'message': 'User not found.'}]\n",
      "Percentage: 10\n",
      "\n",
      "Node: 74\n"
     ]
    },
    {
     "name": "stderr",
     "output_type": "stream",
     "text": [
      "Rate limit reached. Sleeping for: 398\n"
     ]
    },
    {
     "name": "stdout",
     "output_type": "stream",
     "text": [
      "Percentage: 52\n",
      "\n",
      "Node: 0\n",
      "Percentage: 0\n",
      "\n",
      "Node: 4\n",
      "Error get_user: [{'code': 50, 'message': 'User not found.'}]\n",
      "Percentage: 0\n",
      "\n",
      "Node: 31\n",
      "Error get_user: [{'code': 50, 'message': 'User not found.'}]\n",
      "Percentage: 1\n",
      "\n",
      "Node: 53\n",
      "Percentage: 31\n",
      "\n",
      "Node: 10\n",
      "Error get_user: [{'code': 50, 'message': 'User not found.'}]\n",
      "Percentage: 4\n",
      "\n",
      "Node: 59\n",
      "Percentage: 22\n",
      "\n",
      "Node: 106\n",
      "Percentage: 43\n",
      "\n",
      "Node: 0\n",
      "Percentage: 0\n",
      "\n",
      "Node: 48\n",
      "Error get_user: [{'code': 50, 'message': 'User not found.'}]\n",
      "Percentage: 1\n",
      "\n",
      "Node: 107\n",
      "Error get_user: [{'code': 50, 'message': 'User not found.'}]\n",
      "Percentage: 24\n",
      "\n",
      "Node: 0\n",
      "Percentage: 0\n",
      "\n",
      "Node: 96\n",
      "Percentage: 62\n",
      "\n",
      "Node: 21\n",
      "Percentage: 1\n",
      "\n",
      "Node: 173\n",
      "Error get_user: [{'code': 63, 'message': 'User has been suspended.'}]\n",
      "Percentage: 6\n",
      "\n",
      "Node: 20\n",
      "Percentage: 10\n",
      "\n",
      "Node: 88\n",
      "Error get_user: [{'code': 63, 'message': 'User has been suspended.'}]\n",
      "Percentage: 9\n",
      "\n",
      "Node: 79\n",
      "Error get_user: [{'code': 50, 'message': 'User not found.'}]\n",
      "Percentage: 2\n",
      "\n",
      "Node: 65\n",
      "Error get_user: [{'code': 63, 'message': 'User has been suspended.'}]\n",
      "Percentage: 5\n",
      "\n",
      "Node: 0\n",
      "Percentage: 0\n",
      "\n",
      "Node: 95\n",
      "Percentage: 54\n",
      "\n",
      "Node: 38\n",
      "Error get_user: [{'code': 50, 'message': 'User not found.'}]\n",
      "Percentage: 15\n",
      "\n",
      "Node: 95\n",
      "Error get_user: [{'code': 50, 'message': 'User not found.'}]\n",
      "Percentage: 22\n",
      "\n",
      "Node: 119\n",
      "Error get_user: [{'code': 50, 'message': 'User not found.'}]\n",
      "Percentage: 10\n",
      "\n",
      "Node: 0\n",
      "Percentage: 0\n",
      "\n",
      "Node: 69\n",
      "Percentage: 17\n",
      "\n",
      "Node: 29\n",
      "Error get_user: [{'code': 63, 'message': 'User has been suspended.'}]\n",
      "Percentage: 18\n",
      "\n",
      "Node: 27\n",
      "Percentage: 4\n",
      "\n",
      "Node: 31\n",
      "Error get_user: [{'code': 50, 'message': 'User not found.'}]\n",
      "Percentage: 8\n",
      "\n",
      "Node: 121\n"
     ]
    },
    {
     "name": "stderr",
     "output_type": "stream",
     "text": [
      "Rate limit reached. Sleeping for: 349\n"
     ]
    },
    {
     "name": "stdout",
     "output_type": "stream",
     "text": [
      "Percentage: 92\n",
      "\n",
      "Node: 1\n",
      "Percentage: 1\n",
      "\n",
      "Node: 20\n",
      "Percentage: 9\n",
      "\n",
      "Node: 0\n",
      "Percentage: 0\n",
      "\n",
      "Node: 12\n",
      "Percentage: 3\n",
      "\n",
      "Node: 1\n",
      "Percentage: 1\n",
      "\n",
      "Node: 0\n",
      "Percentage: 0\n",
      "\n",
      "Node: 13\n",
      "Error get_user: [{'code': 63, 'message': 'User has been suspended.'}]\n",
      "Percentage: 1\n",
      "\n",
      "Node: 42\n",
      "Error get_user: [{'code': 50, 'message': 'User not found.'}]\n",
      "Percentage: 21\n",
      "\n",
      "Node: 41\n",
      "Error get_user: [{'code': 50, 'message': 'User not found.'}]\n",
      "Percentage: 24\n",
      "\n",
      "Node: 98\n",
      "Percentage: 43\n",
      "\n",
      "Node: 12\n",
      "Percentage: 6\n",
      "\n",
      "Node: 8\n",
      "Percentage: 0\n",
      "\n",
      "Node: 3\n",
      "Percentage: 2\n",
      "\n",
      "Node: 73\n",
      "Percentage: 36\n",
      "\n",
      "Node: 0\n",
      "Percentage: 0\n",
      "\n",
      "Node: 21\n",
      "Percentage: 9\n",
      "\n",
      "Node: 104\n",
      "Percentage: 17\n",
      "\n",
      "Node: 134\n",
      "Error get_user: [{'code': 50, 'message': 'User not found.'}]\n",
      "Percentage: 1\n",
      "\n",
      "Node: 0\n",
      "Percentage: 0\n",
      "\n",
      "Node: 33\n",
      "Error get_user: [{'code': 63, 'message': 'User has been suspended.'}]\n",
      "Percentage: 7\n",
      "\n",
      "Node: 95\n",
      "Error get_user: [{'code': 50, 'message': 'User not found.'}]\n",
      "Percentage: 15\n",
      "\n",
      "Node: 19\n",
      "Percentage: 10\n",
      "\n",
      "Node: 74\n",
      "Error get_user: [{'code': 50, 'message': 'User not found.'}]\n",
      "Percentage: 20\n",
      "\n",
      "Node: 2\n",
      "Error get_user: [{'code': 63, 'message': 'User has been suspended.'}]\n",
      "Percentage: 0\n",
      "\n",
      "Node: 26\n",
      "Percentage: 12\n",
      "\n",
      "Node: 61\n",
      "Error get_user: [{'code': 50, 'message': 'User not found.'}]\n",
      "Percentage: 28\n",
      "\n",
      "Node: 1\n",
      "Percentage: 0\n",
      "\n",
      "Node: 5\n",
      "Percentage: 4\n",
      "\n",
      "Node: 67\n",
      "Percentage: 16\n",
      "\n",
      "Node: 100\n",
      "Error get_user: [{'code': 50, 'message': 'User not found.'}]\n",
      "Percentage: 22\n",
      "\n",
      "Node: 18\n",
      "Percentage: 3\n",
      "\n",
      "Node: 10\n",
      "Percentage: 5\n",
      "\n",
      "Node: 2\n",
      "Percentage: 0\n",
      "\n",
      "Node: 58\n",
      "Error get_user: [{'code': 50, 'message': 'User not found.'}]\n",
      "Percentage: 2\n",
      "\n",
      "Node: 0\n",
      "Percentage: 0\n",
      "\n",
      "Node: 19\n",
      "Percentage: 12\n",
      "\n",
      "Node: 30\n"
     ]
    },
    {
     "name": "stderr",
     "output_type": "stream",
     "text": [
      "Rate limit reached. Sleeping for: 358\n"
     ]
    },
    {
     "name": "stdout",
     "output_type": "stream",
     "text": [
      "Percentage: 22\n",
      "\n",
      "Node: 13\n",
      "Percentage: 7\n",
      "\n",
      "Node: 127\n",
      "Error get_user: [{'code': 50, 'message': 'User not found.'}]\n",
      "Percentage: 18\n",
      "\n",
      "Node: 53\n",
      "Percentage: 17\n",
      "\n",
      "Node: 0\n",
      "Percentage: 0\n",
      "\n",
      "Node: 76\n",
      "Error get_user: [{'code': 50, 'message': 'User not found.'}]\n",
      "Percentage: 20\n",
      "\n",
      "Node: 123\n",
      "Percentage: 67\n",
      "\n",
      "Node: 35\n",
      "Error get_user: [{'code': 50, 'message': 'User not found.'}]\n",
      "Percentage: 5\n",
      "\n",
      "Node: 72\n",
      "Percentage: 59\n",
      "\n",
      "Node: 47\n",
      "Error get_user: [{'code': 50, 'message': 'User not found.'}]\n",
      "Percentage: 2\n",
      "\n",
      "Node: 2\n",
      "Percentage: 1\n",
      "\n",
      "Node: 45\n",
      "Error get_user: [{'code': 50, 'message': 'User not found.'}]\n",
      "Percentage: 24\n",
      "\n",
      "Node: 2\n",
      "Percentage: 2\n",
      "\n",
      "Node: 13\n",
      "Error get_user: [{'code': 50, 'message': 'User not found.'}]\n",
      "Percentage: 4\n",
      "\n",
      "Node: 85\n",
      "Percentage: 39\n",
      "\n",
      "Node: 53\n",
      "Percentage: 3\n",
      "\n",
      "Node: 0\n",
      "Percentage: 0\n",
      "\n",
      "Node: 95\n",
      "Percentage: 41\n",
      "\n",
      "Node: 80\n",
      "Percentage: 29\n",
      "\n",
      "Node: 1\n",
      "Error get_user: [{'code': 50, 'message': 'User not found.'}]\n",
      "Percentage: 0\n",
      "\n",
      "Node: 107\n",
      "Error get_user: [{'code': 63, 'message': 'User has been suspended.'}]\n",
      "Percentage: 15\n",
      "\n",
      "Node: 52\n",
      "Percentage: 33\n",
      "\n",
      "Node: 14\n",
      "Percentage: 3\n",
      "\n",
      "Node: 105\n"
     ]
    },
    {
     "name": "stderr",
     "output_type": "stream",
     "text": [
      "Rate limit reached. Sleeping for: 280\n"
     ]
    },
    {
     "name": "stdout",
     "output_type": "stream",
     "text": [
      "Percentage: 11\n",
      "\n",
      "Node: 88\n",
      "Error get_user: [{'code': 50, 'message': 'User not found.'}]\n",
      "Percentage: 29\n",
      "\n",
      "Node: 91\n",
      "Percentage: 52\n",
      "\n",
      "Node: 68\n",
      "Percentage: 60\n",
      "\n",
      "Node: 22\n",
      "Percentage: 8\n",
      "\n",
      "Node: 24\n",
      "Error get_user: [{'code': 50, 'message': 'User not found.'}]\n",
      "Percentage: 1\n",
      "\n",
      "Node: 44\n",
      "Percentage: 21\n",
      "\n",
      "Node: 17\n",
      "Error get_user: [{'code': 50, 'message': 'User not found.'}]\n",
      "Percentage: 11\n",
      "\n",
      "Node: 46\n",
      "Percentage: 18\n",
      "\n",
      "Node: 10\n",
      "Percentage: 9\n",
      "\n",
      "Node: 76\n",
      "Percentage: 63\n",
      "\n",
      "Node: 1\n",
      "Percentage: 1\n",
      "\n",
      "Node: 28\n",
      "Error get_user: [{'code': 50, 'message': 'User not found.'}]\n",
      "Percentage: 14\n",
      "\n",
      "Node: 81\n",
      "Percentage: 41\n",
      "\n",
      "Node: 100\n",
      "Error get_user: [{'code': 63, 'message': 'User has been suspended.'}]\n",
      "Percentage: 25\n",
      "\n",
      "Node: 76\n",
      "Error get_user: [{'code': 63, 'message': 'User has been suspended.'}]\n",
      "Percentage: 9\n",
      "\n",
      "Node: 78\n",
      "Error get_user: [{'code': 50, 'message': 'User not found.'}]\n",
      "Percentage: 1\n",
      "\n",
      "Node: 7\n",
      "Percentage: 7\n",
      "\n",
      "Node: 108\n",
      "Percentage: 39\n",
      "\n",
      "Node: 22\n",
      "Percentage: 13\n",
      "\n",
      "Node: 86\n"
     ]
    },
    {
     "name": "stderr",
     "output_type": "stream",
     "text": [
      "Rate limit reached. Sleeping for: 386\n"
     ]
    },
    {
     "name": "stdout",
     "output_type": "stream",
     "text": [
      "Percentage: 35\n",
      "\n",
      "Node: 0\n",
      "Percentage: 0\n",
      "\n",
      "Node: 29\n",
      "Error get_user: [{'code': 63, 'message': 'User has been suspended.'}]\n",
      "Percentage: 1\n",
      "\n",
      "Node: 6\n",
      "Percentage: 3\n",
      "\n",
      "Node: 60\n",
      "Error get_user: [{'code': 63, 'message': 'User has been suspended.'}]\n",
      "Percentage: 16\n",
      "\n",
      "Node: 112\n",
      "Error get_user: [{'code': 50, 'message': 'User not found.'}]\n",
      "Percentage: 33\n",
      "\n",
      "Node: 0\n",
      "Percentage: 0\n",
      "\n",
      "Node: 29\n",
      "Error get_user: [{'code': 50, 'message': 'User not found.'}]\n",
      "Percentage: 1\n",
      "\n",
      "Node: 15\n",
      "Error get_user: [{'code': 63, 'message': 'User has been suspended.'}]\n",
      "Percentage: 2\n",
      "\n",
      "Node: 34\n",
      "Error get_user: [{'code': 50, 'message': 'User not found.'}]\n",
      "Percentage: 9\n",
      "\n",
      "Node: 91\n",
      "Percentage: 62\n",
      "\n",
      "Node: 75\n",
      "Error get_user: [{'code': 50, 'message': 'User not found.'}]\n",
      "Percentage: 17\n",
      "\n",
      "Node: 40\n",
      "Percentage: 19\n",
      "\n",
      "Node: 0\n",
      "Percentage: 0\n",
      "\n",
      "Node: 81\n",
      "Error get_user: [{'code': 63, 'message': 'User has been suspended.'}]\n",
      "Percentage: 42\n",
      "\n",
      "Node: 14\n",
      "Percentage: 0\n",
      "\n",
      "Node: 33\n",
      "Percentage: 24\n",
      "\n",
      "Node: 84\n",
      "Error get_user: [{'code': 50, 'message': 'User not found.'}]\n",
      "Percentage: 8\n",
      "\n",
      "Node: 65\n",
      "Percentage: 59\n",
      "\n",
      "Node: 87\n",
      "Error get_user: [{'code': 50, 'message': 'User not found.'}]\n",
      "Percentage: 14\n",
      "\n",
      "Node: 8\n",
      "Percentage: 4\n",
      "\n",
      "Node: 35\n",
      "Percentage: 21\n",
      "\n",
      "Node: 72\n",
      "Percentage: 60\n",
      "\n",
      "Node: 44\n",
      "Error get_user: [{'code': 50, 'message': 'User not found.'}]\n",
      "Percentage: 8\n",
      "\n",
      "Node: 10\n",
      "Percentage: 0\n",
      "\n",
      "Node: 5\n",
      "Percentage: 1\n",
      "\n",
      "Node: 38\n",
      "Percentage: 16\n",
      "\n",
      "Node: 9\n",
      "Percentage: 0\n",
      "\n",
      "Node: 69\n",
      "Percentage: 66\n",
      "\n",
      "Node: 88\n",
      "Error get_user: [{'code': 50, 'message': 'User not found.'}]\n",
      "Percentage: 3\n"
     ]
    }
   ],
   "source": [
    "mentions_pol_count = mentions_politician_count(training_set)"
   ]
  },
  {
   "cell_type": "code",
   "execution_count": 33,
   "id": "plastic-clerk",
   "metadata": {
    "jupyter": {
     "source_hidden": true
    }
   },
   "outputs": [],
   "source": [
    "training_set['mentions_politician_count'] = mentions_pol_count"
   ]
  },
  {
   "cell_type": "code",
   "execution_count": null,
   "id": "concrete-while",
   "metadata": {
    "jupyter": {
     "source_hidden": true
    }
   },
   "outputs": [],
   "source": []
  },
  {
   "cell_type": "markdown",
   "id": "regulation-princeton",
   "metadata": {},
   "source": [
    "#### Calculations for the validation set"
   ]
  },
  {
   "cell_type": "code",
   "execution_count": 86,
   "id": "least-python",
   "metadata": {
    "collapsed": true,
    "jupyter": {
     "outputs_hidden": true,
     "source_hidden": true
    }
   },
   "outputs": [
    {
     "data": {
      "text/html": [
       "<div>\n",
       "<style scoped>\n",
       "    .dataframe tbody tr th:only-of-type {\n",
       "        vertical-align: middle;\n",
       "    }\n",
       "\n",
       "    .dataframe tbody tr th {\n",
       "        vertical-align: top;\n",
       "    }\n",
       "\n",
       "    .dataframe thead th {\n",
       "        text-align: right;\n",
       "    }\n",
       "</style>\n",
       "<table border=\"1\" class=\"dataframe\">\n",
       "  <thead>\n",
       "    <tr style=\"text-align: right;\">\n",
       "      <th></th>\n",
       "      <th>screen_name</th>\n",
       "      <th>name</th>\n",
       "      <th>description</th>\n",
       "      <th>statuses_count</th>\n",
       "      <th>recent_100_tweets</th>\n",
       "      <th>friends_count</th>\n",
       "      <th>recent_100_friends_nd</th>\n",
       "      <th>followers_count</th>\n",
       "      <th>default_profile_image</th>\n",
       "      <th>favourites_count</th>\n",
       "      <th>parliament_member</th>\n",
       "      <th>friends_politician_count_1000</th>\n",
       "      <th>followers_politician_count_1000</th>\n",
       "    </tr>\n",
       "  </thead>\n",
       "  <tbody>\n",
       "    <tr>\n",
       "      <th>0</th>\n",
       "      <td>papakostakater</td>\n",
       "      <td>ΚΑΤΕΡΙΝΑ ΠΑΠΑΚΩΣΤΑ - ΠΑΛΙΟΥΡΑ</td>\n",
       "      <td>Δικηγόρος ~ \\nΒουλευτής Νέας Δημοκρατίας Νομού...</td>\n",
       "      <td>77</td>\n",
       "      <td>RT @MarkopoulosChTh: The ReMARKables: Η Βουλε...</td>\n",
       "      <td>202</td>\n",
       "      <td>Markopoulos_Ch_Th | BA Communication Speciali...</td>\n",
       "      <td>159</td>\n",
       "      <td>False</td>\n",
       "      <td>94</td>\n",
       "      <td>1</td>\n",
       "      <td>98</td>\n",
       "      <td>13.0</td>\n",
       "    </tr>\n",
       "  </tbody>\n",
       "</table>\n",
       "</div>"
      ],
      "text/plain": [
       "      screen_name                           name  \\\n",
       "0  papakostakater  ΚΑΤΕΡΙΝΑ ΠΑΠΑΚΩΣΤΑ - ΠΑΛΙΟΥΡΑ   \n",
       "\n",
       "                                         description  statuses_count  \\\n",
       "0  Δικηγόρος ~ \\nΒουλευτής Νέας Δημοκρατίας Νομού...              77   \n",
       "\n",
       "                                   recent_100_tweets  friends_count  \\\n",
       "0   RT @MarkopoulosChTh: The ReMARKables: Η Βουλε...            202   \n",
       "\n",
       "                               recent_100_friends_nd  followers_count  \\\n",
       "0   Markopoulos_Ch_Th | BA Communication Speciali...              159   \n",
       "\n",
       "   default_profile_image  favourites_count  parliament_member  \\\n",
       "0                  False                94                  1   \n",
       "\n",
       "   friends_politician_count_1000  followers_politician_count_1000  \n",
       "0                             98                             13.0  "
      ]
     },
     "execution_count": 86,
     "metadata": {},
     "output_type": "execute_result"
    }
   ],
   "source": [
    "validation_set = pd.read_csv('../../../../datasets/Greek Politicians/classification/parliament_members_validation_set_enhanced.csv')\n",
    "validation_set.head(1)"
   ]
  },
  {
   "cell_type": "code",
   "execution_count": 85,
   "id": "contrary-waste",
   "metadata": {
    "collapsed": true,
    "jupyter": {
     "outputs_hidden": true,
     "source_hidden": true
    }
   },
   "outputs": [
    {
     "data": {
      "application/vnd.jupyter.widget-view+json": {
       "model_id": "584b69edf1af4bc08315fc3728886dc5",
       "version_major": 2,
       "version_minor": 0
      },
      "text/plain": [
       "  0%|          | 0/100 [00:00<?, ?it/s]"
      ]
     },
     "metadata": {},
     "output_type": "display_data"
    },
    {
     "name": "stdout",
     "output_type": "stream",
     "text": [
      "\n",
      "Node: 23\n",
      "Error get_user: [{'code': 50, 'message': 'User not found.'}]\n",
      "Percentage: 0\n",
      "\n",
      "Node: 97\n",
      "Percentage: 50\n",
      "\n",
      "Node: 39\n",
      "Percentage: 32\n",
      "\n",
      "Node: 78\n",
      "Error get_user: [{'code': 50, 'message': 'User not found.'}]\n",
      "Percentage: 22\n",
      "\n",
      "Node: 27\n",
      "Percentage: 6\n",
      "\n",
      "Node: 1\n",
      "Percentage: 0\n",
      "\n",
      "Node: 13\n",
      "Percentage: 12\n",
      "\n",
      "Node: 0\n",
      "Percentage: 0\n",
      "\n",
      "Node: 0\n",
      "Percentage: 0\n",
      "\n",
      "Node: 33\n",
      "Percentage: 9\n",
      "\n",
      "Node: 11\n",
      "Error get_user: [{'code': 50, 'message': 'User not found.'}]\n",
      "Percentage: 2\n",
      "\n",
      "Node: 2\n",
      "Percentage: 1\n",
      "\n",
      "Node: 0\n",
      "Percentage: 0\n",
      "\n",
      "Node: 12\n",
      "Error get_user: [{'code': 50, 'message': 'User not found.'}]\n",
      "Percentage: 3\n",
      "\n",
      "Node: 91\n",
      "Error get_user: [{'code': 63, 'message': 'User has been suspended.'}]\n",
      "Percentage: 9\n",
      "\n",
      "Node: 4\n",
      "Percentage: 1\n",
      "\n",
      "Node: 13\n",
      "Percentage: 12\n",
      "\n",
      "Node: 19\n",
      "Percentage: 2\n",
      "\n",
      "Node: 0\n",
      "Percentage: 0\n",
      "\n",
      "Node: 61\n",
      "Error get_user: [{'code': 50, 'message': 'User not found.'}]\n",
      "Percentage: 7\n",
      "\n",
      "Node: 51\n",
      "Error get_user: [{'code': 63, 'message': 'User has been suspended.'}]\n",
      "Percentage: 10\n",
      "\n",
      "Node: 83\n",
      "Error get_user: [{'code': 50, 'message': 'User not found.'}]\n",
      "Percentage: 33\n",
      "\n",
      "Node: 119\n",
      "Percentage: 89\n",
      "\n",
      "Node: 91\n",
      "Error get_user: [{'code': 50, 'message': 'User not found.'}]\n",
      "Percentage: 43\n",
      "\n",
      "Node: 44\n",
      "Percentage: 20\n",
      "\n",
      "Node: 20\n",
      "Percentage: 6\n",
      "\n",
      "Node: 31\n",
      "Error get_user: [{'code': 50, 'message': 'User not found.'}]\n",
      "Percentage: 8\n",
      "\n",
      "Node: 101\n",
      "Percentage: 68\n",
      "\n",
      "Node: 103\n",
      "Percentage: 89\n",
      "\n",
      "Node: 44\n"
     ]
    },
    {
     "name": "stderr",
     "output_type": "stream",
     "text": [
      "Rate limit reached. Sleeping for: 344\n"
     ]
    },
    {
     "name": "stdout",
     "output_type": "stream",
     "text": [
      "Percentage: 10\n",
      "\n",
      "Node: 90\n",
      "Percentage: 54\n",
      "\n",
      "Node: 19\n",
      "Percentage: 4\n",
      "\n",
      "Node: 6\n",
      "Percentage: 1\n",
      "\n",
      "Node: 87\n",
      "Percentage: 35\n",
      "\n",
      "Node: 2\n",
      "Percentage: 0\n",
      "\n",
      "Node: 0\n",
      "Percentage: 0\n",
      "\n",
      "Node: 30\n",
      "Error get_user: [{'code': 50, 'message': 'User not found.'}]\n",
      "Percentage: 11\n",
      "\n",
      "Node: 33\n",
      "Error get_user: [{'code': 50, 'message': 'User not found.'}]\n",
      "Percentage: 8\n",
      "\n",
      "Node: 12\n",
      "Percentage: 6\n",
      "\n",
      "Node: 0\n",
      "Percentage: 0\n",
      "\n",
      "Node: 62\n",
      "Error get_user: [{'code': 50, 'message': 'User not found.'}]\n",
      "Percentage: 12\n",
      "\n",
      "Node: 1\n",
      "Percentage: 1\n",
      "\n",
      "Node: 15\n",
      "Percentage: 13\n",
      "\n",
      "Node: 14\n",
      "Percentage: 1\n",
      "\n",
      "Node: 12\n",
      "Percentage: 5\n",
      "\n",
      "Node: 27\n",
      "Percentage: 11\n",
      "\n",
      "Node: 93\n",
      "Percentage: 46\n",
      "\n",
      "Node: 41\n",
      "Percentage: 3\n",
      "\n",
      "Node: 76\n",
      "Percentage: 19\n",
      "\n",
      "Node: 60\n",
      "Error get_user: [{'code': 50, 'message': 'User not found.'}]\n",
      "Percentage: 21\n",
      "\n",
      "Node: 0\n",
      "Percentage: 0\n",
      "\n",
      "Node: 35\n",
      "Error get_user: [{'code': 63, 'message': 'User has been suspended.'}]\n",
      "Percentage: 0\n",
      "\n",
      "Node: 0\n",
      "Percentage: 0\n",
      "\n",
      "Node: 20\n",
      "Error get_user: [{'code': 50, 'message': 'User not found.'}]\n",
      "Percentage: 1\n",
      "\n",
      "Node: 80\n",
      "Percentage: 0\n",
      "\n",
      "Node: 39\n",
      "Error get_user: [{'code': 50, 'message': 'User not found.'}]\n",
      "Percentage: 2\n",
      "\n",
      "Node: 34\n",
      "Error get_user: [{'code': 63, 'message': 'User has been suspended.'}]\n",
      "Percentage: 0\n",
      "\n",
      "Node: 48\n",
      "Error get_user: [{'code': 63, 'message': 'User has been suspended.'}]\n",
      "Percentage: 0\n",
      "\n",
      "Node: 4\n",
      "Percentage: 0\n",
      "\n",
      "Node: 0\n",
      "Percentage: 0\n",
      "\n",
      "Node: 0\n",
      "Percentage: 0\n",
      "\n",
      "Node: 59\n",
      "Percentage: 11\n",
      "\n",
      "Node: 0\n",
      "Percentage: 0\n",
      "\n",
      "Node: 109\n",
      "Error get_user: [{'code': 50, 'message': 'User not found.'}]\n",
      "Percentage: 6\n",
      "\n",
      "Node: 110\n"
     ]
    },
    {
     "name": "stderr",
     "output_type": "stream",
     "text": [
      "Rate limit reached. Sleeping for: 404\n"
     ]
    },
    {
     "name": "stdout",
     "output_type": "stream",
     "text": [
      "Percentage: 0\n",
      "\n",
      "Node: 100\n",
      "Percentage: 0\n",
      "\n",
      "Node: 254\n",
      "Error get_user: [{'code': 50, 'message': 'User not found.'}]\n",
      "Percentage: 1\n",
      "\n",
      "Node: 9\n",
      "Percentage: 0\n",
      "\n",
      "Node: 77\n",
      "Error get_user: [{'code': 50, 'message': 'User not found.'}]\n",
      "Percentage: 0\n",
      "\n",
      "Node: 9\n",
      "Percentage: 0\n",
      "\n",
      "Node: 8\n",
      "Percentage: 0\n",
      "\n",
      "Node: 0\n",
      "Percentage: 0\n",
      "\n",
      "Node: 5\n",
      "Percentage: 0\n",
      "\n",
      "Node: 0\n",
      "Percentage: 0\n",
      "\n",
      "Node: 47\n",
      "Error get_user: [{'code': 50, 'message': 'User not found.'}]\n",
      "Percentage: 4\n",
      "\n",
      "Node: 0\n",
      "Percentage: 0\n",
      "\n",
      "Node: 0\n",
      "Percentage: 0\n",
      "\n",
      "Node: 103\n",
      "Error get_user: [{'code': 50, 'message': 'User not found.'}]\n",
      "Percentage: 7\n",
      "\n",
      "Node: 105\n",
      "Error get_user: [{'code': 50, 'message': 'User not found.'}]\n",
      "Percentage: 0\n",
      "\n",
      "Node: 92\n",
      "Error get_user: [{'code': 50, 'message': 'User not found.'}]\n",
      "Percentage: 0\n",
      "\n",
      "Node: 104\n",
      "Error get_user: [{'code': 50, 'message': 'User not found.'}]\n",
      "Percentage: 0\n",
      "\n",
      "Node: 7\n",
      "Percentage: 0\n",
      "\n",
      "Node: 0\n",
      "Percentage: 0\n",
      "\n",
      "Node: 0\n",
      "Percentage: 0\n",
      "\n",
      "Node: 22\n",
      "Percentage: 2\n",
      "\n",
      "Node: 0\n",
      "Percentage: 0\n",
      "\n",
      "Node: 109\n",
      "Error get_user: [{'code': 50, 'message': 'User not found.'}]\n",
      "Percentage: 0\n",
      "\n",
      "Node: 0\n",
      "Percentage: 0\n",
      "\n",
      "Node: 106\n",
      "Error get_user: [{'code': 50, 'message': 'User not found.'}]\n",
      "Percentage: 2\n",
      "\n",
      "Node: 4\n",
      "Error get_user: [{'code': 50, 'message': 'User not found.'}]\n",
      "Percentage: 0\n",
      "\n",
      "Node: 192\n",
      "Error get_user: [{'code': 50, 'message': 'User not found.'}]\n",
      "Percentage: 0\n",
      "\n",
      "Node: 56\n",
      "Percentage: 8\n",
      "\n",
      "Node: 101\n",
      "Percentage: 1\n",
      "\n",
      "Node: 1\n",
      "Error get_user: [{'code': 50, 'message': 'User not found.'}]\n",
      "Percentage: 0\n",
      "\n",
      "Node: 0\n",
      "Percentage: 0\n",
      "\n",
      "Node: 172\n"
     ]
    },
    {
     "name": "stderr",
     "output_type": "stream",
     "text": [
      "Rate limit reached. Sleeping for: 402\n"
     ]
    },
    {
     "name": "stdout",
     "output_type": "stream",
     "text": [
      "Percentage: 6\n",
      "\n",
      "Node: 138\n",
      "Error get_user: [{'code': 50, 'message': 'User not found.'}]\n",
      "Percentage: 0\n",
      "\n",
      "Node: 82\n",
      "Error get_user: [{'code': 50, 'message': 'User not found.'}]\n",
      "Percentage: 0\n",
      "\n",
      "Node: 19\n",
      "Error get_user: [{'code': 50, 'message': 'User not found.'}]\n",
      "Percentage: 0\n",
      "\n",
      "Node: 22\n",
      "Error get_user: [{'code': 63, 'message': 'User has been suspended.'}]\n",
      "Percentage: 0\n"
     ]
    }
   ],
   "source": [
    "mentions_pol_count = mentions_politician_count(validation_set)"
   ]
  },
  {
   "cell_type": "code",
   "execution_count": 87,
   "id": "bored-enough",
   "metadata": {},
   "outputs": [
    {
     "data": {
      "text/html": [
       "<div>\n",
       "<style scoped>\n",
       "    .dataframe tbody tr th:only-of-type {\n",
       "        vertical-align: middle;\n",
       "    }\n",
       "\n",
       "    .dataframe tbody tr th {\n",
       "        vertical-align: top;\n",
       "    }\n",
       "\n",
       "    .dataframe thead th {\n",
       "        text-align: right;\n",
       "    }\n",
       "</style>\n",
       "<table border=\"1\" class=\"dataframe\">\n",
       "  <thead>\n",
       "    <tr style=\"text-align: right;\">\n",
       "      <th></th>\n",
       "      <th>screen_name</th>\n",
       "      <th>name</th>\n",
       "      <th>description</th>\n",
       "      <th>statuses_count</th>\n",
       "      <th>recent_100_tweets</th>\n",
       "      <th>friends_count</th>\n",
       "      <th>recent_100_friends_nd</th>\n",
       "      <th>followers_count</th>\n",
       "      <th>default_profile_image</th>\n",
       "      <th>favourites_count</th>\n",
       "      <th>parliament_member</th>\n",
       "      <th>friends_politician_count_1000</th>\n",
       "      <th>followers_politician_count_1000</th>\n",
       "      <th>mentions_politician_count</th>\n",
       "    </tr>\n",
       "  </thead>\n",
       "  <tbody>\n",
       "    <tr>\n",
       "      <th>0</th>\n",
       "      <td>papakostakater</td>\n",
       "      <td>ΚΑΤΕΡΙΝΑ ΠΑΠΑΚΩΣΤΑ - ΠΑΛΙΟΥΡΑ</td>\n",
       "      <td>Δικηγόρος ~ \\nΒουλευτής Νέας Δημοκρατίας Νομού...</td>\n",
       "      <td>77</td>\n",
       "      <td>RT @MarkopoulosChTh: The ReMARKables: Η Βουλε...</td>\n",
       "      <td>202</td>\n",
       "      <td>Markopoulos_Ch_Th | BA Communication Speciali...</td>\n",
       "      <td>159</td>\n",
       "      <td>False</td>\n",
       "      <td>94</td>\n",
       "      <td>1</td>\n",
       "      <td>98</td>\n",
       "      <td>13.0</td>\n",
       "      <td>0</td>\n",
       "    </tr>\n",
       "  </tbody>\n",
       "</table>\n",
       "</div>"
      ],
      "text/plain": [
       "      screen_name                           name  \\\n",
       "0  papakostakater  ΚΑΤΕΡΙΝΑ ΠΑΠΑΚΩΣΤΑ - ΠΑΛΙΟΥΡΑ   \n",
       "\n",
       "                                         description  statuses_count  \\\n",
       "0  Δικηγόρος ~ \\nΒουλευτής Νέας Δημοκρατίας Νομού...              77   \n",
       "\n",
       "                                   recent_100_tweets  friends_count  \\\n",
       "0   RT @MarkopoulosChTh: The ReMARKables: Η Βουλε...            202   \n",
       "\n",
       "                               recent_100_friends_nd  followers_count  \\\n",
       "0   Markopoulos_Ch_Th | BA Communication Speciali...              159   \n",
       "\n",
       "   default_profile_image  favourites_count  parliament_member  \\\n",
       "0                  False                94                  1   \n",
       "\n",
       "   friends_politician_count_1000  followers_politician_count_1000  \\\n",
       "0                             98                             13.0   \n",
       "\n",
       "   mentions_politician_count  \n",
       "0                          0  "
      ]
     },
     "execution_count": 87,
     "metadata": {},
     "output_type": "execute_result"
    }
   ],
   "source": [
    "validation_set['mentions_politician_count'] = mentions_pol_count\n",
    "validation_set.head(1)"
   ]
  },
  {
   "cell_type": "code",
   "execution_count": 88,
   "id": "verbal-compromise",
   "metadata": {},
   "outputs": [],
   "source": [
    "validation_set.to_csv('../../../../datasets/Greek Politicians/classification/parliament_members_validation_set_enhanced.csv', index=False)"
   ]
  }
 ],
 "metadata": {
  "kernelspec": {
   "display_name": "Python 3",
   "language": "python",
   "name": "python3"
  },
  "language_info": {
   "codemirror_mode": {
    "name": "ipython",
    "version": 3
   },
   "file_extension": ".py",
   "mimetype": "text/x-python",
   "name": "python",
   "nbconvert_exporter": "python",
   "pygments_lexer": "ipython3",
   "version": "3.8.5"
  }
 },
 "nbformat": 4,
 "nbformat_minor": 5
}
