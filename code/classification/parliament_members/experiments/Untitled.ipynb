{
 "cells": [
  {
   "cell_type": "code",
   "execution_count": 1,
   "id": "double-circular",
   "metadata": {},
   "outputs": [],
   "source": [
    "import json\n",
    "import pandas as pd\n",
    "\n",
    "from batoomer.twitter_nodes import classification\n",
    "from batoomer.extras.fo_utils import get_data_parl_fo\n",
    "from batoomer.extras.fr_utils import get_data_parl_fr\n",
    "from batoomer.extras.nd_utils import get_text_data_parl_nd\n",
    "from batoomer.extras.tme_utils import get_numeric_data_parl_tme, get_text_data_parl_tme"
   ]
  },
  {
   "cell_type": "code",
   "execution_count": 2,
   "id": "special-junior",
   "metadata": {},
   "outputs": [],
   "source": [
    "twitter_credentials = []\n",
    "with open('../../../../twitter_credentials.json', 'r') as f:\n",
    "    twitter_credentials = json.load(f)"
   ]
  },
  {
   "cell_type": "code",
   "execution_count": 3,
   "id": "dominant-contest",
   "metadata": {},
   "outputs": [
    {
     "name": "stdout",
     "output_type": "stream",
     "text": [
      "\n",
      "Loading classifer: classifier_parl_nd\n"
     ]
    },
    {
     "name": "stderr",
     "output_type": "stream",
     "text": [
      "Fetching names and descriptions:   0%|          | 0/9 [00:00<?, ?it/s]"
     ]
    },
    {
     "name": "stdout",
     "output_type": "stream",
     "text": [
      "Loading successful.\n",
      "\n",
      "\n",
      "Fetching Required Data For Model ND.\n"
     ]
    },
    {
     "name": "stderr",
     "output_type": "stream",
     "text": [
      "                                                                              \r"
     ]
    },
    {
     "name": "stdout",
     "output_type": "stream",
     "text": [
      "Fetching completed.\n",
      "\n",
      "\n",
      "Starting Classification.\n",
      "Classification ended.\n",
      "\n"
     ]
    },
    {
     "data": {
      "text/plain": [
       "array([1, 1, 1, 1, 1, 1, 1, 0, 0])"
      ]
     },
     "execution_count": 3,
     "metadata": {},
     "output_type": "execute_result"
    }
   ],
   "source": [
    "clf = classification.Classifier('classifier_parl_nd', twitter_credentials, 1)\n",
    "nodes = ['neademokratia', 'syriza_gr', 'kinimallagis', 'ellinikilisi', 'govgr', 'labourgovgr', 'ypesgr', 'YpYgGR', 'AthensMayor']\n",
    "clf.predict(nodes)"
   ]
  },
  {
   "cell_type": "code",
   "execution_count": 4,
   "id": "aquatic-court",
   "metadata": {},
   "outputs": [
    {
     "name": "stdout",
     "output_type": "stream",
     "text": [
      "\n",
      "Loading classifer: classifier_parl_nd\n",
      "Loading successful.\n",
      "\n",
      "\n",
      "Loading classifer: classifier_parl_tme\n",
      "Loading successful.\n",
      "\n",
      "\n",
      "Loading classifer: classifier_parl_fr\n",
      "Loading successful.\n",
      "\n"
     ]
    },
    {
     "name": "stderr",
     "output_type": "stream",
     "text": [
      "Fetching names and descriptions:   0%|          | 0/9 [00:00<?, ?it/s]"
     ]
    },
    {
     "name": "stdout",
     "output_type": "stream",
     "text": [
      "\n",
      "Loading classifer: classifier_parl_fo\n",
      "Loading successful.\n",
      "\n",
      "Starting Predictions of Probabilities.\n",
      "\n",
      "Fetching Required Data For Model ND.\n"
     ]
    },
    {
     "name": "stderr",
     "output_type": "stream",
     "text": [
      "                                                                              \r"
     ]
    },
    {
     "name": "stdout",
     "output_type": "stream",
     "text": [
      "Fetching completed.\n",
      "\n"
     ]
    },
    {
     "name": "stderr",
     "output_type": "stream",
     "text": [
      "Fetching Statuses:   0%|          | 0/9 [00:00<?, ?it/s]"
     ]
    },
    {
     "name": "stdout",
     "output_type": "stream",
     "text": [
      "\n",
      "Fetching Statuses.\n"
     ]
    },
    {
     "name": "stderr",
     "output_type": "stream",
     "text": [
      "                                                                \r"
     ]
    },
    {
     "name": "stdout",
     "output_type": "stream",
     "text": [
      "Fetching completed.\n",
      "\n"
     ]
    },
    {
     "name": "stderr",
     "output_type": "stream",
     "text": [
      "Calculating mentions parliament member count:   0%|          | 0/9 [00:00<?, ?it/s]"
     ]
    },
    {
     "name": "stdout",
     "output_type": "stream",
     "text": [
      "\n",
      "Calculating number of mentions that are parliament members. This will take some time.\n"
     ]
    },
    {
     "name": "stderr",
     "output_type": "stream",
     "text": [
      "                                                                                           \r"
     ]
    },
    {
     "name": "stdout",
     "output_type": "stream",
     "text": [
      "Calculations completed.\n",
      "\n",
      "\n",
      "Starting Predictions of Probabilities.\n"
     ]
    },
    {
     "name": "stderr",
     "output_type": "stream",
     "text": [
      "Calculating friends parliament member count.:   0%|          | 0/9 [00:00<?, ?it/s]"
     ]
    },
    {
     "name": "stdout",
     "output_type": "stream",
     "text": [
      "Prediction ended.\n",
      "\n",
      "\n",
      "Calculating number of friends that are parliament members. This will take some time.\n"
     ]
    },
    {
     "name": "stderr",
     "output_type": "stream",
     "text": [
      "Calculating followers parliament member count.:   0%|          | 0/9 [00:00<?, ?it/s]      "
     ]
    },
    {
     "name": "stdout",
     "output_type": "stream",
     "text": [
      "Calculations completed.\n",
      "\n",
      "\n",
      "Starting Predictions of Probabilities.\n",
      "Prediction ended.\n",
      "\n",
      "\n",
      "Calculating number of followers that are parliament members. This will take some time.\n"
     ]
    },
    {
     "name": "stderr",
     "output_type": "stream",
     "text": [
      "                                                                                             "
     ]
    },
    {
     "name": "stdout",
     "output_type": "stream",
     "text": [
      "Calculations completed.\n",
      "\n",
      "\n",
      "Starting Predictions of Probabilities.\n",
      "Prediction ended.\n",
      "\n",
      "Starting Calculation of Weights.\n"
     ]
    },
    {
     "name": "stderr",
     "output_type": "stream",
     "text": [
      "\r"
     ]
    },
    {
     "data": {
      "text/plain": [
       "array([1, 1, 1, 1, 1, 1, 1, 1, 1])"
      ]
     },
     "execution_count": 4,
     "metadata": {},
     "output_type": "execute_result"
    }
   ],
   "source": [
    "clf = classification.VotingClassifier(twitter_credentials, 1)\n",
    "nodes = ['neademokratia', 'syriza_gr', 'kinimallagis', 'ellinikilisi', 'govgr', 'labourgovgr', 'ypesgr', 'YpYgGR', 'AthensMayor']\n",
    "clf.predict(nodes)"
   ]
  }
 ],
 "metadata": {
  "kernelspec": {
   "display_name": "Python 3",
   "language": "python",
   "name": "python3"
  },
  "language_info": {
   "codemirror_mode": {
    "name": "ipython",
    "version": 3
   },
   "file_extension": ".py",
   "mimetype": "text/x-python",
   "name": "python",
   "nbconvert_exporter": "python",
   "pygments_lexer": "ipython3",
   "version": "3.8.5"
  }
 },
 "nbformat": 4,
 "nbformat_minor": 5
}
