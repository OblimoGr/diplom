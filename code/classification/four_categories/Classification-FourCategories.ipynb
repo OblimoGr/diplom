{
 "cells": [
  {
   "cell_type": "markdown",
   "id": "sporting-refrigerator",
   "metadata": {},
   "source": [
    "# Classification: Four Categories\n",
    "---\n",
    "Libraries:"
   ]
  },
  {
   "cell_type": "code",
   "execution_count": 15,
   "id": "pressing-vaccine",
   "metadata": {},
   "outputs": [],
   "source": [
    "import pandas as pd\n",
    "import numpy as np\n",
    "import spacy\n",
    "\n",
    "from sklearn.metrics import classification_report\n",
    "from sklearn.feature_extraction.text import TfidfVectorizer\n",
    "\n",
    "import joblib\n",
    "from sklearn.manifold import TSNE\n",
    "\n",
    "import matplotlib.pyplot as plt\n",
    "import seaborn as sns\n",
    "\n",
    "from sklearn.metrics import plot_confusion_matrix\n",
    "from sklearn.metrics import confusion_matrix"
   ]
  },
  {
   "cell_type": "markdown",
   "id": "constitutional-edgar",
   "metadata": {},
   "source": [
    "Functions:"
   ]
  },
  {
   "cell_type": "code",
   "execution_count": 16,
   "id": "strange-position",
   "metadata": {},
   "outputs": [],
   "source": [
    "# Function For Text Normalization\n",
    "def clean_text(data):\n",
    "    urls = r'http\\S+'\n",
    "    non_unicode_char = r'\\W'\n",
    "    numbers = r'[0-9_]'\n",
    "    fix_whitespace = r'\\s+'\n",
    "    single_whitespace = ' '\n",
    "    \n",
    "    data = (data.replace([urls], single_whitespace, regex=True)\n",
    "                    .replace([non_unicode_char, numbers], single_whitespace, regex=True)\n",
    "                    .replace(fix_whitespace, single_whitespace, regex=True))\n",
    "    data = data.apply(lambda s: s.lower() if type(s) == str else s)\n",
    "    return data\n",
    "\n",
    "# NLP Functions\n",
    "nlp_el = spacy.load('el_core_news_md')\n",
    "nlp_en = spacy.load('en_core_web_sm')\n",
    "STOPWORDS = set(list(spacy.lang.en.STOP_WORDS) + list(spacy.lang.el.STOP_WORDS))\n",
    "\n",
    "def remove_stopwords(row):\n",
    "    row = [str(token) for token in nlp_el(row)]\n",
    "    return [w for w in row if w not in STOPWORDS]\n",
    "\n",
    "def tokenize_lemmatize(row):\n",
    "    return [str(token.lemma_) for token in nlp_el(row)]\n",
    "\n",
    "def tokenize_lemmatize_en(row):\n",
    "    return [str(token.lemma_) for token in nlp_en(row)]"
   ]
  },
  {
   "cell_type": "markdown",
   "id": "soviet-stephen",
   "metadata": {},
   "source": [
    "Load Dataset:"
   ]
  },
  {
   "cell_type": "code",
   "execution_count": 17,
   "id": "nuclear-admission",
   "metadata": {},
   "outputs": [
    {
     "data": {
      "text/html": [
       "<div>\n",
       "<style scoped>\n",
       "    .dataframe tbody tr th:only-of-type {\n",
       "        vertical-align: middle;\n",
       "    }\n",
       "\n",
       "    .dataframe tbody tr th {\n",
       "        vertical-align: top;\n",
       "    }\n",
       "\n",
       "    .dataframe thead th {\n",
       "        text-align: right;\n",
       "    }\n",
       "</style>\n",
       "<table border=\"1\" class=\"dataframe\">\n",
       "  <thead>\n",
       "    <tr style=\"text-align: right;\">\n",
       "      <th></th>\n",
       "      <th>Username</th>\n",
       "      <th>Profile name</th>\n",
       "      <th>Description</th>\n",
       "      <th>Recent Tweet</th>\n",
       "      <th>Recent 10 tweets</th>\n",
       "      <th>Recent 50 tweets</th>\n",
       "      <th>Recent 100 tweets</th>\n",
       "      <th>Tweets count</th>\n",
       "      <th>Favourites count</th>\n",
       "      <th>Followers count</th>\n",
       "      <th>Following count</th>\n",
       "      <th>Lists count</th>\n",
       "      <th>Created at</th>\n",
       "      <th>Category</th>\n",
       "    </tr>\n",
       "  </thead>\n",
       "  <tbody>\n",
       "    <tr>\n",
       "      <th>0</th>\n",
       "      <td>SiaravaHotel</td>\n",
       "      <td>Hotel Siarava</td>\n",
       "      <td>Located next to the lake of Ioannina, the trad...</td>\n",
       "      <td>Επισκεφθείτε τα Γιάννενα την Άνοιξη!\\n\\n#hotel...</td>\n",
       "      <td>Επισκεφθείτε τα Γιάννενα την Άνοιξη!\\n\\n#hote...</td>\n",
       "      <td>Επισκεφθείτε τα Γιάννενα την Άνοιξη!\\n\\n#hote...</td>\n",
       "      <td>Επισκεφθείτε τα Γιάννενα την Άνοιξη!\\n\\n#hote...</td>\n",
       "      <td>119</td>\n",
       "      <td>283</td>\n",
       "      <td>213</td>\n",
       "      <td>263</td>\n",
       "      <td>8</td>\n",
       "      <td>2014-07-22 11:32:49</td>\n",
       "      <td>Tourism</td>\n",
       "    </tr>\n",
       "    <tr>\n",
       "      <th>1</th>\n",
       "      <td>10DowningStreet</td>\n",
       "      <td>UK Prime Minister</td>\n",
       "      <td>Official page for Prime Minister @BorisJohnson...</td>\n",
       "      <td>Want to ask a minister a question about corona...</td>\n",
       "      <td>RT @BorisJohnson: Superb news that we’ve admi...</td>\n",
       "      <td>RT @BorisJohnson: Superb news that we’ve admi...</td>\n",
       "      <td>RT @BorisJohnson: Superb news that we’ve admi...</td>\n",
       "      <td>15922</td>\n",
       "      <td>1770</td>\n",
       "      <td>5850810</td>\n",
       "      <td>278</td>\n",
       "      <td>22101</td>\n",
       "      <td>2008-03-26 11:16:02</td>\n",
       "      <td>Politics</td>\n",
       "    </tr>\n",
       "    <tr>\n",
       "      <th>2</th>\n",
       "      <td>Cornell</td>\n",
       "      <td>Cornell University</td>\n",
       "      <td>Learning. Discovery. Engagement. Join the #Cor...</td>\n",
       "      <td>Architect Martin Miller from @CornellAAP discu...</td>\n",
       "      <td>New proposals to expand access to telehealth ...</td>\n",
       "      <td>New proposals to expand access to telehealth ...</td>\n",
       "      <td>New proposals to expand access to telehealth ...</td>\n",
       "      <td>20209</td>\n",
       "      <td>15097</td>\n",
       "      <td>314832</td>\n",
       "      <td>547</td>\n",
       "      <td>2495</td>\n",
       "      <td>2008-11-13 17:12:07</td>\n",
       "      <td>Education</td>\n",
       "    </tr>\n",
       "    <tr>\n",
       "      <th>3</th>\n",
       "      <td>lxblk</td>\n",
       "      <td>Alex Black</td>\n",
       "      <td>Assistant Professor of English at Hobart and W...</td>\n",
       "      <td>RT @arithmatelle: In our newest #C19Podcast, @...</td>\n",
       "      <td>RT @arithmatelle: In our newest #C19Podcast, ...</td>\n",
       "      <td>RT @arithmatelle: In our newest #C19Podcast, ...</td>\n",
       "      <td>RT @arithmatelle: In our newest #C19Podcast, ...</td>\n",
       "      <td>63</td>\n",
       "      <td>16</td>\n",
       "      <td>144</td>\n",
       "      <td>454</td>\n",
       "      <td>2</td>\n",
       "      <td>2011-09-19 15:24:23</td>\n",
       "      <td>Education</td>\n",
       "    </tr>\n",
       "    <tr>\n",
       "      <th>4</th>\n",
       "      <td>MJSHChicago</td>\n",
       "      <td>MJ's Steak House</td>\n",
       "      <td>Michael Jordan's Steak House Chicago features ...</td>\n",
       "      <td>@wildmiya We hope you could please your palate...</td>\n",
       "      <td>@wildmiya We hope you could please your palat...</td>\n",
       "      <td>@wildmiya We hope you could please your palat...</td>\n",
       "      <td>@wildmiya We hope you could please your palat...</td>\n",
       "      <td>8814</td>\n",
       "      <td>2200</td>\n",
       "      <td>3712</td>\n",
       "      <td>2814</td>\n",
       "      <td>86</td>\n",
       "      <td>2011-04-28 19:01:27</td>\n",
       "      <td>Foodservice</td>\n",
       "    </tr>\n",
       "  </tbody>\n",
       "</table>\n",
       "</div>"
      ],
      "text/plain": [
       "          Username        Profile name  \\\n",
       "0     SiaravaHotel       Hotel Siarava   \n",
       "1  10DowningStreet   UK Prime Minister   \n",
       "2          Cornell  Cornell University   \n",
       "3            lxblk          Alex Black   \n",
       "4      MJSHChicago    MJ's Steak House   \n",
       "\n",
       "                                         Description  \\\n",
       "0  Located next to the lake of Ioannina, the trad...   \n",
       "1  Official page for Prime Minister @BorisJohnson...   \n",
       "2  Learning. Discovery. Engagement. Join the #Cor...   \n",
       "3  Assistant Professor of English at Hobart and W...   \n",
       "4  Michael Jordan's Steak House Chicago features ...   \n",
       "\n",
       "                                        Recent Tweet  \\\n",
       "0  Επισκεφθείτε τα Γιάννενα την Άνοιξη!\\n\\n#hotel...   \n",
       "1  Want to ask a minister a question about corona...   \n",
       "2  Architect Martin Miller from @CornellAAP discu...   \n",
       "3  RT @arithmatelle: In our newest #C19Podcast, @...   \n",
       "4  @wildmiya We hope you could please your palate...   \n",
       "\n",
       "                                    Recent 10 tweets  \\\n",
       "0   Επισκεφθείτε τα Γιάννενα την Άνοιξη!\\n\\n#hote...   \n",
       "1   RT @BorisJohnson: Superb news that we’ve admi...   \n",
       "2   New proposals to expand access to telehealth ...   \n",
       "3   RT @arithmatelle: In our newest #C19Podcast, ...   \n",
       "4   @wildmiya We hope you could please your palat...   \n",
       "\n",
       "                                    Recent 50 tweets  \\\n",
       "0   Επισκεφθείτε τα Γιάννενα την Άνοιξη!\\n\\n#hote...   \n",
       "1   RT @BorisJohnson: Superb news that we’ve admi...   \n",
       "2   New proposals to expand access to telehealth ...   \n",
       "3   RT @arithmatelle: In our newest #C19Podcast, ...   \n",
       "4   @wildmiya We hope you could please your palat...   \n",
       "\n",
       "                                   Recent 100 tweets  Tweets count  \\\n",
       "0   Επισκεφθείτε τα Γιάννενα την Άνοιξη!\\n\\n#hote...           119   \n",
       "1   RT @BorisJohnson: Superb news that we’ve admi...         15922   \n",
       "2   New proposals to expand access to telehealth ...         20209   \n",
       "3   RT @arithmatelle: In our newest #C19Podcast, ...            63   \n",
       "4   @wildmiya We hope you could please your palat...          8814   \n",
       "\n",
       "   Favourites count  Followers count  Following count  Lists count  \\\n",
       "0               283              213              263            8   \n",
       "1              1770          5850810              278        22101   \n",
       "2             15097           314832              547         2495   \n",
       "3                16              144              454            2   \n",
       "4              2200             3712             2814           86   \n",
       "\n",
       "            Created at     Category  \n",
       "0  2014-07-22 11:32:49      Tourism  \n",
       "1  2008-03-26 11:16:02     Politics  \n",
       "2  2008-11-13 17:12:07    Education  \n",
       "3  2011-09-19 15:24:23    Education  \n",
       "4  2011-04-28 19:01:27  Foodservice  "
      ]
     },
     "execution_count": 17,
     "metadata": {},
     "output_type": "execute_result"
    }
   ],
   "source": [
    "validation_set = pd.read_csv('../../../datasets/Four-categories/four-categories-validation-set.csv')\n",
    "validation_set = validation_set.replace(np.nan, '')\n",
    "validation_set.head()"
   ]
  },
  {
   "cell_type": "code",
   "execution_count": 18,
   "id": "subsequent-saskatchewan",
   "metadata": {},
   "outputs": [],
   "source": [
    "# Variable to Hold predicted labels \n",
    "predictions = pd.DataFrame()\n",
    "predictions['screen_name'] = validation_set['Username']\n",
    "predictions['true_label'] = validation_set['Category']"
   ]
  },
  {
   "cell_type": "code",
   "execution_count": 12,
   "id": "fifteen-shareware",
   "metadata": {},
   "outputs": [],
   "source": [
    "codes = {'Tourism':0, 'Foodservice':1, 'Politics':2, 'Education': 4}\n",
    "validation_set['Category'] = validation_set['Category'].map(codes)"
   ]
  },
  {
   "cell_type": "markdown",
   "id": "waiting-journey",
   "metadata": {},
   "source": [
    "# Case 1: Name and Description of a Node\n",
    "---"
   ]
  },
  {
   "cell_type": "code",
   "execution_count": 21,
   "id": "joint-makeup",
   "metadata": {},
   "outputs": [
    {
     "name": "stdout",
     "output_type": "stream",
     "text": [
      "              precision    recall  f1-score   support\n",
      "\n",
      "     Tourism       1.00      1.00      1.00        25\n",
      " Foodservice       1.00      0.96      0.98        25\n",
      "    Politics       0.96      1.00      0.98        25\n",
      "   Education       1.00      1.00      1.00        25\n",
      "\n",
      "    accuracy                           0.99       100\n",
      "   macro avg       0.99      0.99      0.99       100\n",
      "weighted avg       0.99      0.99      0.99       100\n",
      "\n"
     ]
    },
    {
     "data": {
      "text/plain": [
       "<sklearn.metrics._plot.confusion_matrix.ConfusionMatrixDisplay at 0x7fe350cb9e50>"
      ]
     },
     "execution_count": 21,
     "metadata": {},
     "output_type": "execute_result"
    },
    {
     "data": {
      "image/png": "[encoded data removed]",
      "text/plain": [
       "<Figure size 432x288 with 2 Axes>"
      ]
     },
     "metadata": {
      "needs_background": "light"
     },
     "output_type": "display_data"
    }
   ],
   "source": [
    "def get_text_data_fourcateg_nd(df):\n",
    "    df['textdata'] = clean_text(df['Profile name'] + ' ' + df['Description'])\n",
    "    df['textdata'] = df['textdata'].apply(lambda row: tokenize_lemmatize(row))\n",
    "    df['textdata'] = df['textdata'].apply(lambda row: ' '.join(row))\n",
    "    df['textdata'] = df['textdata'].apply(lambda row: tokenize_lemmatize_en(row))\n",
    "    df['textdata'] = df['textdata'].apply(lambda row: ' '.join(row))\n",
    "    df['textdata'] = df['textdata'].apply(lambda row: remove_stopwords(row))\n",
    "    df['textdata'] = df['textdata'].apply(lambda row: ' '.join(row))\n",
    "    \n",
    "    return df.textdata\n",
    "\n",
    "# Load the model\n",
    "model_nd = joblib.load('classifiers/classifier_fourcateg_nd.sav')\n",
    "\n",
    "target_names = ['Tourism', 'Foodservice', 'Politics', 'Education']\n",
    "predicted_labels = model_nd.predict(validation_set)\n",
    "print(classification_report(y_true = validation_set.Category, y_pred=predicted_labels, target_names=target_names))\n",
    "plot_confusion_matrix(model_nd, validation_set, validation_set.Category, display_labels=target_names, xticks_rotation=45, cmap=plt.cm.Blues)"
   ]
  },
  {
   "cell_type": "code",
   "execution_count": 22,
   "id": "chief-religion",
   "metadata": {},
   "outputs": [],
   "source": [
    "predictions['nd'] = predicted_labels"
   ]
  },
  {
   "cell_type": "markdown",
   "id": "established-jewelry",
   "metadata": {},
   "source": [
    "# Case 2: Recent 100 Tweets of a Node\n",
    "---"
   ]
  },
  {
   "cell_type": "markdown",
   "id": "common-lunch",
   "metadata": {},
   "source": [
    "## Only Tweets"
   ]
  },
  {
   "cell_type": "code",
   "execution_count": 23,
   "id": "arranged-voltage",
   "metadata": {},
   "outputs": [
    {
     "name": "stdout",
     "output_type": "stream",
     "text": [
      "              precision    recall  f1-score   support\n",
      "\n",
      "     Tourism       1.00      0.92      0.96        25\n",
      " Foodservice       0.86      1.00      0.93        25\n",
      "    Politics       0.96      0.96      0.96        25\n",
      "   Education       0.96      0.88      0.92        25\n",
      "\n",
      "    accuracy                           0.94       100\n",
      "   macro avg       0.94      0.94      0.94       100\n",
      "weighted avg       0.94      0.94      0.94       100\n",
      "\n"
     ]
    },
    {
     "data": {
      "image/png": "[encoded data removed]",
      "text/plain": [
       "<Figure size 432x288 with 2 Axes>"
      ]
     },
     "metadata": {
      "needs_background": "light"
     },
     "output_type": "display_data"
    }
   ],
   "source": [
    "def get_text_data_t(df):\n",
    "    df['textdata'] = clean_text(df['Recent 100 tweets'])\n",
    "    df['textdata'] = df['textdata'].apply(lambda row: tokenize_lemmatize(row))\n",
    "    df['textdata'] = df['textdata'].apply(lambda row: ' '.join(row))\n",
    "    df['textdata'] = df['textdata'].apply(lambda row: tokenize_lemmatize_en(row))\n",
    "    df['textdata'] = df['textdata'].apply(lambda row: ' '.join(row))\n",
    "    df['textdata'] = df['textdata'].apply(lambda row: remove_stopwords(row))\n",
    "    df['textdata'] = df['textdata'].apply(lambda row: ' '.join(row))\n",
    "    return df.textdata\n",
    "\n",
    "\n",
    "# Load the model\n",
    "model_t = joblib.load('classifiers/classifier_fourcateg_t.sav')\n",
    "\n",
    "target_names = ['Tourism', 'Foodservice', 'Politics', 'Education']\n",
    "predicted_labels = model_t.predict(validation_set)\n",
    "print(classification_report(y_true = validation_set.Category, y_pred=predicted_labels, target_names=target_names))\n",
    "plot_confusion_matrix(model_t, validation_set, validation_set.Category, display_labels=target_names, xticks_rotation=45, cmap=plt.cm.Blues)\n",
    "\n",
    "predictions['t'] = predicted_labels"
   ]
  },
  {
   "cell_type": "markdown",
   "id": "grave-arrest",
   "metadata": {},
   "source": [
    "## Name, Description and Tweets"
   ]
  },
  {
   "cell_type": "code",
   "execution_count": 24,
   "id": "requested-douglas",
   "metadata": {},
   "outputs": [
    {
     "name": "stdout",
     "output_type": "stream",
     "text": [
      "              precision    recall  f1-score   support\n",
      "\n",
      "     Tourism       1.00      1.00      1.00        25\n",
      " Foodservice       1.00      1.00      1.00        25\n",
      "    Politics       0.96      1.00      0.98        25\n",
      "   Education       1.00      0.96      0.98        25\n",
      "\n",
      "    accuracy                           0.99       100\n",
      "   macro avg       0.99      0.99      0.99       100\n",
      "weighted avg       0.99      0.99      0.99       100\n",
      "\n"
     ]
    },
    {
     "data": {
      "image/png": "[encoded data removed]",
      "text/plain": [
       "<Figure size 432x288 with 2 Axes>"
      ]
     },
     "metadata": {
      "needs_background": "light"
     },
     "output_type": "display_data"
    }
   ],
   "source": [
    "def get_text_data_ndt(df):\n",
    "    df['textdata'] = clean_text(df['Profile name'] + ' ' + df['Description'] + ' ' + df['Recent 100 tweets'])\n",
    "    df['textdata'] = df['textdata'].apply(lambda row: tokenize_lemmatize(row))\n",
    "    df['textdata'] = df['textdata'].apply(lambda row: ' '.join(row))\n",
    "    df['textdata'] = df['textdata'].apply(lambda row: tokenize_lemmatize_en(row))\n",
    "    df['textdata'] = df['textdata'].apply(lambda row: ' '.join(row))\n",
    "    df['textdata'] = df['textdata'].apply(lambda row: remove_stopwords(row))\n",
    "    df['textdata'] = df['textdata'].apply(lambda row: ' '.join(row))\n",
    "    return df.textdata\n",
    "\n",
    "# Load the model\n",
    "model_ndt = joblib.load('classifiers/classifier_fourcateg_ndt.sav')\n",
    "\n",
    "target_names = ['Tourism', 'Foodservice', 'Politics', 'Education']\n",
    "predicted_labels = model_ndt.predict(validation_set)\n",
    "print(classification_report(y_true = validation_set.Category, y_pred=predicted_labels, target_names=target_names))\n",
    "plot_confusion_matrix(model_ndt, validation_set, validation_set.Category, display_labels=target_names, xticks_rotation=45, cmap=plt.cm.Blues)\n",
    "\n",
    "predictions['ndt'] = predicted_labels"
   ]
  },
  {
   "cell_type": "code",
   "execution_count": 28,
   "id": "smooth-science",
   "metadata": {},
   "outputs": [
    {
     "data": {
      "text/html": [
       "<div>\n",
       "<style scoped>\n",
       "    .dataframe tbody tr th:only-of-type {\n",
       "        vertical-align: middle;\n",
       "    }\n",
       "\n",
       "    .dataframe tbody tr th {\n",
       "        vertical-align: top;\n",
       "    }\n",
       "\n",
       "    .dataframe thead th {\n",
       "        text-align: right;\n",
       "    }\n",
       "</style>\n",
       "<table border=\"1\" class=\"dataframe\">\n",
       "  <thead>\n",
       "    <tr style=\"text-align: right;\">\n",
       "      <th></th>\n",
       "      <th>screen_name</th>\n",
       "      <th>true_label</th>\n",
       "      <th>nd</th>\n",
       "      <th>t</th>\n",
       "      <th>ndt</th>\n",
       "    </tr>\n",
       "  </thead>\n",
       "  <tbody>\n",
       "    <tr>\n",
       "      <th>0</th>\n",
       "      <td>SiaravaHotel</td>\n",
       "      <td>Tourism</td>\n",
       "      <td>Tourism</td>\n",
       "      <td>Tourism</td>\n",
       "      <td>Tourism</td>\n",
       "    </tr>\n",
       "    <tr>\n",
       "      <th>1</th>\n",
       "      <td>10DowningStreet</td>\n",
       "      <td>Politics</td>\n",
       "      <td>Politics</td>\n",
       "      <td>Politics</td>\n",
       "      <td>Politics</td>\n",
       "    </tr>\n",
       "    <tr>\n",
       "      <th>2</th>\n",
       "      <td>Cornell</td>\n",
       "      <td>Education</td>\n",
       "      <td>Education</td>\n",
       "      <td>Education</td>\n",
       "      <td>Education</td>\n",
       "    </tr>\n",
       "    <tr>\n",
       "      <th>3</th>\n",
       "      <td>lxblk</td>\n",
       "      <td>Education</td>\n",
       "      <td>Education</td>\n",
       "      <td>Education</td>\n",
       "      <td>Education</td>\n",
       "    </tr>\n",
       "    <tr>\n",
       "      <th>4</th>\n",
       "      <td>MJSHChicago</td>\n",
       "      <td>Foodservice</td>\n",
       "      <td>Foodservice</td>\n",
       "      <td>Foodservice</td>\n",
       "      <td>Foodservice</td>\n",
       "    </tr>\n",
       "    <tr>\n",
       "      <th>...</th>\n",
       "      <td>...</td>\n",
       "      <td>...</td>\n",
       "      <td>...</td>\n",
       "      <td>...</td>\n",
       "      <td>...</td>\n",
       "    </tr>\n",
       "    <tr>\n",
       "      <th>95</th>\n",
       "      <td>VisitScotland</td>\n",
       "      <td>Tourism</td>\n",
       "      <td>Tourism</td>\n",
       "      <td>Tourism</td>\n",
       "      <td>Tourism</td>\n",
       "    </tr>\n",
       "    <tr>\n",
       "      <th>96</th>\n",
       "      <td>Princeton</td>\n",
       "      <td>Education</td>\n",
       "      <td>Education</td>\n",
       "      <td>Education</td>\n",
       "      <td>Education</td>\n",
       "    </tr>\n",
       "    <tr>\n",
       "      <th>97</th>\n",
       "      <td>theodorikakosp</td>\n",
       "      <td>Politics</td>\n",
       "      <td>Politics</td>\n",
       "      <td>Politics</td>\n",
       "      <td>Politics</td>\n",
       "    </tr>\n",
       "    <tr>\n",
       "      <th>98</th>\n",
       "      <td>TheLona</td>\n",
       "      <td>Foodservice</td>\n",
       "      <td>Foodservice</td>\n",
       "      <td>Foodservice</td>\n",
       "      <td>Foodservice</td>\n",
       "    </tr>\n",
       "    <tr>\n",
       "      <th>99</th>\n",
       "      <td>ImperialSPH</td>\n",
       "      <td>Education</td>\n",
       "      <td>Education</td>\n",
       "      <td>Education</td>\n",
       "      <td>Education</td>\n",
       "    </tr>\n",
       "  </tbody>\n",
       "</table>\n",
       "<p>100 rows × 5 columns</p>\n",
       "</div>"
      ],
      "text/plain": [
       "        screen_name   true_label           nd            t          ndt\n",
       "0      SiaravaHotel      Tourism      Tourism      Tourism      Tourism\n",
       "1   10DowningStreet     Politics     Politics     Politics     Politics\n",
       "2           Cornell    Education    Education    Education    Education\n",
       "3             lxblk    Education    Education    Education    Education\n",
       "4       MJSHChicago  Foodservice  Foodservice  Foodservice  Foodservice\n",
       "..              ...          ...          ...          ...          ...\n",
       "95    VisitScotland      Tourism      Tourism      Tourism      Tourism\n",
       "96        Princeton    Education    Education    Education    Education\n",
       "97   theodorikakosp     Politics     Politics     Politics     Politics\n",
       "98          TheLona  Foodservice  Foodservice  Foodservice  Foodservice\n",
       "99      ImperialSPH    Education    Education    Education    Education\n",
       "\n",
       "[100 rows x 5 columns]"
      ]
     },
     "execution_count": 28,
     "metadata": {},
     "output_type": "execute_result"
    }
   ],
   "source": [
    "predictions"
   ]
  },
  {
   "cell_type": "code",
   "execution_count": 31,
   "id": "hispanic-miniature",
   "metadata": {},
   "outputs": [
    {
     "data": {
      "text/html": [
       "<div>\n",
       "<style scoped>\n",
       "    .dataframe tbody tr th:only-of-type {\n",
       "        vertical-align: middle;\n",
       "    }\n",
       "\n",
       "    .dataframe tbody tr th {\n",
       "        vertical-align: top;\n",
       "    }\n",
       "\n",
       "    .dataframe thead th {\n",
       "        text-align: right;\n",
       "    }\n",
       "</style>\n",
       "<table border=\"1\" class=\"dataframe\">\n",
       "  <thead>\n",
       "    <tr style=\"text-align: right;\">\n",
       "      <th></th>\n",
       "      <th>screen_name</th>\n",
       "      <th>true_label</th>\n",
       "      <th>t</th>\n",
       "    </tr>\n",
       "  </thead>\n",
       "  <tbody>\n",
       "    <tr>\n",
       "      <th>38</th>\n",
       "      <td>MarieCiarleglio</td>\n",
       "      <td>Tourism</td>\n",
       "      <td>Foodservice</td>\n",
       "    </tr>\n",
       "    <tr>\n",
       "      <th>69</th>\n",
       "      <td>realDonaldTrump</td>\n",
       "      <td>Politics</td>\n",
       "      <td>Foodservice</td>\n",
       "    </tr>\n",
       "    <tr>\n",
       "      <th>73</th>\n",
       "      <td>Booktripgo</td>\n",
       "      <td>Tourism</td>\n",
       "      <td>Foodservice</td>\n",
       "    </tr>\n",
       "    <tr>\n",
       "      <th>74</th>\n",
       "      <td>learn2counsel</td>\n",
       "      <td>Education</td>\n",
       "      <td>Foodservice</td>\n",
       "    </tr>\n",
       "    <tr>\n",
       "      <th>76</th>\n",
       "      <td>LangLearnInst</td>\n",
       "      <td>Education</td>\n",
       "      <td>Tourism</td>\n",
       "    </tr>\n",
       "    <tr>\n",
       "      <th>83</th>\n",
       "      <td>_ScotlandTours</td>\n",
       "      <td>Tourism</td>\n",
       "      <td>Politics</td>\n",
       "    </tr>\n",
       "  </tbody>\n",
       "</table>\n",
       "</div>"
      ],
      "text/plain": [
       "        screen_name true_label            t\n",
       "38  MarieCiarleglio    Tourism  Foodservice\n",
       "69  realDonaldTrump   Politics  Foodservice\n",
       "73       Booktripgo    Tourism  Foodservice\n",
       "74    learn2counsel  Education  Foodservice\n",
       "76    LangLearnInst  Education      Tourism\n",
       "83   _ScotlandTours    Tourism     Politics"
      ]
     },
     "execution_count": 31,
     "metadata": {},
     "output_type": "execute_result"
    }
   ],
   "source": [
    "predictions[(predictions['true_label'] != predictions['t'])][['screen_name','true_label','t']]"
   ]
  },
  {
   "cell_type": "code",
   "execution_count": 44,
   "id": "static-amendment",
   "metadata": {},
   "outputs": [
    {
     "name": "stdout",
     "output_type": "stream",
     "text": [
      " https://t.co/cFTDBGrdHO\n",
      "#learnfrench Don't worry! Play! HAVE FUN!!\n",
      "#fun #tiptuesday #quicktip #quicktips #quicktiptuesday #play #languagelearningisfun… https://t.co/A1WZDdERsl Happy National Trivia Day! Answer on Instagram!\n",
      "#languagefacts #trivia #nationaltriviaday #learnmandarin… https://t.co/I0mv7zXiYu Is one of your goals for the new year to become conversational in French? Contact us for a free language consultati… https://t.co/m57OGZo8sA What are you leaving behind in 2020?💬\n",
      "#leaveit #leaveitbehind #newyearnewyou #newyearnewgoals #nodrama #goals… https://t.co/XPq66sXgnd Prevent offensive language misappropriation🤣 - learn a foreign language! Full 2 minute Youtube video link in Instag… https://t.co/RGoIswy3pa BIG announcement coming soon - we've made a major change designed for serious language learners like YOU...stay tun… https://t.co/irji34fbZa Although 70% of the global population isn't Christian, nearly 80% observe some form of Christmas traditions! Ever w… https://t.co/rO35DaP9jd A polyglot saves the day! Learn a language &amp; travel to fun far away places post-CoVid! Maybe not to \"where no one h… https://t.co/XMW5z6MpJk 💥Join us tonight &amp; tomorrow at our fun virtual Spanish &amp; French meetups! SPANISH: Tonight 6pm EST | FRENCH: Tomorro… https://t.co/WMcfcHRvRB 一个男人在电栅栏上小便将会得到令人震惊的消息 - Yí gè nán rén zài diàn zhà lán shàng xiǎo biàn jiāng huì  dé dào lìng rén zhèn jīng  de xi… https://t.co/ANbOeWewze Virtual Spanish table FUN on Tues Dec 15th, 6pm! Beginning to native speakers welcome. FREE - follow us on Instagra… https://t.co/vchPrO0sMF Watch shows in your target language to enhance &amp; quicken your learning experience. Combined with formal lessons, yo… https://t.co/MXolgyC89t ESCAPE clouds of isolation anxiety🌫🌬 &amp; enter the FUN world of virtual language classes!💬🌱 Emerge from a Winter of s… https://t.co/lq3NmJzqhU \"Ricky I'm in the Bastille!\"🤣Hilarious language translation scene for your hump day! Follow us on Instagram to see… https://t.co/JlelCqEKRb \"Courir sur le haricot\" translates \"to run on the bean\". In this video, it's conjugated \"Il me court sur le haricot… https://t.co/jOslJ4EAwb Warm wishes for a safe &amp; enjoyable Thanksgiving. We are confident you'll enjoy our Instagram post as an opportunity… https://t.co/gjH9dxrPeu Thanksgiving 2020 – Warm Wishes and Opportunities for Growth https://t.co/bSXSBfVMT8 Little flavor-filled bites of ham and manchego cheese that melt in your mouth? YES please! Croquetas de jamon are a… https://t.co/mIaC1i0AVN \"Quedarse de piedra\" means to be so surprised you're almost paralyzed. This classic scene from \"Clue\" is a perfect… https://t.co/K8XnWkZM6E Kudos to Arkady Belozovsky for his fully realized interpretation of this exchange between NY Gov Cuomo &amp; a reporter… https://t.co/3YwDlxgC60 Who are your favorite Latin Grammy nominees? Comment on Instagram or at the next Spanish conversation table tomorro… https://t.co/ggSdqWtw0N Things Bilingual People Do! 🤣#humor #funny #bilingual #learnmandarin #learnfrench #languagelearningisfun… https://t.co/EMqefnPDet Coq Au Vin is a classic French stew of wine-braised chicken parts. It yields a rich sauce with tender meat, crisp b… https://t.co/XIaMwHcXHM @STPodcastHost https://t.co/KkMY5SYOx0 \"Se fendre la poire\" translates \"to split one's pear\". It means to laugh uncontrollably. When you hear this idiom,… https://t.co/TbGpwbciA8 Learning a new sklll such as a second language reroutes your brain networks &amp; gives your brain the ability to impro… https://t.co/g7wJw2SfYw The Language Learning Institute expresses deep gratitude to veterans and their families for their sacrifice.\n",
      ".… https://t.co/6PcKdG5NzS et language-ready for a future trip to bio-diverse Peru! As a top foodie destinations it's a must-see travel list a… https://t.co/jBlZ0mDDOh Sometimes when you're learning a language 'ya gotta \"fake it 'til you make it!\" But hopefully never to this degree!… https://t.co/fA1tvySl6N Lockdown upside: Plenty of time to learn a foreign language + plenty of time to practice at our free virtual langua… https://t.co/3X8JuNWLOP Tryo, a French band with an acoustic reggae sound &amp; lyrics rooted in activism, kicks off our week! \"Toi et Moi\" foc… https://t.co/fLHvQEsgJt See Instagram post comment for details on these emotional health tips:\n",
      "♦ Engage Your Mind.\n",
      "♦ Be Aware.\n",
      "♦ Be Positiv… https://t.co/uYXHR12eE1 FREE Virtual French Conversation Table 6pm EST! Pour a glass of your fav wine &amp; chat!🍷Topics: Why is the wine in th… https://t.co/i1lq97f5HX Did you know France is the most visited country in the world? No wonder when its borders are filled with delectable… https://t.co/PxXeAzR9h4 Put Saint Martin on your list of places to travel to! This duo-country island is home to beautiful beaches &amp; seclud… https://t.co/MkW1TkGtAm \"Étre dans la lune\" translates \"to be in the moon\". It means to daydream. In English we say \"head in the clouds\" or… https://t.co/FqZWt2scVY BIG news coming soon from The Language Learning Institute! We're so excited, we can hardly contain ourselves - like… https://t.co/WycNxJlmmd \"Life Goes On\" By Eason Chan is a beautiful song about moving past and through life's moments - both disappointment… https://t.co/uqwbk3Wqpj \"Verle las orejas al lobo\" translates \"to see the ears of the wolf\". It means to notice danger. Since it's the 35th… https://t.co/VYtsxRo7JF Calling bored travelers! Turn your next party into a virtual travel event! This is a great way to check in on frien… https://t.co/bUf0EzqE7f Taking our month-end social media break! See you in October.\n",
      "#socialmediabreak #seeyourealsoon #seeyouagain… https://t.co/6yq749Ywsv It's World Tourism Day! What's on your list? Paris?🇫🇷 Madrid? 🇪🇸 Lisbon? 🇵🇹 Enhance your future journey by \"traveli… https://t.co/QgyjxJbZ84 Happy European Day of Languages! The European Day of Languages is celebrated on September 26 to advance languages a… https://t.co/KQjo767W3h \"Se prendre un râteau” translates to \"gives you the rake.\" It means to have a romantic gesture rejected, or to have… https://t.co/XQCgZnk6SP There are so many great reasons to learn French! A conversation table is an excellent start - see Instagram post fo… https://t.co/nktOOUAOLy Wacky Wednesday humor from SNL's \"Les Jeunes de Paris\" skit to get you over hump day! Tap Instagram bio link to con… https://t.co/930ePzL4bf #OhCanada! There's so much to see &amp; do in the 2nd largest country in the world! Start with a 360° virtual trip - cl… https://t.co/bzMzTwlOlG Put poutine on your fall comfort food list! Do calories count if you close your eyes &amp; eat? 😋 Authentic poutine is… https://t.co/mixaztoNgX This skit isn't just a humorous diversion for your day - it also shows why it's important to learn to speak a in a… https://t.co/2WMzy8TyDL Here's a French idiom for fall apple picking! \"Tomber dans les pommes\" translates: \"fall in the apples\". It means t… https://t.co/BV5eKUOeEN FREE virtual Spanish Language Table next Wed, Sept 23, 6pm EST! Practice speaking Spanish in a relaxed atmosphere.… https://t.co/DJNOu2tbR7 dormez bien  (french) |  sleep well \n",
      ".\n",
      ".\n",
      "#goodnight🌙  #goodnight #sleepwell #serenity #serene  #serenebeauty #calm… https://t.co/abUptN0pal Take a virtual trip to Panama - the country that connects Central &amp; South America! Prep for a visit with Spanish le… https://t.co/aqwgkygSGv Start your week with \"Plástico\" - an upbeat &amp; insightful salsa by one of the most successful &amp; influential musician… https://t.co/6sZeT2X2k0 Cooler weather where we are has us thinking of soup! Enjoy Panama's national dish: Sancocho de gallina Panameño - a… https://t.co/X4qUMklsDG \"Estrar en la edad del pavo\" translates \"to be the age of the turkey\". It means to be at that awkward teenage age -… https://t.co/y8WiugkXb6 \"Prendre entre quatre yeux\" translates \"to take someone between four eyes\". It means to get in an argument. Shorten… https://t.co/Yf7AAcg32T FREE 15 minute consultation!\n",
      "Children ~ Adults\n",
      "Contact us to get help today with French, Chinese, Spanish, or Engli… https://t.co/C2wfVahmIR FREE 15 minute consultation! Children ~ Adults\n",
      "Contact us to get help today with French, Spanish, or English learni… https://t.co/dTpr1Gzirq A serene post for your evening. Majestic trees of The Seychelles rainforests. Whether you're a student or teacher,… https://t.co/K0MpxkYhEs Classic SNL skit - edited for time. Hilariously exaggerated dynamic of the super-enthusiastic French teacher &amp; unde… https://t.co/RjxSXGLGkp Just posted a photo https://t.co/6QLRFbw867 It's one of the smallest countries, but the Seychelles offers a lot - beaches, coral reefs, nature reserves, rainfo… https://t.co/03nVz6jo3H HEAR IT? The conch shell blowing – a sign that fresh fish has just been brought ashore for sale in the Seychelles!… https://t.co/vtzqBgKdRT \"No ver tres en un burro\" translates to \"Not being able to see three on a donkey\". It means having really bad visio… https://t.co/AecBsGLsQN So this is making the social media rounds...😆 No worries parents - you CAN do this!💪 We've got your back if you nee… https://t.co/gHRWQEtSKg Moroccan tagine cooking is packed with flavor! We have a wonderful local Moroccan restaurant - Tara Kitchen - where… https://t.co/ENUti7mYKK \"Péter les plombs\" means \"to flip out\", as shown here in NBC's Parks &amp; Recreation. Ron would be happy with Apple's… https://t.co/xrEApwCatg \"Poner verde a alguien\" translates \"To make someone become green\", It actually means to be highly critical of someo… https://t.co/IfVO5QEZX9 \"Péter les plombs\" means \"to flip out\", as shown here in NBC's Parks &amp; Recreation. Ron would be happy with Apple's… https://t.co/FpQOIq7XUV #learn #blossom #languagelearningisfun #instagram #follow #livelife #learnspanish #learnfrench #learnchinese… https://t.co/6ik7v4qgHJ #learn #blossom #languagelearningisfun #instagram #follow #livelife #learnspanish #learnfrench #learnchinese… https://t.co/dEoC5Pd8Rg Nothing like a good laugh to get us over hump day! In this scene from Australian parody comedy show \"Chaser's War o… https://t.co/mjhpbi3Lbw Take a virtual trip to Morocco! Famous cities like Casablanca &amp; Marrakesh evoke colorful sights &amp; sounds; &amp; the Sou… https://t.co/rapC5f4BHY \"Oum\" is a Moroccan fusion singer-songwriter considered an ambassador of Moroccan culture. Taragalte sways you into… https://t.co/g9I4bdeQqt Looking for a yummy Sunday brunch recipe? Try stegt flæsk med persillesovs - the national dish of Denmark - crispy… https://t.co/cZyS9lnsr2 \"Casser les oreilles\" translates \"Break your ears\". It means something's too loud. The principal in \"Back to the Fu… https://t.co/4zjNOr7TZl Only Victor Borge can satrically describe an opera while helping us appreciate it! Watch for the joke about languag… https://t.co/7Je2qVvtU3 Wondering what gave Hans Christian Anderson his inspiration? Or what Shakespeare's \"Hamlet\" castle looks like? Take… https://t.co/HAYkgNuRDN Enjoy the musical antics of Børge Rosenbaum, known as Victor Borge! He was a popular Danish comedian &amp; pianist know… https://t.co/FjioYTbLEc \"Ponerse de mala leche\" = \"To get in bad milk\". It means to be in a bad mood, as shown by George in this scene from… https://t.co/PdvfD77oiR Renovation projects can make you feel like you're going in circles. The French idiom for this is \"Pédaler dans la s… https://t.co/7o3s30fJej \"We don't quit! We do not quit!\" Steve Martin as Inspector Clouseau in The Pink Panther.🍔 #pinkpanther… https://t.co/R8kLwDpxW1 Enjoy the music of Wu Man - a Chinese pipa virtuoso &amp; composer. She plays in a broad range of musical styles &amp; intr… https://t.co/GmRI2wvpUE Can't decide between pancakes or crêpes for breakfast? Have pannenkoeken! The Dutch pancake is larger &amp; thinner tha… https://t.co/iEgNgECjrC \"Estar hasta las naricas\" translates \"To be up the nose\". It means to be annoyed. Nothing shows annoyance more than… https://t.co/obXA0ggGsY \"Chanter comme une casserole\" translates to \"Sing like a saucepan\". The French use the phrase to refer to someone w… https://t.co/DVSTh79199 This may look wacky, but the Veluwemeer Aqueduct is a feat of engineering. The water bridge allows for boats &amp; wate… https://t.co/e4CvfmVY5b Take an escapade to the Netherlands! A link to a list of wonderful virtual tours is in our Instagram bio link. The… https://t.co/c09sAWYGMj We're highlighting André Rieu! See Instagram bio link. The video is of a staff member's kids enjoying classical mus… https://t.co/pXe0I1RUHL \"Ser pan comido\" translates \"To be eaten bread.\" It means that something is very easy. In English, we might say, \"A… https://t.co/x92wgxwCUr Check out the Summer Self-Care Bucket List from Reset Ritual. \"Take one step towards a dream\" is a great point! Eve… https://t.co/q7x8QpYR2f End your workday with a laugh! We're continuing our Cuban theme this week so here are 2 clips from classic I Love L… https://t.co/zgQPh3d0Hf Wind down with the sights &amp; sounds of Cuba! The Spanish spoken by Cubans is a variation of Castilian Spanish. Cuba… https://t.co/HbglbJ4BUr Got lots of basil in your garden right now? Try this \"basil-y\" twist on a Labanese Arugula salad🥗 ~Tip: sop up the… https://t.co/I35MS5pqr9 \"Tener memoria de pez\" translates \"to have the memory of a fish.\" It means to have a bad memory. Perhaps the \"Findi… https://t.co/OBdmS3WCr9 The French ¹phrase “Arrête ton char!” translates: \"Stop your chariot!\" It's used to get someone stop bluffing, as e… https://t.co/NxHexu62ZK This quote comes from a highly experienced teacher of oral communication. Whether you are improving your own native… https://t.co/xtSzlwt60M If only Mr. Bean knew what he was served in \"Mr. Bean's Holiday\"! He should have taken French lessons that included… https://t.co/Qm3A53i6pv\n"
     ]
    }
   ],
   "source": [
    "print(validation_set['Recent 100 tweets'].iloc[76])"
   ]
  },
  {
   "cell_type": "code",
   "execution_count": 43,
   "id": "floating-suffering",
   "metadata": {},
   "outputs": [
    {
     "data": {
      "text/html": [
       "<div>\n",
       "<style scoped>\n",
       "    .dataframe tbody tr th:only-of-type {\n",
       "        vertical-align: middle;\n",
       "    }\n",
       "\n",
       "    .dataframe tbody tr th {\n",
       "        vertical-align: top;\n",
       "    }\n",
       "\n",
       "    .dataframe thead th {\n",
       "        text-align: right;\n",
       "    }\n",
       "</style>\n",
       "<table border=\"1\" class=\"dataframe\">\n",
       "  <thead>\n",
       "    <tr style=\"text-align: right;\">\n",
       "      <th></th>\n",
       "      <th>screen_name</th>\n",
       "      <th>true_label</th>\n",
       "      <th>ndt</th>\n",
       "    </tr>\n",
       "  </thead>\n",
       "  <tbody>\n",
       "    <tr>\n",
       "      <th>83</th>\n",
       "      <td>_ScotlandTours</td>\n",
       "      <td>Tourism</td>\n",
       "      <td>Politics</td>\n",
       "    </tr>\n",
       "  </tbody>\n",
       "</table>\n",
       "</div>"
      ],
      "text/plain": [
       "       screen_name true_label       ndt\n",
       "83  _ScotlandTours    Tourism  Politics"
      ]
     },
     "execution_count": 43,
     "metadata": {},
     "output_type": "execute_result"
    }
   ],
   "source": [
    "predictions[(predictions['true_label'] != predictions['ndt'])][['screen_name','true_label','ndt']]"
   ]
  },
  {
   "cell_type": "code",
   "execution_count": 46,
   "id": "conservative-graduate",
   "metadata": {},
   "outputs": [
    {
     "name": "stdout",
     "output_type": "stream",
     "text": [
      " RT @VisitScotland: @Martine47Marie @WCWScotland We hope you can visit sometime too, it looks just as good in person! 😍 - Katie Tobermory, Mull Scotland, Bespoke Scotland Tours, Private Tours of Scotland, Scotland Tours, St Andrews Taxis,  Sco… https://t.co/u3kVZvvo1V RT @VisitScotland: @CHPhotography15 Talk about reflection, perfection! 😍👌 - Alex Highlands Scotland, Bespoke Scotland Tours, Private Tours of Scotland, Scotland Tours, St Andrews Taxis,  Scotland.… https://t.co/cWzS3zk8PU RT @VisitScotland: @awenphotos @VisitAyrshire @CulzeanOfficial @AilsaCraigrock What a stunning viewpoint! 🤩 - Katie @justinpowellweb @moureaucarolin2 @Sebastian023456 @EdinburghDirect @BeautifulScotl1 @CromarGrant @GutridgeKelly… https://t.co/MbWwYLA4NC Kelpies Falkirk, Bespoke Scotland Tours, Private Tours of Scotland, Scotland Tours, St Andrews Taxis,  Scotland.… https://t.co/CUTKTIoMWQ RT @VisitScotland: @LargoJd Sounds brilliant! We have some great recommendations for things to do in and around Perth on our website ➡️ htt… Duntottar Castle, Bespoke Scotland Tours, Private Tours of Scotland, Scotland Tours, St Andrews Taxis,  Scotland.… https://t.co/KNdVP2jedM Bespoke Scotland Tours, Private Tours of Scotland, Scotland Tours, St Andrews Taxis,  Scotland. #Scotland #Tours… https://t.co/xVLV6V8g00 RT @VisitScotland: What a view to wake up to! 😍🌊 #StaySafe 📍 St Abbs, #ScottishBorders 📸 IG/thiscabinvan #ScotlandStartsHere https://t.co/a… Loch Scotland, Bespoke Scotland Tours, Private Tours of Scotland, Scotland Tours, St Andrews Taxis,  Scotland.… https://t.co/N1THYblQ6x 6 Months free Amazon Music Unlimited when you buy \n",
      "an Echo Dot (4th Gen) https://t.co/QdhCtb7k5N RT @VisitScotland: @elbougourd83 Glad to hear it, Haste ye back! 👋 - Katie Quiraing Skye, Bespoke Scotland Tours, Private Tours of Scotland, Scotland Tours, St Andrews Taxis,  Scotland.… https://t.co/mpuu1N1ZZ4 RT @VisitScotland: @DarrochOlga @BBCWthrWatchers @BBCScotWeather @discinverclyde 😍👌 Castle Stalker, Bespoke Scotland Tours, Private Tours of Scotland, Scotland Tours, St Andrews Taxis,  Scotland.… https://t.co/oPW0ZW0QE8 RT @VisitScotland: @AyeSpyPhotos @edinburgh @welovehistory @Scotland @EdinburghLive_ @EdinburghLBB @JudithRalston @edinburghpaper @BeingSco… @OutlandishTour @VisitScotland @stirlingcastle @welovehistory @StirlingAWS Another photo. https://t.co/Q49vzfuWqR Edinburgh Scotland, Bespoke Scotland Tours, Private Tours of Scotland, Scotland Tours, St Andrews Taxis,  Scotland.… https://t.co/6L0Le24fYD RT @VisitScotland: @DMcP71 Great pic 👌 - Ronan Fort Augustus, Bespoke Scotland Tours, Private Tours of Scotland, Scotland Tours, St Andrews Taxis,  Scotland.… https://t.co/j6M5FuPcBZ RT @VisitScotland: @jpbphotography Looks beautiful! 😍 - Katie @davidmacdougall @AlmineWisdom @weenick @keepinglifesane @DaRealParis Captured just at the right moment.  Thank You for saying so. Callanish Stones, (Top Tweet Aug 2020) Bespoke Scotland Tours, Private Tours of Scotland, Scotland Tours, St Andrew… https://t.co/gxaW7nf4th @VisitScotland Is it Coo day. https://t.co/YDDZbOPkcC RT @VisitScotland: What a view of #Linlithgow Palace, the birth place of Mary Queen of Scots! 👸🏰 #StaySafe 📍 #WestLothian 📷 IG/nichbrand ht… Scotland, (Top Tweet Nov 2020) Bespoke Scotland Tours, Private Tours of Scotland, Scotland Tours, St Andrews Taxis,… https://t.co/mOUxeQpunv Bespoke Scotland Tours, Private Tours of Scotland, Scotland Tours, St Andrews Taxis,  Scotland. #Scotland #Tours… https://t.co/UDTnVePrdc @Cairistiona810 @ukseries @Your_Say @personhoodusa @ktchung7 @loriruff @SusanBoylesCat If you want better temperatu… https://t.co/6lAEA6kTnu @b0rn1nScotland Should say Stirling Scotland, sorry for the typo, its not Edinburgh. @b0rn1nScotland Should say Stirling Scotland, sorry for the typo, its not Edinburgh. @KeelDrum Should say Stirling Scotland, sorry for the typo, its not Edinburgh. @Cairistiona810 @ukseries @Your_Say @personhoodusa @ktchung7 @loriruff @SusanBoylesCat Hey Christine I hope you hav… https://t.co/bwFXTzhWBt Hairy Coo Isle of Skye Scotland, (Top Tweet Oct 2020) Bespoke Scotland Tours, Private Tours of Scotland, Scotland T… https://t.co/FPD4sMNHej RT @VisitScotland: @Kimkjaerside @ScotsMagazine @BBCScotWeather @talkporty @edinburgh @WalksBritain @VisitScotNews @ScotlandHour @Scotland… Stirling Scotland (Top Tweet September 2020), Bespoke Scotland Tours, Private Tours of Scotland,      Scotland Tour… https://t.co/Yd9rg6e4Hi RT @VisitScotland: Sending you a postcard from #Shetland!💙 #StaySafe 📍 Lerwick 📷 IG/Shetland_captured #YCW2020 https://t.co/JPSsjpzzxX RT @VisitScotland: @Atho_1982 We hope you had a great time!💙 Happy New Year, Forget past, forget worries &amp; start again a fresh. The New Year will turn the most Successful one y… https://t.co/JDgCuli6uJ Happy New Year!! The Tenors - Auld Lang Syne (Official Video) https://t.co/rHkBvC8qvf via @YouTube * With the new year on the horizon, I wish that you embrace it with an open heart and go forward with faith, hope,… https://t.co/nm33VpxTmD * As the new year draws close, I hope it’s filled with the promises of a hopeful tomorrow.\n",
      " #Scotland… https://t.co/6U3FhzXnRZ * As you pursue your hopes and dreams, may this year bring you much success and may your journey be wonderful.… https://t.co/oJlaXyYGJk “This New Year message is packed full of virus-free hugs and kisses just for you! We hope you have a very happy new… https://t.co/n4xtH9sSQ5 Slightly in Advance.                 “Happy New Year! We know this past year has been full of challenges, and we pr… https://t.co/NtZR4BOsBt RT @VisitScotland: @catbyrne_ https://t.co/S5aCslKkQW Beautiful Scotland, Bespoke Scotland Tours, Private Tours of Scotland, Scotland Tours, St Andrews Taxis,  Scotland.… https://t.co/fFNMZZU9X9 RT @VisitScotland: @Janerthered @talatyaqoob Hello! We've retweeted this so that our audience can hopefully send some suggestions your way.… RT @VisitScotland: How picture perfect is this wintery #Coosday shot?! ❄️😍📍 Blairgowrie, #Perthshire 📷 IG/venture.north.photo\n",
      "\n",
      "❗ For now tr… Winter Mountains, Bespoke Scotland Tours, Private Tours of Scotland, Scotland Tours, St Andrews Taxis,  Scotland.… https://t.co/KZZGXF60NJ Bespoke Scotland Tours, Private Tours of Scotland, Scotland Tours, St Andrews Taxis,  Scotland. #Scotland #Tours… https://t.co/SAxdyQRh8n RT @VisitScotland: @AyeSpyPhotos @BBCScotWeather @Scotland @BeingScots @ScotsMagazine @mvscotland @TheScotsman @PerthandKinross @JudithRals… RT @VisitScotland: On the lookout for Jamie at Midhope Castle (or #Lallybroch for all you #Outlander fans!) 😁🎬 📍 @SeeWestLothian 📷 IG/anemy… @moiramcpartlin @Val_Bold @TheWallaceMon @Stirlingcouk @StirlingHoliday @StirlingDOD @stirlingrotary1… https://t.co/Vu1km6shY6 @CYounghouse @arborsmarty @ThomsonLord @KinlochSusan @wildscotland @VisitCairngrms Merry Christmas Cindy. ❤️ @Janetpe81585654 @arborsmarty @ThomsonLord @KinlochSusan @wildscotland @VisitCairngrms Thank you Janet. @Katl47024434 @arborsmarty @ThomsonLord @KinlochSusan @wildscotland @VisitCairngrms Merry Christmas 🎄 @TreasterRebecca @arborsmarty @ThomsonLord @KinlochSusan @wildscotland @VisitCairngrms Shadows and shades are fantastic. @Cairistiona810 @arborsmarty @ThomsonLord @KinlochSusan @wildscotland @VisitCairngrms It was very cold today for sure. @CoLiddy @bearycarey1 @MonacoWsla @VisitScotBTU @camping_holiday @tourbritain Yes I love being a guide, no better job I could imagine. @kannhartley @MonacoWsla @VisitScotBTU @camping_holiday @tourbritain @bearycarey1 I’ll get right on your request. ❤️ its cold out there, Bespoke Scotland Tours, Private Tours of Scotland, Scotland Tours, St Andrews Taxis,  Scotland.… https://t.co/IaZNr6eDj0 RT @VisitScotland: Garden goals at Abbotsford! 🌸🌻🌱 #ScotlandStartsHere 📍 Melrose, Scottish Borders 📷 IG/abbotsfordscott #StaySafe https://t… Hairy Coo in Winter, Bespoke Scotland Tours, Private Tours of Scotland, Scotland Tours, St Andrews Taxis,  Scotland… https://t.co/27Pg8ehHdN RT @VisitScotland: @Lamby1988 Hello, have given this a retweet to our audience so that they can help you with suggestions! You can also vis… @cami_brustolin Merry Christmas 🎄 Dreich day in Skye, Bespoke Scotland Tours, Private Tours of Scotland, Scotland Tours, St Andrews Taxis,  Scotland.… https://t.co/fjVJYBcru4 RT @VisitScotland: @CDunphy1977 Slàinte Mhath! 🥃 - Alex @LTBritons Merry Christmas 🎄 @Deadniceok Merry Christmas 🎄 @nancyflyfishFL Merry Christmas 🎄 @BirgitKrger6 @DunsmoreJane Merry Christmas 🎄 @VetJuly Merry Christmas 🎄 @BirgitKrger6 Merry Christmas 🎄 Merry Xmas All, thank you for following us and i hope you have a Merry Xmas, and we look forward to greeting you ba… https://t.co/Kc76JyHCkp RT @VisitScotland: @MikeMikwd @ScotsMagazine Stunning 👌 Glencoe Area in Winter, Bespoke Scotland Tours, Private Tours of Scotland, Scotland Tours, St Andrews Taxis,  Scotl… https://t.co/3VXLDbIBLs RT @VisitScotland: What a stunning throwback to Carlowrie Castle in Autumn! 😍🍁 #StaySafe 📍 @SeeWestLothian 📷 IG/dearnatashalou https://t.co… Xmas Gifts from Scotland, visit our shop at https://t.co/4RlssBpPXS https://t.co/nx42CyhAZs RT @VisitScotland: Nothing compares to playing a round of golf in the country that gave the game to the world!🏌️‍♀️⛳ #OnlyinScotland https:… Loch Leven in Winter, Bespoke Scotland Tours, Private Tours of Scotland, Scotland Tours, St Andrews Taxis,  Scotlan… https://t.co/qdKnGZtyww Neist Point Lighthouse,Bespoke Scotland Tours, Private Tours of Scotland, Scotland Tours, St Andrews Taxis,  Scotla… https://t.co/nvnmun9Wrr Bespoke Scotland Tours, Private Tours of Scotland, Scotland Tours, St Andrews Taxis,  Scotland. #Scotland #Tours… https://t.co/W2JOHgPinY RT @VisitScotland: Who would live in a house like this?! 🧚🌸 The things you stumble across when on a stroll in the #Highlands! #StaySafe 📍 n… @LStewart_books\n",
      "@best_artdoc\n",
      "@DJZJCZ\n",
      "@markgarfield\n",
      "@DELARUEEm\n",
      "@exec_tours\n",
      "@yuoaei\n",
      "@MegaAdvertsUK\n",
      "@Glastomichelle… https://t.co/p0vU69289Y Glenlochan, Bespoke Scotland Tours, Private Tours of Scotland, Scotland Tours, St Andrews Taxis,  Scotland.… https://t.co/fITTy734OV RT @VisitScotland: Hands up who's ready for a beach holiday 🙋🐚 #StaySafe @Cairistiona810 @welfordwrites @mark33 @RaymondAaron @HRHDuchesskate @VisitScotland I wish someone would say that about me 😂 @Alrytee100 @welfordwrites @mark33 @RaymondAaron @HRHDuchesskate @VisitScotland I’m Glad you have a name for him, he will be pleased. Thank You All for your kind words, we need a little bit of colour in our life’s after this year. Sunset in Highlands, Bespoke Scotland Tours, Private Tours of Scotland, Scotland Tours, St Andrews Taxis,  Scotland… https://t.co/lk6f6gjiNy Scottish Gifts, visit our shop at https://t.co/4RlssB8ezi https://t.co/V9aHNDWrS1 RT @VisitScotland: @ShotsBug @Scottish_Banner @ThePhotoHour @PicPublic @LensAreLive So beautiful! 💜 - Katie 30 Day Free Amazon Prime Trial !!\n",
      "Get unlimited, FREE One-Day Delivery on millions of items\n",
      "Watch over 15,000 movie… https://t.co/yFpShf2FN7 I'm Cute i know, Bespoke Scotland Tours, Private Tours of Scotland, Scotland Tours, St Andrews Taxis,  Scotland.… https://t.co/l1YiGLmPCv Elgin Cathedral, Bespoke Scotland Tours, Private Tours of Scotland, Scotland Tours, St Andrews Taxis,  Scotland.… https://t.co/YUqF5Rbn27 RT @VisitScotland: @totpogo Hi there, our coronavirus guidance page has the most up to date travel information: https://t.co/fjhLLEPUoo - R… Glenfinnan Viaduct Scotland, Bespoke Scotland Tours, Private Tours of Scotland, Scotland Tours, St Andrews Taxis,… https://t.co/u1e783uFvb RT @VisitScotland: @resystencya Hello! We recommend checking with the attraction ahead of making any plans. Their Twitter account is @stirl…\n"
     ]
    }
   ],
   "source": [
    "print(validation_set['Recent 100 tweets'].iloc[83])"
   ]
  },
  {
   "cell_type": "code",
   "execution_count": null,
   "id": "numerous-iceland",
   "metadata": {},
   "outputs": [],
   "source": []
  }
 ],
 "metadata": {
  "kernelspec": {
   "display_name": "Python 3",
   "language": "python",
   "name": "python3"
  },
  "language_info": {
   "codemirror_mode": {
    "name": "ipython",
    "version": 3
   },
   "file_extension": ".py",
   "mimetype": "text/x-python",
   "name": "python",
   "nbconvert_exporter": "python",
   "pygments_lexer": "ipython3",
   "version": "3.8.5"
  }
 },
 "nbformat": 4,
 "nbformat_minor": 5
}
