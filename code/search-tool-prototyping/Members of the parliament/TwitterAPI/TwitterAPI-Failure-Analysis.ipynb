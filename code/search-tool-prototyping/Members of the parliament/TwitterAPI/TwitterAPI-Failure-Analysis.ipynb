{
 "cells": [
  {
   "cell_type": "markdown",
   "id": "graduate-accident",
   "metadata": {},
   "source": [
    "# Search Tool Members of the Parliament: TwitterAPI Failure Analysis"
   ]
  },
  {
   "cell_type": "code",
   "execution_count": 2,
   "id": "reported-lending",
   "metadata": {},
   "outputs": [],
   "source": [
    "import pandas as pd\n",
    "import numpy as np\n",
    "import matplotlib.pyplot as plt\n",
    "import seaborn as sns\n",
    "import json\n",
    "import tweepy\n",
    "from tqdm.notebook import tqdm"
   ]
  },
  {
   "cell_type": "code",
   "execution_count": 3,
   "id": "korean-reservation",
   "metadata": {},
   "outputs": [],
   "source": [
    "twitter_credentials = []\n",
    "with open('../../../../twitter_credentials.json', 'r') as f:\n",
    "    twitter_credentials = json.load(f)        \n",
    "\n",
    "# TwitterAPI Authentication\n",
    "auth = tweepy.OAuthHandler(twitter_credentials['consumer_key'],\n",
    "                                   twitter_credentials['consumer_secret'])\n",
    "auth.set_access_token(twitter_credentials['access_token_key'],\n",
    "                              twitter_credentials['access_token_secret'])\n",
    "API = tweepy.API(auth, wait_on_rate_limit=True, wait_on_rate_limit_notify=True, timeout=60*5)"
   ]
  },
  {
   "cell_type": "markdown",
   "id": "yellow-label",
   "metadata": {},
   "source": [
    "# Fullnames"
   ]
  },
  {
   "cell_type": "code",
   "execution_count": 3,
   "id": "senior-ambassador",
   "metadata": {},
   "outputs": [
    {
     "data": {
      "text/html": [
       "<div>\n",
       "<style scoped>\n",
       "    .dataframe tbody tr th:only-of-type {\n",
       "        vertical-align: middle;\n",
       "    }\n",
       "\n",
       "    .dataframe tbody tr th {\n",
       "        vertical-align: top;\n",
       "    }\n",
       "\n",
       "    .dataframe thead th {\n",
       "        text-align: right;\n",
       "    }\n",
       "</style>\n",
       "<table border=\"1\" class=\"dataframe\">\n",
       "  <thead>\n",
       "    <tr style=\"text-align: right;\">\n",
       "      <th></th>\n",
       "      <th>Name (Long)</th>\n",
       "      <th>Surname</th>\n",
       "      <th>Name</th>\n",
       "      <th>Party</th>\n",
       "      <th>Twitter Handle</th>\n",
       "      <th>Result 1</th>\n",
       "      <th>Result 2</th>\n",
       "      <th>Result 3</th>\n",
       "      <th>Result 4</th>\n",
       "      <th>Result 5</th>\n",
       "      <th>...</th>\n",
       "      <th>Result 11</th>\n",
       "      <th>Result 12</th>\n",
       "      <th>Result 13</th>\n",
       "      <th>Result 14</th>\n",
       "      <th>Result 15</th>\n",
       "      <th>Result 16</th>\n",
       "      <th>Result 17</th>\n",
       "      <th>Result 18</th>\n",
       "      <th>Result 19</th>\n",
       "      <th>Result 20</th>\n",
       "    </tr>\n",
       "  </thead>\n",
       "  <tbody>\n",
       "    <tr>\n",
       "      <th>0</th>\n",
       "      <td>Βιλιάρδος Διονυσίου Βασίλειος</td>\n",
       "      <td>Βιλιάρδος</td>\n",
       "      <td>Βιλιάρδος Βασίλειος</td>\n",
       "      <td>ΕΛΛΗΝΙΚΗ ΛΥΣΗ</td>\n",
       "      <td>ViliardosV</td>\n",
       "      <td>0</td>\n",
       "      <td>0</td>\n",
       "      <td>0</td>\n",
       "      <td>0</td>\n",
       "      <td>0</td>\n",
       "      <td>...</td>\n",
       "      <td>0</td>\n",
       "      <td>0</td>\n",
       "      <td>0</td>\n",
       "      <td>0</td>\n",
       "      <td>0</td>\n",
       "      <td>0</td>\n",
       "      <td>0</td>\n",
       "      <td>0</td>\n",
       "      <td>0</td>\n",
       "      <td>0</td>\n",
       "    </tr>\n",
       "    <tr>\n",
       "      <th>1</th>\n",
       "      <td>Αλεξοπούλου Κωνσταντίνου Αναστασία - Αικατερίνη</td>\n",
       "      <td>Αλεξοπούλου</td>\n",
       "      <td>Αλεξοπούλου Αικατερίνη</td>\n",
       "      <td>ΕΛΛΗΝΙΚΗ ΛΥΣΗ</td>\n",
       "      <td>anaik2020</td>\n",
       "      <td>0</td>\n",
       "      <td>0</td>\n",
       "      <td>0</td>\n",
       "      <td>0</td>\n",
       "      <td>0</td>\n",
       "      <td>...</td>\n",
       "      <td>0</td>\n",
       "      <td>0</td>\n",
       "      <td>0</td>\n",
       "      <td>0</td>\n",
       "      <td>0</td>\n",
       "      <td>0</td>\n",
       "      <td>0</td>\n",
       "      <td>0</td>\n",
       "      <td>0</td>\n",
       "      <td>0</td>\n",
       "    </tr>\n",
       "    <tr>\n",
       "      <th>2</th>\n",
       "      <td>Αθανασίου Ευαγγέλου Μαρία</td>\n",
       "      <td>Αθανασίου</td>\n",
       "      <td>Αθανασίου Μαρία</td>\n",
       "      <td>ΕΛΛΗΝΙΚΗ ΛΥΣΗ</td>\n",
       "      <td>MariaAt03902914</td>\n",
       "      <td>2801769645</td>\n",
       "      <td>1369317869264248838</td>\n",
       "      <td>3883801823</td>\n",
       "      <td>4841853117</td>\n",
       "      <td>1352034271477837826</td>\n",
       "      <td>...</td>\n",
       "      <td>1272520399973232640</td>\n",
       "      <td>774353219464093696</td>\n",
       "      <td>712359665833795585</td>\n",
       "      <td>905126924397281282</td>\n",
       "      <td>513081418</td>\n",
       "      <td>1263928166546096129</td>\n",
       "      <td>3346441403</td>\n",
       "      <td>764794474144858112</td>\n",
       "      <td>4841988202</td>\n",
       "      <td>409176426</td>\n",
       "    </tr>\n",
       "    <tr>\n",
       "      <th>3</th>\n",
       "      <td>Βαγενάς Κωνσταντίνου Δημήτριος</td>\n",
       "      <td>Βαγενάς</td>\n",
       "      <td>Βαγενάς Δημήτριος</td>\n",
       "      <td>ΕΛΛΗΝΙΚΗ ΛΥΣΗ</td>\n",
       "      <td>B3Vagenas</td>\n",
       "      <td>0</td>\n",
       "      <td>0</td>\n",
       "      <td>0</td>\n",
       "      <td>0</td>\n",
       "      <td>0</td>\n",
       "      <td>...</td>\n",
       "      <td>0</td>\n",
       "      <td>0</td>\n",
       "      <td>0</td>\n",
       "      <td>0</td>\n",
       "      <td>0</td>\n",
       "      <td>0</td>\n",
       "      <td>0</td>\n",
       "      <td>0</td>\n",
       "      <td>0</td>\n",
       "      <td>0</td>\n",
       "    </tr>\n",
       "    <tr>\n",
       "      <th>4</th>\n",
       "      <td>Ασημακοπούλου Δημητρίου Σοφία - Χάιδω</td>\n",
       "      <td>Ασημακοπούλου</td>\n",
       "      <td>Ασημακοπούλου Χάιδω</td>\n",
       "      <td>ΕΛΛΗΝΙΚΗ ΛΥΣΗ</td>\n",
       "      <td>SofAsimak</td>\n",
       "      <td>0</td>\n",
       "      <td>0</td>\n",
       "      <td>0</td>\n",
       "      <td>0</td>\n",
       "      <td>0</td>\n",
       "      <td>...</td>\n",
       "      <td>0</td>\n",
       "      <td>0</td>\n",
       "      <td>0</td>\n",
       "      <td>0</td>\n",
       "      <td>0</td>\n",
       "      <td>0</td>\n",
       "      <td>0</td>\n",
       "      <td>0</td>\n",
       "      <td>0</td>\n",
       "      <td>0</td>\n",
       "    </tr>\n",
       "  </tbody>\n",
       "</table>\n",
       "<p>5 rows × 25 columns</p>\n",
       "</div>"
      ],
      "text/plain": [
       "                                       Name (Long)        Surname  \\\n",
       "0                    Βιλιάρδος Διονυσίου Βασίλειος      Βιλιάρδος   \n",
       "1  Αλεξοπούλου Κωνσταντίνου Αναστασία - Αικατερίνη    Αλεξοπούλου   \n",
       "2                        Αθανασίου Ευαγγέλου Μαρία      Αθανασίου   \n",
       "3                   Βαγενάς Κωνσταντίνου Δημήτριος        Βαγενάς   \n",
       "4            Ασημακοπούλου Δημητρίου Σοφία - Χάιδω  Ασημακοπούλου   \n",
       "\n",
       "                     Name          Party   Twitter Handle    Result 1  \\\n",
       "0     Βιλιάρδος Βασίλειος  ΕΛΛΗΝΙΚΗ ΛΥΣΗ       ViliardosV           0   \n",
       "1  Αλεξοπούλου Αικατερίνη  ΕΛΛΗΝΙΚΗ ΛΥΣΗ        anaik2020           0   \n",
       "2         Αθανασίου Μαρία  ΕΛΛΗΝΙΚΗ ΛΥΣΗ  MariaAt03902914  2801769645   \n",
       "3       Βαγενάς Δημήτριος  ΕΛΛΗΝΙΚΗ ΛΥΣΗ        B3Vagenas           0   \n",
       "4     Ασημακοπούλου Χάιδω  ΕΛΛΗΝΙΚΗ ΛΥΣΗ        SofAsimak           0   \n",
       "\n",
       "              Result 2    Result 3    Result 4             Result 5  ...  \\\n",
       "0                    0           0           0                    0  ...   \n",
       "1                    0           0           0                    0  ...   \n",
       "2  1369317869264248838  3883801823  4841853117  1352034271477837826  ...   \n",
       "3                    0           0           0                    0  ...   \n",
       "4                    0           0           0                    0  ...   \n",
       "\n",
       "             Result 11           Result 12           Result 13  \\\n",
       "0                    0                   0                   0   \n",
       "1                    0                   0                   0   \n",
       "2  1272520399973232640  774353219464093696  712359665833795585   \n",
       "3                    0                   0                   0   \n",
       "4                    0                   0                   0   \n",
       "\n",
       "            Result 14  Result 15            Result 16   Result 17  \\\n",
       "0                   0          0                    0           0   \n",
       "1                   0          0                    0           0   \n",
       "2  905126924397281282  513081418  1263928166546096129  3346441403   \n",
       "3                   0          0                    0           0   \n",
       "4                   0          0                    0           0   \n",
       "\n",
       "            Result 18   Result 19  Result 20  \n",
       "0                   0           0          0  \n",
       "1                   0           0          0  \n",
       "2  764794474144858112  4841988202  409176426  \n",
       "3                   0           0          0  \n",
       "4                   0           0          0  \n",
       "\n",
       "[5 rows x 25 columns]"
      ]
     },
     "execution_count": 3,
     "metadata": {},
     "output_type": "execute_result"
    }
   ],
   "source": [
    "fn = pd.read_csv('Twitter-Search-Fullnames-Parliament-Members.csv')\n",
    "fn = fn.replace(np.nan, '')\n",
    "fn.head()"
   ]
  },
  {
   "cell_type": "code",
   "execution_count": 5,
   "id": "cosmetic-charlotte",
   "metadata": {},
   "outputs": [],
   "source": [
    "def get_ids(df):\n",
    "    true_id = []\n",
    "    for acc in tqdm(df):\n",
    "        if acc != '':\n",
    "            try:\n",
    "                user = API.get_user(acc)\n",
    "                true_id.append(user.id)\n",
    "            except:\n",
    "                print(acc)\n",
    "                true_id.append(0)\n",
    "        else:\n",
    "            true_id.append(0)\n",
    "    return true_id"
   ]
  },
  {
   "cell_type": "code",
   "execution_count": 6,
   "id": "joint-customs",
   "metadata": {},
   "outputs": [
    {
     "data": {
      "application/vnd.jupyter.widget-view+json": {
       "model_id": "63600406782141b7b0ebfece38b69d7e",
       "version_major": 2,
       "version_minor": 0
      },
      "text/plain": [
       "  0%|          | 0/300 [00:00<?, ?it/s]"
      ]
     },
     "metadata": {},
     "output_type": "display_data"
    },
    {
     "name": "stdout",
     "output_type": "stream",
     "text": [
      "xtarantilis\n",
      "katsafados\n",
      "stergiannakis\n"
     ]
    }
   ],
   "source": [
    "cols = ['Twitter Handle']\n",
    "for col in cols:\n",
    "    fn[col] = get_ids(fn[col])"
   ]
  },
  {
   "cell_type": "markdown",
   "id": "exciting-athletics",
   "metadata": {},
   "source": [
    "## With a Twitter Account "
   ]
  },
  {
   "cell_type": "code",
   "execution_count": 35,
   "id": "golden-emission",
   "metadata": {},
   "outputs": [],
   "source": [
    "fn_acc = fn[fn['Twitter Handle'] != 0].copy() "
   ]
  },
  {
   "cell_type": "code",
   "execution_count": 36,
   "id": "challenging-ancient",
   "metadata": {},
   "outputs": [],
   "source": [
    "top1 = [False for i in range(len(fn_acc))]\n",
    "top5 = [False for i in range(len(fn_acc))]\n",
    "top10 = [False for i in range(len(fn_acc))]\n",
    "\n",
    "for i, acc in enumerate(fn_acc['Twitter Handle']):\n",
    "    for j,res in enumerate(fn_acc[[f'Result {k+1}' for k in range(10)]].iloc[i].unique()):\n",
    "        if acc == res:\n",
    "            if j < 1:\n",
    "                top1[i] = True\n",
    "            elif 0 < j < 6:\n",
    "                top5[i] = True\n",
    "            else:\n",
    "                top10[j] = True"
   ]
  },
  {
   "cell_type": "code",
   "execution_count": 37,
   "id": "molecular-lyric",
   "metadata": {},
   "outputs": [],
   "source": [
    "found = [a or b or c for a,b,c in zip(top1,top5,top10)]"
   ]
  },
  {
   "cell_type": "code",
   "execution_count": 38,
   "id": "western-startup",
   "metadata": {},
   "outputs": [
    {
     "data": {
      "text/plain": [
       "<matplotlib.legend.Legend at 0x7f822ee060d0>"
      ]
     },
     "execution_count": 38,
     "metadata": {},
     "output_type": "execute_result"
    },
    {
     "data": {
      "image/png": "[encoded data removed]",
      "text/plain": [
       "<Figure size 432x288 with 1 Axes>"
      ]
     },
     "metadata": {},
     "output_type": "display_data"
    }
   ],
   "source": [
    "fig, ax = plt.subplots()\n",
    "color_palette_list = ['#009BD0', '#00BDCC', '#ADD8E6']\n",
    "\n",
    "plt.rcParams['font.sans-serif'] = 'Arial'\n",
    "plt.rcParams['font.family'] = 'sans-serif'\n",
    "plt.rcParams['text.color'] = 'black'\n",
    "plt.rcParams['axes.labelcolor']= 'black'\n",
    "plt.rcParams['xtick.color'] = 'black'\n",
    "plt.rcParams['ytick.color'] = 'black'\n",
    "plt.rcParams['font.size']=14\n",
    "\n",
    "x = [top1.count(True), top5.count(True), found.count(False)]\n",
    "labels = ['Top 1', 'Top 5' ,'Was not found']\n",
    "_=ax.pie(x, colors=color_palette_list,\n",
    "         autopct='%1.0f%%', shadow=True, startangle=90, pctdistance=0.5,labeldistance=1.3, explode=(0.01,0.01,0.1))\n",
    "ax.legend(frameon=True, bbox_to_anchor=(1,0.75), labels=labels)"
   ]
  },
  {
   "cell_type": "markdown",
   "id": "molecular-helping",
   "metadata": {},
   "source": [
    "### Export Results"
   ]
  },
  {
   "cell_type": "code",
   "execution_count": 16,
   "id": "twelve-auditor",
   "metadata": {},
   "outputs": [
    {
     "data": {
      "text/html": [
       "<div>\n",
       "<style scoped>\n",
       "    .dataframe tbody tr th:only-of-type {\n",
       "        vertical-align: middle;\n",
       "    }\n",
       "\n",
       "    .dataframe tbody tr th {\n",
       "        vertical-align: top;\n",
       "    }\n",
       "\n",
       "    .dataframe thead th {\n",
       "        text-align: right;\n",
       "    }\n",
       "</style>\n",
       "<table border=\"1\" class=\"dataframe\">\n",
       "  <thead>\n",
       "    <tr style=\"text-align: right;\">\n",
       "      <th></th>\n",
       "      <th>Name</th>\n",
       "      <th>GoogleAPI Fullnames</th>\n",
       "      <th>GoogleAPI Surnames</th>\n",
       "    </tr>\n",
       "  </thead>\n",
       "  <tbody>\n",
       "    <tr>\n",
       "      <th>0</th>\n",
       "      <td>Βιλιάρδος Βασίλειος</td>\n",
       "      <td>True</td>\n",
       "      <td>True</td>\n",
       "    </tr>\n",
       "    <tr>\n",
       "      <th>1</th>\n",
       "      <td>Αλεξοπούλου Αικατερίνη</td>\n",
       "      <td>True</td>\n",
       "      <td>False</td>\n",
       "    </tr>\n",
       "  </tbody>\n",
       "</table>\n",
       "</div>"
      ],
      "text/plain": [
       "                     Name  GoogleAPI Fullnames  GoogleAPI Surnames\n",
       "0     Βιλιάρδος Βασίλειος                 True                True\n",
       "1  Αλεξοπούλου Αικατερίνη                 True               False"
      ]
     },
     "execution_count": 16,
     "metadata": {},
     "output_type": "execute_result"
    }
   ],
   "source": [
    "rs = pd.read_csv('../result-method-parliament-member-search.csv')\n",
    "rs.head(2)"
   ]
  },
  {
   "cell_type": "code",
   "execution_count": 17,
   "id": "rocky-motion",
   "metadata": {},
   "outputs": [],
   "source": [
    "rs['TwitterAPI Fullnames'] = found"
   ]
  },
  {
   "cell_type": "code",
   "execution_count": 19,
   "id": "downtown-puppy",
   "metadata": {},
   "outputs": [],
   "source": [
    "rs.to_csv('../result-method-parliament-member-search.csv', index=False)"
   ]
  },
  {
   "cell_type": "code",
   "execution_count": 20,
   "id": "animal-puppy",
   "metadata": {},
   "outputs": [],
   "source": [
    "del rs"
   ]
  },
  {
   "cell_type": "markdown",
   "id": "central-spain",
   "metadata": {},
   "source": [
    "## Without a Twitter Account "
   ]
  },
  {
   "cell_type": "code",
   "execution_count": 21,
   "id": "checked-introduction",
   "metadata": {},
   "outputs": [],
   "source": [
    "target_names = ['Has an Account', 'Does not have a Account']"
   ]
  },
  {
   "cell_type": "code",
   "execution_count": 22,
   "id": "excellent-settle",
   "metadata": {},
   "outputs": [],
   "source": [
    "fn_noacc = fn[fn['Twitter Handle'] == 0].copy() "
   ]
  },
  {
   "cell_type": "code",
   "execution_count": 23,
   "id": "auburn-cleaner",
   "metadata": {},
   "outputs": [],
   "source": [
    "correct = []\n",
    "for i, acc in enumerate(fn_noacc['Twitter Handle']):\n",
    "    if acc == fn_noacc['Result 1'].iloc[i]:\n",
    "        correct.append(True)\n",
    "    else:\n",
    "        correct.append(False)         "
   ]
  },
  {
   "cell_type": "code",
   "execution_count": 24,
   "id": "hindu-clinic",
   "metadata": {},
   "outputs": [
    {
     "data": {
      "text/plain": [
       "(46, 16)"
      ]
     },
     "execution_count": 24,
     "metadata": {},
     "output_type": "execute_result"
    }
   ],
   "source": [
    "correct.count(True), correct.count(False)"
   ]
  },
  {
   "cell_type": "markdown",
   "id": "plain-movie",
   "metadata": {},
   "source": [
    "## Final Results"
   ]
  },
  {
   "cell_type": "code",
   "execution_count": 25,
   "id": "located-namibia",
   "metadata": {},
   "outputs": [
    {
     "data": {
      "text/plain": [
       "array([[107,  46],\n",
       "       [131,  16]])"
      ]
     },
     "execution_count": 25,
     "metadata": {},
     "output_type": "execute_result"
    }
   ],
   "source": [
    "fin_result = np.array([[found.count(True),correct.count(True)],\n",
    "                      [found.count(False),correct.count(False)]])\n",
    "fin_result"
   ]
  },
  {
   "cell_type": "code",
   "execution_count": 33,
   "id": "thousand-junior",
   "metadata": {},
   "outputs": [
    {
     "data": {
      "text/plain": [
       "<AxesSubplot:>"
      ]
     },
     "execution_count": 33,
     "metadata": {},
     "output_type": "execute_result"
    },
    {
     "data": {
      "image/png": "[encoded data removed]",
      "text/plain": [
       "<Figure size 432x288 with 1 Axes>"
      ]
     },
     "metadata": {
      "needs_background": "light"
     },
     "output_type": "display_data"
    }
   ],
   "source": [
    "pd.DataFrame(fin_result, \n",
    "             columns=['Uses Twitter', 'Does not use Twitter'], \n",
    "             index=['Correct', 'Incorrect']).T.plot(kind='barh')"
   ]
  },
  {
   "cell_type": "markdown",
   "id": "usual-battery",
   "metadata": {},
   "source": [
    "## Do Result Include other Parliament Members ?"
   ]
  },
  {
   "cell_type": "code",
   "execution_count": 27,
   "id": "protective-pastor",
   "metadata": {},
   "outputs": [],
   "source": [
    "par_accs = list(fn_acc['Twitter Handle'])"
   ]
  },
  {
   "cell_type": "code",
   "execution_count": 28,
   "id": "dietary-worcester",
   "metadata": {},
   "outputs": [],
   "source": [
    "counts = [0 for i in range(len(fn))]\n",
    "for i, tr in enumerate(fn['Twitter Handle']):\n",
    "    for j,res in enumerate(fn[[f'Result {k+1}' for k in range(7)]].iloc[i].unique()):\n",
    "        for acc in par_accs:\n",
    "            if res == acc and res != tr:\n",
    "                counts[i] += 1"
   ]
  },
  {
   "cell_type": "code",
   "execution_count": 29,
   "id": "native-controversy",
   "metadata": {},
   "outputs": [],
   "source": [
    "fn['Total Parl Results'] = counts"
   ]
  },
  {
   "cell_type": "code",
   "execution_count": 30,
   "id": "registered-mumbai",
   "metadata": {},
   "outputs": [
    {
     "data": {
      "text/plain": [
       "0"
      ]
     },
     "execution_count": 30,
     "metadata": {},
     "output_type": "execute_result"
    }
   ],
   "source": [
    "len(fn[fn['Total Parl Results'] != 0])"
   ]
  },
  {
   "cell_type": "markdown",
   "id": "handled-police",
   "metadata": {},
   "source": [
    "---\n",
    "# Surnames"
   ]
  },
  {
   "cell_type": "code",
   "execution_count": 41,
   "id": "collectible-intensity",
   "metadata": {},
   "outputs": [
    {
     "data": {
      "text/html": [
       "<div>\n",
       "<style scoped>\n",
       "    .dataframe tbody tr th:only-of-type {\n",
       "        vertical-align: middle;\n",
       "    }\n",
       "\n",
       "    .dataframe tbody tr th {\n",
       "        vertical-align: top;\n",
       "    }\n",
       "\n",
       "    .dataframe thead th {\n",
       "        text-align: right;\n",
       "    }\n",
       "</style>\n",
       "<table border=\"1\" class=\"dataframe\">\n",
       "  <thead>\n",
       "    <tr style=\"text-align: right;\">\n",
       "      <th></th>\n",
       "      <th>Name (Long)</th>\n",
       "      <th>Surname</th>\n",
       "      <th>Name</th>\n",
       "      <th>Party</th>\n",
       "      <th>Twitter Handle</th>\n",
       "      <th>Result 1</th>\n",
       "      <th>Result 2</th>\n",
       "      <th>Result 3</th>\n",
       "      <th>Result 4</th>\n",
       "      <th>Result 5</th>\n",
       "      <th>...</th>\n",
       "      <th>Result 11</th>\n",
       "      <th>Result 12</th>\n",
       "      <th>Result 13</th>\n",
       "      <th>Result 14</th>\n",
       "      <th>Result 15</th>\n",
       "      <th>Result 16</th>\n",
       "      <th>Result 17</th>\n",
       "      <th>Result 18</th>\n",
       "      <th>Result 19</th>\n",
       "      <th>Result 20</th>\n",
       "    </tr>\n",
       "  </thead>\n",
       "  <tbody>\n",
       "    <tr>\n",
       "      <th>0</th>\n",
       "      <td>Βιλιάρδος Διονυσίου Βασίλειος</td>\n",
       "      <td>Βιλιάρδος</td>\n",
       "      <td>Βιλιάρδος Βασίλειος</td>\n",
       "      <td>ΕΛΛΗΝΙΚΗ ΛΥΣΗ</td>\n",
       "      <td>ViliardosV</td>\n",
       "      <td>174226430</td>\n",
       "      <td>0</td>\n",
       "      <td>0</td>\n",
       "      <td>0</td>\n",
       "      <td>0</td>\n",
       "      <td>...</td>\n",
       "      <td>0</td>\n",
       "      <td>0</td>\n",
       "      <td>0</td>\n",
       "      <td>0</td>\n",
       "      <td>0</td>\n",
       "      <td>0</td>\n",
       "      <td>0</td>\n",
       "      <td>0</td>\n",
       "      <td>0</td>\n",
       "      <td>0</td>\n",
       "    </tr>\n",
       "    <tr>\n",
       "      <th>1</th>\n",
       "      <td>Αλεξοπούλου Κωνσταντίνου Αναστασία - Αικατερίνη</td>\n",
       "      <td>Αλεξοπούλου</td>\n",
       "      <td>Αλεξοπούλου Αικατερίνη</td>\n",
       "      <td>ΕΛΛΗΝΙΚΗ ΛΥΣΗ</td>\n",
       "      <td>anaik2020</td>\n",
       "      <td>126143952</td>\n",
       "      <td>93629265</td>\n",
       "      <td>282486425</td>\n",
       "      <td>2596344709</td>\n",
       "      <td>167572986</td>\n",
       "      <td>...</td>\n",
       "      <td>2569485777</td>\n",
       "      <td>2329900741</td>\n",
       "      <td>2694843255</td>\n",
       "      <td>2370663787</td>\n",
       "      <td>4641601163</td>\n",
       "      <td>1373670869613084674</td>\n",
       "      <td>507489429</td>\n",
       "      <td>4209308067</td>\n",
       "      <td>3110162349</td>\n",
       "      <td>1189778967546474498</td>\n",
       "    </tr>\n",
       "    <tr>\n",
       "      <th>2</th>\n",
       "      <td>Αθανασίου Ευαγγέλου Μαρία</td>\n",
       "      <td>Αθανασίου</td>\n",
       "      <td>Αθανασίου Μαρία</td>\n",
       "      <td>ΕΛΛΗΝΙΚΗ ΛΥΣΗ</td>\n",
       "      <td>MariaAt03902914</td>\n",
       "      <td>965785002</td>\n",
       "      <td>2840171877</td>\n",
       "      <td>424495304</td>\n",
       "      <td>1847450509</td>\n",
       "      <td>484212704</td>\n",
       "      <td>...</td>\n",
       "      <td>1697401291</td>\n",
       "      <td>1050337249496391681</td>\n",
       "      <td>799200059464318976</td>\n",
       "      <td>3253495824</td>\n",
       "      <td>2466023912</td>\n",
       "      <td>582976052</td>\n",
       "      <td>984469619023994880</td>\n",
       "      <td>705406032</td>\n",
       "      <td>886626800</td>\n",
       "      <td>860197691447549954</td>\n",
       "    </tr>\n",
       "    <tr>\n",
       "      <th>3</th>\n",
       "      <td>Βαγενάς Κωνσταντίνου Δημήτριος</td>\n",
       "      <td>Βαγενάς</td>\n",
       "      <td>Βαγενάς Δημήτριος</td>\n",
       "      <td>ΕΛΛΗΝΙΚΗ ΛΥΣΗ</td>\n",
       "      <td>B3Vagenas</td>\n",
       "      <td>1977451178</td>\n",
       "      <td>1049215741</td>\n",
       "      <td>1534824312</td>\n",
       "      <td>1264145037929185280</td>\n",
       "      <td>739463983405662208</td>\n",
       "      <td>...</td>\n",
       "      <td>2400905457</td>\n",
       "      <td>1302266183790604290</td>\n",
       "      <td>3167304245</td>\n",
       "      <td>4219002089</td>\n",
       "      <td>1209556114725130240</td>\n",
       "      <td>3351186423</td>\n",
       "      <td>970798547460395008</td>\n",
       "      <td>3244790992</td>\n",
       "      <td>2161086549</td>\n",
       "      <td>704032421696643073</td>\n",
       "    </tr>\n",
       "    <tr>\n",
       "      <th>4</th>\n",
       "      <td>Ασημακοπούλου Δημητρίου Σοφία - Χάιδω</td>\n",
       "      <td>Ασημακοπούλου</td>\n",
       "      <td>Ασημακοπούλου Χάιδω</td>\n",
       "      <td>ΕΛΛΗΝΙΚΗ ΛΥΣΗ</td>\n",
       "      <td>SofAsimak</td>\n",
       "      <td>533041104</td>\n",
       "      <td>998828010181709825</td>\n",
       "      <td>1148229718627540992</td>\n",
       "      <td>405567257</td>\n",
       "      <td>1216171735</td>\n",
       "      <td>...</td>\n",
       "      <td>3107550591</td>\n",
       "      <td>3029871778</td>\n",
       "      <td>1851852092</td>\n",
       "      <td>863376977331400705</td>\n",
       "      <td>2463333126</td>\n",
       "      <td>842354478</td>\n",
       "      <td>1361908210068836353</td>\n",
       "      <td>4179542776</td>\n",
       "      <td>3172032267</td>\n",
       "      <td>3923205689</td>\n",
       "    </tr>\n",
       "  </tbody>\n",
       "</table>\n",
       "<p>5 rows × 25 columns</p>\n",
       "</div>"
      ],
      "text/plain": [
       "                                       Name (Long)        Surname  \\\n",
       "0                    Βιλιάρδος Διονυσίου Βασίλειος      Βιλιάρδος   \n",
       "1  Αλεξοπούλου Κωνσταντίνου Αναστασία - Αικατερίνη    Αλεξοπούλου   \n",
       "2                        Αθανασίου Ευαγγέλου Μαρία      Αθανασίου   \n",
       "3                   Βαγενάς Κωνσταντίνου Δημήτριος        Βαγενάς   \n",
       "4            Ασημακοπούλου Δημητρίου Σοφία - Χάιδω  Ασημακοπούλου   \n",
       "\n",
       "                     Name          Party   Twitter Handle    Result 1  \\\n",
       "0     Βιλιάρδος Βασίλειος  ΕΛΛΗΝΙΚΗ ΛΥΣΗ       ViliardosV   174226430   \n",
       "1  Αλεξοπούλου Αικατερίνη  ΕΛΛΗΝΙΚΗ ΛΥΣΗ        anaik2020   126143952   \n",
       "2         Αθανασίου Μαρία  ΕΛΛΗΝΙΚΗ ΛΥΣΗ  MariaAt03902914   965785002   \n",
       "3       Βαγενάς Δημήτριος  ΕΛΛΗΝΙΚΗ ΛΥΣΗ        B3Vagenas  1977451178   \n",
       "4     Ασημακοπούλου Χάιδω  ΕΛΛΗΝΙΚΗ ΛΥΣΗ        SofAsimak   533041104   \n",
       "\n",
       "             Result 2             Result 3             Result 4  \\\n",
       "0                   0                    0                    0   \n",
       "1            93629265            282486425           2596344709   \n",
       "2          2840171877            424495304           1847450509   \n",
       "3          1049215741           1534824312  1264145037929185280   \n",
       "4  998828010181709825  1148229718627540992            405567257   \n",
       "\n",
       "             Result 5  ...   Result 11            Result 12  \\\n",
       "0                   0  ...           0                    0   \n",
       "1           167572986  ...  2569485777           2329900741   \n",
       "2           484212704  ...  1697401291  1050337249496391681   \n",
       "3  739463983405662208  ...  2400905457  1302266183790604290   \n",
       "4          1216171735  ...  3107550591           3029871778   \n",
       "\n",
       "            Result 13           Result 14            Result 15  \\\n",
       "0                   0                   0                    0   \n",
       "1          2694843255          2370663787           4641601163   \n",
       "2  799200059464318976          3253495824           2466023912   \n",
       "3          3167304245          4219002089  1209556114725130240   \n",
       "4          1851852092  863376977331400705           2463333126   \n",
       "\n",
       "             Result 16            Result 17   Result 18   Result 19  \\\n",
       "0                    0                    0           0           0   \n",
       "1  1373670869613084674            507489429  4209308067  3110162349   \n",
       "2            582976052   984469619023994880   705406032   886626800   \n",
       "3           3351186423   970798547460395008  3244790992  2161086549   \n",
       "4            842354478  1361908210068836353  4179542776  3172032267   \n",
       "\n",
       "             Result 20  \n",
       "0                    0  \n",
       "1  1189778967546474498  \n",
       "2   860197691447549954  \n",
       "3   704032421696643073  \n",
       "4           3923205689  \n",
       "\n",
       "[5 rows x 25 columns]"
      ]
     },
     "execution_count": 41,
     "metadata": {},
     "output_type": "execute_result"
    }
   ],
   "source": [
    "fn = pd.read_csv('Twitter-Search-Surnames-Parliament-Members.csv')\n",
    "fn = fn.replace(np.nan, '')\n",
    "fn.head()"
   ]
  },
  {
   "cell_type": "code",
   "execution_count": 42,
   "id": "powerful-collector",
   "metadata": {},
   "outputs": [],
   "source": [
    "def get_ids(df):\n",
    "    true_id = []\n",
    "    for acc in tqdm(df):\n",
    "        if acc != '':\n",
    "            try:\n",
    "                user = API.get_user(acc)\n",
    "                true_id.append(user.id)\n",
    "            except:\n",
    "                print(acc)\n",
    "                true_id.append(0)\n",
    "        else:\n",
    "            true_id.append(0)\n",
    "    return true_id"
   ]
  },
  {
   "cell_type": "code",
   "execution_count": 44,
   "id": "ancient-steel",
   "metadata": {},
   "outputs": [
    {
     "data": {
      "application/vnd.jupyter.widget-view+json": {
       "model_id": "35e141f84e4d4e4da06515a54c9d6caa",
       "version_major": 2,
       "version_minor": 0
      },
      "text/plain": [
       "  0%|          | 0/300 [00:00<?, ?it/s]"
      ]
     },
     "metadata": {},
     "output_type": "display_data"
    },
    {
     "name": "stdout",
     "output_type": "stream",
     "text": [
      "xtarantilis\n",
      "katsafados\n",
      "stergiannakis\n"
     ]
    }
   ],
   "source": [
    "cols = ['Twitter Handle']\n",
    "for col in cols:\n",
    "    fn[col] = get_ids(fn[col])"
   ]
  },
  {
   "cell_type": "markdown",
   "id": "statewide-catalog",
   "metadata": {},
   "source": [
    "## With a Twitter Account "
   ]
  },
  {
   "cell_type": "code",
   "execution_count": 45,
   "id": "retained-international",
   "metadata": {},
   "outputs": [],
   "source": [
    "fn_acc = fn[fn['Twitter Handle'] != 0].copy() "
   ]
  },
  {
   "cell_type": "code",
   "execution_count": 46,
   "id": "christian-acquisition",
   "metadata": {},
   "outputs": [],
   "source": [
    "top1 = [False for i in range(len(fn_acc))]\n",
    "top5 = [False for i in range(len(fn_acc))]\n",
    "top10 = [False for i in range(len(fn_acc))]\n",
    "\n",
    "for i, acc in enumerate(fn_acc['Twitter Handle']):\n",
    "    for j,res in enumerate(fn_acc[[f'Result {k+1}' for k in range(10)]].iloc[i].unique()):\n",
    "        if acc == res:\n",
    "            if j < 1:\n",
    "                top1[i] = True\n",
    "            elif 0 < j < 6:\n",
    "                top5[i] = True\n",
    "            else:\n",
    "                top10[j] = True"
   ]
  },
  {
   "cell_type": "code",
   "execution_count": 47,
   "id": "increased-learning",
   "metadata": {},
   "outputs": [],
   "source": [
    "found = [a or b or c for a,b,c in zip(top1,top5,top10)]"
   ]
  },
  {
   "cell_type": "code",
   "execution_count": 62,
   "id": "antique-beach",
   "metadata": {},
   "outputs": [
    {
     "data": {
      "text/plain": [
       "<matplotlib.legend.Legend at 0x7f822f6520d0>"
      ]
     },
     "execution_count": 62,
     "metadata": {},
     "output_type": "execute_result"
    },
    {
     "data": {
      "image/png": "[encoded data removed]",
      "text/plain": [
       "<Figure size 432x288 with 1 Axes>"
      ]
     },
     "metadata": {},
     "output_type": "display_data"
    }
   ],
   "source": [
    "fig, ax = plt.subplots()\n",
    "color_palette_list = ['#009BD0', '#00BDCC','#00FDCC','#ADD8E6']\n",
    "\n",
    "plt.rcParams['font.sans-serif'] = 'Arial'\n",
    "plt.rcParams['font.family'] = 'sans-serif'\n",
    "plt.rcParams['text.color'] = 'black'\n",
    "plt.rcParams['axes.labelcolor']= 'black'\n",
    "plt.rcParams['xtick.color'] = 'black'\n",
    "plt.rcParams['ytick.color'] = 'black'\n",
    "plt.rcParams['font.size']=14\n",
    "\n",
    "x = [top1.count(True), top5.count(True), top10.count(True), found.count(False)]\n",
    "labels = ['Top 1', 'Top 5', 'Top 10' ,'Was not found']\n",
    "_=ax.pie(x, colors=color_palette_list,\n",
    "         autopct='%1.0f%%', shadow=True, startangle=90, pctdistance=0.5,labeldistance=1.3, explode=(0.1,0.1,0.1,0.1))\n",
    "ax.legend(frameon=True, bbox_to_anchor=(1,0.75), labels=labels)"
   ]
  },
  {
   "cell_type": "markdown",
   "id": "affected-gathering",
   "metadata": {},
   "source": [
    "### Export Results"
   ]
  },
  {
   "cell_type": "code",
   "execution_count": 63,
   "id": "wrong-publicity",
   "metadata": {},
   "outputs": [
    {
     "data": {
      "text/html": [
       "<div>\n",
       "<style scoped>\n",
       "    .dataframe tbody tr th:only-of-type {\n",
       "        vertical-align: middle;\n",
       "    }\n",
       "\n",
       "    .dataframe tbody tr th {\n",
       "        vertical-align: top;\n",
       "    }\n",
       "\n",
       "    .dataframe thead th {\n",
       "        text-align: right;\n",
       "    }\n",
       "</style>\n",
       "<table border=\"1\" class=\"dataframe\">\n",
       "  <thead>\n",
       "    <tr style=\"text-align: right;\">\n",
       "      <th></th>\n",
       "      <th>Name</th>\n",
       "      <th>GoogleAPI Fullnames</th>\n",
       "      <th>GoogleAPI Surnames</th>\n",
       "      <th>TwitterAPI Fullnames</th>\n",
       "    </tr>\n",
       "  </thead>\n",
       "  <tbody>\n",
       "    <tr>\n",
       "      <th>0</th>\n",
       "      <td>Βιλιάρδος Βασίλειος</td>\n",
       "      <td>True</td>\n",
       "      <td>True</td>\n",
       "      <td>False</td>\n",
       "    </tr>\n",
       "    <tr>\n",
       "      <th>1</th>\n",
       "      <td>Αλεξοπούλου Αικατερίνη</td>\n",
       "      <td>True</td>\n",
       "      <td>False</td>\n",
       "      <td>False</td>\n",
       "    </tr>\n",
       "    <tr>\n",
       "      <th>2</th>\n",
       "      <td>Αθανασίου Μαρία</td>\n",
       "      <td>True</td>\n",
       "      <td>False</td>\n",
       "      <td>False</td>\n",
       "    </tr>\n",
       "    <tr>\n",
       "      <th>3</th>\n",
       "      <td>Βαγενάς Δημήτριος</td>\n",
       "      <td>True</td>\n",
       "      <td>True</td>\n",
       "      <td>False</td>\n",
       "    </tr>\n",
       "    <tr>\n",
       "      <th>4</th>\n",
       "      <td>Ασημακοπούλου Χάιδω</td>\n",
       "      <td>False</td>\n",
       "      <td>False</td>\n",
       "      <td>False</td>\n",
       "    </tr>\n",
       "  </tbody>\n",
       "</table>\n",
       "</div>"
      ],
      "text/plain": [
       "                     Name  GoogleAPI Fullnames  GoogleAPI Surnames  \\\n",
       "0     Βιλιάρδος Βασίλειος                 True                True   \n",
       "1  Αλεξοπούλου Αικατερίνη                 True               False   \n",
       "2         Αθανασίου Μαρία                 True               False   \n",
       "3       Βαγενάς Δημήτριος                 True                True   \n",
       "4     Ασημακοπούλου Χάιδω                False               False   \n",
       "\n",
       "   TwitterAPI Fullnames  \n",
       "0                 False  \n",
       "1                 False  \n",
       "2                 False  \n",
       "3                 False  \n",
       "4                 False  "
      ]
     },
     "execution_count": 63,
     "metadata": {},
     "output_type": "execute_result"
    }
   ],
   "source": [
    "temp = pd.read_csv('../result-method-parliament-member-search.csv')\n",
    "temp.head()"
   ]
  },
  {
   "cell_type": "code",
   "execution_count": 64,
   "id": "junior-serbia",
   "metadata": {},
   "outputs": [],
   "source": [
    "temp['TwitterAPI Surnames'] = found"
   ]
  },
  {
   "cell_type": "code",
   "execution_count": 65,
   "id": "interior-somalia",
   "metadata": {},
   "outputs": [],
   "source": [
    "temp.to_csv('../result-method-parliament-member-search.csv', index=False)"
   ]
  },
  {
   "cell_type": "code",
   "execution_count": 66,
   "id": "criminal-enzyme",
   "metadata": {},
   "outputs": [],
   "source": [
    "del temp"
   ]
  },
  {
   "cell_type": "markdown",
   "id": "fluid-mentor",
   "metadata": {},
   "source": [
    "## Without a Twitter Account "
   ]
  },
  {
   "cell_type": "code",
   "execution_count": 67,
   "id": "american-refund",
   "metadata": {},
   "outputs": [],
   "source": [
    "target_names = ['Has an Account', 'Does not have a Account']"
   ]
  },
  {
   "cell_type": "code",
   "execution_count": 68,
   "id": "monthly-hughes",
   "metadata": {},
   "outputs": [],
   "source": [
    "fn_noacc = fn[fn['Twitter Handle'] == 0].copy() "
   ]
  },
  {
   "cell_type": "code",
   "execution_count": 69,
   "id": "informed-volunteer",
   "metadata": {},
   "outputs": [],
   "source": [
    "correct = []\n",
    "for i, acc in enumerate(fn_noacc['Twitter Handle']):\n",
    "    if acc == fn_noacc['Result 1'].iloc[i]:\n",
    "        correct.append(True)\n",
    "    else:\n",
    "        correct.append(False)         "
   ]
  },
  {
   "cell_type": "code",
   "execution_count": 70,
   "id": "divine-processing",
   "metadata": {},
   "outputs": [
    {
     "data": {
      "text/plain": [
       "(7, 55)"
      ]
     },
     "execution_count": 70,
     "metadata": {},
     "output_type": "execute_result"
    }
   ],
   "source": [
    "correct.count(True), correct.count(False)"
   ]
  },
  {
   "cell_type": "markdown",
   "id": "treated-entrepreneur",
   "metadata": {},
   "source": [
    "## Final Results"
   ]
  },
  {
   "cell_type": "code",
   "execution_count": 71,
   "id": "surrounded-relationship",
   "metadata": {},
   "outputs": [
    {
     "data": {
      "text/plain": [
       "array([[159,   7],\n",
       "       [ 79,  55]])"
      ]
     },
     "execution_count": 71,
     "metadata": {},
     "output_type": "execute_result"
    }
   ],
   "source": [
    "fin_result = np.array([[found.count(True),correct.count(True)],\n",
    "                      [found.count(False),correct.count(False)]])\n",
    "fin_result"
   ]
  },
  {
   "cell_type": "code",
   "execution_count": 72,
   "id": "fancy-championship",
   "metadata": {},
   "outputs": [
    {
     "data": {
      "text/plain": [
       "<AxesSubplot:>"
      ]
     },
     "execution_count": 72,
     "metadata": {},
     "output_type": "execute_result"
    },
    {
     "data": {
      "image/png": "[encoded data removed]",
      "text/plain": [
       "<Figure size 432x288 with 1 Axes>"
      ]
     },
     "metadata": {
      "needs_background": "light"
     },
     "output_type": "display_data"
    }
   ],
   "source": [
    "pd.DataFrame(fin_result, \n",
    "             columns=['Uses Twitter', 'Does not use Twitter'], \n",
    "             index=['Correct', 'Incorrect']).T.plot(kind='barh')"
   ]
  },
  {
   "cell_type": "markdown",
   "id": "impressive-subcommittee",
   "metadata": {},
   "source": [
    "## Do Result Include other Parliament Members ?"
   ]
  },
  {
   "cell_type": "code",
   "execution_count": 73,
   "id": "secure-finland",
   "metadata": {},
   "outputs": [],
   "source": [
    "par_accs = list(fn_acc['Twitter Handle'])"
   ]
  },
  {
   "cell_type": "code",
   "execution_count": 74,
   "id": "fifteen-burden",
   "metadata": {},
   "outputs": [],
   "source": [
    "counts = [0 for i in range(len(fn))]\n",
    "for i, tr in enumerate(fn['Twitter Handle']):\n",
    "    for j,res in enumerate(fn[[f'Result {k+1}' for k in range(7)]].iloc[i].unique()):\n",
    "        for acc in par_accs:\n",
    "            if res == acc and res != tr:\n",
    "                counts[i] += 1"
   ]
  },
  {
   "cell_type": "code",
   "execution_count": 75,
   "id": "progressive-developer",
   "metadata": {},
   "outputs": [],
   "source": [
    "fn['Total Parl Results'] = counts"
   ]
  },
  {
   "cell_type": "code",
   "execution_count": 76,
   "id": "flush-polish",
   "metadata": {},
   "outputs": [
    {
     "data": {
      "text/plain": [
       "17"
      ]
     },
     "execution_count": 76,
     "metadata": {},
     "output_type": "execute_result"
    }
   ],
   "source": [
    "len(fn[fn['Total Parl Results'] != 0])"
   ]
  },
  {
   "cell_type": "markdown",
   "id": "centered-colors",
   "metadata": {},
   "source": [
    "---\n",
    "# Surnames Greeklish"
   ]
  },
  {
   "cell_type": "code",
   "execution_count": 91,
   "id": "false-highland",
   "metadata": {},
   "outputs": [
    {
     "data": {
      "text/html": [
       "<div>\n",
       "<style scoped>\n",
       "    .dataframe tbody tr th:only-of-type {\n",
       "        vertical-align: middle;\n",
       "    }\n",
       "\n",
       "    .dataframe tbody tr th {\n",
       "        vertical-align: top;\n",
       "    }\n",
       "\n",
       "    .dataframe thead th {\n",
       "        text-align: right;\n",
       "    }\n",
       "</style>\n",
       "<table border=\"1\" class=\"dataframe\">\n",
       "  <thead>\n",
       "    <tr style=\"text-align: right;\">\n",
       "      <th></th>\n",
       "      <th>Name (Long)</th>\n",
       "      <th>Surname</th>\n",
       "      <th>Name</th>\n",
       "      <th>Party</th>\n",
       "      <th>Twitter Handle</th>\n",
       "      <th>Result 1</th>\n",
       "      <th>Result 2</th>\n",
       "      <th>Result 3</th>\n",
       "      <th>Result 4</th>\n",
       "      <th>Result 5</th>\n",
       "      <th>...</th>\n",
       "      <th>Result 11</th>\n",
       "      <th>Result 12</th>\n",
       "      <th>Result 13</th>\n",
       "      <th>Result 14</th>\n",
       "      <th>Result 15</th>\n",
       "      <th>Result 16</th>\n",
       "      <th>Result 17</th>\n",
       "      <th>Result 18</th>\n",
       "      <th>Result 19</th>\n",
       "      <th>Result 20</th>\n",
       "    </tr>\n",
       "  </thead>\n",
       "  <tbody>\n",
       "    <tr>\n",
       "      <th>0</th>\n",
       "      <td>Βιλιάρδος Διονυσίου Βασίλειος</td>\n",
       "      <td>Βιλιάρδος</td>\n",
       "      <td>Βιλιάρδος Βασίλειος</td>\n",
       "      <td>ΕΛΛΗΝΙΚΗ ΛΥΣΗ</td>\n",
       "      <td>ViliardosV</td>\n",
       "      <td>174226430</td>\n",
       "      <td>246390608</td>\n",
       "      <td>849013729</td>\n",
       "      <td>856448283547320322</td>\n",
       "      <td>1032949155314970624</td>\n",
       "      <td>...</td>\n",
       "      <td>0</td>\n",
       "      <td>0</td>\n",
       "      <td>0</td>\n",
       "      <td>0</td>\n",
       "      <td>0</td>\n",
       "      <td>0</td>\n",
       "      <td>0</td>\n",
       "      <td>0</td>\n",
       "      <td>0</td>\n",
       "      <td>0</td>\n",
       "    </tr>\n",
       "    <tr>\n",
       "      <th>1</th>\n",
       "      <td>Αλεξοπούλου Κωνσταντίνου Αναστασία - Αικατερίνη</td>\n",
       "      <td>Αλεξοπούλου</td>\n",
       "      <td>Αλεξοπούλου Αικατερίνη</td>\n",
       "      <td>ΕΛΛΗΝΙΚΗ ΛΥΣΗ</td>\n",
       "      <td>anaik2020</td>\n",
       "      <td>320162191</td>\n",
       "      <td>73234260</td>\n",
       "      <td>3373083677</td>\n",
       "      <td>1187678476977000448</td>\n",
       "      <td>1109429795962662912</td>\n",
       "      <td>...</td>\n",
       "      <td>1168241295149740038</td>\n",
       "      <td>263784628</td>\n",
       "      <td>599366320</td>\n",
       "      <td>171661692</td>\n",
       "      <td>1325123115366707200</td>\n",
       "      <td>576183073</td>\n",
       "      <td>1194241307251789826</td>\n",
       "      <td>51597099</td>\n",
       "      <td>223945318</td>\n",
       "      <td>72824620</td>\n",
       "    </tr>\n",
       "    <tr>\n",
       "      <th>2</th>\n",
       "      <td>Αθανασίου Ευαγγέλου Μαρία</td>\n",
       "      <td>Αθανασίου</td>\n",
       "      <td>Αθανασίου Μαρία</td>\n",
       "      <td>ΕΛΛΗΝΙΚΗ ΛΥΣΗ</td>\n",
       "      <td>MariaAt03902914</td>\n",
       "      <td>1088970967</td>\n",
       "      <td>880033291</td>\n",
       "      <td>2591503675</td>\n",
       "      <td>2495322266</td>\n",
       "      <td>103608120</td>\n",
       "      <td>...</td>\n",
       "      <td>35453950</td>\n",
       "      <td>517875912</td>\n",
       "      <td>812762451485818881</td>\n",
       "      <td>230836510</td>\n",
       "      <td>53700015</td>\n",
       "      <td>421787378</td>\n",
       "      <td>1192655092400283648</td>\n",
       "      <td>703958160</td>\n",
       "      <td>711712332</td>\n",
       "      <td>38287046</td>\n",
       "    </tr>\n",
       "    <tr>\n",
       "      <th>3</th>\n",
       "      <td>Βαγενάς Κωνσταντίνου Δημήτριος</td>\n",
       "      <td>Βαγενάς</td>\n",
       "      <td>Βαγενάς Δημήτριος</td>\n",
       "      <td>ΕΛΛΗΝΙΚΗ ΛΥΣΗ</td>\n",
       "      <td>B3Vagenas</td>\n",
       "      <td>253071752</td>\n",
       "      <td>3340651392</td>\n",
       "      <td>808532589640171520</td>\n",
       "      <td>277694245</td>\n",
       "      <td>879300336</td>\n",
       "      <td>...</td>\n",
       "      <td>63101531</td>\n",
       "      <td>538678651</td>\n",
       "      <td>403661679</td>\n",
       "      <td>137151534</td>\n",
       "      <td>1049215741</td>\n",
       "      <td>1002016027</td>\n",
       "      <td>897883385745551360</td>\n",
       "      <td>3291502453</td>\n",
       "      <td>1118028346145824771</td>\n",
       "      <td>90375469</td>\n",
       "    </tr>\n",
       "    <tr>\n",
       "      <th>4</th>\n",
       "      <td>Ασημακοπούλου Δημητρίου Σοφία - Χάιδω</td>\n",
       "      <td>Ασημακοπούλου</td>\n",
       "      <td>Ασημακοπούλου Χάιδω</td>\n",
       "      <td>ΕΛΛΗΝΙΚΗ ΛΥΣΗ</td>\n",
       "      <td>SofAsimak</td>\n",
       "      <td>533041104</td>\n",
       "      <td>714120024</td>\n",
       "      <td>2829422892</td>\n",
       "      <td>1305799456080695296</td>\n",
       "      <td>2249352493</td>\n",
       "      <td>...</td>\n",
       "      <td>1342908256591736834</td>\n",
       "      <td>275945170</td>\n",
       "      <td>1127930818712743936</td>\n",
       "      <td>2436824634</td>\n",
       "      <td>3814339281</td>\n",
       "      <td>931266633351516160</td>\n",
       "      <td>813814300968108032</td>\n",
       "      <td>1276660778519670786</td>\n",
       "      <td>2569601167</td>\n",
       "      <td>1188808110074413057</td>\n",
       "    </tr>\n",
       "  </tbody>\n",
       "</table>\n",
       "<p>5 rows × 25 columns</p>\n",
       "</div>"
      ],
      "text/plain": [
       "                                       Name (Long)        Surname  \\\n",
       "0                    Βιλιάρδος Διονυσίου Βασίλειος      Βιλιάρδος   \n",
       "1  Αλεξοπούλου Κωνσταντίνου Αναστασία - Αικατερίνη    Αλεξοπούλου   \n",
       "2                        Αθανασίου Ευαγγέλου Μαρία      Αθανασίου   \n",
       "3                   Βαγενάς Κωνσταντίνου Δημήτριος        Βαγενάς   \n",
       "4            Ασημακοπούλου Δημητρίου Σοφία - Χάιδω  Ασημακοπούλου   \n",
       "\n",
       "                     Name          Party   Twitter Handle    Result 1  \\\n",
       "0     Βιλιάρδος Βασίλειος  ΕΛΛΗΝΙΚΗ ΛΥΣΗ       ViliardosV   174226430   \n",
       "1  Αλεξοπούλου Αικατερίνη  ΕΛΛΗΝΙΚΗ ΛΥΣΗ        anaik2020   320162191   \n",
       "2         Αθανασίου Μαρία  ΕΛΛΗΝΙΚΗ ΛΥΣΗ  MariaAt03902914  1088970967   \n",
       "3       Βαγενάς Δημήτριος  ΕΛΛΗΝΙΚΗ ΛΥΣΗ        B3Vagenas   253071752   \n",
       "4     Ασημακοπούλου Χάιδω  ΕΛΛΗΝΙΚΗ ΛΥΣΗ        SofAsimak   533041104   \n",
       "\n",
       "     Result 2            Result 3             Result 4             Result 5  \\\n",
       "0   246390608           849013729   856448283547320322  1032949155314970624   \n",
       "1    73234260          3373083677  1187678476977000448  1109429795962662912   \n",
       "2   880033291          2591503675           2495322266            103608120   \n",
       "3  3340651392  808532589640171520            277694245            879300336   \n",
       "4   714120024          2829422892  1305799456080695296           2249352493   \n",
       "\n",
       "   ...            Result 11  Result 12            Result 13   Result 14  \\\n",
       "0  ...                    0          0                    0           0   \n",
       "1  ...  1168241295149740038  263784628            599366320   171661692   \n",
       "2  ...             35453950  517875912   812762451485818881   230836510   \n",
       "3  ...             63101531  538678651            403661679   137151534   \n",
       "4  ...  1342908256591736834  275945170  1127930818712743936  2436824634   \n",
       "\n",
       "             Result 15           Result 16            Result 17  \\\n",
       "0                    0                   0                    0   \n",
       "1  1325123115366707200           576183073  1194241307251789826   \n",
       "2             53700015           421787378  1192655092400283648   \n",
       "3           1049215741          1002016027   897883385745551360   \n",
       "4           3814339281  931266633351516160   813814300968108032   \n",
       "\n",
       "             Result 18            Result 19            Result 20  \n",
       "0                    0                    0                    0  \n",
       "1             51597099            223945318             72824620  \n",
       "2            703958160            711712332             38287046  \n",
       "3           3291502453  1118028346145824771             90375469  \n",
       "4  1276660778519670786           2569601167  1188808110074413057  \n",
       "\n",
       "[5 rows x 25 columns]"
      ]
     },
     "execution_count": 91,
     "metadata": {},
     "output_type": "execute_result"
    }
   ],
   "source": [
    "fn = pd.read_csv('Twitter-Search-SurnamesLatin-Parliament-Members.csv')\n",
    "fn = fn.replace(np.nan, '')\n",
    "fn.head()"
   ]
  },
  {
   "cell_type": "code",
   "execution_count": 92,
   "id": "generous-constant",
   "metadata": {},
   "outputs": [],
   "source": [
    "def get_ids(df):\n",
    "    true_id = []\n",
    "    for acc in tqdm(df):\n",
    "        if acc != '':\n",
    "            try:\n",
    "                user = API.get_user(acc)\n",
    "                true_id.append(user.id)\n",
    "            except:\n",
    "                print(acc)\n",
    "                true_id.append(0)\n",
    "        else:\n",
    "            true_id.append(0)\n",
    "    return true_id"
   ]
  },
  {
   "cell_type": "code",
   "execution_count": 93,
   "id": "confused-damage",
   "metadata": {},
   "outputs": [
    {
     "data": {
      "application/vnd.jupyter.widget-view+json": {
       "model_id": "8b6f1b60bf8246a782a690e7b973acd0",
       "version_major": 2,
       "version_minor": 0
      },
      "text/plain": [
       "  0%|          | 0/300 [00:00<?, ?it/s]"
      ]
     },
     "metadata": {},
     "output_type": "display_data"
    },
    {
     "name": "stdout",
     "output_type": "stream",
     "text": [
      "xtarantilis\n",
      "katsafados\n",
      "stergiannakis\n"
     ]
    }
   ],
   "source": [
    "cols = ['Twitter Handle']\n",
    "for col in cols:\n",
    "    fn[col] = get_ids(fn[col])"
   ]
  },
  {
   "cell_type": "markdown",
   "id": "basic-cornwall",
   "metadata": {},
   "source": [
    "## With a Twitter Account "
   ]
  },
  {
   "cell_type": "code",
   "execution_count": 94,
   "id": "ready-diploma",
   "metadata": {},
   "outputs": [],
   "source": [
    "fn_acc = fn[fn['Twitter Handle'] != 0].copy() "
   ]
  },
  {
   "cell_type": "code",
   "execution_count": 95,
   "id": "sublime-netscape",
   "metadata": {},
   "outputs": [],
   "source": [
    "top1 = [False for i in range(len(fn_acc))]\n",
    "top5 = [False for i in range(len(fn_acc))]\n",
    "top10 = [False for i in range(len(fn_acc))]\n",
    "\n",
    "for i, acc in enumerate(fn_acc['Twitter Handle']):\n",
    "    for j,res in enumerate(fn_acc[[f'Result {k+1}' for k in range(10)]].iloc[i].unique()):\n",
    "        if acc == res:\n",
    "            if j < 1:\n",
    "                top1[i] = True\n",
    "            elif 0 < j < 6:\n",
    "                top5[i] = True\n",
    "            else:\n",
    "                top10[j] = True"
   ]
  },
  {
   "cell_type": "code",
   "execution_count": 96,
   "id": "opening-proof",
   "metadata": {},
   "outputs": [],
   "source": [
    "found = [a or b or c for a,b,c in zip(top1,top5,top10)]"
   ]
  },
  {
   "cell_type": "code",
   "execution_count": 97,
   "id": "fifteen-concord",
   "metadata": {},
   "outputs": [
    {
     "data": {
      "text/plain": [
       "<matplotlib.legend.Legend at 0x7f82300295e0>"
      ]
     },
     "execution_count": 97,
     "metadata": {},
     "output_type": "execute_result"
    },
    {
     "data": {
      "image/png": "[encoded data removed]",
      "text/plain": [
       "<Figure size 432x288 with 1 Axes>"
      ]
     },
     "metadata": {},
     "output_type": "display_data"
    }
   ],
   "source": [
    "fig, ax = plt.subplots()\n",
    "color_palette_list = ['#009BD0', '#00BDCC','#00FDCC','#ADD8E6']\n",
    "\n",
    "plt.rcParams['font.sans-serif'] = 'Arial'\n",
    "plt.rcParams['font.family'] = 'sans-serif'\n",
    "plt.rcParams['text.color'] = 'black'\n",
    "plt.rcParams['axes.labelcolor']= 'black'\n",
    "plt.rcParams['xtick.color'] = 'black'\n",
    "plt.rcParams['ytick.color'] = 'black'\n",
    "plt.rcParams['font.size']=14\n",
    "\n",
    "x = [top1.count(True), top5.count(True), top10.count(True), found.count(False)]\n",
    "labels = ['Top 1', 'Top 5', 'Top 10' ,'Was not found']\n",
    "_=ax.pie(x, colors=color_palette_list,\n",
    "         autopct='%1.0f%%', shadow=True, startangle=90, pctdistance=0.5,labeldistance=1.3, explode=(0.1,0.1,0.1,0.1))\n",
    "ax.legend(frameon=True, bbox_to_anchor=(1,0.75), labels=labels)"
   ]
  },
  {
   "cell_type": "markdown",
   "id": "peripheral-transfer",
   "metadata": {},
   "source": [
    "### Export Results"
   ]
  },
  {
   "cell_type": "code",
   "execution_count": 106,
   "id": "universal-glossary",
   "metadata": {},
   "outputs": [
    {
     "data": {
      "text/html": [
       "<div>\n",
       "<style scoped>\n",
       "    .dataframe tbody tr th:only-of-type {\n",
       "        vertical-align: middle;\n",
       "    }\n",
       "\n",
       "    .dataframe tbody tr th {\n",
       "        vertical-align: top;\n",
       "    }\n",
       "\n",
       "    .dataframe thead th {\n",
       "        text-align: right;\n",
       "    }\n",
       "</style>\n",
       "<table border=\"1\" class=\"dataframe\">\n",
       "  <thead>\n",
       "    <tr style=\"text-align: right;\">\n",
       "      <th></th>\n",
       "      <th>Name</th>\n",
       "      <th>GoogleAPI Fullnames</th>\n",
       "      <th>GoogleAPI Surnames</th>\n",
       "      <th>TwitterAPI Fullnames</th>\n",
       "      <th>TwitterAPI Surnames</th>\n",
       "      <th>TwitterAPI SurnamesLatin</th>\n",
       "    </tr>\n",
       "  </thead>\n",
       "  <tbody>\n",
       "    <tr>\n",
       "      <th>0</th>\n",
       "      <td>Βιλιάρδος Βασίλειος</td>\n",
       "      <td>True</td>\n",
       "      <td>True</td>\n",
       "      <td>False</td>\n",
       "      <td>True</td>\n",
       "      <td>True</td>\n",
       "    </tr>\n",
       "    <tr>\n",
       "      <th>1</th>\n",
       "      <td>Αλεξοπούλου Αικατερίνη</td>\n",
       "      <td>True</td>\n",
       "      <td>False</td>\n",
       "      <td>False</td>\n",
       "      <td>False</td>\n",
       "      <td>False</td>\n",
       "    </tr>\n",
       "    <tr>\n",
       "      <th>2</th>\n",
       "      <td>Αθανασίου Μαρία</td>\n",
       "      <td>True</td>\n",
       "      <td>False</td>\n",
       "      <td>False</td>\n",
       "      <td>False</td>\n",
       "      <td>False</td>\n",
       "    </tr>\n",
       "    <tr>\n",
       "      <th>3</th>\n",
       "      <td>Βαγενάς Δημήτριος</td>\n",
       "      <td>True</td>\n",
       "      <td>True</td>\n",
       "      <td>False</td>\n",
       "      <td>False</td>\n",
       "      <td>False</td>\n",
       "    </tr>\n",
       "    <tr>\n",
       "      <th>4</th>\n",
       "      <td>Ασημακοπούλου Χάιδω</td>\n",
       "      <td>False</td>\n",
       "      <td>False</td>\n",
       "      <td>False</td>\n",
       "      <td>True</td>\n",
       "      <td>False</td>\n",
       "    </tr>\n",
       "  </tbody>\n",
       "</table>\n",
       "</div>"
      ],
      "text/plain": [
       "                     Name  GoogleAPI Fullnames  GoogleAPI Surnames  \\\n",
       "0     Βιλιάρδος Βασίλειος                 True                True   \n",
       "1  Αλεξοπούλου Αικατερίνη                 True               False   \n",
       "2         Αθανασίου Μαρία                 True               False   \n",
       "3       Βαγενάς Δημήτριος                 True                True   \n",
       "4     Ασημακοπούλου Χάιδω                False               False   \n",
       "\n",
       "   TwitterAPI Fullnames  TwitterAPI Surnames  TwitterAPI SurnamesLatin  \n",
       "0                 False                 True                      True  \n",
       "1                 False                False                     False  \n",
       "2                 False                False                     False  \n",
       "3                 False                False                     False  \n",
       "4                 False                 True                     False  "
      ]
     },
     "execution_count": 106,
     "metadata": {},
     "output_type": "execute_result"
    }
   ],
   "source": [
    "temp = pd.read_csv('../result-method-parliament-member-search.csv')\n",
    "temp.head()"
   ]
  },
  {
   "cell_type": "code",
   "execution_count": 99,
   "id": "appointed-prescription",
   "metadata": {},
   "outputs": [],
   "source": [
    "temp['TwitterAPI SurnamesLatin'] = found"
   ]
  },
  {
   "cell_type": "code",
   "execution_count": 104,
   "id": "satisfactory-outreach",
   "metadata": {},
   "outputs": [],
   "source": [
    "temp.to_csv('../result-method-parliament-member-search.csv', index=False)"
   ]
  },
  {
   "cell_type": "code",
   "execution_count": 105,
   "id": "exotic-flavor",
   "metadata": {},
   "outputs": [],
   "source": [
    "del temp"
   ]
  },
  {
   "cell_type": "markdown",
   "id": "attended-programming",
   "metadata": {},
   "source": [
    "## Without a Twitter Account "
   ]
  },
  {
   "cell_type": "code",
   "execution_count": 107,
   "id": "aging-present",
   "metadata": {},
   "outputs": [],
   "source": [
    "target_names = ['Has an Account', 'Does not have a Account']"
   ]
  },
  {
   "cell_type": "code",
   "execution_count": 108,
   "id": "restricted-porcelain",
   "metadata": {},
   "outputs": [],
   "source": [
    "fn_noacc = fn[fn['Twitter Handle'] == 0].copy() "
   ]
  },
  {
   "cell_type": "code",
   "execution_count": 109,
   "id": "narrow-dialogue",
   "metadata": {},
   "outputs": [],
   "source": [
    "correct = []\n",
    "for i, acc in enumerate(fn_noacc['Twitter Handle']):\n",
    "    if acc == fn_noacc['Result 1'].iloc[i]:\n",
    "        correct.append(True)\n",
    "    else:\n",
    "        correct.append(False)         "
   ]
  },
  {
   "cell_type": "code",
   "execution_count": 110,
   "id": "adjusted-valve",
   "metadata": {},
   "outputs": [
    {
     "data": {
      "text/plain": [
       "(4, 58)"
      ]
     },
     "execution_count": 110,
     "metadata": {},
     "output_type": "execute_result"
    }
   ],
   "source": [
    "correct.count(True), correct.count(False)"
   ]
  },
  {
   "cell_type": "markdown",
   "id": "educational-radius",
   "metadata": {},
   "source": [
    "## Final Results"
   ]
  },
  {
   "cell_type": "code",
   "execution_count": 111,
   "id": "coordinate-central",
   "metadata": {},
   "outputs": [
    {
     "data": {
      "text/plain": [
       "array([[119,   4],\n",
       "       [119,  58]])"
      ]
     },
     "execution_count": 111,
     "metadata": {},
     "output_type": "execute_result"
    }
   ],
   "source": [
    "fin_result = np.array([[found.count(True),correct.count(True)],\n",
    "                      [found.count(False),correct.count(False)]])\n",
    "fin_result"
   ]
  },
  {
   "cell_type": "code",
   "execution_count": 112,
   "id": "noticed-activity",
   "metadata": {},
   "outputs": [
    {
     "data": {
      "text/plain": [
       "<AxesSubplot:>"
      ]
     },
     "execution_count": 112,
     "metadata": {},
     "output_type": "execute_result"
    },
    {
     "data": {
      "image/png": "[encoded data removed]",
      "text/plain": [
       "<Figure size 432x288 with 1 Axes>"
      ]
     },
     "metadata": {
      "needs_background": "light"
     },
     "output_type": "display_data"
    }
   ],
   "source": [
    "pd.DataFrame(fin_result, \n",
    "             columns=['Uses Twitter', 'Does not use Twitter'], \n",
    "             index=['Correct', 'Incorrect']).T.plot(kind='barh')"
   ]
  },
  {
   "cell_type": "markdown",
   "id": "complimentary-reservoir",
   "metadata": {},
   "source": [
    "## Do Result Include other Parliament Members ?"
   ]
  },
  {
   "cell_type": "code",
   "execution_count": 113,
   "id": "affected-section",
   "metadata": {},
   "outputs": [],
   "source": [
    "par_accs = list(fn_acc['Twitter Handle'])"
   ]
  },
  {
   "cell_type": "code",
   "execution_count": 114,
   "id": "handled-voltage",
   "metadata": {},
   "outputs": [],
   "source": [
    "counts = [0 for i in range(len(fn))]\n",
    "for i, tr in enumerate(fn['Twitter Handle']):\n",
    "    for j,res in enumerate(fn[[f'Result {k+1}' for k in range(7)]].iloc[i].unique()):\n",
    "        for acc in par_accs:\n",
    "            if res == acc and res != tr:\n",
    "                counts[i] += 1"
   ]
  },
  {
   "cell_type": "code",
   "execution_count": 115,
   "id": "expired-bronze",
   "metadata": {},
   "outputs": [],
   "source": [
    "fn['Total Parl Results'] = counts"
   ]
  },
  {
   "cell_type": "code",
   "execution_count": 116,
   "id": "recorded-figure",
   "metadata": {},
   "outputs": [
    {
     "data": {
      "text/plain": [
       "6"
      ]
     },
     "execution_count": 116,
     "metadata": {},
     "output_type": "execute_result"
    }
   ],
   "source": [
    "len(fn[fn['Total Parl Results'] != 0])"
   ]
  },
  {
   "cell_type": "markdown",
   "id": "informational-teacher",
   "metadata": {},
   "source": [
    "# ClassifierND"
   ]
  },
  {
   "cell_type": "markdown",
   "id": "based-hardwood",
   "metadata": {},
   "source": [
    "# Fullnames"
   ]
  },
  {
   "cell_type": "code",
   "execution_count": 4,
   "id": "concerned-dressing",
   "metadata": {},
   "outputs": [
    {
     "data": {
      "text/html": [
       "<div>\n",
       "<style scoped>\n",
       "    .dataframe tbody tr th:only-of-type {\n",
       "        vertical-align: middle;\n",
       "    }\n",
       "\n",
       "    .dataframe tbody tr th {\n",
       "        vertical-align: top;\n",
       "    }\n",
       "\n",
       "    .dataframe thead th {\n",
       "        text-align: right;\n",
       "    }\n",
       "</style>\n",
       "<table border=\"1\" class=\"dataframe\">\n",
       "  <thead>\n",
       "    <tr style=\"text-align: right;\">\n",
       "      <th></th>\n",
       "      <th>Name (Long)</th>\n",
       "      <th>Surname</th>\n",
       "      <th>Name</th>\n",
       "      <th>Party</th>\n",
       "      <th>Twitter Handle</th>\n",
       "      <th>Result 1</th>\n",
       "      <th>Result 2</th>\n",
       "    </tr>\n",
       "  </thead>\n",
       "  <tbody>\n",
       "    <tr>\n",
       "      <th>0</th>\n",
       "      <td>Βιλιάρδος Διονυσίου Βασίλειος</td>\n",
       "      <td>Βιλιάρδος</td>\n",
       "      <td>Βιλιάρδος Βασίλειος</td>\n",
       "      <td>ΕΛΛΗΝΙΚΗ ΛΥΣΗ</td>\n",
       "      <td>174226430</td>\n",
       "      <td>0</td>\n",
       "      <td>0</td>\n",
       "    </tr>\n",
       "    <tr>\n",
       "      <th>1</th>\n",
       "      <td>Αλεξοπούλου Κωνσταντίνου Αναστασία - Αικατερίνη</td>\n",
       "      <td>Αλεξοπούλου</td>\n",
       "      <td>Αλεξοπούλου Αικατερίνη</td>\n",
       "      <td>ΕΛΛΗΝΙΚΗ ΛΥΣΗ</td>\n",
       "      <td>1168241295149740038</td>\n",
       "      <td>0</td>\n",
       "      <td>0</td>\n",
       "    </tr>\n",
       "    <tr>\n",
       "      <th>2</th>\n",
       "      <td>Αθανασίου Ευαγγέλου Μαρία</td>\n",
       "      <td>Αθανασίου</td>\n",
       "      <td>Αθανασίου Μαρία</td>\n",
       "      <td>ΕΛΛΗΝΙΚΗ ΛΥΣΗ</td>\n",
       "      <td>1153988844498444288</td>\n",
       "      <td>0</td>\n",
       "      <td>0</td>\n",
       "    </tr>\n",
       "    <tr>\n",
       "      <th>3</th>\n",
       "      <td>Βαγενάς Κωνσταντίνου Δημήτριος</td>\n",
       "      <td>Βαγενάς</td>\n",
       "      <td>Βαγενάς Δημήτριος</td>\n",
       "      <td>ΕΛΛΗΝΙΚΗ ΛΥΣΗ</td>\n",
       "      <td>1302266183790604290</td>\n",
       "      <td>0</td>\n",
       "      <td>0</td>\n",
       "    </tr>\n",
       "    <tr>\n",
       "      <th>4</th>\n",
       "      <td>Ασημακοπούλου Δημητρίου Σοφία - Χάιδω</td>\n",
       "      <td>Ασημακοπούλου</td>\n",
       "      <td>Ασημακοπούλου Χάιδω</td>\n",
       "      <td>ΕΛΛΗΝΙΚΗ ΛΥΣΗ</td>\n",
       "      <td>1148229718627540992</td>\n",
       "      <td>0</td>\n",
       "      <td>0</td>\n",
       "    </tr>\n",
       "  </tbody>\n",
       "</table>\n",
       "</div>"
      ],
      "text/plain": [
       "                                       Name (Long)        Surname  \\\n",
       "0                    Βιλιάρδος Διονυσίου Βασίλειος      Βιλιάρδος   \n",
       "1  Αλεξοπούλου Κωνσταντίνου Αναστασία - Αικατερίνη    Αλεξοπούλου   \n",
       "2                        Αθανασίου Ευαγγέλου Μαρία      Αθανασίου   \n",
       "3                   Βαγενάς Κωνσταντίνου Δημήτριος        Βαγενάς   \n",
       "4            Ασημακοπούλου Δημητρίου Σοφία - Χάιδω  Ασημακοπούλου   \n",
       "\n",
       "                     Name          Party       Twitter Handle  Result 1  \\\n",
       "0     Βιλιάρδος Βασίλειος  ΕΛΛΗΝΙΚΗ ΛΥΣΗ            174226430         0   \n",
       "1  Αλεξοπούλου Αικατερίνη  ΕΛΛΗΝΙΚΗ ΛΥΣΗ  1168241295149740038         0   \n",
       "2         Αθανασίου Μαρία  ΕΛΛΗΝΙΚΗ ΛΥΣΗ  1153988844498444288         0   \n",
       "3       Βαγενάς Δημήτριος  ΕΛΛΗΝΙΚΗ ΛΥΣΗ  1302266183790604290         0   \n",
       "4     Ασημακοπούλου Χάιδω  ΕΛΛΗΝΙΚΗ ΛΥΣΗ  1148229718627540992         0   \n",
       "\n",
       "   Result 2  \n",
       "0         0  \n",
       "1         0  \n",
       "2         0  \n",
       "3         0  \n",
       "4         0  "
      ]
     },
     "execution_count": 4,
     "metadata": {},
     "output_type": "execute_result"
    }
   ],
   "source": [
    "fn = pd.read_csv('Twitter-Search-Fullnames-ClassifierND-Parliament-Members.csv')\n",
    "fn = fn.replace(np.nan, '')\n",
    "fn.head()"
   ]
  },
  {
   "cell_type": "code",
   "execution_count": 5,
   "id": "lonely-thriller",
   "metadata": {},
   "outputs": [],
   "source": [
    "result = []\n",
    "for i in fn.index:\n",
    "    temp = list(fn[['Result 1', 'Result 2']].iloc[i])\n",
    "    temp = [item for item in temp if item != 0]\n",
    "    if not temp:\n",
    "        temp += [0,0]\n",
    "    while len(temp) < 2:\n",
    "        temp += [0]\n",
    "    result.append(temp)\n",
    "\n",
    "result = np.array(result)\n",
    "fn['Result 1'] = result[:,0]\n",
    "fn['Result 2'] = result[:,1]"
   ]
  },
  {
   "cell_type": "markdown",
   "id": "veterinary-curve",
   "metadata": {},
   "source": [
    "## With a Twitter Account "
   ]
  },
  {
   "cell_type": "code",
   "execution_count": 6,
   "id": "approximate-executive",
   "metadata": {},
   "outputs": [],
   "source": [
    "fn_acc = fn[fn['Twitter Handle'] != 0].copy() "
   ]
  },
  {
   "cell_type": "code",
   "execution_count": 8,
   "id": "greenhouse-assets",
   "metadata": {},
   "outputs": [],
   "source": [
    "top1 = [False for i in range(len(fn_acc))]\n",
    "top5 = [False for i in range(len(fn_acc))]\n",
    "top10 = [False for i in range(len(fn_acc))]\n",
    "\n",
    "for i, acc in enumerate(fn_acc['Twitter Handle']):\n",
    "    for j,res in enumerate(fn_acc[[f'Result {k+1}' for k in range(2)]].iloc[i].unique()):\n",
    "        if acc == res:\n",
    "            if j < 1:\n",
    "                top1[i] = True\n",
    "            elif 0 < j < 6:\n",
    "                top5[i] = True\n",
    "            else:\n",
    "                top10[j] = True"
   ]
  },
  {
   "cell_type": "code",
   "execution_count": 9,
   "id": "governmental-ancient",
   "metadata": {},
   "outputs": [],
   "source": [
    "found = [a or b or c for a,b,c in zip(top1,top5,top10)]"
   ]
  },
  {
   "cell_type": "code",
   "execution_count": 10,
   "id": "cheap-berlin",
   "metadata": {},
   "outputs": [
    {
     "data": {
      "text/plain": [
       "<matplotlib.legend.Legend at 0x7fd1176157f0>"
      ]
     },
     "execution_count": 10,
     "metadata": {},
     "output_type": "execute_result"
    },
    {
     "data": {
      "image/png": "[encoded data removed]",
      "text/plain": [
       "<Figure size 432x288 with 1 Axes>"
      ]
     },
     "metadata": {},
     "output_type": "display_data"
    }
   ],
   "source": [
    "fig, ax = plt.subplots()\n",
    "color_palette_list = ['#009BD0', '#00BDCC', '#ADD8E6']\n",
    "\n",
    "plt.rcParams['font.sans-serif'] = 'Arial'\n",
    "plt.rcParams['font.family'] = 'sans-serif'\n",
    "plt.rcParams['text.color'] = 'black'\n",
    "plt.rcParams['axes.labelcolor']= 'black'\n",
    "plt.rcParams['xtick.color'] = 'black'\n",
    "plt.rcParams['ytick.color'] = 'black'\n",
    "plt.rcParams['font.size']=14\n",
    "\n",
    "x = [top1.count(True), top5.count(True), found.count(False)]\n",
    "labels = ['Top 1', 'Top 5' ,'Was not found']\n",
    "_=ax.pie(x, colors=color_palette_list,\n",
    "         autopct='%1.0f%%', shadow=True, startangle=90, pctdistance=0.5,labeldistance=1.3, explode=(0.01,0.01,0.1))\n",
    "ax.legend(frameon=True, bbox_to_anchor=(1,0.75), labels=labels)"
   ]
  },
  {
   "cell_type": "markdown",
   "id": "smoking-adobe",
   "metadata": {},
   "source": [
    "## Without a Twitter Account "
   ]
  },
  {
   "cell_type": "code",
   "execution_count": 11,
   "id": "saved-fifteen",
   "metadata": {},
   "outputs": [],
   "source": [
    "target_names = ['Has an Account', 'Does not have a Account']"
   ]
  },
  {
   "cell_type": "code",
   "execution_count": 12,
   "id": "waiting-volume",
   "metadata": {},
   "outputs": [],
   "source": [
    "fn_noacc = fn[fn['Twitter Handle'] == 0].copy() "
   ]
  },
  {
   "cell_type": "code",
   "execution_count": 13,
   "id": "internal-horizontal",
   "metadata": {},
   "outputs": [],
   "source": [
    "correct = []\n",
    "for i, acc in enumerate(fn_noacc['Twitter Handle']):\n",
    "    if acc == fn_noacc['Result 1'].iloc[i]:\n",
    "        correct.append(True)\n",
    "    else:\n",
    "        correct.append(False)         "
   ]
  },
  {
   "cell_type": "code",
   "execution_count": 14,
   "id": "deluxe-graphic",
   "metadata": {},
   "outputs": [
    {
     "data": {
      "text/plain": [
       "(57, 4)"
      ]
     },
     "execution_count": 14,
     "metadata": {},
     "output_type": "execute_result"
    }
   ],
   "source": [
    "correct.count(True), correct.count(False)"
   ]
  },
  {
   "cell_type": "markdown",
   "id": "deadly-mention",
   "metadata": {},
   "source": [
    "## Final Results"
   ]
  },
  {
   "cell_type": "code",
   "execution_count": 15,
   "id": "partial-museum",
   "metadata": {},
   "outputs": [
    {
     "data": {
      "text/plain": [
       "array([[ 84,  57],\n",
       "       [155,   4]])"
      ]
     },
     "execution_count": 15,
     "metadata": {},
     "output_type": "execute_result"
    }
   ],
   "source": [
    "fin_result = np.array([[found.count(True),correct.count(True)],\n",
    "                      [found.count(False),correct.count(False)]])\n",
    "fin_result"
   ]
  },
  {
   "cell_type": "code",
   "execution_count": 16,
   "id": "early-trust",
   "metadata": {},
   "outputs": [
    {
     "data": {
      "text/plain": [
       "<AxesSubplot:>"
      ]
     },
     "execution_count": 16,
     "metadata": {},
     "output_type": "execute_result"
    },
    {
     "data": {
      "image/png": "[encoded data removed]",
      "text/plain": [
       "<Figure size 432x288 with 1 Axes>"
      ]
     },
     "metadata": {
      "needs_background": "light"
     },
     "output_type": "display_data"
    }
   ],
   "source": [
    "pd.DataFrame(fin_result, \n",
    "             columns=['Uses Twitter', 'Does not use Twitter'], \n",
    "             index=['Correct', 'Incorrect']).T.plot(kind='barh')"
   ]
  },
  {
   "cell_type": "markdown",
   "id": "architectural-wonder",
   "metadata": {},
   "source": [
    "---\n",
    "# Surnames"
   ]
  },
  {
   "cell_type": "code",
   "execution_count": 17,
   "id": "limiting-compound",
   "metadata": {},
   "outputs": [
    {
     "data": {
      "text/html": [
       "<div>\n",
       "<style scoped>\n",
       "    .dataframe tbody tr th:only-of-type {\n",
       "        vertical-align: middle;\n",
       "    }\n",
       "\n",
       "    .dataframe tbody tr th {\n",
       "        vertical-align: top;\n",
       "    }\n",
       "\n",
       "    .dataframe thead th {\n",
       "        text-align: right;\n",
       "    }\n",
       "</style>\n",
       "<table border=\"1\" class=\"dataframe\">\n",
       "  <thead>\n",
       "    <tr style=\"text-align: right;\">\n",
       "      <th></th>\n",
       "      <th>Name (Long)</th>\n",
       "      <th>Surname</th>\n",
       "      <th>Name</th>\n",
       "      <th>Party</th>\n",
       "      <th>Twitter Handle</th>\n",
       "      <th>Result 1</th>\n",
       "      <th>Result 2</th>\n",
       "      <th>Result 3</th>\n",
       "      <th>Result 4</th>\n",
       "      <th>Result 5</th>\n",
       "    </tr>\n",
       "  </thead>\n",
       "  <tbody>\n",
       "    <tr>\n",
       "      <th>0</th>\n",
       "      <td>Βιλιάρδος Διονυσίου Βασίλειος</td>\n",
       "      <td>Βιλιάρδος</td>\n",
       "      <td>Βιλιάρδος Βασίλειος</td>\n",
       "      <td>ΕΛΛΗΝΙΚΗ ΛΥΣΗ</td>\n",
       "      <td>174226430</td>\n",
       "      <td>174226430</td>\n",
       "      <td>0</td>\n",
       "      <td>0</td>\n",
       "      <td>0</td>\n",
       "      <td>0</td>\n",
       "    </tr>\n",
       "    <tr>\n",
       "      <th>1</th>\n",
       "      <td>Αλεξοπούλου Κωνσταντίνου Αναστασία - Αικατερίνη</td>\n",
       "      <td>Αλεξοπούλου</td>\n",
       "      <td>Αλεξοπούλου Αικατερίνη</td>\n",
       "      <td>ΕΛΛΗΝΙΚΗ ΛΥΣΗ</td>\n",
       "      <td>1168241295149740038</td>\n",
       "      <td>0</td>\n",
       "      <td>93629265</td>\n",
       "      <td>0</td>\n",
       "      <td>0</td>\n",
       "      <td>0</td>\n",
       "    </tr>\n",
       "    <tr>\n",
       "      <th>2</th>\n",
       "      <td>Αθανασίου Ευαγγέλου Μαρία</td>\n",
       "      <td>Αθανασίου</td>\n",
       "      <td>Αθανασίου Μαρία</td>\n",
       "      <td>ΕΛΛΗΝΙΚΗ ΛΥΣΗ</td>\n",
       "      <td>1153988844498444288</td>\n",
       "      <td>965785002</td>\n",
       "      <td>2840171877</td>\n",
       "      <td>0</td>\n",
       "      <td>0</td>\n",
       "      <td>0</td>\n",
       "    </tr>\n",
       "    <tr>\n",
       "      <th>3</th>\n",
       "      <td>Βαγενάς Κωνσταντίνου Δημήτριος</td>\n",
       "      <td>Βαγενάς</td>\n",
       "      <td>Βαγενάς Δημήτριος</td>\n",
       "      <td>ΕΛΛΗΝΙΚΗ ΛΥΣΗ</td>\n",
       "      <td>1302266183790604290</td>\n",
       "      <td>0</td>\n",
       "      <td>0</td>\n",
       "      <td>0</td>\n",
       "      <td>0</td>\n",
       "      <td>0</td>\n",
       "    </tr>\n",
       "    <tr>\n",
       "      <th>4</th>\n",
       "      <td>Ασημακοπούλου Δημητρίου Σοφία - Χάιδω</td>\n",
       "      <td>Ασημακοπούλου</td>\n",
       "      <td>Ασημακοπούλου Χάιδω</td>\n",
       "      <td>ΕΛΛΗΝΙΚΗ ΛΥΣΗ</td>\n",
       "      <td>1148229718627540992</td>\n",
       "      <td>533041104</td>\n",
       "      <td>0</td>\n",
       "      <td>1148229718627540992</td>\n",
       "      <td>0</td>\n",
       "      <td>0</td>\n",
       "    </tr>\n",
       "  </tbody>\n",
       "</table>\n",
       "</div>"
      ],
      "text/plain": [
       "                                       Name (Long)        Surname  \\\n",
       "0                    Βιλιάρδος Διονυσίου Βασίλειος      Βιλιάρδος   \n",
       "1  Αλεξοπούλου Κωνσταντίνου Αναστασία - Αικατερίνη    Αλεξοπούλου   \n",
       "2                        Αθανασίου Ευαγγέλου Μαρία      Αθανασίου   \n",
       "3                   Βαγενάς Κωνσταντίνου Δημήτριος        Βαγενάς   \n",
       "4            Ασημακοπούλου Δημητρίου Σοφία - Χάιδω  Ασημακοπούλου   \n",
       "\n",
       "                     Name          Party       Twitter Handle   Result 1  \\\n",
       "0     Βιλιάρδος Βασίλειος  ΕΛΛΗΝΙΚΗ ΛΥΣΗ            174226430  174226430   \n",
       "1  Αλεξοπούλου Αικατερίνη  ΕΛΛΗΝΙΚΗ ΛΥΣΗ  1168241295149740038          0   \n",
       "2         Αθανασίου Μαρία  ΕΛΛΗΝΙΚΗ ΛΥΣΗ  1153988844498444288  965785002   \n",
       "3       Βαγενάς Δημήτριος  ΕΛΛΗΝΙΚΗ ΛΥΣΗ  1302266183790604290          0   \n",
       "4     Ασημακοπούλου Χάιδω  ΕΛΛΗΝΙΚΗ ΛΥΣΗ  1148229718627540992  533041104   \n",
       "\n",
       "     Result 2             Result 3  Result 4  Result 5  \n",
       "0           0                    0         0         0  \n",
       "1    93629265                    0         0         0  \n",
       "2  2840171877                    0         0         0  \n",
       "3           0                    0         0         0  \n",
       "4           0  1148229718627540992         0         0  "
      ]
     },
     "execution_count": 17,
     "metadata": {},
     "output_type": "execute_result"
    }
   ],
   "source": [
    "fn = pd.read_csv('Twitter-Search-Surnames-ClassifierND-Parliament-Members.csv')\n",
    "fn = fn.replace(np.nan, '')\n",
    "fn.head()"
   ]
  },
  {
   "cell_type": "code",
   "execution_count": 18,
   "id": "potential-seven",
   "metadata": {},
   "outputs": [],
   "source": [
    "result = []\n",
    "for i in fn.index:\n",
    "    temp = list(fn[['Result 1', 'Result 2', 'Result 3', 'Result 4', 'Result 5']].iloc[i])\n",
    "    temp = [item for item in temp if item != 0]\n",
    "    if not temp:\n",
    "        temp += [0,0,0,0,0]\n",
    "    while len(temp) < 5:\n",
    "        temp += [0]\n",
    "    result.append(temp)\n",
    "\n",
    "result = np.array(result)\n",
    "fn['Result 1'] = result[:,0]\n",
    "fn['Result 2'] = result[:,1]\n",
    "fn['Result 3'] = result[:,2]\n",
    "fn['Result 4'] = result[:,3]\n",
    "fn['Result 5'] = result[:,4]"
   ]
  },
  {
   "cell_type": "markdown",
   "id": "bronze-rings",
   "metadata": {},
   "source": [
    "## With a Twitter Account "
   ]
  },
  {
   "cell_type": "code",
   "execution_count": 19,
   "id": "familiar-thinking",
   "metadata": {},
   "outputs": [],
   "source": [
    "fn_acc = fn[fn['Twitter Handle'] != 0].copy() "
   ]
  },
  {
   "cell_type": "code",
   "execution_count": 26,
   "id": "returning-mailing",
   "metadata": {},
   "outputs": [],
   "source": [
    "top1 = [False for i in range(len(fn_acc))]\n",
    "top5 = [False for i in range(len(fn_acc))]\n",
    "top10 = [False for i in range(len(fn_acc))]\n",
    "\n",
    "for i, acc in enumerate(fn_acc['Twitter Handle']):\n",
    "    for j,res in enumerate(fn_acc[[f'Result {k+1}' for k in range(5)]].iloc[i].unique()):\n",
    "        if acc == res:\n",
    "            if j < 1:\n",
    "                top1[i] = True\n",
    "            elif 0 < j < 6:\n",
    "                top5[i] = True\n",
    "            else:\n",
    "                top10[j] = True"
   ]
  },
  {
   "cell_type": "code",
   "execution_count": 27,
   "id": "crazy-turner",
   "metadata": {},
   "outputs": [],
   "source": [
    "found = [a or b or c for a,b,c in zip(top1,top5,top10)]"
   ]
  },
  {
   "cell_type": "code",
   "execution_count": 29,
   "id": "infrared-surfing",
   "metadata": {},
   "outputs": [
    {
     "data": {
      "text/plain": [
       "<matplotlib.legend.Legend at 0x7fd117d8d4c0>"
      ]
     },
     "execution_count": 29,
     "metadata": {},
     "output_type": "execute_result"
    },
    {
     "data": {
      "image/png": "[encoded data removed]",
      "text/plain": [
       "<Figure size 432x288 with 1 Axes>"
      ]
     },
     "metadata": {},
     "output_type": "display_data"
    }
   ],
   "source": [
    "fig, ax = plt.subplots()\n",
    "color_palette_list = ['#009BD0', '#00BDCC','#ADD8E6']\n",
    "\n",
    "plt.rcParams['font.sans-serif'] = 'Arial'\n",
    "plt.rcParams['font.family'] = 'sans-serif'\n",
    "plt.rcParams['text.color'] = 'black'\n",
    "plt.rcParams['axes.labelcolor']= 'black'\n",
    "plt.rcParams['xtick.color'] = 'black'\n",
    "plt.rcParams['ytick.color'] = 'black'\n",
    "plt.rcParams['font.size']=14\n",
    "\n",
    "x = [top1.count(True), top5.count(True), found.count(False)]\n",
    "labels = ['Top 1', 'Top 5' ,'Was not found']\n",
    "_=ax.pie(x, colors=color_palette_list,\n",
    "         autopct='%1.0f%%', shadow=True, startangle=90, pctdistance=0.5,labeldistance=1.3, explode=(0.1,0.1,0.1))\n",
    "ax.legend(frameon=True, bbox_to_anchor=(1,0.75), labels=labels)"
   ]
  },
  {
   "cell_type": "markdown",
   "id": "experienced-ceiling",
   "metadata": {},
   "source": [
    "## Without a Twitter Account "
   ]
  },
  {
   "cell_type": "code",
   "execution_count": 30,
   "id": "affiliated-interstate",
   "metadata": {},
   "outputs": [],
   "source": [
    "target_names = ['Has an Account', 'Does not have a Account']"
   ]
  },
  {
   "cell_type": "code",
   "execution_count": 31,
   "id": "distinguished-chance",
   "metadata": {},
   "outputs": [],
   "source": [
    "fn_noacc = fn[fn['Twitter Handle'] == 0].copy() "
   ]
  },
  {
   "cell_type": "code",
   "execution_count": 32,
   "id": "infrared-advancement",
   "metadata": {},
   "outputs": [],
   "source": [
    "correct = []\n",
    "for i, acc in enumerate(fn_noacc['Twitter Handle']):\n",
    "    if acc == fn_noacc['Result 1'].iloc[i]:\n",
    "        correct.append(True)\n",
    "    else:\n",
    "        correct.append(False)         "
   ]
  },
  {
   "cell_type": "code",
   "execution_count": 33,
   "id": "protective-flashing",
   "metadata": {},
   "outputs": [
    {
     "data": {
      "text/plain": [
       "(52, 9)"
      ]
     },
     "execution_count": 33,
     "metadata": {},
     "output_type": "execute_result"
    }
   ],
   "source": [
    "correct.count(True), correct.count(False)"
   ]
  },
  {
   "cell_type": "markdown",
   "id": "foreign-refrigerator",
   "metadata": {},
   "source": [
    "## Final Results"
   ]
  },
  {
   "cell_type": "code",
   "execution_count": 34,
   "id": "current-authority",
   "metadata": {},
   "outputs": [
    {
     "data": {
      "text/plain": [
       "array([[121,  52],\n",
       "       [118,   9]])"
      ]
     },
     "execution_count": 34,
     "metadata": {},
     "output_type": "execute_result"
    }
   ],
   "source": [
    "fin_result = np.array([[found.count(True),correct.count(True)],\n",
    "                      [found.count(False),correct.count(False)]])\n",
    "fin_result"
   ]
  },
  {
   "cell_type": "code",
   "execution_count": 35,
   "id": "developing-iceland",
   "metadata": {},
   "outputs": [
    {
     "data": {
      "text/plain": [
       "<AxesSubplot:>"
      ]
     },
     "execution_count": 35,
     "metadata": {},
     "output_type": "execute_result"
    },
    {
     "data": {
      "image/png": "[encoded data removed]",
      "text/plain": [
       "<Figure size 432x288 with 1 Axes>"
      ]
     },
     "metadata": {
      "needs_background": "light"
     },
     "output_type": "display_data"
    }
   ],
   "source": [
    "pd.DataFrame(fin_result, \n",
    "             columns=['Uses Twitter', 'Does not use Twitter'], \n",
    "             index=['Correct', 'Incorrect']).T.plot(kind='barh')"
   ]
  },
  {
   "cell_type": "markdown",
   "id": "varying-funds",
   "metadata": {},
   "source": [
    "---\n",
    "# Surnames Greeklish"
   ]
  },
  {
   "cell_type": "code",
   "execution_count": 36,
   "id": "macro-chart",
   "metadata": {},
   "outputs": [
    {
     "data": {
      "text/html": [
       "<div>\n",
       "<style scoped>\n",
       "    .dataframe tbody tr th:only-of-type {\n",
       "        vertical-align: middle;\n",
       "    }\n",
       "\n",
       "    .dataframe tbody tr th {\n",
       "        vertical-align: top;\n",
       "    }\n",
       "\n",
       "    .dataframe thead th {\n",
       "        text-align: right;\n",
       "    }\n",
       "</style>\n",
       "<table border=\"1\" class=\"dataframe\">\n",
       "  <thead>\n",
       "    <tr style=\"text-align: right;\">\n",
       "      <th></th>\n",
       "      <th>Name (Long)</th>\n",
       "      <th>Surname</th>\n",
       "      <th>Name</th>\n",
       "      <th>Party</th>\n",
       "      <th>Twitter Handle</th>\n",
       "      <th>Result 1</th>\n",
       "      <th>Result 2</th>\n",
       "      <th>Result 3</th>\n",
       "      <th>Result 4</th>\n",
       "      <th>Result 5</th>\n",
       "      <th>...</th>\n",
       "      <th>Result 9</th>\n",
       "      <th>Result 10</th>\n",
       "      <th>Result 11</th>\n",
       "      <th>Result 12</th>\n",
       "      <th>Result 13</th>\n",
       "      <th>Result 14</th>\n",
       "      <th>Result 15</th>\n",
       "      <th>Result 16</th>\n",
       "      <th>Result 17</th>\n",
       "      <th>Result 18</th>\n",
       "    </tr>\n",
       "  </thead>\n",
       "  <tbody>\n",
       "    <tr>\n",
       "      <th>0</th>\n",
       "      <td>Βιλιάρδος Διονυσίου Βασίλειος</td>\n",
       "      <td>Βιλιάρδος</td>\n",
       "      <td>Βιλιάρδος Βασίλειος</td>\n",
       "      <td>ΕΛΛΗΝΙΚΗ ΛΥΣΗ</td>\n",
       "      <td>174226430</td>\n",
       "      <td>174226430</td>\n",
       "      <td>0</td>\n",
       "      <td>0</td>\n",
       "      <td>0</td>\n",
       "      <td>0</td>\n",
       "      <td>...</td>\n",
       "      <td>0</td>\n",
       "      <td>0</td>\n",
       "      <td>0</td>\n",
       "      <td>0</td>\n",
       "      <td>0</td>\n",
       "      <td>0</td>\n",
       "      <td>0</td>\n",
       "      <td>0</td>\n",
       "      <td>0</td>\n",
       "      <td>0</td>\n",
       "    </tr>\n",
       "    <tr>\n",
       "      <th>1</th>\n",
       "      <td>Αλεξοπούλου Κωνσταντίνου Αναστασία - Αικατερίνη</td>\n",
       "      <td>Αλεξοπούλου</td>\n",
       "      <td>Αλεξοπούλου Αικατερίνη</td>\n",
       "      <td>ΕΛΛΗΝΙΚΗ ΛΥΣΗ</td>\n",
       "      <td>1168241295149740038</td>\n",
       "      <td>0</td>\n",
       "      <td>1168241295149740032</td>\n",
       "      <td>0</td>\n",
       "      <td>0</td>\n",
       "      <td>0</td>\n",
       "      <td>...</td>\n",
       "      <td>0</td>\n",
       "      <td>0</td>\n",
       "      <td>0</td>\n",
       "      <td>0</td>\n",
       "      <td>0</td>\n",
       "      <td>0</td>\n",
       "      <td>0</td>\n",
       "      <td>0</td>\n",
       "      <td>0</td>\n",
       "      <td>0</td>\n",
       "    </tr>\n",
       "    <tr>\n",
       "      <th>2</th>\n",
       "      <td>Αθανασίου Ευαγγέλου Μαρία</td>\n",
       "      <td>Αθανασίου</td>\n",
       "      <td>Αθανασίου Μαρία</td>\n",
       "      <td>ΕΛΛΗΝΙΚΗ ΛΥΣΗ</td>\n",
       "      <td>1153988844498444288</td>\n",
       "      <td>0</td>\n",
       "      <td>0</td>\n",
       "      <td>0</td>\n",
       "      <td>0</td>\n",
       "      <td>0</td>\n",
       "      <td>...</td>\n",
       "      <td>0</td>\n",
       "      <td>0</td>\n",
       "      <td>0</td>\n",
       "      <td>0</td>\n",
       "      <td>0</td>\n",
       "      <td>0</td>\n",
       "      <td>0</td>\n",
       "      <td>0</td>\n",
       "      <td>0</td>\n",
       "      <td>0</td>\n",
       "    </tr>\n",
       "    <tr>\n",
       "      <th>3</th>\n",
       "      <td>Βαγενάς Κωνσταντίνου Δημήτριος</td>\n",
       "      <td>Βαγενάς</td>\n",
       "      <td>Βαγενάς Δημήτριος</td>\n",
       "      <td>ΕΛΛΗΝΙΚΗ ΛΥΣΗ</td>\n",
       "      <td>1302266183790604290</td>\n",
       "      <td>0</td>\n",
       "      <td>0</td>\n",
       "      <td>0</td>\n",
       "      <td>0</td>\n",
       "      <td>0</td>\n",
       "      <td>...</td>\n",
       "      <td>0</td>\n",
       "      <td>0</td>\n",
       "      <td>0</td>\n",
       "      <td>0</td>\n",
       "      <td>0</td>\n",
       "      <td>0</td>\n",
       "      <td>0</td>\n",
       "      <td>0</td>\n",
       "      <td>0</td>\n",
       "      <td>0</td>\n",
       "    </tr>\n",
       "    <tr>\n",
       "      <th>4</th>\n",
       "      <td>Ασημακοπούλου Δημητρίου Σοφία - Χάιδω</td>\n",
       "      <td>Ασημακοπούλου</td>\n",
       "      <td>Ασημακοπούλου Χάιδω</td>\n",
       "      <td>ΕΛΛΗΝΙΚΗ ΛΥΣΗ</td>\n",
       "      <td>1148229718627540992</td>\n",
       "      <td>533041104</td>\n",
       "      <td>0</td>\n",
       "      <td>0</td>\n",
       "      <td>0</td>\n",
       "      <td>0</td>\n",
       "      <td>...</td>\n",
       "      <td>0</td>\n",
       "      <td>0</td>\n",
       "      <td>0</td>\n",
       "      <td>0</td>\n",
       "      <td>0</td>\n",
       "      <td>0</td>\n",
       "      <td>0</td>\n",
       "      <td>0</td>\n",
       "      <td>0</td>\n",
       "      <td>0</td>\n",
       "    </tr>\n",
       "  </tbody>\n",
       "</table>\n",
       "<p>5 rows × 23 columns</p>\n",
       "</div>"
      ],
      "text/plain": [
       "                                       Name (Long)        Surname  \\\n",
       "0                    Βιλιάρδος Διονυσίου Βασίλειος      Βιλιάρδος   \n",
       "1  Αλεξοπούλου Κωνσταντίνου Αναστασία - Αικατερίνη    Αλεξοπούλου   \n",
       "2                        Αθανασίου Ευαγγέλου Μαρία      Αθανασίου   \n",
       "3                   Βαγενάς Κωνσταντίνου Δημήτριος        Βαγενάς   \n",
       "4            Ασημακοπούλου Δημητρίου Σοφία - Χάιδω  Ασημακοπούλου   \n",
       "\n",
       "                     Name          Party       Twitter Handle   Result 1  \\\n",
       "0     Βιλιάρδος Βασίλειος  ΕΛΛΗΝΙΚΗ ΛΥΣΗ            174226430  174226430   \n",
       "1  Αλεξοπούλου Αικατερίνη  ΕΛΛΗΝΙΚΗ ΛΥΣΗ  1168241295149740038          0   \n",
       "2         Αθανασίου Μαρία  ΕΛΛΗΝΙΚΗ ΛΥΣΗ  1153988844498444288          0   \n",
       "3       Βαγενάς Δημήτριος  ΕΛΛΗΝΙΚΗ ΛΥΣΗ  1302266183790604290          0   \n",
       "4     Ασημακοπούλου Χάιδω  ΕΛΛΗΝΙΚΗ ΛΥΣΗ  1148229718627540992  533041104   \n",
       "\n",
       "              Result 2  Result 3  Result 4  Result 5  ...  Result 9  \\\n",
       "0                    0         0         0         0  ...         0   \n",
       "1  1168241295149740032         0         0         0  ...         0   \n",
       "2                    0         0         0         0  ...         0   \n",
       "3                    0         0         0         0  ...         0   \n",
       "4                    0         0         0         0  ...         0   \n",
       "\n",
       "   Result 10  Result 11  Result 12  Result 13  Result 14  Result 15  \\\n",
       "0          0          0          0          0          0          0   \n",
       "1          0          0          0          0          0          0   \n",
       "2          0          0          0          0          0          0   \n",
       "3          0          0          0          0          0          0   \n",
       "4          0          0          0          0          0          0   \n",
       "\n",
       "   Result 16  Result 17  Result 18  \n",
       "0          0          0          0  \n",
       "1          0          0          0  \n",
       "2          0          0          0  \n",
       "3          0          0          0  \n",
       "4          0          0          0  \n",
       "\n",
       "[5 rows x 23 columns]"
      ]
     },
     "execution_count": 36,
     "metadata": {},
     "output_type": "execute_result"
    }
   ],
   "source": [
    "fn = pd.read_csv('Twitter-Search-SurnamesLatin-ClassifierND-Parliament-Members.csv')\n",
    "fn = fn.replace(np.nan, '')\n",
    "fn.head()"
   ]
  },
  {
   "cell_type": "code",
   "execution_count": 37,
   "id": "bound-operation",
   "metadata": {},
   "outputs": [],
   "source": [
    "result = []\n",
    "for i in fn.index:\n",
    "    temp = list(fn[['Result 1', 'Result 2', 'Result 3', 'Result 4', 'Result 5']].iloc[i])\n",
    "    temp = [item for item in temp if item != 0]\n",
    "    if not temp:\n",
    "        temp += [0,0,0,0,0]\n",
    "    while len(temp) < 5:\n",
    "        temp += [0]\n",
    "    result.append(temp)\n",
    "\n",
    "result = np.array(result)\n",
    "fn['Result 1'] = result[:,0]\n",
    "fn['Result 2'] = result[:,1]\n",
    "fn['Result 3'] = result[:,2]\n",
    "fn['Result 4'] = result[:,3]\n",
    "fn['Result 5'] = result[:,4]"
   ]
  },
  {
   "cell_type": "markdown",
   "id": "excessive-drama",
   "metadata": {},
   "source": [
    "## With a Twitter Account "
   ]
  },
  {
   "cell_type": "code",
   "execution_count": 38,
   "id": "furnished-struggle",
   "metadata": {},
   "outputs": [],
   "source": [
    "fn_acc = fn[fn['Twitter Handle'] != 0].copy() "
   ]
  },
  {
   "cell_type": "code",
   "execution_count": 39,
   "id": "thermal-defensive",
   "metadata": {},
   "outputs": [],
   "source": [
    "top1 = [False for i in range(len(fn_acc))]\n",
    "top5 = [False for i in range(len(fn_acc))]\n",
    "top10 = [False for i in range(len(fn_acc))]\n",
    "\n",
    "for i, acc in enumerate(fn_acc['Twitter Handle']):\n",
    "    for j,res in enumerate(fn_acc[[f'Result {k+1}' for k in range(10)]].iloc[i].unique()):\n",
    "        if acc == res:\n",
    "            if j < 1:\n",
    "                top1[i] = True\n",
    "            elif 0 < j < 6:\n",
    "                top5[i] = True\n",
    "            else:\n",
    "                top10[j] = True"
   ]
  },
  {
   "cell_type": "code",
   "execution_count": 40,
   "id": "numeric-estate",
   "metadata": {},
   "outputs": [],
   "source": [
    "found = [a or b or c for a,b,c in zip(top1,top5,top10)]"
   ]
  },
  {
   "cell_type": "code",
   "execution_count": 42,
   "id": "robust-flooring",
   "metadata": {},
   "outputs": [
    {
     "data": {
      "text/plain": [
       "<matplotlib.legend.Legend at 0x7fd118325430>"
      ]
     },
     "execution_count": 42,
     "metadata": {},
     "output_type": "execute_result"
    },
    {
     "data": {
      "image/png": "[encoded data removed]",
      "text/plain": [
       "<Figure size 432x288 with 1 Axes>"
      ]
     },
     "metadata": {},
     "output_type": "display_data"
    }
   ],
   "source": [
    "fig, ax = plt.subplots()\n",
    "color_palette_list = ['#009BD0', '#00BDCC' ,'#ADD8E6']\n",
    "\n",
    "plt.rcParams['font.sans-serif'] = 'Arial'\n",
    "plt.rcParams['font.family'] = 'sans-serif'\n",
    "plt.rcParams['text.color'] = 'black'\n",
    "plt.rcParams['axes.labelcolor']= 'black'\n",
    "plt.rcParams['xtick.color'] = 'black'\n",
    "plt.rcParams['ytick.color'] = 'black'\n",
    "plt.rcParams['font.size']=14\n",
    "\n",
    "x = [top1.count(True), top5.count(True), found.count(False)]\n",
    "labels = ['Top 1', 'Top 5', 'Was not found']\n",
    "_=ax.pie(x, colors=color_palette_list,\n",
    "         autopct='%1.0f%%', shadow=True, startangle=90, pctdistance=0.5,labeldistance=1.3, explode=(0.1,0.1 ,0.1))\n",
    "ax.legend(frameon=True, bbox_to_anchor=(1,0.75), labels=labels)"
   ]
  },
  {
   "cell_type": "markdown",
   "id": "hazardous-treasurer",
   "metadata": {},
   "source": [
    "## Without a Twitter Account "
   ]
  },
  {
   "cell_type": "code",
   "execution_count": 43,
   "id": "returning-peripheral",
   "metadata": {},
   "outputs": [],
   "source": [
    "target_names = ['Has an Account', 'Does not have a Account']"
   ]
  },
  {
   "cell_type": "code",
   "execution_count": 44,
   "id": "advance-slide",
   "metadata": {},
   "outputs": [],
   "source": [
    "fn_noacc = fn[fn['Twitter Handle'] == 0].copy() "
   ]
  },
  {
   "cell_type": "code",
   "execution_count": 45,
   "id": "experienced-yemen",
   "metadata": {},
   "outputs": [],
   "source": [
    "correct = []\n",
    "for i, acc in enumerate(fn_noacc['Twitter Handle']):\n",
    "    if acc == fn_noacc['Result 1'].iloc[i]:\n",
    "        correct.append(True)\n",
    "    else:\n",
    "        correct.append(False)         "
   ]
  },
  {
   "cell_type": "code",
   "execution_count": 46,
   "id": "selected-hartford",
   "metadata": {},
   "outputs": [
    {
     "data": {
      "text/plain": [
       "(57, 4)"
      ]
     },
     "execution_count": 46,
     "metadata": {},
     "output_type": "execute_result"
    }
   ],
   "source": [
    "correct.count(True), correct.count(False)"
   ]
  },
  {
   "cell_type": "markdown",
   "id": "seven-islam",
   "metadata": {},
   "source": [
    "## Final Results"
   ]
  },
  {
   "cell_type": "code",
   "execution_count": 47,
   "id": "outside-citizen",
   "metadata": {},
   "outputs": [
    {
     "data": {
      "text/plain": [
       "array([[102,  57],\n",
       "       [137,   4]])"
      ]
     },
     "execution_count": 47,
     "metadata": {},
     "output_type": "execute_result"
    }
   ],
   "source": [
    "fin_result = np.array([[found.count(True),correct.count(True)],\n",
    "                      [found.count(False),correct.count(False)]])\n",
    "fin_result"
   ]
  },
  {
   "cell_type": "code",
   "execution_count": 48,
   "id": "sporting-august",
   "metadata": {},
   "outputs": [
    {
     "data": {
      "text/plain": [
       "<AxesSubplot:>"
      ]
     },
     "execution_count": 48,
     "metadata": {},
     "output_type": "execute_result"
    },
    {
     "data": {
      "image/png": "[encoded data removed]",
      "text/plain": [
       "<Figure size 432x288 with 1 Axes>"
      ]
     },
     "metadata": {
      "needs_background": "light"
     },
     "output_type": "display_data"
    }
   ],
   "source": [
    "pd.DataFrame(fin_result, \n",
    "             columns=['Uses Twitter', 'Does not use Twitter'], \n",
    "             index=['Correct', 'Incorrect']).T.plot(kind='barh')"
   ]
  }
 ],
 "metadata": {
  "kernelspec": {
   "display_name": "Python 3",
   "language": "python",
   "name": "python3"
  },
  "language_info": {
   "codemirror_mode": {
    "name": "ipython",
    "version": 3
   },
   "file_extension": ".py",
   "mimetype": "text/x-python",
   "name": "python",
   "nbconvert_exporter": "python",
   "pygments_lexer": "ipython3",
   "version": "3.8.5"
  }
 },
 "nbformat": 4,
 "nbformat_minor": 5
}
