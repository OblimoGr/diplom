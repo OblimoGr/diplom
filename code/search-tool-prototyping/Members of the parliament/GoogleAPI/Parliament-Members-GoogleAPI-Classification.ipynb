{
 "cells": [
  {
   "cell_type": "markdown",
   "id": "reasonable-throw",
   "metadata": {},
   "source": [
    "# Search Tool Members of the Parliament: GoogleAPI - Classification"
   ]
  },
  {
   "cell_type": "code",
   "execution_count": 1,
   "id": "biblical-hundred",
   "metadata": {},
   "outputs": [],
   "source": [
    "import pandas as pd\n",
    "import numpy as np\n",
    "import matplotlib.pyplot as plt\n",
    "import seaborn as sns\n",
    "import json\n",
    "import tweepy\n",
    "from tqdm.notebook import tqdm\n",
    "import time\n",
    "\n",
    "# Classification using Voting Classifier\n",
    "from batoomer.twitter_nodes import classification\n",
    "from batoomer.extras.fo_utils import get_data_parl_fo\n",
    "from batoomer.extras.fr_utils import get_data_parl_fr\n",
    "from batoomer.extras.nd_utils import get_text_data_parl_nd\n",
    "from batoomer.extras.tme_utils import get_numeric_data_parl_tme, get_text_data_parl_tme"
   ]
  },
  {
   "cell_type": "code",
   "execution_count": 2,
   "id": "raising-lottery",
   "metadata": {},
   "outputs": [],
   "source": [
    "twitter_credentials = []\n",
    "with open('../../../../twitter_credentials.json', 'r') as f:\n",
    "    twitter_credentials = json.load(f)        \n",
    "\n",
    "# TwitterAPI Authentication\n",
    "auth = tweepy.OAuthHandler(twitter_credentials['consumer_key'],\n",
    "                                   twitter_credentials['consumer_secret'])\n",
    "auth.set_access_token(twitter_credentials['access_token_key'],\n",
    "                              twitter_credentials['access_token_secret'])\n",
    "API = tweepy.API(auth, wait_on_rate_limit=True, wait_on_rate_limit_notify=True, timeout=60*5, retry_count=5)"
   ]
  },
  {
   "cell_type": "markdown",
   "id": "outside-jurisdiction",
   "metadata": {},
   "source": [
    "# CLassifier ND\n",
    "---"
   ]
  },
  {
   "cell_type": "markdown",
   "id": "recorded-shift",
   "metadata": {},
   "source": [
    "# Fullnames"
   ]
  },
  {
   "cell_type": "code",
   "execution_count": 3,
   "id": "empty-pencil",
   "metadata": {},
   "outputs": [
    {
     "data": {
      "text/html": [
       "<div>\n",
       "<style scoped>\n",
       "    .dataframe tbody tr th:only-of-type {\n",
       "        vertical-align: middle;\n",
       "    }\n",
       "\n",
       "    .dataframe tbody tr th {\n",
       "        vertical-align: top;\n",
       "    }\n",
       "\n",
       "    .dataframe thead th {\n",
       "        text-align: right;\n",
       "    }\n",
       "</style>\n",
       "<table border=\"1\" class=\"dataframe\">\n",
       "  <thead>\n",
       "    <tr style=\"text-align: right;\">\n",
       "      <th></th>\n",
       "      <th>Name (Long)</th>\n",
       "      <th>Surname</th>\n",
       "      <th>Name</th>\n",
       "      <th>Party</th>\n",
       "      <th>Twitter Handle</th>\n",
       "      <th>Result 1</th>\n",
       "      <th>Result 2</th>\n",
       "      <th>Result 3</th>\n",
       "      <th>Result 4</th>\n",
       "      <th>Result 5</th>\n",
       "      <th>Result 6</th>\n",
       "      <th>Result 7</th>\n",
       "    </tr>\n",
       "  </thead>\n",
       "  <tbody>\n",
       "    <tr>\n",
       "      <th>0</th>\n",
       "      <td>Βιλιάρδος Διονυσίου Βασίλειος</td>\n",
       "      <td>Βιλιάρδος</td>\n",
       "      <td>Βιλιάρδος Βασίλειος</td>\n",
       "      <td>ΕΛΛΗΝΙΚΗ ΛΥΣΗ</td>\n",
       "      <td>ViliardosV</td>\n",
       "      <td>@ViliardosV</td>\n",
       "      <td>@ViliardosV</td>\n",
       "      <td></td>\n",
       "      <td></td>\n",
       "      <td></td>\n",
       "      <td></td>\n",
       "      <td></td>\n",
       "    </tr>\n",
       "    <tr>\n",
       "      <th>1</th>\n",
       "      <td>Αλεξοπούλου Κωνσταντίνου Αναστασία - Αικατερίνη</td>\n",
       "      <td>Αλεξοπούλου</td>\n",
       "      <td>Αλεξοπούλου Αικατερίνη</td>\n",
       "      <td>ΕΛΛΗΝΙΚΗ ΛΥΣΗ</td>\n",
       "      <td>anaik2020</td>\n",
       "      <td>@anaik2020</td>\n",
       "      <td>@kaityAlex</td>\n",
       "      <td>@ΖΩΗΣ</td>\n",
       "      <td></td>\n",
       "      <td></td>\n",
       "      <td></td>\n",
       "      <td></td>\n",
       "    </tr>\n",
       "    <tr>\n",
       "      <th>2</th>\n",
       "      <td>Αθανασίου Ευαγγέλου Μαρία</td>\n",
       "      <td>Αθανασίου</td>\n",
       "      <td>Αθανασίου Μαρία</td>\n",
       "      <td>ΕΛΛΗΝΙΚΗ ΛΥΣΗ</td>\n",
       "      <td>MariaAt03902914</td>\n",
       "      <td>@MariaAt03902914</td>\n",
       "      <td>@desp1navandi</td>\n",
       "      <td>@MariaAt03902914</td>\n",
       "      <td>@Kathimerini_gr</td>\n",
       "      <td></td>\n",
       "      <td></td>\n",
       "      <td></td>\n",
       "    </tr>\n",
       "    <tr>\n",
       "      <th>3</th>\n",
       "      <td>Βαγενάς Κωνσταντίνου Δημήτριος</td>\n",
       "      <td>Βαγενάς</td>\n",
       "      <td>Βαγενάς Δημήτριος</td>\n",
       "      <td>ΕΛΛΗΝΙΚΗ ΛΥΣΗ</td>\n",
       "      <td>B3Vagenas</td>\n",
       "      <td>@B3Vagenas</td>\n",
       "      <td></td>\n",
       "      <td></td>\n",
       "      <td></td>\n",
       "      <td></td>\n",
       "      <td></td>\n",
       "      <td></td>\n",
       "    </tr>\n",
       "    <tr>\n",
       "      <th>4</th>\n",
       "      <td>Ασημακοπούλου Δημητρίου Σοφία - Χάιδω</td>\n",
       "      <td>Ασημακοπούλου</td>\n",
       "      <td>Ασημακοπούλου Χάιδω</td>\n",
       "      <td>ΕΛΛΗΝΙΚΗ ΛΥΣΗ</td>\n",
       "      <td>SofAsimak</td>\n",
       "      <td></td>\n",
       "      <td></td>\n",
       "      <td></td>\n",
       "      <td></td>\n",
       "      <td></td>\n",
       "      <td></td>\n",
       "      <td></td>\n",
       "    </tr>\n",
       "  </tbody>\n",
       "</table>\n",
       "</div>"
      ],
      "text/plain": [
       "                                       Name (Long)        Surname  \\\n",
       "0                    Βιλιάρδος Διονυσίου Βασίλειος      Βιλιάρδος   \n",
       "1  Αλεξοπούλου Κωνσταντίνου Αναστασία - Αικατερίνη    Αλεξοπούλου   \n",
       "2                        Αθανασίου Ευαγγέλου Μαρία      Αθανασίου   \n",
       "3                   Βαγενάς Κωνσταντίνου Δημήτριος        Βαγενάς   \n",
       "4            Ασημακοπούλου Δημητρίου Σοφία - Χάιδω  Ασημακοπούλου   \n",
       "\n",
       "                     Name          Party   Twitter Handle          Result 1  \\\n",
       "0     Βιλιάρδος Βασίλειος  ΕΛΛΗΝΙΚΗ ΛΥΣΗ       ViliardosV       @ViliardosV   \n",
       "1  Αλεξοπούλου Αικατερίνη  ΕΛΛΗΝΙΚΗ ΛΥΣΗ        anaik2020        @anaik2020   \n",
       "2         Αθανασίου Μαρία  ΕΛΛΗΝΙΚΗ ΛΥΣΗ  MariaAt03902914  @MariaAt03902914   \n",
       "3       Βαγενάς Δημήτριος  ΕΛΛΗΝΙΚΗ ΛΥΣΗ        B3Vagenas        @B3Vagenas   \n",
       "4     Ασημακοπούλου Χάιδω  ΕΛΛΗΝΙΚΗ ΛΥΣΗ        SofAsimak                     \n",
       "\n",
       "        Result 2          Result 3         Result 4 Result 5 Result 6 Result 7  \n",
       "0    @ViliardosV                                                                \n",
       "1     @kaityAlex             @ΖΩΗΣ                                              \n",
       "2  @desp1navandi  @MariaAt03902914  @Kathimerini_gr                             \n",
       "3                                                                               \n",
       "4                                                                               "
      ]
     },
     "execution_count": 3,
     "metadata": {},
     "output_type": "execute_result"
    }
   ],
   "source": [
    "fn = pd.read_csv('Google-Search-Fullnames-Parliament-Members.csv')\n",
    "fn = fn.replace(np.nan, '')\n",
    "fn.head()"
   ]
  },
  {
   "cell_type": "code",
   "execution_count": 4,
   "id": "enormous-enlargement",
   "metadata": {},
   "outputs": [],
   "source": [
    "def get_ids(df):\n",
    "    true_id = []\n",
    "    for acc in tqdm(df, leave=False):\n",
    "        if acc != '':\n",
    "            try:\n",
    "                user = API.get_user(acc)\n",
    "                true_id.append(user.id)\n",
    "            except tweepy.TweepError as err:\n",
    "                true_id.append(0)\n",
    "        else:\n",
    "            true_id.append(0)\n",
    "    return true_id"
   ]
  },
  {
   "cell_type": "code",
   "execution_count": 5,
   "id": "accredited-basket",
   "metadata": {},
   "outputs": [
    {
     "data": {
      "application/vnd.jupyter.widget-view+json": {
       "model_id": "",
       "version_major": 2,
       "version_minor": 0
      },
      "text/plain": [
       "  0%|          | 0/300 [00:00<?, ?it/s]"
      ]
     },
     "metadata": {},
     "output_type": "display_data"
    },
    {
     "data": {
      "application/vnd.jupyter.widget-view+json": {
       "model_id": "",
       "version_major": 2,
       "version_minor": 0
      },
      "text/plain": [
       "  0%|          | 0/300 [00:00<?, ?it/s]"
      ]
     },
     "metadata": {},
     "output_type": "display_data"
    },
    {
     "data": {
      "application/vnd.jupyter.widget-view+json": {
       "model_id": "",
       "version_major": 2,
       "version_minor": 0
      },
      "text/plain": [
       "  0%|          | 0/300 [00:00<?, ?it/s]"
      ]
     },
     "metadata": {},
     "output_type": "display_data"
    },
    {
     "data": {
      "application/vnd.jupyter.widget-view+json": {
       "model_id": "",
       "version_major": 2,
       "version_minor": 0
      },
      "text/plain": [
       "  0%|          | 0/300 [00:00<?, ?it/s]"
      ]
     },
     "metadata": {},
     "output_type": "display_data"
    },
    {
     "name": "stderr",
     "output_type": "stream",
     "text": [
      "Rate limit reached. Sleeping for: 551\n"
     ]
    },
    {
     "data": {
      "application/vnd.jupyter.widget-view+json": {
       "model_id": "",
       "version_major": 2,
       "version_minor": 0
      },
      "text/plain": [
       "  0%|          | 0/300 [00:00<?, ?it/s]"
      ]
     },
     "metadata": {},
     "output_type": "display_data"
    },
    {
     "data": {
      "application/vnd.jupyter.widget-view+json": {
       "model_id": "",
       "version_major": 2,
       "version_minor": 0
      },
      "text/plain": [
       "  0%|          | 0/300 [00:00<?, ?it/s]"
      ]
     },
     "metadata": {},
     "output_type": "display_data"
    },
    {
     "data": {
      "application/vnd.jupyter.widget-view+json": {
       "model_id": "",
       "version_major": 2,
       "version_minor": 0
      },
      "text/plain": [
       "  0%|          | 0/300 [00:00<?, ?it/s]"
      ]
     },
     "metadata": {},
     "output_type": "display_data"
    },
    {
     "data": {
      "application/vnd.jupyter.widget-view+json": {
       "model_id": "",
       "version_major": 2,
       "version_minor": 0
      },
      "text/plain": [
       "  0%|          | 0/300 [00:00<?, ?it/s]"
      ]
     },
     "metadata": {},
     "output_type": "display_data"
    }
   ],
   "source": [
    "cols = ['Twitter Handle']\n",
    "cols += [f'Result {i+1}' for i in range(7)]\n",
    "for col in cols:\n",
    "    fn[col] = get_ids(fn[col])"
   ]
  },
  {
   "cell_type": "code",
   "execution_count": 9,
   "id": "biblical-check",
   "metadata": {},
   "outputs": [
    {
     "name": "stdout",
     "output_type": "stream",
     "text": [
      "Progress: 299/300\r"
     ]
    }
   ],
   "source": [
    "clf = classification.Classifier(model_name='classifier_parl_nd', twitter_credentials=twitter_credentials, verbose=0)\n",
    "results = pd.DataFrame()\n",
    "counter = 1\n",
    "for i in fn.index: \n",
    "    try:\n",
    "        print(f'Progress: {i}/300', end='\\r')\n",
    "        nodes = list(fn[[f'Result {i+1}' for i in range(7)]].iloc[i].unique())\n",
    "        nodes = [i for i in nodes if i != 0]\n",
    "        if nodes:\n",
    "            labels = clf.predict(nodes)\n",
    "            filtr = pd.DataFrame([nodes, labels]).T\n",
    "            filtr = filtr[filtr[1] == 1]\n",
    "            if not filtr.empty:\n",
    "                results = results.append(filtr[filtr[1] == 1][0])\n",
    "            else:\n",
    "                results = results.append([0])\n",
    "        else:\n",
    "            results = results.append([0])\n",
    "            \n",
    "    except Exception as err:\n",
    "        print(f'Progress: {i}/300', end='\\r')\n",
    "        nodes = list(fn[[f'Result {i+1}' for i in range(7)]].iloc[i].unique())\n",
    "        nodes = [i for i in nodes if i != 0]\n",
    "        if nodes:\n",
    "            labels = clf.predict(nodes)\n",
    "            filtr = pd.DataFrame([nodes, labels]).T\n",
    "            filtr = filtr[filtr[1] == 1]\n",
    "            if not filtr.empty:\n",
    "                results = results.append(filtr[filtr[1] == 1][0])\n",
    "            else:\n",
    "                results = results.append([0])\n",
    "        else:\n",
    "            results = results.append([0])"
   ]
  },
  {
   "cell_type": "code",
   "execution_count": 25,
   "id": "hearing-curve",
   "metadata": {},
   "outputs": [],
   "source": [
    "results = results.replace(np.nan, 0)\n",
    "results = results.astype(int)\n",
    "results = results.reset_index().drop('index', axis = 1)"
   ]
  },
  {
   "cell_type": "code",
   "execution_count": 40,
   "id": "uniform-testing",
   "metadata": {},
   "outputs": [],
   "source": [
    "for i in range(5):\n",
    "    fn[f'Result {i+1}'] = results[i]"
   ]
  },
  {
   "cell_type": "code",
   "execution_count": 43,
   "id": "rocky-armstrong",
   "metadata": {},
   "outputs": [],
   "source": [
    "fn.to_csv('Google-Search-Fullnames-ClassifierND-Parliament-Members.csv', index=False)"
   ]
  },
  {
   "cell_type": "markdown",
   "id": "soviet-parks",
   "metadata": {},
   "source": [
    "# Lastnames"
   ]
  },
  {
   "cell_type": "code",
   "execution_count": 45,
   "id": "capable-jamaica",
   "metadata": {},
   "outputs": [
    {
     "data": {
      "text/html": [
       "<div>\n",
       "<style scoped>\n",
       "    .dataframe tbody tr th:only-of-type {\n",
       "        vertical-align: middle;\n",
       "    }\n",
       "\n",
       "    .dataframe tbody tr th {\n",
       "        vertical-align: top;\n",
       "    }\n",
       "\n",
       "    .dataframe thead th {\n",
       "        text-align: right;\n",
       "    }\n",
       "</style>\n",
       "<table border=\"1\" class=\"dataframe\">\n",
       "  <thead>\n",
       "    <tr style=\"text-align: right;\">\n",
       "      <th></th>\n",
       "      <th>Name (Long)</th>\n",
       "      <th>Surname</th>\n",
       "      <th>Name</th>\n",
       "      <th>Party</th>\n",
       "      <th>Twitter Handle</th>\n",
       "      <th>Result 1</th>\n",
       "      <th>Result 2</th>\n",
       "      <th>Result 3</th>\n",
       "      <th>Result 4</th>\n",
       "      <th>Result 5</th>\n",
       "      <th>Result 6</th>\n",
       "      <th>Result 7</th>\n",
       "    </tr>\n",
       "  </thead>\n",
       "  <tbody>\n",
       "    <tr>\n",
       "      <th>0</th>\n",
       "      <td>Βιλιάρδος Διονυσίου Βασίλειος</td>\n",
       "      <td>Βιλιάρδος</td>\n",
       "      <td>Βιλιάρδος Βασίλειος</td>\n",
       "      <td>ΕΛΛΗΝΙΚΗ ΛΥΣΗ</td>\n",
       "      <td>ViliardosV</td>\n",
       "      <td>@ViliardosV</td>\n",
       "      <td>@ViliardosV</td>\n",
       "      <td></td>\n",
       "      <td></td>\n",
       "      <td></td>\n",
       "      <td></td>\n",
       "      <td></td>\n",
       "    </tr>\n",
       "    <tr>\n",
       "      <th>1</th>\n",
       "      <td>Αλεξοπούλου Κωνσταντίνου Αναστασία - Αικατερίνη</td>\n",
       "      <td>Αλεξοπούλου</td>\n",
       "      <td>Αλεξοπούλου Αικατερίνη</td>\n",
       "      <td>ΕΛΛΗΝΙΚΗ ΛΥΣΗ</td>\n",
       "      <td>anaik2020</td>\n",
       "      <td>@xrisalex</td>\n",
       "      <td>@aalexopoulos97</td>\n",
       "      <td>@xrisalex</td>\n",
       "      <td>@christina</td>\n",
       "      <td></td>\n",
       "      <td></td>\n",
       "      <td></td>\n",
       "    </tr>\n",
       "    <tr>\n",
       "      <th>2</th>\n",
       "      <td>Αθανασίου Ευαγγέλου Μαρία</td>\n",
       "      <td>Αθανασίου</td>\n",
       "      <td>Αθανασίου Μαρία</td>\n",
       "      <td>ΕΛΛΗΝΙΚΗ ΛΥΣΗ</td>\n",
       "      <td>MariaAt03902914</td>\n",
       "      <td>@Athanas_HS</td>\n",
       "      <td>@athanasiou_marios</td>\n",
       "      <td>@XarAthan</td>\n",
       "      <td>@XarAthan</td>\n",
       "      <td>@verou_ath</td>\n",
       "      <td>@AthanasiouTh</td>\n",
       "      <td></td>\n",
       "    </tr>\n",
       "    <tr>\n",
       "      <th>3</th>\n",
       "      <td>Βαγενάς Κωνσταντίνου Δημήτριος</td>\n",
       "      <td>Βαγενάς</td>\n",
       "      <td>Βαγενάς Δημήτριος</td>\n",
       "      <td>ΕΛΛΗΝΙΚΗ ΛΥΣΗ</td>\n",
       "      <td>B3Vagenas</td>\n",
       "      <td>@loukas_vagenas</td>\n",
       "      <td>@B3Vagenas</td>\n",
       "      <td></td>\n",
       "      <td></td>\n",
       "      <td></td>\n",
       "      <td></td>\n",
       "      <td></td>\n",
       "    </tr>\n",
       "    <tr>\n",
       "      <th>4</th>\n",
       "      <td>Ασημακοπούλου Δημητρίου Σοφία - Χάιδω</td>\n",
       "      <td>Ασημακοπούλου</td>\n",
       "      <td>Ασημακοπούλου Χάιδω</td>\n",
       "      <td>ΕΛΛΗΝΙΚΗ ΛΥΣΗ</td>\n",
       "      <td>SofAsimak</td>\n",
       "      <td>@AnnaAsimakopoul</td>\n",
       "      <td>@anna_michelle_nd</td>\n",
       "      <td>@A6TzzGauUShtz5c</td>\n",
       "      <td></td>\n",
       "      <td></td>\n",
       "      <td></td>\n",
       "      <td></td>\n",
       "    </tr>\n",
       "  </tbody>\n",
       "</table>\n",
       "</div>"
      ],
      "text/plain": [
       "                                       Name (Long)        Surname  \\\n",
       "0                    Βιλιάρδος Διονυσίου Βασίλειος      Βιλιάρδος   \n",
       "1  Αλεξοπούλου Κωνσταντίνου Αναστασία - Αικατερίνη    Αλεξοπούλου   \n",
       "2                        Αθανασίου Ευαγγέλου Μαρία      Αθανασίου   \n",
       "3                   Βαγενάς Κωνσταντίνου Δημήτριος        Βαγενάς   \n",
       "4            Ασημακοπούλου Δημητρίου Σοφία - Χάιδω  Ασημακοπούλου   \n",
       "\n",
       "                     Name          Party   Twitter Handle          Result 1  \\\n",
       "0     Βιλιάρδος Βασίλειος  ΕΛΛΗΝΙΚΗ ΛΥΣΗ       ViliardosV       @ViliardosV   \n",
       "1  Αλεξοπούλου Αικατερίνη  ΕΛΛΗΝΙΚΗ ΛΥΣΗ        anaik2020         @xrisalex   \n",
       "2         Αθανασίου Μαρία  ΕΛΛΗΝΙΚΗ ΛΥΣΗ  MariaAt03902914       @Athanas_HS   \n",
       "3       Βαγενάς Δημήτριος  ΕΛΛΗΝΙΚΗ ΛΥΣΗ        B3Vagenas   @loukas_vagenas   \n",
       "4     Ασημακοπούλου Χάιδω  ΕΛΛΗΝΙΚΗ ΛΥΣΗ        SofAsimak  @AnnaAsimakopoul   \n",
       "\n",
       "             Result 2          Result 3    Result 4    Result 5  \\\n",
       "0         @ViliardosV                                             \n",
       "1     @aalexopoulos97         @xrisalex  @christina               \n",
       "2  @athanasiou_marios         @XarAthan   @XarAthan  @verou_ath   \n",
       "3          @B3Vagenas                                             \n",
       "4   @anna_michelle_nd  @A6TzzGauUShtz5c                           \n",
       "\n",
       "        Result 6 Result 7  \n",
       "0                          \n",
       "1                          \n",
       "2  @AthanasiouTh           \n",
       "3                          \n",
       "4                          "
      ]
     },
     "execution_count": 45,
     "metadata": {},
     "output_type": "execute_result"
    }
   ],
   "source": [
    "fn = pd.read_csv('Google-Search-Surnames-Parliament-Members.csv')\n",
    "fn = fn.replace(np.nan, '')\n",
    "fn.head()"
   ]
  },
  {
   "cell_type": "code",
   "execution_count": 46,
   "id": "hourly-negative",
   "metadata": {},
   "outputs": [],
   "source": [
    "def get_ids(df):\n",
    "    true_id = []\n",
    "    for acc in tqdm(df, leave=False):\n",
    "        if acc != '':\n",
    "            try:\n",
    "                user = API.get_user(acc)\n",
    "                true_id.append(user.id)\n",
    "            except tweepy.TweepError as err:\n",
    "                true_id.append(0)\n",
    "        else:\n",
    "            true_id.append(0)\n",
    "    return true_id"
   ]
  },
  {
   "cell_type": "code",
   "execution_count": 48,
   "id": "signal-button",
   "metadata": {
    "collapsed": true,
    "jupyter": {
     "outputs_hidden": true
    }
   },
   "outputs": [
    {
     "data": {
      "application/vnd.jupyter.widget-view+json": {
       "model_id": "d56c80a4621649218bf9e60b22298f7d",
       "version_major": 2,
       "version_minor": 0
      },
      "text/plain": [
       "  0%|          | 0/300 [00:00<?, ?it/s]"
      ]
     },
     "metadata": {},
     "output_type": "display_data"
    },
    {
     "ename": "KeyboardInterrupt",
     "evalue": "",
     "output_type": "error",
     "traceback": [
      "\u001b[0;31m---------------------------------------------------------------------------\u001b[0m",
      "\u001b[0;31mKeyboardInterrupt\u001b[0m                         Traceback (most recent call last)",
      "\u001b[0;32m<ipython-input-48-04a259cabee2>\u001b[0m in \u001b[0;36m<module>\u001b[0;34m\u001b[0m\n\u001b[1;32m      2\u001b[0m \u001b[0mcols\u001b[0m \u001b[0;34m+=\u001b[0m \u001b[0;34m[\u001b[0m\u001b[0;34mf'Result {i+1}'\u001b[0m \u001b[0;32mfor\u001b[0m \u001b[0mi\u001b[0m \u001b[0;32min\u001b[0m \u001b[0mrange\u001b[0m\u001b[0;34m(\u001b[0m\u001b[0;36m7\u001b[0m\u001b[0;34m)\u001b[0m\u001b[0;34m]\u001b[0m\u001b[0;34m\u001b[0m\u001b[0;34m\u001b[0m\u001b[0m\n\u001b[1;32m      3\u001b[0m \u001b[0;32mfor\u001b[0m \u001b[0mcol\u001b[0m \u001b[0;32min\u001b[0m \u001b[0mcols\u001b[0m\u001b[0;34m:\u001b[0m\u001b[0;34m\u001b[0m\u001b[0;34m\u001b[0m\u001b[0m\n\u001b[0;32m----> 4\u001b[0;31m     \u001b[0mfn\u001b[0m\u001b[0;34m[\u001b[0m\u001b[0mcol\u001b[0m\u001b[0;34m]\u001b[0m \u001b[0;34m=\u001b[0m \u001b[0mget_ids\u001b[0m\u001b[0;34m(\u001b[0m\u001b[0mfn\u001b[0m\u001b[0;34m[\u001b[0m\u001b[0mcol\u001b[0m\u001b[0;34m]\u001b[0m\u001b[0;34m)\u001b[0m\u001b[0;34m\u001b[0m\u001b[0;34m\u001b[0m\u001b[0m\n\u001b[0m",
      "\u001b[0;32m<ipython-input-46-186719be0f39>\u001b[0m in \u001b[0;36mget_ids\u001b[0;34m(df)\u001b[0m\n\u001b[1;32m      4\u001b[0m         \u001b[0;32mif\u001b[0m \u001b[0macc\u001b[0m \u001b[0;34m!=\u001b[0m \u001b[0;34m''\u001b[0m\u001b[0;34m:\u001b[0m\u001b[0;34m\u001b[0m\u001b[0;34m\u001b[0m\u001b[0m\n\u001b[1;32m      5\u001b[0m             \u001b[0;32mtry\u001b[0m\u001b[0;34m:\u001b[0m\u001b[0;34m\u001b[0m\u001b[0;34m\u001b[0m\u001b[0m\n\u001b[0;32m----> 6\u001b[0;31m                 \u001b[0muser\u001b[0m \u001b[0;34m=\u001b[0m \u001b[0mAPI\u001b[0m\u001b[0;34m.\u001b[0m\u001b[0mget_user\u001b[0m\u001b[0;34m(\u001b[0m\u001b[0macc\u001b[0m\u001b[0;34m)\u001b[0m\u001b[0;34m\u001b[0m\u001b[0;34m\u001b[0m\u001b[0m\n\u001b[0m\u001b[1;32m      7\u001b[0m                 \u001b[0mtrue_id\u001b[0m\u001b[0;34m.\u001b[0m\u001b[0mappend\u001b[0m\u001b[0;34m(\u001b[0m\u001b[0muser\u001b[0m\u001b[0;34m.\u001b[0m\u001b[0mid\u001b[0m\u001b[0;34m)\u001b[0m\u001b[0;34m\u001b[0m\u001b[0;34m\u001b[0m\u001b[0m\n\u001b[1;32m      8\u001b[0m             \u001b[0;32mexcept\u001b[0m \u001b[0mtweepy\u001b[0m\u001b[0;34m.\u001b[0m\u001b[0mTweepError\u001b[0m \u001b[0;32mas\u001b[0m \u001b[0merr\u001b[0m\u001b[0;34m:\u001b[0m\u001b[0;34m\u001b[0m\u001b[0;34m\u001b[0m\u001b[0m\n",
      "\u001b[0;32m/Library/Frameworks/Python.framework/Versions/3.8/lib/python3.8/site-packages/tweepy/binder.py\u001b[0m in \u001b[0;36m_call\u001b[0;34m(*args, **kwargs)\u001b[0m\n\u001b[1;32m    251\u001b[0m                 \u001b[0;32mreturn\u001b[0m \u001b[0mmethod\u001b[0m\u001b[0;34m\u001b[0m\u001b[0;34m\u001b[0m\u001b[0m\n\u001b[1;32m    252\u001b[0m             \u001b[0;32melse\u001b[0m\u001b[0;34m:\u001b[0m\u001b[0;34m\u001b[0m\u001b[0;34m\u001b[0m\u001b[0m\n\u001b[0;32m--> 253\u001b[0;31m                 \u001b[0;32mreturn\u001b[0m \u001b[0mmethod\u001b[0m\u001b[0;34m.\u001b[0m\u001b[0mexecute\u001b[0m\u001b[0;34m(\u001b[0m\u001b[0;34m)\u001b[0m\u001b[0;34m\u001b[0m\u001b[0;34m\u001b[0m\u001b[0m\n\u001b[0m\u001b[1;32m    254\u001b[0m         \u001b[0;32mfinally\u001b[0m\u001b[0;34m:\u001b[0m\u001b[0;34m\u001b[0m\u001b[0;34m\u001b[0m\u001b[0m\n\u001b[1;32m    255\u001b[0m             \u001b[0mmethod\u001b[0m\u001b[0;34m.\u001b[0m\u001b[0msession\u001b[0m\u001b[0;34m.\u001b[0m\u001b[0mclose\u001b[0m\u001b[0;34m(\u001b[0m\u001b[0;34m)\u001b[0m\u001b[0;34m\u001b[0m\u001b[0;34m\u001b[0m\u001b[0m\n",
      "\u001b[0;32m/Library/Frameworks/Python.framework/Versions/3.8/lib/python3.8/site-packages/tweepy/binder.py\u001b[0m in \u001b[0;36mexecute\u001b[0;34m(self)\u001b[0m\n\u001b[1;32m    182\u001b[0m                 \u001b[0;31m# Execute request\u001b[0m\u001b[0;34m\u001b[0m\u001b[0;34m\u001b[0m\u001b[0;34m\u001b[0m\u001b[0m\n\u001b[1;32m    183\u001b[0m                 \u001b[0;32mtry\u001b[0m\u001b[0;34m:\u001b[0m\u001b[0;34m\u001b[0m\u001b[0;34m\u001b[0m\u001b[0m\n\u001b[0;32m--> 184\u001b[0;31m                     resp = self.session.request(self.method,\n\u001b[0m\u001b[1;32m    185\u001b[0m                                                 \u001b[0mfull_url\u001b[0m\u001b[0;34m,\u001b[0m\u001b[0;34m\u001b[0m\u001b[0;34m\u001b[0m\u001b[0m\n\u001b[1;32m    186\u001b[0m                                                 \u001b[0mdata\u001b[0m\u001b[0;34m=\u001b[0m\u001b[0mself\u001b[0m\u001b[0;34m.\u001b[0m\u001b[0mpost_data\u001b[0m\u001b[0;34m,\u001b[0m\u001b[0;34m\u001b[0m\u001b[0;34m\u001b[0m\u001b[0m\n",
      "\u001b[0;32m/Library/Frameworks/Python.framework/Versions/3.8/lib/python3.8/site-packages/requests/sessions.py\u001b[0m in \u001b[0;36mrequest\u001b[0;34m(self, method, url, params, data, headers, cookies, files, auth, timeout, allow_redirects, proxies, hooks, stream, verify, cert, json)\u001b[0m\n\u001b[1;32m    540\u001b[0m         }\n\u001b[1;32m    541\u001b[0m         \u001b[0msend_kwargs\u001b[0m\u001b[0;34m.\u001b[0m\u001b[0mupdate\u001b[0m\u001b[0;34m(\u001b[0m\u001b[0msettings\u001b[0m\u001b[0;34m)\u001b[0m\u001b[0;34m\u001b[0m\u001b[0;34m\u001b[0m\u001b[0m\n\u001b[0;32m--> 542\u001b[0;31m         \u001b[0mresp\u001b[0m \u001b[0;34m=\u001b[0m \u001b[0mself\u001b[0m\u001b[0;34m.\u001b[0m\u001b[0msend\u001b[0m\u001b[0;34m(\u001b[0m\u001b[0mprep\u001b[0m\u001b[0;34m,\u001b[0m \u001b[0;34m**\u001b[0m\u001b[0msend_kwargs\u001b[0m\u001b[0;34m)\u001b[0m\u001b[0;34m\u001b[0m\u001b[0;34m\u001b[0m\u001b[0m\n\u001b[0m\u001b[1;32m    543\u001b[0m \u001b[0;34m\u001b[0m\u001b[0m\n\u001b[1;32m    544\u001b[0m         \u001b[0;32mreturn\u001b[0m \u001b[0mresp\u001b[0m\u001b[0;34m\u001b[0m\u001b[0;34m\u001b[0m\u001b[0m\n",
      "\u001b[0;32m/Library/Frameworks/Python.framework/Versions/3.8/lib/python3.8/site-packages/requests/sessions.py\u001b[0m in \u001b[0;36msend\u001b[0;34m(self, request, **kwargs)\u001b[0m\n\u001b[1;32m    653\u001b[0m \u001b[0;34m\u001b[0m\u001b[0m\n\u001b[1;32m    654\u001b[0m         \u001b[0;31m# Send the request\u001b[0m\u001b[0;34m\u001b[0m\u001b[0;34m\u001b[0m\u001b[0;34m\u001b[0m\u001b[0m\n\u001b[0;32m--> 655\u001b[0;31m         \u001b[0mr\u001b[0m \u001b[0;34m=\u001b[0m \u001b[0madapter\u001b[0m\u001b[0;34m.\u001b[0m\u001b[0msend\u001b[0m\u001b[0;34m(\u001b[0m\u001b[0mrequest\u001b[0m\u001b[0;34m,\u001b[0m \u001b[0;34m**\u001b[0m\u001b[0mkwargs\u001b[0m\u001b[0;34m)\u001b[0m\u001b[0;34m\u001b[0m\u001b[0;34m\u001b[0m\u001b[0m\n\u001b[0m\u001b[1;32m    656\u001b[0m \u001b[0;34m\u001b[0m\u001b[0m\n\u001b[1;32m    657\u001b[0m         \u001b[0;31m# Total elapsed time of the request (approximately)\u001b[0m\u001b[0;34m\u001b[0m\u001b[0;34m\u001b[0m\u001b[0;34m\u001b[0m\u001b[0m\n",
      "\u001b[0;32m/Library/Frameworks/Python.framework/Versions/3.8/lib/python3.8/site-packages/requests/adapters.py\u001b[0m in \u001b[0;36msend\u001b[0;34m(self, request, stream, timeout, verify, cert, proxies)\u001b[0m\n\u001b[1;32m    437\u001b[0m         \u001b[0;32mtry\u001b[0m\u001b[0;34m:\u001b[0m\u001b[0;34m\u001b[0m\u001b[0;34m\u001b[0m\u001b[0m\n\u001b[1;32m    438\u001b[0m             \u001b[0;32mif\u001b[0m \u001b[0;32mnot\u001b[0m \u001b[0mchunked\u001b[0m\u001b[0;34m:\u001b[0m\u001b[0;34m\u001b[0m\u001b[0;34m\u001b[0m\u001b[0m\n\u001b[0;32m--> 439\u001b[0;31m                 resp = conn.urlopen(\n\u001b[0m\u001b[1;32m    440\u001b[0m                     \u001b[0mmethod\u001b[0m\u001b[0;34m=\u001b[0m\u001b[0mrequest\u001b[0m\u001b[0;34m.\u001b[0m\u001b[0mmethod\u001b[0m\u001b[0;34m,\u001b[0m\u001b[0;34m\u001b[0m\u001b[0;34m\u001b[0m\u001b[0m\n\u001b[1;32m    441\u001b[0m                     \u001b[0murl\u001b[0m\u001b[0;34m=\u001b[0m\u001b[0murl\u001b[0m\u001b[0;34m,\u001b[0m\u001b[0;34m\u001b[0m\u001b[0;34m\u001b[0m\u001b[0m\n",
      "\u001b[0;32m/Library/Frameworks/Python.framework/Versions/3.8/lib/python3.8/site-packages/urllib3/connectionpool.py\u001b[0m in \u001b[0;36murlopen\u001b[0;34m(self, method, url, body, headers, retries, redirect, assert_same_host, timeout, pool_timeout, release_conn, chunked, body_pos, **response_kw)\u001b[0m\n\u001b[1;32m    697\u001b[0m \u001b[0;34m\u001b[0m\u001b[0m\n\u001b[1;32m    698\u001b[0m             \u001b[0;31m# Make the request on the httplib connection object.\u001b[0m\u001b[0;34m\u001b[0m\u001b[0;34m\u001b[0m\u001b[0;34m\u001b[0m\u001b[0m\n\u001b[0;32m--> 699\u001b[0;31m             httplib_response = self._make_request(\n\u001b[0m\u001b[1;32m    700\u001b[0m                 \u001b[0mconn\u001b[0m\u001b[0;34m,\u001b[0m\u001b[0;34m\u001b[0m\u001b[0;34m\u001b[0m\u001b[0m\n\u001b[1;32m    701\u001b[0m                 \u001b[0mmethod\u001b[0m\u001b[0;34m,\u001b[0m\u001b[0;34m\u001b[0m\u001b[0;34m\u001b[0m\u001b[0m\n",
      "\u001b[0;32m/Library/Frameworks/Python.framework/Versions/3.8/lib/python3.8/site-packages/urllib3/connectionpool.py\u001b[0m in \u001b[0;36m_make_request\u001b[0;34m(self, conn, method, url, timeout, chunked, **httplib_request_kw)\u001b[0m\n\u001b[1;32m    380\u001b[0m         \u001b[0;31m# Trigger any extra validation we need to do.\u001b[0m\u001b[0;34m\u001b[0m\u001b[0;34m\u001b[0m\u001b[0;34m\u001b[0m\u001b[0m\n\u001b[1;32m    381\u001b[0m         \u001b[0;32mtry\u001b[0m\u001b[0;34m:\u001b[0m\u001b[0;34m\u001b[0m\u001b[0;34m\u001b[0m\u001b[0m\n\u001b[0;32m--> 382\u001b[0;31m             \u001b[0mself\u001b[0m\u001b[0;34m.\u001b[0m\u001b[0m_validate_conn\u001b[0m\u001b[0;34m(\u001b[0m\u001b[0mconn\u001b[0m\u001b[0;34m)\u001b[0m\u001b[0;34m\u001b[0m\u001b[0;34m\u001b[0m\u001b[0m\n\u001b[0m\u001b[1;32m    383\u001b[0m         \u001b[0;32mexcept\u001b[0m \u001b[0;34m(\u001b[0m\u001b[0mSocketTimeout\u001b[0m\u001b[0;34m,\u001b[0m \u001b[0mBaseSSLError\u001b[0m\u001b[0;34m)\u001b[0m \u001b[0;32mas\u001b[0m \u001b[0me\u001b[0m\u001b[0;34m:\u001b[0m\u001b[0;34m\u001b[0m\u001b[0;34m\u001b[0m\u001b[0m\n\u001b[1;32m    384\u001b[0m             \u001b[0;31m# Py2 raises this as a BaseSSLError, Py3 raises it as socket timeout.\u001b[0m\u001b[0;34m\u001b[0m\u001b[0;34m\u001b[0m\u001b[0;34m\u001b[0m\u001b[0m\n",
      "\u001b[0;32m/Library/Frameworks/Python.framework/Versions/3.8/lib/python3.8/site-packages/urllib3/connectionpool.py\u001b[0m in \u001b[0;36m_validate_conn\u001b[0;34m(self, conn)\u001b[0m\n\u001b[1;32m   1008\u001b[0m         \u001b[0;31m# Force connect early to allow us to validate the connection.\u001b[0m\u001b[0;34m\u001b[0m\u001b[0;34m\u001b[0m\u001b[0;34m\u001b[0m\u001b[0m\n\u001b[1;32m   1009\u001b[0m         \u001b[0;32mif\u001b[0m \u001b[0;32mnot\u001b[0m \u001b[0mgetattr\u001b[0m\u001b[0;34m(\u001b[0m\u001b[0mconn\u001b[0m\u001b[0;34m,\u001b[0m \u001b[0;34m\"sock\"\u001b[0m\u001b[0;34m,\u001b[0m \u001b[0;32mNone\u001b[0m\u001b[0;34m)\u001b[0m\u001b[0;34m:\u001b[0m  \u001b[0;31m# AppEngine might not have  `.sock`\u001b[0m\u001b[0;34m\u001b[0m\u001b[0;34m\u001b[0m\u001b[0m\n\u001b[0;32m-> 1010\u001b[0;31m             \u001b[0mconn\u001b[0m\u001b[0;34m.\u001b[0m\u001b[0mconnect\u001b[0m\u001b[0;34m(\u001b[0m\u001b[0;34m)\u001b[0m\u001b[0;34m\u001b[0m\u001b[0;34m\u001b[0m\u001b[0m\n\u001b[0m\u001b[1;32m   1011\u001b[0m \u001b[0;34m\u001b[0m\u001b[0m\n\u001b[1;32m   1012\u001b[0m         \u001b[0;32mif\u001b[0m \u001b[0;32mnot\u001b[0m \u001b[0mconn\u001b[0m\u001b[0;34m.\u001b[0m\u001b[0mis_verified\u001b[0m\u001b[0;34m:\u001b[0m\u001b[0;34m\u001b[0m\u001b[0;34m\u001b[0m\u001b[0m\n",
      "\u001b[0;32m/Library/Frameworks/Python.framework/Versions/3.8/lib/python3.8/site-packages/urllib3/connection.py\u001b[0m in \u001b[0;36mconnect\u001b[0;34m(self)\u001b[0m\n\u001b[1;32m    409\u001b[0m             \u001b[0mcontext\u001b[0m\u001b[0;34m.\u001b[0m\u001b[0mload_default_certs\u001b[0m\u001b[0;34m(\u001b[0m\u001b[0;34m)\u001b[0m\u001b[0;34m\u001b[0m\u001b[0;34m\u001b[0m\u001b[0m\n\u001b[1;32m    410\u001b[0m \u001b[0;34m\u001b[0m\u001b[0m\n\u001b[0;32m--> 411\u001b[0;31m         self.sock = ssl_wrap_socket(\n\u001b[0m\u001b[1;32m    412\u001b[0m             \u001b[0msock\u001b[0m\u001b[0;34m=\u001b[0m\u001b[0mconn\u001b[0m\u001b[0;34m,\u001b[0m\u001b[0;34m\u001b[0m\u001b[0;34m\u001b[0m\u001b[0m\n\u001b[1;32m    413\u001b[0m             \u001b[0mkeyfile\u001b[0m\u001b[0;34m=\u001b[0m\u001b[0mself\u001b[0m\u001b[0;34m.\u001b[0m\u001b[0mkey_file\u001b[0m\u001b[0;34m,\u001b[0m\u001b[0;34m\u001b[0m\u001b[0;34m\u001b[0m\u001b[0m\n",
      "\u001b[0;32m/Library/Frameworks/Python.framework/Versions/3.8/lib/python3.8/site-packages/urllib3/util/ssl_.py\u001b[0m in \u001b[0;36mssl_wrap_socket\u001b[0;34m(sock, keyfile, certfile, cert_reqs, ca_certs, server_hostname, ssl_version, ciphers, ssl_context, ca_cert_dir, key_password, ca_cert_data, tls_in_tls)\u001b[0m\n\u001b[1;32m    426\u001b[0m \u001b[0;34m\u001b[0m\u001b[0m\n\u001b[1;32m    427\u001b[0m     \u001b[0;32mif\u001b[0m \u001b[0msend_sni\u001b[0m\u001b[0;34m:\u001b[0m\u001b[0;34m\u001b[0m\u001b[0;34m\u001b[0m\u001b[0m\n\u001b[0;32m--> 428\u001b[0;31m         ssl_sock = _ssl_wrap_socket_impl(\n\u001b[0m\u001b[1;32m    429\u001b[0m             \u001b[0msock\u001b[0m\u001b[0;34m,\u001b[0m \u001b[0mcontext\u001b[0m\u001b[0;34m,\u001b[0m \u001b[0mtls_in_tls\u001b[0m\u001b[0;34m,\u001b[0m \u001b[0mserver_hostname\u001b[0m\u001b[0;34m=\u001b[0m\u001b[0mserver_hostname\u001b[0m\u001b[0;34m\u001b[0m\u001b[0;34m\u001b[0m\u001b[0m\n\u001b[1;32m    430\u001b[0m         )\n",
      "\u001b[0;32m/Library/Frameworks/Python.framework/Versions/3.8/lib/python3.8/site-packages/urllib3/util/ssl_.py\u001b[0m in \u001b[0;36m_ssl_wrap_socket_impl\u001b[0;34m(sock, ssl_context, tls_in_tls, server_hostname)\u001b[0m\n\u001b[1;32m    470\u001b[0m \u001b[0;34m\u001b[0m\u001b[0m\n\u001b[1;32m    471\u001b[0m     \u001b[0;32mif\u001b[0m \u001b[0mserver_hostname\u001b[0m\u001b[0;34m:\u001b[0m\u001b[0;34m\u001b[0m\u001b[0;34m\u001b[0m\u001b[0m\n\u001b[0;32m--> 472\u001b[0;31m         \u001b[0;32mreturn\u001b[0m \u001b[0mssl_context\u001b[0m\u001b[0;34m.\u001b[0m\u001b[0mwrap_socket\u001b[0m\u001b[0;34m(\u001b[0m\u001b[0msock\u001b[0m\u001b[0;34m,\u001b[0m \u001b[0mserver_hostname\u001b[0m\u001b[0;34m=\u001b[0m\u001b[0mserver_hostname\u001b[0m\u001b[0;34m)\u001b[0m\u001b[0;34m\u001b[0m\u001b[0;34m\u001b[0m\u001b[0m\n\u001b[0m\u001b[1;32m    473\u001b[0m     \u001b[0;32melse\u001b[0m\u001b[0;34m:\u001b[0m\u001b[0;34m\u001b[0m\u001b[0;34m\u001b[0m\u001b[0m\n\u001b[1;32m    474\u001b[0m         \u001b[0;32mreturn\u001b[0m \u001b[0mssl_context\u001b[0m\u001b[0;34m.\u001b[0m\u001b[0mwrap_socket\u001b[0m\u001b[0;34m(\u001b[0m\u001b[0msock\u001b[0m\u001b[0;34m)\u001b[0m\u001b[0;34m\u001b[0m\u001b[0;34m\u001b[0m\u001b[0m\n",
      "\u001b[0;32m/Library/Frameworks/Python.framework/Versions/3.8/lib/python3.8/ssl.py\u001b[0m in \u001b[0;36mwrap_socket\u001b[0;34m(self, sock, server_side, do_handshake_on_connect, suppress_ragged_eofs, server_hostname, session)\u001b[0m\n\u001b[1;32m    498\u001b[0m         \u001b[0;31m# SSLSocket class handles server_hostname encoding before it calls\u001b[0m\u001b[0;34m\u001b[0m\u001b[0;34m\u001b[0m\u001b[0;34m\u001b[0m\u001b[0m\n\u001b[1;32m    499\u001b[0m         \u001b[0;31m# ctx._wrap_socket()\u001b[0m\u001b[0;34m\u001b[0m\u001b[0;34m\u001b[0m\u001b[0;34m\u001b[0m\u001b[0m\n\u001b[0;32m--> 500\u001b[0;31m         return self.sslsocket_class._create(\n\u001b[0m\u001b[1;32m    501\u001b[0m             \u001b[0msock\u001b[0m\u001b[0;34m=\u001b[0m\u001b[0msock\u001b[0m\u001b[0;34m,\u001b[0m\u001b[0;34m\u001b[0m\u001b[0;34m\u001b[0m\u001b[0m\n\u001b[1;32m    502\u001b[0m             \u001b[0mserver_side\u001b[0m\u001b[0;34m=\u001b[0m\u001b[0mserver_side\u001b[0m\u001b[0;34m,\u001b[0m\u001b[0;34m\u001b[0m\u001b[0;34m\u001b[0m\u001b[0m\n",
      "\u001b[0;32m/Library/Frameworks/Python.framework/Versions/3.8/lib/python3.8/ssl.py\u001b[0m in \u001b[0;36m_create\u001b[0;34m(cls, sock, server_side, do_handshake_on_connect, suppress_ragged_eofs, server_hostname, context, session)\u001b[0m\n\u001b[1;32m   1038\u001b[0m                         \u001b[0;31m# non-blocking\u001b[0m\u001b[0;34m\u001b[0m\u001b[0;34m\u001b[0m\u001b[0;34m\u001b[0m\u001b[0m\n\u001b[1;32m   1039\u001b[0m                         \u001b[0;32mraise\u001b[0m \u001b[0mValueError\u001b[0m\u001b[0;34m(\u001b[0m\u001b[0;34m\"do_handshake_on_connect should not be specified for non-blocking sockets\"\u001b[0m\u001b[0;34m)\u001b[0m\u001b[0;34m\u001b[0m\u001b[0;34m\u001b[0m\u001b[0m\n\u001b[0;32m-> 1040\u001b[0;31m                     \u001b[0mself\u001b[0m\u001b[0;34m.\u001b[0m\u001b[0mdo_handshake\u001b[0m\u001b[0;34m(\u001b[0m\u001b[0;34m)\u001b[0m\u001b[0;34m\u001b[0m\u001b[0;34m\u001b[0m\u001b[0m\n\u001b[0m\u001b[1;32m   1041\u001b[0m             \u001b[0;32mexcept\u001b[0m \u001b[0;34m(\u001b[0m\u001b[0mOSError\u001b[0m\u001b[0;34m,\u001b[0m \u001b[0mValueError\u001b[0m\u001b[0;34m)\u001b[0m\u001b[0;34m:\u001b[0m\u001b[0;34m\u001b[0m\u001b[0;34m\u001b[0m\u001b[0m\n\u001b[1;32m   1042\u001b[0m                 \u001b[0mself\u001b[0m\u001b[0;34m.\u001b[0m\u001b[0mclose\u001b[0m\u001b[0;34m(\u001b[0m\u001b[0;34m)\u001b[0m\u001b[0;34m\u001b[0m\u001b[0;34m\u001b[0m\u001b[0m\n",
      "\u001b[0;32m/Library/Frameworks/Python.framework/Versions/3.8/lib/python3.8/ssl.py\u001b[0m in \u001b[0;36mdo_handshake\u001b[0;34m(self, block)\u001b[0m\n\u001b[1;32m   1307\u001b[0m             \u001b[0;32mif\u001b[0m \u001b[0mtimeout\u001b[0m \u001b[0;34m==\u001b[0m \u001b[0;36m0.0\u001b[0m \u001b[0;32mand\u001b[0m \u001b[0mblock\u001b[0m\u001b[0;34m:\u001b[0m\u001b[0;34m\u001b[0m\u001b[0;34m\u001b[0m\u001b[0m\n\u001b[1;32m   1308\u001b[0m                 \u001b[0mself\u001b[0m\u001b[0;34m.\u001b[0m\u001b[0msettimeout\u001b[0m\u001b[0;34m(\u001b[0m\u001b[0;32mNone\u001b[0m\u001b[0;34m)\u001b[0m\u001b[0;34m\u001b[0m\u001b[0;34m\u001b[0m\u001b[0m\n\u001b[0;32m-> 1309\u001b[0;31m             \u001b[0mself\u001b[0m\u001b[0;34m.\u001b[0m\u001b[0m_sslobj\u001b[0m\u001b[0;34m.\u001b[0m\u001b[0mdo_handshake\u001b[0m\u001b[0;34m(\u001b[0m\u001b[0;34m)\u001b[0m\u001b[0;34m\u001b[0m\u001b[0;34m\u001b[0m\u001b[0m\n\u001b[0m\u001b[1;32m   1310\u001b[0m         \u001b[0;32mfinally\u001b[0m\u001b[0;34m:\u001b[0m\u001b[0;34m\u001b[0m\u001b[0;34m\u001b[0m\u001b[0m\n\u001b[1;32m   1311\u001b[0m             \u001b[0mself\u001b[0m\u001b[0;34m.\u001b[0m\u001b[0msettimeout\u001b[0m\u001b[0;34m(\u001b[0m\u001b[0mtimeout\u001b[0m\u001b[0;34m)\u001b[0m\u001b[0;34m\u001b[0m\u001b[0;34m\u001b[0m\u001b[0m\n",
      "\u001b[0;31mKeyboardInterrupt\u001b[0m: "
     ]
    }
   ],
   "source": [
    "cols = ['Twitter Handle']\n",
    "cols += [f'Result {i+1}' for i in range(7)]\n",
    "for col in cols:\n",
    "    fn[col] = get_ids(fn[col])"
   ]
  },
  {
   "cell_type": "code",
   "execution_count": 50,
   "id": "endless-reform",
   "metadata": {},
   "outputs": [
    {
     "name": "stdout",
     "output_type": "stream",
     "text": [
      "Progress: 299/300\r"
     ]
    }
   ],
   "source": [
    "clf = classification.Classifier(model_name='classifier_parl_nd', twitter_credentials=twitter_credentials, verbose=0)\n",
    "results = pd.DataFrame()\n",
    "counter = 1\n",
    "for i in fn.index: \n",
    "    try:\n",
    "        print(f'Progress: {i}/300', end='\\r')\n",
    "        nodes = list(fn[[f'Result {i+1}' for i in range(7)]].iloc[i].unique())\n",
    "        nodes = [i for i in nodes if i != 0]\n",
    "        if nodes:\n",
    "            labels = clf.predict(nodes)\n",
    "            filtr = pd.DataFrame([nodes, labels]).T\n",
    "            filtr = filtr[filtr[1] == 1]\n",
    "            if not filtr.empty:\n",
    "                results = results.append(filtr[filtr[1] == 1][0])\n",
    "            else:\n",
    "                results = results.append([0])\n",
    "        else:\n",
    "            results = results.append([0])\n",
    "            \n",
    "    except Exception as err:\n",
    "        print(f'Progress: {i}/300', end='\\r')\n",
    "        nodes = list(fn[[f'Result {i+1}' for i in range(7)]].iloc[i].unique())\n",
    "        nodes = [i for i in nodes if i != 0]\n",
    "        if nodes:\n",
    "            labels = clf.predict(nodes)\n",
    "            filtr = pd.DataFrame([nodes, labels]).T\n",
    "            filtr = filtr[filtr[1] == 1]\n",
    "            if not filtr.empty:\n",
    "                results = results.append(filtr[filtr[1] == 1][0])\n",
    "            else:\n",
    "                results = results.append([0])\n",
    "        else:\n",
    "            results = results.append([0])"
   ]
  },
  {
   "cell_type": "code",
   "execution_count": 51,
   "id": "rolled-reproduction",
   "metadata": {},
   "outputs": [],
   "source": [
    "results = results.replace(np.nan, 0)\n",
    "results = results.astype(int)\n",
    "results = results.reset_index().drop('index', axis = 1)"
   ]
  },
  {
   "cell_type": "code",
   "execution_count": 53,
   "id": "nasty-bahrain",
   "metadata": {},
   "outputs": [],
   "source": [
    "for i in range(4):\n",
    "    fn[f'Result {i+1}'] = results[i]"
   ]
  },
  {
   "cell_type": "code",
   "execution_count": 56,
   "id": "broadband-laser",
   "metadata": {},
   "outputs": [],
   "source": [
    "fn.to_csv('Google-Search-Surnames-ClassifierND-Parliament-Members.csv', index=False)"
   ]
  },
  {
   "cell_type": "markdown",
   "id": "dress-spoke",
   "metadata": {},
   "source": [
    "# Fullnames Greeklish"
   ]
  },
  {
   "cell_type": "code",
   "execution_count": 57,
   "id": "olympic-planner",
   "metadata": {},
   "outputs": [
    {
     "data": {
      "text/html": [
       "<div>\n",
       "<style scoped>\n",
       "    .dataframe tbody tr th:only-of-type {\n",
       "        vertical-align: middle;\n",
       "    }\n",
       "\n",
       "    .dataframe tbody tr th {\n",
       "        vertical-align: top;\n",
       "    }\n",
       "\n",
       "    .dataframe thead th {\n",
       "        text-align: right;\n",
       "    }\n",
       "</style>\n",
       "<table border=\"1\" class=\"dataframe\">\n",
       "  <thead>\n",
       "    <tr style=\"text-align: right;\">\n",
       "      <th></th>\n",
       "      <th>Name (Long)</th>\n",
       "      <th>Surname</th>\n",
       "      <th>Name</th>\n",
       "      <th>Party</th>\n",
       "      <th>Twitter Handle</th>\n",
       "      <th>Result 1</th>\n",
       "      <th>Result 2</th>\n",
       "      <th>Result 3</th>\n",
       "      <th>Result 4</th>\n",
       "      <th>Result 5</th>\n",
       "      <th>Result 6</th>\n",
       "      <th>Result 7</th>\n",
       "      <th>Result 8</th>\n",
       "    </tr>\n",
       "  </thead>\n",
       "  <tbody>\n",
       "    <tr>\n",
       "      <th>0</th>\n",
       "      <td>Βιλιάρδος Διονυσίου Βασίλειος</td>\n",
       "      <td>Βιλιάρδος</td>\n",
       "      <td>Βιλιάρδος Βασίλειος</td>\n",
       "      <td>ΕΛΛΗΝΙΚΗ ΛΥΣΗ</td>\n",
       "      <td>ViliardosV</td>\n",
       "      <td>@ViliardosV</td>\n",
       "      <td>@ViliardosV</td>\n",
       "      <td></td>\n",
       "      <td></td>\n",
       "      <td></td>\n",
       "      <td></td>\n",
       "      <td></td>\n",
       "      <td></td>\n",
       "    </tr>\n",
       "    <tr>\n",
       "      <th>1</th>\n",
       "      <td>Αλεξοπούλου Κωνσταντίνου Αναστασία - Αικατερίνη</td>\n",
       "      <td>Αλεξοπούλου</td>\n",
       "      <td>Αλεξοπούλου Αικατερίνη</td>\n",
       "      <td>ΕΛΛΗΝΙΚΗ ΛΥΣΗ</td>\n",
       "      <td>anaik2020</td>\n",
       "      <td>@anaik2020</td>\n",
       "      <td>@kkroonenberg</td>\n",
       "      <td>@djnikas</td>\n",
       "      <td></td>\n",
       "      <td></td>\n",
       "      <td></td>\n",
       "      <td></td>\n",
       "      <td></td>\n",
       "    </tr>\n",
       "    <tr>\n",
       "      <th>2</th>\n",
       "      <td>Αθανασίου Ευαγγέλου Μαρία</td>\n",
       "      <td>Αθανασίου</td>\n",
       "      <td>Αθανασίου Μαρία</td>\n",
       "      <td>ΕΛΛΗΝΙΚΗ ΛΥΣΗ</td>\n",
       "      <td>MariaAt03902914</td>\n",
       "      <td>@mariaathanasiou</td>\n",
       "      <td>@athanasiou_marios</td>\n",
       "      <td>@45b1584e2f7d481</td>\n",
       "      <td>@athinadi</td>\n",
       "      <td>@hotelthesantamaria</td>\n",
       "      <td></td>\n",
       "      <td></td>\n",
       "      <td></td>\n",
       "    </tr>\n",
       "    <tr>\n",
       "      <th>3</th>\n",
       "      <td>Βαγενάς Κωνσταντίνου Δημήτριος</td>\n",
       "      <td>Βαγενάς</td>\n",
       "      <td>Βαγενάς Δημήτριος</td>\n",
       "      <td>ΕΛΛΗΝΙΚΗ ΛΥΣΗ</td>\n",
       "      <td>B3Vagenas</td>\n",
       "      <td>@DimitriosVagen1</td>\n",
       "      <td></td>\n",
       "      <td></td>\n",
       "      <td></td>\n",
       "      <td></td>\n",
       "      <td></td>\n",
       "      <td></td>\n",
       "      <td></td>\n",
       "    </tr>\n",
       "    <tr>\n",
       "      <th>4</th>\n",
       "      <td>Ασημακοπούλου Δημητρίου Σοφία - Χάιδω</td>\n",
       "      <td>Ασημακοπούλου</td>\n",
       "      <td>Ασημακοπούλου Χάιδω</td>\n",
       "      <td>ΕΛΛΗΝΙΚΗ ΛΥΣΗ</td>\n",
       "      <td>SofAsimak</td>\n",
       "      <td>@eri__valentina</td>\n",
       "      <td>@village_gr</td>\n",
       "      <td></td>\n",
       "      <td></td>\n",
       "      <td></td>\n",
       "      <td></td>\n",
       "      <td></td>\n",
       "      <td></td>\n",
       "    </tr>\n",
       "  </tbody>\n",
       "</table>\n",
       "</div>"
      ],
      "text/plain": [
       "                                       Name (Long)        Surname  \\\n",
       "0                    Βιλιάρδος Διονυσίου Βασίλειος      Βιλιάρδος   \n",
       "1  Αλεξοπούλου Κωνσταντίνου Αναστασία - Αικατερίνη    Αλεξοπούλου   \n",
       "2                        Αθανασίου Ευαγγέλου Μαρία      Αθανασίου   \n",
       "3                   Βαγενάς Κωνσταντίνου Δημήτριος        Βαγενάς   \n",
       "4            Ασημακοπούλου Δημητρίου Σοφία - Χάιδω  Ασημακοπούλου   \n",
       "\n",
       "                     Name          Party   Twitter Handle          Result 1  \\\n",
       "0     Βιλιάρδος Βασίλειος  ΕΛΛΗΝΙΚΗ ΛΥΣΗ       ViliardosV       @ViliardosV   \n",
       "1  Αλεξοπούλου Αικατερίνη  ΕΛΛΗΝΙΚΗ ΛΥΣΗ        anaik2020        @anaik2020   \n",
       "2         Αθανασίου Μαρία  ΕΛΛΗΝΙΚΗ ΛΥΣΗ  MariaAt03902914  @mariaathanasiou   \n",
       "3       Βαγενάς Δημήτριος  ΕΛΛΗΝΙΚΗ ΛΥΣΗ        B3Vagenas  @DimitriosVagen1   \n",
       "4     Ασημακοπούλου Χάιδω  ΕΛΛΗΝΙΚΗ ΛΥΣΗ        SofAsimak   @eri__valentina   \n",
       "\n",
       "             Result 2          Result 3   Result 4             Result 5  \\\n",
       "0         @ViliardosV                                                     \n",
       "1       @kkroonenberg          @djnikas                                   \n",
       "2  @athanasiou_marios  @45b1584e2f7d481  @athinadi  @hotelthesantamaria   \n",
       "3                                                                         \n",
       "4         @village_gr                                                     \n",
       "\n",
       "  Result 6 Result 7 Result 8  \n",
       "0                             \n",
       "1                             \n",
       "2                             \n",
       "3                             \n",
       "4                             "
      ]
     },
     "execution_count": 57,
     "metadata": {},
     "output_type": "execute_result"
    }
   ],
   "source": [
    "fn = pd.read_csv('Google-Search-FullnamesLatin-Parliament-Members.csv')\n",
    "fn = fn.replace(np.nan, '')\n",
    "fn.head()"
   ]
  },
  {
   "cell_type": "code",
   "execution_count": 59,
   "id": "valid-iraqi",
   "metadata": {},
   "outputs": [],
   "source": [
    "def get_ids(df):\n",
    "    true_id = []\n",
    "    for acc in tqdm(df, leave=False):\n",
    "        if acc != '':\n",
    "            try:\n",
    "                user = API.get_user(acc)\n",
    "                true_id.append(user.id)\n",
    "            except tweepy.TweepError as err:\n",
    "                true_id.append(0)\n",
    "        else:\n",
    "            true_id.append(0)\n",
    "    return true_id"
   ]
  },
  {
   "cell_type": "code",
   "execution_count": 60,
   "id": "portable-video",
   "metadata": {},
   "outputs": [
    {
     "data": {
      "application/vnd.jupyter.widget-view+json": {
       "model_id": "",
       "version_major": 2,
       "version_minor": 0
      },
      "text/plain": [
       "  0%|          | 0/300 [00:00<?, ?it/s]"
      ]
     },
     "metadata": {},
     "output_type": "display_data"
    },
    {
     "data": {
      "application/vnd.jupyter.widget-view+json": {
       "model_id": "",
       "version_major": 2,
       "version_minor": 0
      },
      "text/plain": [
       "  0%|          | 0/300 [00:00<?, ?it/s]"
      ]
     },
     "metadata": {},
     "output_type": "display_data"
    },
    {
     "data": {
      "application/vnd.jupyter.widget-view+json": {
       "model_id": "",
       "version_major": 2,
       "version_minor": 0
      },
      "text/plain": [
       "  0%|          | 0/300 [00:00<?, ?it/s]"
      ]
     },
     "metadata": {},
     "output_type": "display_data"
    },
    {
     "data": {
      "application/vnd.jupyter.widget-view+json": {
       "model_id": "",
       "version_major": 2,
       "version_minor": 0
      },
      "text/plain": [
       "  0%|          | 0/300 [00:00<?, ?it/s]"
      ]
     },
     "metadata": {},
     "output_type": "display_data"
    },
    {
     "data": {
      "application/vnd.jupyter.widget-view+json": {
       "model_id": "",
       "version_major": 2,
       "version_minor": 0
      },
      "text/plain": [
       "  0%|          | 0/300 [00:00<?, ?it/s]"
      ]
     },
     "metadata": {},
     "output_type": "display_data"
    },
    {
     "data": {
      "application/vnd.jupyter.widget-view+json": {
       "model_id": "",
       "version_major": 2,
       "version_minor": 0
      },
      "text/plain": [
       "  0%|          | 0/300 [00:00<?, ?it/s]"
      ]
     },
     "metadata": {},
     "output_type": "display_data"
    },
    {
     "data": {
      "application/vnd.jupyter.widget-view+json": {
       "model_id": "",
       "version_major": 2,
       "version_minor": 0
      },
      "text/plain": [
       "  0%|          | 0/300 [00:00<?, ?it/s]"
      ]
     },
     "metadata": {},
     "output_type": "display_data"
    },
    {
     "data": {
      "application/vnd.jupyter.widget-view+json": {
       "model_id": "",
       "version_major": 2,
       "version_minor": 0
      },
      "text/plain": [
       "  0%|          | 0/300 [00:00<?, ?it/s]"
      ]
     },
     "metadata": {},
     "output_type": "display_data"
    }
   ],
   "source": [
    "cols = ['Twitter Handle']\n",
    "cols += [f'Result {i+1}' for i in range(7)]\n",
    "for col in cols:\n",
    "    fn[col] = get_ids(fn[col])"
   ]
  },
  {
   "cell_type": "code",
   "execution_count": 61,
   "id": "figured-prototype",
   "metadata": {},
   "outputs": [
    {
     "name": "stdout",
     "output_type": "stream",
     "text": [
      "Progress: 299/300\r"
     ]
    }
   ],
   "source": [
    "clf = classification.Classifier(model_name='classifier_parl_nd', twitter_credentials=twitter_credentials, verbose=0)\n",
    "results = pd.DataFrame()\n",
    "counter = 1\n",
    "for i in fn.index: \n",
    "    try:\n",
    "        print(f'Progress: {i}/300', end='\\r')\n",
    "        nodes = list(fn[[f'Result {i+1}' for i in range(7)]].iloc[i].unique())\n",
    "        nodes = [i for i in nodes if i != 0]\n",
    "        if nodes:\n",
    "            labels = clf.predict(nodes)\n",
    "            filtr = pd.DataFrame([nodes, labels]).T\n",
    "            filtr = filtr[filtr[1] == 1]\n",
    "            if not filtr.empty:\n",
    "                results = results.append(filtr[filtr[1] == 1][0])\n",
    "            else:\n",
    "                results = results.append([0])\n",
    "        else:\n",
    "            results = results.append([0])\n",
    "            \n",
    "    except Exception as err:\n",
    "        print(f'Progress: {i}/300', end='\\r')\n",
    "        nodes = list(fn[[f'Result {i+1}' for i in range(7)]].iloc[i].unique())\n",
    "        nodes = [i for i in nodes if i != 0]\n",
    "        if nodes:\n",
    "            labels = clf.predict(nodes)\n",
    "            filtr = pd.DataFrame([nodes, labels]).T\n",
    "            filtr = filtr[filtr[1] == 1]\n",
    "            if not filtr.empty:\n",
    "                results = results.append(filtr[filtr[1] == 1][0])\n",
    "            else:\n",
    "                results = results.append([0])\n",
    "        else:\n",
    "            results = results.append([0])"
   ]
  },
  {
   "cell_type": "code",
   "execution_count": 62,
   "id": "political-distributor",
   "metadata": {},
   "outputs": [],
   "source": [
    "results = results.replace(np.nan, 0)\n",
    "results = results.astype(int)\n",
    "results = results.reset_index().drop('index', axis = 1)"
   ]
  },
  {
   "cell_type": "code",
   "execution_count": 63,
   "id": "growing-solid",
   "metadata": {},
   "outputs": [
    {
     "data": {
      "text/html": [
       "<div>\n",
       "<style scoped>\n",
       "    .dataframe tbody tr th:only-of-type {\n",
       "        vertical-align: middle;\n",
       "    }\n",
       "\n",
       "    .dataframe tbody tr th {\n",
       "        vertical-align: top;\n",
       "    }\n",
       "\n",
       "    .dataframe thead th {\n",
       "        text-align: right;\n",
       "    }\n",
       "</style>\n",
       "<table border=\"1\" class=\"dataframe\">\n",
       "  <thead>\n",
       "    <tr style=\"text-align: right;\">\n",
       "      <th></th>\n",
       "      <th>0</th>\n",
       "      <th>2</th>\n",
       "      <th>1</th>\n",
       "      <th>3</th>\n",
       "    </tr>\n",
       "  </thead>\n",
       "  <tbody>\n",
       "    <tr>\n",
       "      <th>0</th>\n",
       "      <td>174226430</td>\n",
       "      <td>0</td>\n",
       "      <td>0</td>\n",
       "      <td>0</td>\n",
       "    </tr>\n",
       "    <tr>\n",
       "      <th>1</th>\n",
       "      <td>1168241295149740032</td>\n",
       "      <td>0</td>\n",
       "      <td>0</td>\n",
       "      <td>0</td>\n",
       "    </tr>\n",
       "    <tr>\n",
       "      <th>2</th>\n",
       "      <td>0</td>\n",
       "      <td>0</td>\n",
       "      <td>0</td>\n",
       "      <td>0</td>\n",
       "    </tr>\n",
       "    <tr>\n",
       "      <th>3</th>\n",
       "      <td>0</td>\n",
       "      <td>0</td>\n",
       "      <td>0</td>\n",
       "      <td>0</td>\n",
       "    </tr>\n",
       "    <tr>\n",
       "      <th>4</th>\n",
       "      <td>0</td>\n",
       "      <td>0</td>\n",
       "      <td>0</td>\n",
       "      <td>0</td>\n",
       "    </tr>\n",
       "    <tr>\n",
       "      <th>...</th>\n",
       "      <td>...</td>\n",
       "      <td>...</td>\n",
       "      <td>...</td>\n",
       "      <td>...</td>\n",
       "    </tr>\n",
       "    <tr>\n",
       "      <th>295</th>\n",
       "      <td>709702013865562112</td>\n",
       "      <td>0</td>\n",
       "      <td>0</td>\n",
       "      <td>0</td>\n",
       "    </tr>\n",
       "    <tr>\n",
       "      <th>296</th>\n",
       "      <td>1059819442572611584</td>\n",
       "      <td>0</td>\n",
       "      <td>0</td>\n",
       "      <td>0</td>\n",
       "    </tr>\n",
       "    <tr>\n",
       "      <th>297</th>\n",
       "      <td>1150482424134086656</td>\n",
       "      <td>0</td>\n",
       "      <td>0</td>\n",
       "      <td>0</td>\n",
       "    </tr>\n",
       "    <tr>\n",
       "      <th>298</th>\n",
       "      <td>0</td>\n",
       "      <td>0</td>\n",
       "      <td>0</td>\n",
       "      <td>0</td>\n",
       "    </tr>\n",
       "    <tr>\n",
       "      <th>299</th>\n",
       "      <td>0</td>\n",
       "      <td>0</td>\n",
       "      <td>0</td>\n",
       "      <td>0</td>\n",
       "    </tr>\n",
       "  </tbody>\n",
       "</table>\n",
       "<p>300 rows × 4 columns</p>\n",
       "</div>"
      ],
      "text/plain": [
       "                       0  2  1  3\n",
       "0              174226430  0  0  0\n",
       "1    1168241295149740032  0  0  0\n",
       "2                      0  0  0  0\n",
       "3                      0  0  0  0\n",
       "4                      0  0  0  0\n",
       "..                   ... .. .. ..\n",
       "295   709702013865562112  0  0  0\n",
       "296  1059819442572611584  0  0  0\n",
       "297  1150482424134086656  0  0  0\n",
       "298                    0  0  0  0\n",
       "299                    0  0  0  0\n",
       "\n",
       "[300 rows x 4 columns]"
      ]
     },
     "execution_count": 63,
     "metadata": {},
     "output_type": "execute_result"
    }
   ],
   "source": [
    "results"
   ]
  },
  {
   "cell_type": "code",
   "execution_count": 64,
   "id": "medium-conflict",
   "metadata": {},
   "outputs": [],
   "source": [
    "for i in range(4):\n",
    "    fn[f'Result {i+1}'] = results[i]"
   ]
  },
  {
   "cell_type": "code",
   "execution_count": 66,
   "id": "returning-projector",
   "metadata": {},
   "outputs": [],
   "source": [
    "fn.to_csv('Google-Search-FullnamesLatin-ClassifierND-Parliament-Members.csv', index=False)"
   ]
  },
  {
   "cell_type": "code",
   "execution_count": null,
   "id": "purple-falls",
   "metadata": {},
   "outputs": [],
   "source": []
  }
 ],
 "metadata": {
  "kernelspec": {
   "display_name": "Python 3",
   "language": "python",
   "name": "python3"
  },
  "language_info": {
   "codemirror_mode": {
    "name": "ipython",
    "version": 3
   },
   "file_extension": ".py",
   "mimetype": "text/x-python",
   "name": "python",
   "nbconvert_exporter": "python",
   "pygments_lexer": "ipython3",
   "version": "3.8.5"
  }
 },
 "nbformat": 4,
 "nbformat_minor": 5
}
