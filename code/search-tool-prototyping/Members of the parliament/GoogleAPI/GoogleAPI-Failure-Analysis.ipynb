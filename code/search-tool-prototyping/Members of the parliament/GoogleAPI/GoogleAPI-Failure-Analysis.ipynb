{
 "cells": [
  {
   "cell_type": "markdown",
   "id": "thirty-crime",
   "metadata": {},
   "source": [
    "## Search Tool Members of the Parliament: GoogleAPI Failure Analysis"
   ]
  },
  {
   "cell_type": "code",
   "execution_count": 1,
   "id": "hearing-sunrise",
   "metadata": {},
   "outputs": [],
   "source": [
    "import pandas as pd\n",
    "import numpy as np\n",
    "import matplotlib.pyplot as plt\n",
    "import seaborn as sns\n",
    "import json\n",
    "import tweepy\n",
    "from tqdm.notebook import tqdm"
   ]
  },
  {
   "cell_type": "code",
   "execution_count": 2,
   "id": "married-michigan",
   "metadata": {},
   "outputs": [],
   "source": [
    "twitter_credentials = []\n",
    "with open('../../../../twitter_credentials.json', 'r') as f:\n",
    "    twitter_credentials = json.load(f)        \n",
    "\n",
    "# TwitterAPI Authentication\n",
    "auth = tweepy.OAuthHandler(twitter_credentials['consumer_key'],\n",
    "                                   twitter_credentials['consumer_secret'])\n",
    "auth.set_access_token(twitter_credentials['access_token_key'],\n",
    "                              twitter_credentials['access_token_secret'])\n",
    "API = tweepy.API(auth, wait_on_rate_limit=True, wait_on_rate_limit_notify=True, timeout=60*5)"
   ]
  },
  {
   "cell_type": "markdown",
   "id": "parallel-armstrong",
   "metadata": {},
   "source": [
    "# Fullnames"
   ]
  },
  {
   "cell_type": "code",
   "execution_count": 3,
   "id": "other-continuity",
   "metadata": {},
   "outputs": [
    {
     "data": {
      "text/html": [
       "<div>\n",
       "<style scoped>\n",
       "    .dataframe tbody tr th:only-of-type {\n",
       "        vertical-align: middle;\n",
       "    }\n",
       "\n",
       "    .dataframe tbody tr th {\n",
       "        vertical-align: top;\n",
       "    }\n",
       "\n",
       "    .dataframe thead th {\n",
       "        text-align: right;\n",
       "    }\n",
       "</style>\n",
       "<table border=\"1\" class=\"dataframe\">\n",
       "  <thead>\n",
       "    <tr style=\"text-align: right;\">\n",
       "      <th></th>\n",
       "      <th>Name (Long)</th>\n",
       "      <th>Surname</th>\n",
       "      <th>Name</th>\n",
       "      <th>Party</th>\n",
       "      <th>Twitter Handle</th>\n",
       "      <th>Result 1</th>\n",
       "      <th>Result 2</th>\n",
       "      <th>Result 3</th>\n",
       "      <th>Result 4</th>\n",
       "      <th>Result 5</th>\n",
       "      <th>Result 6</th>\n",
       "      <th>Result 7</th>\n",
       "    </tr>\n",
       "  </thead>\n",
       "  <tbody>\n",
       "    <tr>\n",
       "      <th>0</th>\n",
       "      <td>Βιλιάρδος Διονυσίου Βασίλειος</td>\n",
       "      <td>Βιλιάρδος</td>\n",
       "      <td>Βιλιάρδος Βασίλειος</td>\n",
       "      <td>ΕΛΛΗΝΙΚΗ ΛΥΣΗ</td>\n",
       "      <td>ViliardosV</td>\n",
       "      <td>@ViliardosV</td>\n",
       "      <td>@ViliardosV</td>\n",
       "      <td></td>\n",
       "      <td></td>\n",
       "      <td></td>\n",
       "      <td></td>\n",
       "      <td></td>\n",
       "    </tr>\n",
       "    <tr>\n",
       "      <th>1</th>\n",
       "      <td>Αλεξοπούλου Κωνσταντίνου Αναστασία - Αικατερίνη</td>\n",
       "      <td>Αλεξοπούλου</td>\n",
       "      <td>Αλεξοπούλου Αικατερίνη</td>\n",
       "      <td>ΕΛΛΗΝΙΚΗ ΛΥΣΗ</td>\n",
       "      <td>anaik2020</td>\n",
       "      <td>@anaik2020</td>\n",
       "      <td>@kaityAlex</td>\n",
       "      <td>@ΖΩΗΣ</td>\n",
       "      <td></td>\n",
       "      <td></td>\n",
       "      <td></td>\n",
       "      <td></td>\n",
       "    </tr>\n",
       "    <tr>\n",
       "      <th>2</th>\n",
       "      <td>Αθανασίου Ευαγγέλου Μαρία</td>\n",
       "      <td>Αθανασίου</td>\n",
       "      <td>Αθανασίου Μαρία</td>\n",
       "      <td>ΕΛΛΗΝΙΚΗ ΛΥΣΗ</td>\n",
       "      <td>MariaAt03902914</td>\n",
       "      <td>@MariaAt03902914</td>\n",
       "      <td>@desp1navandi</td>\n",
       "      <td>@MariaAt03902914</td>\n",
       "      <td>@Kathimerini_gr</td>\n",
       "      <td></td>\n",
       "      <td></td>\n",
       "      <td></td>\n",
       "    </tr>\n",
       "    <tr>\n",
       "      <th>3</th>\n",
       "      <td>Βαγενάς Κωνσταντίνου Δημήτριος</td>\n",
       "      <td>Βαγενάς</td>\n",
       "      <td>Βαγενάς Δημήτριος</td>\n",
       "      <td>ΕΛΛΗΝΙΚΗ ΛΥΣΗ</td>\n",
       "      <td>B3Vagenas</td>\n",
       "      <td>@B3Vagenas</td>\n",
       "      <td></td>\n",
       "      <td></td>\n",
       "      <td></td>\n",
       "      <td></td>\n",
       "      <td></td>\n",
       "      <td></td>\n",
       "    </tr>\n",
       "    <tr>\n",
       "      <th>4</th>\n",
       "      <td>Ασημακοπούλου Δημητρίου Σοφία - Χάιδω</td>\n",
       "      <td>Ασημακοπούλου</td>\n",
       "      <td>Ασημακοπούλου Χάιδω</td>\n",
       "      <td>ΕΛΛΗΝΙΚΗ ΛΥΣΗ</td>\n",
       "      <td>SofAsimak</td>\n",
       "      <td></td>\n",
       "      <td></td>\n",
       "      <td></td>\n",
       "      <td></td>\n",
       "      <td></td>\n",
       "      <td></td>\n",
       "      <td></td>\n",
       "    </tr>\n",
       "  </tbody>\n",
       "</table>\n",
       "</div>"
      ],
      "text/plain": [
       "                                       Name (Long)        Surname  \\\n",
       "0                    Βιλιάρδος Διονυσίου Βασίλειος      Βιλιάρδος   \n",
       "1  Αλεξοπούλου Κωνσταντίνου Αναστασία - Αικατερίνη    Αλεξοπούλου   \n",
       "2                        Αθανασίου Ευαγγέλου Μαρία      Αθανασίου   \n",
       "3                   Βαγενάς Κωνσταντίνου Δημήτριος        Βαγενάς   \n",
       "4            Ασημακοπούλου Δημητρίου Σοφία - Χάιδω  Ασημακοπούλου   \n",
       "\n",
       "                     Name          Party   Twitter Handle          Result 1  \\\n",
       "0     Βιλιάρδος Βασίλειος  ΕΛΛΗΝΙΚΗ ΛΥΣΗ       ViliardosV       @ViliardosV   \n",
       "1  Αλεξοπούλου Αικατερίνη  ΕΛΛΗΝΙΚΗ ΛΥΣΗ        anaik2020        @anaik2020   \n",
       "2         Αθανασίου Μαρία  ΕΛΛΗΝΙΚΗ ΛΥΣΗ  MariaAt03902914  @MariaAt03902914   \n",
       "3       Βαγενάς Δημήτριος  ΕΛΛΗΝΙΚΗ ΛΥΣΗ        B3Vagenas        @B3Vagenas   \n",
       "4     Ασημακοπούλου Χάιδω  ΕΛΛΗΝΙΚΗ ΛΥΣΗ        SofAsimak                     \n",
       "\n",
       "        Result 2          Result 3         Result 4 Result 5 Result 6 Result 7  \n",
       "0    @ViliardosV                                                                \n",
       "1     @kaityAlex             @ΖΩΗΣ                                              \n",
       "2  @desp1navandi  @MariaAt03902914  @Kathimerini_gr                             \n",
       "3                                                                               \n",
       "4                                                                               "
      ]
     },
     "execution_count": 3,
     "metadata": {},
     "output_type": "execute_result"
    }
   ],
   "source": [
    "fn = pd.read_csv('Google-Search-Fullnames-Parliament-Members.csv')\n",
    "fn = fn.replace(np.nan, '')\n",
    "fn.head()"
   ]
  },
  {
   "cell_type": "code",
   "execution_count": 4,
   "id": "educational-universal",
   "metadata": {},
   "outputs": [],
   "source": [
    "def get_ids(df):\n",
    "    true_id = []\n",
    "    for acc in tqdm(df):\n",
    "        if acc != '':\n",
    "            try:\n",
    "                user = API.get_user(acc)\n",
    "                true_id.append(user.id)\n",
    "            except:\n",
    "                print(acc)\n",
    "                true_id.append(0)\n",
    "        else:\n",
    "            true_id.append(0)\n",
    "    return true_id"
   ]
  },
  {
   "cell_type": "code",
   "execution_count": 5,
   "id": "amateur-morrison",
   "metadata": {},
   "outputs": [
    {
     "data": {
      "application/vnd.jupyter.widget-view+json": {
       "model_id": "1b024fa367554204927cec58701f6a3d",
       "version_major": 2,
       "version_minor": 0
      },
      "text/plain": [
       "  0%|          | 0/300 [00:00<?, ?it/s]"
      ]
     },
     "metadata": {},
     "output_type": "display_data"
    },
    {
     "name": "stdout",
     "output_type": "stream",
     "text": [
      "xtarantilis\n",
      "katsafados\n",
      "stergiannakis\n"
     ]
    },
    {
     "data": {
      "application/vnd.jupyter.widget-view+json": {
       "model_id": "fab1fe8154364d0eb99a80f17fb59f5d",
       "version_major": 2,
       "version_minor": 0
      },
      "text/plain": [
       "  0%|          | 0/300 [00:00<?, ?it/s]"
      ]
     },
     "metadata": {},
     "output_type": "display_data"
    },
    {
     "name": "stdout",
     "output_type": "stream",
     "text": [
      "@λ\n",
      "@vanessaadamopoulou\n",
      "@kwn\n",
      "@mariaapatzidi\n",
      "@xtarantilis\n",
      "@vasilis_tsintzos\n",
      "@patsisandreas\n",
      "@stavros_keletsis\n",
      "@atzitzikostas\n",
      "@rapti_elena_official\n",
      "@philip_fortomas\n",
      "@stellabiziou\n",
      "@vasilis_vasilikos\n",
      "@nikos_voutsis\n",
      "@ninakasimati_\n",
      "@emiliosmarku\n",
      "@miltoschatzigiannakis\n",
      "@spiros_papadopoulos_official\n"
     ]
    },
    {
     "data": {
      "application/vnd.jupyter.widget-view+json": {
       "model_id": "5319300cf1bb4f02bfac7484951bdfac",
       "version_major": 2,
       "version_minor": 0
      },
      "text/plain": [
       "  0%|          | 0/300 [00:00<?, ?it/s]"
      ]
     },
     "metadata": {},
     "output_type": "display_data"
    },
    {
     "name": "stdout",
     "output_type": "stream",
     "text": [
      "@khutaskostas\n",
      "@κί\n",
      "@michalis_marinos_official\n",
      "@xtarantilis\n",
      "@constantinosbogdanos\n",
      "@olgakefalogianni\n",
      "@adonis_georgiadis\n",
      "@kostis_hatzidakis\n",
      "@harry_theoharis\n",
      "@ciao\n",
      "@konsolasmanos\n",
      "@andonis_cambourakis\n",
      "@constantinosbogdanos\n",
      "@nikoschristodoulides\n",
      "@katerina_monogiou\n",
      "@arampatzifoteini\n",
      "@dbakoyannis\n",
      "@ciao\n",
      "@ύγειαΔραγασάκης\n",
      "@3pfamilia\n",
      "@rallia_\n",
      "@moraitis_thanos\n",
      "@xristosgiannoulis\n",
      "@notopoulou_katerina\n",
      "@rallia_\n",
      "@eirini_papadopoulou\n"
     ]
    },
    {
     "data": {
      "application/vnd.jupyter.widget-view+json": {
       "model_id": "534f23bb2f454def86acd3e85c3ec25c",
       "version_major": 2,
       "version_minor": 0
      },
      "text/plain": [
       "  0%|          | 0/300 [00:00<?, ?it/s]"
      ]
     },
     "metadata": {},
     "output_type": "display_data"
    },
    {
     "name": "stdout",
     "output_type": "stream",
     "text": [
      "@ΖΩΗΣ\n",
      "@xtarantilis\n",
      "@adonis_georgiadis\n",
      "@mitoo44\n",
      "@aktiimperialhotel\n",
      "@stratos_simopoulos\n"
     ]
    },
    {
     "name": "stderr",
     "output_type": "stream",
     "text": [
      "Rate limit reached. Sleeping for: 33\n"
     ]
    },
    {
     "name": "stdout",
     "output_type": "stream",
     "text": [
      "@reeza_restaurant\n",
      "@rafnar_hellas\n",
      "@periklis_mantas\n",
      "@tsapatakis_a\n",
      "@ciao\n",
      "@kalimeraellada_ant1\n",
      "@ciao\n",
      "@natasatheodoridou\n"
     ]
    },
    {
     "data": {
      "application/vnd.jupyter.widget-view+json": {
       "model_id": "2a2f1ba766dc4b40b2cf3a60fda26422",
       "version_major": 2,
       "version_minor": 0
      },
      "text/plain": [
       "  0%|          | 0/300 [00:00<?, ?it/s]"
      ]
     },
     "metadata": {},
     "output_type": "display_data"
    },
    {
     "name": "stdout",
     "output_type": "stream",
     "text": [
      "@iliasbogdanos\n",
      "@rapti_elena_official\n",
      "@marevagrabowskimitsotaki\n",
      "@marevagrabowskimitsotaki\n",
      "@haris_sianidis\n",
      "@anna_michelle_nd\n",
      "@dora_panteli_\n",
      "@ciao\n",
      "@rallia_\n",
      "@α\n",
      "@christosgiannoulis_\n",
      "@alexistsipras\n"
     ]
    },
    {
     "data": {
      "application/vnd.jupyter.widget-view+json": {
       "model_id": "c811608df1d344ffadf241d2d675558e",
       "version_major": 2,
       "version_minor": 0
      },
      "text/plain": [
       "  0%|          | 0/300 [00:00<?, ?it/s]"
      ]
     },
     "metadata": {},
     "output_type": "display_data"
    },
    {
     "name": "stdout",
     "output_type": "stream",
     "text": [
      "@alexistsipras\n",
      "@rallia_\n"
     ]
    },
    {
     "data": {
      "application/vnd.jupyter.widget-view+json": {
       "model_id": "e94ab753a7a04a1c8bf72c1ab334fea2",
       "version_major": 2,
       "version_minor": 0
      },
      "text/plain": [
       "  0%|          | 0/300 [00:00<?, ?it/s]"
      ]
     },
     "metadata": {},
     "output_type": "display_data"
    },
    {
     "name": "stdout",
     "output_type": "stream",
     "text": [
      "@mariaapatzidi\n"
     ]
    },
    {
     "data": {
      "application/vnd.jupyter.widget-view+json": {
       "model_id": "f1ede8d8089643289a6769b25c4b9dbc",
       "version_major": 2,
       "version_minor": 0
      },
      "text/plain": [
       "  0%|          | 0/300 [00:00<?, ?it/s]"
      ]
     },
     "metadata": {},
     "output_type": "display_data"
    },
    {
     "name": "stdout",
     "output_type": "stream",
     "text": [
      "@ethnosnewspaper\n"
     ]
    }
   ],
   "source": [
    "cols = ['Twitter Handle']\n",
    "cols += [f'Result {i+1}' for i in range(7)]\n",
    "for col in cols:\n",
    "    fn[col] = get_ids(fn[col])"
   ]
  },
  {
   "cell_type": "markdown",
   "id": "hungry-cream",
   "metadata": {},
   "source": [
    "## With a Twitter Account "
   ]
  },
  {
   "cell_type": "code",
   "execution_count": 6,
   "id": "hybrid-convertible",
   "metadata": {},
   "outputs": [],
   "source": [
    "fn_acc = fn[fn['Twitter Handle'] != 0].copy() "
   ]
  },
  {
   "cell_type": "code",
   "execution_count": 7,
   "id": "average-hayes",
   "metadata": {},
   "outputs": [],
   "source": [
    "top1 = [False for i in range(len(fn_acc))]\n",
    "top5 = [False for i in range(len(fn_acc))]\n",
    "top10 = [False for i in range(len(fn_acc))]\n",
    "\n",
    "for i, acc in enumerate(fn_acc['Twitter Handle']):\n",
    "    for j,res in enumerate(fn_acc[[f'Result {k+1}' for k in range(7)]].iloc[i].unique()):\n",
    "        if acc == res:\n",
    "            if j < 1:\n",
    "                top1[i] = True\n",
    "            elif 0 < j < 6:\n",
    "                top5[i] = True\n",
    "            else:\n",
    "                top10[j] = True"
   ]
  },
  {
   "cell_type": "code",
   "execution_count": 8,
   "id": "returning-porcelain",
   "metadata": {},
   "outputs": [],
   "source": [
    "found = [a or b or c for a,b,c in zip(top1,top5,top10)]"
   ]
  },
  {
   "cell_type": "code",
   "execution_count": 9,
   "id": "amateur-sudan",
   "metadata": {},
   "outputs": [
    {
     "data": {
      "text/plain": [
       "<matplotlib.legend.Legend at 0x7fd287a122e0>"
      ]
     },
     "execution_count": 9,
     "metadata": {},
     "output_type": "execute_result"
    },
    {
     "data": {
      "image/png": "[encoded data removed]",
      "text/plain": [
       "<Figure size 432x288 with 1 Axes>"
      ]
     },
     "metadata": {},
     "output_type": "display_data"
    }
   ],
   "source": [
    "fig, ax = plt.subplots()\n",
    "color_palette_list = ['#009BD0', '#00BDCC', '#ADD8E6']\n",
    "\n",
    "plt.rcParams['font.sans-serif'] = 'Arial'\n",
    "plt.rcParams['font.family'] = 'sans-serif'\n",
    "plt.rcParams['text.color'] = 'black'\n",
    "plt.rcParams['axes.labelcolor']= 'black'\n",
    "plt.rcParams['xtick.color'] = 'black'\n",
    "plt.rcParams['ytick.color'] = 'black'\n",
    "plt.rcParams['font.size']=14\n",
    "\n",
    "x = [top1.count(True), top5.count(True), found.count(False)]\n",
    "labels = ['Top 1', 'Top 5' ,'Was not found']\n",
    "_=ax.pie(x, colors=color_palette_list,\n",
    "         autopct='%1.0f%%', shadow=True, startangle=90, pctdistance=0.5,labeldistance=1.3, explode=(0.01,0.01,0.2))\n",
    "ax.legend(frameon=True, bbox_to_anchor=(1,0.75), labels=labels)"
   ]
  },
  {
   "cell_type": "markdown",
   "id": "innocent-thanksgiving",
   "metadata": {},
   "source": [
    "### Export Results"
   ]
  },
  {
   "cell_type": "code",
   "execution_count": 184,
   "id": "classified-consumption",
   "metadata": {},
   "outputs": [],
   "source": [
    "fn_acc['GoogleAPI Fullnames'] = found"
   ]
  },
  {
   "cell_type": "code",
   "execution_count": 192,
   "id": "neither-peninsula",
   "metadata": {},
   "outputs": [],
   "source": [
    "fn_acc[['Name', 'GoogleAPI Fullnames']].reset_index().drop('index', axis=1).to_csv('../result-method-parliament-member-search.csv', index=False)"
   ]
  },
  {
   "cell_type": "markdown",
   "id": "interior-motor",
   "metadata": {},
   "source": [
    "## Without a Twitter Account "
   ]
  },
  {
   "cell_type": "code",
   "execution_count": 10,
   "id": "split-location",
   "metadata": {},
   "outputs": [],
   "source": [
    "target_names = ['Has an Account', 'Does not have a Account']"
   ]
  },
  {
   "cell_type": "code",
   "execution_count": 11,
   "id": "helpful-encounter",
   "metadata": {},
   "outputs": [],
   "source": [
    "fn_noacc = fn[fn['Twitter Handle'] == 0].copy() "
   ]
  },
  {
   "cell_type": "code",
   "execution_count": 12,
   "id": "mighty-stability",
   "metadata": {},
   "outputs": [],
   "source": [
    "correct = []\n",
    "for i, acc in enumerate(fn_noacc['Twitter Handle']):\n",
    "    if acc == fn_noacc['Result 1'].iloc[i]:\n",
    "        correct.append(True)\n",
    "    else:\n",
    "        correct.append(False)         "
   ]
  },
  {
   "cell_type": "code",
   "execution_count": 13,
   "id": "stuffed-passport",
   "metadata": {},
   "outputs": [
    {
     "data": {
      "text/plain": [
       "(38, 24)"
      ]
     },
     "execution_count": 13,
     "metadata": {},
     "output_type": "execute_result"
    }
   ],
   "source": [
    "correct.count(True), correct.count(False)"
   ]
  },
  {
   "cell_type": "markdown",
   "id": "latest-sister",
   "metadata": {},
   "source": [
    "## Final Results"
   ]
  },
  {
   "cell_type": "code",
   "execution_count": 14,
   "id": "adapted-lucas",
   "metadata": {},
   "outputs": [
    {
     "data": {
      "text/plain": [
       "array([[181,  38],\n",
       "       [ 57,  24]])"
      ]
     },
     "execution_count": 14,
     "metadata": {},
     "output_type": "execute_result"
    }
   ],
   "source": [
    "fin_result = np.array([[found.count(True),correct.count(True)],\n",
    "                      [found.count(False),correct.count(False)]])\n",
    "fin_result"
   ]
  },
  {
   "cell_type": "code",
   "execution_count": 15,
   "id": "therapeutic-panic",
   "metadata": {},
   "outputs": [
    {
     "data": {
      "text/plain": [
       "<AxesSubplot:>"
      ]
     },
     "execution_count": 15,
     "metadata": {},
     "output_type": "execute_result"
    },
    {
     "data": {
      "image/png": "[encoded data removed]",
      "text/plain": [
       "<Figure size 432x288 with 1 Axes>"
      ]
     },
     "metadata": {
      "needs_background": "light"
     },
     "output_type": "display_data"
    }
   ],
   "source": [
    "pd.DataFrame(fin_result, \n",
    "             columns=['Uses Twitter', 'Does not use Twitter'], \n",
    "             index=['Correct', 'Incorrect']).T.plot(kind='barh')"
   ]
  },
  {
   "cell_type": "markdown",
   "id": "scheduled-viking",
   "metadata": {},
   "source": [
    "## Do Result Include other Parliament Members ?"
   ]
  },
  {
   "cell_type": "code",
   "execution_count": 194,
   "id": "sophisticated-stamp",
   "metadata": {},
   "outputs": [],
   "source": [
    "par_accs = list(fn_acc['Twitter Handle'])"
   ]
  },
  {
   "cell_type": "code",
   "execution_count": 213,
   "id": "fatty-relief",
   "metadata": {},
   "outputs": [],
   "source": [
    "counts = [0 for i in range(len(fn))]\n",
    "for i, tr in enumerate(fn['Twitter Handle']):\n",
    "    for j,res in enumerate(fn[[f'Result {k+1}' for k in range(7)]].iloc[i].unique()):\n",
    "        for acc in par_accs:\n",
    "            if res == acc and res != tr:\n",
    "                counts[i] += 1"
   ]
  },
  {
   "cell_type": "code",
   "execution_count": 215,
   "id": "piano-steering",
   "metadata": {},
   "outputs": [],
   "source": [
    "fn['Total Parl Results'] = counts"
   ]
  },
  {
   "cell_type": "code",
   "execution_count": 217,
   "id": "adopted-closure",
   "metadata": {},
   "outputs": [
    {
     "data": {
      "text/plain": [
       "19"
      ]
     },
     "execution_count": 217,
     "metadata": {},
     "output_type": "execute_result"
    }
   ],
   "source": [
    "len(fn[fn['Total Parl Results'] != 0])"
   ]
  },
  {
   "cell_type": "markdown",
   "id": "allied-london",
   "metadata": {},
   "source": [
    "---\n",
    "# Surnames"
   ]
  },
  {
   "cell_type": "code",
   "execution_count": 3,
   "id": "preliminary-heating",
   "metadata": {},
   "outputs": [
    {
     "data": {
      "text/html": [
       "<div>\n",
       "<style scoped>\n",
       "    .dataframe tbody tr th:only-of-type {\n",
       "        vertical-align: middle;\n",
       "    }\n",
       "\n",
       "    .dataframe tbody tr th {\n",
       "        vertical-align: top;\n",
       "    }\n",
       "\n",
       "    .dataframe thead th {\n",
       "        text-align: right;\n",
       "    }\n",
       "</style>\n",
       "<table border=\"1\" class=\"dataframe\">\n",
       "  <thead>\n",
       "    <tr style=\"text-align: right;\">\n",
       "      <th></th>\n",
       "      <th>Name (Long)</th>\n",
       "      <th>Surname</th>\n",
       "      <th>Name</th>\n",
       "      <th>Party</th>\n",
       "      <th>Twitter Handle</th>\n",
       "      <th>Result 1</th>\n",
       "      <th>Result 2</th>\n",
       "      <th>Result 3</th>\n",
       "      <th>Result 4</th>\n",
       "      <th>Result 5</th>\n",
       "      <th>Result 6</th>\n",
       "      <th>Result 7</th>\n",
       "    </tr>\n",
       "  </thead>\n",
       "  <tbody>\n",
       "    <tr>\n",
       "      <th>0</th>\n",
       "      <td>Βιλιάρδος Διονυσίου Βασίλειος</td>\n",
       "      <td>Βιλιάρδος</td>\n",
       "      <td>Βιλιάρδος Βασίλειος</td>\n",
       "      <td>ΕΛΛΗΝΙΚΗ ΛΥΣΗ</td>\n",
       "      <td>ViliardosV</td>\n",
       "      <td>@ViliardosV</td>\n",
       "      <td>@ViliardosV</td>\n",
       "      <td></td>\n",
       "      <td></td>\n",
       "      <td></td>\n",
       "      <td></td>\n",
       "      <td></td>\n",
       "    </tr>\n",
       "    <tr>\n",
       "      <th>1</th>\n",
       "      <td>Αλεξοπούλου Κωνσταντίνου Αναστασία - Αικατερίνη</td>\n",
       "      <td>Αλεξοπούλου</td>\n",
       "      <td>Αλεξοπούλου Αικατερίνη</td>\n",
       "      <td>ΕΛΛΗΝΙΚΗ ΛΥΣΗ</td>\n",
       "      <td>anaik2020</td>\n",
       "      <td>@xrisalex</td>\n",
       "      <td>@aalexopoulos97</td>\n",
       "      <td>@xrisalex</td>\n",
       "      <td>@christina</td>\n",
       "      <td></td>\n",
       "      <td></td>\n",
       "      <td></td>\n",
       "    </tr>\n",
       "    <tr>\n",
       "      <th>2</th>\n",
       "      <td>Αθανασίου Ευαγγέλου Μαρία</td>\n",
       "      <td>Αθανασίου</td>\n",
       "      <td>Αθανασίου Μαρία</td>\n",
       "      <td>ΕΛΛΗΝΙΚΗ ΛΥΣΗ</td>\n",
       "      <td>MariaAt03902914</td>\n",
       "      <td>@Athanas_HS</td>\n",
       "      <td>@athanasiou_marios</td>\n",
       "      <td>@XarAthan</td>\n",
       "      <td>@XarAthan</td>\n",
       "      <td>@verou_ath</td>\n",
       "      <td>@AthanasiouTh</td>\n",
       "      <td></td>\n",
       "    </tr>\n",
       "    <tr>\n",
       "      <th>3</th>\n",
       "      <td>Βαγενάς Κωνσταντίνου Δημήτριος</td>\n",
       "      <td>Βαγενάς</td>\n",
       "      <td>Βαγενάς Δημήτριος</td>\n",
       "      <td>ΕΛΛΗΝΙΚΗ ΛΥΣΗ</td>\n",
       "      <td>B3Vagenas</td>\n",
       "      <td>@loukas_vagenas</td>\n",
       "      <td>@B3Vagenas</td>\n",
       "      <td></td>\n",
       "      <td></td>\n",
       "      <td></td>\n",
       "      <td></td>\n",
       "      <td></td>\n",
       "    </tr>\n",
       "    <tr>\n",
       "      <th>4</th>\n",
       "      <td>Ασημακοπούλου Δημητρίου Σοφία - Χάιδω</td>\n",
       "      <td>Ασημακοπούλου</td>\n",
       "      <td>Ασημακοπούλου Χάιδω</td>\n",
       "      <td>ΕΛΛΗΝΙΚΗ ΛΥΣΗ</td>\n",
       "      <td>SofAsimak</td>\n",
       "      <td>@AnnaAsimakopoul</td>\n",
       "      <td>@anna_michelle_nd</td>\n",
       "      <td>@A6TzzGauUShtz5c</td>\n",
       "      <td></td>\n",
       "      <td></td>\n",
       "      <td></td>\n",
       "      <td></td>\n",
       "    </tr>\n",
       "  </tbody>\n",
       "</table>\n",
       "</div>"
      ],
      "text/plain": [
       "                                       Name (Long)        Surname  \\\n",
       "0                    Βιλιάρδος Διονυσίου Βασίλειος      Βιλιάρδος   \n",
       "1  Αλεξοπούλου Κωνσταντίνου Αναστασία - Αικατερίνη    Αλεξοπούλου   \n",
       "2                        Αθανασίου Ευαγγέλου Μαρία      Αθανασίου   \n",
       "3                   Βαγενάς Κωνσταντίνου Δημήτριος        Βαγενάς   \n",
       "4            Ασημακοπούλου Δημητρίου Σοφία - Χάιδω  Ασημακοπούλου   \n",
       "\n",
       "                     Name          Party   Twitter Handle          Result 1  \\\n",
       "0     Βιλιάρδος Βασίλειος  ΕΛΛΗΝΙΚΗ ΛΥΣΗ       ViliardosV       @ViliardosV   \n",
       "1  Αλεξοπούλου Αικατερίνη  ΕΛΛΗΝΙΚΗ ΛΥΣΗ        anaik2020         @xrisalex   \n",
       "2         Αθανασίου Μαρία  ΕΛΛΗΝΙΚΗ ΛΥΣΗ  MariaAt03902914       @Athanas_HS   \n",
       "3       Βαγενάς Δημήτριος  ΕΛΛΗΝΙΚΗ ΛΥΣΗ        B3Vagenas   @loukas_vagenas   \n",
       "4     Ασημακοπούλου Χάιδω  ΕΛΛΗΝΙΚΗ ΛΥΣΗ        SofAsimak  @AnnaAsimakopoul   \n",
       "\n",
       "             Result 2          Result 3    Result 4    Result 5  \\\n",
       "0         @ViliardosV                                             \n",
       "1     @aalexopoulos97         @xrisalex  @christina               \n",
       "2  @athanasiou_marios         @XarAthan   @XarAthan  @verou_ath   \n",
       "3          @B3Vagenas                                             \n",
       "4   @anna_michelle_nd  @A6TzzGauUShtz5c                           \n",
       "\n",
       "        Result 6 Result 7  \n",
       "0                          \n",
       "1                          \n",
       "2  @AthanasiouTh           \n",
       "3                          \n",
       "4                          "
      ]
     },
     "execution_count": 3,
     "metadata": {},
     "output_type": "execute_result"
    }
   ],
   "source": [
    "fn = pd.read_csv('Google-Search-Surnames-Parliament-Members.csv')\n",
    "fn = fn.replace(np.nan, '')\n",
    "fn.head()"
   ]
  },
  {
   "cell_type": "code",
   "execution_count": 4,
   "id": "greater-forth",
   "metadata": {},
   "outputs": [],
   "source": [
    "def get_ids(df):\n",
    "    true_id = []\n",
    "    for acc in tqdm(df):\n",
    "        if acc != '':\n",
    "            try:\n",
    "                user = API.get_user(acc)\n",
    "                true_id.append(user.id)\n",
    "            except:\n",
    "                print(acc)\n",
    "                true_id.append(0)\n",
    "        else:\n",
    "            true_id.append(0)\n",
    "    return true_id"
   ]
  },
  {
   "cell_type": "code",
   "execution_count": 5,
   "id": "forward-letter",
   "metadata": {
    "collapsed": true,
    "jupyter": {
     "outputs_hidden": true
    }
   },
   "outputs": [
    {
     "data": {
      "application/vnd.jupyter.widget-view+json": {
       "model_id": "790ce43dfe4e4e0ca8155def6c454a8a",
       "version_major": 2,
       "version_minor": 0
      },
      "text/plain": [
       "  0%|          | 0/300 [00:00<?, ?it/s]"
      ]
     },
     "metadata": {},
     "output_type": "display_data"
    },
    {
     "name": "stdout",
     "output_type": "stream",
     "text": [
      "xtarantilis\n",
      "katsafados\n",
      "stergiannakis\n"
     ]
    },
    {
     "data": {
      "application/vnd.jupyter.widget-view+json": {
       "model_id": "882882472ef84b56a4c678b730d2d6af",
       "version_major": 2,
       "version_minor": 0
      },
      "text/plain": [
       "  0%|          | 0/300 [00:00<?, ?it/s]"
      ]
     },
     "metadata": {},
     "output_type": "display_data"
    },
    {
     "name": "stdout",
     "output_type": "stream",
     "text": [
      "@λ\n",
      "@21\n",
      "@sofia_manolakou\n",
      "@mariaapatzidi\n",
      "@rapti_elena_official\n",
      "@RousopoulosgΘεόδωρος\n",
      "@natasapazaitibhc\n",
      "@panos_vlahos_official\n",
      "@21\n",
      "@rapti_elena_official\n",
      "@philip_fortomas\n",
      "@arampatzifoteini\n",
      "@vikyhatzivasiliou\n",
      "@leonidasbalafas\n",
      "@athanasiou_marios\n",
      "@emiliosmarku\n",
      "@aris_lappino\n"
     ]
    },
    {
     "data": {
      "application/vnd.jupyter.widget-view+json": {
       "model_id": "b4af048cc6924f529c99399d1fc4f2f5",
       "version_major": 2,
       "version_minor": 0
      },
      "text/plain": [
       "  0%|          | 0/300 [00:00<?, ?it/s]"
      ]
     },
     "metadata": {},
     "output_type": "display_data"
    },
    {
     "name": "stdout",
     "output_type": "stream",
     "text": [
      "@athanasiou_marios\n",
      "@anna_michelle_nd\n",
      "@dannygiannakopoulou\n",
      "@κί\n",
      "@vanessaadamopoulou\n",
      "@constantinosbogdanos\n",
      "@kefalogiannis_\n",
      "@adonis_georgiadis\n",
      "@panagiotis_hatzidakis\n",
      "@harry_theoharis\n",
      "@panagiotis_hatzidakis\n",
      "@supermariohezonja\n",
      "@vlasis_kostouros\n",
      "@3pfamilia\n",
      "@tzcello\n",
      "@atzitzikostas\n",
      "@anna_michelle_nd\n",
      "@nicosanastasiades\n",
      "@stefkonstantinidis\n",
      "@katerina_monogiou\n",
      "@athanasiou_marios\n",
      "@rachel_makri\n",
      "@kwn_lampropoulos\n",
      "@kefalogiannis_\n",
      "@dbakoyannis\n",
      "@ciao\n",
      "@3pfamilia\n",
      "@alexistsipras\n",
      "@α\n",
      "@alexistsipras\n",
      "@miltoschatzigiannakis\n",
      "@larentzakis_5\n",
      "@notopoulou_katerina\n",
      "@rallia_\n"
     ]
    },
    {
     "data": {
      "application/vnd.jupyter.widget-view+json": {
       "model_id": "280c743adaef43098147b9c903c85fb1",
       "version_major": 2,
       "version_minor": 0
      },
      "text/plain": [
       "  0%|          | 0/300 [00:00<?, ?it/s]"
      ]
     },
     "metadata": {},
     "output_type": "display_data"
    },
    {
     "name": "stdout",
     "output_type": "stream",
     "text": [
      "@loveitskaitv\n",
      "@anna_michelle_nd\n",
      "@voularinos\n",
      "@spiros_papadopoulos_official\n"
     ]
    },
    {
     "name": "stderr",
     "output_type": "stream",
     "text": [
      "Rate limit reached. Sleeping for: 403\n"
     ]
    },
    {
     "name": "stdout",
     "output_type": "stream",
     "text": [
      "@alexistsipras\n",
      "@spiros_papadopoulos_official\n"
     ]
    },
    {
     "data": {
      "application/vnd.jupyter.widget-view+json": {
       "model_id": "53b9013d47f746c79f194009fd693a5e",
       "version_major": 2,
       "version_minor": 0
      },
      "text/plain": [
       "  0%|          | 0/300 [00:00<?, ?it/s]"
      ]
     },
     "metadata": {},
     "output_type": "display_data"
    },
    {
     "name": "stdout",
     "output_type": "stream",
     "text": [
      "@iliasbogdanos\n",
      "@olgakefalogianni\n",
      "@acci\n",
      "@atzitzikostas\n",
      "@panagiotiskonstantinidistr\n",
      "@verou_ath\n",
      "@zeta_makripoulia_official\n",
      "@fanis_labropoulos\n",
      "@dimitriskaradimos\n",
      "@filio_lou\n",
      "@kalimeraellada_ant1\n",
      "@kalimeraellada_ant1\n",
      "@elena_apostolou\n",
      "@thanokokkalis\n",
      "@alexistsipras\n"
     ]
    },
    {
     "data": {
      "application/vnd.jupyter.widget-view+json": {
       "model_id": "51a2e01fbb6e476da869f8fae8c277f2",
       "version_major": 2,
       "version_minor": 0
      },
      "text/plain": [
       "  0%|          | 0/300 [00:00<?, ?it/s]"
      ]
     },
     "metadata": {},
     "output_type": "display_data"
    },
    {
     "name": "stdout",
     "output_type": "stream",
     "text": [
      "@verou_ath\n",
      "@filio_lou\n",
      "@delta_christof\n",
      "@elenasdiary_blog\n",
      "@makistriantafyllopoulos\n",
      "@delta_christof\n",
      "@athinao1konomakou\n",
      "@sokratismalamas\n"
     ]
    },
    {
     "data": {
      "application/vnd.jupyter.widget-view+json": {
       "model_id": "68d5b2aad7ed4873b83152964d152d74",
       "version_major": 2,
       "version_minor": 0
      },
      "text/plain": [
       "  0%|          | 0/300 [00:00<?, ?it/s]"
      ]
     },
     "metadata": {},
     "output_type": "display_data"
    },
    {
     "name": "stdout",
     "output_type": "stream",
     "text": [
      "@pxnguinvfx\n",
      "@athinao1konomakou\n",
      "@mariaapatzidi\n",
      "@moraitis_thanos\n",
      "@PetrosAulonitis\n"
     ]
    },
    {
     "data": {
      "application/vnd.jupyter.widget-view+json": {
       "model_id": "71a01e2d94844108a231c25c974c98c6",
       "version_major": 2,
       "version_minor": 0
      },
      "text/plain": [
       "  0%|          | 0/300 [00:00<?, ?it/s]"
      ]
     },
     "metadata": {},
     "output_type": "display_data"
    },
    {
     "name": "stdout",
     "output_type": "stream",
     "text": [
      "@aristotelis_rigas\n",
      "@GabriellaApollon\n",
      "@aristotelis_rigas\n"
     ]
    }
   ],
   "source": [
    "cols = ['Twitter Handle']\n",
    "cols += [f'Result {i+1}' for i in range(7)]\n",
    "for col in cols:\n",
    "    fn[col] = get_ids(fn[col])"
   ]
  },
  {
   "cell_type": "markdown",
   "id": "radio-sandwich",
   "metadata": {},
   "source": [
    "## With a Twitter Account "
   ]
  },
  {
   "cell_type": "code",
   "execution_count": 6,
   "id": "electoral-flour",
   "metadata": {},
   "outputs": [],
   "source": [
    "fn_acc = fn[fn['Twitter Handle'] != 0].copy() "
   ]
  },
  {
   "cell_type": "code",
   "execution_count": 7,
   "id": "revised-retrieval",
   "metadata": {},
   "outputs": [],
   "source": [
    "top1 = [False for i in range(len(fn_acc))]\n",
    "top5 = [False for i in range(len(fn_acc))]\n",
    "top10 = [False for i in range(len(fn_acc))]\n",
    "\n",
    "for i, acc in enumerate(fn_acc['Twitter Handle']):\n",
    "    for j,res in enumerate(fn_acc[[f'Result {k+1}' for k in range(7)]].iloc[i].unique()):\n",
    "        if acc == res:\n",
    "            if j < 1:\n",
    "                top1[i] = True\n",
    "            elif 0 < j < 6:\n",
    "                top5[i] = True\n",
    "            else:\n",
    "                top10[j] = True"
   ]
  },
  {
   "cell_type": "code",
   "execution_count": 8,
   "id": "qualified-bikini",
   "metadata": {},
   "outputs": [],
   "source": [
    "found = [a or b or c for a,b,c in zip(top1,top5,top10)]"
   ]
  },
  {
   "cell_type": "code",
   "execution_count": 9,
   "id": "powered-subdivision",
   "metadata": {},
   "outputs": [
    {
     "data": {
      "text/plain": [
       "<matplotlib.legend.Legend at 0x7ffc238ace80>"
      ]
     },
     "execution_count": 9,
     "metadata": {},
     "output_type": "execute_result"
    },
    {
     "data": {
      "image/png": "[encoded data removed]",
      "text/plain": [
       "<Figure size 432x288 with 1 Axes>"
      ]
     },
     "metadata": {},
     "output_type": "display_data"
    }
   ],
   "source": [
    "fig, ax = plt.subplots()\n",
    "color_palette_list = ['#009BD0', '#00BDCC', '#ADD8E6']\n",
    "\n",
    "plt.rcParams['font.sans-serif'] = 'Arial'\n",
    "plt.rcParams['font.family'] = 'sans-serif'\n",
    "plt.rcParams['text.color'] = 'black'\n",
    "plt.rcParams['axes.labelcolor']= 'black'\n",
    "plt.rcParams['xtick.color'] = 'black'\n",
    "plt.rcParams['ytick.color'] = 'black'\n",
    "plt.rcParams['font.size']=14\n",
    "\n",
    "x = [top1.count(True), top5.count(True), found.count(False)]\n",
    "labels = ['Top 1', 'Top 5' ,'Was not found']\n",
    "_=ax.pie(x, colors=color_palette_list,\n",
    "         autopct='%1.0f%%', shadow=True, startangle=90, pctdistance=0.5,labeldistance=1.3, explode=(0.01,0.01,0.2))\n",
    "ax.legend(frameon=True, bbox_to_anchor=(1,0.75), labels=labels)"
   ]
  },
  {
   "cell_type": "markdown",
   "id": "pregnant-calculation",
   "metadata": {},
   "source": [
    "### Export Results"
   ]
  },
  {
   "cell_type": "code",
   "execution_count": 11,
   "id": "outer-rendering",
   "metadata": {},
   "outputs": [
    {
     "data": {
      "text/html": [
       "<div>\n",
       "<style scoped>\n",
       "    .dataframe tbody tr th:only-of-type {\n",
       "        vertical-align: middle;\n",
       "    }\n",
       "\n",
       "    .dataframe tbody tr th {\n",
       "        vertical-align: top;\n",
       "    }\n",
       "\n",
       "    .dataframe thead th {\n",
       "        text-align: right;\n",
       "    }\n",
       "</style>\n",
       "<table border=\"1\" class=\"dataframe\">\n",
       "  <thead>\n",
       "    <tr style=\"text-align: right;\">\n",
       "      <th></th>\n",
       "      <th>Name</th>\n",
       "      <th>GoogleAPI Fullnames</th>\n",
       "    </tr>\n",
       "  </thead>\n",
       "  <tbody>\n",
       "    <tr>\n",
       "      <th>0</th>\n",
       "      <td>Βιλιάρδος Βασίλειος</td>\n",
       "      <td>True</td>\n",
       "    </tr>\n",
       "    <tr>\n",
       "      <th>1</th>\n",
       "      <td>Αλεξοπούλου Αικατερίνη</td>\n",
       "      <td>True</td>\n",
       "    </tr>\n",
       "    <tr>\n",
       "      <th>2</th>\n",
       "      <td>Αθανασίου Μαρία</td>\n",
       "      <td>True</td>\n",
       "    </tr>\n",
       "    <tr>\n",
       "      <th>3</th>\n",
       "      <td>Βαγενάς Δημήτριος</td>\n",
       "      <td>True</td>\n",
       "    </tr>\n",
       "    <tr>\n",
       "      <th>4</th>\n",
       "      <td>Ασημακοπούλου Χάιδω</td>\n",
       "      <td>False</td>\n",
       "    </tr>\n",
       "  </tbody>\n",
       "</table>\n",
       "</div>"
      ],
      "text/plain": [
       "                     Name  GoogleAPI Fullnames\n",
       "0     Βιλιάρδος Βασίλειος                 True\n",
       "1  Αλεξοπούλου Αικατερίνη                 True\n",
       "2         Αθανασίου Μαρία                 True\n",
       "3       Βαγενάς Δημήτριος                 True\n",
       "4     Ασημακοπούλου Χάιδω                False"
      ]
     },
     "execution_count": 11,
     "metadata": {},
     "output_type": "execute_result"
    }
   ],
   "source": [
    "temp = pd.read_csv('../result-method-parliament-member-search.csv')\n",
    "temp.head()"
   ]
  },
  {
   "cell_type": "code",
   "execution_count": 12,
   "id": "similar-wireless",
   "metadata": {},
   "outputs": [],
   "source": [
    "temp['GoogleAPI Surnames'] = found"
   ]
  },
  {
   "cell_type": "code",
   "execution_count": 14,
   "id": "engaging-speech",
   "metadata": {},
   "outputs": [],
   "source": [
    "temp.to_csv('../result-method-parliament-member-search.csv', index=False)"
   ]
  },
  {
   "cell_type": "code",
   "execution_count": 15,
   "id": "forced-somerset",
   "metadata": {},
   "outputs": [],
   "source": [
    "del temp"
   ]
  },
  {
   "cell_type": "markdown",
   "id": "incorporated-dragon",
   "metadata": {},
   "source": [
    "## Without a Twitter Account "
   ]
  },
  {
   "cell_type": "code",
   "execution_count": 16,
   "id": "younger-checkout",
   "metadata": {},
   "outputs": [],
   "source": [
    "target_names = ['Has an Account', 'Does not have a Account']"
   ]
  },
  {
   "cell_type": "code",
   "execution_count": 17,
   "id": "partial-uzbekistan",
   "metadata": {},
   "outputs": [],
   "source": [
    "fn_noacc = fn[fn['Twitter Handle'] == 0].copy() "
   ]
  },
  {
   "cell_type": "code",
   "execution_count": 18,
   "id": "prescription-israel",
   "metadata": {},
   "outputs": [],
   "source": [
    "correct = []\n",
    "for i, acc in enumerate(fn_noacc['Twitter Handle']):\n",
    "    if acc == fn_noacc['Result 1'].iloc[i]:\n",
    "        correct.append(True)\n",
    "    else:\n",
    "        correct.append(False)         "
   ]
  },
  {
   "cell_type": "code",
   "execution_count": 19,
   "id": "successful-pathology",
   "metadata": {},
   "outputs": [
    {
     "data": {
      "text/plain": [
       "(26, 36)"
      ]
     },
     "execution_count": 19,
     "metadata": {},
     "output_type": "execute_result"
    }
   ],
   "source": [
    "correct.count(True), correct.count(False)"
   ]
  },
  {
   "cell_type": "markdown",
   "id": "continued-robertson",
   "metadata": {},
   "source": [
    "## Final Results"
   ]
  },
  {
   "cell_type": "code",
   "execution_count": 20,
   "id": "solid-collaboration",
   "metadata": {},
   "outputs": [
    {
     "data": {
      "text/plain": [
       "array([[181,  26],\n",
       "       [ 57,  36]])"
      ]
     },
     "execution_count": 20,
     "metadata": {},
     "output_type": "execute_result"
    }
   ],
   "source": [
    "fin_result = np.array([[found.count(True),correct.count(True)],\n",
    "                      [found.count(False),correct.count(False)]])\n",
    "fin_result"
   ]
  },
  {
   "cell_type": "code",
   "execution_count": 21,
   "id": "functional-citizen",
   "metadata": {},
   "outputs": [
    {
     "data": {
      "text/plain": [
       "<AxesSubplot:>"
      ]
     },
     "execution_count": 21,
     "metadata": {},
     "output_type": "execute_result"
    },
    {
     "data": {
      "image/png": "[encoded data removed]",
      "text/plain": [
       "<Figure size 432x288 with 1 Axes>"
      ]
     },
     "metadata": {
      "needs_background": "light"
     },
     "output_type": "display_data"
    }
   ],
   "source": [
    "pd.DataFrame(fin_result, \n",
    "             columns=['Uses Twitter', 'Does not use Twitter'], \n",
    "             index=['Correct', 'Incorrect']).T.plot(kind='barh')"
   ]
  },
  {
   "cell_type": "markdown",
   "id": "about-requirement",
   "metadata": {},
   "source": [
    "## Do Result Include other Parliament Members ?"
   ]
  },
  {
   "cell_type": "code",
   "execution_count": 22,
   "id": "silver-precipitation",
   "metadata": {},
   "outputs": [],
   "source": [
    "par_accs = list(fn_acc['Twitter Handle'])"
   ]
  },
  {
   "cell_type": "code",
   "execution_count": 23,
   "id": "mounted-december",
   "metadata": {},
   "outputs": [],
   "source": [
    "counts = [0 for i in range(len(fn))]\n",
    "for i, tr in enumerate(fn['Twitter Handle']):\n",
    "    for j,res in enumerate(fn[[f'Result {k+1}' for k in range(7)]].iloc[i].unique()):\n",
    "        for acc in par_accs:\n",
    "            if res == acc and res != tr:\n",
    "                counts[i] += 1"
   ]
  },
  {
   "cell_type": "code",
   "execution_count": 24,
   "id": "wicked-gates",
   "metadata": {},
   "outputs": [],
   "source": [
    "fn['Total Parl Results'] = counts"
   ]
  },
  {
   "cell_type": "code",
   "execution_count": 25,
   "id": "widespread-anime",
   "metadata": {},
   "outputs": [
    {
     "data": {
      "text/plain": [
       "18"
      ]
     },
     "execution_count": 25,
     "metadata": {},
     "output_type": "execute_result"
    }
   ],
   "source": [
    "len(fn[fn['Total Parl Results'] != 0])"
   ]
  },
  {
   "cell_type": "markdown",
   "id": "transparent-shuttle",
   "metadata": {},
   "source": [
    "# Fullnames Latin"
   ]
  },
  {
   "cell_type": "code",
   "execution_count": 3,
   "id": "level-tattoo",
   "metadata": {},
   "outputs": [
    {
     "data": {
      "text/html": [
       "<div>\n",
       "<style scoped>\n",
       "    .dataframe tbody tr th:only-of-type {\n",
       "        vertical-align: middle;\n",
       "    }\n",
       "\n",
       "    .dataframe tbody tr th {\n",
       "        vertical-align: top;\n",
       "    }\n",
       "\n",
       "    .dataframe thead th {\n",
       "        text-align: right;\n",
       "    }\n",
       "</style>\n",
       "<table border=\"1\" class=\"dataframe\">\n",
       "  <thead>\n",
       "    <tr style=\"text-align: right;\">\n",
       "      <th></th>\n",
       "      <th>Name (Long)</th>\n",
       "      <th>Surname</th>\n",
       "      <th>Name</th>\n",
       "      <th>Party</th>\n",
       "      <th>Twitter Handle</th>\n",
       "      <th>Result 1</th>\n",
       "      <th>Result 2</th>\n",
       "      <th>Result 3</th>\n",
       "      <th>Result 4</th>\n",
       "      <th>Result 5</th>\n",
       "      <th>Result 6</th>\n",
       "      <th>Result 7</th>\n",
       "      <th>Result 8</th>\n",
       "    </tr>\n",
       "  </thead>\n",
       "  <tbody>\n",
       "    <tr>\n",
       "      <th>0</th>\n",
       "      <td>Βιλιάρδος Διονυσίου Βασίλειος</td>\n",
       "      <td>Βιλιάρδος</td>\n",
       "      <td>Βιλιάρδος Βασίλειος</td>\n",
       "      <td>ΕΛΛΗΝΙΚΗ ΛΥΣΗ</td>\n",
       "      <td>ViliardosV</td>\n",
       "      <td>@ViliardosV</td>\n",
       "      <td>@ViliardosV</td>\n",
       "      <td></td>\n",
       "      <td></td>\n",
       "      <td></td>\n",
       "      <td></td>\n",
       "      <td></td>\n",
       "      <td></td>\n",
       "    </tr>\n",
       "    <tr>\n",
       "      <th>1</th>\n",
       "      <td>Αλεξοπούλου Κωνσταντίνου Αναστασία - Αικατερίνη</td>\n",
       "      <td>Αλεξοπούλου</td>\n",
       "      <td>Αλεξοπούλου Αικατερίνη</td>\n",
       "      <td>ΕΛΛΗΝΙΚΗ ΛΥΣΗ</td>\n",
       "      <td>anaik2020</td>\n",
       "      <td>@anaik2020</td>\n",
       "      <td>@kkroonenberg</td>\n",
       "      <td>@djnikas</td>\n",
       "      <td></td>\n",
       "      <td></td>\n",
       "      <td></td>\n",
       "      <td></td>\n",
       "      <td></td>\n",
       "    </tr>\n",
       "    <tr>\n",
       "      <th>2</th>\n",
       "      <td>Αθανασίου Ευαγγέλου Μαρία</td>\n",
       "      <td>Αθανασίου</td>\n",
       "      <td>Αθανασίου Μαρία</td>\n",
       "      <td>ΕΛΛΗΝΙΚΗ ΛΥΣΗ</td>\n",
       "      <td>MariaAt03902914</td>\n",
       "      <td>@mariaathanasiou</td>\n",
       "      <td>@athanasiou_marios</td>\n",
       "      <td>@45b1584e2f7d481</td>\n",
       "      <td>@athinadi</td>\n",
       "      <td>@hotelthesantamaria</td>\n",
       "      <td></td>\n",
       "      <td></td>\n",
       "      <td></td>\n",
       "    </tr>\n",
       "    <tr>\n",
       "      <th>3</th>\n",
       "      <td>Βαγενάς Κωνσταντίνου Δημήτριος</td>\n",
       "      <td>Βαγενάς</td>\n",
       "      <td>Βαγενάς Δημήτριος</td>\n",
       "      <td>ΕΛΛΗΝΙΚΗ ΛΥΣΗ</td>\n",
       "      <td>B3Vagenas</td>\n",
       "      <td>@DimitriosVagen1</td>\n",
       "      <td></td>\n",
       "      <td></td>\n",
       "      <td></td>\n",
       "      <td></td>\n",
       "      <td></td>\n",
       "      <td></td>\n",
       "      <td></td>\n",
       "    </tr>\n",
       "    <tr>\n",
       "      <th>4</th>\n",
       "      <td>Ασημακοπούλου Δημητρίου Σοφία - Χάιδω</td>\n",
       "      <td>Ασημακοπούλου</td>\n",
       "      <td>Ασημακοπούλου Χάιδω</td>\n",
       "      <td>ΕΛΛΗΝΙΚΗ ΛΥΣΗ</td>\n",
       "      <td>SofAsimak</td>\n",
       "      <td>@eri__valentina</td>\n",
       "      <td>@village_gr</td>\n",
       "      <td></td>\n",
       "      <td></td>\n",
       "      <td></td>\n",
       "      <td></td>\n",
       "      <td></td>\n",
       "      <td></td>\n",
       "    </tr>\n",
       "  </tbody>\n",
       "</table>\n",
       "</div>"
      ],
      "text/plain": [
       "                                       Name (Long)        Surname  \\\n",
       "0                    Βιλιάρδος Διονυσίου Βασίλειος      Βιλιάρδος   \n",
       "1  Αλεξοπούλου Κωνσταντίνου Αναστασία - Αικατερίνη    Αλεξοπούλου   \n",
       "2                        Αθανασίου Ευαγγέλου Μαρία      Αθανασίου   \n",
       "3                   Βαγενάς Κωνσταντίνου Δημήτριος        Βαγενάς   \n",
       "4            Ασημακοπούλου Δημητρίου Σοφία - Χάιδω  Ασημακοπούλου   \n",
       "\n",
       "                     Name          Party   Twitter Handle          Result 1  \\\n",
       "0     Βιλιάρδος Βασίλειος  ΕΛΛΗΝΙΚΗ ΛΥΣΗ       ViliardosV       @ViliardosV   \n",
       "1  Αλεξοπούλου Αικατερίνη  ΕΛΛΗΝΙΚΗ ΛΥΣΗ        anaik2020        @anaik2020   \n",
       "2         Αθανασίου Μαρία  ΕΛΛΗΝΙΚΗ ΛΥΣΗ  MariaAt03902914  @mariaathanasiou   \n",
       "3       Βαγενάς Δημήτριος  ΕΛΛΗΝΙΚΗ ΛΥΣΗ        B3Vagenas  @DimitriosVagen1   \n",
       "4     Ασημακοπούλου Χάιδω  ΕΛΛΗΝΙΚΗ ΛΥΣΗ        SofAsimak   @eri__valentina   \n",
       "\n",
       "             Result 2          Result 3   Result 4             Result 5  \\\n",
       "0         @ViliardosV                                                     \n",
       "1       @kkroonenberg          @djnikas                                   \n",
       "2  @athanasiou_marios  @45b1584e2f7d481  @athinadi  @hotelthesantamaria   \n",
       "3                                                                         \n",
       "4         @village_gr                                                     \n",
       "\n",
       "  Result 6 Result 7 Result 8  \n",
       "0                             \n",
       "1                             \n",
       "2                             \n",
       "3                             \n",
       "4                             "
      ]
     },
     "execution_count": 3,
     "metadata": {},
     "output_type": "execute_result"
    }
   ],
   "source": [
    "fn = pd.read_csv('Google-Search-FullnamesLatin-Parliament-Members.csv')\n",
    "fn = fn.replace(np.nan, '')\n",
    "fn.head()"
   ]
  },
  {
   "cell_type": "code",
   "execution_count": 4,
   "id": "streaming-liabilities",
   "metadata": {},
   "outputs": [],
   "source": [
    "def get_ids(df):\n",
    "    true_id = []\n",
    "    for acc in tqdm(df):\n",
    "        if acc != '':\n",
    "            try:\n",
    "                user = API.get_user(acc)\n",
    "                true_id.append(user.id)\n",
    "            except:\n",
    "                print(acc)\n",
    "                true_id.append(0)\n",
    "        else:\n",
    "            true_id.append(0)\n",
    "    return true_id"
   ]
  },
  {
   "cell_type": "code",
   "execution_count": 5,
   "id": "laden-publisher",
   "metadata": {
    "collapsed": true,
    "jupyter": {
     "outputs_hidden": true
    }
   },
   "outputs": [
    {
     "data": {
      "application/vnd.jupyter.widget-view+json": {
       "model_id": "63cc55a32f1848b88d04b9691c350512",
       "version_major": 2,
       "version_minor": 0
      },
      "text/plain": [
       "  0%|          | 0/300 [00:00<?, ?it/s]"
      ]
     },
     "metadata": {},
     "output_type": "display_data"
    },
    {
     "name": "stdout",
     "output_type": "stream",
     "text": [
      "xtarantilis\n",
      "katsafados\n",
      "stergiannakis\n"
     ]
    },
    {
     "data": {
      "application/vnd.jupyter.widget-view+json": {
       "model_id": "c757f1bf081e4188a4883844656e27e6",
       "version_major": 2,
       "version_minor": 0
      },
      "text/plain": [
       "  0%|          | 0/300 [00:00<?, ?it/s]"
      ]
     },
     "metadata": {},
     "output_type": "display_data"
    },
    {
     "name": "stdout",
     "output_type": "stream",
     "text": [
      "@eri__valentina\n",
      "@konstantinopoulosa\n",
      "@mariaapatzidi\n",
      "@bakadima_fotini\n",
      "@panagiotispikramenos\n",
      "@constantinosbogdanos\n",
      "@olgakefalogianni\n",
      "@liza_tuktik\n",
      "@papanikolaou_dim\n",
      "@rapti_elena_official\n",
      "@stratis_koukou\n",
      "@kasestia\n",
      "@marilenasoukouli\n",
      "@katerina_monogiou\n",
      "@philip_fortomas\n",
      "@evripidisstylianidis\n",
      "@leontaridis_theofilos\n",
      "@manosvynichakis\n",
      "@3pfamilia\n",
      "@rallia_\n",
      "@hippocratespsycho\n"
     ]
    },
    {
     "data": {
      "application/vnd.jupyter.widget-view+json": {
       "model_id": "fa037c636aff46bc9fa2f4c7dcf2af65",
       "version_major": 2,
       "version_minor": 0
      },
      "text/plain": [
       "  0%|          | 0/300 [00:00<?, ?it/s]"
      ]
     },
     "metadata": {},
     "output_type": "display_data"
    },
    {
     "name": "stdout",
     "output_type": "stream",
     "text": [
      "@athanasiou_marios\n",
      "@paulodybala\n",
      "@takistheodorikakos\n",
      "@nitra_gallery\n",
      "@kostis_hatzidakis\n",
      "@miltiadisvarvitsiotis\n",
      "@anna_michelle_nd\n",
      "@spilioslivanos\n",
      "@tsavdaridislazaros\n",
      "@anna_michelle_nd\n",
      "@alexandra__panagiotarou\n",
      "@irinapapasynnefaki\n",
      "@anna_michelle_nd\n",
      "@miltoschrysomallis\n",
      "@constantinosbogdanos\n",
      "@archaeostoryteller\n",
      "@dbakoyannis\n",
      "@emiliosmarku\n",
      "@notopoulou_katerina\n",
      "@annavictoria\n",
      "@eirini_papadopoulou\n"
     ]
    },
    {
     "data": {
      "application/vnd.jupyter.widget-view+json": {
       "model_id": "72ad12fde86e474f96437b499c0f7ec0",
       "version_major": 2,
       "version_minor": 0
      },
      "text/plain": [
       "  0%|          | 0/300 [00:00<?, ?it/s]"
      ]
     },
     "metadata": {},
     "output_type": "display_data"
    },
    {
     "name": "stdout",
     "output_type": "stream",
     "text": [
      "@staehlekarine\n",
      "@vasilis_kekatos\n",
      "@mitoo44\n",
      "@atzitzikostas\n",
      "@anna_michelle_nd\n",
      "@manosvynichakis\n",
      "@sofia_zacharaki\n",
      "@k_diminakis\n",
      "@savvas_chionidis\n",
      "@arampatzifoteini\n",
      "@georgepapakostas\n",
      "@mariaapatzidi\n",
      "@rallia_\n"
     ]
    },
    {
     "data": {
      "application/vnd.jupyter.widget-view+json": {
       "model_id": "9adb6beb77d74dfa9833d99544c200a9",
       "version_major": 2,
       "version_minor": 0
      },
      "text/plain": [
       "  0%|          | 0/300 [00:00<?, ?it/s]"
      ]
     },
     "metadata": {},
     "output_type": "display_data"
    },
    {
     "name": "stdout",
     "output_type": "stream",
     "text": [
      "@voularinos\n",
      "@vassilistsigkristaris\n",
      "@officialdannytrejo\n",
      "@dora_panteli_\n",
      "@3pfamilia\n",
      "@omada_ypefthinotitas\n",
      "@kostasbakoyannis\n",
      "@arampatzifoteini\n",
      "@kostasbakoyannis\n"
     ]
    },
    {
     "data": {
      "application/vnd.jupyter.widget-view+json": {
       "model_id": "2cefa8b8f56b43edb0a5b6e0c195f320",
       "version_major": 2,
       "version_minor": 0
      },
      "text/plain": [
       "  0%|          | 0/300 [00:00<?, ?it/s]"
      ]
     },
     "metadata": {},
     "output_type": "display_data"
    },
    {
     "name": "stdout",
     "output_type": "stream",
     "text": [
      "@hotelthesantamaria\n",
      "@kostasbakoyannis\n",
      "@man_chr_\n",
      "@marevagrabowskimitsotaki\n",
      "@katerina_monogiou\n"
     ]
    },
    {
     "data": {
      "application/vnd.jupyter.widget-view+json": {
       "model_id": "637532dd1fc545b0b94be2090c8cfce8",
       "version_major": 2,
       "version_minor": 0
      },
      "text/plain": [
       "  0%|          | 0/300 [00:00<?, ?it/s]"
      ]
     },
     "metadata": {},
     "output_type": "display_data"
    },
    {
     "name": "stdout",
     "output_type": "stream",
     "text": [
      "@sofia_zacharaki\n",
      "@mariaapatzidi\n"
     ]
    },
    {
     "data": {
      "application/vnd.jupyter.widget-view+json": {
       "model_id": "e64d115b45154415b0d5a887d4f7f033",
       "version_major": 2,
       "version_minor": 0
      },
      "text/plain": [
       "  0%|          | 0/300 [00:00<?, ?it/s]"
      ]
     },
     "metadata": {},
     "output_type": "display_data"
    },
    {
     "name": "stdout",
     "output_type": "stream",
     "text": [
      "@dkampolis_official\n"
     ]
    }
   ],
   "source": [
    "cols = ['Twitter Handle']\n",
    "cols += [f'Result {i+1}' for i in range(7)]\n",
    "for col in cols:\n",
    "    fn[col] = get_ids(fn[col])"
   ]
  },
  {
   "cell_type": "markdown",
   "id": "transparent-gauge",
   "metadata": {},
   "source": [
    "## With a Twitter Account "
   ]
  },
  {
   "cell_type": "code",
   "execution_count": 6,
   "id": "dominican-strike",
   "metadata": {},
   "outputs": [],
   "source": [
    "fn_acc = fn[fn['Twitter Handle'] != 0].copy() "
   ]
  },
  {
   "cell_type": "code",
   "execution_count": 7,
   "id": "likely-probability",
   "metadata": {},
   "outputs": [],
   "source": [
    "top1 = [False for i in range(len(fn_acc))]\n",
    "top5 = [False for i in range(len(fn_acc))]\n",
    "top10 = [False for i in range(len(fn_acc))]\n",
    "\n",
    "for i, acc in enumerate(fn_acc['Twitter Handle']):\n",
    "    for j,res in enumerate(fn_acc[[f'Result {k+1}' for k in range(7)]].iloc[i].unique()):\n",
    "        if acc == res:\n",
    "            if j < 1:\n",
    "                top1[i] = True\n",
    "            elif 0 < j < 6:\n",
    "                top5[i] = True\n",
    "            else:\n",
    "                top10[j] = True"
   ]
  },
  {
   "cell_type": "code",
   "execution_count": 8,
   "id": "unable-vessel",
   "metadata": {},
   "outputs": [],
   "source": [
    "found = [a or b or c for a,b,c in zip(top1,top5,top10)]"
   ]
  },
  {
   "cell_type": "code",
   "execution_count": 9,
   "id": "competitive-image",
   "metadata": {},
   "outputs": [
    {
     "data": {
      "text/plain": [
       "<matplotlib.legend.Legend at 0x7fb8c0212730>"
      ]
     },
     "execution_count": 9,
     "metadata": {},
     "output_type": "execute_result"
    },
    {
     "data": {
      "image/png": "[encoded data removed]",
      "text/plain": [
       "<Figure size 432x288 with 1 Axes>"
      ]
     },
     "metadata": {},
     "output_type": "display_data"
    }
   ],
   "source": [
    "fig, ax = plt.subplots()\n",
    "color_palette_list = ['#009BD0', '#00BDCC', '#ADD8E6']\n",
    "\n",
    "plt.rcParams['font.sans-serif'] = 'Arial'\n",
    "plt.rcParams['font.family'] = 'sans-serif'\n",
    "plt.rcParams['text.color'] = 'black'\n",
    "plt.rcParams['axes.labelcolor']= 'black'\n",
    "plt.rcParams['xtick.color'] = 'black'\n",
    "plt.rcParams['ytick.color'] = 'black'\n",
    "plt.rcParams['font.size']=14\n",
    "\n",
    "x = [top1.count(True), top5.count(True), found.count(False)]\n",
    "labels = ['Top 1', 'Top 5' ,'Was not found']\n",
    "_=ax.pie(x, colors=color_palette_list,\n",
    "         autopct='%1.0f%%', shadow=True, startangle=90, pctdistance=0.5,labeldistance=1.3, explode=(0.01,0.01,0.2))\n",
    "ax.legend(frameon=True, bbox_to_anchor=(1,0.75), labels=labels)"
   ]
  },
  {
   "cell_type": "markdown",
   "id": "north-heaven",
   "metadata": {},
   "source": [
    "### Export Results"
   ]
  },
  {
   "cell_type": "code",
   "execution_count": 20,
   "id": "republican-vegetarian",
   "metadata": {},
   "outputs": [
    {
     "data": {
      "text/html": [
       "<div>\n",
       "<style scoped>\n",
       "    .dataframe tbody tr th:only-of-type {\n",
       "        vertical-align: middle;\n",
       "    }\n",
       "\n",
       "    .dataframe tbody tr th {\n",
       "        vertical-align: top;\n",
       "    }\n",
       "\n",
       "    .dataframe thead th {\n",
       "        text-align: right;\n",
       "    }\n",
       "</style>\n",
       "<table border=\"1\" class=\"dataframe\">\n",
       "  <thead>\n",
       "    <tr style=\"text-align: right;\">\n",
       "      <th></th>\n",
       "      <th>Name</th>\n",
       "      <th>GoogleAPI Fullnames</th>\n",
       "      <th>GoogleAPI Surnames</th>\n",
       "      <th>TwitterAPI Fullnames</th>\n",
       "      <th>TwitterAPI Surnames</th>\n",
       "      <th>TwitterAPI SurnamesLatin</th>\n",
       "    </tr>\n",
       "  </thead>\n",
       "  <tbody>\n",
       "    <tr>\n",
       "      <th>0</th>\n",
       "      <td>Βιλιάρδος Βασίλειος</td>\n",
       "      <td>True</td>\n",
       "      <td>True</td>\n",
       "      <td>False</td>\n",
       "      <td>True</td>\n",
       "      <td>True</td>\n",
       "    </tr>\n",
       "    <tr>\n",
       "      <th>1</th>\n",
       "      <td>Αλεξοπούλου Αικατερίνη</td>\n",
       "      <td>True</td>\n",
       "      <td>False</td>\n",
       "      <td>False</td>\n",
       "      <td>False</td>\n",
       "      <td>False</td>\n",
       "    </tr>\n",
       "    <tr>\n",
       "      <th>2</th>\n",
       "      <td>Αθανασίου Μαρία</td>\n",
       "      <td>True</td>\n",
       "      <td>False</td>\n",
       "      <td>False</td>\n",
       "      <td>False</td>\n",
       "      <td>False</td>\n",
       "    </tr>\n",
       "    <tr>\n",
       "      <th>3</th>\n",
       "      <td>Βαγενάς Δημήτριος</td>\n",
       "      <td>True</td>\n",
       "      <td>True</td>\n",
       "      <td>False</td>\n",
       "      <td>False</td>\n",
       "      <td>False</td>\n",
       "    </tr>\n",
       "    <tr>\n",
       "      <th>4</th>\n",
       "      <td>Ασημακοπούλου Χάιδω</td>\n",
       "      <td>False</td>\n",
       "      <td>False</td>\n",
       "      <td>False</td>\n",
       "      <td>True</td>\n",
       "      <td>False</td>\n",
       "    </tr>\n",
       "  </tbody>\n",
       "</table>\n",
       "</div>"
      ],
      "text/plain": [
       "                     Name  GoogleAPI Fullnames  GoogleAPI Surnames  \\\n",
       "0     Βιλιάρδος Βασίλειος                 True                True   \n",
       "1  Αλεξοπούλου Αικατερίνη                 True               False   \n",
       "2         Αθανασίου Μαρία                 True               False   \n",
       "3       Βαγενάς Δημήτριος                 True                True   \n",
       "4     Ασημακοπούλου Χάιδω                False               False   \n",
       "\n",
       "   TwitterAPI Fullnames  TwitterAPI Surnames  TwitterAPI SurnamesLatin  \n",
       "0                 False                 True                      True  \n",
       "1                 False                False                     False  \n",
       "2                 False                False                     False  \n",
       "3                 False                False                     False  \n",
       "4                 False                 True                     False  "
      ]
     },
     "execution_count": 20,
     "metadata": {},
     "output_type": "execute_result"
    }
   ],
   "source": [
    "temp = pd.read_csv('../result-method-parliament-member-search.csv')\n",
    "temp.head()"
   ]
  },
  {
   "cell_type": "code",
   "execution_count": 21,
   "id": "communist-tourist",
   "metadata": {},
   "outputs": [],
   "source": [
    "temp['GoogleAPI SurnamesLatin'] = found"
   ]
  },
  {
   "cell_type": "code",
   "execution_count": 23,
   "id": "genetic-circus",
   "metadata": {},
   "outputs": [],
   "source": [
    "temp.to_csv('../result-method-parliament-member-search.csv', index=False)"
   ]
  },
  {
   "cell_type": "code",
   "execution_count": 24,
   "id": "based-vanilla",
   "metadata": {},
   "outputs": [],
   "source": [
    "del temp"
   ]
  },
  {
   "cell_type": "markdown",
   "id": "therapeutic-convertible",
   "metadata": {},
   "source": [
    "## Without a Twitter Account "
   ]
  },
  {
   "cell_type": "code",
   "execution_count": 10,
   "id": "personal-return",
   "metadata": {},
   "outputs": [],
   "source": [
    "target_names = ['Has an Account', 'Does not have a Account']"
   ]
  },
  {
   "cell_type": "code",
   "execution_count": 11,
   "id": "friendly-supervisor",
   "metadata": {},
   "outputs": [],
   "source": [
    "fn_noacc = fn[fn['Twitter Handle'] == 0].copy() "
   ]
  },
  {
   "cell_type": "code",
   "execution_count": 12,
   "id": "settled-saturn",
   "metadata": {},
   "outputs": [],
   "source": [
    "correct = []\n",
    "for i, acc in enumerate(fn_noacc['Twitter Handle']):\n",
    "    if acc == fn_noacc['Result 1'].iloc[i]:\n",
    "        correct.append(True)\n",
    "    else:\n",
    "        correct.append(False)         "
   ]
  },
  {
   "cell_type": "code",
   "execution_count": 13,
   "id": "complimentary-pickup",
   "metadata": {},
   "outputs": [
    {
     "data": {
      "text/plain": [
       "(39, 23)"
      ]
     },
     "execution_count": 13,
     "metadata": {},
     "output_type": "execute_result"
    }
   ],
   "source": [
    "correct.count(True), correct.count(False)"
   ]
  },
  {
   "cell_type": "markdown",
   "id": "sonic-fishing",
   "metadata": {},
   "source": [
    "## Final Results"
   ]
  },
  {
   "cell_type": "code",
   "execution_count": 14,
   "id": "southeast-miller",
   "metadata": {},
   "outputs": [
    {
     "data": {
      "text/plain": [
       "array([[131,  39],\n",
       "       [107,  23]])"
      ]
     },
     "execution_count": 14,
     "metadata": {},
     "output_type": "execute_result"
    }
   ],
   "source": [
    "fin_result = np.array([[found.count(True),correct.count(True)],\n",
    "                      [found.count(False),correct.count(False)]])\n",
    "fin_result"
   ]
  },
  {
   "cell_type": "code",
   "execution_count": 15,
   "id": "architectural-villa",
   "metadata": {},
   "outputs": [
    {
     "data": {
      "text/plain": [
       "<AxesSubplot:>"
      ]
     },
     "execution_count": 15,
     "metadata": {},
     "output_type": "execute_result"
    },
    {
     "data": {
      "image/png": "[encoded data removed]",
      "text/plain": [
       "<Figure size 432x288 with 1 Axes>"
      ]
     },
     "metadata": {
      "needs_background": "light"
     },
     "output_type": "display_data"
    }
   ],
   "source": [
    "pd.DataFrame(fin_result, \n",
    "             columns=['Uses Twitter', 'Does not use Twitter'], \n",
    "             index=['Correct', 'Incorrect']).T.plot(kind='barh')"
   ]
  },
  {
   "cell_type": "markdown",
   "id": "formed-tulsa",
   "metadata": {},
   "source": [
    "## Do Result Include other Parliament Members ?"
   ]
  },
  {
   "cell_type": "code",
   "execution_count": 16,
   "id": "adolescent-particle",
   "metadata": {},
   "outputs": [],
   "source": [
    "par_accs = list(fn_acc['Twitter Handle'])"
   ]
  },
  {
   "cell_type": "code",
   "execution_count": 17,
   "id": "postal-telling",
   "metadata": {},
   "outputs": [],
   "source": [
    "counts = [0 for i in range(len(fn))]\n",
    "for i, tr in enumerate(fn['Twitter Handle']):\n",
    "    for j,res in enumerate(fn[[f'Result {k+1}' for k in range(7)]].iloc[i].unique()):\n",
    "        for acc in par_accs:\n",
    "            if res == acc and res != tr:\n",
    "                counts[i] += 1"
   ]
  },
  {
   "cell_type": "code",
   "execution_count": 18,
   "id": "macro-diamond",
   "metadata": {},
   "outputs": [],
   "source": [
    "fn['Total Parl Results'] = counts"
   ]
  },
  {
   "cell_type": "code",
   "execution_count": 19,
   "id": "comparative-driver",
   "metadata": {},
   "outputs": [
    {
     "data": {
      "text/plain": [
       "14"
      ]
     },
     "execution_count": 19,
     "metadata": {},
     "output_type": "execute_result"
    }
   ],
   "source": [
    "len(fn[fn['Total Parl Results'] != 0])"
   ]
  },
  {
   "cell_type": "markdown",
   "id": "applicable-tamil",
   "metadata": {},
   "source": [
    "# Classifier ND"
   ]
  },
  {
   "cell_type": "markdown",
   "id": "stopped-textbook",
   "metadata": {},
   "source": [
    "# Fullnames"
   ]
  },
  {
   "cell_type": "code",
   "execution_count": 4,
   "id": "instrumental-liability",
   "metadata": {},
   "outputs": [
    {
     "data": {
      "text/html": [
       "<div>\n",
       "<style scoped>\n",
       "    .dataframe tbody tr th:only-of-type {\n",
       "        vertical-align: middle;\n",
       "    }\n",
       "\n",
       "    .dataframe tbody tr th {\n",
       "        vertical-align: top;\n",
       "    }\n",
       "\n",
       "    .dataframe thead th {\n",
       "        text-align: right;\n",
       "    }\n",
       "</style>\n",
       "<table border=\"1\" class=\"dataframe\">\n",
       "  <thead>\n",
       "    <tr style=\"text-align: right;\">\n",
       "      <th></th>\n",
       "      <th>Name (Long)</th>\n",
       "      <th>Surname</th>\n",
       "      <th>Name</th>\n",
       "      <th>Party</th>\n",
       "      <th>Twitter Handle</th>\n",
       "      <th>Result 1</th>\n",
       "      <th>Result 2</th>\n",
       "      <th>Result 3</th>\n",
       "      <th>Result 4</th>\n",
       "      <th>Result 5</th>\n",
       "      <th>Result 6</th>\n",
       "      <th>Result 7</th>\n",
       "    </tr>\n",
       "  </thead>\n",
       "  <tbody>\n",
       "    <tr>\n",
       "      <th>0</th>\n",
       "      <td>Βιλιάρδος Διονυσίου Βασίλειος</td>\n",
       "      <td>Βιλιάρδος</td>\n",
       "      <td>Βιλιάρδος Βασίλειος</td>\n",
       "      <td>ΕΛΛΗΝΙΚΗ ΛΥΣΗ</td>\n",
       "      <td>174226430</td>\n",
       "      <td>174226430</td>\n",
       "      <td>0</td>\n",
       "      <td>0</td>\n",
       "      <td>0</td>\n",
       "      <td>0</td>\n",
       "      <td>0</td>\n",
       "      <td>0</td>\n",
       "    </tr>\n",
       "    <tr>\n",
       "      <th>1</th>\n",
       "      <td>Αλεξοπούλου Κωνσταντίνου Αναστασία - Αικατερίνη</td>\n",
       "      <td>Αλεξοπούλου</td>\n",
       "      <td>Αλεξοπούλου Αικατερίνη</td>\n",
       "      <td>ΕΛΛΗΝΙΚΗ ΛΥΣΗ</td>\n",
       "      <td>1168241295149740038</td>\n",
       "      <td>1168241295149740032</td>\n",
       "      <td>0</td>\n",
       "      <td>0</td>\n",
       "      <td>0</td>\n",
       "      <td>0</td>\n",
       "      <td>0</td>\n",
       "      <td>0</td>\n",
       "    </tr>\n",
       "    <tr>\n",
       "      <th>2</th>\n",
       "      <td>Αθανασίου Ευαγγέλου Μαρία</td>\n",
       "      <td>Αθανασίου</td>\n",
       "      <td>Αθανασίου Μαρία</td>\n",
       "      <td>ΕΛΛΗΝΙΚΗ ΛΥΣΗ</td>\n",
       "      <td>1153988844498444288</td>\n",
       "      <td>1153988844498444288</td>\n",
       "      <td>0</td>\n",
       "      <td>0</td>\n",
       "      <td>0</td>\n",
       "      <td>0</td>\n",
       "      <td>0</td>\n",
       "      <td>0</td>\n",
       "    </tr>\n",
       "    <tr>\n",
       "      <th>3</th>\n",
       "      <td>Βαγενάς Κωνσταντίνου Δημήτριος</td>\n",
       "      <td>Βαγενάς</td>\n",
       "      <td>Βαγενάς Δημήτριος</td>\n",
       "      <td>ΕΛΛΗΝΙΚΗ ΛΥΣΗ</td>\n",
       "      <td>1302266183790604290</td>\n",
       "      <td>1302266183790604288</td>\n",
       "      <td>0</td>\n",
       "      <td>0</td>\n",
       "      <td>0</td>\n",
       "      <td>0</td>\n",
       "      <td>0</td>\n",
       "      <td>0</td>\n",
       "    </tr>\n",
       "    <tr>\n",
       "      <th>4</th>\n",
       "      <td>Ασημακοπούλου Δημητρίου Σοφία - Χάιδω</td>\n",
       "      <td>Ασημακοπούλου</td>\n",
       "      <td>Ασημακοπούλου Χάιδω</td>\n",
       "      <td>ΕΛΛΗΝΙΚΗ ΛΥΣΗ</td>\n",
       "      <td>1148229718627540992</td>\n",
       "      <td>0</td>\n",
       "      <td>0</td>\n",
       "      <td>0</td>\n",
       "      <td>0</td>\n",
       "      <td>0</td>\n",
       "      <td>0</td>\n",
       "      <td>0</td>\n",
       "    </tr>\n",
       "  </tbody>\n",
       "</table>\n",
       "</div>"
      ],
      "text/plain": [
       "                                       Name (Long)        Surname  \\\n",
       "0                    Βιλιάρδος Διονυσίου Βασίλειος      Βιλιάρδος   \n",
       "1  Αλεξοπούλου Κωνσταντίνου Αναστασία - Αικατερίνη    Αλεξοπούλου   \n",
       "2                        Αθανασίου Ευαγγέλου Μαρία      Αθανασίου   \n",
       "3                   Βαγενάς Κωνσταντίνου Δημήτριος        Βαγενάς   \n",
       "4            Ασημακοπούλου Δημητρίου Σοφία - Χάιδω  Ασημακοπούλου   \n",
       "\n",
       "                     Name          Party       Twitter Handle  \\\n",
       "0     Βιλιάρδος Βασίλειος  ΕΛΛΗΝΙΚΗ ΛΥΣΗ            174226430   \n",
       "1  Αλεξοπούλου Αικατερίνη  ΕΛΛΗΝΙΚΗ ΛΥΣΗ  1168241295149740038   \n",
       "2         Αθανασίου Μαρία  ΕΛΛΗΝΙΚΗ ΛΥΣΗ  1153988844498444288   \n",
       "3       Βαγενάς Δημήτριος  ΕΛΛΗΝΙΚΗ ΛΥΣΗ  1302266183790604290   \n",
       "4     Ασημακοπούλου Χάιδω  ΕΛΛΗΝΙΚΗ ΛΥΣΗ  1148229718627540992   \n",
       "\n",
       "              Result 1  Result 2  Result 3  Result 4  Result 5  Result 6  \\\n",
       "0            174226430         0         0         0         0         0   \n",
       "1  1168241295149740032         0         0         0         0         0   \n",
       "2  1153988844498444288         0         0         0         0         0   \n",
       "3  1302266183790604288         0         0         0         0         0   \n",
       "4                    0         0         0         0         0         0   \n",
       "\n",
       "   Result 7  \n",
       "0         0  \n",
       "1         0  \n",
       "2         0  \n",
       "3         0  \n",
       "4         0  "
      ]
     },
     "execution_count": 4,
     "metadata": {},
     "output_type": "execute_result"
    }
   ],
   "source": [
    "fn = pd.read_csv('Google-Search-Fullnames-ClassifierND-Parliament-Members.csv')\n",
    "fn = fn.replace(np.nan, '')\n",
    "fn.head()"
   ]
  },
  {
   "cell_type": "code",
   "execution_count": 6,
   "id": "reported-sacrifice",
   "metadata": {},
   "outputs": [],
   "source": [
    "result = []\n",
    "for i in fn.index:\n",
    "    temp = list(fn[['Result 1', 'Result 2']].iloc[i])\n",
    "    temp = [item for item in temp if item != 0]\n",
    "    if not temp:\n",
    "        temp += [0,0]\n",
    "    elif len(temp) == 1:\n",
    "        temp += [0]\n",
    "    result.append(temp)\n",
    "result = np.array(result)\n",
    "fn['Result 1'] = result[:,0]\n",
    "fn['Result 2'] = result[:,1]"
   ]
  },
  {
   "cell_type": "markdown",
   "id": "german-methodology",
   "metadata": {},
   "source": [
    "## With a Twitter Account "
   ]
  },
  {
   "cell_type": "code",
   "execution_count": 7,
   "id": "helpful-vision",
   "metadata": {},
   "outputs": [],
   "source": [
    "fn_acc = fn[fn['Twitter Handle'] != 0].copy() "
   ]
  },
  {
   "cell_type": "code",
   "execution_count": 8,
   "id": "essential-alert",
   "metadata": {},
   "outputs": [],
   "source": [
    "top1 = [False for i in range(len(fn_acc))]\n",
    "top5 = [False for i in range(len(fn_acc))]\n",
    "top10 = [False for i in range(len(fn_acc))]\n",
    "\n",
    "for i, acc in enumerate(fn_acc['Twitter Handle']):\n",
    "    for j,res in enumerate(fn_acc[[f'Result {k+1}' for k in range(7)]].iloc[i].unique()):\n",
    "        if acc == res:\n",
    "            if j < 1:\n",
    "                top1[i] = True\n",
    "            elif 0 < j < 6:\n",
    "                top5[i] = True\n",
    "            else:\n",
    "                top10[j] = True"
   ]
  },
  {
   "cell_type": "code",
   "execution_count": 9,
   "id": "foster-transcription",
   "metadata": {},
   "outputs": [],
   "source": [
    "found = [a or b or c for a,b,c in zip(top1,top5,top10)]"
   ]
  },
  {
   "cell_type": "code",
   "execution_count": 10,
   "id": "indirect-triumph",
   "metadata": {},
   "outputs": [
    {
     "data": {
      "text/plain": [
       "<matplotlib.legend.Legend at 0x7fce5d696c10>"
      ]
     },
     "execution_count": 10,
     "metadata": {},
     "output_type": "execute_result"
    },
    {
     "data": {
      "image/png": "[encoded data removed]",
      "text/plain": [
       "<Figure size 432x288 with 1 Axes>"
      ]
     },
     "metadata": {},
     "output_type": "display_data"
    }
   ],
   "source": [
    "fig, ax = plt.subplots()\n",
    "color_palette_list = ['#009BD0', '#00BDCC', '#ADD8E6']\n",
    "\n",
    "plt.rcParams['font.sans-serif'] = 'Arial'\n",
    "plt.rcParams['font.family'] = 'sans-serif'\n",
    "plt.rcParams['text.color'] = 'black'\n",
    "plt.rcParams['axes.labelcolor']= 'black'\n",
    "plt.rcParams['xtick.color'] = 'black'\n",
    "plt.rcParams['ytick.color'] = 'black'\n",
    "plt.rcParams['font.size']=14\n",
    "\n",
    "x = [top1.count(True), top5.count(True), found.count(False)]\n",
    "labels = ['Top 1', 'Top 5' ,'Was not found']\n",
    "_=ax.pie(x, colors=color_palette_list,\n",
    "         autopct='%1.0f%%', shadow=True, startangle=90, pctdistance=0.5,labeldistance=1.3, explode=(0.01,0.01,0.2))\n",
    "ax.legend(frameon=True, bbox_to_anchor=(1,0.75), labels=labels)"
   ]
  },
  {
   "cell_type": "markdown",
   "id": "employed-disney",
   "metadata": {},
   "source": [
    "## Without a Twitter Account "
   ]
  },
  {
   "cell_type": "code",
   "execution_count": 11,
   "id": "stylish-vintage",
   "metadata": {},
   "outputs": [],
   "source": [
    "target_names = ['Has an Account', 'Does not have a Account']"
   ]
  },
  {
   "cell_type": "code",
   "execution_count": 12,
   "id": "starting-march",
   "metadata": {},
   "outputs": [],
   "source": [
    "fn_noacc = fn[fn['Twitter Handle'] == 0].copy() "
   ]
  },
  {
   "cell_type": "code",
   "execution_count": 13,
   "id": "pursuant-green",
   "metadata": {},
   "outputs": [],
   "source": [
    "correct = []\n",
    "for i, acc in enumerate(fn_noacc['Twitter Handle']):\n",
    "    if acc == fn_noacc['Result 1'].iloc[i]:\n",
    "        correct.append(True)\n",
    "    else:\n",
    "        correct.append(False)         "
   ]
  },
  {
   "cell_type": "code",
   "execution_count": 14,
   "id": "ancient-failure",
   "metadata": {},
   "outputs": [
    {
     "data": {
      "text/plain": [
       "(56, 5)"
      ]
     },
     "execution_count": 14,
     "metadata": {},
     "output_type": "execute_result"
    }
   ],
   "source": [
    "correct.count(True), correct.count(False)"
   ]
  },
  {
   "cell_type": "markdown",
   "id": "conceptual-pacific",
   "metadata": {},
   "source": [
    "## Final Results"
   ]
  },
  {
   "cell_type": "code",
   "execution_count": 15,
   "id": "conditional-arthritis",
   "metadata": {},
   "outputs": [
    {
     "data": {
      "text/plain": [
       "array([[140,  56],\n",
       "       [ 99,   5]])"
      ]
     },
     "execution_count": 15,
     "metadata": {},
     "output_type": "execute_result"
    }
   ],
   "source": [
    "fin_result = np.array([[found.count(True),correct.count(True)],\n",
    "                      [found.count(False),correct.count(False)]])\n",
    "fin_result"
   ]
  },
  {
   "cell_type": "code",
   "execution_count": 16,
   "id": "enhanced-questionnaire",
   "metadata": {},
   "outputs": [
    {
     "data": {
      "text/plain": [
       "<AxesSubplot:>"
      ]
     },
     "execution_count": 16,
     "metadata": {},
     "output_type": "execute_result"
    },
    {
     "data": {
      "image/png": "[encoded data removed]",
      "text/plain": [
       "<Figure size 432x288 with 1 Axes>"
      ]
     },
     "metadata": {
      "needs_background": "light"
     },
     "output_type": "display_data"
    }
   ],
   "source": [
    "pd.DataFrame(fin_result, \n",
    "             columns=['Uses Twitter', 'Does not use Twitter'], \n",
    "             index=['Correct', 'Incorrect']).T.plot(kind='barh')"
   ]
  },
  {
   "cell_type": "markdown",
   "id": "choice-dayton",
   "metadata": {},
   "source": [
    "# Surnames"
   ]
  },
  {
   "cell_type": "code",
   "execution_count": 18,
   "id": "expected-berry",
   "metadata": {},
   "outputs": [
    {
     "data": {
      "text/html": [
       "<div>\n",
       "<style scoped>\n",
       "    .dataframe tbody tr th:only-of-type {\n",
       "        vertical-align: middle;\n",
       "    }\n",
       "\n",
       "    .dataframe tbody tr th {\n",
       "        vertical-align: top;\n",
       "    }\n",
       "\n",
       "    .dataframe thead th {\n",
       "        text-align: right;\n",
       "    }\n",
       "</style>\n",
       "<table border=\"1\" class=\"dataframe\">\n",
       "  <thead>\n",
       "    <tr style=\"text-align: right;\">\n",
       "      <th></th>\n",
       "      <th>Name (Long)</th>\n",
       "      <th>Surname</th>\n",
       "      <th>Name</th>\n",
       "      <th>Party</th>\n",
       "      <th>Twitter Handle</th>\n",
       "      <th>Result 1</th>\n",
       "      <th>Result 2</th>\n",
       "      <th>Result 3</th>\n",
       "      <th>Result 4</th>\n",
       "      <th>Result 5</th>\n",
       "      <th>Result 6</th>\n",
       "      <th>Result 7</th>\n",
       "    </tr>\n",
       "  </thead>\n",
       "  <tbody>\n",
       "    <tr>\n",
       "      <th>0</th>\n",
       "      <td>Βιλιάρδος Διονυσίου Βασίλειος</td>\n",
       "      <td>Βιλιάρδος</td>\n",
       "      <td>Βιλιάρδος Βασίλειος</td>\n",
       "      <td>ΕΛΛΗΝΙΚΗ ΛΥΣΗ</td>\n",
       "      <td>174226430</td>\n",
       "      <td>174226430</td>\n",
       "      <td>0</td>\n",
       "      <td>0</td>\n",
       "      <td>0</td>\n",
       "      <td>0</td>\n",
       "      <td>0</td>\n",
       "      <td>0</td>\n",
       "    </tr>\n",
       "    <tr>\n",
       "      <th>1</th>\n",
       "      <td>Αλεξοπούλου Κωνσταντίνου Αναστασία - Αικατερίνη</td>\n",
       "      <td>Αλεξοπούλου</td>\n",
       "      <td>Αλεξοπούλου Αικατερίνη</td>\n",
       "      <td>ΕΛΛΗΝΙΚΗ ΛΥΣΗ</td>\n",
       "      <td>1168241295149740038</td>\n",
       "      <td>93629265</td>\n",
       "      <td>0</td>\n",
       "      <td>0</td>\n",
       "      <td>0</td>\n",
       "      <td>0</td>\n",
       "      <td>0</td>\n",
       "      <td>0</td>\n",
       "    </tr>\n",
       "    <tr>\n",
       "      <th>2</th>\n",
       "      <td>Αθανασίου Ευαγγέλου Μαρία</td>\n",
       "      <td>Αθανασίου</td>\n",
       "      <td>Αθανασίου Μαρία</td>\n",
       "      <td>ΕΛΛΗΝΙΚΗ ΛΥΣΗ</td>\n",
       "      <td>1153988844498444288</td>\n",
       "      <td>0</td>\n",
       "      <td>2840171877</td>\n",
       "      <td>0</td>\n",
       "      <td>0</td>\n",
       "      <td>0</td>\n",
       "      <td>1088970967</td>\n",
       "      <td>0</td>\n",
       "    </tr>\n",
       "    <tr>\n",
       "      <th>3</th>\n",
       "      <td>Βαγενάς Κωνσταντίνου Δημήτριος</td>\n",
       "      <td>Βαγενάς</td>\n",
       "      <td>Βαγενάς Δημήτριος</td>\n",
       "      <td>ΕΛΛΗΝΙΚΗ ΛΥΣΗ</td>\n",
       "      <td>1302266183790604290</td>\n",
       "      <td>0</td>\n",
       "      <td>1302266183790604288</td>\n",
       "      <td>0</td>\n",
       "      <td>0</td>\n",
       "      <td>0</td>\n",
       "      <td>0</td>\n",
       "      <td>0</td>\n",
       "    </tr>\n",
       "    <tr>\n",
       "      <th>4</th>\n",
       "      <td>Ασημακοπούλου Δημητρίου Σοφία - Χάιδω</td>\n",
       "      <td>Ασημακοπούλου</td>\n",
       "      <td>Ασημακοπούλου Χάιδω</td>\n",
       "      <td>ΕΛΛΗΝΙΚΗ ΛΥΣΗ</td>\n",
       "      <td>1148229718627540992</td>\n",
       "      <td>533041104</td>\n",
       "      <td>0</td>\n",
       "      <td>0</td>\n",
       "      <td>0</td>\n",
       "      <td>0</td>\n",
       "      <td>0</td>\n",
       "      <td>0</td>\n",
       "    </tr>\n",
       "  </tbody>\n",
       "</table>\n",
       "</div>"
      ],
      "text/plain": [
       "                                       Name (Long)        Surname  \\\n",
       "0                    Βιλιάρδος Διονυσίου Βασίλειος      Βιλιάρδος   \n",
       "1  Αλεξοπούλου Κωνσταντίνου Αναστασία - Αικατερίνη    Αλεξοπούλου   \n",
       "2                        Αθανασίου Ευαγγέλου Μαρία      Αθανασίου   \n",
       "3                   Βαγενάς Κωνσταντίνου Δημήτριος        Βαγενάς   \n",
       "4            Ασημακοπούλου Δημητρίου Σοφία - Χάιδω  Ασημακοπούλου   \n",
       "\n",
       "                     Name          Party       Twitter Handle   Result 1  \\\n",
       "0     Βιλιάρδος Βασίλειος  ΕΛΛΗΝΙΚΗ ΛΥΣΗ            174226430  174226430   \n",
       "1  Αλεξοπούλου Αικατερίνη  ΕΛΛΗΝΙΚΗ ΛΥΣΗ  1168241295149740038   93629265   \n",
       "2         Αθανασίου Μαρία  ΕΛΛΗΝΙΚΗ ΛΥΣΗ  1153988844498444288          0   \n",
       "3       Βαγενάς Δημήτριος  ΕΛΛΗΝΙΚΗ ΛΥΣΗ  1302266183790604290          0   \n",
       "4     Ασημακοπούλου Χάιδω  ΕΛΛΗΝΙΚΗ ΛΥΣΗ  1148229718627540992  533041104   \n",
       "\n",
       "              Result 2  Result 3  Result 4  Result 5    Result 6  Result 7  \n",
       "0                    0         0         0         0           0         0  \n",
       "1                    0         0         0         0           0         0  \n",
       "2           2840171877         0         0         0  1088970967         0  \n",
       "3  1302266183790604288         0         0         0           0         0  \n",
       "4                    0         0         0         0           0         0  "
      ]
     },
     "execution_count": 18,
     "metadata": {},
     "output_type": "execute_result"
    }
   ],
   "source": [
    "fn = pd.read_csv('Google-Search-Surnames-ClassifierND-Parliament-Members.csv')\n",
    "fn = fn.replace(np.nan, '')\n",
    "fn.head()"
   ]
  },
  {
   "cell_type": "code",
   "execution_count": 24,
   "id": "fifth-beijing",
   "metadata": {},
   "outputs": [],
   "source": [
    "result = []\n",
    "for i in fn.index:\n",
    "    temp = list(fn[['Result 1', 'Result 2', 'Result 3', 'Result 4', 'Result 5']].iloc[i])\n",
    "    temp = [item for item in temp if item != 0]\n",
    "    if not temp:\n",
    "        temp += [0,0,0,0,0]\n",
    "    while len(temp) < 5:\n",
    "        temp += [0]\n",
    "    result.append(temp)\n",
    "\n",
    "result = np.array(result)\n",
    "fn['Result 1'] = result[:,0]\n",
    "fn['Result 2'] = result[:,1]\n",
    "fn['Result 3'] = result[:,2]\n",
    "fn['Result 4'] = result[:,3]\n",
    "fn['Result 5'] = result[:,4]"
   ]
  },
  {
   "cell_type": "markdown",
   "id": "gross-newark",
   "metadata": {},
   "source": [
    "## With a Twitter Account "
   ]
  },
  {
   "cell_type": "code",
   "execution_count": 25,
   "id": "prepared-visit",
   "metadata": {},
   "outputs": [],
   "source": [
    "fn_acc = fn[fn['Twitter Handle'] != 0].copy() "
   ]
  },
  {
   "cell_type": "code",
   "execution_count": 26,
   "id": "mental-nudist",
   "metadata": {},
   "outputs": [],
   "source": [
    "top1 = [False for i in range(len(fn_acc))]\n",
    "top5 = [False for i in range(len(fn_acc))]\n",
    "top10 = [False for i in range(len(fn_acc))]\n",
    "\n",
    "for i, acc in enumerate(fn_acc['Twitter Handle']):\n",
    "    for j,res in enumerate(fn_acc[[f'Result {k+1}' for k in range(4)]].iloc[i].unique()):\n",
    "        if acc == res:\n",
    "            if j < 1:\n",
    "                top1[i] = True\n",
    "            elif 0 < j < 6:\n",
    "                top5[i] = True\n",
    "            else:\n",
    "                top10[j] = True"
   ]
  },
  {
   "cell_type": "code",
   "execution_count": 27,
   "id": "finite-curtis",
   "metadata": {},
   "outputs": [],
   "source": [
    "found = [a or b or c for a,b,c in zip(top1,top5,top10)]"
   ]
  },
  {
   "cell_type": "code",
   "execution_count": 28,
   "id": "unsigned-breakdown",
   "metadata": {},
   "outputs": [
    {
     "data": {
      "text/plain": [
       "<matplotlib.legend.Legend at 0x7fce5dba5a30>"
      ]
     },
     "execution_count": 28,
     "metadata": {},
     "output_type": "execute_result"
    },
    {
     "data": {
      "image/png": "[encoded data removed]",
      "text/plain": [
       "<Figure size 432x288 with 1 Axes>"
      ]
     },
     "metadata": {},
     "output_type": "display_data"
    }
   ],
   "source": [
    "fig, ax = plt.subplots()\n",
    "color_palette_list = ['#009BD0', '#00BDCC', '#ADD8E6']\n",
    "\n",
    "plt.rcParams['font.sans-serif'] = 'Arial'\n",
    "plt.rcParams['font.family'] = 'sans-serif'\n",
    "plt.rcParams['text.color'] = 'black'\n",
    "plt.rcParams['axes.labelcolor']= 'black'\n",
    "plt.rcParams['xtick.color'] = 'black'\n",
    "plt.rcParams['ytick.color'] = 'black'\n",
    "plt.rcParams['font.size']=14\n",
    "\n",
    "x = [top1.count(True), top5.count(True), found.count(False)]\n",
    "labels = ['Top 1', 'Top 5' ,'Was not found']\n",
    "_=ax.pie(x, colors=color_palette_list,\n",
    "         autopct='%1.0f%%', shadow=True, startangle=90, pctdistance=0.5,labeldistance=1.3, explode=(0.01,0.01,0.2))\n",
    "ax.legend(frameon=True, bbox_to_anchor=(1,0.75), labels=labels)"
   ]
  },
  {
   "cell_type": "markdown",
   "id": "sacred-december",
   "metadata": {},
   "source": [
    "## Without a Twitter Account "
   ]
  },
  {
   "cell_type": "code",
   "execution_count": 29,
   "id": "streaming-salad",
   "metadata": {},
   "outputs": [],
   "source": [
    "target_names = ['Has an Account', 'Does not have a Account']"
   ]
  },
  {
   "cell_type": "code",
   "execution_count": 30,
   "id": "adjustable-shareware",
   "metadata": {},
   "outputs": [],
   "source": [
    "fn_noacc = fn[fn['Twitter Handle'] == 0].copy() "
   ]
  },
  {
   "cell_type": "code",
   "execution_count": 31,
   "id": "instant-contribution",
   "metadata": {},
   "outputs": [],
   "source": [
    "correct = []\n",
    "for i, acc in enumerate(fn_noacc['Twitter Handle']):\n",
    "    if acc == fn_noacc['Result 1'].iloc[i]:\n",
    "        correct.append(True)\n",
    "    else:\n",
    "        correct.append(False)         "
   ]
  },
  {
   "cell_type": "code",
   "execution_count": 32,
   "id": "passive-acoustic",
   "metadata": {},
   "outputs": [
    {
     "data": {
      "text/plain": [
       "(51, 10)"
      ]
     },
     "execution_count": 32,
     "metadata": {},
     "output_type": "execute_result"
    }
   ],
   "source": [
    "correct.count(True), correct.count(False)"
   ]
  },
  {
   "cell_type": "markdown",
   "id": "finnish-local",
   "metadata": {},
   "source": [
    "## Final Results"
   ]
  },
  {
   "cell_type": "code",
   "execution_count": 33,
   "id": "impressive-taxation",
   "metadata": {},
   "outputs": [
    {
     "data": {
      "text/plain": [
       "array([[138,  51],\n",
       "       [101,  10]])"
      ]
     },
     "execution_count": 33,
     "metadata": {},
     "output_type": "execute_result"
    }
   ],
   "source": [
    "fin_result = np.array([[found.count(True),correct.count(True)],\n",
    "                      [found.count(False),correct.count(False)]])\n",
    "fin_result"
   ]
  },
  {
   "cell_type": "code",
   "execution_count": 34,
   "id": "european-washington",
   "metadata": {},
   "outputs": [
    {
     "data": {
      "text/plain": [
       "<AxesSubplot:>"
      ]
     },
     "execution_count": 34,
     "metadata": {},
     "output_type": "execute_result"
    },
    {
     "data": {
      "image/png": "[encoded data removed]",
      "text/plain": [
       "<Figure size 432x288 with 1 Axes>"
      ]
     },
     "metadata": {
      "needs_background": "light"
     },
     "output_type": "display_data"
    }
   ],
   "source": [
    "pd.DataFrame(fin_result, \n",
    "             columns=['Uses Twitter', 'Does not use Twitter'], \n",
    "             index=['Correct', 'Incorrect']).T.plot(kind='barh')"
   ]
  },
  {
   "cell_type": "markdown",
   "id": "square-vietnamese",
   "metadata": {},
   "source": [
    "# Fullnames Latin"
   ]
  },
  {
   "cell_type": "code",
   "execution_count": 35,
   "id": "exempt-insert",
   "metadata": {},
   "outputs": [
    {
     "data": {
      "text/html": [
       "<div>\n",
       "<style scoped>\n",
       "    .dataframe tbody tr th:only-of-type {\n",
       "        vertical-align: middle;\n",
       "    }\n",
       "\n",
       "    .dataframe tbody tr th {\n",
       "        vertical-align: top;\n",
       "    }\n",
       "\n",
       "    .dataframe thead th {\n",
       "        text-align: right;\n",
       "    }\n",
       "</style>\n",
       "<table border=\"1\" class=\"dataframe\">\n",
       "  <thead>\n",
       "    <tr style=\"text-align: right;\">\n",
       "      <th></th>\n",
       "      <th>Name (Long)</th>\n",
       "      <th>Surname</th>\n",
       "      <th>Name</th>\n",
       "      <th>Party</th>\n",
       "      <th>Twitter Handle</th>\n",
       "      <th>Result 1</th>\n",
       "      <th>Result 2</th>\n",
       "      <th>Result 3</th>\n",
       "      <th>Result 4</th>\n",
       "      <th>Result 5</th>\n",
       "      <th>Result 6</th>\n",
       "      <th>Result 7</th>\n",
       "      <th>Result 8</th>\n",
       "    </tr>\n",
       "  </thead>\n",
       "  <tbody>\n",
       "    <tr>\n",
       "      <th>0</th>\n",
       "      <td>Βιλιάρδος Διονυσίου Βασίλειος</td>\n",
       "      <td>Βιλιάρδος</td>\n",
       "      <td>Βιλιάρδος Βασίλειος</td>\n",
       "      <td>ΕΛΛΗΝΙΚΗ ΛΥΣΗ</td>\n",
       "      <td>174226430</td>\n",
       "      <td>174226430</td>\n",
       "      <td>0</td>\n",
       "      <td>0</td>\n",
       "      <td>0</td>\n",
       "      <td>0</td>\n",
       "      <td>0</td>\n",
       "      <td>0</td>\n",
       "      <td></td>\n",
       "    </tr>\n",
       "    <tr>\n",
       "      <th>1</th>\n",
       "      <td>Αλεξοπούλου Κωνσταντίνου Αναστασία - Αικατερίνη</td>\n",
       "      <td>Αλεξοπούλου</td>\n",
       "      <td>Αλεξοπούλου Αικατερίνη</td>\n",
       "      <td>ΕΛΛΗΝΙΚΗ ΛΥΣΗ</td>\n",
       "      <td>1168241295149740038</td>\n",
       "      <td>1168241295149740032</td>\n",
       "      <td>0</td>\n",
       "      <td>0</td>\n",
       "      <td>0</td>\n",
       "      <td>0</td>\n",
       "      <td>0</td>\n",
       "      <td>0</td>\n",
       "      <td></td>\n",
       "    </tr>\n",
       "    <tr>\n",
       "      <th>2</th>\n",
       "      <td>Αθανασίου Ευαγγέλου Μαρία</td>\n",
       "      <td>Αθανασίου</td>\n",
       "      <td>Αθανασίου Μαρία</td>\n",
       "      <td>ΕΛΛΗΝΙΚΗ ΛΥΣΗ</td>\n",
       "      <td>1153988844498444288</td>\n",
       "      <td>0</td>\n",
       "      <td>0</td>\n",
       "      <td>0</td>\n",
       "      <td>0</td>\n",
       "      <td>0</td>\n",
       "      <td>0</td>\n",
       "      <td>0</td>\n",
       "      <td></td>\n",
       "    </tr>\n",
       "    <tr>\n",
       "      <th>3</th>\n",
       "      <td>Βαγενάς Κωνσταντίνου Δημήτριος</td>\n",
       "      <td>Βαγενάς</td>\n",
       "      <td>Βαγενάς Δημήτριος</td>\n",
       "      <td>ΕΛΛΗΝΙΚΗ ΛΥΣΗ</td>\n",
       "      <td>1302266183790604290</td>\n",
       "      <td>0</td>\n",
       "      <td>0</td>\n",
       "      <td>0</td>\n",
       "      <td>0</td>\n",
       "      <td>0</td>\n",
       "      <td>0</td>\n",
       "      <td>0</td>\n",
       "      <td></td>\n",
       "    </tr>\n",
       "    <tr>\n",
       "      <th>4</th>\n",
       "      <td>Ασημακοπούλου Δημητρίου Σοφία - Χάιδω</td>\n",
       "      <td>Ασημακοπούλου</td>\n",
       "      <td>Ασημακοπούλου Χάιδω</td>\n",
       "      <td>ΕΛΛΗΝΙΚΗ ΛΥΣΗ</td>\n",
       "      <td>1148229718627540992</td>\n",
       "      <td>0</td>\n",
       "      <td>0</td>\n",
       "      <td>0</td>\n",
       "      <td>0</td>\n",
       "      <td>0</td>\n",
       "      <td>0</td>\n",
       "      <td>0</td>\n",
       "      <td></td>\n",
       "    </tr>\n",
       "  </tbody>\n",
       "</table>\n",
       "</div>"
      ],
      "text/plain": [
       "                                       Name (Long)        Surname  \\\n",
       "0                    Βιλιάρδος Διονυσίου Βασίλειος      Βιλιάρδος   \n",
       "1  Αλεξοπούλου Κωνσταντίνου Αναστασία - Αικατερίνη    Αλεξοπούλου   \n",
       "2                        Αθανασίου Ευαγγέλου Μαρία      Αθανασίου   \n",
       "3                   Βαγενάς Κωνσταντίνου Δημήτριος        Βαγενάς   \n",
       "4            Ασημακοπούλου Δημητρίου Σοφία - Χάιδω  Ασημακοπούλου   \n",
       "\n",
       "                     Name          Party       Twitter Handle  \\\n",
       "0     Βιλιάρδος Βασίλειος  ΕΛΛΗΝΙΚΗ ΛΥΣΗ            174226430   \n",
       "1  Αλεξοπούλου Αικατερίνη  ΕΛΛΗΝΙΚΗ ΛΥΣΗ  1168241295149740038   \n",
       "2         Αθανασίου Μαρία  ΕΛΛΗΝΙΚΗ ΛΥΣΗ  1153988844498444288   \n",
       "3       Βαγενάς Δημήτριος  ΕΛΛΗΝΙΚΗ ΛΥΣΗ  1302266183790604290   \n",
       "4     Ασημακοπούλου Χάιδω  ΕΛΛΗΝΙΚΗ ΛΥΣΗ  1148229718627540992   \n",
       "\n",
       "              Result 1  Result 2  Result 3  Result 4  Result 5  Result 6  \\\n",
       "0            174226430         0         0         0         0         0   \n",
       "1  1168241295149740032         0         0         0         0         0   \n",
       "2                    0         0         0         0         0         0   \n",
       "3                    0         0         0         0         0         0   \n",
       "4                    0         0         0         0         0         0   \n",
       "\n",
       "   Result 7 Result 8  \n",
       "0         0           \n",
       "1         0           \n",
       "2         0           \n",
       "3         0           \n",
       "4         0           "
      ]
     },
     "execution_count": 35,
     "metadata": {},
     "output_type": "execute_result"
    }
   ],
   "source": [
    "fn = pd.read_csv('Google-Search-FullnamesLatin-ClassifierND-Parliament-Members.csv')\n",
    "fn = fn.replace(np.nan, '')\n",
    "fn.head()"
   ]
  },
  {
   "cell_type": "code",
   "execution_count": 36,
   "id": "compact-regular",
   "metadata": {},
   "outputs": [],
   "source": [
    "result = []\n",
    "for i in fn.index:\n",
    "    temp = list(fn[['Result 1', 'Result 2', 'Result 3', 'Result 4', 'Result 5']].iloc[i])\n",
    "    temp = [item for item in temp if item != 0]\n",
    "    if not temp:\n",
    "        temp += [0,0,0,0,0]\n",
    "    while len(temp) < 5:\n",
    "        temp += [0]\n",
    "    result.append(temp)\n",
    "\n",
    "result = np.array(result)\n",
    "fn['Result 1'] = result[:,0]\n",
    "fn['Result 2'] = result[:,1]\n",
    "fn['Result 3'] = result[:,2]\n",
    "fn['Result 4'] = result[:,3]\n",
    "fn['Result 5'] = result[:,4]"
   ]
  },
  {
   "cell_type": "markdown",
   "id": "hourly-timber",
   "metadata": {},
   "source": [
    "## With a Twitter Account "
   ]
  },
  {
   "cell_type": "code",
   "execution_count": 37,
   "id": "whole-miller",
   "metadata": {},
   "outputs": [],
   "source": [
    "fn_acc = fn[fn['Twitter Handle'] != 0].copy() "
   ]
  },
  {
   "cell_type": "code",
   "execution_count": 38,
   "id": "empty-dancing",
   "metadata": {},
   "outputs": [],
   "source": [
    "top1 = [False for i in range(len(fn_acc))]\n",
    "top5 = [False for i in range(len(fn_acc))]\n",
    "top10 = [False for i in range(len(fn_acc))]\n",
    "\n",
    "for i, acc in enumerate(fn_acc['Twitter Handle']):\n",
    "    for j,res in enumerate(fn_acc[[f'Result {k+1}' for k in range(4)]].iloc[i].unique()):\n",
    "        if acc == res:\n",
    "            if j < 1:\n",
    "                top1[i] = True\n",
    "            elif 0 < j < 6:\n",
    "                top5[i] = True\n",
    "            else:\n",
    "                top10[j] = True"
   ]
  },
  {
   "cell_type": "code",
   "execution_count": 39,
   "id": "pleased-richards",
   "metadata": {},
   "outputs": [],
   "source": [
    "found = [a or b or c for a,b,c in zip(top1,top5,top10)]"
   ]
  },
  {
   "cell_type": "code",
   "execution_count": 40,
   "id": "silent-document",
   "metadata": {},
   "outputs": [
    {
     "data": {
      "text/plain": [
       "<matplotlib.legend.Legend at 0x7fce5de2ba30>"
      ]
     },
     "execution_count": 40,
     "metadata": {},
     "output_type": "execute_result"
    },
    {
     "data": {
      "image/png": "[encoded data removed]",
      "text/plain": [
       "<Figure size 432x288 with 1 Axes>"
      ]
     },
     "metadata": {},
     "output_type": "display_data"
    }
   ],
   "source": [
    "fig, ax = plt.subplots()\n",
    "color_palette_list = ['#009BD0', '#00BDCC', '#ADD8E6']\n",
    "\n",
    "plt.rcParams['font.sans-serif'] = 'Arial'\n",
    "plt.rcParams['font.family'] = 'sans-serif'\n",
    "plt.rcParams['text.color'] = 'black'\n",
    "plt.rcParams['axes.labelcolor']= 'black'\n",
    "plt.rcParams['xtick.color'] = 'black'\n",
    "plt.rcParams['ytick.color'] = 'black'\n",
    "plt.rcParams['font.size']=14\n",
    "\n",
    "x = [top1.count(True), top5.count(True), found.count(False)]\n",
    "labels = ['Top 1', 'Top 5' ,'Was not found']\n",
    "_=ax.pie(x, colors=color_palette_list,\n",
    "         autopct='%1.0f%%', shadow=True, startangle=90, pctdistance=0.5,labeldistance=1.3, explode=(0.01,0.01,0.2))\n",
    "ax.legend(frameon=True, bbox_to_anchor=(1,0.75), labels=labels)"
   ]
  },
  {
   "cell_type": "markdown",
   "id": "bearing-clinton",
   "metadata": {},
   "source": [
    "## Without a Twitter Account "
   ]
  },
  {
   "cell_type": "code",
   "execution_count": 41,
   "id": "documentary-graham",
   "metadata": {},
   "outputs": [],
   "source": [
    "target_names = ['Has an Account', 'Does not have a Account']"
   ]
  },
  {
   "cell_type": "code",
   "execution_count": 42,
   "id": "attempted-victorian",
   "metadata": {},
   "outputs": [],
   "source": [
    "fn_noacc = fn[fn['Twitter Handle'] == 0].copy() "
   ]
  },
  {
   "cell_type": "code",
   "execution_count": 43,
   "id": "impressed-aging",
   "metadata": {},
   "outputs": [],
   "source": [
    "correct = []\n",
    "for i, acc in enumerate(fn_noacc['Twitter Handle']):\n",
    "    if acc == fn_noacc['Result 1'].iloc[i]:\n",
    "        correct.append(True)\n",
    "    else:\n",
    "        correct.append(False)         "
   ]
  },
  {
   "cell_type": "code",
   "execution_count": 44,
   "id": "crucial-substance",
   "metadata": {},
   "outputs": [
    {
     "data": {
      "text/plain": [
       "(59, 2)"
      ]
     },
     "execution_count": 44,
     "metadata": {},
     "output_type": "execute_result"
    }
   ],
   "source": [
    "correct.count(True), correct.count(False)"
   ]
  },
  {
   "cell_type": "markdown",
   "id": "arranged-excerpt",
   "metadata": {},
   "source": [
    "## Final Results"
   ]
  },
  {
   "cell_type": "code",
   "execution_count": 45,
   "id": "illegal-corner",
   "metadata": {},
   "outputs": [
    {
     "data": {
      "text/plain": [
       "array([[104,  59],\n",
       "       [135,   2]])"
      ]
     },
     "execution_count": 45,
     "metadata": {},
     "output_type": "execute_result"
    }
   ],
   "source": [
    "fin_result = np.array([[found.count(True),correct.count(True)],\n",
    "                      [found.count(False),correct.count(False)]])\n",
    "fin_result"
   ]
  },
  {
   "cell_type": "code",
   "execution_count": 46,
   "id": "twenty-muscle",
   "metadata": {},
   "outputs": [
    {
     "data": {
      "text/plain": [
       "<AxesSubplot:>"
      ]
     },
     "execution_count": 46,
     "metadata": {},
     "output_type": "execute_result"
    },
    {
     "data": {
      "image/png": "[encoded data removed]",
      "text/plain": [
       "<Figure size 432x288 with 1 Axes>"
      ]
     },
     "metadata": {
      "needs_background": "light"
     },
     "output_type": "display_data"
    }
   ],
   "source": [
    "pd.DataFrame(fin_result, \n",
    "             columns=['Uses Twitter', 'Does not use Twitter'], \n",
    "             index=['Correct', 'Incorrect']).T.plot(kind='barh')"
   ]
  },
  {
   "cell_type": "code",
   "execution_count": null,
   "id": "fiscal-bottle",
   "metadata": {},
   "outputs": [],
   "source": []
  }
 ],
 "metadata": {
  "kernelspec": {
   "display_name": "Python 3",
   "language": "python",
   "name": "python3"
  },
  "language_info": {
   "codemirror_mode": {
    "name": "ipython",
    "version": 3
   },
   "file_extension": ".py",
   "mimetype": "text/x-python",
   "name": "python",
   "nbconvert_exporter": "python",
   "pygments_lexer": "ipython3",
   "version": "3.8.5"
  }
 },
 "nbformat": 4,
 "nbformat_minor": 5
}
