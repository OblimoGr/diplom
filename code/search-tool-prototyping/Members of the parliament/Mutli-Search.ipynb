{
 "cells": [
  {
   "cell_type": "code",
   "execution_count": 1,
   "id": "early-premium",
   "metadata": {},
   "outputs": [],
   "source": [
    "import pandas as pd"
   ]
  },
  {
   "cell_type": "code",
   "execution_count": 4,
   "id": "mysterious-shield",
   "metadata": {},
   "outputs": [
    {
     "data": {
      "text/html": [
       "<div>\n",
       "<style scoped>\n",
       "    .dataframe tbody tr th:only-of-type {\n",
       "        vertical-align: middle;\n",
       "    }\n",
       "\n",
       "    .dataframe tbody tr th {\n",
       "        vertical-align: top;\n",
       "    }\n",
       "\n",
       "    .dataframe thead th {\n",
       "        text-align: right;\n",
       "    }\n",
       "</style>\n",
       "<table border=\"1\" class=\"dataframe\">\n",
       "  <thead>\n",
       "    <tr style=\"text-align: right;\">\n",
       "      <th></th>\n",
       "      <th>Name</th>\n",
       "      <th>GoogleAPI Fullnames</th>\n",
       "      <th>GoogleAPI Surnames</th>\n",
       "      <th>TwitterAPI Fullnames</th>\n",
       "      <th>TwitterAPI Surnames</th>\n",
       "      <th>TwitterAPI SurnamesLatin</th>\n",
       "      <th>GoogleAPI SurnamesLatin</th>\n",
       "    </tr>\n",
       "  </thead>\n",
       "  <tbody>\n",
       "    <tr>\n",
       "      <th>0</th>\n",
       "      <td>Βιλιάρδος Βασίλειος</td>\n",
       "      <td>True</td>\n",
       "      <td>True</td>\n",
       "      <td>False</td>\n",
       "      <td>True</td>\n",
       "      <td>True</td>\n",
       "      <td>True</td>\n",
       "    </tr>\n",
       "    <tr>\n",
       "      <th>1</th>\n",
       "      <td>Αλεξοπούλου Αικατερίνη</td>\n",
       "      <td>True</td>\n",
       "      <td>False</td>\n",
       "      <td>False</td>\n",
       "      <td>False</td>\n",
       "      <td>False</td>\n",
       "      <td>True</td>\n",
       "    </tr>\n",
       "    <tr>\n",
       "      <th>2</th>\n",
       "      <td>Αθανασίου Μαρία</td>\n",
       "      <td>True</td>\n",
       "      <td>False</td>\n",
       "      <td>False</td>\n",
       "      <td>False</td>\n",
       "      <td>False</td>\n",
       "      <td>False</td>\n",
       "    </tr>\n",
       "    <tr>\n",
       "      <th>3</th>\n",
       "      <td>Βαγενάς Δημήτριος</td>\n",
       "      <td>True</td>\n",
       "      <td>True</td>\n",
       "      <td>False</td>\n",
       "      <td>False</td>\n",
       "      <td>False</td>\n",
       "      <td>False</td>\n",
       "    </tr>\n",
       "    <tr>\n",
       "      <th>4</th>\n",
       "      <td>Ασημακοπούλου Χάιδω</td>\n",
       "      <td>False</td>\n",
       "      <td>False</td>\n",
       "      <td>False</td>\n",
       "      <td>True</td>\n",
       "      <td>False</td>\n",
       "      <td>False</td>\n",
       "    </tr>\n",
       "  </tbody>\n",
       "</table>\n",
       "</div>"
      ],
      "text/plain": [
       "                     Name  GoogleAPI Fullnames  GoogleAPI Surnames  \\\n",
       "0     Βιλιάρδος Βασίλειος                 True                True   \n",
       "1  Αλεξοπούλου Αικατερίνη                 True               False   \n",
       "2         Αθανασίου Μαρία                 True               False   \n",
       "3       Βαγενάς Δημήτριος                 True                True   \n",
       "4     Ασημακοπούλου Χάιδω                False               False   \n",
       "\n",
       "   TwitterAPI Fullnames  TwitterAPI Surnames  TwitterAPI SurnamesLatin  \\\n",
       "0                 False                 True                      True   \n",
       "1                 False                False                     False   \n",
       "2                 False                False                     False   \n",
       "3                 False                False                     False   \n",
       "4                 False                 True                     False   \n",
       "\n",
       "   GoogleAPI SurnamesLatin  \n",
       "0                     True  \n",
       "1                     True  \n",
       "2                    False  \n",
       "3                    False  \n",
       "4                    False  "
      ]
     },
     "execution_count": 4,
     "metadata": {},
     "output_type": "execute_result"
    }
   ],
   "source": [
    "df = pd.read_csv('result-method-parliament-member-search.csv')\n",
    "df.head()"
   ]
  },
  {
   "cell_type": "markdown",
   "id": "sunrise-cosmetic",
   "metadata": {},
   "source": [
    "# GOOGLE API"
   ]
  },
  {
   "cell_type": "code",
   "execution_count": 22,
   "id": "royal-copyright",
   "metadata": {},
   "outputs": [
    {
     "data": {
      "text/plain": [
       "207"
      ]
     },
     "execution_count": 22,
     "metadata": {},
     "output_type": "execute_result"
    }
   ],
   "source": [
    "181 + 26"
   ]
  },
  {
   "cell_type": "code",
   "execution_count": 26,
   "id": "proved-venue",
   "metadata": {},
   "outputs": [
    {
     "data": {
      "text/plain": [
       "181"
      ]
     },
     "execution_count": 26,
     "metadata": {},
     "output_type": "execute_result"
    }
   ],
   "source": [
    "len(df[(df['GoogleAPI Fullnames'] == True)])"
   ]
  },
  {
   "cell_type": "code",
   "execution_count": 28,
   "id": "significant-persian",
   "metadata": {},
   "outputs": [
    {
     "data": {
      "text/plain": [
       "26"
      ]
     },
     "execution_count": 28,
     "metadata": {},
     "output_type": "execute_result"
    }
   ],
   "source": [
    "len(df[(df['GoogleAPI Fullnames'] == False) & (df['GoogleAPI Surnames'] == True)])"
   ]
  },
  {
   "cell_type": "code",
   "execution_count": 29,
   "id": "continental-refund",
   "metadata": {},
   "outputs": [
    {
     "data": {
      "text/plain": [
       "3"
      ]
     },
     "execution_count": 29,
     "metadata": {},
     "output_type": "execute_result"
    }
   ],
   "source": [
    "len(df[(df['GoogleAPI Fullnames'] == False) & (df['GoogleAPI Surnames'] == False) & (df['GoogleAPI SurnamesLatin'] == True)])"
   ]
  },
  {
   "cell_type": "markdown",
   "id": "attempted-survivor",
   "metadata": {},
   "source": [
    "# TWITTER API"
   ]
  },
  {
   "cell_type": "code",
   "execution_count": 31,
   "id": "basic-firewall",
   "metadata": {},
   "outputs": [
    {
     "data": {
      "text/plain": [
       "159"
      ]
     },
     "execution_count": 31,
     "metadata": {},
     "output_type": "execute_result"
    }
   ],
   "source": [
    "len(df[(df['TwitterAPI Surnames'] == True)])"
   ]
  },
  {
   "cell_type": "code",
   "execution_count": 32,
   "id": "stunning-vaccine",
   "metadata": {},
   "outputs": [
    {
     "data": {
      "text/plain": [
       "44"
      ]
     },
     "execution_count": 32,
     "metadata": {},
     "output_type": "execute_result"
    }
   ],
   "source": [
    "len(df[(df['TwitterAPI Surnames'] == False) & (df['TwitterAPI SurnamesLatin'] == True)])"
   ]
  },
  {
   "cell_type": "code",
   "execution_count": 34,
   "id": "harmful-looking",
   "metadata": {},
   "outputs": [
    {
     "data": {
      "text/plain": [
       "2"
      ]
     },
     "execution_count": 34,
     "metadata": {},
     "output_type": "execute_result"
    }
   ],
   "source": [
    "len(df[(df['TwitterAPI Fullnames'] == True) & (df['TwitterAPI Surnames'] == False) & (df['TwitterAPI SurnamesLatin'] == False)])"
   ]
  },
  {
   "cell_type": "code",
   "execution_count": 35,
   "id": "absolute-madagascar",
   "metadata": {},
   "outputs": [
    {
     "data": {
      "text/plain": [
       "203"
      ]
     },
     "execution_count": 35,
     "metadata": {},
     "output_type": "execute_result"
    }
   ],
   "source": [
    "159+44"
   ]
  },
  {
   "cell_type": "code",
   "execution_count": 40,
   "id": "unique-sacramento",
   "metadata": {},
   "outputs": [
    {
     "data": {
      "text/plain": [
       "86.97478991596638"
      ]
     },
     "execution_count": 40,
     "metadata": {},
     "output_type": "execute_result"
    }
   ],
   "source": [
    "(207/238)*100"
   ]
  },
  {
   "cell_type": "code",
   "execution_count": 45,
   "id": "attended-savings",
   "metadata": {},
   "outputs": [
    {
     "data": {
      "text/plain": [
       "228"
      ]
     },
     "execution_count": 45,
     "metadata": {},
     "output_type": "execute_result"
    }
   ],
   "source": [
    "len(df[(df['GoogleAPI Fullnames'] == True) \n",
    "       | (df['GoogleAPI Surnames'] == True) \n",
    "       | (df['GoogleAPI SurnamesLatin'] == True)\n",
    "       | (df['TwitterAPI Surnames'] == True)\n",
    "       | (df['TwitterAPI SurnamesLatin'] == True)])"
   ]
  },
  {
   "cell_type": "code",
   "execution_count": 46,
   "id": "faced-divorce",
   "metadata": {},
   "outputs": [
    {
     "data": {
      "text/plain": [
       "0.957983193277311"
      ]
     },
     "execution_count": 46,
     "metadata": {},
     "output_type": "execute_result"
    }
   ],
   "source": [
    "228/238"
   ]
  },
  {
   "cell_type": "code",
   "execution_count": null,
   "id": "regional-child",
   "metadata": {},
   "outputs": [],
   "source": []
  }
 ],
 "metadata": {
  "kernelspec": {
   "display_name": "Python 3",
   "language": "python",
   "name": "python3"
  },
  "language_info": {
   "codemirror_mode": {
    "name": "ipython",
    "version": 3
   },
   "file_extension": ".py",
   "mimetype": "text/x-python",
   "name": "python",
   "nbconvert_exporter": "python",
   "pygments_lexer": "ipython3",
   "version": "3.8.5"
  }
 },
 "nbformat": 4,
 "nbformat_minor": 5
}
