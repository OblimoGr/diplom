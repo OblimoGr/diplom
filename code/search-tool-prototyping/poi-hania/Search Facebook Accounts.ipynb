{
 "cells": [
  {
   "cell_type": "code",
   "execution_count": 1,
   "id": "endless-running",
   "metadata": {},
   "outputs": [],
   "source": [
    "import re\n",
    "import numpy as np\n",
    "import pandas as pd\n",
    "import json \n",
    "from batoomer.twitter_nodes.search_engine import GoogleSearchEngine\n",
    "from googleapiclient.errors import HttpError\n",
    "from tqdm.notebook import tqdm\n",
    "import time"
   ]
  },
  {
   "cell_type": "markdown",
   "id": "resident-projector",
   "metadata": {},
   "source": [
    "---\n",
    "Load Google Credentials and initialize GoogleSearchEngine"
   ]
  },
  {
   "cell_type": "code",
   "execution_count": 2,
   "id": "loaded-despite",
   "metadata": {},
   "outputs": [],
   "source": [
    "keys = []\n",
    "with open('../../../google_credentials.json', 'r') as f:\n",
    "    keys = json.load(f)\n",
    "\n",
    "se = GoogleSearchEngine(google_api_key=keys['api_key'], search_engine_id=keys['twitter_seID'])"
   ]
  },
  {
   "cell_type": "code",
   "execution_count": 3,
   "id": "flying-warning",
   "metadata": {},
   "outputs": [
    {
     "data": {
      "text/html": [
       "<div>\n",
       "<style scoped>\n",
       "    .dataframe tbody tr th:only-of-type {\n",
       "        vertical-align: middle;\n",
       "    }\n",
       "\n",
       "    .dataframe tbody tr th {\n",
       "        vertical-align: top;\n",
       "    }\n",
       "\n",
       "    .dataframe thead th {\n",
       "        text-align: right;\n",
       "    }\n",
       "</style>\n",
       "<table border=\"1\" class=\"dataframe\">\n",
       "  <thead>\n",
       "    <tr style=\"text-align: right;\">\n",
       "      <th></th>\n",
       "      <th>poi</th>\n",
       "    </tr>\n",
       "  </thead>\n",
       "  <tbody>\n",
       "    <tr>\n",
       "      <th>0</th>\n",
       "      <td>αποκορωνου εκκλησία παναγίας &amp; αγ. δημητρίου</td>\n",
       "    </tr>\n",
       "    <tr>\n",
       "      <th>1</th>\n",
       "      <td>σφακιων βρυση</td>\n",
       "    </tr>\n",
       "    <tr>\n",
       "      <th>2</th>\n",
       "      <td>κανδανου- σελινου ολοκαυτωμα καντανου 1-3 ιουνιου</td>\n",
       "    </tr>\n",
       "    <tr>\n",
       "      <th>3</th>\n",
       "      <td>κανδανου- σελινου καρναβαλι παλαιοχωρας</td>\n",
       "    </tr>\n",
       "    <tr>\n",
       "      <th>4</th>\n",
       "      <td>αποκορωνου παρθεναγωγείο</td>\n",
       "    </tr>\n",
       "  </tbody>\n",
       "</table>\n",
       "</div>"
      ],
      "text/plain": [
       "                                                 poi\n",
       "0       αποκορωνου εκκλησία παναγίας & αγ. δημητρίου\n",
       "1                                      σφακιων βρυση\n",
       "2  κανδανου- σελινου ολοκαυτωμα καντανου 1-3 ιουνιου\n",
       "3            κανδανου- σελινου καρναβαλι παλαιοχωρας\n",
       "4                           αποκορωνου παρθεναγωγείο"
      ]
     },
     "execution_count": 3,
     "metadata": {},
     "output_type": "execute_result"
    }
   ],
   "source": [
    "data = pd.read_csv('Google-Search-poi-hania-test.csv', usecols=['poi'])\n",
    "data.replace(np.nan, '', inplace=True)\n",
    "data.head(5)"
   ]
  },
  {
   "cell_type": "code",
   "execution_count": 4,
   "id": "distinct-perry",
   "metadata": {},
   "outputs": [
    {
     "data": {
      "application/vnd.jupyter.widget-view+json": {
       "model_id": "fc2ecba8bffe469c8fa8b2d03e357da7",
       "version_major": 2,
       "version_minor": 0
      },
      "text/plain": [
       "  0%|          | 0/100 [00:00<?, ?it/s]"
      ]
     },
     "metadata": {},
     "output_type": "display_data"
    },
    {
     "name": "stdout",
     "output_type": "stream",
     "text": [
      "Api Limit Hit!\n"
     ]
    }
   ],
   "source": [
    "queries = list(data['poi'])\n",
    "results = pd.DataFrame()\n",
    "\n",
    "for query in tqdm(queries):\n",
    "    try:\n",
    "        se.search(query=query, platform='facebook')\n",
    "        result = se.get_results()\n",
    "        results= results.append(result)\n",
    "    except HttpError as err:\n",
    "        if err.resp.status == 429:\n",
    "            print('Api Limit Hit!')\n",
    "            time.sleep(60 * 60 * 24)\n",
    "            se.search(query=query, platform='facebook')\n",
    "            result = se.get_results()\n",
    "            results= results.append(result)"
   ]
  },
  {
   "cell_type": "code",
   "execution_count": 6,
   "id": "finite-vaccine",
   "metadata": {},
   "outputs": [
    {
     "data": {
      "text/html": [
       "<div>\n",
       "<style scoped>\n",
       "    .dataframe tbody tr th:only-of-type {\n",
       "        vertical-align: middle;\n",
       "    }\n",
       "\n",
       "    .dataframe tbody tr th {\n",
       "        vertical-align: top;\n",
       "    }\n",
       "\n",
       "    .dataframe thead th {\n",
       "        text-align: right;\n",
       "    }\n",
       "</style>\n",
       "<table border=\"1\" class=\"dataframe\">\n",
       "  <thead>\n",
       "    <tr style=\"text-align: right;\">\n",
       "      <th></th>\n",
       "      <th>poi</th>\n",
       "      <th>Result 1</th>\n",
       "      <th>Result 2</th>\n",
       "      <th>Result 3</th>\n",
       "      <th>Result 4</th>\n",
       "      <th>Result 5</th>\n",
       "      <th>Result 6</th>\n",
       "      <th>Result 7</th>\n",
       "      <th>Result 8</th>\n",
       "      <th>Result 9</th>\n",
       "      <th>Result 10</th>\n",
       "    </tr>\n",
       "  </thead>\n",
       "  <tbody>\n",
       "    <tr>\n",
       "      <th>0</th>\n",
       "      <td>αποκορωνου εκκλησία παναγίας &amp; αγ. δημητρίου</td>\n",
       "      <td>https://www.facebook.com/enoriakounoupidiana/</td>\n",
       "      <td>https://www.facebook.com/enoritisstavrou/</td>\n",
       "      <td>https://www.facebook.com/pages/category/Church...</td>\n",
       "      <td>https://www.facebook.com/pages/category/Christ...</td>\n",
       "      <td>https://www.facebook.com/AgiosIoannisChanion/</td>\n",
       "      <td></td>\n",
       "      <td></td>\n",
       "      <td></td>\n",
       "      <td></td>\n",
       "      <td></td>\n",
       "    </tr>\n",
       "    <tr>\n",
       "      <th>1</th>\n",
       "      <td>σφακιων βρυση</td>\n",
       "      <td>https://www.facebook.com/easyparkingsfakia/</td>\n",
       "      <td>https://www.facebook.com/pages/category/Religi...</td>\n",
       "      <td>https://www.facebook.com/pages/category/Local-...</td>\n",
       "      <td>https://www.facebook.com/BonsaiFlowersVrises/</td>\n",
       "      <td></td>\n",
       "      <td></td>\n",
       "      <td></td>\n",
       "      <td></td>\n",
       "      <td></td>\n",
       "      <td></td>\n",
       "    </tr>\n",
       "    <tr>\n",
       "      <th>2</th>\n",
       "      <td>κανδανου- σελινου ολοκαυτωμα καντανου 1-3 ιουνιου</td>\n",
       "      <td></td>\n",
       "      <td></td>\n",
       "      <td></td>\n",
       "      <td></td>\n",
       "      <td></td>\n",
       "      <td></td>\n",
       "      <td></td>\n",
       "      <td></td>\n",
       "      <td></td>\n",
       "      <td></td>\n",
       "    </tr>\n",
       "    <tr>\n",
       "      <th>3</th>\n",
       "      <td>κανδανου- σελινου καρναβαλι παλαιοχωρας</td>\n",
       "      <td>https://www.facebook.com/choreftikiomadaselino...</td>\n",
       "      <td>https://www.facebook.com/YRTAKINA/</td>\n",
       "      <td>https://www.facebook.com/hotelsofPaleochora/</td>\n",
       "      <td>https://www.facebook.com/BlueHorizonPAL/</td>\n",
       "      <td>https://www.facebook.com/bakeryanatoli/</td>\n",
       "      <td></td>\n",
       "      <td></td>\n",
       "      <td></td>\n",
       "      <td></td>\n",
       "      <td></td>\n",
       "    </tr>\n",
       "    <tr>\n",
       "      <th>4</th>\n",
       "      <td>αποκορωνου παρθεναγωγείο</td>\n",
       "      <td></td>\n",
       "      <td></td>\n",
       "      <td></td>\n",
       "      <td></td>\n",
       "      <td></td>\n",
       "      <td></td>\n",
       "      <td></td>\n",
       "      <td></td>\n",
       "      <td></td>\n",
       "      <td></td>\n",
       "    </tr>\n",
       "  </tbody>\n",
       "</table>\n",
       "</div>"
      ],
      "text/plain": [
       "                                                 poi  \\\n",
       "0       αποκορωνου εκκλησία παναγίας & αγ. δημητρίου   \n",
       "1                                      σφακιων βρυση   \n",
       "2  κανδανου- σελινου ολοκαυτωμα καντανου 1-3 ιουνιου   \n",
       "3            κανδανου- σελινου καρναβαλι παλαιοχωρας   \n",
       "4                           αποκορωνου παρθεναγωγείο   \n",
       "\n",
       "                                            Result 1  \\\n",
       "0      https://www.facebook.com/enoriakounoupidiana/   \n",
       "1        https://www.facebook.com/easyparkingsfakia/   \n",
       "2                                                      \n",
       "3  https://www.facebook.com/choreftikiomadaselino...   \n",
       "4                                                      \n",
       "\n",
       "                                            Result 2  \\\n",
       "0          https://www.facebook.com/enoritisstavrou/   \n",
       "1  https://www.facebook.com/pages/category/Religi...   \n",
       "2                                                      \n",
       "3                 https://www.facebook.com/YRTAKINA/   \n",
       "4                                                      \n",
       "\n",
       "                                            Result 3  \\\n",
       "0  https://www.facebook.com/pages/category/Church...   \n",
       "1  https://www.facebook.com/pages/category/Local-...   \n",
       "2                                                      \n",
       "3       https://www.facebook.com/hotelsofPaleochora/   \n",
       "4                                                      \n",
       "\n",
       "                                            Result 4  \\\n",
       "0  https://www.facebook.com/pages/category/Christ...   \n",
       "1      https://www.facebook.com/BonsaiFlowersVrises/   \n",
       "2                                                      \n",
       "3           https://www.facebook.com/BlueHorizonPAL/   \n",
       "4                                                      \n",
       "\n",
       "                                        Result 5 Result 6 Result 7 Result 8  \\\n",
       "0  https://www.facebook.com/AgiosIoannisChanion/                              \n",
       "1                                                                             \n",
       "2                                                                             \n",
       "3        https://www.facebook.com/bakeryanatoli/                              \n",
       "4                                                                             \n",
       "\n",
       "  Result 9 Result 10  \n",
       "0                     \n",
       "1                     \n",
       "2                     \n",
       "3                     \n",
       "4                     "
      ]
     },
     "execution_count": 6,
     "metadata": {},
     "output_type": "execute_result"
    }
   ],
   "source": [
    "results = (results\n",
    "           .replace(np.nan, '')\n",
    "           .rename(columns={'Query':'poi'})\n",
    "           .reset_index()\n",
    "           .drop('index', axis=1))\n",
    "results.head(5)"
   ]
  },
  {
   "cell_type": "code",
   "execution_count": 7,
   "id": "alternate-plane",
   "metadata": {},
   "outputs": [],
   "source": [
    "results.to_csv('Google-Search-poi-hania-test-facebook.csv', index=False)"
   ]
  },
  {
   "cell_type": "code",
   "execution_count": null,
   "id": "nearby-skill",
   "metadata": {},
   "outputs": [],
   "source": []
  }
 ],
 "metadata": {
  "kernelspec": {
   "display_name": "Python 3",
   "language": "python",
   "name": "python3"
  },
  "language_info": {
   "codemirror_mode": {
    "name": "ipython",
    "version": 3
   },
   "file_extension": ".py",
   "mimetype": "text/x-python",
   "name": "python",
   "nbconvert_exporter": "python",
   "pygments_lexer": "ipython3",
   "version": "3.8.5"
  }
 },
 "nbformat": 4,
 "nbformat_minor": 5
}
