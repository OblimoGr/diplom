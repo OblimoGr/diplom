{
 "cells": [
  {
   "cell_type": "markdown",
   "id": "committed-glucose",
   "metadata": {},
   "source": [
    "# Failure Analysis"
   ]
  },
  {
   "cell_type": "code",
   "execution_count": 1,
   "id": "serial-joint",
   "metadata": {},
   "outputs": [],
   "source": [
    "import pandas as pd\n",
    "import numpy as np"
   ]
  },
  {
   "cell_type": "code",
   "execution_count": 8,
   "id": "recovered-gambling",
   "metadata": {},
   "outputs": [],
   "source": [
    "data = pd.read_csv('Search-Facebook-Accounts-Results.csv', delimiter=';')"
   ]
  },
  {
   "cell_type": "code",
   "execution_count": 12,
   "id": "bridal-tension",
   "metadata": {},
   "outputs": [],
   "source": [
    "data_res = data[data['Results'] == True]\n",
    "data_no = data[data['Results'] == False]"
   ]
  },
  {
   "cell_type": "code",
   "execution_count": 24,
   "id": "acute-officer",
   "metadata": {},
   "outputs": [],
   "source": [
    "correct = len(data_res[data_res['Found'] == True])\n",
    "relevant = len(data_res[data_res['Relevant'] > 0]) - correct"
   ]
  },
  {
   "cell_type": "code",
   "execution_count": 28,
   "id": "whole-continent",
   "metadata": {},
   "outputs": [
    {
     "name": "stdout",
     "output_type": "stream",
     "text": [
      "Returned at least one account: 37\n",
      "--------------------------------------------\n",
      "Correct Accounts: 3\n",
      "Relevant Accounts: 8\n",
      "\n",
      "Did not return any account: 63\n"
     ]
    }
   ],
   "source": [
    "print(f'Returned at least one account: {len(data_res)}')\n",
    "print('--------------------------------------------')\n",
    "print(f'Correct Accounts: {correct}')\n",
    "print(f'Relevant Accounts: {relevant}\\n')\n",
    "print(f'Did not return any account: {len(data_no)}')"
   ]
  },
  {
   "cell_type": "markdown",
   "id": "automated-algebra",
   "metadata": {},
   "source": [
    "## Correct Accounts"
   ]
  },
  {
   "cell_type": "code",
   "execution_count": 32,
   "id": "simplified-divorce",
   "metadata": {},
   "outputs": [
    {
     "data": {
      "text/html": [
       "<div>\n",
       "<style scoped>\n",
       "    .dataframe tbody tr th:only-of-type {\n",
       "        vertical-align: middle;\n",
       "    }\n",
       "\n",
       "    .dataframe tbody tr th {\n",
       "        vertical-align: top;\n",
       "    }\n",
       "\n",
       "    .dataframe thead th {\n",
       "        text-align: right;\n",
       "    }\n",
       "</style>\n",
       "<table border=\"1\" class=\"dataframe\">\n",
       "  <thead>\n",
       "    <tr style=\"text-align: right;\">\n",
       "      <th></th>\n",
       "      <th>poi</th>\n",
       "      <th>Results</th>\n",
       "      <th>Found</th>\n",
       "      <th>Place</th>\n",
       "      <th>Relevant</th>\n",
       "    </tr>\n",
       "  </thead>\n",
       "  <tbody>\n",
       "    <tr>\n",
       "      <th>42</th>\n",
       "      <td>πλατανια καταφύγιο καλλέργη, ομαλός</td>\n",
       "      <td>True</td>\n",
       "      <td>True</td>\n",
       "      <td>1</td>\n",
       "      <td>1.0</td>\n",
       "    </tr>\n",
       "    <tr>\n",
       "      <th>47</th>\n",
       "      <td>αποκορωνου εκκλησία αγ. ιωάννη</td>\n",
       "      <td>True</td>\n",
       "      <td>True</td>\n",
       "      <td>1</td>\n",
       "      <td>4.0</td>\n",
       "    </tr>\n",
       "    <tr>\n",
       "      <th>51</th>\n",
       "      <td>πλατανια γέφυρα κερίτη, αλικιανός</td>\n",
       "      <td>True</td>\n",
       "      <td>True</td>\n",
       "      <td>5</td>\n",
       "      <td>1.0</td>\n",
       "    </tr>\n",
       "  </tbody>\n",
       "</table>\n",
       "</div>"
      ],
      "text/plain": [
       "                                    poi  Results  Found  Place  Relevant\n",
       "42  πλατανια καταφύγιο καλλέργη, ομαλός     True   True      1       1.0\n",
       "47       αποκορωνου εκκλησία αγ. ιωάννη     True   True      1       4.0\n",
       "51    πλατανια γέφυρα κερίτη, αλικιανός     True   True      5       1.0"
      ]
     },
     "execution_count": 32,
     "metadata": {},
     "output_type": "execute_result"
    }
   ],
   "source": [
    "data_res[data_res['Found'] == True]"
   ]
  },
  {
   "cell_type": "code",
   "execution_count": 36,
   "id": "exposed-property",
   "metadata": {},
   "outputs": [],
   "source": [
    "accs = pd.read_csv('Google-Search-poi-hania-test-facebook.csv')"
   ]
  },
  {
   "cell_type": "markdown",
   "id": "specific-means",
   "metadata": {},
   "source": [
    "###"
   ]
  },
  {
   "cell_type": "code",
   "execution_count": 41,
   "id": "incorporated-equity",
   "metadata": {},
   "outputs": [
    {
     "data": {
      "text/plain": [
       "'https://www.facebook.com/KatafygioPlatania/'"
      ]
     },
     "execution_count": 41,
     "metadata": {},
     "output_type": "execute_result"
    }
   ],
   "source": [
    "accs.iloc[42]['Result 1']"
   ]
  },
  {
   "cell_type": "code",
   "execution_count": 42,
   "id": "senior-trader",
   "metadata": {},
   "outputs": [
    {
     "data": {
      "text/plain": [
       "'https://www.facebook.com/AgiosIoannisChanion/'"
      ]
     },
     "execution_count": 42,
     "metadata": {},
     "output_type": "execute_result"
    }
   ],
   "source": [
    "accs.iloc[47]['Result 1']"
   ]
  },
  {
   "cell_type": "code",
   "execution_count": 43,
   "id": "controlled-lewis",
   "metadata": {},
   "outputs": [
    {
     "data": {
      "text/plain": [
       "'https://www.facebook.com/gefira.keriti/'"
      ]
     },
     "execution_count": 43,
     "metadata": {},
     "output_type": "execute_result"
    }
   ],
   "source": [
    "accs.iloc[51]['Result 5']"
   ]
  },
  {
   "cell_type": "code",
   "execution_count": null,
   "id": "liquid-gamma",
   "metadata": {},
   "outputs": [],
   "source": []
  }
 ],
 "metadata": {
  "kernelspec": {
   "display_name": "Python 3",
   "language": "python",
   "name": "python3"
  },
  "language_info": {
   "codemirror_mode": {
    "name": "ipython",
    "version": 3
   },
   "file_extension": ".py",
   "mimetype": "text/x-python",
   "name": "python",
   "nbconvert_exporter": "python",
   "pygments_lexer": "ipython3",
   "version": "3.8.5"
  }
 },
 "nbformat": 4,
 "nbformat_minor": 5
}
