{
 "cells": [
  {
   "cell_type": "markdown",
   "id": "united-marks",
   "metadata": {},
   "source": [
    "# Search Tool Members of the Parliament: GoogleAPI Failure Analysis"
   ]
  },
  {
   "cell_type": "code",
   "execution_count": 1,
   "id": "empirical-birth",
   "metadata": {},
   "outputs": [],
   "source": [
    "import pandas as pd\n",
    "import numpy as np\n",
    "import matplotlib.pyplot as plt\n",
    "import seaborn as sns\n",
    "import json\n",
    "import tweepy\n",
    "from tqdm.notebook import tqdm"
   ]
  },
  {
   "cell_type": "code",
   "execution_count": 2,
   "id": "harmful-masters",
   "metadata": {},
   "outputs": [],
   "source": [
    "twitter_credentials = []\n",
    "with open('../../../../twitter_credentials.json', 'r') as f:\n",
    "    twitter_credentials = json.load(f)        \n",
    "\n",
    "# TwitterAPI Authentication\n",
    "auth = tweepy.OAuthHandler(twitter_credentials['consumer_key'],\n",
    "                                   twitter_credentials['consumer_secret'])\n",
    "auth.set_access_token(twitter_credentials['access_token_key'],\n",
    "                              twitter_credentials['access_token_secret'])\n",
    "API = tweepy.API(auth, wait_on_rate_limit=True, wait_on_rate_limit_notify=True, timeout=60*5)"
   ]
  },
  {
   "cell_type": "markdown",
   "id": "collected-subsection",
   "metadata": {},
   "source": [
    "# Fullnames"
   ]
  },
  {
   "cell_type": "code",
   "execution_count": 3,
   "id": "brown-lebanon",
   "metadata": {},
   "outputs": [
    {
     "data": {
      "text/html": [
       "<div>\n",
       "<style scoped>\n",
       "    .dataframe tbody tr th:only-of-type {\n",
       "        vertical-align: middle;\n",
       "    }\n",
       "\n",
       "    .dataframe tbody tr th {\n",
       "        vertical-align: top;\n",
       "    }\n",
       "\n",
       "    .dataframe thead th {\n",
       "        text-align: right;\n",
       "    }\n",
       "</style>\n",
       "<table border=\"1\" class=\"dataframe\">\n",
       "  <thead>\n",
       "    <tr style=\"text-align: right;\">\n",
       "      <th></th>\n",
       "      <th>Hotel City</th>\n",
       "      <th>Hotelname</th>\n",
       "      <th>Twitter Handle</th>\n",
       "      <th>Website</th>\n",
       "      <th>Result 1</th>\n",
       "      <th>Result 2</th>\n",
       "      <th>Result 3</th>\n",
       "      <th>Result 4</th>\n",
       "      <th>Result 5</th>\n",
       "      <th>Result 6</th>\n",
       "      <th>Result 7</th>\n",
       "      <th>Result 8</th>\n",
       "      <th>Result 9</th>\n",
       "      <th>Result 10</th>\n",
       "    </tr>\n",
       "  </thead>\n",
       "  <tbody>\n",
       "    <tr>\n",
       "      <th>0</th>\n",
       "      <td>Faliraki</td>\n",
       "      <td>Hotel Calypso Palace</td>\n",
       "      <td></td>\n",
       "      <td>https://www.calypsopalace.gr/</td>\n",
       "      <td>@MMGYglobal</td>\n",
       "      <td>@VillaChalkidiki</td>\n",
       "      <td>@diamondpalaceho</td>\n",
       "      <td>@PlanetEarthRec</td>\n",
       "      <td></td>\n",
       "      <td></td>\n",
       "      <td></td>\n",
       "      <td></td>\n",
       "      <td></td>\n",
       "      <td></td>\n",
       "    </tr>\n",
       "    <tr>\n",
       "      <th>1</th>\n",
       "      <td>Platanes</td>\n",
       "      <td>Nefeli Hotel</td>\n",
       "      <td></td>\n",
       "      <td>https://nefeli-hotel.gr/</td>\n",
       "      <td>@NEFELIHOMES</td>\n",
       "      <td>@RoyalBlueResort</td>\n",
       "      <td>@paphotels</td>\n",
       "      <td>@NefeliNikiforou</td>\n",
       "      <td>@petrinosuites</td>\n",
       "      <td></td>\n",
       "      <td></td>\n",
       "      <td></td>\n",
       "      <td></td>\n",
       "      <td></td>\n",
       "    </tr>\n",
       "    <tr>\n",
       "      <th>2</th>\n",
       "      <td>Kallithea</td>\n",
       "      <td>Hotel Kalithea Horizon Royal</td>\n",
       "      <td></td>\n",
       "      <td>https://www.kalitheahorizon.gr/</td>\n",
       "      <td>@sheratonrhodes</td>\n",
       "      <td>@CaesarsGardens</td>\n",
       "      <td>@dmarisbay</td>\n",
       "      <td>@apollobeachsa</td>\n",
       "      <td></td>\n",
       "      <td></td>\n",
       "      <td></td>\n",
       "      <td></td>\n",
       "      <td></td>\n",
       "      <td></td>\n",
       "    </tr>\n",
       "    <tr>\n",
       "      <th>3</th>\n",
       "      <td>Archangelos</td>\n",
       "      <td>Porto Angeli Beach Resort Hotel</td>\n",
       "      <td>portoangeli</td>\n",
       "      <td>https://www.portoangeli.com/</td>\n",
       "      <td>@krpec</td>\n",
       "      <td>@apollobeachsa</td>\n",
       "      <td>@AvraBeachResort</td>\n",
       "      <td>@sheratonrhodes</td>\n",
       "      <td>@dmarisbay</td>\n",
       "      <td></td>\n",
       "      <td></td>\n",
       "      <td></td>\n",
       "      <td></td>\n",
       "      <td></td>\n",
       "    </tr>\n",
       "    <tr>\n",
       "      <th>4</th>\n",
       "      <td>Faliraki</td>\n",
       "      <td>Hotel Calypso Beach</td>\n",
       "      <td></td>\n",
       "      <td>http://www.calypsohotel.gr/</td>\n",
       "      <td>@CalypsoTowerlll</td>\n",
       "      <td>@CalypsoQueenFL</td>\n",
       "      <td>@medplaya</td>\n",
       "      <td>@TimAtenKnows</td>\n",
       "      <td></td>\n",
       "      <td></td>\n",
       "      <td></td>\n",
       "      <td></td>\n",
       "      <td></td>\n",
       "      <td></td>\n",
       "    </tr>\n",
       "  </tbody>\n",
       "</table>\n",
       "</div>"
      ],
      "text/plain": [
       "    Hotel City                        Hotelname Twitter Handle  \\\n",
       "0     Faliraki             Hotel Calypso Palace                  \n",
       "1     Platanes                     Nefeli Hotel                  \n",
       "2    Kallithea     Hotel Kalithea Horizon Royal                  \n",
       "3  Archangelos  Porto Angeli Beach Resort Hotel    portoangeli   \n",
       "4     Faliraki              Hotel Calypso Beach                  \n",
       "\n",
       "                           Website          Result 1          Result 2  \\\n",
       "0    https://www.calypsopalace.gr/       @MMGYglobal  @VillaChalkidiki   \n",
       "1         https://nefeli-hotel.gr/      @NEFELIHOMES  @RoyalBlueResort   \n",
       "2  https://www.kalitheahorizon.gr/   @sheratonrhodes   @CaesarsGardens   \n",
       "3     https://www.portoangeli.com/            @krpec    @apollobeachsa   \n",
       "4      http://www.calypsohotel.gr/  @CalypsoTowerlll   @CalypsoQueenFL   \n",
       "\n",
       "           Result 3          Result 4        Result 5 Result 6 Result 7  \\\n",
       "0  @diamondpalaceho   @PlanetEarthRec                                     \n",
       "1        @paphotels  @NefeliNikiforou  @petrinosuites                     \n",
       "2        @dmarisbay    @apollobeachsa                                     \n",
       "3  @AvraBeachResort   @sheratonrhodes      @dmarisbay                     \n",
       "4         @medplaya     @TimAtenKnows                                     \n",
       "\n",
       "  Result 8 Result 9 Result 10  \n",
       "0                              \n",
       "1                              \n",
       "2                              \n",
       "3                              \n",
       "4                              "
      ]
     },
     "execution_count": 3,
     "metadata": {},
     "output_type": "execute_result"
    }
   ],
   "source": [
    "fn = pd.read_csv('Google-Search-Hotelname-Hotels.csv')\n",
    "fn = fn.replace(np.nan, '')\n",
    "fn.head()"
   ]
  },
  {
   "cell_type": "code",
   "execution_count": 4,
   "id": "mediterranean-religion",
   "metadata": {},
   "outputs": [],
   "source": [
    "def get_ids(df):\n",
    "    true_id = []\n",
    "    for acc in tqdm(df):\n",
    "        if acc != '':\n",
    "            try:\n",
    "                user = API.get_user(acc)\n",
    "                true_id.append(user.id)\n",
    "            except:\n",
    "                print(acc)\n",
    "                true_id.append(0)\n",
    "        else:\n",
    "            true_id.append(0)\n",
    "    return true_id"
   ]
  },
  {
   "cell_type": "code",
   "execution_count": 5,
   "id": "substantial-seating",
   "metadata": {},
   "outputs": [
    {
     "data": {
      "application/vnd.jupyter.widget-view+json": {
       "model_id": "f3641506f66d49a1838012bac5dd3a4b",
       "version_major": 2,
       "version_minor": 0
      },
      "text/plain": [
       "  0%|          | 0/100 [00:00<?, ?it/s]"
      ]
     },
     "metadata": {},
     "output_type": "display_data"
    },
    {
     "data": {
      "application/vnd.jupyter.widget-view+json": {
       "model_id": "bab86f2051904dfd9b7b839f81b80923",
       "version_major": 2,
       "version_minor": 0
      },
      "text/plain": [
       "  0%|          | 0/100 [00:00<?, ?it/s]"
      ]
     },
     "metadata": {},
     "output_type": "display_data"
    },
    {
     "name": "stdout",
     "output_type": "stream",
     "text": [
      "@MyproteinUK\n",
      "@roccofortehotels\n",
      "@tuimagiclife\n",
      "@iamzlatanibrahimovic\n"
     ]
    },
    {
     "data": {
      "application/vnd.jupyter.widget-view+json": {
       "model_id": "7bd572fa5f594bfca628897987cdf40f",
       "version_major": 2,
       "version_minor": 0
      },
      "text/plain": [
       "  0%|          | 0/100 [00:00<?, ?it/s]"
      ]
     },
     "metadata": {},
     "output_type": "display_data"
    },
    {
     "name": "stdout",
     "output_type": "stream",
     "text": [
      "@aktiimperialhotel\n",
      "@aktiimperialhotel\n",
      "@caraviabeachhotel\n",
      "@hoteldelavillerome\n",
      "@tuimagiclife\n",
      "@kristincavallari\n"
     ]
    },
    {
     "data": {
      "application/vnd.jupyter.widget-view+json": {
       "model_id": "76586cd9e47744d7ae41edad16580f37",
       "version_major": 2,
       "version_minor": 0
      },
      "text/plain": [
       "  0%|          | 0/100 [00:00<?, ?it/s]"
      ]
     },
     "metadata": {},
     "output_type": "display_data"
    },
    {
     "name": "stdout",
     "output_type": "stream",
     "text": [
      "@aktiimperialhotel\n",
      "@misssportytravels\n",
      "@hotelvilon\n",
      "@stellaislandcrete\n",
      "@paolanunez\n"
     ]
    },
    {
     "data": {
      "application/vnd.jupyter.widget-view+json": {
       "model_id": "2b321c285b0f4172b8a7f286424150b7",
       "version_major": 2,
       "version_minor": 0
      },
      "text/plain": [
       "  0%|          | 0/100 [00:00<?, ?it/s]"
      ]
     },
     "metadata": {},
     "output_type": "display_data"
    },
    {
     "name": "stdout",
     "output_type": "stream",
     "text": [
      "@caraviabeachhotel\n"
     ]
    },
    {
     "data": {
      "application/vnd.jupyter.widget-view+json": {
       "model_id": "20ba1d3613cf419996530184caf2ae37",
       "version_major": 2,
       "version_minor": 0
      },
      "text/plain": [
       "  0%|          | 0/100 [00:00<?, ?it/s]"
      ]
     },
     "metadata": {},
     "output_type": "display_data"
    },
    {
     "name": "stdout",
     "output_type": "stream",
     "text": [
      "@mayiaexclusiveresort\n"
     ]
    },
    {
     "data": {
      "application/vnd.jupyter.widget-view+json": {
       "model_id": "5031635922194377a66c7cc6a72c73fa",
       "version_major": 2,
       "version_minor": 0
      },
      "text/plain": [
       "  0%|          | 0/100 [00:00<?, ?it/s]"
      ]
     },
     "metadata": {},
     "output_type": "display_data"
    },
    {
     "data": {
      "application/vnd.jupyter.widget-view+json": {
       "model_id": "8727946a352f490bbb0cf3110d768bb8",
       "version_major": 2,
       "version_minor": 0
      },
      "text/plain": [
       "  0%|          | 0/100 [00:00<?, ?it/s]"
      ]
     },
     "metadata": {},
     "output_type": "display_data"
    }
   ],
   "source": [
    "cols = ['Twitter Handle']\n",
    "cols += [f'Result {i+1}' for i in range(7)]\n",
    "for col in cols:\n",
    "    fn[col] = get_ids(fn[col])"
   ]
  },
  {
   "cell_type": "markdown",
   "id": "royal-bowling",
   "metadata": {},
   "source": [
    "## With a Twitter Account "
   ]
  },
  {
   "cell_type": "code",
   "execution_count": 6,
   "id": "inclusive-mistake",
   "metadata": {},
   "outputs": [],
   "source": [
    "fn_acc = fn[fn['Twitter Handle'] != 0].copy() "
   ]
  },
  {
   "cell_type": "code",
   "execution_count": 7,
   "id": "former-mason",
   "metadata": {},
   "outputs": [],
   "source": [
    "top1 = [False for i in range(len(fn_acc))]\n",
    "top5 = [False for i in range(len(fn_acc))]\n",
    "top10 = [False for i in range(len(fn_acc))]\n",
    "\n",
    "for i, acc in enumerate(fn_acc['Twitter Handle']):\n",
    "    for j,res in enumerate(fn_acc[[f'Result {k+1}' for k in range(7)]].iloc[i].unique()):\n",
    "        if acc == res:\n",
    "            if j < 1:\n",
    "                top1[i] = True\n",
    "            elif 0 < j < 6:\n",
    "                top5[i] = True\n",
    "            else:\n",
    "                top10[j] = True"
   ]
  },
  {
   "cell_type": "code",
   "execution_count": 8,
   "id": "hispanic-terrorist",
   "metadata": {},
   "outputs": [],
   "source": [
    "found = [a or b or c for a,b,c in zip(top1,top5,top10)]"
   ]
  },
  {
   "cell_type": "code",
   "execution_count": 9,
   "id": "naval-sheet",
   "metadata": {},
   "outputs": [
    {
     "data": {
      "text/plain": [
       "<matplotlib.legend.Legend at 0x7fbcbc6f32e0>"
      ]
     },
     "execution_count": 9,
     "metadata": {},
     "output_type": "execute_result"
    },
    {
     "data": {
      "image/png": "[encoded data removed]",
      "text/plain": [
       "<Figure size 432x288 with 1 Axes>"
      ]
     },
     "metadata": {},
     "output_type": "display_data"
    }
   ],
   "source": [
    "fig, ax = plt.subplots()\n",
    "color_palette_list = ['#009BD0', '#00BDCC', '#ADD8E6']\n",
    "\n",
    "plt.rcParams['font.sans-serif'] = 'Arial'\n",
    "plt.rcParams['font.family'] = 'sans-serif'\n",
    "plt.rcParams['text.color'] = 'black'\n",
    "plt.rcParams['axes.labelcolor']= 'black'\n",
    "plt.rcParams['xtick.color'] = 'black'\n",
    "plt.rcParams['ytick.color'] = 'black'\n",
    "plt.rcParams['font.size']=14\n",
    "\n",
    "x = [top1.count(True), top5.count(True), found.count(False)]\n",
    "labels = ['Top 1', 'Top 5' ,'Was not found']\n",
    "_=ax.pie(x, colors=color_palette_list,\n",
    "         autopct='%1.0f%%', shadow=True, startangle=90, pctdistance=0.5,labeldistance=1.3, explode=(0.01,0.01,0.2))\n",
    "ax.legend(frameon=True, bbox_to_anchor=(1,0.75), labels=labels)"
   ]
  },
  {
   "cell_type": "markdown",
   "id": "liberal-template",
   "metadata": {},
   "source": [
    "## Without a Twitter Account "
   ]
  },
  {
   "cell_type": "code",
   "execution_count": 10,
   "id": "stopped-coffee",
   "metadata": {},
   "outputs": [],
   "source": [
    "target_names = ['Has an Account', 'Does not have a Account']"
   ]
  },
  {
   "cell_type": "code",
   "execution_count": 11,
   "id": "overhead-deadline",
   "metadata": {},
   "outputs": [],
   "source": [
    "fn_noacc = fn[fn['Twitter Handle'] == 0].copy() "
   ]
  },
  {
   "cell_type": "code",
   "execution_count": 12,
   "id": "biblical-authority",
   "metadata": {},
   "outputs": [],
   "source": [
    "correct = []\n",
    "for i, acc in enumerate(fn_noacc['Twitter Handle']):\n",
    "    if acc == fn_noacc['Result 1'].iloc[i]:\n",
    "        correct.append(True)\n",
    "    else:\n",
    "        correct.append(False)         "
   ]
  },
  {
   "cell_type": "code",
   "execution_count": 13,
   "id": "working-times",
   "metadata": {},
   "outputs": [
    {
     "data": {
      "text/plain": [
       "(10, 58)"
      ]
     },
     "execution_count": 13,
     "metadata": {},
     "output_type": "execute_result"
    }
   ],
   "source": [
    "correct.count(True), correct.count(False)"
   ]
  },
  {
   "cell_type": "markdown",
   "id": "current-brooklyn",
   "metadata": {},
   "source": [
    "## Final Results"
   ]
  },
  {
   "cell_type": "code",
   "execution_count": 14,
   "id": "united-mounting",
   "metadata": {},
   "outputs": [
    {
     "data": {
      "text/plain": [
       "array([[13, 10],\n",
       "       [19, 58]])"
      ]
     },
     "execution_count": 14,
     "metadata": {},
     "output_type": "execute_result"
    }
   ],
   "source": [
    "fin_result = np.array([[found.count(True),correct.count(True)],\n",
    "                      [found.count(False),correct.count(False)]])\n",
    "fin_result"
   ]
  },
  {
   "cell_type": "code",
   "execution_count": 15,
   "id": "color-coast",
   "metadata": {},
   "outputs": [
    {
     "data": {
      "text/plain": [
       "<AxesSubplot:>"
      ]
     },
     "execution_count": 15,
     "metadata": {},
     "output_type": "execute_result"
    },
    {
     "data": {
      "image/png": "[encoded data removed]",
      "text/plain": [
       "<Figure size 432x288 with 1 Axes>"
      ]
     },
     "metadata": {
      "needs_background": "light"
     },
     "output_type": "display_data"
    }
   ],
   "source": [
    "pd.DataFrame(fin_result, \n",
    "             columns=['Uses Twitter', 'Does not use Twitter'], \n",
    "             index=['Correct', 'Incorrect']).T.plot(kind='barh')"
   ]
  }
 ],
 "metadata": {
  "kernelspec": {
   "display_name": "Python 3",
   "language": "python",
   "name": "python3"
  },
  "language_info": {
   "codemirror_mode": {
    "name": "ipython",
    "version": 3
   },
   "file_extension": ".py",
   "mimetype": "text/x-python",
   "name": "python",
   "nbconvert_exporter": "python",
   "pygments_lexer": "ipython3",
   "version": "3.8.5"
  }
 },
 "nbformat": 4,
 "nbformat_minor": 5
}
