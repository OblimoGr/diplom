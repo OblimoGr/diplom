{
 "cells": [
  {
   "cell_type": "markdown",
   "id": "indie-arlington",
   "metadata": {},
   "source": [
    "# Search Tool Greek Hotels: GoogleAPI"
   ]
  },
  {
   "cell_type": "markdown",
   "id": "electoral-stopping",
   "metadata": {},
   "source": [
    "----\n",
    "Libraries:"
   ]
  },
  {
   "cell_type": "code",
   "execution_count": 1,
   "id": "going-final",
   "metadata": {},
   "outputs": [],
   "source": [
    "import re\n",
    "import numpy as np\n",
    "import pandas as pd\n",
    "import json \n",
    "from batoomer.twitter_nodes.search_engine import GoogleSearchEngine\n",
    "from googleapiclient.errors import HttpError\n",
    "from tqdm.notebook import tqdm\n",
    "import time"
   ]
  },
  {
   "cell_type": "markdown",
   "id": "figured-family",
   "metadata": {},
   "source": [
    "---\n",
    "Load Google Credentials and initialize GoogleSearchEngine"
   ]
  },
  {
   "cell_type": "markdown",
   "id": "popular-nancy",
   "metadata": {},
   "source": [
    "###### keys = []\n",
    "with open('../../../../google_credentials.json', 'r') as f:\n",
    "    keys = json.load(f)\n",
    "\n",
    "se = GoogleSearchEngine(google_api_key=keys['api_key'], search_engine_id=keys['twitter_seID'])"
   ]
  },
  {
   "cell_type": "markdown",
   "id": "flying-munich",
   "metadata": {},
   "source": [
    "---\n",
    "## Dataset"
   ]
  },
  {
   "cell_type": "code",
   "execution_count": 3,
   "id": "sharing-organ",
   "metadata": {},
   "outputs": [
    {
     "data": {
      "text/html": [
       "<div>\n",
       "<style scoped>\n",
       "    .dataframe tbody tr th:only-of-type {\n",
       "        vertical-align: middle;\n",
       "    }\n",
       "\n",
       "    .dataframe tbody tr th {\n",
       "        vertical-align: top;\n",
       "    }\n",
       "\n",
       "    .dataframe thead th {\n",
       "        text-align: right;\n",
       "    }\n",
       "</style>\n",
       "<table border=\"1\" class=\"dataframe\">\n",
       "  <thead>\n",
       "    <tr style=\"text-align: right;\">\n",
       "      <th></th>\n",
       "      <th>Hotel City</th>\n",
       "      <th>Hotelname</th>\n",
       "      <th>Twitter Handle</th>\n",
       "      <th>Website</th>\n",
       "    </tr>\n",
       "  </thead>\n",
       "  <tbody>\n",
       "    <tr>\n",
       "      <th>0</th>\n",
       "      <td>Faliraki</td>\n",
       "      <td>Hotel Calypso Palace</td>\n",
       "      <td></td>\n",
       "      <td>https://www.calypsopalace.gr/</td>\n",
       "    </tr>\n",
       "    <tr>\n",
       "      <th>1</th>\n",
       "      <td>Platanes</td>\n",
       "      <td>Nefeli Hotel</td>\n",
       "      <td></td>\n",
       "      <td>https://nefeli-hotel.gr/</td>\n",
       "    </tr>\n",
       "    <tr>\n",
       "      <th>2</th>\n",
       "      <td>Kallithea</td>\n",
       "      <td>Hotel Kalithea Horizon Royal</td>\n",
       "      <td></td>\n",
       "      <td>https://www.kalitheahorizon.gr/</td>\n",
       "    </tr>\n",
       "    <tr>\n",
       "      <th>3</th>\n",
       "      <td>Archangelos</td>\n",
       "      <td>Porto Angeli Beach Resort Hotel</td>\n",
       "      <td>portoangeli</td>\n",
       "      <td>https://www.portoangeli.com/</td>\n",
       "    </tr>\n",
       "    <tr>\n",
       "      <th>4</th>\n",
       "      <td>Faliraki</td>\n",
       "      <td>Hotel Calypso Beach</td>\n",
       "      <td></td>\n",
       "      <td>http://www.calypsohotel.gr/</td>\n",
       "    </tr>\n",
       "  </tbody>\n",
       "</table>\n",
       "</div>"
      ],
      "text/plain": [
       "    Hotel City                        Hotelname Twitter Handle  \\\n",
       "0     Faliraki             Hotel Calypso Palace                  \n",
       "1     Platanes                     Nefeli Hotel                  \n",
       "2    Kallithea     Hotel Kalithea Horizon Royal                  \n",
       "3  Archangelos  Porto Angeli Beach Resort Hotel    portoangeli   \n",
       "4     Faliraki              Hotel Calypso Beach                  \n",
       "\n",
       "                           Website  \n",
       "0    https://www.calypsopalace.gr/  \n",
       "1         https://nefeli-hotel.gr/  \n",
       "2  https://www.kalitheahorizon.gr/  \n",
       "3     https://www.portoangeli.com/  \n",
       "4      http://www.calypsohotel.gr/  "
      ]
     },
     "execution_count": 3,
     "metadata": {},
     "output_type": "execute_result"
    }
   ],
   "source": [
    "data = pd.read_csv('../../../../datasets/Hotels/search-tool/greek-hotels-2018-search.csv', delimiter=';')\n",
    "data.replace(np.nan, '', inplace=True)\n",
    "data.head(5)"
   ]
  },
  {
   "cell_type": "markdown",
   "id": "violent-valentine",
   "metadata": {},
   "source": [
    "---\n",
    "## Search: Hotel Names\n",
    "First we search Using the Hotels name. Than we merge our results with the dataset."
   ]
  },
  {
   "cell_type": "code",
   "execution_count": 4,
   "id": "honest-quilt",
   "metadata": {},
   "outputs": [
    {
     "data": {
      "application/vnd.jupyter.widget-view+json": {
       "model_id": "0674af359cd84c91aa5945de6e20e7b1",
       "version_major": 2,
       "version_minor": 0
      },
      "text/plain": [
       "  0%|          | 0/100 [00:00<?, ?it/s]"
      ]
     },
     "metadata": {},
     "output_type": "display_data"
    }
   ],
   "source": [
    "queries = list(data['Hotelname'])\n",
    "results = pd.DataFrame()\n",
    "\n",
    "for query in tqdm(queries):\n",
    "    try:\n",
    "        se.search(query=query)\n",
    "        result = se.get_results()\n",
    "        results= results.append(result)\n",
    "    except HttpError as err:\n",
    "        if err.resp.status == 429:\n",
    "            print('Api Limit Hit!')\n",
    "            time.sleep(60 * 60 * 24)\n",
    "            se.search(query=query)\n",
    "            result = se.get_results()\n",
    "            results= results.append(result)"
   ]
  },
  {
   "cell_type": "code",
   "execution_count": 5,
   "id": "proprietary-dynamics",
   "metadata": {},
   "outputs": [
    {
     "data": {
      "text/html": [
       "<div>\n",
       "<style scoped>\n",
       "    .dataframe tbody tr th:only-of-type {\n",
       "        vertical-align: middle;\n",
       "    }\n",
       "\n",
       "    .dataframe tbody tr th {\n",
       "        vertical-align: top;\n",
       "    }\n",
       "\n",
       "    .dataframe thead th {\n",
       "        text-align: right;\n",
       "    }\n",
       "</style>\n",
       "<table border=\"1\" class=\"dataframe\">\n",
       "  <thead>\n",
       "    <tr style=\"text-align: right;\">\n",
       "      <th></th>\n",
       "      <th>Hotel City</th>\n",
       "      <th>Hotelname</th>\n",
       "      <th>Twitter Handle</th>\n",
       "      <th>Website</th>\n",
       "      <th>Result 1</th>\n",
       "      <th>Result 2</th>\n",
       "      <th>Result 3</th>\n",
       "      <th>Result 4</th>\n",
       "      <th>Result 5</th>\n",
       "      <th>Result 6</th>\n",
       "      <th>Result 7</th>\n",
       "      <th>Result 8</th>\n",
       "      <th>Result 9</th>\n",
       "      <th>Result 10</th>\n",
       "    </tr>\n",
       "  </thead>\n",
       "  <tbody>\n",
       "    <tr>\n",
       "      <th>0</th>\n",
       "      <td>Faliraki</td>\n",
       "      <td>Hotel Calypso Palace</td>\n",
       "      <td></td>\n",
       "      <td>https://www.calypsopalace.gr/</td>\n",
       "      <td>@MMGYglobal</td>\n",
       "      <td>@VillaChalkidiki</td>\n",
       "      <td>@diamondpalaceho</td>\n",
       "      <td>@PlanetEarthRec</td>\n",
       "      <td></td>\n",
       "      <td></td>\n",
       "      <td></td>\n",
       "      <td></td>\n",
       "      <td></td>\n",
       "      <td></td>\n",
       "    </tr>\n",
       "    <tr>\n",
       "      <th>1</th>\n",
       "      <td>Platanes</td>\n",
       "      <td>Nefeli Hotel</td>\n",
       "      <td></td>\n",
       "      <td>https://nefeli-hotel.gr/</td>\n",
       "      <td>@NEFELIHOMES</td>\n",
       "      <td>@RoyalBlueResort</td>\n",
       "      <td>@paphotels</td>\n",
       "      <td>@NefeliNikiforou</td>\n",
       "      <td>@petrinosuites</td>\n",
       "      <td></td>\n",
       "      <td></td>\n",
       "      <td></td>\n",
       "      <td></td>\n",
       "      <td></td>\n",
       "    </tr>\n",
       "    <tr>\n",
       "      <th>2</th>\n",
       "      <td>Kallithea</td>\n",
       "      <td>Hotel Kalithea Horizon Royal</td>\n",
       "      <td></td>\n",
       "      <td>https://www.kalitheahorizon.gr/</td>\n",
       "      <td>@sheratonrhodes</td>\n",
       "      <td>@CaesarsGardens</td>\n",
       "      <td>@dmarisbay</td>\n",
       "      <td>@apollobeachsa</td>\n",
       "      <td></td>\n",
       "      <td></td>\n",
       "      <td></td>\n",
       "      <td></td>\n",
       "      <td></td>\n",
       "      <td></td>\n",
       "    </tr>\n",
       "    <tr>\n",
       "      <th>3</th>\n",
       "      <td>Archangelos</td>\n",
       "      <td>Porto Angeli Beach Resort Hotel</td>\n",
       "      <td>portoangeli</td>\n",
       "      <td>https://www.portoangeli.com/</td>\n",
       "      <td>@krpec</td>\n",
       "      <td>@apollobeachsa</td>\n",
       "      <td>@AvraBeachResort</td>\n",
       "      <td>@sheratonrhodes</td>\n",
       "      <td>@dmarisbay</td>\n",
       "      <td></td>\n",
       "      <td></td>\n",
       "      <td></td>\n",
       "      <td></td>\n",
       "      <td></td>\n",
       "    </tr>\n",
       "    <tr>\n",
       "      <th>4</th>\n",
       "      <td>Faliraki</td>\n",
       "      <td>Hotel Calypso Beach</td>\n",
       "      <td></td>\n",
       "      <td>http://www.calypsohotel.gr/</td>\n",
       "      <td>@CalypsoTowerlll</td>\n",
       "      <td>@CalypsoQueenFL</td>\n",
       "      <td>@medplaya</td>\n",
       "      <td>@TimAtenKnows</td>\n",
       "      <td></td>\n",
       "      <td></td>\n",
       "      <td></td>\n",
       "      <td></td>\n",
       "      <td></td>\n",
       "      <td></td>\n",
       "    </tr>\n",
       "  </tbody>\n",
       "</table>\n",
       "</div>"
      ],
      "text/plain": [
       "    Hotel City                        Hotelname Twitter Handle  \\\n",
       "0     Faliraki             Hotel Calypso Palace                  \n",
       "1     Platanes                     Nefeli Hotel                  \n",
       "2    Kallithea     Hotel Kalithea Horizon Royal                  \n",
       "3  Archangelos  Porto Angeli Beach Resort Hotel    portoangeli   \n",
       "4     Faliraki              Hotel Calypso Beach                  \n",
       "\n",
       "                           Website          Result 1          Result 2  \\\n",
       "0    https://www.calypsopalace.gr/       @MMGYglobal  @VillaChalkidiki   \n",
       "1         https://nefeli-hotel.gr/      @NEFELIHOMES  @RoyalBlueResort   \n",
       "2  https://www.kalitheahorizon.gr/   @sheratonrhodes   @CaesarsGardens   \n",
       "3     https://www.portoangeli.com/            @krpec    @apollobeachsa   \n",
       "4      http://www.calypsohotel.gr/  @CalypsoTowerlll   @CalypsoQueenFL   \n",
       "\n",
       "           Result 3          Result 4        Result 5 Result 6 Result 7  \\\n",
       "0  @diamondpalaceho   @PlanetEarthRec                                     \n",
       "1        @paphotels  @NefeliNikiforou  @petrinosuites                     \n",
       "2        @dmarisbay    @apollobeachsa                                     \n",
       "3  @AvraBeachResort   @sheratonrhodes      @dmarisbay                     \n",
       "4         @medplaya     @TimAtenKnows                                     \n",
       "\n",
       "  Result 8 Result 9 Result 10  \n",
       "0                              \n",
       "1                              \n",
       "2                              \n",
       "3                              \n",
       "4                              "
      ]
     },
     "execution_count": 5,
     "metadata": {},
     "output_type": "execute_result"
    }
   ],
   "source": [
    "results = (results\n",
    "           .replace(np.nan, '')\n",
    "           .rename(columns={'Query':'Hotelname'})\n",
    "           .reset_index()\n",
    "           .drop('index', axis=1))\n",
    "results = pd.merge(data, results, on=results.index, how='outer').drop(['key_0', 'Hotelname_y'], axis =1).rename(columns={'Hotelname_x':'Hotelname'})\n",
    "results.head(5)"
   ]
  },
  {
   "cell_type": "code",
   "execution_count": 7,
   "id": "material-appearance",
   "metadata": {},
   "outputs": [],
   "source": [
    "results.to_csv('Google-Search-Hotelname-Hotels.csv', index=False)"
   ]
  },
  {
   "cell_type": "code",
   "execution_count": null,
   "id": "chubby-stock",
   "metadata": {},
   "outputs": [],
   "source": []
  }
 ],
 "metadata": {
  "kernelspec": {
   "display_name": "Python 3",
   "language": "python",
   "name": "python3"
  },
  "language_info": {
   "codemirror_mode": {
    "name": "ipython",
    "version": 3
   },
   "file_extension": ".py",
   "mimetype": "text/x-python",
   "name": "python",
   "nbconvert_exporter": "python",
   "pygments_lexer": "ipython3",
   "version": "3.8.5"
  }
 },
 "nbformat": 4,
 "nbformat_minor": 5
}
