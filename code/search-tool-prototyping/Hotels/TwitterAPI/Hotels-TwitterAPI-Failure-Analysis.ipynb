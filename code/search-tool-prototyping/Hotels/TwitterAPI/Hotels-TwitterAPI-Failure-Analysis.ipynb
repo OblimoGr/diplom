{
 "cells": [
  {
   "cell_type": "markdown",
   "id": "brief-disposition",
   "metadata": {},
   "source": [
    "# Search Tool Hotels: TwitterAPI Failure Analysis"
   ]
  },
  {
   "cell_type": "code",
   "execution_count": 1,
   "id": "black-spanking",
   "metadata": {},
   "outputs": [],
   "source": [
    "import pandas as pd\n",
    "import numpy as np\n",
    "import matplotlib.pyplot as plt\n",
    "import seaborn as sns\n",
    "import json\n",
    "import tweepy\n",
    "from tqdm.notebook import tqdm"
   ]
  },
  {
   "cell_type": "code",
   "execution_count": 2,
   "id": "immune-situation",
   "metadata": {},
   "outputs": [],
   "source": [
    "twitter_credentials = []\n",
    "with open('../../../../twitter_credentials.json', 'r') as f:\n",
    "    twitter_credentials = json.load(f)        \n",
    "\n",
    "# TwitterAPI Authentication\n",
    "auth = tweepy.OAuthHandler(twitter_credentials['consumer_key'],\n",
    "                                   twitter_credentials['consumer_secret'])\n",
    "auth.set_access_token(twitter_credentials['access_token_key'],\n",
    "                              twitter_credentials['access_token_secret'])\n",
    "API = tweepy.API(auth, wait_on_rate_limit=True, wait_on_rate_limit_notify=True, timeout=60*5)"
   ]
  },
  {
   "cell_type": "markdown",
   "id": "palestinian-evans",
   "metadata": {},
   "source": [
    "# Fullnames"
   ]
  },
  {
   "cell_type": "code",
   "execution_count": 3,
   "id": "charitable-mobility",
   "metadata": {},
   "outputs": [
    {
     "data": {
      "text/html": [
       "<div>\n",
       "<style scoped>\n",
       "    .dataframe tbody tr th:only-of-type {\n",
       "        vertical-align: middle;\n",
       "    }\n",
       "\n",
       "    .dataframe tbody tr th {\n",
       "        vertical-align: top;\n",
       "    }\n",
       "\n",
       "    .dataframe thead th {\n",
       "        text-align: right;\n",
       "    }\n",
       "</style>\n",
       "<table border=\"1\" class=\"dataframe\">\n",
       "  <thead>\n",
       "    <tr style=\"text-align: right;\">\n",
       "      <th></th>\n",
       "      <th>Hotel City</th>\n",
       "      <th>Hotelname</th>\n",
       "      <th>Twitter Handle</th>\n",
       "      <th>Website</th>\n",
       "      <th>Result 1</th>\n",
       "      <th>Result 2</th>\n",
       "      <th>Result 3</th>\n",
       "      <th>Result 4</th>\n",
       "      <th>Result 5</th>\n",
       "      <th>Result 6</th>\n",
       "      <th>...</th>\n",
       "      <th>Result 11</th>\n",
       "      <th>Result 12</th>\n",
       "      <th>Result 13</th>\n",
       "      <th>Result 14</th>\n",
       "      <th>Result 15</th>\n",
       "      <th>Result 16</th>\n",
       "      <th>Result 17</th>\n",
       "      <th>Result 18</th>\n",
       "      <th>Result 19</th>\n",
       "      <th>Result 20</th>\n",
       "    </tr>\n",
       "  </thead>\n",
       "  <tbody>\n",
       "    <tr>\n",
       "      <th>0</th>\n",
       "      <td>Faliraki</td>\n",
       "      <td>Hotel Calypso Palace</td>\n",
       "      <td></td>\n",
       "      <td>https://www.calypsopalace.gr/</td>\n",
       "      <td>1308314363086897152</td>\n",
       "      <td>0</td>\n",
       "      <td>0</td>\n",
       "      <td>0</td>\n",
       "      <td>0</td>\n",
       "      <td>0</td>\n",
       "      <td>...</td>\n",
       "      <td>0</td>\n",
       "      <td>0</td>\n",
       "      <td>0</td>\n",
       "      <td>0</td>\n",
       "      <td>0</td>\n",
       "      <td>0</td>\n",
       "      <td>0</td>\n",
       "      <td>0</td>\n",
       "      <td>0</td>\n",
       "      <td>0</td>\n",
       "    </tr>\n",
       "    <tr>\n",
       "      <th>1</th>\n",
       "      <td>Platanes</td>\n",
       "      <td>Nefeli Hotel</td>\n",
       "      <td></td>\n",
       "      <td>https://nefeli-hotel.gr/</td>\n",
       "      <td>364266196</td>\n",
       "      <td>388472346</td>\n",
       "      <td>747720708726349824</td>\n",
       "      <td>2440309615</td>\n",
       "      <td>1445935388</td>\n",
       "      <td>383129663</td>\n",
       "      <td>...</td>\n",
       "      <td>0</td>\n",
       "      <td>0</td>\n",
       "      <td>0</td>\n",
       "      <td>0</td>\n",
       "      <td>0</td>\n",
       "      <td>0</td>\n",
       "      <td>0</td>\n",
       "      <td>0</td>\n",
       "      <td>0</td>\n",
       "      <td>0</td>\n",
       "    </tr>\n",
       "    <tr>\n",
       "      <th>2</th>\n",
       "      <td>Kallithea</td>\n",
       "      <td>Hotel Kalithea Horizon Royal</td>\n",
       "      <td></td>\n",
       "      <td>https://www.kalitheahorizon.gr/</td>\n",
       "      <td>0</td>\n",
       "      <td>0</td>\n",
       "      <td>0</td>\n",
       "      <td>0</td>\n",
       "      <td>0</td>\n",
       "      <td>0</td>\n",
       "      <td>...</td>\n",
       "      <td>0</td>\n",
       "      <td>0</td>\n",
       "      <td>0</td>\n",
       "      <td>0</td>\n",
       "      <td>0</td>\n",
       "      <td>0</td>\n",
       "      <td>0</td>\n",
       "      <td>0</td>\n",
       "      <td>0</td>\n",
       "      <td>0</td>\n",
       "    </tr>\n",
       "    <tr>\n",
       "      <th>3</th>\n",
       "      <td>Archangelos</td>\n",
       "      <td>Porto Angeli Beach Resort Hotel</td>\n",
       "      <td>portoangeli</td>\n",
       "      <td>https://www.portoangeli.com/</td>\n",
       "      <td>0</td>\n",
       "      <td>0</td>\n",
       "      <td>0</td>\n",
       "      <td>0</td>\n",
       "      <td>0</td>\n",
       "      <td>0</td>\n",
       "      <td>...</td>\n",
       "      <td>0</td>\n",
       "      <td>0</td>\n",
       "      <td>0</td>\n",
       "      <td>0</td>\n",
       "      <td>0</td>\n",
       "      <td>0</td>\n",
       "      <td>0</td>\n",
       "      <td>0</td>\n",
       "      <td>0</td>\n",
       "      <td>0</td>\n",
       "    </tr>\n",
       "    <tr>\n",
       "      <th>4</th>\n",
       "      <td>Faliraki</td>\n",
       "      <td>Hotel Calypso Beach</td>\n",
       "      <td></td>\n",
       "      <td>http://www.calypsohotel.gr/</td>\n",
       "      <td>722657046122913793</td>\n",
       "      <td>0</td>\n",
       "      <td>0</td>\n",
       "      <td>0</td>\n",
       "      <td>0</td>\n",
       "      <td>0</td>\n",
       "      <td>...</td>\n",
       "      <td>0</td>\n",
       "      <td>0</td>\n",
       "      <td>0</td>\n",
       "      <td>0</td>\n",
       "      <td>0</td>\n",
       "      <td>0</td>\n",
       "      <td>0</td>\n",
       "      <td>0</td>\n",
       "      <td>0</td>\n",
       "      <td>0</td>\n",
       "    </tr>\n",
       "  </tbody>\n",
       "</table>\n",
       "<p>5 rows × 24 columns</p>\n",
       "</div>"
      ],
      "text/plain": [
       "    Hotel City                        Hotelname Twitter Handle  \\\n",
       "0     Faliraki             Hotel Calypso Palace                  \n",
       "1     Platanes                     Nefeli Hotel                  \n",
       "2    Kallithea     Hotel Kalithea Horizon Royal                  \n",
       "3  Archangelos  Porto Angeli Beach Resort Hotel    portoangeli   \n",
       "4     Faliraki              Hotel Calypso Beach                  \n",
       "\n",
       "                           Website             Result 1   Result 2  \\\n",
       "0    https://www.calypsopalace.gr/  1308314363086897152          0   \n",
       "1         https://nefeli-hotel.gr/            364266196  388472346   \n",
       "2  https://www.kalitheahorizon.gr/                    0          0   \n",
       "3     https://www.portoangeli.com/                    0          0   \n",
       "4      http://www.calypsohotel.gr/   722657046122913793          0   \n",
       "\n",
       "             Result 3    Result 4    Result 5   Result 6  ...  Result 11  \\\n",
       "0                   0           0           0          0  ...          0   \n",
       "1  747720708726349824  2440309615  1445935388  383129663  ...          0   \n",
       "2                   0           0           0          0  ...          0   \n",
       "3                   0           0           0          0  ...          0   \n",
       "4                   0           0           0          0  ...          0   \n",
       "\n",
       "   Result 12  Result 13  Result 14  Result 15  Result 16  Result 17  \\\n",
       "0          0          0          0          0          0          0   \n",
       "1          0          0          0          0          0          0   \n",
       "2          0          0          0          0          0          0   \n",
       "3          0          0          0          0          0          0   \n",
       "4          0          0          0          0          0          0   \n",
       "\n",
       "   Result 18  Result 19  Result 20  \n",
       "0          0          0          0  \n",
       "1          0          0          0  \n",
       "2          0          0          0  \n",
       "3          0          0          0  \n",
       "4          0          0          0  \n",
       "\n",
       "[5 rows x 24 columns]"
      ]
     },
     "execution_count": 3,
     "metadata": {},
     "output_type": "execute_result"
    }
   ],
   "source": [
    "fn = pd.read_csv('Twitter-Search-Hotelname-Hotels.csv')\n",
    "fn = fn.replace(np.nan, '')\n",
    "fn.head()"
   ]
  },
  {
   "cell_type": "code",
   "execution_count": 4,
   "id": "cooperative-share",
   "metadata": {},
   "outputs": [],
   "source": [
    "def get_ids(df):\n",
    "    true_id = []\n",
    "    for acc in tqdm(df):\n",
    "        if acc != '':\n",
    "            try:\n",
    "                user = API.get_user(acc)\n",
    "                true_id.append(user.id)\n",
    "            except:\n",
    "                print(acc)\n",
    "                true_id.append(0)\n",
    "        else:\n",
    "            true_id.append(0)\n",
    "    return true_id"
   ]
  },
  {
   "cell_type": "code",
   "execution_count": 5,
   "id": "sonic-killing",
   "metadata": {},
   "outputs": [
    {
     "data": {
      "application/vnd.jupyter.widget-view+json": {
       "model_id": "ed3bc4b6eedf4dbea621c5bca42fadc6",
       "version_major": 2,
       "version_minor": 0
      },
      "text/plain": [
       "  0%|          | 0/100 [00:00<?, ?it/s]"
      ]
     },
     "metadata": {},
     "output_type": "display_data"
    }
   ],
   "source": [
    "cols = ['Twitter Handle']\n",
    "for col in cols:\n",
    "    fn[col] = get_ids(fn[col])"
   ]
  },
  {
   "cell_type": "markdown",
   "id": "composed-prison",
   "metadata": {},
   "source": [
    "## With a Twitter Account "
   ]
  },
  {
   "cell_type": "code",
   "execution_count": 11,
   "id": "generic-feedback",
   "metadata": {},
   "outputs": [],
   "source": [
    "fn_acc = fn[fn['Twitter Handle'] != 0].copy() "
   ]
  },
  {
   "cell_type": "code",
   "execution_count": 12,
   "id": "tutorial-telling",
   "metadata": {},
   "outputs": [],
   "source": [
    "top1 = [False for i in range(len(fn_acc))]\n",
    "top5 = [False for i in range(len(fn_acc))]\n",
    "top10 = [False for i in range(len(fn_acc))]\n",
    "\n",
    "for i, acc in enumerate(fn_acc['Twitter Handle']):\n",
    "    for j,res in enumerate(fn_acc[[f'Result {k+1}' for k in range(10)]].iloc[i].unique()):\n",
    "        if acc == res:\n",
    "            if j < 1:\n",
    "                top1[i] = True\n",
    "            elif 0 < j < 6:\n",
    "                top5[i] = True\n",
    "            else:\n",
    "                top10[j] = True"
   ]
  },
  {
   "cell_type": "code",
   "execution_count": 13,
   "id": "intellectual-somerset",
   "metadata": {},
   "outputs": [],
   "source": [
    "found = [a or b or c for a,b,c in zip(top1,top5,top10)]"
   ]
  },
  {
   "cell_type": "code",
   "execution_count": 14,
   "id": "nuclear-breeding",
   "metadata": {},
   "outputs": [
    {
     "data": {
      "text/plain": [
       "<matplotlib.legend.Legend at 0x7feca9bd5280>"
      ]
     },
     "execution_count": 14,
     "metadata": {},
     "output_type": "execute_result"
    },
    {
     "data": {
      "image/png": "[encoded data removed]",
      "text/plain": [
       "<Figure size 432x288 with 1 Axes>"
      ]
     },
     "metadata": {},
     "output_type": "display_data"
    }
   ],
   "source": [
    "fig, ax = plt.subplots()\n",
    "color_palette_list = ['#009BD0', '#00BDCC', '#ADD8E6']\n",
    "\n",
    "plt.rcParams['font.sans-serif'] = 'Arial'\n",
    "plt.rcParams['font.family'] = 'sans-serif'\n",
    "plt.rcParams['text.color'] = 'black'\n",
    "plt.rcParams['axes.labelcolor']= 'black'\n",
    "plt.rcParams['xtick.color'] = 'black'\n",
    "plt.rcParams['ytick.color'] = 'black'\n",
    "plt.rcParams['font.size']=14\n",
    "\n",
    "x = [top1.count(True), top5.count(True), found.count(False)]\n",
    "labels = ['Top 1', 'Top 5' ,'Was not found']\n",
    "_=ax.pie(x, colors=color_palette_list,\n",
    "         autopct='%1.0f%%', shadow=True, startangle=90, pctdistance=0.5,labeldistance=1.3, explode=(0.01,0.01,0.1))\n",
    "ax.legend(frameon=True, bbox_to_anchor=(1,0.75), labels=labels)"
   ]
  },
  {
   "cell_type": "markdown",
   "id": "static-marshall",
   "metadata": {},
   "source": [
    "## Without a Twitter Account "
   ]
  },
  {
   "cell_type": "code",
   "execution_count": 15,
   "id": "smoking-unknown",
   "metadata": {},
   "outputs": [],
   "source": [
    "target_names = ['Has an Account', 'Does not have a Account']"
   ]
  },
  {
   "cell_type": "code",
   "execution_count": 16,
   "id": "mature-second",
   "metadata": {},
   "outputs": [],
   "source": [
    "fn_noacc = fn[fn['Twitter Handle'] == 0].copy() "
   ]
  },
  {
   "cell_type": "code",
   "execution_count": 17,
   "id": "protective-freeze",
   "metadata": {},
   "outputs": [],
   "source": [
    "correct = []\n",
    "for i, acc in enumerate(fn_noacc['Twitter Handle']):\n",
    "    if acc == fn_noacc['Result 1'].iloc[i]:\n",
    "        correct.append(True)\n",
    "    else:\n",
    "        correct.append(False)         "
   ]
  },
  {
   "cell_type": "code",
   "execution_count": 18,
   "id": "interior-feeling",
   "metadata": {},
   "outputs": [
    {
     "data": {
      "text/plain": [
       "(50, 18)"
      ]
     },
     "execution_count": 18,
     "metadata": {},
     "output_type": "execute_result"
    }
   ],
   "source": [
    "correct.count(True), correct.count(False)"
   ]
  },
  {
   "cell_type": "markdown",
   "id": "narrative-enclosure",
   "metadata": {},
   "source": [
    "## Final Results"
   ]
  },
  {
   "cell_type": "code",
   "execution_count": 19,
   "id": "annoying-luxembourg",
   "metadata": {},
   "outputs": [
    {
     "data": {
      "text/plain": [
       "array([[ 5, 50],\n",
       "       [27, 18]])"
      ]
     },
     "execution_count": 19,
     "metadata": {},
     "output_type": "execute_result"
    }
   ],
   "source": [
    "fin_result = np.array([[found.count(True),correct.count(True)],\n",
    "                      [found.count(False),correct.count(False)]])\n",
    "fin_result"
   ]
  },
  {
   "cell_type": "code",
   "execution_count": 20,
   "id": "stupid-walnut",
   "metadata": {},
   "outputs": [
    {
     "data": {
      "text/plain": [
       "<AxesSubplot:>"
      ]
     },
     "execution_count": 20,
     "metadata": {},
     "output_type": "execute_result"
    },
    {
     "data": {
      "image/png": "[encoded data removed]",
      "text/plain": [
       "<Figure size 432x288 with 1 Axes>"
      ]
     },
     "metadata": {
      "needs_background": "light"
     },
     "output_type": "display_data"
    }
   ],
   "source": [
    "pd.DataFrame(fin_result, \n",
    "             columns=['Uses Twitter', 'Does not use Twitter'], \n",
    "             index=['Correct', 'Incorrect']).T.plot(kind='barh')"
   ]
  },
  {
   "cell_type": "code",
   "execution_count": null,
   "id": "wooden-toner",
   "metadata": {},
   "outputs": [],
   "source": []
  },
  {
   "cell_type": "code",
   "execution_count": null,
   "id": "certified-making",
   "metadata": {},
   "outputs": [],
   "source": []
  }
 ],
 "metadata": {
  "kernelspec": {
   "display_name": "Python 3",
   "language": "python",
   "name": "python3"
  },
  "language_info": {
   "codemirror_mode": {
    "name": "ipython",
    "version": 3
   },
   "file_extension": ".py",
   "mimetype": "text/x-python",
   "name": "python",
   "nbconvert_exporter": "python",
   "pygments_lexer": "ipython3",
   "version": "3.8.5"
  }
 },
 "nbformat": 4,
 "nbformat_minor": 5
}
