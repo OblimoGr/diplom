{
 "cells": [
  {
   "cell_type": "markdown",
   "id": "seeing-arcade",
   "metadata": {},
   "source": [
    "# Greek Hotels Classification Dataset"
   ]
  },
  {
   "cell_type": "code",
   "execution_count": 3,
   "id": "ordinary-contemporary",
   "metadata": {},
   "outputs": [],
   "source": [
    "import pandas as pd\n",
    "import numpy as np\n",
    "import tweepy\n",
    "import json\n",
    "from tqdm.notebook import tqdm\n",
    "import time"
   ]
  },
  {
   "cell_type": "code",
   "execution_count": 72,
   "id": "charming-terrace",
   "metadata": {},
   "outputs": [],
   "source": [
    "twitter_credentials = []\n",
    "with open('../../../twitter_credentials.json', 'r') as f:\n",
    "    twitter_credentials = json.load(f)\n",
    "    \n",
    "# TwitterAPI Authentication\n",
    "auth = tweepy.OAuthHandler(twitter_credentials['consumer_key'], twitter_credentials['consumer_secret'])\n",
    "auth.set_access_token(twitter_credentials['access_token_key'], twitter_credentials['access_token_secret'])\n",
    "API = tweepy.API(auth, wait_on_rate_limit=True, wait_on_rate_limit_notify=True)"
   ]
  },
  {
   "cell_type": "markdown",
   "id": "impressive-violation",
   "metadata": {},
   "source": [
    "# Step 1\n",
    "---\n",
    "Load foursquare poi twitter dataset and label hotels/resorts with 1 and rest with 0"
   ]
  },
  {
   "cell_type": "code",
   "execution_count": 45,
   "id": "proud-variance",
   "metadata": {},
   "outputs": [
    {
     "data": {
      "text/html": [
       "<div>\n",
       "<style scoped>\n",
       "    .dataframe tbody tr th:only-of-type {\n",
       "        vertical-align: middle;\n",
       "    }\n",
       "\n",
       "    .dataframe tbody tr th {\n",
       "        vertical-align: top;\n",
       "    }\n",
       "\n",
       "    .dataframe thead th {\n",
       "        text-align: right;\n",
       "    }\n",
       "</style>\n",
       "<table border=\"1\" class=\"dataframe\">\n",
       "  <thead>\n",
       "    <tr style=\"text-align: right;\">\n",
       "      <th></th>\n",
       "      <th>id</th>\n",
       "      <th>screen_name</th>\n",
       "      <th>category</th>\n",
       "    </tr>\n",
       "  </thead>\n",
       "  <tbody>\n",
       "    <tr>\n",
       "      <th>0</th>\n",
       "      <td>4b474a16f964a520382e26e3</td>\n",
       "      <td>Starbucks_Gr</td>\n",
       "      <td>Coffee Shop</td>\n",
       "    </tr>\n",
       "    <tr>\n",
       "      <th>1</th>\n",
       "      <td>4b4b19baf964a5204a9226e3</td>\n",
       "      <td>TGIFridaysGR</td>\n",
       "      <td>American Restaurant</td>\n",
       "    </tr>\n",
       "    <tr>\n",
       "      <th>2</th>\n",
       "      <td>4b659a3ff964a52006f62ae3</td>\n",
       "      <td>teloglion</td>\n",
       "      <td>Art Museum</td>\n",
       "    </tr>\n",
       "    <tr>\n",
       "      <th>3</th>\n",
       "      <td>4b6d4b66f964a520bf6f2ce3</td>\n",
       "      <td>Paradosiakonet</td>\n",
       "      <td>Snack Place</td>\n",
       "    </tr>\n",
       "    <tr>\n",
       "      <th>4</th>\n",
       "      <td>4b6de067f964a520f1972ce3</td>\n",
       "      <td>medpalace</td>\n",
       "      <td>Hotel</td>\n",
       "    </tr>\n",
       "  </tbody>\n",
       "</table>\n",
       "</div>"
      ],
      "text/plain": [
       "                         id     screen_name             category\n",
       "0  4b474a16f964a520382e26e3    Starbucks_Gr          Coffee Shop\n",
       "1  4b4b19baf964a5204a9226e3    TGIFridaysGR  American Restaurant\n",
       "2  4b659a3ff964a52006f62ae3       teloglion           Art Museum\n",
       "3  4b6d4b66f964a520bf6f2ce3  Paradosiakonet          Snack Place\n",
       "4  4b6de067f964a520f1972ce3       medpalace                Hotel"
      ]
     },
     "execution_count": 45,
     "metadata": {},
     "output_type": "execute_result"
    }
   ],
   "source": [
    "df = pd.read_csv('../../Poi-twitter/poi-twitter-category-processed.csv')\n",
    "df.head()"
   ]
  },
  {
   "cell_type": "code",
   "execution_count": 46,
   "id": "corporate-curtis",
   "metadata": {},
   "outputs": [],
   "source": [
    "df1 = df[(df['category'] == 'Hotel') | (df['category'] == 'Resort')].copy()\n",
    "df2 = df[(df['category'] != 'Hotel') & (df['category'] != 'Resort')].copy()"
   ]
  },
  {
   "cell_type": "code",
   "execution_count": 47,
   "id": "induced-pastor",
   "metadata": {},
   "outputs": [
    {
     "data": {
      "text/plain": [
       "(125, 587)"
      ]
     },
     "execution_count": 47,
     "metadata": {},
     "output_type": "execute_result"
    }
   ],
   "source": [
    "len(df1), len(df2)"
   ]
  },
  {
   "cell_type": "code",
   "execution_count": 48,
   "id": "plain-principal",
   "metadata": {},
   "outputs": [],
   "source": [
    "df1['hotel'] = [1 for i in range(len(df1))]\n",
    "df2['hotel'] = [0 for i in range(len(df2))]"
   ]
  },
  {
   "cell_type": "code",
   "execution_count": 49,
   "id": "virtual-parliament",
   "metadata": {},
   "outputs": [],
   "source": [
    "df1 = df1.drop('category', axis =1)\n",
    "df2 = df2.drop('category', axis =1)"
   ]
  },
  {
   "cell_type": "markdown",
   "id": "overall-prophet",
   "metadata": {},
   "source": [
    "# Step 2\n",
    "---\n",
    "Balance the dataset"
   ]
  },
  {
   "cell_type": "code",
   "execution_count": 51,
   "id": "general-cisco",
   "metadata": {},
   "outputs": [],
   "source": [
    "df2 = df2.iloc[:125]"
   ]
  },
  {
   "cell_type": "code",
   "execution_count": 52,
   "id": "adult-april",
   "metadata": {},
   "outputs": [],
   "source": [
    "df1 = df1.append(df2)\n",
    "df1 = df1.reset_index().drop('index', axis= 1)"
   ]
  },
  {
   "cell_type": "code",
   "execution_count": 53,
   "id": "raised-source",
   "metadata": {},
   "outputs": [
    {
     "data": {
      "text/plain": [
       "250"
      ]
     },
     "execution_count": 53,
     "metadata": {},
     "output_type": "execute_result"
    }
   ],
   "source": [
    "len(df1)"
   ]
  },
  {
   "cell_type": "markdown",
   "id": "utility-economy",
   "metadata": {},
   "source": [
    "# Step 3\n",
    "---\n",
    "Collect the data"
   ]
  },
  {
   "cell_type": "code",
   "execution_count": 73,
   "id": "pressed-motion",
   "metadata": {},
   "outputs": [],
   "source": [
    "# Function For Fetching Tweets\n",
    "def fetch_tweets(data):\n",
    "    \n",
    "    recent_100_tweets = []\n",
    "    \n",
    "\n",
    "    for screen_name in tqdm(data):\n",
    "        tweet100 = str()\n",
    "        count = 0    \n",
    "        try:\n",
    "            for status in tweepy.Cursor(API.user_timeline, screen_name=screen_name).items(100):\n",
    "                tweet100 = tweet100 + ' ' + status.text                \n",
    "                count+= 1\n",
    "            \n",
    "        except tweepy.RateLimitError as err:\n",
    "            print('Rate Limit Hit. Wait 15min.')\n",
    "            time.sleep(60*15)\n",
    "            for status in tweepy.Cursor(API.user_timeline, screen_name=screen_name, extended=True).items(100):\n",
    "                tweet100 = tweet100 + ' ' + status.text\n",
    "        except Exception as err:\n",
    "            print(err)  \n",
    "        recent_100_tweets.append(tweet100)\n",
    "            \n",
    "    return (recent_100_tweets)"
   ]
  },
  {
   "cell_type": "code",
   "execution_count": 60,
   "id": "answering-temple",
   "metadata": {},
   "outputs": [
    {
     "data": {
      "application/vnd.jupyter.widget-view+json": {
       "model_id": "c12626247c0642009bce51f4354f8652",
       "version_major": 2,
       "version_minor": 0
      },
      "text/plain": [
       "  0%|          | 0/250 [00:00<?, ?it/s]"
      ]
     },
     "metadata": {},
     "output_type": "display_data"
    }
   ],
   "source": [
    "failed = []\n",
    "results = []\n",
    "\n",
    "for account in tqdm(df1['screen_name']):\n",
    "    try:\n",
    "        user = API.get_user(account)\n",
    "        results.append(\n",
    "            [user.screen_name, user.name, user.description ,user.statuses_count, \n",
    "             user.friends_count, user.followers_count])\n",
    "    except tweepy.RateLimitError as err:\n",
    "        print('Rate Limit Hit. Wait 15 min.')\n",
    "        time.sleep(60*15)\n",
    "        \n",
    "    except Exception as err:\n",
    "        print(f'Errror for {account}: {err}')\n",
    "        failed.append(account)"
   ]
  },
  {
   "cell_type": "code",
   "execution_count": 61,
   "id": "particular-compiler",
   "metadata": {},
   "outputs": [
    {
     "data": {
      "text/html": [
       "<div>\n",
       "<style scoped>\n",
       "    .dataframe tbody tr th:only-of-type {\n",
       "        vertical-align: middle;\n",
       "    }\n",
       "\n",
       "    .dataframe tbody tr th {\n",
       "        vertical-align: top;\n",
       "    }\n",
       "\n",
       "    .dataframe thead th {\n",
       "        text-align: right;\n",
       "    }\n",
       "</style>\n",
       "<table border=\"1\" class=\"dataframe\">\n",
       "  <thead>\n",
       "    <tr style=\"text-align: right;\">\n",
       "      <th></th>\n",
       "      <th>screen_name</th>\n",
       "      <th>name</th>\n",
       "      <th>description</th>\n",
       "      <th>statuses_count</th>\n",
       "      <th>friends_count</th>\n",
       "      <th>followers_count</th>\n",
       "    </tr>\n",
       "  </thead>\n",
       "  <tbody>\n",
       "    <tr>\n",
       "      <th>0</th>\n",
       "      <td>medpalace</td>\n",
       "      <td>Mediterranean Palace</td>\n",
       "      <td>A cozy 5 star hotel in the city center with an...</td>\n",
       "      <td>269</td>\n",
       "      <td>543</td>\n",
       "      <td>381</td>\n",
       "    </tr>\n",
       "    <tr>\n",
       "      <th>1</th>\n",
       "      <td>RodosPalace</td>\n",
       "      <td>Rodos Palace | abav²</td>\n",
       "      <td>Rodos Palace is regarded as the finest deluxe ...</td>\n",
       "      <td>1169</td>\n",
       "      <td>615</td>\n",
       "      <td>577</td>\n",
       "    </tr>\n",
       "    <tr>\n",
       "      <th>2</th>\n",
       "      <td>Cactus_Rhodes</td>\n",
       "      <td>Cactus Hotel</td>\n",
       "      <td></td>\n",
       "      <td>719</td>\n",
       "      <td>14</td>\n",
       "      <td>40</td>\n",
       "    </tr>\n",
       "    <tr>\n",
       "      <th>3</th>\n",
       "      <td>SantoriniVillas</td>\n",
       "      <td>Villas &amp; Mansions</td>\n",
       "      <td>Private Villas &amp; Mansions in Santorini offerin...</td>\n",
       "      <td>114</td>\n",
       "      <td>473</td>\n",
       "      <td>189</td>\n",
       "    </tr>\n",
       "    <tr>\n",
       "      <th>4</th>\n",
       "      <td>SunRocksHotel</td>\n",
       "      <td>Sun Rocks Hotel</td>\n",
       "      <td>An enchanting romantic couples' getaway in the...</td>\n",
       "      <td>252</td>\n",
       "      <td>94</td>\n",
       "      <td>337</td>\n",
       "    </tr>\n",
       "  </tbody>\n",
       "</table>\n",
       "</div>"
      ],
      "text/plain": [
       "       screen_name                  name  \\\n",
       "0        medpalace  Mediterranean Palace   \n",
       "1      RodosPalace  Rodos Palace | abav²   \n",
       "2    Cactus_Rhodes          Cactus Hotel   \n",
       "3  SantoriniVillas     Villas & Mansions   \n",
       "4    SunRocksHotel       Sun Rocks Hotel   \n",
       "\n",
       "                                         description  statuses_count  \\\n",
       "0  A cozy 5 star hotel in the city center with an...             269   \n",
       "1  Rodos Palace is regarded as the finest deluxe ...            1169   \n",
       "2                                                                719   \n",
       "3  Private Villas & Mansions in Santorini offerin...             114   \n",
       "4  An enchanting romantic couples' getaway in the...             252   \n",
       "\n",
       "   friends_count  followers_count  \n",
       "0            543              381  \n",
       "1            615              577  \n",
       "2             14               40  \n",
       "3            473              189  \n",
       "4             94              337  "
      ]
     },
     "execution_count": 61,
     "metadata": {},
     "output_type": "execute_result"
    }
   ],
   "source": [
    "dataset = pd.DataFrame(results)\n",
    "dataset.columns = ['screen_name', 'name', 'description', 'statuses_count', 'friends_count', 'followers_count']\n",
    "dataset.head()"
   ]
  },
  {
   "cell_type": "code",
   "execution_count": 74,
   "id": "catholic-crack",
   "metadata": {},
   "outputs": [
    {
     "data": {
      "application/vnd.jupyter.widget-view+json": {
       "model_id": "bb8545ec7f4e4ab4854c2cad5c30d798",
       "version_major": 2,
       "version_minor": 0
      },
      "text/plain": [
       "  0%|          | 0/250 [00:00<?, ?it/s]"
      ]
     },
     "metadata": {},
     "output_type": "display_data"
    },
    {
     "name": "stderr",
     "output_type": "stream",
     "text": [
      "Rate limit reached. Sleeping for: 90\n",
      "Rate limit reached. Sleeping for: 348\n"
     ]
    }
   ],
   "source": [
    "tweets = fetch_tweets(dataset['screen_name'])"
   ]
  },
  {
   "cell_type": "code",
   "execution_count": 65,
   "id": "unknown-generation",
   "metadata": {},
   "outputs": [
    {
     "data": {
      "text/plain": [
       "250"
      ]
     },
     "execution_count": 65,
     "metadata": {},
     "output_type": "execute_result"
    }
   ],
   "source": [
    "len(tweets)"
   ]
  },
  {
   "cell_type": "code",
   "execution_count": 76,
   "id": "owned-coordinate",
   "metadata": {},
   "outputs": [],
   "source": [
    "dataset['recent_100_statuses'] = tweets"
   ]
  },
  {
   "cell_type": "code",
   "execution_count": 85,
   "id": "mounted-recall",
   "metadata": {},
   "outputs": [],
   "source": [
    "dataset['hotel'] = df1['hotel']"
   ]
  },
  {
   "cell_type": "code",
   "execution_count": 86,
   "id": "professional-warren",
   "metadata": {},
   "outputs": [],
   "source": [
    "dataset.to_csv('hotels-classification.csv', index=False)"
   ]
  },
  {
   "cell_type": "code",
   "execution_count": 79,
   "id": "offensive-interest",
   "metadata": {},
   "outputs": [],
   "source": [
    "from sklearn.model_selection import train_test_split"
   ]
  },
  {
   "cell_type": "code",
   "execution_count": 137,
   "id": "dimensional-ceiling",
   "metadata": {},
   "outputs": [],
   "source": [
    "train, test, _, _ = train_test_split(dataset, dataset['hotel'],test_size=0.2, random_state=200, stratify=dataset['hotel'])"
   ]
  },
  {
   "cell_type": "code",
   "execution_count": 145,
   "id": "received-pulse",
   "metadata": {},
   "outputs": [],
   "source": [
    "train.to_csv('hotels-training-set.csv', index=False)"
   ]
  },
  {
   "cell_type": "code",
   "execution_count": 146,
   "id": "statistical-vertex",
   "metadata": {},
   "outputs": [],
   "source": [
    "test.to_csv('hotels-validation-set.csv', index=False)"
   ]
  },
  {
   "cell_type": "code",
   "execution_count": null,
   "id": "manufactured-cameroon",
   "metadata": {},
   "outputs": [],
   "source": []
  }
 ],
 "metadata": {
  "kernelspec": {
   "display_name": "Python 3",
   "language": "python",
   "name": "python3"
  },
  "language_info": {
   "codemirror_mode": {
    "name": "ipython",
    "version": 3
   },
   "file_extension": ".py",
   "mimetype": "text/x-python",
   "name": "python",
   "nbconvert_exporter": "python",
   "pygments_lexer": "ipython3",
   "version": "3.8.5"
  }
 },
 "nbformat": 4,
 "nbformat_minor": 5
}
