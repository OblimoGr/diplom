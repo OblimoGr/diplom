{
 "cells": [
  {
   "cell_type": "code",
   "execution_count": 1,
   "id": "amazing-participant",
   "metadata": {},
   "outputs": [],
   "source": [
    "import pandas as pd\n",
    "import numpy as np\n",
    "import spacy\n",
    "import matplotlib.pyplot as plt\n",
    "import seaborn as sns"
   ]
  },
  {
   "cell_type": "code",
   "execution_count": 2,
   "id": "faced-induction",
   "metadata": {},
   "outputs": [],
   "source": [
    "data = pd.read_csv('hotels-classification.csv')"
   ]
  },
  {
   "cell_type": "code",
   "execution_count": 3,
   "id": "unsigned-gabriel",
   "metadata": {},
   "outputs": [
    {
     "data": {
      "text/html": [
       "<div>\n",
       "<style scoped>\n",
       "    .dataframe tbody tr th:only-of-type {\n",
       "        vertical-align: middle;\n",
       "    }\n",
       "\n",
       "    .dataframe tbody tr th {\n",
       "        vertical-align: top;\n",
       "    }\n",
       "\n",
       "    .dataframe thead th {\n",
       "        text-align: right;\n",
       "    }\n",
       "</style>\n",
       "<table border=\"1\" class=\"dataframe\">\n",
       "  <thead>\n",
       "    <tr style=\"text-align: right;\">\n",
       "      <th></th>\n",
       "      <th>screen_name</th>\n",
       "      <th>name</th>\n",
       "      <th>description</th>\n",
       "      <th>statuses_count</th>\n",
       "      <th>friends_count</th>\n",
       "      <th>followers_count</th>\n",
       "      <th>recent_100_statuses</th>\n",
       "      <th>hotel</th>\n",
       "    </tr>\n",
       "  </thead>\n",
       "  <tbody>\n",
       "    <tr>\n",
       "      <th>0</th>\n",
       "      <td>medpalace</td>\n",
       "      <td>Mediterranean Palace</td>\n",
       "      <td>A cozy 5 star hotel in the city center with an...</td>\n",
       "      <td>269</td>\n",
       "      <td>543</td>\n",
       "      <td>381</td>\n",
       "      <td>https://t.co/WPCR6KSnw2 New era!\\nNew Brand! ...</td>\n",
       "      <td>1</td>\n",
       "    </tr>\n",
       "    <tr>\n",
       "      <th>1</th>\n",
       "      <td>RodosPalace</td>\n",
       "      <td>Rodos Palace | abav²</td>\n",
       "      <td>Rodos Palace is regarded as the finest deluxe ...</td>\n",
       "      <td>1169</td>\n",
       "      <td>615</td>\n",
       "      <td>577</td>\n",
       "      <td>Καλή εβδομάδα με άρωμα Πασχαλινών διακοπών. \"...</td>\n",
       "      <td>1</td>\n",
       "    </tr>\n",
       "    <tr>\n",
       "      <th>2</th>\n",
       "      <td>Cactus_Rhodes</td>\n",
       "      <td>Cactus Hotel</td>\n",
       "      <td>NaN</td>\n",
       "      <td>719</td>\n",
       "      <td>14</td>\n",
       "      <td>40</td>\n",
       "      <td>Friendly service and relaxing atmosphere\\n\\nF...</td>\n",
       "      <td>1</td>\n",
       "    </tr>\n",
       "    <tr>\n",
       "      <th>3</th>\n",
       "      <td>SantoriniVillas</td>\n",
       "      <td>Villas &amp; Mansions</td>\n",
       "      <td>Private Villas &amp; Mansions in Santorini offerin...</td>\n",
       "      <td>114</td>\n",
       "      <td>473</td>\n",
       "      <td>189</td>\n",
       "      <td>SANTORINI No2 ISLAND DESTINATION WORDWIDE\\n\\n...</td>\n",
       "      <td>1</td>\n",
       "    </tr>\n",
       "    <tr>\n",
       "      <th>4</th>\n",
       "      <td>SunRocksHotel</td>\n",
       "      <td>Sun Rocks Hotel</td>\n",
       "      <td>An enchanting romantic couples' getaway in the...</td>\n",
       "      <td>252</td>\n",
       "      <td>94</td>\n",
       "      <td>337</td>\n",
       "      <td>Who’s ready for a season full of #deliciousjo...</td>\n",
       "      <td>1</td>\n",
       "    </tr>\n",
       "  </tbody>\n",
       "</table>\n",
       "</div>"
      ],
      "text/plain": [
       "       screen_name                  name  \\\n",
       "0        medpalace  Mediterranean Palace   \n",
       "1      RodosPalace  Rodos Palace | abav²   \n",
       "2    Cactus_Rhodes          Cactus Hotel   \n",
       "3  SantoriniVillas     Villas & Mansions   \n",
       "4    SunRocksHotel       Sun Rocks Hotel   \n",
       "\n",
       "                                         description  statuses_count  \\\n",
       "0  A cozy 5 star hotel in the city center with an...             269   \n",
       "1  Rodos Palace is regarded as the finest deluxe ...            1169   \n",
       "2                                                NaN             719   \n",
       "3  Private Villas & Mansions in Santorini offerin...             114   \n",
       "4  An enchanting romantic couples' getaway in the...             252   \n",
       "\n",
       "   friends_count  followers_count  \\\n",
       "0            543              381   \n",
       "1            615              577   \n",
       "2             14               40   \n",
       "3            473              189   \n",
       "4             94              337   \n",
       "\n",
       "                                 recent_100_statuses  hotel  \n",
       "0   https://t.co/WPCR6KSnw2 New era!\\nNew Brand! ...      1  \n",
       "1   Καλή εβδομάδα με άρωμα Πασχαλινών διακοπών. \"...      1  \n",
       "2   Friendly service and relaxing atmosphere\\n\\nF...      1  \n",
       "3   SANTORINI No2 ISLAND DESTINATION WORDWIDE\\n\\n...      1  \n",
       "4   Who’s ready for a season full of #deliciousjo...      1  "
      ]
     },
     "execution_count": 3,
     "metadata": {},
     "output_type": "execute_result"
    }
   ],
   "source": [
    "data.head()"
   ]
  },
  {
   "cell_type": "markdown",
   "id": "miniature-relaxation",
   "metadata": {},
   "source": [
    "# Statistics\n",
    "---"
   ]
  },
  {
   "cell_type": "markdown",
   "id": "upper-miniature",
   "metadata": {},
   "source": [
    "## All Nodes"
   ]
  },
  {
   "cell_type": "code",
   "execution_count": 5,
   "id": "optical-transition",
   "metadata": {},
   "outputs": [
    {
     "data": {
      "text/html": [
       "<div>\n",
       "<style scoped>\n",
       "    .dataframe tbody tr th:only-of-type {\n",
       "        vertical-align: middle;\n",
       "    }\n",
       "\n",
       "    .dataframe tbody tr th {\n",
       "        vertical-align: top;\n",
       "    }\n",
       "\n",
       "    .dataframe thead th {\n",
       "        text-align: right;\n",
       "    }\n",
       "</style>\n",
       "<table border=\"1\" class=\"dataframe\">\n",
       "  <thead>\n",
       "    <tr style=\"text-align: right;\">\n",
       "      <th></th>\n",
       "      <th>statuses_count</th>\n",
       "      <th>friends_count</th>\n",
       "      <th>followers_count</th>\n",
       "    </tr>\n",
       "  </thead>\n",
       "  <tbody>\n",
       "    <tr>\n",
       "      <th>mean</th>\n",
       "      <td>5002.94</td>\n",
       "      <td>414.78</td>\n",
       "      <td>68838.44</td>\n",
       "    </tr>\n",
       "    <tr>\n",
       "      <th>std</th>\n",
       "      <td>34304.32</td>\n",
       "      <td>730.60</td>\n",
       "      <td>574811.04</td>\n",
       "    </tr>\n",
       "    <tr>\n",
       "      <th>min</th>\n",
       "      <td>0.00</td>\n",
       "      <td>0.00</td>\n",
       "      <td>0.00</td>\n",
       "    </tr>\n",
       "    <tr>\n",
       "      <th>25%</th>\n",
       "      <td>51.75</td>\n",
       "      <td>31.25</td>\n",
       "      <td>65.25</td>\n",
       "    </tr>\n",
       "    <tr>\n",
       "      <th>50%</th>\n",
       "      <td>478.50</td>\n",
       "      <td>127.50</td>\n",
       "      <td>285.00</td>\n",
       "    </tr>\n",
       "    <tr>\n",
       "      <th>75%</th>\n",
       "      <td>1973.50</td>\n",
       "      <td>434.50</td>\n",
       "      <td>969.25</td>\n",
       "    </tr>\n",
       "    <tr>\n",
       "      <th>max</th>\n",
       "      <td>532696.00</td>\n",
       "      <td>4958.00</td>\n",
       "      <td>8488807.00</td>\n",
       "    </tr>\n",
       "  </tbody>\n",
       "</table>\n",
       "</div>"
      ],
      "text/plain": [
       "      statuses_count  friends_count  followers_count\n",
       "mean         5002.94         414.78         68838.44\n",
       "std         34304.32         730.60        574811.04\n",
       "min             0.00           0.00             0.00\n",
       "25%            51.75          31.25            65.25\n",
       "50%           478.50         127.50           285.00\n",
       "75%          1973.50         434.50           969.25\n",
       "max        532696.00        4958.00       8488807.00"
      ]
     },
     "execution_count": 5,
     "metadata": {},
     "output_type": "execute_result"
    }
   ],
   "source": [
    "data.describe().drop('hotel', axis=1).drop('count').round(2)"
   ]
  },
  {
   "cell_type": "code",
   "execution_count": 6,
   "id": "sensitive-muscle",
   "metadata": {},
   "outputs": [
    {
     "name": "stdout",
     "output_type": "stream",
     "text": [
      "16.400000000000002% (Total: 41) of the nodes do not have a profile descirption\n"
     ]
    }
   ],
   "source": [
    "data['description'].replace(np.nan, '', inplace=True)\n",
    "count = len(data)\n",
    "no_desc_count = len(data[data['description'] == ''])\n",
    "print(f'{(no_desc_count/count)*100}% (Total: {no_desc_count}) of the nodes do not have a profile descirption')"
   ]
  },
  {
   "cell_type": "markdown",
   "id": "banner-bacteria",
   "metadata": {},
   "source": [
    "## Hotels"
   ]
  },
  {
   "cell_type": "code",
   "execution_count": 7,
   "id": "british-making",
   "metadata": {},
   "outputs": [
    {
     "data": {
      "text/html": [
       "<div>\n",
       "<style scoped>\n",
       "    .dataframe tbody tr th:only-of-type {\n",
       "        vertical-align: middle;\n",
       "    }\n",
       "\n",
       "    .dataframe tbody tr th {\n",
       "        vertical-align: top;\n",
       "    }\n",
       "\n",
       "    .dataframe thead th {\n",
       "        text-align: right;\n",
       "    }\n",
       "</style>\n",
       "<table border=\"1\" class=\"dataframe\">\n",
       "  <thead>\n",
       "    <tr style=\"text-align: right;\">\n",
       "      <th></th>\n",
       "      <th>statuses_count</th>\n",
       "      <th>friends_count</th>\n",
       "      <th>followers_count</th>\n",
       "    </tr>\n",
       "  </thead>\n",
       "  <tbody>\n",
       "    <tr>\n",
       "      <th>mean</th>\n",
       "      <td>784.1</td>\n",
       "      <td>402.45</td>\n",
       "      <td>1398.59</td>\n",
       "    </tr>\n",
       "    <tr>\n",
       "      <th>std</th>\n",
       "      <td>1604.0</td>\n",
       "      <td>645.45</td>\n",
       "      <td>10626.78</td>\n",
       "    </tr>\n",
       "    <tr>\n",
       "      <th>min</th>\n",
       "      <td>0.0</td>\n",
       "      <td>0.00</td>\n",
       "      <td>0.00</td>\n",
       "    </tr>\n",
       "    <tr>\n",
       "      <th>25%</th>\n",
       "      <td>25.0</td>\n",
       "      <td>28.00</td>\n",
       "      <td>60.00</td>\n",
       "    </tr>\n",
       "    <tr>\n",
       "      <th>50%</th>\n",
       "      <td>291.0</td>\n",
       "      <td>136.00</td>\n",
       "      <td>183.00</td>\n",
       "    </tr>\n",
       "    <tr>\n",
       "      <th>75%</th>\n",
       "      <td>708.0</td>\n",
       "      <td>462.00</td>\n",
       "      <td>534.00</td>\n",
       "    </tr>\n",
       "    <tr>\n",
       "      <th>max</th>\n",
       "      <td>12978.0</td>\n",
       "      <td>4046.00</td>\n",
       "      <td>118990.00</td>\n",
       "    </tr>\n",
       "  </tbody>\n",
       "</table>\n",
       "</div>"
      ],
      "text/plain": [
       "      statuses_count  friends_count  followers_count\n",
       "mean           784.1         402.45          1398.59\n",
       "std           1604.0         645.45         10626.78\n",
       "min              0.0           0.00             0.00\n",
       "25%             25.0          28.00            60.00\n",
       "50%            291.0         136.00           183.00\n",
       "75%            708.0         462.00           534.00\n",
       "max          12978.0        4046.00        118990.00"
      ]
     },
     "execution_count": 7,
     "metadata": {},
     "output_type": "execute_result"
    }
   ],
   "source": [
    "data[data['hotel'] == 1].describe().drop('hotel', axis=1).drop('count').round(2)"
   ]
  },
  {
   "cell_type": "code",
   "execution_count": 8,
   "id": "preliminary-aspect",
   "metadata": {},
   "outputs": [
    {
     "name": "stdout",
     "output_type": "stream",
     "text": [
      "No Descriptions: 19.2% (Total: 24)\n",
      "No Tweets: 8.799999999999999% (Total: 11)\n",
      "No Friends:4.8% (Total: 6)\n",
      "No Followers:1.6% (Total: 2)\n",
      "No Description and Tweets: 4.8% (Total: 6)\n",
      "No Description,Tweets,Friends: 1.6% (Total: 2)\n",
      "No Description,Tweets,Friends, Followers, Friends: 0.8% (Total: 1)\n"
     ]
    }
   ],
   "source": [
    "data['description'].replace(np.nan, '', inplace=True)\n",
    "count = len(data[data['hotel'] == 1])\n",
    "no_desc_count = len(data[(data['hotel'] == 1) & (data['description'] == '')])\n",
    "no_status_count = len(data[(data['hotel'] == 1) & (data['statuses_count'] == 0)])\n",
    "no_friends_count = len(data[(data['hotel'] == 1) & (data['friends_count'] == 0)])\n",
    "no_followers_count = len(data[(data['hotel'] == 1) & (data['followers_count'] == 0)])\n",
    "\n",
    "no_desc_status = len(data[(data['hotel'] == 1)\n",
    "                          &(data['description'] == '')\n",
    "                          &(data['statuses_count'] == 0)])\n",
    "no_desc_status_friends = len(data[(data['hotel'] == 1) \n",
    "                                  &(data['description'] == '')\n",
    "                                  &(data['statuses_count'] == 0)\n",
    "                                  &(data['friends_count'] == 0)])\n",
    "\n",
    "no_desc_status_followers = len(data[(data['hotel'] == 1) \n",
    "                                  &(data['description'] == '')\n",
    "                                  &(data['statuses_count'] == 0)\n",
    "                                  &(data['friends_count'] == 0)\n",
    "                                  &(data['followers_count'] == 0)])\n",
    "\n",
    "\n",
    "\n",
    "print(f'No Descriptions: {(no_desc_count/count)*100}% (Total: {no_desc_count})')\n",
    "print(f'No Tweets: {(no_status_count/count)*100}% (Total: {no_status_count})')\n",
    "print(f'No Friends:{(no_friends_count/count)*100}% (Total: {no_friends_count})')\n",
    "print(f'No Followers:{(no_followers_count/count)*100}% (Total: {no_followers_count})')\n",
    "\n",
    "print(f'No Description and Tweets: {(no_desc_status/count)*100}% (Total: {no_desc_status})')\n",
    "print(f'No Description,Tweets,Friends: {(no_desc_status_friends/count)*100}% (Total: {no_desc_status_friends})')\n",
    "print(f'No Description,Tweets,Friends, Followers, Friends: {(no_desc_status_followers/count)*100}% (Total: {no_desc_status_followers})')"
   ]
  },
  {
   "cell_type": "markdown",
   "id": "cross-programmer",
   "metadata": {},
   "source": [
    "## Not Parliament Members"
   ]
  },
  {
   "cell_type": "code",
   "execution_count": 9,
   "id": "spatial-intelligence",
   "metadata": {},
   "outputs": [
    {
     "data": {
      "text/html": [
       "<div>\n",
       "<style scoped>\n",
       "    .dataframe tbody tr th:only-of-type {\n",
       "        vertical-align: middle;\n",
       "    }\n",
       "\n",
       "    .dataframe tbody tr th {\n",
       "        vertical-align: top;\n",
       "    }\n",
       "\n",
       "    .dataframe thead th {\n",
       "        text-align: right;\n",
       "    }\n",
       "</style>\n",
       "<table border=\"1\" class=\"dataframe\">\n",
       "  <thead>\n",
       "    <tr style=\"text-align: right;\">\n",
       "      <th></th>\n",
       "      <th>statuses_count</th>\n",
       "      <th>friends_count</th>\n",
       "      <th>followers_count</th>\n",
       "    </tr>\n",
       "  </thead>\n",
       "  <tbody>\n",
       "    <tr>\n",
       "      <th>mean</th>\n",
       "      <td>9221.77</td>\n",
       "      <td>427.12</td>\n",
       "      <td>136278.28</td>\n",
       "    </tr>\n",
       "    <tr>\n",
       "      <th>std</th>\n",
       "      <td>48214.16</td>\n",
       "      <td>809.29</td>\n",
       "      <td>808824.77</td>\n",
       "    </tr>\n",
       "    <tr>\n",
       "      <th>min</th>\n",
       "      <td>0.00</td>\n",
       "      <td>0.00</td>\n",
       "      <td>0.00</td>\n",
       "    </tr>\n",
       "    <tr>\n",
       "      <th>25%</th>\n",
       "      <td>140.00</td>\n",
       "      <td>36.00</td>\n",
       "      <td>81.00</td>\n",
       "    </tr>\n",
       "    <tr>\n",
       "      <th>50%</th>\n",
       "      <td>1264.00</td>\n",
       "      <td>124.00</td>\n",
       "      <td>379.00</td>\n",
       "    </tr>\n",
       "    <tr>\n",
       "      <th>75%</th>\n",
       "      <td>4487.00</td>\n",
       "      <td>404.00</td>\n",
       "      <td>3706.00</td>\n",
       "    </tr>\n",
       "    <tr>\n",
       "      <th>max</th>\n",
       "      <td>532696.00</td>\n",
       "      <td>4958.00</td>\n",
       "      <td>8488807.00</td>\n",
       "    </tr>\n",
       "  </tbody>\n",
       "</table>\n",
       "</div>"
      ],
      "text/plain": [
       "      statuses_count  friends_count  followers_count\n",
       "mean         9221.77         427.12        136278.28\n",
       "std         48214.16         809.29        808824.77\n",
       "min             0.00           0.00             0.00\n",
       "25%           140.00          36.00            81.00\n",
       "50%          1264.00         124.00           379.00\n",
       "75%          4487.00         404.00          3706.00\n",
       "max        532696.00        4958.00       8488807.00"
      ]
     },
     "execution_count": 9,
     "metadata": {},
     "output_type": "execute_result"
    }
   ],
   "source": [
    "data[data['hotel'] == 0].describe().drop(['hotel'], axis=1).drop('count').round(2)"
   ]
  },
  {
   "cell_type": "code",
   "execution_count": 10,
   "id": "sexual-official",
   "metadata": {},
   "outputs": [
    {
     "name": "stdout",
     "output_type": "stream",
     "text": [
      "No Descriptions: 13.600000000000001% (Total: 17)\n",
      "No Tweets: 1.6% (Total: 2)\n",
      "No Friends:6.4% (Total: 8)\n",
      "No Followers:1.6% (Total: 2)\n",
      "No Description and Tweets: 1.6% (Total: 2)\n",
      "No Description,Tweets,Friends: 1.6% (Total: 2)\n",
      "No Description,Tweets,Friends, Followers, Friends: 1.6% (Total: 2)\n"
     ]
    }
   ],
   "source": [
    "data['description'].replace(np.nan, '', inplace=True)\n",
    "count = len(data[data['hotel'] == 0])\n",
    "no_desc_count = len(data[(data['hotel'] == 0) & (data['description'] == '')])\n",
    "no_status_count = len(data[(data['hotel'] == 0) & (data['statuses_count'] == 0)])\n",
    "no_friends_count = len(data[(data['hotel'] == 0) & (data['friends_count'] == 0)])\n",
    "no_followers_count = len(data[(data['hotel'] == 0) & (data['followers_count'] == 0)])\n",
    "\n",
    "no_desc_status = len(data[(data['hotel'] == 0)\n",
    "                          &(data['description'] == '')\n",
    "                          &(data['statuses_count'] == 0)])\n",
    "no_desc_status_friends = len(data[(data['hotel'] == 0) \n",
    "                                  &(data['description'] == '')\n",
    "                                  &(data['statuses_count'] == 0)\n",
    "                                  &(data['friends_count'] == 0)])\n",
    "no_desc_status_followers = len(data[(data['hotel'] == 0) \n",
    "                                  &(data['description'] == '')\n",
    "                                  &(data['statuses_count'] == 0)\n",
    "                                  &(data['friends_count'] == 0)\n",
    "                                  &(data['followers_count'] == 0)])\n",
    "\n",
    "\n",
    "\n",
    "print(f'No Descriptions: {(no_desc_count/count)*100}% (Total: {no_desc_count})')\n",
    "print(f'No Tweets: {(no_status_count/count)*100}% (Total: {no_status_count})')\n",
    "print(f'No Friends:{(no_friends_count/count)*100}% (Total: {no_friends_count})')\n",
    "print(f'No Followers:{(no_followers_count/count)*100}% (Total: {no_followers_count})')\n",
    "print(f'No Description and Tweets: {(no_desc_status/count)*100}% (Total: {no_desc_status})')\n",
    "print(f'No Description,Tweets,Friends: {(no_desc_status_friends/count)*100}% (Total: {no_desc_status_friends})')\n",
    "print(f'No Description,Tweets,Friends, Followers, Friends: {(no_desc_status_followers/count)*100}% (Total: {no_desc_status_followers})')"
   ]
  },
  {
   "cell_type": "markdown",
   "id": "logical-pavilion",
   "metadata": {},
   "source": [
    "## Nodes without Description and Tweets"
   ]
  },
  {
   "cell_type": "code",
   "execution_count": 11,
   "id": "frequent-education",
   "metadata": {},
   "outputs": [
    {
     "data": {
      "text/html": [
       "<div>\n",
       "<style scoped>\n",
       "    .dataframe tbody tr th:only-of-type {\n",
       "        vertical-align: middle;\n",
       "    }\n",
       "\n",
       "    .dataframe tbody tr th {\n",
       "        vertical-align: top;\n",
       "    }\n",
       "\n",
       "    .dataframe thead th {\n",
       "        text-align: right;\n",
       "    }\n",
       "</style>\n",
       "<table border=\"1\" class=\"dataframe\">\n",
       "  <thead>\n",
       "    <tr style=\"text-align: right;\">\n",
       "      <th></th>\n",
       "      <th>screen_name</th>\n",
       "      <th>name</th>\n",
       "      <th>description</th>\n",
       "      <th>statuses_count</th>\n",
       "      <th>friends_count</th>\n",
       "      <th>followers_count</th>\n",
       "      <th>recent_100_statuses</th>\n",
       "      <th>hotel</th>\n",
       "    </tr>\n",
       "  </thead>\n",
       "  <tbody>\n",
       "    <tr>\n",
       "      <th>42</th>\n",
       "      <td>HyattTweets</td>\n",
       "      <td>Hyatt Tweets</td>\n",
       "      <td></td>\n",
       "      <td>0</td>\n",
       "      <td>0</td>\n",
       "      <td>232</td>\n",
       "      <td>NaN</td>\n",
       "      <td>1</td>\n",
       "    </tr>\n",
       "    <tr>\n",
       "      <th>106</th>\n",
       "      <td>thassosseascape</td>\n",
       "      <td>thassosseascape</td>\n",
       "      <td></td>\n",
       "      <td>0</td>\n",
       "      <td>0</td>\n",
       "      <td>0</td>\n",
       "      <td>NaN</td>\n",
       "      <td>1</td>\n",
       "    </tr>\n",
       "    <tr>\n",
       "      <th>212</th>\n",
       "      <td>ReplayGR</td>\n",
       "      <td>Replay Greece</td>\n",
       "      <td></td>\n",
       "      <td>0</td>\n",
       "      <td>0</td>\n",
       "      <td>0</td>\n",
       "      <td>NaN</td>\n",
       "      <td>0</td>\n",
       "    </tr>\n",
       "    <tr>\n",
       "      <th>235</th>\n",
       "      <td>lobbyclubstage</td>\n",
       "      <td>Lobby Club Stage</td>\n",
       "      <td></td>\n",
       "      <td>0</td>\n",
       "      <td>0</td>\n",
       "      <td>0</td>\n",
       "      <td>NaN</td>\n",
       "      <td>0</td>\n",
       "    </tr>\n",
       "    <tr>\n",
       "      <th>88</th>\n",
       "      <td>alikescamping</td>\n",
       "      <td>a</td>\n",
       "      <td></td>\n",
       "      <td>0</td>\n",
       "      <td>11</td>\n",
       "      <td>27</td>\n",
       "      <td>NaN</td>\n",
       "      <td>1</td>\n",
       "    </tr>\n",
       "    <tr>\n",
       "      <th>28</th>\n",
       "      <td>MedRoyalHotel</td>\n",
       "      <td>MedRoyalHotel</td>\n",
       "      <td></td>\n",
       "      <td>0</td>\n",
       "      <td>15</td>\n",
       "      <td>15</td>\n",
       "      <td>NaN</td>\n",
       "      <td>1</td>\n",
       "    </tr>\n",
       "    <tr>\n",
       "      <th>121</th>\n",
       "      <td>SiennaSantorini</td>\n",
       "      <td>Sienna Residences</td>\n",
       "      <td></td>\n",
       "      <td>0</td>\n",
       "      <td>21</td>\n",
       "      <td>10</td>\n",
       "      <td>NaN</td>\n",
       "      <td>1</td>\n",
       "    </tr>\n",
       "    <tr>\n",
       "      <th>110</th>\n",
       "      <td>Hotel_Kastoria</td>\n",
       "      <td>Hotel Kastoria</td>\n",
       "      <td></td>\n",
       "      <td>0</td>\n",
       "      <td>40</td>\n",
       "      <td>3</td>\n",
       "      <td>NaN</td>\n",
       "      <td>1</td>\n",
       "    </tr>\n",
       "  </tbody>\n",
       "</table>\n",
       "</div>"
      ],
      "text/plain": [
       "         screen_name               name description  statuses_count  \\\n",
       "42       HyattTweets       Hyatt Tweets                           0   \n",
       "106  thassosseascape    thassosseascape                           0   \n",
       "212         ReplayGR      Replay Greece                           0   \n",
       "235   lobbyclubstage   Lobby Club Stage                           0   \n",
       "88     alikescamping                  a                           0   \n",
       "28     MedRoyalHotel      MedRoyalHotel                           0   \n",
       "121  SiennaSantorini  Sienna Residences                           0   \n",
       "110   Hotel_Kastoria     Hotel Kastoria                           0   \n",
       "\n",
       "     friends_count  followers_count recent_100_statuses  hotel  \n",
       "42               0              232                 NaN      1  \n",
       "106              0                0                 NaN      1  \n",
       "212              0                0                 NaN      0  \n",
       "235              0                0                 NaN      0  \n",
       "88              11               27                 NaN      1  \n",
       "28              15               15                 NaN      1  \n",
       "121             21               10                 NaN      1  \n",
       "110             40                3                 NaN      1  "
      ]
     },
     "execution_count": 11,
     "metadata": {},
     "output_type": "execute_result"
    }
   ],
   "source": [
    "data[(data['description'] == '')&(data['statuses_count'] == 0)].sort_values('friends_count')"
   ]
  },
  {
   "cell_type": "markdown",
   "id": "exterior-highland",
   "metadata": {},
   "source": [
    "# Word Frequencies\n",
    "---"
   ]
  },
  {
   "cell_type": "code",
   "execution_count": 12,
   "id": "adopted-gallery",
   "metadata": {},
   "outputs": [],
   "source": [
    "def clean_text(data):\n",
    "    urls = r'http\\S+'\n",
    "    non_unicode_char = r'\\W'\n",
    "    numbers = r'[0-9_]'\n",
    "    fix_whitespace = r'\\s+'\n",
    "    single_whitespace = ' '\n",
    "    \n",
    "    data = (data.replace([urls], single_whitespace, regex=True)\n",
    "                    .replace([non_unicode_char, numbers], single_whitespace, regex=True)\n",
    "                    .replace(fix_whitespace, single_whitespace, regex=True))\n",
    "    data = data.apply(lambda s: s.lower() if type(s) == str else s)\n",
    "    return data\n",
    "\n",
    "nlp_el = spacy.load('el_core_news_md')\n",
    "nlp_en = spacy.load('en_core_web_sm')\n",
    "STOPWORDS = set(list(spacy.lang.en.STOP_WORDS) + list(spacy.lang.el.STOP_WORDS))\n",
    "\n",
    "def remove_stopwords(row):\n",
    "    row = [str(token) for token in nlp_el(row)]\n",
    "    return [w for w in row if w not in STOPWORDS]\n",
    "\n",
    "def tokenize_lemmatize(row):\n",
    "    return [str(token.lemma_) for token in nlp_el(row)]\n",
    "\n",
    "def tokenize_lemmatize_en(row):\n",
    "    return [str(token.lemma_) for token in nlp_en(row)]\n",
    "\n",
    "def remove_shortwords(row):\n",
    "    row = [str(token) for token in nlp_el(row)]\n",
    "    return [w for w in row if len(w) > 1]"
   ]
  },
  {
   "cell_type": "code",
   "execution_count": 13,
   "id": "ideal-stations",
   "metadata": {},
   "outputs": [],
   "source": [
    "data.replace(np.nan, '', inplace=True)\n",
    "text_df = pd.DataFrame()\n",
    "text_df['nd'] = clean_text(data['name'] +' '+data['description'])\n",
    "text_df['t'] = clean_text(data['recent_100_statuses'])"
   ]
  },
  {
   "cell_type": "code",
   "execution_count": 15,
   "id": "tight-leader",
   "metadata": {},
   "outputs": [],
   "source": [
    "text_df['nd'] = text_df['nd'].apply(lambda row: tokenize_lemmatize(row))\n",
    "text_df['nd'] = text_df['nd'].apply(lambda row: ' '.join(row))\n",
    "text_df['nd'] = text_df['nd'].apply(lambda row: tokenize_lemmatize_en(row))\n",
    "text_df['nd'] = text_df['nd'].apply(lambda row: ' '.join(row))\n",
    "text_df['nd'] = text_df['nd'].apply(lambda row: remove_stopwords(row))\n",
    "text_df['nd'] = text_df['nd'].apply(lambda row: ' '.join(row))\n",
    "text_df['nd'] = text_df['nd'].apply(lambda row: remove_shortwords(row))\n",
    "text_df['nd'] = text_df['nd'].apply(lambda row: ' '.join(row))\n",
    "\n",
    "text_df['t'] = text_df['t'].apply(lambda row: tokenize_lemmatize(row))\n",
    "text_df['t'] = text_df['t'].apply(lambda row: ' '.join(row))\n",
    "text_df['t'] = text_df['t'].apply(lambda row: tokenize_lemmatize_en(row))\n",
    "text_df['t'] = text_df['t'].apply(lambda row: ' '.join(row))\n",
    "text_df['t'] = text_df['t'].apply(lambda row: remove_stopwords(row))\n",
    "text_df['t'] = text_df['t'].apply(lambda row: ' '.join(row))\n",
    "text_df['t'] = text_df['t'].apply(lambda row: remove_shortwords(row))\n",
    "text_df['t'] = text_df['t'].apply(lambda row: ' '.join(row))"
   ]
  },
  {
   "cell_type": "code",
   "execution_count": 16,
   "id": "enhanced-chambers",
   "metadata": {},
   "outputs": [],
   "source": [
    "text_df['hotel'] = data['hotel']"
   ]
  },
  {
   "cell_type": "code",
   "execution_count": 20,
   "id": "choice-stroke",
   "metadata": {},
   "outputs": [
    {
     "data": {
      "text/plain": [
       "Text(0.5, 1.0, 'Όχι-Ξενοδοχεία')"
      ]
     },
     "execution_count": 20,
     "metadata": {},
     "output_type": "execute_result"
    },
    {
     "data": {
      "image/png": "[encoded data removed]",
      "text/plain": [
       "<Figure size 1080x720 with 2 Axes>"
      ]
     },
     "metadata": {
      "needs_background": "light"
     },
     "output_type": "display_data"
    }
   ],
   "source": [
    "pol_words = pd.Series(' '.join(text_df[text_df.hotel == 1].nd).split()).value_counts()\n",
    "nonpol_words = pd.Series(' '.join(text_df[text_df.hotel == 0].nd).split()).value_counts()\n",
    "\n",
    "fig, axs = plt.subplots(1,2,figsize =(15,10))\n",
    "\n",
    "plt.subplots_adjust(left=None, bottom=None, right=None, top=None, wspace=0.5)\n",
    "\n",
    "sns.barplot(y=pol_words[:50].index, x=pol_words[:50], orient='h', ax = axs[0], palette=\"Blues_r\")\n",
    "axs[0].set_title('Ξενοδοχεία')\n",
    "\n",
    "sns.barplot(y=nonpol_words[:50].index, x=nonpol_words[:50], orient='h', ax = axs[1], palette=\"Blues_r\")\n",
    "axs[1].set_title('Όχι-Ξενοδοχεία')"
   ]
  },
  {
   "cell_type": "code",
   "execution_count": 21,
   "id": "declared-privacy",
   "metadata": {},
   "outputs": [
    {
     "data": {
      "text/plain": [
       "Text(0.5, 1.0, 'Όχι-Ξενοδοχεία')"
      ]
     },
     "execution_count": 21,
     "metadata": {},
     "output_type": "execute_result"
    },
    {
     "data": {
      "image/png": "[encoded data removed]",
      "text/plain": [
       "<Figure size 1080x720 with 2 Axes>"
      ]
     },
     "metadata": {
      "needs_background": "light"
     },
     "output_type": "display_data"
    }
   ],
   "source": [
    "text_df['t'] = text_df['t'].replace('rt\\s', ' ', regex=True)\n",
    "pol_words = pd.Series(' '.join(text_df[text_df.hotel == 1].t).split()).value_counts()\n",
    "nonpol_words = pd.Series(' '.join(text_df[text_df.hotel == 0].t).split()).value_counts()\n",
    "\n",
    "fig, axs = plt.subplots(1,2,figsize =(15,10))\n",
    "\n",
    "plt.subplots_adjust(left=None, bottom=None, right=None, top=None, wspace=0.5)\n",
    "\n",
    "sns.barplot(y=pol_words[:50].index, x=pol_words[:50], orient='h', ax = axs[0], palette=\"Blues_r\")\n",
    "axs[0].set_title('Ξενοδοχεία')\n",
    "\n",
    "sns.barplot(y=nonpol_words[:50].index, x=nonpol_words[:50], orient='h', ax = axs[1], palette=\"Blues_r\")\n",
    "axs[1].set_title('Όχι-Ξενοδοχεία')"
   ]
  },
  {
   "cell_type": "code",
   "execution_count": null,
   "id": "indirect-snowboard",
   "metadata": {},
   "outputs": [],
   "source": []
  }
 ],
 "metadata": {
  "kernelspec": {
   "display_name": "Python 3",
   "language": "python",
   "name": "python3"
  },
  "language_info": {
   "codemirror_mode": {
    "name": "ipython",
    "version": 3
   },
   "file_extension": ".py",
   "mimetype": "text/x-python",
   "name": "python",
   "nbconvert_exporter": "python",
   "pygments_lexer": "ipython3",
   "version": "3.8.5"
  }
 },
 "nbformat": 4,
 "nbformat_minor": 5
}
