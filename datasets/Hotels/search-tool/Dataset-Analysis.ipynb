{
 "cells": [
  {
   "cell_type": "markdown",
   "id": "federal-aruba",
   "metadata": {},
   "source": [
    "# Hotels - Search\n",
    "---\n",
    "\n",
    "https://money-tourism.gr/apoklistiko-to-top-100-ton-xenodochion-gia-kratisis-tou-2018-kata-holidaycheck/"
   ]
  },
  {
   "cell_type": "markdown",
   "id": "serious-american",
   "metadata": {},
   "source": [
    "Libraries"
   ]
  },
  {
   "cell_type": "code",
   "execution_count": 1,
   "id": "suburban-career",
   "metadata": {},
   "outputs": [],
   "source": [
    "from batoomer.extras.nd_utils import fetch_nd_data\n",
    "import numpy as np\n",
    "import pandas as pd\n",
    "import json\n",
    "import tweepy\n",
    "from tqdm.notebook import tqdm\n",
    "\n",
    "import seaborn as sns\n",
    "import matplotlib.pyplot as plt"
   ]
  },
  {
   "cell_type": "markdown",
   "id": "weekly-electricity",
   "metadata": {},
   "source": [
    "Twitter API:"
   ]
  },
  {
   "cell_type": "code",
   "execution_count": 2,
   "id": "usual-intro",
   "metadata": {},
   "outputs": [],
   "source": [
    "twitter_credentials = []\n",
    "with open('../../../twitter_credentials.json', 'r') as f:\n",
    "    twitter_credentials = json.load(f)        \n",
    "\n",
    "# TwitterAPI Authentication\n",
    "auth = tweepy.OAuthHandler(twitter_credentials['consumer_key'],\n",
    "                                   twitter_credentials['consumer_secret'])\n",
    "auth.set_access_token(twitter_credentials['access_token_key'],\n",
    "                              twitter_credentials['access_token_secret'])\n",
    "API = tweepy.API(auth, wait_on_rate_limit=True, wait_on_rate_limit_notify=True, timeout=60*5)"
   ]
  },
  {
   "cell_type": "markdown",
   "id": "sensitive-syndication",
   "metadata": {},
   "source": [
    "Load Dataset"
   ]
  },
  {
   "cell_type": "code",
   "execution_count": 3,
   "id": "crude-robinson",
   "metadata": {},
   "outputs": [
    {
     "data": {
      "text/html": [
       "<div>\n",
       "<style scoped>\n",
       "    .dataframe tbody tr th:only-of-type {\n",
       "        vertical-align: middle;\n",
       "    }\n",
       "\n",
       "    .dataframe tbody tr th {\n",
       "        vertical-align: top;\n",
       "    }\n",
       "\n",
       "    .dataframe thead th {\n",
       "        text-align: right;\n",
       "    }\n",
       "</style>\n",
       "<table border=\"1\" class=\"dataframe\">\n",
       "  <thead>\n",
       "    <tr style=\"text-align: right;\">\n",
       "      <th></th>\n",
       "      <th>Hotel City</th>\n",
       "      <th>Hotelname</th>\n",
       "      <th>Twitter Handle</th>\n",
       "      <th>Website</th>\n",
       "      <th>Facebook Handle</th>\n",
       "    </tr>\n",
       "  </thead>\n",
       "  <tbody>\n",
       "    <tr>\n",
       "      <th>0</th>\n",
       "      <td>Acharavi</td>\n",
       "      <td>Hotel Matoula</td>\n",
       "      <td></td>\n",
       "      <td></td>\n",
       "      <td></td>\n",
       "    </tr>\n",
       "    <tr>\n",
       "      <th>1</th>\n",
       "      <td>Acharavi</td>\n",
       "      <td>Hotel Acharavi Beach</td>\n",
       "      <td></td>\n",
       "      <td>https://www.acharavibeach.com/</td>\n",
       "      <td>https://www.facebook.com/AcharaviBeachHotelCorfu/</td>\n",
       "    </tr>\n",
       "    <tr>\n",
       "      <th>2</th>\n",
       "      <td>Adelianos Kampos</td>\n",
       "      <td>Hotel Kathrin Beach</td>\n",
       "      <td></td>\n",
       "      <td>https://kathrinbeach.com/</td>\n",
       "      <td>https://www.facebook.com/Kathrin-Beach-Hotel-1...</td>\n",
       "    </tr>\n",
       "    <tr>\n",
       "      <th>3</th>\n",
       "      <td>Afandou</td>\n",
       "      <td>Aelia Resort</td>\n",
       "      <td></td>\n",
       "      <td></td>\n",
       "      <td></td>\n",
       "    </tr>\n",
       "    <tr>\n",
       "      <th>4</th>\n",
       "      <td>Agia Pelagia</td>\n",
       "      <td>Hotel Alexander House</td>\n",
       "      <td></td>\n",
       "      <td>http://www.alexanderhouse.gr/en/</td>\n",
       "      <td>https://www.facebook.com/alexanderhousehotel</td>\n",
       "    </tr>\n",
       "  </tbody>\n",
       "</table>\n",
       "</div>"
      ],
      "text/plain": [
       "         Hotel City              Hotelname Twitter Handle  \\\n",
       "0          Acharavi          Hotel Matoula                  \n",
       "1          Acharavi   Hotel Acharavi Beach                  \n",
       "2  Adelianos Kampos    Hotel Kathrin Beach                  \n",
       "3           Afandou           Aelia Resort                  \n",
       "4      Agia Pelagia  Hotel Alexander House                  \n",
       "\n",
       "                            Website  \\\n",
       "0                                     \n",
       "1    https://www.acharavibeach.com/   \n",
       "2         https://kathrinbeach.com/   \n",
       "3                                     \n",
       "4  http://www.alexanderhouse.gr/en/   \n",
       "\n",
       "                                     Facebook Handle  \n",
       "0                                                     \n",
       "1  https://www.facebook.com/AcharaviBeachHotelCorfu/  \n",
       "2  https://www.facebook.com/Kathrin-Beach-Hotel-1...  \n",
       "3                                                     \n",
       "4       https://www.facebook.com/alexanderhousehotel  "
      ]
     },
     "execution_count": 3,
     "metadata": {},
     "output_type": "execute_result"
    }
   ],
   "source": [
    "df = pd.read_csv('greek-hotels-2018-search.csv', delimiter=';')\n",
    "df.replace(np.nan, '', inplace=True)\n",
    "df.head()"
   ]
  },
  {
   "cell_type": "markdown",
   "id": "liquid-producer",
   "metadata": {},
   "source": [
    "# Statistics\n",
    "---"
   ]
  },
  {
   "cell_type": "code",
   "execution_count": 4,
   "id": "noticed-output",
   "metadata": {},
   "outputs": [
    {
     "name": "stdout",
     "output_type": "stream",
     "text": [
      "Size of dataset: 99.\n",
      "Hotels with a Twitter Account: 32\n",
      "Hotels without a Twitter Account: 67\n"
     ]
    }
   ],
   "source": [
    "print(f'Size of dataset: {len(df)}.')\n",
    "print(f\"Hotels with a Twitter Account: {len(df[df['Twitter Handle'] != ''])}\")\n",
    "print(f\"Hotels without a Twitter Account: {len(df[df['Twitter Handle'] == ''])}\")"
   ]
  },
  {
   "cell_type": "code",
   "execution_count": 5,
   "id": "specific-school",
   "metadata": {},
   "outputs": [
    {
     "name": "stdout",
     "output_type": "stream",
     "text": [
      "Size of dataset: 99.\n",
      "Hotels with a Facebook Account: 78\n",
      "Hotels without a Facebook Account: 21\n"
     ]
    }
   ],
   "source": [
    "print(f'Size of dataset: {len(df)}.')\n",
    "print(f\"Hotels with a Facebook Account: {len(df[df['Facebook Handle'] != ''])}\")\n",
    "print(f\"Hotels without a Facebook Account: {len(df[df['Facebook Handle'] == ''])}\")"
   ]
  },
  {
   "cell_type": "markdown",
   "id": "ongoing-guard",
   "metadata": {},
   "source": [
    "# Statistic for Members with an Account  (29/03/2021)\n",
    "---\n",
    "\n",
    "## fetch some data."
   ]
  }
 ],
 "metadata": {
  "kernelspec": {
   "display_name": "Python 3",
   "language": "python",
   "name": "python3"
  },
  "language_info": {
   "codemirror_mode": {
    "name": "ipython",
    "version": 3
   },
   "file_extension": ".py",
   "mimetype": "text/x-python",
   "name": "python",
   "nbconvert_exporter": "python",
   "pygments_lexer": "ipython3",
   "version": "3.8.5"
  }
 },
 "nbformat": 4,
 "nbformat_minor": 5
}
