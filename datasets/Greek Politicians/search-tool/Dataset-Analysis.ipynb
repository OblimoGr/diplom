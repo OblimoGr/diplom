{
 "cells": [
  {
   "cell_type": "markdown",
   "id": "italic-wonder",
   "metadata": {},
   "source": [
    "# Members of the Parliament - 2019\n",
    "---"
   ]
  },
  {
   "cell_type": "markdown",
   "id": "colonial-belle",
   "metadata": {},
   "source": [
    "Libraries"
   ]
  },
  {
   "cell_type": "code",
   "execution_count": 40,
   "id": "operating-addiction",
   "metadata": {},
   "outputs": [],
   "source": [
    "from batoomer.extras.nd_utils import fetch_nd_data\n",
    "import numpy as np\n",
    "import pandas as pd\n",
    "import json\n",
    "import tweepy\n",
    "from tqdm.notebook import tqdm\n",
    "\n",
    "import seaborn as sns\n",
    "import matplotlib.pyplot as plt"
   ]
  },
  {
   "cell_type": "markdown",
   "id": "changed-primary",
   "metadata": {},
   "source": [
    "Twitter API:"
   ]
  },
  {
   "cell_type": "code",
   "execution_count": 345,
   "id": "korean-classroom",
   "metadata": {},
   "outputs": [],
   "source": [
    "twitter_credentials = []\n",
    "with open('../../../twitter_credentials.json', 'r') as f:\n",
    "    twitter_credentials = json.load(f)        \n",
    "\n",
    "# TwitterAPI Authentication\n",
    "auth = tweepy.OAuthHandler(twitter_credentials['consumer_key'],\n",
    "                                   twitter_credentials['consumer_secret'])\n",
    "auth.set_access_token(twitter_credentials['access_token_key'],\n",
    "                              twitter_credentials['access_token_secret'])\n",
    "API = tweepy.API(auth, wait_on_rate_limit=True, wait_on_rate_limit_notify=True, timeout=60*5)"
   ]
  },
  {
   "cell_type": "markdown",
   "id": "confident-player",
   "metadata": {},
   "source": [
    "Load Dataset"
   ]
  },
  {
   "cell_type": "code",
   "execution_count": 13,
   "id": "lyric-inclusion",
   "metadata": {},
   "outputs": [
    {
     "data": {
      "text/html": [
       "<div>\n",
       "<style scoped>\n",
       "    .dataframe tbody tr th:only-of-type {\n",
       "        vertical-align: middle;\n",
       "    }\n",
       "\n",
       "    .dataframe tbody tr th {\n",
       "        vertical-align: top;\n",
       "    }\n",
       "\n",
       "    .dataframe thead th {\n",
       "        text-align: right;\n",
       "    }\n",
       "</style>\n",
       "<table border=\"1\" class=\"dataframe\">\n",
       "  <thead>\n",
       "    <tr style=\"text-align: right;\">\n",
       "      <th></th>\n",
       "      <th>Name (Long)</th>\n",
       "      <th>Surname</th>\n",
       "      <th>Name</th>\n",
       "      <th>Party</th>\n",
       "      <th>Twitter Handle</th>\n",
       "    </tr>\n",
       "  </thead>\n",
       "  <tbody>\n",
       "    <tr>\n",
       "      <th>0</th>\n",
       "      <td>Βιλιάρδος Διονυσίου Βασίλειος</td>\n",
       "      <td>Βιλιάρδος</td>\n",
       "      <td>Βιλιάρδος Βασίλειος</td>\n",
       "      <td>ΕΛΛΗΝΙΚΗ ΛΥΣΗ</td>\n",
       "      <td>ViliardosV</td>\n",
       "    </tr>\n",
       "    <tr>\n",
       "      <th>1</th>\n",
       "      <td>Αλεξοπούλου Κωνσταντίνου Αναστασία - Αικατερίνη</td>\n",
       "      <td>Αλεξοπούλου</td>\n",
       "      <td>Αλεξοπούλου Αικατερίνη</td>\n",
       "      <td>ΕΛΛΗΝΙΚΗ ΛΥΣΗ</td>\n",
       "      <td>anaik2020</td>\n",
       "    </tr>\n",
       "    <tr>\n",
       "      <th>2</th>\n",
       "      <td>Αθανασίου Ευαγγέλου Μαρία</td>\n",
       "      <td>Αθανασίου</td>\n",
       "      <td>Αθανασίου Μαρία</td>\n",
       "      <td>ΕΛΛΗΝΙΚΗ ΛΥΣΗ</td>\n",
       "      <td>MariaAt03902914</td>\n",
       "    </tr>\n",
       "    <tr>\n",
       "      <th>3</th>\n",
       "      <td>Βαγενάς Κωνσταντίνου Δημήτριος</td>\n",
       "      <td>Βαγενάς</td>\n",
       "      <td>Βαγενάς Δημήτριος</td>\n",
       "      <td>ΕΛΛΗΝΙΚΗ ΛΥΣΗ</td>\n",
       "      <td>B3Vagenas</td>\n",
       "    </tr>\n",
       "    <tr>\n",
       "      <th>4</th>\n",
       "      <td>Ασημακοπούλου Δημητρίου Σοφία - Χάιδω</td>\n",
       "      <td>Ασημακοπούλου</td>\n",
       "      <td>Ασημακοπούλου Χάιδω</td>\n",
       "      <td>ΕΛΛΗΝΙΚΗ ΛΥΣΗ</td>\n",
       "      <td>SofAsimak</td>\n",
       "    </tr>\n",
       "  </tbody>\n",
       "</table>\n",
       "</div>"
      ],
      "text/plain": [
       "                                       Name (Long)        Surname  \\\n",
       "0                    Βιλιάρδος Διονυσίου Βασίλειος      Βιλιάρδος   \n",
       "1  Αλεξοπούλου Κωνσταντίνου Αναστασία - Αικατερίνη    Αλεξοπούλου   \n",
       "2                        Αθανασίου Ευαγγέλου Μαρία      Αθανασίου   \n",
       "3                   Βαγενάς Κωνσταντίνου Δημήτριος        Βαγενάς   \n",
       "4            Ασημακοπούλου Δημητρίου Σοφία - Χάιδω  Ασημακοπούλου   \n",
       "\n",
       "                     Name          Party   Twitter Handle  \n",
       "0     Βιλιάρδος Βασίλειος  ΕΛΛΗΝΙΚΗ ΛΥΣΗ       ViliardosV  \n",
       "1  Αλεξοπούλου Αικατερίνη  ΕΛΛΗΝΙΚΗ ΛΥΣΗ        anaik2020  \n",
       "2         Αθανασίου Μαρία  ΕΛΛΗΝΙΚΗ ΛΥΣΗ  MariaAt03902914  \n",
       "3       Βαγενάς Δημήτριος  ΕΛΛΗΝΙΚΗ ΛΥΣΗ        B3Vagenas  \n",
       "4     Ασημακοπούλου Χάιδω  ΕΛΛΗΝΙΚΗ ΛΥΣΗ        SofAsimak  "
      ]
     },
     "execution_count": 13,
     "metadata": {},
     "output_type": "execute_result"
    }
   ],
   "source": [
    "df = pd.read_csv('parliament-members-new.csv')\n",
    "df.replace(np.nan, '', inplace=True)\n",
    "df.head()"
   ]
  },
  {
   "cell_type": "markdown",
   "id": "continued-franklin",
   "metadata": {},
   "source": [
    "# Statistics\n",
    "---"
   ]
  },
  {
   "cell_type": "code",
   "execution_count": 14,
   "id": "suburban-latter",
   "metadata": {},
   "outputs": [
    {
     "name": "stdout",
     "output_type": "stream",
     "text": [
      "Size of dataset: 300.\n",
      "Members with a Twitter Account: 241\n",
      "Members without a Twitter Account: 59\n"
     ]
    }
   ],
   "source": [
    "print(f'Size of dataset: {len(df)}.')\n",
    "print(f\"Members with a Twitter Account: {len(df[df['Twitter Handle'] != ''])}\")\n",
    "print(f\"Members without a Twitter Account: {len(df[df['Twitter Handle'] == ''])}\")"
   ]
  },
  {
   "cell_type": "markdown",
   "id": "material-medicaid",
   "metadata": {},
   "source": [
    "# Statistic for Members with an Account  (29/03/2021)\n",
    "---\n",
    "\n",
    "## fetch some data."
   ]
  },
  {
   "cell_type": "code",
   "execution_count": 15,
   "id": "intensive-ontario",
   "metadata": {},
   "outputs": [
    {
     "data": {
      "application/vnd.jupyter.widget-view+json": {
       "model_id": "",
       "version_major": 2,
       "version_minor": 0
      },
      "text/plain": [
       "Fetching names and descriptions:   0%|          | 0/241 [00:00<?, ?it/s]"
      ]
     },
     "metadata": {},
     "output_type": "display_data"
    },
    {
     "name": "stdout",
     "output_type": "stream",
     "text": [
      "xtarantilis, [{'code': 50, 'message': 'User not found.'}])\n",
      "katsafados, [{'code': 50, 'message': 'User not found.'}])\n",
      "stergiannakis, [{'code': 63, 'message': 'User has been suspended.'}])\n"
     ]
    }
   ],
   "source": [
    "results = []\n",
    "nodes=df[df['Twitter Handle'] != '']['Twitter Handle']\n",
    "for node in tqdm(nodes, leave=False, desc='Fetching names and descriptions'):\n",
    "    try:\n",
    "        user = API.get_user(node)\n",
    "        results.append(\n",
    "            [user.screen_name, user.id, user.name, user.protected])\n",
    "    except tweepy.error.TweepError as err:\n",
    "        print(f'{node}, {err})')\n",
    "        results.append([str(),0,str(),False])\n",
    "\n",
    "\n",
    "results = pd.DataFrame(results)\n",
    "results.columns = ['screen_name','id','name','protected']\n",
    "results = results.reset_index().drop('index', axis=1)"
   ]
  },
  {
   "cell_type": "code",
   "execution_count": 26,
   "id": "enormous-aside",
   "metadata": {},
   "outputs": [],
   "source": [
    "results['real_name'] = list(df[df['Twitter Handle'] != '']['Name'])"
   ]
  },
  {
   "cell_type": "code",
   "execution_count": 28,
   "id": "effective-handling",
   "metadata": {},
   "outputs": [],
   "source": [
    "results[['screen_name','id','protected', 'real_name', 'name']].to_csv('parliament-member-analysis-search----ERRROR.csv', index=False)"
   ]
  },
  {
   "cell_type": "markdown",
   "id": "alpine-exercise",
   "metadata": {},
   "source": [
    "## Reload Data After Processing with Hand"
   ]
  },
  {
   "cell_type": "markdown",
   "id": "published-fault",
   "metadata": {},
   "source": [
    "### Profil Names"
   ]
  },
  {
   "cell_type": "code",
   "execution_count": 33,
   "id": "existing-appeal",
   "metadata": {},
   "outputs": [],
   "source": [
    "results = pd.read_csv('parliament-member-analysis-search.csv')"
   ]
  },
  {
   "cell_type": "code",
   "execution_count": 236,
   "id": "eastern-holly",
   "metadata": {},
   "outputs": [
    {
     "data": {
      "image/png": "[encoded data removed]",
      "text/plain": [
       "<Figure size 540x720 with 3 Axes>"
      ]
     },
     "metadata": {},
     "output_type": "display_data"
    }
   ],
   "source": [
    "fig, ax = plt.subplots(3,1, figsize=(7.5,10))\n",
    "color_palette_list = ['#009BD0', '#ADD8E6']\n",
    "\n",
    "plt.rcParams['font.sans-serif'] = 'Arial'\n",
    "plt.rcParams['font.family'] = 'sans-serif'\n",
    "plt.rcParams['text.color'] = 'black'\n",
    "plt.rcParams['axes.labelcolor']= 'black'\n",
    "plt.rcParams['xtick.color'] = 'black'\n",
    "plt.rcParams['ytick.color'] = 'black'\n",
    "plt.rcParams['font.size']=14\n",
    "\n",
    "fig.suptitle(\"Profile Names\", fontsize=20, horizontalalignment='center', verticalalignment='center')\n",
    "\n",
    "x = [list(results['Greeklish']).count(True), list(results['Greeklish']).count(False)]\n",
    "labels = ['Latin Alphabet', 'Greek Alphabet']\n",
    "_=ax[0].pie(x, colors=color_palette_list[0:2],\n",
    "         autopct='%1.0f%%', shadow=True, startangle=90, pctdistance=0.5,labeldistance=1.3, explode=(0.05,0))\n",
    "ax[0].legend(frameon=True, bbox_to_anchor=(1,0.75), labels=labels)\n",
    "\n",
    "x = [list(results['Different_Name']).count(True), list(results['Different_Name']).count(False)]\n",
    "labels = ['Different Firstname', 'ID Card Firstname']\n",
    "_=ax[1].pie(x, colors=color_palette_list[0:2],\n",
    "         autopct='%1.0f%%', shadow=True, startangle=90, pctdistance=0.5,labeldistance=1.3, explode=(0.05,0))\n",
    "ax[1].legend(frameon=True, bbox_to_anchor=(1,0.75), labels=labels)\n",
    "\n",
    "\n",
    "\n",
    "x = [list(results['Uppercase']).count(True), list(results['Uppercase']).count(False)]\n",
    "labels = ['Uppercase', 'Title Case/Lowercase']\n",
    "ax[2].pie(x, colors=color_palette_list[0:2],\n",
    "         autopct='%1.0f%%', shadow=True, startangle=90, pctdistance=0.5,labeldistance=1.3, explode=(0.05,0))\n",
    "_=ax[2].legend(frameon=True, bbox_to_anchor=(1,0.75), labels=labels)\n"
   ]
  },
  {
   "cell_type": "markdown",
   "id": "opening-outline",
   "metadata": {},
   "source": [
    "## Friends of Parties that are in the Parliament"
   ]
  },
  {
   "cell_type": "markdown",
   "id": "blessed-bahrain",
   "metadata": {},
   "source": [
    "### ΝΕΑ ΔΗΜΟΚΡΑΤΙΑ - @neademokratia - 301 friends"
   ]
  },
  {
   "cell_type": "code",
   "execution_count": 303,
   "id": "voluntary-composer",
   "metadata": {},
   "outputs": [],
   "source": [
    "nea_dimo_ids = []\n",
    "for res in tweepy.Cursor(API.friends_ids, screen_name='neademokratia').items():\n",
    "    nea_dimo_ids.append(res)"
   ]
  },
  {
   "cell_type": "markdown",
   "id": "protecting-reason",
   "metadata": {},
   "source": [
    "### ΣΥΡΙΖΑ - @syriza_gr - 582"
   ]
  },
  {
   "cell_type": "code",
   "execution_count": 304,
   "id": "ambient-struggle",
   "metadata": {},
   "outputs": [],
   "source": [
    "syriza_ids = []\n",
    "for res in tweepy.Cursor(API.friends_ids, screen_name='syriza_gr').items():\n",
    "    syriza_ids.append(res)"
   ]
  },
  {
   "cell_type": "markdown",
   "id": "aboriginal-radical",
   "metadata": {},
   "source": [
    "### ΜέΡΑ25 - @mera25_gr - 144"
   ]
  },
  {
   "cell_type": "code",
   "execution_count": 305,
   "id": "heavy-norwegian",
   "metadata": {},
   "outputs": [],
   "source": [
    "mera25_ids = []\n",
    "for res in tweepy.Cursor(API.friends_ids, screen_name='mera25_gr').items():\n",
    "    mera25_ids.append(res)"
   ]
  },
  {
   "cell_type": "markdown",
   "id": "collaborative-compatibility",
   "metadata": {},
   "source": [
    "### Κίνημα Αλλαγής - @kinimallagis - 286"
   ]
  },
  {
   "cell_type": "code",
   "execution_count": 306,
   "id": "faced-pavilion",
   "metadata": {},
   "outputs": [],
   "source": [
    "kin_all_ids = []\n",
    "for res in tweepy.Cursor(API.friends_ids, screen_name='kinimallagis').items():\n",
    "    kin_all_ids.append(res)"
   ]
  },
  {
   "cell_type": "markdown",
   "id": "extreme-bronze",
   "metadata": {},
   "source": [
    "### ΕΛΛΗΝΙΚΗ ΛΥΣΗ - @ellinikilisi - 4834"
   ]
  },
  {
   "cell_type": "code",
   "execution_count": 307,
   "id": "viral-cuisine",
   "metadata": {},
   "outputs": [],
   "source": [
    "ell_lis_ids = []\n",
    "for res in tweepy.Cursor(API.friends_ids, screen_name='ellinikilisi').items():\n",
    "    ell_lis_ids.append(res)"
   ]
  },
  {
   "cell_type": "markdown",
   "id": "powerful-luxembourg",
   "metadata": {},
   "source": [
    "## Results"
   ]
  },
  {
   "cell_type": "code",
   "execution_count": 308,
   "id": "super-tracker",
   "metadata": {},
   "outputs": [],
   "source": [
    "lnght = len(results['id'])\n",
    "nea_dimo = [0 for i in range(lnght)]\n",
    "syriza = [0 for i in range(lnght)]\n",
    "mera25 = [0 for i in range(lnght)]\n",
    "kin_all = [0 for i in range(lnght)]\n",
    "ell_lis = [0 for i in range(lnght)]"
   ]
  },
  {
   "cell_type": "code",
   "execution_count": 309,
   "id": "improving-retro",
   "metadata": {},
   "outputs": [],
   "source": [
    "for i, ID in enumerate(results['id']):\n",
    "    if ID in nea_dimo_ids:\n",
    "        nea_dimo[i] = 1\n",
    "    if ID in syriza_ids:\n",
    "        syriza[i] = 1\n",
    "    if ID in mera25_ids:\n",
    "        mera25[i] = 1\n",
    "    if ID in kin_all_ids:\n",
    "        kin_all[i] = 1     \n",
    "    if ID in ell_lis_ids:\n",
    "        ell_lis[i] = 1       "
   ]
  },
  {
   "cell_type": "code",
   "execution_count": 310,
   "id": "persistent-beverage",
   "metadata": {},
   "outputs": [],
   "source": [
    "results['ND_Friend'] =  nea_dimo\n",
    "results['Syriza_Friend'] = syriza\n",
    "results['Mera25_Friend'] = mera25\n",
    "results['Kinal_Friend'] = kin_all\n",
    "results['EL_Friend'] = ell_lis"
   ]
  },
  {
   "cell_type": "code",
   "execution_count": 311,
   "id": "attended-equipment",
   "metadata": {},
   "outputs": [],
   "source": [
    "total_friends = results['ND_Friend'] + results['Syriza_Friend'] + results['Mera25_Friend'] +results['Kinal_Friend'] + results['EL_Friend']"
   ]
  },
  {
   "cell_type": "code",
   "execution_count": 343,
   "id": "oriental-static",
   "metadata": {},
   "outputs": [
    {
     "data": {
      "text/plain": [
       "<matplotlib.legend.Legend at 0x7fe87b0e4d90>"
      ]
     },
     "execution_count": 343,
     "metadata": {},
     "output_type": "execute_result"
    },
    {
     "data": {
      "image/png": "[encoded data removed]",
      "text/plain": [
       "<Figure size 432x288 with 1 Axes>"
      ]
     },
     "metadata": {},
     "output_type": "display_data"
    }
   ],
   "source": [
    "no_friend = list(total_friends).count(0)\n",
    "yes_friend = len(total_friends) - no_friend\n",
    "\n",
    "fig, ax = plt.subplots()\n",
    "color_palette_list = ['#009BD0', '#ADD8E6']\n",
    "\n",
    "plt.rcParams['font.sans-serif'] = 'Arial'\n",
    "plt.rcParams['font.family'] = 'sans-serif'\n",
    "plt.rcParams['text.color'] = 'black'\n",
    "plt.rcParams['axes.labelcolor']= 'black'\n",
    "plt.rcParams['xtick.color'] = 'black'\n",
    "plt.rcParams['ytick.color'] = 'black'\n",
    "plt.rcParams['font.size']=14\n",
    "\n",
    "fig.suptitle(\"Friends of Parties\", fontsize=20, horizontalalignment='center', verticalalignment='center')\n",
    "\n",
    "x = [no_friend, yes_friend]\n",
    "labels = ['Not Followed By Parties', 'Followed At Least By One Party']\n",
    "_=ax.pie(x, colors=color_palette_list[0:2],\n",
    "         autopct='%1.0f%%', shadow=True, startangle=90, pctdistance=0.5,labeldistance=1.3, explode=(0.05,0))\n",
    "ax.legend(frameon=True, bbox_to_anchor=(1,0.75), labels=labels)"
   ]
  },
  {
   "cell_type": "markdown",
   "id": "touched-performance",
   "metadata": {},
   "source": [
    "## Follwing the Parties that are in the Parliament"
   ]
  },
  {
   "cell_type": "code",
   "execution_count": 351,
   "id": "attractive-prior",
   "metadata": {},
   "outputs": [],
   "source": [
    "lnght = len(results['id'])"
   ]
  },
  {
   "cell_type": "markdown",
   "id": "functioning-drain",
   "metadata": {},
   "source": [
    "### ΝΕΑ ΔΗΜΟΚΡΑΤΙΑ - @neademokratia - 136.5K Followers"
   ]
  },
  {
   "cell_type": "code",
   "execution_count": 352,
   "id": "adolescent-president",
   "metadata": {},
   "outputs": [],
   "source": [
    "nea_dimo = [0 for i in range(lnght)]"
   ]
  },
  {
   "cell_type": "code",
   "execution_count": 353,
   "id": "sudden-syria",
   "metadata": {},
   "outputs": [
    {
     "name": "stderr",
     "output_type": "stream",
     "text": [
      "Rate limit reached. Sleeping for: 640\n"
     ]
    }
   ],
   "source": [
    "nea_dimo_ids = []\n",
    "for res in tweepy.Cursor(API.followers_ids, screen_name='neademokratia').items():\n",
    "    nea_dimo_ids.append(res)"
   ]
  },
  {
   "cell_type": "code",
   "execution_count": 354,
   "id": "informative-management",
   "metadata": {},
   "outputs": [],
   "source": [
    "for i, ID in enumerate(results['id']):\n",
    "    if ID in nea_dimo_ids:\n",
    "        nea_dimo[i] = 1"
   ]
  },
  {
   "cell_type": "code",
   "execution_count": 355,
   "id": "colored-partition",
   "metadata": {},
   "outputs": [],
   "source": [
    "del nea_dimo_ids"
   ]
  },
  {
   "cell_type": "markdown",
   "id": "wound-portsmouth",
   "metadata": {},
   "source": [
    "### ΣΥΡΙΖΑ - @syriza_gr - 107K Followers"
   ]
  },
  {
   "cell_type": "code",
   "execution_count": 360,
   "id": "spread-thesaurus",
   "metadata": {},
   "outputs": [],
   "source": [
    "syriza = [0 for i in range(lnght)]"
   ]
  },
  {
   "cell_type": "code",
   "execution_count": 361,
   "id": "hollow-newark",
   "metadata": {},
   "outputs": [
    {
     "name": "stderr",
     "output_type": "stream",
     "text": [
      "Rate limit reached. Sleeping for: 891\n"
     ]
    }
   ],
   "source": [
    "syriza_ids = []\n",
    "for res in tweepy.Cursor(API.followers_ids, screen_name='syriza_gr').items():\n",
    "    syriza_ids.append(res)"
   ]
  },
  {
   "cell_type": "code",
   "execution_count": 362,
   "id": "super-magnitude",
   "metadata": {},
   "outputs": [
    {
     "data": {
      "text/plain": [
       "107085"
      ]
     },
     "execution_count": 362,
     "metadata": {},
     "output_type": "execute_result"
    }
   ],
   "source": [
    "len(syriza_ids)"
   ]
  },
  {
   "cell_type": "code",
   "execution_count": 363,
   "id": "working-chess",
   "metadata": {},
   "outputs": [],
   "source": [
    "for i, ID in enumerate(results['id']):\n",
    "    if ID in syriza_ids:\n",
    "        syriza[i] = 1"
   ]
  },
  {
   "cell_type": "code",
   "execution_count": 364,
   "id": "floppy-certification",
   "metadata": {},
   "outputs": [],
   "source": [
    "del syriza_ids"
   ]
  },
  {
   "cell_type": "markdown",
   "id": "hawaiian-palace",
   "metadata": {},
   "source": [
    "### ΜέΡΑ25 - @mera25_gr - 8758"
   ]
  },
  {
   "cell_type": "code",
   "execution_count": 365,
   "id": "handed-postcard",
   "metadata": {},
   "outputs": [],
   "source": [
    "mera25 = [0 for i in range(lnght)]"
   ]
  },
  {
   "cell_type": "code",
   "execution_count": 366,
   "id": "solved-supply",
   "metadata": {},
   "outputs": [],
   "source": [
    "mera25_ids = []\n",
    "for res in tweepy.Cursor(API.followers_ids, screen_name='mera25_gr').items():\n",
    "    mera25_ids.append(res)"
   ]
  },
  {
   "cell_type": "code",
   "execution_count": 367,
   "id": "unable-moscow",
   "metadata": {},
   "outputs": [],
   "source": [
    "for i, ID in enumerate(results['id']):\n",
    "    if ID in mera25_ids:\n",
    "        mera25[i] = 1"
   ]
  },
  {
   "cell_type": "code",
   "execution_count": 368,
   "id": "distinct-ceramic",
   "metadata": {},
   "outputs": [],
   "source": [
    "del mera25_ids"
   ]
  },
  {
   "cell_type": "markdown",
   "id": "helpful-career",
   "metadata": {},
   "source": [
    "### Κίνημα Αλλαγής - @kinimallagis - 6670"
   ]
  },
  {
   "cell_type": "code",
   "execution_count": 369,
   "id": "cubic-corps",
   "metadata": {},
   "outputs": [],
   "source": [
    "kin_all = [0 for i in range(lnght)]"
   ]
  },
  {
   "cell_type": "code",
   "execution_count": 370,
   "id": "happy-growth",
   "metadata": {},
   "outputs": [],
   "source": [
    "kin_all_ids = []\n",
    "for res in tweepy.Cursor(API.followers_ids, screen_name='kinimallagis').items():\n",
    "    kin_all_ids.append(res)"
   ]
  },
  {
   "cell_type": "code",
   "execution_count": 371,
   "id": "located-standard",
   "metadata": {},
   "outputs": [],
   "source": [
    "for i, ID in enumerate(results['id']):\n",
    "    if ID in kin_all_ids:\n",
    "        kin_all[i] = 1     "
   ]
  },
  {
   "cell_type": "code",
   "execution_count": 372,
   "id": "wrong-possible",
   "metadata": {},
   "outputs": [],
   "source": [
    "del kin_all_ids"
   ]
  },
  {
   "cell_type": "markdown",
   "id": "japanese-typing",
   "metadata": {},
   "source": [
    "### ΕΛΛΗΝΙΚΗ ΛΥΣΗ - @ellinikilisi - 6024 Followers"
   ]
  },
  {
   "cell_type": "code",
   "execution_count": 373,
   "id": "romance-status",
   "metadata": {},
   "outputs": [],
   "source": [
    "ell_lis = [0 for i in range(lnght)]"
   ]
  },
  {
   "cell_type": "code",
   "execution_count": 374,
   "id": "controlling-parking",
   "metadata": {},
   "outputs": [],
   "source": [
    "ell_lis_ids = []\n",
    "for res in tweepy.Cursor(API.followers_ids, screen_name='ellinikilisi').items():\n",
    "    ell_lis_ids.append(res)"
   ]
  },
  {
   "cell_type": "code",
   "execution_count": 375,
   "id": "hired-titanium",
   "metadata": {},
   "outputs": [],
   "source": [
    "for i, ID in enumerate(results['id']):   \n",
    "    if ID in ell_lis_ids:\n",
    "        ell_lis[i] = 1 "
   ]
  },
  {
   "cell_type": "code",
   "execution_count": 376,
   "id": "rising-hybrid",
   "metadata": {},
   "outputs": [],
   "source": [
    "del ell_lis_ids"
   ]
  },
  {
   "cell_type": "markdown",
   "id": "going-sullivan",
   "metadata": {},
   "source": [
    "## Results"
   ]
  },
  {
   "cell_type": "code",
   "execution_count": 377,
   "id": "powered-wireless",
   "metadata": {},
   "outputs": [],
   "source": [
    "results['ND_Follower'] =  nea_dimo\n",
    "results['Syriza_Follower'] = syriza\n",
    "results['Mera25_Follower'] = mera25\n",
    "results['Kinal_Follower'] = kin_all\n",
    "results['EL_Follower'] = ell_lis"
   ]
  },
  {
   "cell_type": "code",
   "execution_count": 381,
   "id": "medieval-filter",
   "metadata": {},
   "outputs": [],
   "source": [
    "total_followers = results['ND_Follower'] + results['Syriza_Follower'] + results['Mera25_Follower'] +results['Kinal_Follower'] + results['EL_Follower']"
   ]
  },
  {
   "cell_type": "code",
   "execution_count": 409,
   "id": "actual-condition",
   "metadata": {},
   "outputs": [
    {
     "data": {
      "text/plain": [
       "<matplotlib.legend.Legend at 0x7fe8662a6820>"
      ]
     },
     "execution_count": 409,
     "metadata": {},
     "output_type": "execute_result"
    },
    {
     "data": {
      "image/png": "[encoded data removed]",
      "text/plain": [
       "<Figure size 720x360 with 2 Axes>"
      ]
     },
     "metadata": {},
     "output_type": "display_data"
    }
   ],
   "source": [
    "no_follower = list(total_followers).count(0)\n",
    "yes_follower = len(total_followers) - no_follower\n",
    "\n",
    "fig, ax = plt.subplots(2,1, figsize=(10,5))\n",
    "color_palette_list = ['#009BD0', '#ADD8E6']\n",
    "\n",
    "plt.rcParams['font.sans-serif'] = 'Arial'\n",
    "plt.rcParams['font.family'] = 'sans-serif'\n",
    "plt.rcParams['text.color'] = 'black'\n",
    "plt.rcParams['axes.labelcolor']= 'black'\n",
    "plt.rcParams['xtick.color'] = 'black'\n",
    "plt.rcParams['ytick.color'] = 'black'\n",
    "plt.rcParams['font.size']=14\n",
    "\n",
    "fig.suptitle(\"Following Parties\", fontsize=20, horizontalalignment='center', verticalalignment='center')\n",
    "\n",
    "x = [no_follower, yes_follower]\n",
    "labels = ['Not Following Parties', 'Following At Least One Party']\n",
    "_=ax[0].pie(x, colors=color_palette_list[0:2],\n",
    "         autopct='%1.0f%%', shadow=True, startangle=90, pctdistance=0.5,labeldistance=1.3, explode=(0.05,0))\n",
    "ax[0].legend(frameon=True, bbox_to_anchor=(1,0.75), labels=labels)\n",
    "\n",
    "fig.suptitle(\"Friends of Parties\", fontsize=20, horizontalalignment='center', verticalalignment='center')\n",
    "\n",
    "x = [no_friend, yes_friend]\n",
    "labels = ['Not Followed By Parties', 'Followed At Least By One Party']\n",
    "_=ax[1].pie(x, colors=color_palette_list[0:2],\n",
    "         autopct='%1.0f%%', shadow=True, startangle=90, pctdistance=0.5,labeldistance=1.3, explode=(0.05,0))\n",
    "ax[1].legend(frameon=True, bbox_to_anchor=(1,0.75), labels=labels)"
   ]
  },
  {
   "cell_type": "code",
   "execution_count": 385,
   "id": "imported-letters",
   "metadata": {},
   "outputs": [],
   "source": [
    "test = total_followers + total_friends"
   ]
  },
  {
   "cell_type": "code",
   "execution_count": 387,
   "id": "supreme-sleeping",
   "metadata": {},
   "outputs": [
    {
     "data": {
      "text/plain": [
       "19"
      ]
     },
     "execution_count": 387,
     "metadata": {},
     "output_type": "execute_result"
    }
   ],
   "source": [
    "list(test).count(0)"
   ]
  },
  {
   "cell_type": "code",
   "execution_count": 411,
   "id": "american-provider",
   "metadata": {},
   "outputs": [
    {
     "data": {
      "text/plain": [
       "23"
      ]
     },
     "execution_count": 411,
     "metadata": {},
     "output_type": "execute_result"
    }
   ],
   "source": [
    "list(total_followers).count(0)"
   ]
  },
  {
   "cell_type": "code",
   "execution_count": 413,
   "id": "urban-salmon",
   "metadata": {},
   "outputs": [
    {
     "data": {
      "text/plain": [
       "96"
      ]
     },
     "execution_count": 413,
     "metadata": {},
     "output_type": "execute_result"
    }
   ],
   "source": [
    "list(total_friends).count(0)"
   ]
  },
  {
   "cell_type": "code",
   "execution_count": null,
   "id": "lined-virtue",
   "metadata": {},
   "outputs": [],
   "source": []
  }
 ],
 "metadata": {
  "kernelspec": {
   "display_name": "Python 3",
   "language": "python",
   "name": "python3"
  },
  "language_info": {
   "codemirror_mode": {
    "name": "ipython",
    "version": 3
   },
   "file_extension": ".py",
   "mimetype": "text/x-python",
   "name": "python",
   "nbconvert_exporter": "python",
   "pygments_lexer": "ipython3",
   "version": "3.8.5"
  }
 },
 "nbformat": 4,
 "nbformat_minor": 5
}
