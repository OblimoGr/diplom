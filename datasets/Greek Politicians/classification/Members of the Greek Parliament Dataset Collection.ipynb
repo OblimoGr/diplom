{
 "cells": [
  {
   "cell_type": "markdown",
   "id": "textile-newman",
   "metadata": {},
   "source": [
    "# Classification: Members of the Greek Parliament Dataset\n",
    "---"
   ]
  },
  {
   "cell_type": "markdown",
   "id": "north-investor",
   "metadata": {},
   "source": [
    "Libraries:"
   ]
  },
  {
   "cell_type": "code",
   "execution_count": 1,
   "id": "forty-coordination",
   "metadata": {},
   "outputs": [],
   "source": [
    "from batoomer.twitter_nodes.search_engine import TwitterSearchEngine\n",
    "import numpy as np\n",
    "import pandas as pd\n",
    "import tweepy\n",
    "import json\n",
    "from tqdm.notebook import tqdm\n",
    "import time"
   ]
  },
  {
   "cell_type": "markdown",
   "id": "dominican-essex",
   "metadata": {},
   "source": [
    "TwitterAPI authentication:"
   ]
  },
  {
   "cell_type": "code",
   "execution_count": 2,
   "id": "adequate-uniform",
   "metadata": {},
   "outputs": [],
   "source": [
    "twitter_credentials = []\n",
    "with open('../../twitter_credentials.json', 'r') as f:\n",
    "    twitter_credentials = json.load(f)\n",
    "    \n",
    "# TwitterAPI Authentication\n",
    "auth = tweepy.OAuthHandler(twitter_credentials['consumer_key'], twitter_credentials['consumer_secret'])\n",
    "auth.set_access_token(twitter_credentials['access_token_key'], twitter_credentials['access_token_secret'])\n",
    "API = tweepy.API(auth)"
   ]
  },
  {
   "cell_type": "markdown",
   "id": "adult-montreal",
   "metadata": {},
   "source": [
    "## Data Collection\n",
    "---\n",
    "### Step 1\n",
    "\n",
    "We use the dataset of the members of the parliament, which was provided, and collect the following information for each politician with a Twitter Account and label them with the integer 1:\n",
    "- screen_name\n",
    "- name\n",
    "- description\n",
    "- statuses_count\n",
    "- favourites_count\n",
    "- friends_count\n",
    "- followers_count\n",
    "- default_profile_image\n",
    "\n",
    "\n",
    "\n",
    "For two members of the parliament, we got an error:\n",
    "- Κατσαφάδος Κώστας (katsafados): Account does not exist.\n",
    "- Στέργιος Γιαννάκης (stergiannakis): Account suspended."
   ]
  },
  {
   "cell_type": "code",
   "execution_count": 3,
   "id": "typical-viewer",
   "metadata": {
    "collapsed": true,
    "jupyter": {
     "outputs_hidden": true
    }
   },
   "outputs": [
    {
     "data": {
      "application/vnd.jupyter.widget-view+json": {
       "model_id": "8e69560cb0ff4a5984a67c4637f73a77",
       "version_major": 2,
       "version_minor": 0
      },
      "text/plain": [
       "  0%|          | 0/242 [00:00<?, ?it/s]"
      ]
     },
     "metadata": {},
     "output_type": "display_data"
    },
    {
     "name": "stdout",
     "output_type": "stream",
     "text": [
      "Errror for katsafados: [{'code': 50, 'message': 'User not found.'}]\n",
      "Errror for stergiannakis: [{'code': 63, 'message': 'User has been suspended.'}]\n"
     ]
    }
   ],
   "source": [
    "df = pd.read_csv('../../../parliament-members-new.csv', delimiter=';')\n",
    "df = df.replace(np.nan, '')\n",
    "df = df[df['Twitter Handle'] != '']\n",
    "\n",
    "failed = []\n",
    "results = []\n",
    "\n",
    "for account in tqdm(df['Twitter Handle']):\n",
    "    try:\n",
    "        user = API.get_user(account)\n",
    "        results.append(\n",
    "            [user.screen_name, user.name, user.description ,user.statuses_count, user.favourites_count, \n",
    "             user.friends_count, user.followers_count, user.default_profile_image])\n",
    "    except tweepy.RateLimitError as err:\n",
    "        print('Rate Limit Hit. Wait 15 min.')\n",
    "        time.sleep(60*15)\n",
    "        \n",
    "    except Exception as err:\n",
    "        print(f'Errror for {account}: {err}')\n",
    "        failed.append(account)"
   ]
  },
  {
   "cell_type": "code",
   "execution_count": 5,
   "id": "sexual-union",
   "metadata": {},
   "outputs": [
    {
     "data": {
      "text/html": [
       "<div>\n",
       "<style scoped>\n",
       "    .dataframe tbody tr th:only-of-type {\n",
       "        vertical-align: middle;\n",
       "    }\n",
       "\n",
       "    .dataframe tbody tr th {\n",
       "        vertical-align: top;\n",
       "    }\n",
       "\n",
       "    .dataframe thead th {\n",
       "        text-align: right;\n",
       "    }\n",
       "</style>\n",
       "<table border=\"1\" class=\"dataframe\">\n",
       "  <thead>\n",
       "    <tr style=\"text-align: right;\">\n",
       "      <th></th>\n",
       "      <th>screen_name</th>\n",
       "      <th>name</th>\n",
       "      <th>description</th>\n",
       "      <th>statuses_count</th>\n",
       "      <th>favourites_count</th>\n",
       "      <th>friends_count</th>\n",
       "      <th>followers_count</th>\n",
       "      <th>default_profile_image</th>\n",
       "      <th>parliament_member</th>\n",
       "    </tr>\n",
       "  </thead>\n",
       "  <tbody>\n",
       "    <tr>\n",
       "      <th>0</th>\n",
       "      <td>ViliardosV</td>\n",
       "      <td>Βασίλης Βιλιάρδος</td>\n",
       "      <td>Οικονομολόγος, ΑΣΟΕΕ Αθηνών, με μεταπτυχιακά σ...</td>\n",
       "      <td>14936</td>\n",
       "      <td>3644</td>\n",
       "      <td>274</td>\n",
       "      <td>4602</td>\n",
       "      <td>False</td>\n",
       "      <td>1</td>\n",
       "    </tr>\n",
       "    <tr>\n",
       "      <th>1</th>\n",
       "      <td>anaik2020</td>\n",
       "      <td>ANASTASIA-EKATERINI ALEXOPOULOU</td>\n",
       "      <td>Βουλευτής Β1 Βόρειου Τομέα Αθηνών\\nΕΛΛΗΝΙΚΗ ΛΥ...</td>\n",
       "      <td>3314</td>\n",
       "      <td>17496</td>\n",
       "      <td>494</td>\n",
       "      <td>394</td>\n",
       "      <td>False</td>\n",
       "      <td>1</td>\n",
       "    </tr>\n",
       "    <tr>\n",
       "      <th>2</th>\n",
       "      <td>MariaAt03902914</td>\n",
       "      <td>Maria Athanasiou- ΕΛΛΗΝΙΚΗ ΛΥΣΗ</td>\n",
       "      <td>Ελληνική Λύση</td>\n",
       "      <td>4825</td>\n",
       "      <td>11018</td>\n",
       "      <td>84</td>\n",
       "      <td>192</td>\n",
       "      <td>False</td>\n",
       "      <td>1</td>\n",
       "    </tr>\n",
       "    <tr>\n",
       "      <th>3</th>\n",
       "      <td>B3Vagenas</td>\n",
       "      <td>Δημητρης Βαγενας</td>\n",
       "      <td>Βουλευτής Νότιου Τομέα Αθηνών Β3 Ελληνικής Λύσ...</td>\n",
       "      <td>42</td>\n",
       "      <td>274</td>\n",
       "      <td>35</td>\n",
       "      <td>46</td>\n",
       "      <td>False</td>\n",
       "      <td>1</td>\n",
       "    </tr>\n",
       "    <tr>\n",
       "      <th>4</th>\n",
       "      <td>SofAsimak</td>\n",
       "      <td>ΣΟΦΙΑ ΑΣΗΜΑΚΟΠΟΥΛΟΥ - ΕΛΛΗΝΙΚΗ ΛΥΣΗ</td>\n",
       "      <td></td>\n",
       "      <td>8975</td>\n",
       "      <td>422</td>\n",
       "      <td>860</td>\n",
       "      <td>360</td>\n",
       "      <td>False</td>\n",
       "      <td>1</td>\n",
       "    </tr>\n",
       "  </tbody>\n",
       "</table>\n",
       "</div>"
      ],
      "text/plain": [
       "       screen_name                                 name  \\\n",
       "0       ViliardosV                    Βασίλης Βιλιάρδος   \n",
       "1        anaik2020      ANASTASIA-EKATERINI ALEXOPOULOU   \n",
       "2  MariaAt03902914      Maria Athanasiou- ΕΛΛΗΝΙΚΗ ΛΥΣΗ   \n",
       "3        B3Vagenas                     Δημητρης Βαγενας   \n",
       "4        SofAsimak  ΣΟΦΙΑ ΑΣΗΜΑΚΟΠΟΥΛΟΥ - ΕΛΛΗΝΙΚΗ ΛΥΣΗ   \n",
       "\n",
       "                                         description  statuses_count  \\\n",
       "0  Οικονομολόγος, ΑΣΟΕΕ Αθηνών, με μεταπτυχιακά σ...           14936   \n",
       "1  Βουλευτής Β1 Βόρειου Τομέα Αθηνών\\nΕΛΛΗΝΙΚΗ ΛΥ...            3314   \n",
       "2                                      Ελληνική Λύση            4825   \n",
       "3  Βουλευτής Νότιου Τομέα Αθηνών Β3 Ελληνικής Λύσ...              42   \n",
       "4                                                               8975   \n",
       "\n",
       "   favourites_count  friends_count  followers_count  default_profile_image  \\\n",
       "0              3644            274             4602                  False   \n",
       "1             17496            494              394                  False   \n",
       "2             11018             84              192                  False   \n",
       "3               274             35               46                  False   \n",
       "4               422            860              360                  False   \n",
       "\n",
       "   parliament_member  \n",
       "0                  1  \n",
       "1                  1  \n",
       "2                  1  \n",
       "3                  1  \n",
       "4                  1  "
      ]
     },
     "execution_count": 5,
     "metadata": {},
     "output_type": "execute_result"
    }
   ],
   "source": [
    "politicians = pd.DataFrame(results)\n",
    "politicians.columns = ['screen_name', 'name', 'description', 'statuses_count', 'favourites_count', 'friends_count', 'followers_count', 'default_profile_image']\n",
    "politicians['parliament_member'] = [1 for i in range(len(politicians))]\n",
    "politicians.head(5)"
   ]
  },
  {
   "cell_type": "code",
   "execution_count": 22,
   "id": "defensive-teacher",
   "metadata": {},
   "outputs": [
    {
     "data": {
      "text/plain": [
       "240"
      ]
     },
     "execution_count": 22,
     "metadata": {},
     "output_type": "execute_result"
    }
   ],
   "source": [
    "len(politicians)"
   ]
  },
  {
   "cell_type": "markdown",
   "id": "pregnant-transition",
   "metadata": {},
   "source": [
    "### Step 2\n",
    "We use each politician's surname as a query for the search_users endpoint, to collect non-politician accounts.<br>\n",
    "First, for each query, we keep the first three accounts returned by the endpoint. Next we remove the politicians <br>\n",
    "accounts from the results and than we extract the same information we extracted for the politicians and label them with 0.<br>\n",
    "Than we keep all account with a description and append accounts without descriptions until we have 240 accounts that possibly<br>\n",
    "are not members of the parliament. To be sure we export this accounts to a .csv file, and check if there are any politicians <br>\n",
    "if there are we remove them."
   ]
  },
  {
   "cell_type": "code",
   "execution_count": 13,
   "id": "polar-aerospace",
   "metadata": {
    "jupyter": {
     "source_hidden": true
    }
   },
   "outputs": [
    {
     "data": {
      "application/vnd.jupyter.widget-view+json": {
       "model_id": "c9b817cb94374f91a32802b6f3a220b1",
       "version_major": 2,
       "version_minor": 0
      },
      "text/plain": [
       "  0%|          | 0/242 [00:00<?, ?it/s]"
      ]
     },
     "metadata": {},
     "output_type": "display_data"
    }
   ],
   "source": [
    "se = TwitterSearchEngine(twitter_credentials)\n",
    "queries = list(df['Surname'])\n",
    "results_fullnames = pd.DataFrame()\n",
    "count = 2\n",
    "\n",
    "for query in tqdm(queries):\n",
    "    if query:\n",
    "        try:\n",
    "            se.search(query=query, count=count)\n",
    "            result = se.get_results()\n",
    "            results_fullnames = results_fullnames.append(result)\n",
    "        except tweepy.RateLimitError as err:\n",
    "            print('Rate Limit Hit! Sleeping for 15mins.')\n",
    "            time.sleep(60*15)\n",
    "            se.search(query=query, count=count)\n",
    "            result = se.get_results()\n",
    "            results_fullnames = results_fullnames.append(result)"
   ]
  },
  {
   "cell_type": "code",
   "execution_count": 15,
   "id": "crude-ballet",
   "metadata": {
    "jupyter": {
     "source_hidden": true
    }
   },
   "outputs": [
    {
     "data": {
      "text/plain": [
       "466"
      ]
     },
     "execution_count": 15,
     "metadata": {},
     "output_type": "execute_result"
    }
   ],
   "source": [
    "res1 = list(results_fullnames['Result 1'])\n",
    "res2 = list(results_fullnames['Result 2'])\n",
    "res3 = list(results_fullnames['Result 3'])\n",
    "res = list(set(res1 + res2 + res3))\n",
    "\n",
    "to_remove = list(df['Twitter Handle'])\n",
    "to_remove = to_remove + [np.nan]\n",
    "\n",
    "for item in to_remove:\n",
    "    if item in res:\n",
    "        res.remove(item)\n",
    "\n",
    "len(res)"
   ]
  },
  {
   "cell_type": "code",
   "execution_count": 16,
   "id": "given-booth",
   "metadata": {
    "jupyter": {
     "source_hidden": true
    }
   },
   "outputs": [
    {
     "data": {
      "application/vnd.jupyter.widget-view+json": {
       "model_id": "c3a7989a01b44a5aa6469255845d6076",
       "version_major": 2,
       "version_minor": 0
      },
      "text/plain": [
       "  0%|          | 0/466 [00:00<?, ?it/s]"
      ]
     },
     "metadata": {},
     "output_type": "display_data"
    }
   ],
   "source": [
    "failed = []\n",
    "results = []\n",
    "\n",
    "for account in tqdm(res):\n",
    "    try:\n",
    "        user = API.get_user(account)\n",
    "        results.append(\n",
    "            [user.screen_name, user.name, user.description ,user.statuses_count, user.favourites_count, \n",
    "             user.friends_count, user.followers_count, user.default_profile_image])\n",
    "    except tweepy.RateLimitError as err:\n",
    "        print('Rate Limit Hit. Wait 15 min.')\n",
    "        time.sleep(60*15)\n",
    "        \n",
    "    except Exception as err:\n",
    "        print(f'Unknown error: {err}')\n",
    "        failed.append(account)"
   ]
  },
  {
   "cell_type": "code",
   "execution_count": 34,
   "id": "qualified-organization",
   "metadata": {
    "jupyter": {
     "source_hidden": true
    }
   },
   "outputs": [],
   "source": [
    "not_pol = pd.DataFrame(results)\n",
    "not_pol.columns = ['screen_name', 'name', 'description', 'statuses_count', 'favourites_count', 'friends_count', 'followers_count', 'default_profile_image']\n",
    "not_pol['parliament_member'] = [0 for i in range(len(not_pol))]"
   ]
  },
  {
   "cell_type": "code",
   "execution_count": 35,
   "id": "through-wisdom",
   "metadata": {
    "collapsed": true,
    "jupyter": {
     "outputs_hidden": true
    }
   },
   "outputs": [
    {
     "data": {
      "text/plain": [
       "206"
      ]
     },
     "execution_count": 35,
     "metadata": {},
     "output_type": "execute_result"
    }
   ],
   "source": [
    "not_pol_desc = not_pol[not_pol['description'] != '']\n",
    "len(not_pol_desc)"
   ]
  },
  {
   "cell_type": "code",
   "execution_count": 36,
   "id": "passing-equation",
   "metadata": {
    "jupyter": {
     "source_hidden": true
    }
   },
   "outputs": [],
   "source": [
    "not_pol_no = not_pol[not_pol['description'] == '']"
   ]
  },
  {
   "cell_type": "code",
   "execution_count": 37,
   "id": "rocky-bidding",
   "metadata": {
    "collapsed": true,
    "jupyter": {
     "outputs_hidden": true,
     "source_hidden": true
    }
   },
   "outputs": [
    {
     "data": {
      "text/plain": [
       "240"
      ]
     },
     "execution_count": 37,
     "metadata": {},
     "output_type": "execute_result"
    }
   ],
   "source": [
    "not_pol_desc = not_pol_desc.append(not_pol_no.iloc[:(240-206)])\n",
    "len(not_pol_desc)"
   ]
  },
  {
   "cell_type": "code",
   "execution_count": 41,
   "id": "revised-mapping",
   "metadata": {
    "jupyter": {
     "source_hidden": true
    }
   },
   "outputs": [],
   "source": [
    "not_pol_desc.to_csv('not_parliament_members.csv', index = False)"
   ]
  },
  {
   "cell_type": "code",
   "execution_count": 66,
   "id": "stuck-margin",
   "metadata": {},
   "outputs": [
    {
     "data": {
      "text/plain": [
       "203"
      ]
     },
     "execution_count": 66,
     "metadata": {},
     "output_type": "execute_result"
    }
   ],
   "source": [
    "not_pol_desc = pd.read_csv('not_parliament_members_processed.csv', delimiter=';')\n",
    "not_pol_desc.replace(np.nan, '', inplace=True)\n",
    "len(not_pol_desc)"
   ]
  },
  {
   "cell_type": "markdown",
   "id": "caring-remove",
   "metadata": {},
   "source": [
    "### Step 3\n",
    "We merge our results to create a training and a validation set.<br>\n",
    "First we shuffle each of the dataset we are going to merge.\n"
   ]
  },
  {
   "cell_type": "code",
   "execution_count": 67,
   "id": "loving-defense",
   "metadata": {},
   "outputs": [
    {
     "data": {
      "text/plain": [
       "203"
      ]
     },
     "execution_count": 67,
     "metadata": {},
     "output_type": "execute_result"
    }
   ],
   "source": [
    "not_pol_desc = not_pol_desc.sample(frac=1).reset_index(drop=True)\n",
    "len(not_pol_desc)"
   ]
  },
  {
   "cell_type": "code",
   "execution_count": 68,
   "id": "coated-sunglasses",
   "metadata": {},
   "outputs": [],
   "source": [
    "politicians = politicians.sample(frac=1).reset_index(drop=True)"
   ]
  },
  {
   "cell_type": "code",
   "execution_count": 69,
   "id": "advisory-convertible",
   "metadata": {},
   "outputs": [],
   "source": [
    "validation_set = politicians.iloc[:50].copy(1)\n",
    "validation_set = validation_set.append(not_pol_desc.iloc[:50])"
   ]
  },
  {
   "cell_type": "code",
   "execution_count": 72,
   "id": "common-background",
   "metadata": {},
   "outputs": [],
   "source": [
    "training_set = politicians.iloc[50:].copy(1)\n",
    "training_set = training_set.append(not_pol_desc.iloc[50:])"
   ]
  },
  {
   "cell_type": "code",
   "execution_count": 74,
   "id": "freelance-wireless",
   "metadata": {},
   "outputs": [
    {
     "data": {
      "text/plain": [
       "343"
      ]
     },
     "execution_count": 74,
     "metadata": {},
     "output_type": "execute_result"
    }
   ],
   "source": [
    "len(training_set)"
   ]
  },
  {
   "cell_type": "code",
   "execution_count": 75,
   "id": "tender-richmond",
   "metadata": {},
   "outputs": [
    {
     "data": {
      "text/plain": [
       "parliament_member\n",
       "0    153\n",
       "1    190\n",
       "dtype: int64"
      ]
     },
     "execution_count": 75,
     "metadata": {},
     "output_type": "execute_result"
    }
   ],
   "source": [
    "training_set.pivot_table(index=['parliament_member'], aggfunc='size')"
   ]
  },
  {
   "cell_type": "code",
   "execution_count": 76,
   "id": "ongoing-bride",
   "metadata": {},
   "outputs": [
    {
     "data": {
      "text/plain": [
       "parliament_member\n",
       "0    150\n",
       "1    150\n",
       "dtype: int64"
      ]
     },
     "execution_count": 76,
     "metadata": {},
     "output_type": "execute_result"
    }
   ],
   "source": [
    "training_set = (training_set.groupby('parliament_member', as_index=False)\n",
    "        .apply(lambda x: x.sample(n=150))\n",
    "        .reset_index(drop=True))\n",
    "training_set.pivot_table(index=['parliament_member'], aggfunc='size')"
   ]
  },
  {
   "cell_type": "code",
   "execution_count": 79,
   "id": "further-standing",
   "metadata": {},
   "outputs": [],
   "source": [
    "validation_set.to_csv('parliament_members_validation_set.csv', index=False)\n",
    "training_set.to_csv('parliament_members_training_set.csv', index=False)"
   ]
  },
  {
   "cell_type": "code",
   "execution_count": null,
   "id": "finite-bargain",
   "metadata": {},
   "outputs": [],
   "source": []
  }
 ],
 "metadata": {
  "kernelspec": {
   "display_name": "Python 3",
   "language": "python",
   "name": "python3"
  },
  "language_info": {
   "codemirror_mode": {
    "name": "ipython",
    "version": 3
   },
   "file_extension": ".py",
   "mimetype": "text/x-python",
   "name": "python",
   "nbconvert_exporter": "python",
   "pygments_lexer": "ipython3",
   "version": "3.8.5"
  }
 },
 "nbformat": 4,
 "nbformat_minor": 5
}
